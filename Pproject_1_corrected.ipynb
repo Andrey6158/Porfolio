{
 "cells": [
  {
   "cell_type": "markdown",
   "id": "386f2ae7",
   "metadata": {
    "deletable": false,
    "editable": false,
    "id": "386f2ae7"
   },
   "source": [
    "# Исследование надежности заемщиков\n"
   ]
  },
  {
   "cell_type": "markdown",
   "id": "ffe86f65",
   "metadata": {
    "deletable": false,
    "editable": false,
    "id": "ffe86f65"
   },
   "source": [
    "Во второй части проекта вы выполните шаги 3 и 4. Их вручную проверит ревьюер.\n",
    "Чтобы вам не пришлось писать код заново для шагов 1 и 2, мы добавили авторские решения в ячейки с кодом. \n",
    "\n"
   ]
  },
  {
   "cell_type": "markdown",
   "id": "26613308",
   "metadata": {
    "deletable": false,
    "editable": false,
    "id": "26613308"
   },
   "source": [
    "## Откройте таблицу и изучите общую информацию о данных"
   ]
  },
  {
   "cell_type": "markdown",
   "id": "3c9f838e",
   "metadata": {
    "deletable": false,
    "editable": false,
    "id": "3c9f838e"
   },
   "source": [
    "**Задание 1. Импортируйте библиотеку pandas. Считайте данные из csv-файла в датафрейм и сохраните в переменную `data`. Путь к файлу:**\n",
    "\n",
    "`/datasets/data.csv`"
   ]
  },
  {
   "cell_type": "code",
   "execution_count": 1730,
   "id": "77a68a90",
   "metadata": {
    "deletable": false,
    "id": "77a68a90"
   },
   "outputs": [],
   "source": [
    "import pandas as pd\n",
    "\n",
    "try:\n",
    "    data = pd.read_csv('/datasets/data.csv')\n",
    "except:\n",
    "    data = pd.read_csv('https://code.s3.yandex.net/datasets/data.csv')"
   ]
  },
  {
   "cell_type": "markdown",
   "id": "45365635",
   "metadata": {
    "deletable": false,
    "editable": false,
    "id": "45365635"
   },
   "source": [
    "**Задание 2. Выведите первые 20 строчек датафрейма `data` на экран.**"
   ]
  },
  {
   "cell_type": "code",
   "execution_count": 1731,
   "id": "b0451a9a",
   "metadata": {
    "deletable": false,
    "id": "b0451a9a",
    "outputId": "1a8f3ef2-d323-4ec2-ddf7-89670b5944c4"
   },
   "outputs": [
    {
     "data": {
      "text/html": [
       "<div>\n",
       "<style scoped>\n",
       "    .dataframe tbody tr th:only-of-type {\n",
       "        vertical-align: middle;\n",
       "    }\n",
       "\n",
       "    .dataframe tbody tr th {\n",
       "        vertical-align: top;\n",
       "    }\n",
       "\n",
       "    .dataframe thead th {\n",
       "        text-align: right;\n",
       "    }\n",
       "</style>\n",
       "<table border=\"1\" class=\"dataframe\">\n",
       "  <thead>\n",
       "    <tr style=\"text-align: right;\">\n",
       "      <th></th>\n",
       "      <th>children</th>\n",
       "      <th>days_employed</th>\n",
       "      <th>dob_years</th>\n",
       "      <th>education</th>\n",
       "      <th>education_id</th>\n",
       "      <th>family_status</th>\n",
       "      <th>family_status_id</th>\n",
       "      <th>gender</th>\n",
       "      <th>income_type</th>\n",
       "      <th>debt</th>\n",
       "      <th>total_income</th>\n",
       "      <th>purpose</th>\n",
       "    </tr>\n",
       "  </thead>\n",
       "  <tbody>\n",
       "    <tr>\n",
       "      <th>0</th>\n",
       "      <td>1</td>\n",
       "      <td>-8437.673028</td>\n",
       "      <td>42</td>\n",
       "      <td>высшее</td>\n",
       "      <td>0</td>\n",
       "      <td>женат / замужем</td>\n",
       "      <td>0</td>\n",
       "      <td>F</td>\n",
       "      <td>сотрудник</td>\n",
       "      <td>0</td>\n",
       "      <td>253875.639453</td>\n",
       "      <td>покупка жилья</td>\n",
       "    </tr>\n",
       "    <tr>\n",
       "      <th>1</th>\n",
       "      <td>1</td>\n",
       "      <td>-4024.803754</td>\n",
       "      <td>36</td>\n",
       "      <td>среднее</td>\n",
       "      <td>1</td>\n",
       "      <td>женат / замужем</td>\n",
       "      <td>0</td>\n",
       "      <td>F</td>\n",
       "      <td>сотрудник</td>\n",
       "      <td>0</td>\n",
       "      <td>112080.014102</td>\n",
       "      <td>приобретение автомобиля</td>\n",
       "    </tr>\n",
       "    <tr>\n",
       "      <th>2</th>\n",
       "      <td>0</td>\n",
       "      <td>-5623.422610</td>\n",
       "      <td>33</td>\n",
       "      <td>Среднее</td>\n",
       "      <td>1</td>\n",
       "      <td>женат / замужем</td>\n",
       "      <td>0</td>\n",
       "      <td>M</td>\n",
       "      <td>сотрудник</td>\n",
       "      <td>0</td>\n",
       "      <td>145885.952297</td>\n",
       "      <td>покупка жилья</td>\n",
       "    </tr>\n",
       "    <tr>\n",
       "      <th>3</th>\n",
       "      <td>3</td>\n",
       "      <td>-4124.747207</td>\n",
       "      <td>32</td>\n",
       "      <td>среднее</td>\n",
       "      <td>1</td>\n",
       "      <td>женат / замужем</td>\n",
       "      <td>0</td>\n",
       "      <td>M</td>\n",
       "      <td>сотрудник</td>\n",
       "      <td>0</td>\n",
       "      <td>267628.550329</td>\n",
       "      <td>дополнительное образование</td>\n",
       "    </tr>\n",
       "    <tr>\n",
       "      <th>4</th>\n",
       "      <td>0</td>\n",
       "      <td>340266.072047</td>\n",
       "      <td>53</td>\n",
       "      <td>среднее</td>\n",
       "      <td>1</td>\n",
       "      <td>гражданский брак</td>\n",
       "      <td>1</td>\n",
       "      <td>F</td>\n",
       "      <td>пенсионер</td>\n",
       "      <td>0</td>\n",
       "      <td>158616.077870</td>\n",
       "      <td>сыграть свадьбу</td>\n",
       "    </tr>\n",
       "  </tbody>\n",
       "</table>\n",
       "</div>"
      ],
      "text/plain": [
       "   children  days_employed  dob_years education  education_id  \\\n",
       "0         1   -8437.673028         42    высшее             0   \n",
       "1         1   -4024.803754         36   среднее             1   \n",
       "2         0   -5623.422610         33   Среднее             1   \n",
       "3         3   -4124.747207         32   среднее             1   \n",
       "4         0  340266.072047         53   среднее             1   \n",
       "\n",
       "      family_status  family_status_id gender income_type  debt   total_income  \\\n",
       "0   женат / замужем                 0      F   сотрудник     0  253875.639453   \n",
       "1   женат / замужем                 0      F   сотрудник     0  112080.014102   \n",
       "2   женат / замужем                 0      M   сотрудник     0  145885.952297   \n",
       "3   женат / замужем                 0      M   сотрудник     0  267628.550329   \n",
       "4  гражданский брак                 1      F   пенсионер     0  158616.077870   \n",
       "\n",
       "                      purpose  \n",
       "0               покупка жилья  \n",
       "1     приобретение автомобиля  \n",
       "2               покупка жилья  \n",
       "3  дополнительное образование  \n",
       "4             сыграть свадьбу  "
      ]
     },
     "execution_count": 1731,
     "metadata": {},
     "output_type": "execute_result"
    }
   ],
   "source": [
    "data.head()"
   ]
  },
  {
   "cell_type": "markdown",
   "id": "0ed8f27f",
   "metadata": {
    "deletable": false,
    "editable": false,
    "id": "0ed8f27f"
   },
   "source": [
    "**Задание 3. Выведите основную информацию о датафрейме с помощью метода `info()`.**"
   ]
  },
  {
   "cell_type": "code",
   "execution_count": 1732,
   "id": "ab3f863b",
   "metadata": {
    "deletable": false,
    "id": "ab3f863b",
    "outputId": "15376089-8dad-46c9-b520-c05248d43158",
    "scrolled": true
   },
   "outputs": [
    {
     "name": "stdout",
     "output_type": "stream",
     "text": [
      "<class 'pandas.core.frame.DataFrame'>\n",
      "RangeIndex: 21525 entries, 0 to 21524\n",
      "Data columns (total 12 columns):\n",
      " #   Column            Non-Null Count  Dtype  \n",
      "---  ------            --------------  -----  \n",
      " 0   children          21525 non-null  int64  \n",
      " 1   days_employed     19351 non-null  float64\n",
      " 2   dob_years         21525 non-null  int64  \n",
      " 3   education         21525 non-null  object \n",
      " 4   education_id      21525 non-null  int64  \n",
      " 5   family_status     21525 non-null  object \n",
      " 6   family_status_id  21525 non-null  int64  \n",
      " 7   gender            21525 non-null  object \n",
      " 8   income_type       21525 non-null  object \n",
      " 9   debt              21525 non-null  int64  \n",
      " 10  total_income      19351 non-null  float64\n",
      " 11  purpose           21525 non-null  object \n",
      "dtypes: float64(2), int64(5), object(5)\n",
      "memory usage: 2.0+ MB\n"
     ]
    }
   ],
   "source": [
    "data.info()"
   ]
  },
  {
   "cell_type": "markdown",
   "id": "60e3e22d",
   "metadata": {
    "deletable": false,
    "editable": false,
    "id": "60e3e22d"
   },
   "source": [
    "## Предобработка данных"
   ]
  },
  {
   "cell_type": "markdown",
   "id": "03dc170c",
   "metadata": {
    "deletable": false,
    "editable": false,
    "id": "03dc170c"
   },
   "source": [
    "### Удаление пропусков"
   ]
  },
  {
   "cell_type": "markdown",
   "id": "a4f54eef",
   "metadata": {
    "deletable": false,
    "editable": false,
    "id": "a4f54eef"
   },
   "source": [
    "**Задание 4. Выведите количество пропущенных значений для каждого столбца. Используйте комбинацию двух методов.**"
   ]
  },
  {
   "cell_type": "code",
   "execution_count": 1733,
   "id": "2dc372b2",
   "metadata": {
    "deletable": false,
    "id": "2dc372b2",
    "outputId": "81f4d817-781c-465c-ed15-91ce4446810d",
    "scrolled": false
   },
   "outputs": [
    {
     "data": {
      "text/plain": [
       "children               0\n",
       "days_employed       2174\n",
       "dob_years              0\n",
       "education              0\n",
       "education_id           0\n",
       "family_status          0\n",
       "family_status_id       0\n",
       "gender                 0\n",
       "income_type            0\n",
       "debt                   0\n",
       "total_income        2174\n",
       "purpose                0\n",
       "dtype: int64"
      ]
     },
     "execution_count": 1733,
     "metadata": {},
     "output_type": "execute_result"
    }
   ],
   "source": [
    "data.isna().sum()"
   ]
  },
  {
   "cell_type": "code",
   "execution_count": 1735,
   "id": "f1d8ac20",
   "metadata": {},
   "outputs": [
    {
     "data": {
      "text/html": [
       "<div>\n",
       "<style scoped>\n",
       "    .dataframe tbody tr th:only-of-type {\n",
       "        vertical-align: middle;\n",
       "    }\n",
       "\n",
       "    .dataframe tbody tr th {\n",
       "        vertical-align: top;\n",
       "    }\n",
       "\n",
       "    .dataframe thead th {\n",
       "        text-align: right;\n",
       "    }\n",
       "</style>\n",
       "<table border=\"1\" class=\"dataframe\">\n",
       "  <thead>\n",
       "    <tr style=\"text-align: right;\">\n",
       "      <th></th>\n",
       "      <th>children</th>\n",
       "      <th>days_employed</th>\n",
       "      <th>dob_years</th>\n",
       "      <th>education</th>\n",
       "      <th>education_id</th>\n",
       "      <th>family_status</th>\n",
       "      <th>family_status_id</th>\n",
       "      <th>gender</th>\n",
       "      <th>income_type</th>\n",
       "      <th>debt</th>\n",
       "      <th>total_income</th>\n",
       "      <th>purpose</th>\n",
       "    </tr>\n",
       "  </thead>\n",
       "  <tbody>\n",
       "    <tr>\n",
       "      <th>0</th>\n",
       "      <td>1</td>\n",
       "      <td>-8437.673028</td>\n",
       "      <td>42</td>\n",
       "      <td>высшее</td>\n",
       "      <td>0</td>\n",
       "      <td>женат / замужем</td>\n",
       "      <td>0</td>\n",
       "      <td>F</td>\n",
       "      <td>сотрудник</td>\n",
       "      <td>0</td>\n",
       "      <td>253875.639453</td>\n",
       "      <td>покупка жилья</td>\n",
       "    </tr>\n",
       "    <tr>\n",
       "      <th>1</th>\n",
       "      <td>1</td>\n",
       "      <td>-4024.803754</td>\n",
       "      <td>36</td>\n",
       "      <td>среднее</td>\n",
       "      <td>1</td>\n",
       "      <td>женат / замужем</td>\n",
       "      <td>0</td>\n",
       "      <td>F</td>\n",
       "      <td>сотрудник</td>\n",
       "      <td>0</td>\n",
       "      <td>112080.014102</td>\n",
       "      <td>приобретение автомобиля</td>\n",
       "    </tr>\n",
       "    <tr>\n",
       "      <th>2</th>\n",
       "      <td>0</td>\n",
       "      <td>-5623.422610</td>\n",
       "      <td>33</td>\n",
       "      <td>Среднее</td>\n",
       "      <td>1</td>\n",
       "      <td>женат / замужем</td>\n",
       "      <td>0</td>\n",
       "      <td>M</td>\n",
       "      <td>сотрудник</td>\n",
       "      <td>0</td>\n",
       "      <td>145885.952297</td>\n",
       "      <td>покупка жилья</td>\n",
       "    </tr>\n",
       "    <tr>\n",
       "      <th>3</th>\n",
       "      <td>3</td>\n",
       "      <td>-4124.747207</td>\n",
       "      <td>32</td>\n",
       "      <td>среднее</td>\n",
       "      <td>1</td>\n",
       "      <td>женат / замужем</td>\n",
       "      <td>0</td>\n",
       "      <td>M</td>\n",
       "      <td>сотрудник</td>\n",
       "      <td>0</td>\n",
       "      <td>267628.550329</td>\n",
       "      <td>дополнительное образование</td>\n",
       "    </tr>\n",
       "    <tr>\n",
       "      <th>4</th>\n",
       "      <td>0</td>\n",
       "      <td>340266.072047</td>\n",
       "      <td>53</td>\n",
       "      <td>среднее</td>\n",
       "      <td>1</td>\n",
       "      <td>гражданский брак</td>\n",
       "      <td>1</td>\n",
       "      <td>F</td>\n",
       "      <td>пенсионер</td>\n",
       "      <td>0</td>\n",
       "      <td>158616.077870</td>\n",
       "      <td>сыграть свадьбу</td>\n",
       "    </tr>\n",
       "  </tbody>\n",
       "</table>\n",
       "</div>"
      ],
      "text/plain": [
       "   children  days_employed  dob_years education  education_id  \\\n",
       "0         1   -8437.673028         42    высшее             0   \n",
       "1         1   -4024.803754         36   среднее             1   \n",
       "2         0   -5623.422610         33   Среднее             1   \n",
       "3         3   -4124.747207         32   среднее             1   \n",
       "4         0  340266.072047         53   среднее             1   \n",
       "\n",
       "      family_status  family_status_id gender income_type  debt   total_income  \\\n",
       "0   женат / замужем                 0      F   сотрудник     0  253875.639453   \n",
       "1   женат / замужем                 0      F   сотрудник     0  112080.014102   \n",
       "2   женат / замужем                 0      M   сотрудник     0  145885.952297   \n",
       "3   женат / замужем                 0      M   сотрудник     0  267628.550329   \n",
       "4  гражданский брак                 1      F   пенсионер     0  158616.077870   \n",
       "\n",
       "                      purpose  \n",
       "0               покупка жилья  \n",
       "1     приобретение автомобиля  \n",
       "2               покупка жилья  \n",
       "3  дополнительное образование  \n",
       "4             сыграть свадьбу  "
      ]
     },
     "execution_count": 1735,
     "metadata": {},
     "output_type": "execute_result"
    }
   ],
   "source": [
    "data.head()"
   ]
  },
  {
   "cell_type": "code",
   "execution_count": null,
   "id": "aa2a91a9",
   "metadata": {},
   "outputs": [],
   "source": []
  },
  {
   "cell_type": "code",
   "execution_count": null,
   "id": "837ec6c6",
   "metadata": {},
   "outputs": [],
   "source": []
  },
  {
   "cell_type": "markdown",
   "id": "14f011b1",
   "metadata": {
    "deletable": false,
    "editable": false,
    "id": "14f011b1"
   },
   "source": [
    "**Задание 5. В двух столбцах есть пропущенные значения. Один из них — `days_employed`. Пропуски в этом столбце вы обработаете на следующем этапе. Другой столбец с пропущенными значениями — `total_income` — хранит данные о доходах. На сумму дохода сильнее всего влияет тип занятости, поэтому заполнить пропуски в этом столбце нужно медианным значением по каждому типу из столбца `income_type`. Например, у человека с типом занятости `сотрудник` пропуск в столбце `total_income` должен быть заполнен медианным доходом среди всех записей с тем же типом.**"
   ]
  },
  {
   "cell_type": "code",
   "execution_count": 1702,
   "id": "e1bce38e",
   "metadata": {},
   "outputs": [
    {
     "data": {
      "text/plain": [
       "array(['сотрудник', 'пенсионер', 'компаньон', 'госслужащий',\n",
       "       'безработный', 'предприниматель', 'студент', 'в декрете'],\n",
       "      dtype=object)"
      ]
     },
     "execution_count": 1702,
     "metadata": {},
     "output_type": "execute_result"
    }
   ],
   "source": [
    "data['income_type'].unique()\n"
   ]
  },
  {
   "cell_type": "code",
   "execution_count": 1703,
   "id": "bdabfb6e",
   "metadata": {
    "deletable": false,
    "id": "bdabfb6e"
   },
   "outputs": [],
   "source": [
    "for t in data['income_type'].unique():\n",
    "    data.loc[(data['income_type'] == t) & (data['total_income'].isna()), 'total_income'] = \\\n",
    "    data.loc[(data['income_type'] == t), 'total_income'].median()"
   ]
  },
  {
   "cell_type": "code",
   "execution_count": 1704,
   "id": "ec8e2275",
   "metadata": {},
   "outputs": [
    {
     "data": {
      "text/plain": [
       "children               0\n",
       "days_employed       2174\n",
       "dob_years              0\n",
       "education              0\n",
       "education_id           0\n",
       "family_status          0\n",
       "family_status_id       0\n",
       "gender                 0\n",
       "income_type            0\n",
       "debt                   0\n",
       "total_income           0\n",
       "purpose                0\n",
       "dtype: int64"
      ]
     },
     "execution_count": 1704,
     "metadata": {},
     "output_type": "execute_result"
    }
   ],
   "source": [
    "data.isna().sum()"
   ]
  },
  {
   "cell_type": "markdown",
   "id": "5be34059",
   "metadata": {
    "deletable": false,
    "editable": false,
    "id": "5be34059"
   },
   "source": [
    "### Обработка аномальных значений"
   ]
  },
  {
   "cell_type": "markdown",
   "id": "a87606cb",
   "metadata": {
    "deletable": false,
    "editable": false,
    "id": "a87606cb"
   },
   "source": [
    "**Задание 6. В данных могут встречаться артефакты (аномалии) — значения, которые не отражают действительность и появились по какой-то ошибке. таким артефактом будет отрицательное количество дней трудового стажа в столбце `days_employed`. Для реальных данных это нормально. Обработайте значения в этом столбце: замените все отрицательные значения положительными с помощью метода `abs()`.**"
   ]
  },
  {
   "cell_type": "code",
   "execution_count": 1705,
   "id": "020c46cc",
   "metadata": {
    "deletable": false,
    "id": "020c46cc"
   },
   "outputs": [],
   "source": [
    "data['days_employed'] = data['days_employed'].abs()"
   ]
  },
  {
   "cell_type": "markdown",
   "id": "45538a3a",
   "metadata": {
    "deletable": false,
    "editable": false,
    "id": "45538a3a"
   },
   "source": [
    "**Задание 7. Для каждого типа занятости выведите медианное значение трудового стажа `days_employed` в днях.**"
   ]
  },
  {
   "cell_type": "code",
   "execution_count": 1706,
   "id": "cd3e6328",
   "metadata": {
    "deletable": false,
    "id": "cd3e6328",
    "outputId": "801ef80e-522b-4668-f34e-565af7432bcf",
    "scrolled": false
   },
   "outputs": [
    {
     "data": {
      "text/html": [
       "<div>\n",
       "<style scoped>\n",
       "    .dataframe tbody tr th:only-of-type {\n",
       "        vertical-align: middle;\n",
       "    }\n",
       "\n",
       "    .dataframe tbody tr th {\n",
       "        vertical-align: top;\n",
       "    }\n",
       "\n",
       "    .dataframe thead th {\n",
       "        text-align: right;\n",
       "    }\n",
       "</style>\n",
       "<table border=\"1\" class=\"dataframe\">\n",
       "  <thead>\n",
       "    <tr style=\"text-align: right;\">\n",
       "      <th></th>\n",
       "      <th>median</th>\n",
       "    </tr>\n",
       "    <tr>\n",
       "      <th>income_type</th>\n",
       "      <th></th>\n",
       "    </tr>\n",
       "  </thead>\n",
       "  <tbody>\n",
       "    <tr>\n",
       "      <th>безработный</th>\n",
       "      <td>366413.652744</td>\n",
       "    </tr>\n",
       "    <tr>\n",
       "      <th>в декрете</th>\n",
       "      <td>3296.759962</td>\n",
       "    </tr>\n",
       "    <tr>\n",
       "      <th>госслужащий</th>\n",
       "      <td>2689.368353</td>\n",
       "    </tr>\n",
       "    <tr>\n",
       "      <th>компаньон</th>\n",
       "      <td>1547.382223</td>\n",
       "    </tr>\n",
       "    <tr>\n",
       "      <th>пенсионер</th>\n",
       "      <td>365213.306266</td>\n",
       "    </tr>\n",
       "    <tr>\n",
       "      <th>предприниматель</th>\n",
       "      <td>520.848083</td>\n",
       "    </tr>\n",
       "    <tr>\n",
       "      <th>сотрудник</th>\n",
       "      <td>1574.202821</td>\n",
       "    </tr>\n",
       "    <tr>\n",
       "      <th>студент</th>\n",
       "      <td>578.751554</td>\n",
       "    </tr>\n",
       "  </tbody>\n",
       "</table>\n",
       "</div>"
      ],
      "text/plain": [
       "                        median\n",
       "income_type                   \n",
       "безработный      366413.652744\n",
       "в декрете          3296.759962\n",
       "госслужащий        2689.368353\n",
       "компаньон          1547.382223\n",
       "пенсионер        365213.306266\n",
       "предприниматель     520.848083\n",
       "сотрудник          1574.202821\n",
       "студент             578.751554"
      ]
     },
     "execution_count": 1706,
     "metadata": {},
     "output_type": "execute_result"
    }
   ],
   "source": [
    "data.groupby('income_type')['days_employed'].agg(['median'])"
   ]
  },
  {
   "cell_type": "markdown",
   "id": "90c5f058",
   "metadata": {
    "deletable": false,
    "editable": false,
    "id": "90c5f058"
   },
   "source": [
    "У двух типов (безработные и пенсионеры) получатся аномально большие значения. Исправить такие значения сложно, поэтому оставьте их как есть."
   ]
  },
  {
   "cell_type": "markdown",
   "id": "9652e50d",
   "metadata": {
    "deletable": false,
    "editable": false,
    "id": "9652e50d"
   },
   "source": [
    "**Задание 8. Выведите перечень уникальных значений столбца `children`.**"
   ]
  },
  {
   "cell_type": "code",
   "execution_count": 1707,
   "id": "dbb37b8e",
   "metadata": {
    "deletable": false,
    "id": "dbb37b8e",
    "outputId": "6975b15c-7f95-4697-d16d-a0c79b657b03"
   },
   "outputs": [
    {
     "data": {
      "text/plain": [
       "array([ 1,  0,  3,  2, -1,  4, 20,  5], dtype=int64)"
      ]
     },
     "execution_count": 1707,
     "metadata": {},
     "output_type": "execute_result"
    }
   ],
   "source": [
    "data['children'].unique()"
   ]
  },
  {
   "cell_type": "markdown",
   "id": "2b8b0715",
   "metadata": {
    "deletable": false,
    "editable": false,
    "id": "2b8b0715"
   },
   "source": [
    "**Задание 9. В столбце `children` есть два аномальных значения. Удалите строки, в которых встречаются такие аномальные значения из датафрейма `data`.**"
   ]
  },
  {
   "cell_type": "code",
   "execution_count": 1708,
   "id": "20009df8",
   "metadata": {
    "deletable": false,
    "id": "20009df8"
   },
   "outputs": [],
   "source": [
    "data = data[(data['children'] != -1) & (data['children'] != 20)]"
   ]
  },
  {
   "cell_type": "markdown",
   "id": "8c6ac9f1",
   "metadata": {
    "deletable": false,
    "editable": false,
    "id": "8c6ac9f1"
   },
   "source": [
    "**Задание 10. Ещё раз выведите перечень уникальных значений столбца `children`, чтобы убедиться, что артефакты удалены.**"
   ]
  },
  {
   "cell_type": "code",
   "execution_count": 1709,
   "id": "07337b81",
   "metadata": {
    "deletable": false,
    "id": "07337b81",
    "outputId": "b2097101-d49d-44d9-901b-32a65c9463d1"
   },
   "outputs": [
    {
     "data": {
      "text/plain": [
       "array([1, 0, 3, 2, 4, 5], dtype=int64)"
      ]
     },
     "execution_count": 1709,
     "metadata": {},
     "output_type": "execute_result"
    }
   ],
   "source": [
    "data['children'].unique()"
   ]
  },
  {
   "cell_type": "markdown",
   "id": "ee3f52d4",
   "metadata": {
    "deletable": false,
    "editable": false,
    "id": "ee3f52d4"
   },
   "source": [
    "### Удаление пропусков (продолжение)"
   ]
  },
  {
   "cell_type": "markdown",
   "id": "a700b0e4",
   "metadata": {
    "deletable": false,
    "editable": false,
    "id": "a700b0e4"
   },
   "source": [
    "**Задание 11. Заполните пропуски в столбце `days_employed` медианными значениями по каждого типа занятости `income_type`.**"
   ]
  },
  {
   "cell_type": "code",
   "execution_count": 1710,
   "id": "61946b83",
   "metadata": {
    "deletable": false,
    "id": "61946b83"
   },
   "outputs": [],
   "source": [
    "for t in data['income_type'].unique():\n",
    "    data.loc[(data['income_type'] == t) & (data['days_employed'].isna()), 'days_employed'] = \\\n",
    "    data.loc[(data['income_type'] == t), 'days_employed'].median() "
   ]
  },
  {
   "cell_type": "markdown",
   "id": "550dcd9b",
   "metadata": {
    "deletable": false,
    "editable": false,
    "id": "550dcd9b"
   },
   "source": [
    "**Задание 12. Убедитесь, что все пропуски заполнены. Проверьте себя и ещё раз выведите количество пропущенных значений для каждого столбца с помощью двух методов.**"
   ]
  },
  {
   "cell_type": "code",
   "execution_count": 1711,
   "id": "937c7014",
   "metadata": {
    "deletable": false,
    "id": "937c7014",
    "outputId": "8da1e4e1-358e-4e87-98c9-f261bce0a7b2"
   },
   "outputs": [
    {
     "data": {
      "text/plain": [
       "children            0\n",
       "days_employed       0\n",
       "dob_years           0\n",
       "education           0\n",
       "education_id        0\n",
       "family_status       0\n",
       "family_status_id    0\n",
       "gender              0\n",
       "income_type         0\n",
       "debt                0\n",
       "total_income        0\n",
       "purpose             0\n",
       "dtype: int64"
      ]
     },
     "execution_count": 1711,
     "metadata": {},
     "output_type": "execute_result"
    }
   ],
   "source": [
    "data.isna().sum()"
   ]
  },
  {
   "cell_type": "markdown",
   "id": "d522e295",
   "metadata": {
    "deletable": false,
    "editable": false,
    "id": "d522e295"
   },
   "source": [
    "### Изменение типов данных"
   ]
  },
  {
   "cell_type": "markdown",
   "id": "c229c581",
   "metadata": {
    "deletable": false,
    "editable": false,
    "id": "c229c581"
   },
   "source": [
    "**Задание 13. Замените вещественный тип данных в столбце `total_income` на целочисленный с помощью метода `astype()`.**"
   ]
  },
  {
   "cell_type": "code",
   "execution_count": 1712,
   "id": "31036462",
   "metadata": {
    "deletable": false,
    "id": "31036462"
   },
   "outputs": [],
   "source": [
    "data['total_income'] = data['total_income'].astype(int)"
   ]
  },
  {
   "cell_type": "markdown",
   "id": "b8e3d1d9",
   "metadata": {
    "deletable": false,
    "editable": false,
    "id": "b8e3d1d9"
   },
   "source": [
    "### Обработка дубликатов"
   ]
  },
  {
   "cell_type": "markdown",
   "id": "9be53c49",
   "metadata": {
    "deletable": false,
    "editable": false,
    "id": "9be53c49"
   },
   "source": [
    "**Задание 14. Обработайте неявные дубликаты в столбце `education`. В этом столбце есть одни и те же значения, но записанные по-разному: с использованием заглавных и строчных букв. Приведите их к нижнему регистру.**"
   ]
  },
  {
   "cell_type": "code",
   "execution_count": 1713,
   "id": "d89e73e1",
   "metadata": {
    "deletable": false,
    "id": "d89e73e1"
   },
   "outputs": [],
   "source": [
    "data['education'] = data['education'].str.lower()"
   ]
  },
  {
   "cell_type": "markdown",
   "id": "01d4500e",
   "metadata": {
    "deletable": false,
    "editable": false,
    "id": "01d4500e"
   },
   "source": [
    "**Задание 15. Выведите на экран количество строк-дубликатов в данных. Если такие строки присутствуют, удалите их.**"
   ]
  },
  {
   "cell_type": "code",
   "execution_count": 1714,
   "id": "e10efb23",
   "metadata": {
    "deletable": false,
    "id": "e10efb23",
    "outputId": "9684deba-1934-42d1-99e1-cda61740f822"
   },
   "outputs": [
    {
     "data": {
      "text/plain": [
       "71"
      ]
     },
     "execution_count": 1714,
     "metadata": {},
     "output_type": "execute_result"
    }
   ],
   "source": [
    "data.duplicated().sum()"
   ]
  },
  {
   "cell_type": "code",
   "execution_count": null,
   "id": "df853f20",
   "metadata": {
    "deletable": false,
    "id": "df853f20"
   },
   "outputs": [],
   "source": []
  },
  {
   "cell_type": "markdown",
   "id": "627be38f",
   "metadata": {
    "deletable": false,
    "editable": false,
    "id": "627be38f"
   },
   "source": [
    "### Категоризация данных"
   ]
  },
  {
   "cell_type": "markdown",
   "id": "4684c3e0",
   "metadata": {
    "deletable": false,
    "editable": false,
    "id": "4684c3e0"
   },
   "source": [
    "**Задание 16. На основании диапазонов, указанных ниже, создайте в датафрейме `data` столбец `total_income_category` с категориями:**\n",
    "\n",
    "- 0–30000 — `'E'`;\n",
    "- 30001–50000 — `'D'`;\n",
    "- 50001–200000 — `'C'`;\n",
    "- 200001–1000000 — `'B'`;\n",
    "- 1000001 и выше — `'A'`.\n",
    "\n",
    "\n",
    "**Например, кредитополучателю с доходом 25000 нужно назначить категорию `'E'`, а клиенту, получающему 235000, — `'B'`. Используйте собственную функцию с именем `categorize_income()` и метод `apply()`.**"
   ]
  },
  {
   "cell_type": "code",
   "execution_count": 1715,
   "id": "78965238",
   "metadata": {
    "deletable": false,
    "id": "78965238"
   },
   "outputs": [],
   "source": [
    "def categorize_income(incom):\n",
    "    if incom <= 30000:\n",
    "        return 'E'\n",
    "    elif incom <= 50000:\n",
    "        return 'D'\n",
    "    elif incom <= 200000:\n",
    "        return 'C'\n",
    "    elif incom <= 1000000:\n",
    "        return 'B'\n",
    "    return 'A'"
   ]
  },
  {
   "cell_type": "code",
   "execution_count": 1716,
   "id": "0980ada1",
   "metadata": {
    "deletable": false,
    "id": "0980ada1"
   },
   "outputs": [],
   "source": [
    "data['total_income_category'] = data['total_income'].apply(categorize_income)"
   ]
  },
  {
   "cell_type": "code",
   "execution_count": 1717,
   "id": "9f9d8ba4",
   "metadata": {},
   "outputs": [
    {
     "data": {
      "text/plain": [
       "array(['B', 'C', 'D', 'E', 'A'], dtype=object)"
      ]
     },
     "execution_count": 1717,
     "metadata": {},
     "output_type": "execute_result"
    }
   ],
   "source": [
    "data['total_income_category'].unique()"
   ]
  },
  {
   "cell_type": "markdown",
   "id": "9917bba0",
   "metadata": {
    "deletable": false,
    "editable": false,
    "id": "9917bba0"
   },
   "source": [
    "**Задание 17. Выведите на экран перечень уникальных целей взятия кредита из столбца `purpose`.**"
   ]
  },
  {
   "cell_type": "code",
   "execution_count": 1718,
   "id": "ee07b65e",
   "metadata": {
    "deletable": false,
    "id": "ee07b65e",
    "outputId": "673c12d9-7d7e-4ae0-9812-c622c89dd244"
   },
   "outputs": [
    {
     "data": {
      "text/plain": [
       "array(['покупка жилья', 'приобретение автомобиля',\n",
       "       'дополнительное образование', 'сыграть свадьбу',\n",
       "       'операции с жильем', 'образование', 'на проведение свадьбы',\n",
       "       'покупка жилья для семьи', 'покупка недвижимости',\n",
       "       'покупка коммерческой недвижимости', 'покупка жилой недвижимости',\n",
       "       'строительство собственной недвижимости', 'недвижимость',\n",
       "       'строительство недвижимости', 'на покупку подержанного автомобиля',\n",
       "       'на покупку своего автомобиля',\n",
       "       'операции с коммерческой недвижимостью',\n",
       "       'строительство жилой недвижимости', 'жилье',\n",
       "       'операции со своей недвижимостью', 'автомобили',\n",
       "       'заняться образованием', 'сделка с подержанным автомобилем',\n",
       "       'получение образования', 'автомобиль', 'свадьба',\n",
       "       'получение дополнительного образования', 'покупка своего жилья',\n",
       "       'операции с недвижимостью', 'получение высшего образования',\n",
       "       'свой автомобиль', 'сделка с автомобилем',\n",
       "       'профильное образование', 'высшее образование',\n",
       "       'покупка жилья для сдачи', 'на покупку автомобиля', 'ремонт жилью',\n",
       "       'заняться высшим образованием'], dtype=object)"
      ]
     },
     "execution_count": 1718,
     "metadata": {},
     "output_type": "execute_result"
    }
   ],
   "source": [
    "data['purpose'].unique()"
   ]
  },
  {
   "cell_type": "markdown",
   "id": "52b79d56",
   "metadata": {
    "deletable": false,
    "editable": false,
    "id": "52b79d56"
   },
   "source": [
    "**Задание 18. Создайте функцию, которая на основании данных из столбца `purpose` сформирует новый столбец `purpose_category`, в который войдут следующие категории:**\n",
    "\n",
    "- `'операции с автомобилем'`,\n",
    "- `'операции с недвижимостью'`,\n",
    "- `'проведение свадьбы'`,\n",
    "- `'получение образования'`.\n",
    "\n",
    "**Например, если в столбце `purpose` находится подстрока `'на покупку автомобиля'`, то в столбце `purpose_category` должна появиться строка `'операции с автомобилем'`.**\n",
    "\n",
    "**Используйте собственную функцию с именем `categorize_purpose()` и метод `apply()`. Изучите данные в столбце `purpose` и определите, какие подстроки помогут вам правильно определить категорию.**"
   ]
  },
  {
   "cell_type": "code",
   "execution_count": 1719,
   "id": "be41da5d",
   "metadata": {
    "deletable": false,
    "id": "be41da5d"
   },
   "outputs": [],
   "source": [
    "def categorize_purpose(purpose):\n",
    "    if 'автомоб' in purpose:\n",
    "        return 'операции с автомобилем'\n",
    "    if 'жил' in purpose or 'недвижимост' in purpose:\n",
    "        return 'операции с недвижимостью'\n",
    "    if 'свадьб' in purpose:\n",
    "        return 'проведение свадьбы'\n",
    "    if 'образован' in purpose:\n",
    "        return 'получение образования'"
   ]
  },
  {
   "cell_type": "code",
   "execution_count": 1720,
   "id": "94c4a19a",
   "metadata": {
    "deletable": false,
    "id": "94c4a19a"
   },
   "outputs": [],
   "source": [
    "data['purpose_category'] = data['purpose'].apply(categorize_purpose)"
   ]
  },
  {
   "cell_type": "code",
   "execution_count": 1721,
   "id": "ed3d7443",
   "metadata": {},
   "outputs": [
    {
     "data": {
      "text/plain": [
       "array(['операции с недвижимостью', 'операции с автомобилем',\n",
       "       'получение образования', 'проведение свадьбы'], dtype=object)"
      ]
     },
     "execution_count": 1721,
     "metadata": {},
     "output_type": "execute_result"
    }
   ],
   "source": [
    "data['purpose_category'].unique()"
   ]
  },
  {
   "cell_type": "markdown",
   "id": "3d596c34",
   "metadata": {
    "deletable": false,
    "editable": false,
    "id": "3d596c34"
   },
   "source": [
    "### Шаг 3. Исследуйте данные и ответьте на вопросы"
   ]
  },
  {
   "cell_type": "markdown",
   "id": "648db036",
   "metadata": {
    "deletable": false,
    "editable": false,
    "id": "648db036"
   },
   "source": [
    "#### 3.1 Есть ли зависимость между количеством детей и возвратом кредита в срок?"
   ]
  },
  {
   "cell_type": "code",
   "execution_count": 1722,
   "id": "7fcff25e",
   "metadata": {
    "deletable": false,
    "id": "7fcff25e"
   },
   "outputs": [
    {
     "data": {
      "text/html": [
       "<style type=\"text/css\">\n",
       "</style>\n",
       "<table id=\"T_cf132\">\n",
       "  <thead>\n",
       "    <tr>\n",
       "      <th class=\"blank level0\" >&nbsp;</th>\n",
       "      <th id=\"T_cf132_level0_col0\" class=\"col_heading level0 col0\" >count</th>\n",
       "      <th id=\"T_cf132_level0_col1\" class=\"col_heading level0 col1\" >sum</th>\n",
       "      <th id=\"T_cf132_level0_col2\" class=\"col_heading level0 col2\" >mean</th>\n",
       "    </tr>\n",
       "    <tr>\n",
       "      <th class=\"index_name level0\" >children</th>\n",
       "      <th class=\"blank col0\" >&nbsp;</th>\n",
       "      <th class=\"blank col1\" >&nbsp;</th>\n",
       "      <th class=\"blank col2\" >&nbsp;</th>\n",
       "    </tr>\n",
       "  </thead>\n",
       "  <tbody>\n",
       "    <tr>\n",
       "      <th id=\"T_cf132_level0_row0\" class=\"row_heading level0 row0\" >4</th>\n",
       "      <td id=\"T_cf132_row0_col0\" class=\"data row0 col0\" >41</td>\n",
       "      <td id=\"T_cf132_row0_col1\" class=\"data row0 col1\" >4</td>\n",
       "      <td id=\"T_cf132_row0_col2\" class=\"data row0 col2\" >9.76%</td>\n",
       "    </tr>\n",
       "    <tr>\n",
       "      <th id=\"T_cf132_level0_row1\" class=\"row_heading level0 row1\" >2</th>\n",
       "      <td id=\"T_cf132_row1_col0\" class=\"data row1 col0\" >2055</td>\n",
       "      <td id=\"T_cf132_row1_col1\" class=\"data row1 col1\" >194</td>\n",
       "      <td id=\"T_cf132_row1_col2\" class=\"data row1 col2\" >9.44%</td>\n",
       "    </tr>\n",
       "    <tr>\n",
       "      <th id=\"T_cf132_level0_row2\" class=\"row_heading level0 row2\" >1</th>\n",
       "      <td id=\"T_cf132_row2_col0\" class=\"data row2 col0\" >4818</td>\n",
       "      <td id=\"T_cf132_row2_col1\" class=\"data row2 col1\" >444</td>\n",
       "      <td id=\"T_cf132_row2_col2\" class=\"data row2 col2\" >9.22%</td>\n",
       "    </tr>\n",
       "    <tr>\n",
       "      <th id=\"T_cf132_level0_row3\" class=\"row_heading level0 row3\" >3</th>\n",
       "      <td id=\"T_cf132_row3_col0\" class=\"data row3 col0\" >330</td>\n",
       "      <td id=\"T_cf132_row3_col1\" class=\"data row3 col1\" >27</td>\n",
       "      <td id=\"T_cf132_row3_col2\" class=\"data row3 col2\" >8.18%</td>\n",
       "    </tr>\n",
       "    <tr>\n",
       "      <th id=\"T_cf132_level0_row4\" class=\"row_heading level0 row4\" >0</th>\n",
       "      <td id=\"T_cf132_row4_col0\" class=\"data row4 col0\" >14149</td>\n",
       "      <td id=\"T_cf132_row4_col1\" class=\"data row4 col1\" >1063</td>\n",
       "      <td id=\"T_cf132_row4_col2\" class=\"data row4 col2\" >7.51%</td>\n",
       "    </tr>\n",
       "    <tr>\n",
       "      <th id=\"T_cf132_level0_row5\" class=\"row_heading level0 row5\" >5</th>\n",
       "      <td id=\"T_cf132_row5_col0\" class=\"data row5 col0\" >9</td>\n",
       "      <td id=\"T_cf132_row5_col1\" class=\"data row5 col1\" >0</td>\n",
       "      <td id=\"T_cf132_row5_col2\" class=\"data row5 col2\" >0.00%</td>\n",
       "    </tr>\n",
       "  </tbody>\n",
       "</table>\n"
      ],
      "text/plain": [
       "<pandas.io.formats.style.Styler at 0x1752560f520>"
      ]
     },
     "execution_count": 1722,
     "metadata": {},
     "output_type": "execute_result"
    }
   ],
   "source": [
    "data.groupby('children')['debt'].agg(['count', 'sum', 'mean'])\\\n",
    "    .sort_values('mean', ascending = False).style.format({'mean' : '{:.2%}'})\n"
   ]
  },
  {
   "cell_type": "code",
   "execution_count": 1723,
   "id": "1b332cd1",
   "metadata": {},
   "outputs": [
    {
     "data": {
      "text/html": [
       "<style type=\"text/css\">\n",
       "</style>\n",
       "<table id=\"T_1b2b8\">\n",
       "  <thead>\n",
       "    <tr>\n",
       "      <th class=\"blank level0\" >&nbsp;</th>\n",
       "      <th id=\"T_1b2b8_level0_col0\" class=\"col_heading level0 col0\" >count</th>\n",
       "      <th id=\"T_1b2b8_level0_col1\" class=\"col_heading level0 col1\" >sum</th>\n",
       "      <th id=\"T_1b2b8_level0_col2\" class=\"col_heading level0 col2\" >mean</th>\n",
       "    </tr>\n",
       "    <tr>\n",
       "      <th class=\"blank level1\" >&nbsp;</th>\n",
       "      <th id=\"T_1b2b8_level1_col0\" class=\"col_heading level1 col0\" >debt</th>\n",
       "      <th id=\"T_1b2b8_level1_col1\" class=\"col_heading level1 col1\" >debt</th>\n",
       "      <th id=\"T_1b2b8_level1_col2\" class=\"col_heading level1 col2\" >debt</th>\n",
       "    </tr>\n",
       "    <tr>\n",
       "      <th class=\"index_name level0\" >children</th>\n",
       "      <th class=\"blank col0\" >&nbsp;</th>\n",
       "      <th class=\"blank col1\" >&nbsp;</th>\n",
       "      <th class=\"blank col2\" >&nbsp;</th>\n",
       "    </tr>\n",
       "  </thead>\n",
       "  <tbody>\n",
       "    <tr>\n",
       "      <th id=\"T_1b2b8_level0_row0\" class=\"row_heading level0 row0\" >4</th>\n",
       "      <td id=\"T_1b2b8_row0_col0\" class=\"data row0 col0\" >41</td>\n",
       "      <td id=\"T_1b2b8_row0_col1\" class=\"data row0 col1\" >4</td>\n",
       "      <td id=\"T_1b2b8_row0_col2\" class=\"data row0 col2\" >9.76%</td>\n",
       "    </tr>\n",
       "    <tr>\n",
       "      <th id=\"T_1b2b8_level0_row1\" class=\"row_heading level0 row1\" >2</th>\n",
       "      <td id=\"T_1b2b8_row1_col0\" class=\"data row1 col0\" >2055</td>\n",
       "      <td id=\"T_1b2b8_row1_col1\" class=\"data row1 col1\" >194</td>\n",
       "      <td id=\"T_1b2b8_row1_col2\" class=\"data row1 col2\" >9.44%</td>\n",
       "    </tr>\n",
       "    <tr>\n",
       "      <th id=\"T_1b2b8_level0_row2\" class=\"row_heading level0 row2\" >1</th>\n",
       "      <td id=\"T_1b2b8_row2_col0\" class=\"data row2 col0\" >4818</td>\n",
       "      <td id=\"T_1b2b8_row2_col1\" class=\"data row2 col1\" >444</td>\n",
       "      <td id=\"T_1b2b8_row2_col2\" class=\"data row2 col2\" >9.22%</td>\n",
       "    </tr>\n",
       "    <tr>\n",
       "      <th id=\"T_1b2b8_level0_row3\" class=\"row_heading level0 row3\" >3</th>\n",
       "      <td id=\"T_1b2b8_row3_col0\" class=\"data row3 col0\" >330</td>\n",
       "      <td id=\"T_1b2b8_row3_col1\" class=\"data row3 col1\" >27</td>\n",
       "      <td id=\"T_1b2b8_row3_col2\" class=\"data row3 col2\" >8.18%</td>\n",
       "    </tr>\n",
       "    <tr>\n",
       "      <th id=\"T_1b2b8_level0_row4\" class=\"row_heading level0 row4\" >0</th>\n",
       "      <td id=\"T_1b2b8_row4_col0\" class=\"data row4 col0\" >14149</td>\n",
       "      <td id=\"T_1b2b8_row4_col1\" class=\"data row4 col1\" >1063</td>\n",
       "      <td id=\"T_1b2b8_row4_col2\" class=\"data row4 col2\" >7.51%</td>\n",
       "    </tr>\n",
       "    <tr>\n",
       "      <th id=\"T_1b2b8_level0_row5\" class=\"row_heading level0 row5\" >5</th>\n",
       "      <td id=\"T_1b2b8_row5_col0\" class=\"data row5 col0\" >9</td>\n",
       "      <td id=\"T_1b2b8_row5_col1\" class=\"data row5 col1\" >0</td>\n",
       "      <td id=\"T_1b2b8_row5_col2\" class=\"data row5 col2\" >0.00%</td>\n",
       "    </tr>\n",
       "  </tbody>\n",
       "</table>\n"
      ],
      "text/plain": [
       "<pandas.io.formats.style.Styler at 0x175233c8820>"
      ]
     },
     "execution_count": 1723,
     "metadata": {},
     "output_type": "execute_result"
    }
   ],
   "source": [
    "data.pivot_table(index = 'children',  values = 'debt', aggfunc = \\\n",
    "['count', 'sum', 'mean']).sort_values(('mean', 'debt'), ascending = False) \\\n",
    ".style.format({('mean', 'debt') : '{:.2%}'})"
   ]
  },
  {
   "cell_type": "code",
   "execution_count": null,
   "id": "2399ad92",
   "metadata": {},
   "outputs": [],
   "source": []
  },
  {
   "cell_type": "markdown",
   "id": "2eb9088e",
   "metadata": {
    "deletable": false,
    "id": "2eb9088e"
   },
   "source": [
    "**Вывод:** \n",
    "\n",
    "1. Скорее всего есть зависимость между фактом наличия детей у заемщиков и возвратом кредита в срок. Так доля просроченных кредитов  заемщиков, у которых нет детей, составляет 0.075438, а у заемщиков, у которых есть дети, доля составляет от 0.081818 до 0.094542 (без учета заемщиков, у которых 4 и 5 детей. Так как размеры выборки у таких заёмщиков небольшие (количество случаев просрочки 4 и 0 соответственно), то эти данные либо не стоит учитывать, либо объединить с группой, где 3 детей).\n",
    "\n",
    "\n",
    "2. Зависимость между возвратом кредита в срок и количеством детей (1 или 2 ребёнка) явно не прослеживается (0.092346 - 0.094542),а заемщики с 3 детьми более надёжны (0.081818)."
   ]
  },
  {
   "cell_type": "markdown",
   "id": "470d5d9b",
   "metadata": {},
   "source": [
    "<div class=\"alert alert-block alert-success\">✔️\n",
    "    \n",
    "\n",
    "__Комментарий от ревьюера №1__\n",
    "\n",
    "Здорово, что посчитал колличество заемщиков в каждой выборке, и учел неравнозначность выборок. \n",
    "    \n",
    "---\n",
    "    \n",
    "Смотри  как эту таблицу можно вывести передав список агрегирующих функций:\n",
    "    \n",
    "```python\n",
    "data.pivot_table(index = 'children', values = 'debt', aggfunc = ['count', 'sum', 'mean'])\\\n",
    "    .sort_values(by = ('mean', 'debt'), ascending = False)\\\n",
    "    .style.format({('mean', 'debt') : '{:.2%}'})\n",
    "```\n",
    "</div>"
   ]
  },
  {
   "cell_type": "markdown",
   "id": "68d3cf03",
   "metadata": {},
   "source": [
    "<div class=\"alert alert-info\"> <b>Комментарии студента:</b> Например, вот так.\n",
    "\n",
    "</div>\n",
    "\n"
   ]
  },
  {
   "cell_type": "markdown",
   "id": "74c9b3a7",
   "metadata": {
    "deletable": false,
    "editable": false,
    "id": "74c9b3a7"
   },
   "source": [
    "#### 3.2 Есть ли зависимость между семейным положением и возвратом кредита в срок?"
   ]
  },
  {
   "cell_type": "code",
   "execution_count": 1724,
   "id": "df491734",
   "metadata": {},
   "outputs": [
    {
     "data": {
      "text/plain": [
       "Index(['children', 'days_employed', 'dob_years', 'education', 'education_id',\n",
       "       'family_status', 'family_status_id', 'gender', 'income_type', 'debt',\n",
       "       'total_income', 'purpose', 'total_income_category', 'purpose_category'],\n",
       "      dtype='object')"
      ]
     },
     "execution_count": 1724,
     "metadata": {},
     "output_type": "execute_result"
    }
   ],
   "source": [
    "data.columns"
   ]
  },
  {
   "cell_type": "code",
   "execution_count": 1725,
   "id": "8098ab3b",
   "metadata": {
    "deletable": false,
    "id": "8098ab3b",
    "scrolled": true
   },
   "outputs": [
    {
     "data": {
      "text/html": [
       "<style type=\"text/css\">\n",
       "</style>\n",
       "<table id=\"T_c629f\">\n",
       "  <thead>\n",
       "    <tr>\n",
       "      <th class=\"blank level0\" >&nbsp;</th>\n",
       "      <th id=\"T_c629f_level0_col0\" class=\"col_heading level0 col0\" >debt</th>\n",
       "      <th id=\"T_c629f_level0_col1\" class=\"col_heading level0 col1\" >total</th>\n",
       "      <th id=\"T_c629f_level0_col2\" class=\"col_heading level0 col2\" >%</th>\n",
       "    </tr>\n",
       "    <tr>\n",
       "      <th class=\"index_name level0\" >family_status</th>\n",
       "      <th class=\"blank col0\" >&nbsp;</th>\n",
       "      <th class=\"blank col1\" >&nbsp;</th>\n",
       "      <th class=\"blank col2\" >&nbsp;</th>\n",
       "    </tr>\n",
       "  </thead>\n",
       "  <tbody>\n",
       "    <tr>\n",
       "      <th id=\"T_c629f_level0_row0\" class=\"row_heading level0 row0\" >Не женат / не замужем</th>\n",
       "      <td id=\"T_c629f_row0_col0\" class=\"data row0 col0\" >273</td>\n",
       "      <td id=\"T_c629f_row0_col1\" class=\"data row0 col1\" >2799</td>\n",
       "      <td id=\"T_c629f_row0_col2\" class=\"data row0 col2\" >9.75%</td>\n",
       "    </tr>\n",
       "    <tr>\n",
       "      <th id=\"T_c629f_level0_row1\" class=\"row_heading level0 row1\" >гражданский брак</th>\n",
       "      <td id=\"T_c629f_row1_col0\" class=\"data row1 col0\" >385</td>\n",
       "      <td id=\"T_c629f_row1_col1\" class=\"data row1 col1\" >4160</td>\n",
       "      <td id=\"T_c629f_row1_col2\" class=\"data row1 col2\" >9.25%</td>\n",
       "    </tr>\n",
       "    <tr>\n",
       "      <th id=\"T_c629f_level0_row2\" class=\"row_heading level0 row2\" >женат / замужем</th>\n",
       "      <td id=\"T_c629f_row2_col0\" class=\"data row2 col0\" >927</td>\n",
       "      <td id=\"T_c629f_row2_col1\" class=\"data row2 col1\" >12302</td>\n",
       "      <td id=\"T_c629f_row2_col2\" class=\"data row2 col2\" >7.54%</td>\n",
       "    </tr>\n",
       "    <tr>\n",
       "      <th id=\"T_c629f_level0_row3\" class=\"row_heading level0 row3\" >в разводе</th>\n",
       "      <td id=\"T_c629f_row3_col0\" class=\"data row3 col0\" >84</td>\n",
       "      <td id=\"T_c629f_row3_col1\" class=\"data row3 col1\" >1189</td>\n",
       "      <td id=\"T_c629f_row3_col2\" class=\"data row3 col2\" >7.06%</td>\n",
       "    </tr>\n",
       "    <tr>\n",
       "      <th id=\"T_c629f_level0_row4\" class=\"row_heading level0 row4\" >вдовец / вдова</th>\n",
       "      <td id=\"T_c629f_row4_col0\" class=\"data row4 col0\" >63</td>\n",
       "      <td id=\"T_c629f_row4_col1\" class=\"data row4 col1\" >952</td>\n",
       "      <td id=\"T_c629f_row4_col2\" class=\"data row4 col2\" >6.62%</td>\n",
       "    </tr>\n",
       "  </tbody>\n",
       "</table>\n"
      ],
      "text/plain": [
       "<pandas.io.formats.style.Styler at 0x175255e6c40>"
      ]
     },
     "execution_count": 1725,
     "metadata": {},
     "output_type": "execute_result"
    }
   ],
   "source": [
    "data_pivot = data.pivot_table(index = 'family_status', values = 'debt', aggfunc = ['sum', 'count', 'mean'])\n",
    "data_pivot.columns = ['debt', 'total', '%']\n",
    "data_pivot = data_pivot.sort_values(by = ('%'), ascending = False)\n",
    "data_pivot.style.format({('%') : '{:.2%}'})\n",
    "                "
   ]
  },
  {
   "cell_type": "code",
   "execution_count": 1726,
   "id": "5eda677e",
   "metadata": {},
   "outputs": [
    {
     "data": {
      "text/html": [
       "<div>\n",
       "<style scoped>\n",
       "    .dataframe tbody tr th:only-of-type {\n",
       "        vertical-align: middle;\n",
       "    }\n",
       "\n",
       "    .dataframe tbody tr th {\n",
       "        vertical-align: top;\n",
       "    }\n",
       "\n",
       "    .dataframe thead th {\n",
       "        text-align: right;\n",
       "    }\n",
       "</style>\n",
       "<table border=\"1\" class=\"dataframe\">\n",
       "  <thead>\n",
       "    <tr style=\"text-align: right;\">\n",
       "      <th></th>\n",
       "      <th>debt</th>\n",
       "      <th>total</th>\n",
       "      <th>%</th>\n",
       "    </tr>\n",
       "    <tr>\n",
       "      <th>family_status</th>\n",
       "      <th></th>\n",
       "      <th></th>\n",
       "      <th></th>\n",
       "    </tr>\n",
       "  </thead>\n",
       "  <tbody>\n",
       "    <tr>\n",
       "      <th>Не женат / не замужем</th>\n",
       "      <td>273</td>\n",
       "      <td>2799</td>\n",
       "      <td>0.097535</td>\n",
       "    </tr>\n",
       "    <tr>\n",
       "      <th>гражданский брак</th>\n",
       "      <td>385</td>\n",
       "      <td>4160</td>\n",
       "      <td>0.092548</td>\n",
       "    </tr>\n",
       "    <tr>\n",
       "      <th>женат / замужем</th>\n",
       "      <td>927</td>\n",
       "      <td>12302</td>\n",
       "      <td>0.075354</td>\n",
       "    </tr>\n",
       "    <tr>\n",
       "      <th>в разводе</th>\n",
       "      <td>84</td>\n",
       "      <td>1189</td>\n",
       "      <td>0.070648</td>\n",
       "    </tr>\n",
       "    <tr>\n",
       "      <th>вдовец / вдова</th>\n",
       "      <td>63</td>\n",
       "      <td>952</td>\n",
       "      <td>0.066176</td>\n",
       "    </tr>\n",
       "  </tbody>\n",
       "</table>\n",
       "</div>"
      ],
      "text/plain": [
       "                       debt  total         %\n",
       "family_status                               \n",
       "Не женат / не замужем   273   2799  0.097535\n",
       "гражданский брак        385   4160  0.092548\n",
       "женат / замужем         927  12302  0.075354\n",
       "в разводе                84   1189  0.070648\n",
       "вдовец / вдова           63    952  0.066176"
      ]
     },
     "execution_count": 1726,
     "metadata": {},
     "output_type": "execute_result"
    }
   ],
   "source": [
    "\n",
    "\n",
    "data_pivot"
   ]
  },
  {
   "cell_type": "markdown",
   "id": "c389ca63",
   "metadata": {
    "deletable": false,
    "id": "c389ca63"
   },
   "source": [
    "**Вывод:** \n",
    "\n",
    "1. Прослеживается зависимость между семейным положением и возвратом кредита в срок. Так чаще просрочки встречаются в группах: \"Не женат / не замужем\" и  \" гражданский брак\" (0.097639 и 0.093130) , реже в группах: \"вдовец / вдова\", \"в разводе\" и \"женат / замужем\" (0.066246 - 0.070648 - 0.075606)."
   ]
  },
  {
   "cell_type": "markdown",
   "id": "f36319ce",
   "metadata": {},
   "source": [
    "<div class=\"alert alert-block alert-success\">✔️\n",
    "    \n",
    "\n",
    "__Комментарий от ревьюера №1__\n",
    "\n",
    "Верно. по расчетам можно сказать, что заемщики которые состоят или состояли в браке лучше оплачивают кредиты.\n",
    "</div>"
   ]
  },
  {
   "cell_type": "markdown",
   "id": "9529de68",
   "metadata": {
    "deletable": false,
    "editable": false,
    "id": "9529de68"
   },
   "source": [
    "#### 3.3 Есть ли зависимость между уровнем дохода и возвратом кредита в срок?"
   ]
  },
  {
   "cell_type": "code",
   "execution_count": null,
   "id": "8787f44a",
   "metadata": {
    "deletable": false,
    "id": "8787f44a",
    "scrolled": true
   },
   "outputs": [],
   "source": []
  },
  {
   "cell_type": "markdown",
   "id": "6dd14b57",
   "metadata": {
    "deletable": false,
    "id": "6dd14b57"
   },
   "source": [
    "**Вывод:**\n",
    "1. Количество просроченных кредитов в группах А и С составляет по 2 в каждой. На основании таких небольших выборок не следует делать каких-либо статистических выводов относительно этих групп.\n",
    "\n",
    "\n",
    "2. В группах B, C и D прослеживается зависимость между уровнем дохода и возвратом кредита в срок. \n",
    "- В группе D с доходом от 30001 до 50000 наименьшая частота просрочки (0.060172).\n",
    "- В группе С с доходом от 50001 до 200000 наибольшая частота просрочки (0.084982).\n",
    "- С дальнейшим увеличением дохода (группа В с доходом от 200001 до 1000000) частота просрочки кредита снижается (0.070602).\n",
    "\n",
    "<div class=\"alert alert-info\"> 3. Если сравнить две самые многочисленные категории (С с доходом от 50001 до 200000 и В с доходом от 200001 до 1000000), то можно сделать вывод, что с увеличением дохода частота просрочки кредита снижается.\n"
   ]
  },
  {
   "cell_type": "markdown",
   "id": "1dcc9b12",
   "metadata": {
    "deletable": false,
    "editable": false,
    "id": "1dcc9b12"
   },
   "source": [
    "#### 3.4 Как разные цели кредита влияют на его возврат в срок?"
   ]
  },
  {
   "cell_type": "code",
   "execution_count": null,
   "id": "c602bc8b",
   "metadata": {
    "deletable": false,
    "id": "c602bc8b"
   },
   "outputs": [],
   "source": []
  },
  {
   "cell_type": "markdown",
   "id": "cf05ed63",
   "metadata": {
    "deletable": false,
    "id": "cf05ed63"
   },
   "source": [
    "**Вывод:** \n",
    "\n",
    "1. Существует зависимость между целями кредита и возвратом его в срок. Наиболее часто просрочка возврата кредита происходит при целях кредита: \"операции с автомобилем\" и  \"получение образования\" (0.093480 и 0.092528). Более надежные те заемщики, которые берут кредит на операции с недвижимостью (0.072551), затем следуют заемщики с кредитами на проведение свадьбы (0.079118)."
   ]
  },
  {
   "cell_type": "markdown",
   "id": "46c1f10b",
   "metadata": {
    "deletable": false,
    "editable": false,
    "id": "46c1f10b"
   },
   "source": [
    "#### 3.5 Приведите возможные причины появления пропусков в исходных данных."
   ]
  },
  {
   "cell_type": "markdown",
   "id": "3697d2a9",
   "metadata": {
    "deletable": false,
    "id": "3697d2a9"
   },
   "source": [
    "*Ответ:* \n",
    "\n",
    "Пропуски в исходных данных могут появится по следующим причинам:\n",
    "- человеческий фактор. Заполняя таблицы люди могут пропустить какие-то поля;\n",
    "- особенность данных. Это те данные, которые не обязательны к заполнению (например е-mail или телефон), пользователь может их не оставить. Не всегда у исследователя бывает возможность собрать именно все данные по всем объектам в силу разных причин;\n",
    "- технические причины - сбой программы."
   ]
  },
  {
   "cell_type": "markdown",
   "id": "3137d257",
   "metadata": {
    "deletable": false,
    "editable": false,
    "id": "3137d257"
   },
   "source": [
    "#### 3.6 Объясните, почему заполнить пропуски медианным значением — лучшее решение для количественных переменных."
   ]
  },
  {
   "cell_type": "markdown",
   "id": "cf40012a",
   "metadata": {
    "deletable": false,
    "id": "cf40012a"
   },
   "source": [
    "*Ответ:* \n",
    "\n",
    "Заполнение медианным значением более надежно, чем заполнение  средним значением, поскольку оно смягчает влияние выбросов. Выбросы данных могут существенно влиять на среднее значение, а на медиану они не влияют."
   ]
  },
  {
   "cell_type": "markdown",
   "id": "57bc304e",
   "metadata": {
    "deletable": false,
    "editable": false,
    "id": "57bc304e"
   },
   "source": [
    "### Шаг 4: общий вывод."
   ]
  },
  {
   "cell_type": "markdown",
   "id": "1ab75d1c",
   "metadata": {
    "deletable": false,
    "id": "1ab75d1c"
   },
   "source": [
    "Мы проверили четыре гипотезы и установили:\n",
    "\n",
    "1. Существует зависимость между фактом наличия детей у заемщиков и возвратом кредита в срок. Заёмщики без детей имеют минимальную частоту просрочек по кредитам. Наибольшую частоту просрочек по кредитам имеют заёмщики с 1 и 2 детьми. Заёмщики с 3 детьми более надёжны по сравнению с предыдущей группой. \n",
    "\n",
    "\n",
    "2. Существует зависимость между семейным положением и возвратом кредита в срок. Чаще просрочки встречаются в группах: \"Не женат / не замужем\" и \" гражданский брак\", реже в группах: \"вдовец / вдова\", \"в разводе\" и \"женат / замужем\".\n",
    "\n",
    "\n",
    "3. Существует зависимость между уровнем дохода и возвратом кредита в срок.\n",
    "В группе с доходом от 30001 до 50000 наименьшая частота просрочки.\n",
    "В группе с доходом от 50001 до 200000 наибольшая частота просрочки.\n",
    "С дальнейшим увеличением дохода (группа  с доходом от 200001 до 1000000) частота просрочки кредита снижается.\n",
    "\n",
    "\n",
    "4. Существует зависимость между целями кредита и возвратом его в срок. Наиболее часто просрочка возврата кредита происходит при целях кредита: \"операции с автомобилем\" и \"получение образования\". Более надежные те заемщики, которые берут кредит на операции с недвижимостью, затем следуют заемщики с кредитами на проведение свадьбы.\n"
   ]
  }
 ],
 "metadata": {
  "ExecuteTimeLog": [
   {
    "duration": 460,
    "start_time": "2023-01-26T10:19:19.468Z"
   },
   {
    "duration": 21,
    "start_time": "2023-01-26T10:19:19.930Z"
   },
   {
    "duration": 17,
    "start_time": "2023-01-26T10:19:19.953Z"
   },
   {
    "duration": 10,
    "start_time": "2023-01-26T10:19:19.972Z"
   },
   {
    "duration": 46,
    "start_time": "2023-01-26T10:19:19.983Z"
   },
   {
    "duration": 5,
    "start_time": "2023-01-26T10:19:20.030Z"
   },
   {
    "duration": 31,
    "start_time": "2023-01-26T10:19:20.037Z"
   },
   {
    "duration": 8,
    "start_time": "2023-01-26T10:19:20.069Z"
   },
   {
    "duration": 16,
    "start_time": "2023-01-26T10:19:20.078Z"
   },
   {
    "duration": 6,
    "start_time": "2023-01-26T10:19:20.097Z"
   },
   {
    "duration": 52,
    "start_time": "2023-01-26T10:19:20.105Z"
   },
   {
    "duration": 9,
    "start_time": "2023-01-26T10:19:20.159Z"
   },
   {
    "duration": 13,
    "start_time": "2023-01-26T10:19:20.169Z"
   },
   {
    "duration": 17,
    "start_time": "2023-01-26T10:19:20.184Z"
   },
   {
    "duration": 18,
    "start_time": "2023-01-26T10:19:20.203Z"
   },
   {
    "duration": 23,
    "start_time": "2023-01-26T10:19:20.222Z"
   },
   {
    "duration": 4,
    "start_time": "2023-01-26T10:19:20.247Z"
   },
   {
    "duration": 26,
    "start_time": "2023-01-26T10:19:20.252Z"
   },
   {
    "duration": 7,
    "start_time": "2023-01-26T10:19:20.279Z"
   },
   {
    "duration": 7,
    "start_time": "2023-01-26T10:19:20.288Z"
   },
   {
    "duration": 14,
    "start_time": "2023-01-26T10:19:20.297Z"
   },
   {
    "duration": 12,
    "start_time": "2023-01-26T10:19:20.312Z"
   },
   {
    "duration": 22,
    "start_time": "2023-01-26T10:19:20.326Z"
   },
   {
    "duration": 16,
    "start_time": "2023-01-26T10:19:20.349Z"
   },
   {
    "duration": 5,
    "start_time": "2023-01-26T10:19:20.367Z"
   },
   {
    "duration": 15,
    "start_time": "2023-01-26T10:22:00.804Z"
   },
   {
    "duration": 61,
    "start_time": "2023-01-26T10:23:01.115Z"
   },
   {
    "duration": 6,
    "start_time": "2023-01-26T10:23:09.089Z"
   },
   {
    "duration": 7,
    "start_time": "2023-01-26T10:24:32.886Z"
   },
   {
    "duration": 5,
    "start_time": "2023-01-26T10:25:07.816Z"
   },
   {
    "duration": 7,
    "start_time": "2023-01-26T10:27:12.470Z"
   },
   {
    "duration": 10,
    "start_time": "2023-01-26T10:27:34.661Z"
   },
   {
    "duration": 10,
    "start_time": "2023-01-26T10:27:58.924Z"
   },
   {
    "duration": 7,
    "start_time": "2023-01-26T10:28:23.943Z"
   },
   {
    "duration": 6,
    "start_time": "2023-01-26T10:28:27.485Z"
   },
   {
    "duration": 8,
    "start_time": "2023-01-26T10:28:36.591Z"
   },
   {
    "duration": 7,
    "start_time": "2023-01-26T11:29:10.936Z"
   },
   {
    "duration": 7,
    "start_time": "2023-01-26T11:30:11.337Z"
   },
   {
    "duration": 10,
    "start_time": "2023-01-26T11:31:27.835Z"
   },
   {
    "duration": 20,
    "start_time": "2023-01-26T11:32:06.067Z"
   },
   {
    "duration": 6,
    "start_time": "2023-01-26T12:41:56.351Z"
   },
   {
    "duration": 7,
    "start_time": "2023-01-26T12:43:03.699Z"
   },
   {
    "duration": 11,
    "start_time": "2023-01-26T12:45:25.680Z"
   },
   {
    "duration": 11,
    "start_time": "2023-01-26T12:45:44.114Z"
   },
   {
    "duration": 8,
    "start_time": "2023-01-26T12:57:32.422Z"
   },
   {
    "duration": 8,
    "start_time": "2023-01-26T12:58:22.059Z"
   },
   {
    "duration": 11,
    "start_time": "2023-01-26T12:59:24.747Z"
   },
   {
    "duration": 11,
    "start_time": "2023-01-26T12:59:38.456Z"
   },
   {
    "duration": 15,
    "start_time": "2023-01-26T14:15:40.980Z"
   },
   {
    "duration": 64,
    "start_time": "2023-01-27T13:42:11.866Z"
   },
   {
    "duration": 808,
    "start_time": "2023-01-27T13:42:33.578Z"
   },
   {
    "duration": 26,
    "start_time": "2023-01-27T13:42:34.388Z"
   },
   {
    "duration": 48,
    "start_time": "2023-01-27T13:42:34.416Z"
   },
   {
    "duration": 12,
    "start_time": "2023-01-27T13:42:34.466Z"
   },
   {
    "duration": 60,
    "start_time": "2023-01-27T13:42:34.479Z"
   },
   {
    "duration": 4,
    "start_time": "2023-01-27T13:42:34.541Z"
   },
   {
    "duration": 12,
    "start_time": "2023-01-27T13:42:34.548Z"
   },
   {
    "duration": 5,
    "start_time": "2023-01-27T13:42:34.561Z"
   },
   {
    "duration": 11,
    "start_time": "2023-01-27T13:42:34.567Z"
   },
   {
    "duration": 4,
    "start_time": "2023-01-27T13:42:34.580Z"
   },
   {
    "duration": 44,
    "start_time": "2023-01-27T13:42:34.586Z"
   },
   {
    "duration": 9,
    "start_time": "2023-01-27T13:42:34.631Z"
   },
   {
    "duration": 5,
    "start_time": "2023-01-27T13:42:34.641Z"
   },
   {
    "duration": 12,
    "start_time": "2023-01-27T13:42:34.647Z"
   },
   {
    "duration": 48,
    "start_time": "2023-01-27T13:42:34.661Z"
   },
   {
    "duration": 17,
    "start_time": "2023-01-27T13:42:34.711Z"
   },
   {
    "duration": 4,
    "start_time": "2023-01-27T13:42:34.730Z"
   },
   {
    "duration": 21,
    "start_time": "2023-01-27T13:42:34.735Z"
   },
   {
    "duration": 7,
    "start_time": "2023-01-27T13:42:34.758Z"
   },
   {
    "duration": 4,
    "start_time": "2023-01-27T13:42:34.767Z"
   },
   {
    "duration": 15,
    "start_time": "2023-01-27T13:42:34.798Z"
   },
   {
    "duration": 13,
    "start_time": "2023-01-27T13:42:34.814Z"
   },
   {
    "duration": 11,
    "start_time": "2023-01-27T13:42:34.829Z"
   },
   {
    "duration": 9,
    "start_time": "2023-01-27T13:42:34.842Z"
   },
   {
    "duration": 482,
    "start_time": "2023-01-27T13:42:34.853Z"
   },
   {
    "duration": 8,
    "start_time": "2023-01-27T13:42:35.336Z"
   },
   {
    "duration": 8,
    "start_time": "2023-01-27T13:42:35.347Z"
   },
   {
    "duration": 44,
    "start_time": "2023-01-27T13:42:35.360Z"
   },
   {
    "duration": 8,
    "start_time": "2023-01-27T13:42:35.407Z"
   },
   {
    "duration": 6,
    "start_time": "2023-01-27T13:42:35.417Z"
   },
   {
    "duration": 10,
    "start_time": "2023-01-27T13:42:35.425Z"
   },
   {
    "duration": 8,
    "start_time": "2023-01-27T13:42:35.436Z"
   },
   {
    "duration": 8,
    "start_time": "2023-01-27T13:42:35.445Z"
   },
   {
    "duration": 11,
    "start_time": "2023-01-27T13:42:35.454Z"
   },
   {
    "duration": 50,
    "start_time": "2023-01-27T14:04:11.187Z"
   },
   {
    "duration": 55,
    "start_time": "2023-01-27T14:50:18.133Z"
   },
   {
    "duration": 45,
    "start_time": "2023-01-27T14:50:26.169Z"
   },
   {
    "duration": 29,
    "start_time": "2023-01-27T14:50:58.531Z"
   },
   {
    "duration": 28,
    "start_time": "2023-01-27T14:52:14.071Z"
   },
   {
    "duration": 32,
    "start_time": "2023-01-27T14:52:50.596Z"
   },
   {
    "duration": 28,
    "start_time": "2023-01-27T14:53:35.417Z"
   },
   {
    "duration": 29,
    "start_time": "2023-01-27T14:54:00.706Z"
   },
   {
    "duration": 28,
    "start_time": "2023-01-27T14:54:14.362Z"
   },
   {
    "duration": 31,
    "start_time": "2023-01-27T14:54:45.017Z"
   }
  ],
  "colab": {
   "provenance": []
  },
  "kernelspec": {
   "display_name": "Python 3 (ipykernel)",
   "language": "python",
   "name": "python3"
  },
  "language_info": {
   "codemirror_mode": {
    "name": "ipython",
    "version": 3
   },
   "file_extension": ".py",
   "mimetype": "text/x-python",
   "name": "python",
   "nbconvert_exporter": "python",
   "pygments_lexer": "ipython3",
   "version": "3.10.9"
  },
  "toc": {
   "base_numbering": 1,
   "nav_menu": {},
   "number_sections": true,
   "sideBar": true,
   "skip_h1_title": true,
   "title_cell": "Table of Contents",
   "title_sidebar": "Contents",
   "toc_cell": false,
   "toc_position": {
    "height": "calc(100% - 180px)",
    "left": "10px",
    "top": "150px",
    "width": "463.778px"
   },
   "toc_section_display": true,
   "toc_window_display": true
  }
 },
 "nbformat": 4,
 "nbformat_minor": 5
}
