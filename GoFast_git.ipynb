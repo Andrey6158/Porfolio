{
 "cells": [
  {
   "cell_type": "markdown",
   "id": "adb865da",
   "metadata": {},
   "source": [
    "# Анализ популярного сервиса аренды самокатов GoFast"
   ]
  },
  {
   "cell_type": "markdown",
   "id": "28516cdb",
   "metadata": {},
   "source": [
    "## Описание проекта"
   ]
  },
  {
   "cell_type": "markdown",
   "id": "7dd82cfb",
   "metadata": {},
   "source": [
    "Задача провести анализ работы популярного сервиса аренды самокатов GoFast. Нам передали данные о некоторых пользователях из нескольких городов, а также об их поездках. \n",
    "Чтобы совершать поездки по городу, пользователи сервиса GoFast пользуются мобильным приложением. Сервисом можно пользоваться:\n",
    "- без подписки \n",
    "\n",
    "\n",
    "абонентская плата отсутствует;\n",
    "стоимость одной минуты поездки — 8 рублей;\n",
    "стоимость старта (начала поездки) — 50 рублей;\n",
    "- с подпиской Ultra\n",
    "\n",
    "\n",
    "абонентская плата — 199 рублей в месяц;\n",
    "стоимость одной минуты поездки — 6 рублей;\n",
    "стоимость старта — бесплатно."
   ]
  },
  {
   "cell_type": "markdown",
   "id": "a0600889",
   "metadata": {},
   "source": [
    "### Описание данных"
   ]
  },
  {
   "cell_type": "markdown",
   "id": "d286e160",
   "metadata": {},
   "source": [
    "В основных данных есть информация о пользователях, их поездках и подписках.\n",
    "\n",
    "\n",
    "**Пользователи — users_go.csv**\n",
    "\n",
    "- user_id - уникальный идентификатор пользователя\n",
    "- name - имя пользователя\n",
    "- age - возраст\n",
    "- city - город\n",
    "- subscription_type - тип подписки (free, ultra)\n",
    "\n",
    "**Поездки — rides_go.csv**\n",
    "\n",
    "\n",
    "- user_id - уникальный идентификатор пользователя\n",
    "- distance - расстояние, которое пользователь проехал в текущей сессии (в метрах)\n",
    "- duration - продолжительность сессии (в минутах) — время с того момента, как пользователь нажал кнопку «Начать поездку» до момента, как он нажал кнопку «Завершить поездку»\n",
    "- date - дата совершения поездки\n",
    "\n",
    "\n",
    "**Подписки — subscriptions_go.csv**\n",
    "\n",
    "\n",
    "- subscription_type - тип подписки\n",
    "- minute_price - стоимость одной минуты поездки по данной подписке\n",
    "- start_ride_price - стоимость начала поездки\n",
    "- subscription_fee - стоимость ежемесячного платежа"
   ]
  },
  {
   "cell_type": "markdown",
   "id": "ec8725e4",
   "metadata": {},
   "source": [
    "### Задачи проекта\n",
    "1. Загрузить данные и получить общую информацию о данных.\n",
    "2. Провести необходимую предобработку данных.  \n",
    "3. Провести исследовательский анализ данных. Описать и визуализировать общую информацию о пользователях и поездках:\n",
    "    - 3.1 частота встречаемости городов;\n",
    "    - 3.2 соотношение пользователей с подпиской и без подписки;\n",
    "    - 3.3 возраст пользователей;\n",
    "    - 3.4 расстояние, которое пользователь преодолел за одну поездку;\n",
    "    - 3.5 продолжительность поездок.\n",
    "4. Объединить данные о пользователях, поездках и подписках и разделить их по пользователям без подписки и с подпиской. Визуализировать информацию о расстоянии и времени поездок для пользователей обеих категорий.\n",
    "5. Подсчитать помесячную выручку для каждого пользователя.\n",
    "6. Проверить гипотезы о том, что пользователи с подпиской испльзую самокаты больше по времени и приносят больше выручки. "
   ]
  },
  {
   "cell_type": "markdown",
   "id": "15c7a2a8",
   "metadata": {},
   "source": [
    "## 1. Загрузка данных"
   ]
  },
  {
   "cell_type": "code",
   "execution_count": 1,
   "id": "cf57c9e8",
   "metadata": {},
   "outputs": [],
   "source": [
    "# загрузка библиотек\n",
    "import pandas as pd\n",
    "import matplotlib.pyplot as plt\n",
    "import numpy as np\n",
    "import seaborn as sns "
   ]
  },
  {
   "cell_type": "code",
   "execution_count": 2,
   "id": "30ce6647",
   "metadata": {},
   "outputs": [],
   "source": [
    "import warnings\n",
    "warnings.filterwarnings(\"ignore\")"
   ]
  },
  {
   "cell_type": "code",
   "execution_count": 3,
   "id": "77915817",
   "metadata": {},
   "outputs": [
    {
     "data": {
      "text/html": [
       "<div>\n",
       "<style scoped>\n",
       "    .dataframe tbody tr th:only-of-type {\n",
       "        vertical-align: middle;\n",
       "    }\n",
       "\n",
       "    .dataframe tbody tr th {\n",
       "        vertical-align: top;\n",
       "    }\n",
       "\n",
       "    .dataframe thead th {\n",
       "        text-align: right;\n",
       "    }\n",
       "</style>\n",
       "<table border=\"1\" class=\"dataframe\">\n",
       "  <thead>\n",
       "    <tr style=\"text-align: right;\">\n",
       "      <th></th>\n",
       "      <th>user_id</th>\n",
       "      <th>name</th>\n",
       "      <th>age</th>\n",
       "      <th>city</th>\n",
       "      <th>subscription_type</th>\n",
       "    </tr>\n",
       "  </thead>\n",
       "  <tbody>\n",
       "    <tr>\n",
       "      <th>0</th>\n",
       "      <td>1</td>\n",
       "      <td>Кира</td>\n",
       "      <td>22</td>\n",
       "      <td>Тюмень</td>\n",
       "      <td>ultra</td>\n",
       "    </tr>\n",
       "    <tr>\n",
       "      <th>1</th>\n",
       "      <td>2</td>\n",
       "      <td>Станислав</td>\n",
       "      <td>31</td>\n",
       "      <td>Омск</td>\n",
       "      <td>ultra</td>\n",
       "    </tr>\n",
       "    <tr>\n",
       "      <th>2</th>\n",
       "      <td>3</td>\n",
       "      <td>Алексей</td>\n",
       "      <td>20</td>\n",
       "      <td>Москва</td>\n",
       "      <td>ultra</td>\n",
       "    </tr>\n",
       "    <tr>\n",
       "      <th>3</th>\n",
       "      <td>4</td>\n",
       "      <td>Константин</td>\n",
       "      <td>26</td>\n",
       "      <td>Ростов-на-Дону</td>\n",
       "      <td>ultra</td>\n",
       "    </tr>\n",
       "    <tr>\n",
       "      <th>4</th>\n",
       "      <td>5</td>\n",
       "      <td>Адель</td>\n",
       "      <td>28</td>\n",
       "      <td>Омск</td>\n",
       "      <td>ultra</td>\n",
       "    </tr>\n",
       "  </tbody>\n",
       "</table>\n",
       "</div>"
      ],
      "text/plain": [
       "   user_id        name  age            city subscription_type\n",
       "0        1        Кира   22          Тюмень             ultra\n",
       "1        2   Станислав   31            Омск             ultra\n",
       "2        3     Алексей   20          Москва             ultra\n",
       "3        4  Константин   26  Ростов-на-Дону             ultra\n",
       "4        5       Адель   28            Омск             ultra"
      ]
     },
     "execution_count": 3,
     "metadata": {},
     "output_type": "execute_result"
    }
   ],
   "source": [
    "# загрузим данные\n",
    "try:\n",
    "    users = pd.read_csv('....csv') \n",
    "except:\n",
    "    users = pd.read_csv('https://....csv')\n",
    "users.head()"
   ]
  },
  {
   "cell_type": "code",
   "execution_count": 4,
   "id": "b27db3e3",
   "metadata": {},
   "outputs": [
    {
     "data": {
      "text/html": [
       "<div>\n",
       "<style scoped>\n",
       "    .dataframe tbody tr th:only-of-type {\n",
       "        vertical-align: middle;\n",
       "    }\n",
       "\n",
       "    .dataframe tbody tr th {\n",
       "        vertical-align: top;\n",
       "    }\n",
       "\n",
       "    .dataframe thead th {\n",
       "        text-align: right;\n",
       "    }\n",
       "</style>\n",
       "<table border=\"1\" class=\"dataframe\">\n",
       "  <thead>\n",
       "    <tr style=\"text-align: right;\">\n",
       "      <th></th>\n",
       "      <th>user_id</th>\n",
       "      <th>distance</th>\n",
       "      <th>duration</th>\n",
       "      <th>date</th>\n",
       "    </tr>\n",
       "  </thead>\n",
       "  <tbody>\n",
       "    <tr>\n",
       "      <th>0</th>\n",
       "      <td>1</td>\n",
       "      <td>4409.919140</td>\n",
       "      <td>25.599769</td>\n",
       "      <td>2021-01-01</td>\n",
       "    </tr>\n",
       "    <tr>\n",
       "      <th>1</th>\n",
       "      <td>1</td>\n",
       "      <td>2617.592153</td>\n",
       "      <td>15.816871</td>\n",
       "      <td>2021-01-18</td>\n",
       "    </tr>\n",
       "    <tr>\n",
       "      <th>2</th>\n",
       "      <td>1</td>\n",
       "      <td>754.159807</td>\n",
       "      <td>6.232113</td>\n",
       "      <td>2021-04-20</td>\n",
       "    </tr>\n",
       "    <tr>\n",
       "      <th>3</th>\n",
       "      <td>1</td>\n",
       "      <td>2694.783254</td>\n",
       "      <td>18.511000</td>\n",
       "      <td>2021-08-11</td>\n",
       "    </tr>\n",
       "    <tr>\n",
       "      <th>4</th>\n",
       "      <td>1</td>\n",
       "      <td>4028.687306</td>\n",
       "      <td>26.265803</td>\n",
       "      <td>2021-08-28</td>\n",
       "    </tr>\n",
       "  </tbody>\n",
       "</table>\n",
       "</div>"
      ],
      "text/plain": [
       "   user_id     distance   duration       date\n",
       "0        1  4409.919140  25.599769 2021-01-01\n",
       "1        1  2617.592153  15.816871 2021-01-18\n",
       "2        1   754.159807   6.232113 2021-04-20\n",
       "3        1  2694.783254  18.511000 2021-08-11\n",
       "4        1  4028.687306  26.265803 2021-08-28"
      ]
     },
     "execution_count": 4,
     "metadata": {},
     "output_type": "execute_result"
    }
   ],
   "source": [
    "try:\n",
    "    rides = pd.read_csv('....csv', parse_dates=['date']) \n",
    "except:\n",
    "    rides = pd.read_csv('....csv', parse_dates=['date']) \n",
    "rides.head()"
   ]
  },
  {
   "cell_type": "code",
   "execution_count": 5,
   "id": "826bb770",
   "metadata": {},
   "outputs": [
    {
     "data": {
      "text/html": [
       "<div>\n",
       "<style scoped>\n",
       "    .dataframe tbody tr th:only-of-type {\n",
       "        vertical-align: middle;\n",
       "    }\n",
       "\n",
       "    .dataframe tbody tr th {\n",
       "        vertical-align: top;\n",
       "    }\n",
       "\n",
       "    .dataframe thead th {\n",
       "        text-align: right;\n",
       "    }\n",
       "</style>\n",
       "<table border=\"1\" class=\"dataframe\">\n",
       "  <thead>\n",
       "    <tr style=\"text-align: right;\">\n",
       "      <th></th>\n",
       "      <th>subscription_type</th>\n",
       "      <th>minute_price</th>\n",
       "      <th>start_ride_price</th>\n",
       "      <th>subscription_fee</th>\n",
       "    </tr>\n",
       "  </thead>\n",
       "  <tbody>\n",
       "    <tr>\n",
       "      <th>0</th>\n",
       "      <td>free</td>\n",
       "      <td>8</td>\n",
       "      <td>50</td>\n",
       "      <td>0</td>\n",
       "    </tr>\n",
       "    <tr>\n",
       "      <th>1</th>\n",
       "      <td>ultra</td>\n",
       "      <td>6</td>\n",
       "      <td>0</td>\n",
       "      <td>199</td>\n",
       "    </tr>\n",
       "  </tbody>\n",
       "</table>\n",
       "</div>"
      ],
      "text/plain": [
       "  subscription_type  minute_price  start_ride_price  subscription_fee\n",
       "0              free             8                50                 0\n",
       "1             ultra             6                 0               199"
      ]
     },
     "execution_count": 5,
     "metadata": {},
     "output_type": "execute_result"
    }
   ],
   "source": [
    "try:\n",
    "    subscriptions = pd.read_csv('....csv') \n",
    "except:\n",
    "    subscriptions = pd.read_csv('https://....csv') \n",
    "subscriptions.head()"
   ]
  },
  {
   "cell_type": "code",
   "execution_count": 6,
   "id": "c84f5751",
   "metadata": {},
   "outputs": [
    {
     "name": "stdout",
     "output_type": "stream",
     "text": [
      "<class 'pandas.core.frame.DataFrame'>\n",
      "RangeIndex: 1565 entries, 0 to 1564\n",
      "Data columns (total 5 columns):\n",
      " #   Column             Non-Null Count  Dtype \n",
      "---  ------             --------------  ----- \n",
      " 0   user_id            1565 non-null   int64 \n",
      " 1   name               1565 non-null   object\n",
      " 2   age                1565 non-null   int64 \n",
      " 3   city               1565 non-null   object\n",
      " 4   subscription_type  1565 non-null   object\n",
      "dtypes: int64(2), object(3)\n",
      "memory usage: 61.3+ KB\n"
     ]
    }
   ],
   "source": [
    "# получим общую информацию о данных\n",
    "users.info()"
   ]
  },
  {
   "cell_type": "code",
   "execution_count": 7,
   "id": "e2c1c573",
   "metadata": {},
   "outputs": [
    {
     "name": "stdout",
     "output_type": "stream",
     "text": [
      "<class 'pandas.core.frame.DataFrame'>\n",
      "RangeIndex: 18068 entries, 0 to 18067\n",
      "Data columns (total 4 columns):\n",
      " #   Column    Non-Null Count  Dtype         \n",
      "---  ------    --------------  -----         \n",
      " 0   user_id   18068 non-null  int64         \n",
      " 1   distance  18068 non-null  float64       \n",
      " 2   duration  18068 non-null  float64       \n",
      " 3   date      18068 non-null  datetime64[ns]\n",
      "dtypes: datetime64[ns](1), float64(2), int64(1)\n",
      "memory usage: 564.8 KB\n"
     ]
    }
   ],
   "source": [
    "rides.info()"
   ]
  },
  {
   "cell_type": "code",
   "execution_count": 8,
   "id": "83b7522b",
   "metadata": {},
   "outputs": [
    {
     "name": "stdout",
     "output_type": "stream",
     "text": [
      "<class 'pandas.core.frame.DataFrame'>\n",
      "RangeIndex: 2 entries, 0 to 1\n",
      "Data columns (total 4 columns):\n",
      " #   Column             Non-Null Count  Dtype \n",
      "---  ------             --------------  ----- \n",
      " 0   subscription_type  2 non-null      object\n",
      " 1   minute_price       2 non-null      int64 \n",
      " 2   start_ride_price   2 non-null      int64 \n",
      " 3   subscription_fee   2 non-null      int64 \n",
      "dtypes: int64(3), object(1)\n",
      "memory usage: 192.0+ bytes\n"
     ]
    }
   ],
   "source": [
    "subscriptions.info()"
   ]
  },
  {
   "cell_type": "markdown",
   "id": "5b3c81c3",
   "metadata": {},
   "source": [
    "### Выводы"
   ]
  },
  {
   "cell_type": "markdown",
   "id": "68a1db4b",
   "metadata": {},
   "source": [
    "Пропусков в данных нет. Нужно привести столбец date к типу дата."
   ]
  },
  {
   "cell_type": "markdown",
   "id": "72993d18",
   "metadata": {},
   "source": [
    "## 2. Предобработка данных"
   ]
  },
  {
   "cell_type": "code",
   "execution_count": 9,
   "id": "84e0ae0d",
   "metadata": {},
   "outputs": [
    {
     "data": {
      "text/plain": [
       "dtype('<M8[ns]')"
      ]
     },
     "execution_count": 9,
     "metadata": {},
     "output_type": "execute_result"
    }
   ],
   "source": [
    "# изменим тип данных на дату   \n",
    "rides['date'] = pd.to_datetime(rides['date'])\n",
    "rides['date'].dtype"
   ]
  },
  {
   "cell_type": "code",
   "execution_count": 10,
   "id": "37e20831",
   "metadata": {},
   "outputs": [
    {
     "data": {
      "text/plain": [
       "(Timestamp('2021-01-01 00:00:00'), Timestamp('2021-12-30 00:00:00'))"
      ]
     },
     "execution_count": 10,
     "metadata": {},
     "output_type": "execute_result"
    }
   ],
   "source": [
    "# посмотрим на временной период\n",
    "rides['date'].min(), rides['date'].max()"
   ]
  },
  {
   "cell_type": "code",
   "execution_count": 11,
   "id": "964b0a1c",
   "metadata": {},
   "outputs": [
    {
     "data": {
      "text/html": [
       "<div>\n",
       "<style scoped>\n",
       "    .dataframe tbody tr th:only-of-type {\n",
       "        vertical-align: middle;\n",
       "    }\n",
       "\n",
       "    .dataframe tbody tr th {\n",
       "        vertical-align: top;\n",
       "    }\n",
       "\n",
       "    .dataframe thead th {\n",
       "        text-align: right;\n",
       "    }\n",
       "</style>\n",
       "<table border=\"1\" class=\"dataframe\">\n",
       "  <thead>\n",
       "    <tr style=\"text-align: right;\">\n",
       "      <th></th>\n",
       "      <th>user_id</th>\n",
       "      <th>distance</th>\n",
       "      <th>duration</th>\n",
       "      <th>date</th>\n",
       "      <th>month</th>\n",
       "    </tr>\n",
       "  </thead>\n",
       "  <tbody>\n",
       "    <tr>\n",
       "      <th>0</th>\n",
       "      <td>1</td>\n",
       "      <td>4409.919140</td>\n",
       "      <td>25.599769</td>\n",
       "      <td>2021-01-01</td>\n",
       "      <td>1</td>\n",
       "    </tr>\n",
       "    <tr>\n",
       "      <th>1</th>\n",
       "      <td>1</td>\n",
       "      <td>2617.592153</td>\n",
       "      <td>15.816871</td>\n",
       "      <td>2021-01-18</td>\n",
       "      <td>1</td>\n",
       "    </tr>\n",
       "    <tr>\n",
       "      <th>2</th>\n",
       "      <td>1</td>\n",
       "      <td>754.159807</td>\n",
       "      <td>6.232113</td>\n",
       "      <td>2021-04-20</td>\n",
       "      <td>4</td>\n",
       "    </tr>\n",
       "    <tr>\n",
       "      <th>3</th>\n",
       "      <td>1</td>\n",
       "      <td>2694.783254</td>\n",
       "      <td>18.511000</td>\n",
       "      <td>2021-08-11</td>\n",
       "      <td>8</td>\n",
       "    </tr>\n",
       "    <tr>\n",
       "      <th>4</th>\n",
       "      <td>1</td>\n",
       "      <td>4028.687306</td>\n",
       "      <td>26.265803</td>\n",
       "      <td>2021-08-28</td>\n",
       "      <td>8</td>\n",
       "    </tr>\n",
       "  </tbody>\n",
       "</table>\n",
       "</div>"
      ],
      "text/plain": [
       "   user_id     distance   duration       date  month\n",
       "0        1  4409.919140  25.599769 2021-01-01      1\n",
       "1        1  2617.592153  15.816871 2021-01-18      1\n",
       "2        1   754.159807   6.232113 2021-04-20      4\n",
       "3        1  2694.783254  18.511000 2021-08-11      8\n",
       "4        1  4028.687306  26.265803 2021-08-28      8"
      ]
     },
     "execution_count": 11,
     "metadata": {},
     "output_type": "execute_result"
    }
   ],
   "source": [
    "# добавим столбец с номером месяца\n",
    "rides['month'] = pd.to_datetime(rides['date']).dt.month\n",
    "rides.head()"
   ]
  },
  {
   "cell_type": "markdown",
   "id": "7984683c",
   "metadata": {},
   "source": [
    "### Проверка дубликатов "
   ]
  },
  {
   "cell_type": "markdown",
   "id": "e5c5a8d3",
   "metadata": {},
   "source": [
    "#### Таблица users"
   ]
  },
  {
   "cell_type": "code",
   "execution_count": 12,
   "id": "dc129d2e",
   "metadata": {},
   "outputs": [
    {
     "data": {
      "text/plain": [
       "31"
      ]
     },
     "execution_count": 12,
     "metadata": {},
     "output_type": "execute_result"
    }
   ],
   "source": [
    "# проверка наличия явных дубликатов\n",
    "users.duplicated().sum()"
   ]
  },
  {
   "cell_type": "code",
   "execution_count": 13,
   "id": "cab71175",
   "metadata": {
    "scrolled": true
   },
   "outputs": [],
   "source": [
    "# удалим дубликаты \n",
    "users = users.drop_duplicates()"
   ]
  },
  {
   "cell_type": "code",
   "execution_count": 14,
   "id": "f0b943fc",
   "metadata": {},
   "outputs": [
    {
     "data": {
      "text/plain": [
       "0"
      ]
     },
     "execution_count": 14,
     "metadata": {},
     "output_type": "execute_result"
    }
   ],
   "source": [
    "users.duplicated().sum() # проверим удаление"
   ]
  },
  {
   "cell_type": "code",
   "execution_count": 15,
   "id": "292be759",
   "metadata": {
    "scrolled": true
   },
   "outputs": [
    {
     "name": "stdout",
     "output_type": "stream",
     "text": [
      "<class 'pandas.core.frame.DataFrame'>\n",
      "Index: 1534 entries, 0 to 1533\n",
      "Data columns (total 5 columns):\n",
      " #   Column             Non-Null Count  Dtype \n",
      "---  ------             --------------  ----- \n",
      " 0   user_id            1534 non-null   int64 \n",
      " 1   name               1534 non-null   object\n",
      " 2   age                1534 non-null   int64 \n",
      " 3   city               1534 non-null   object\n",
      " 4   subscription_type  1534 non-null   object\n",
      "dtypes: int64(2), object(3)\n",
      "memory usage: 71.9+ KB\n"
     ]
    }
   ],
   "source": [
    "users.info() # проверим удаление"
   ]
  },
  {
   "cell_type": "code",
   "execution_count": 16,
   "id": "6b9f5ba7",
   "metadata": {},
   "outputs": [
    {
     "data": {
      "text/plain": [
       "array(['Тюмень', 'Омск', 'Москва', 'Ростов-на-Дону', 'Краснодар',\n",
       "       'Пятигорск', 'Екатеринбург', 'Сочи'], dtype=object)"
      ]
     },
     "execution_count": 16,
     "metadata": {},
     "output_type": "execute_result"
    }
   ],
   "source": [
    "# проверим неявные дубликаты\n",
    "users['city'].unique()"
   ]
  },
  {
   "cell_type": "markdown",
   "id": "bedfb0fc",
   "metadata": {},
   "source": [
    "Дубликатов нет"
   ]
  },
  {
   "cell_type": "markdown",
   "id": "3017ff65",
   "metadata": {},
   "source": [
    "#### Таблица rides"
   ]
  },
  {
   "cell_type": "code",
   "execution_count": 17,
   "id": "958e6b5c",
   "metadata": {},
   "outputs": [
    {
     "data": {
      "text/plain": [
       "0"
      ]
     },
     "execution_count": 17,
     "metadata": {},
     "output_type": "execute_result"
    }
   ],
   "source": [
    "# проверка наличия явных дубликатов\n",
    "rides.duplicated().sum()"
   ]
  },
  {
   "cell_type": "markdown",
   "id": "3c223693",
   "metadata": {},
   "source": [
    "Дубликатов нет"
   ]
  },
  {
   "cell_type": "markdown",
   "id": "12e045b2",
   "metadata": {},
   "source": [
    "#### Таблица subscriptions"
   ]
  },
  {
   "cell_type": "code",
   "execution_count": 18,
   "id": "821ac50f",
   "metadata": {},
   "outputs": [
    {
     "data": {
      "text/plain": [
       "0"
      ]
     },
     "execution_count": 18,
     "metadata": {},
     "output_type": "execute_result"
    }
   ],
   "source": [
    "# проверка наличия явных дубликатов\n",
    "subscriptions.duplicated().sum()"
   ]
  },
  {
   "cell_type": "markdown",
   "id": "a81a03fc",
   "metadata": {},
   "source": [
    "Дубликатов нет"
   ]
  },
  {
   "cell_type": "markdown",
   "id": "d0b88cbf",
   "metadata": {},
   "source": [
    "### Выводы\n",
    "Выполнена предобработка данных. Был изменен тип данных и удалены дубликаты."
   ]
  },
  {
   "cell_type": "markdown",
   "id": "14c06705",
   "metadata": {},
   "source": [
    "## 3. Исследовательский анализ данных"
   ]
  },
  {
   "cell_type": "markdown",
   "id": "e5c4b37e",
   "metadata": {},
   "source": [
    "Опишем и визуализируем общую информацию о пользователях и поездках:\n",
    "- 3.1 частота встречаемости городов;\n",
    "- 3.2 соотношение пользователей с подпиской и без подписки;\n",
    "- 3.3 возраст пользователей;\n",
    "- 3.4 расстояние, которое пользователь преодолел за одну поездку;\n",
    "- 3.5 продолжительность поездок."
   ]
  },
  {
   "cell_type": "markdown",
   "id": "4ac4ab92",
   "metadata": {},
   "source": [
    "### 3.1 частота встречаемости городов"
   ]
  },
  {
   "cell_type": "code",
   "execution_count": 19,
   "id": "f0f03635",
   "metadata": {},
   "outputs": [],
   "source": [
    "# выберем тему seaborn\n",
    "sns.set_theme()"
   ]
  },
  {
   "cell_type": "code",
   "execution_count": 20,
   "id": "316d1880",
   "metadata": {
    "scrolled": false
   },
   "outputs": [
    {
     "data": {
      "image/png": "[encoded data removed]",
      "text/plain": [
       "<Figure size 1100x500 with 1 Axes>"
      ]
     },
     "metadata": {},
     "output_type": "display_data"
    }
   ],
   "source": [
    "# частота встречаемости городов\n",
    "fig, ax = plt.subplots(figsize=(11, 5))\n",
    "sns.countplot(data=users, x='city', color='b')\n",
    "ax.set(title = 'Частота встречаемости городов', xlabel = 'города', ylabel = 'количество')\n",
    "plt.grid(True);"
   ]
  },
  {
   "cell_type": "markdown",
   "id": "f2dc001c",
   "metadata": {},
   "source": [
    "Города представлены относительно равномерно"
   ]
  },
  {
   "cell_type": "code",
   "execution_count": 21,
   "id": "927a6521",
   "metadata": {},
   "outputs": [
    {
     "data": {
      "text/plain": [
       "city\n",
       "Москва            168\n",
       "Тюмень            180\n",
       "Омск              183\n",
       "Сочи              189\n",
       "Краснодар         193\n",
       "Ростов-на-Дону    198\n",
       "Екатеринбург      204\n",
       "Пятигорск         219\n",
       "Name: count, dtype: int64"
      ]
     },
     "execution_count": 21,
     "metadata": {},
     "output_type": "execute_result"
    }
   ],
   "source": [
    "# таблица со значениями частотности городов\n",
    "users['city'].value_counts().sort_values()"
   ]
  },
  {
   "cell_type": "markdown",
   "id": "ef96cc87",
   "metadata": {},
   "source": [
    "#### 3.2 Cоотношение пользователей с подпиской и без подписки"
   ]
  },
  {
   "cell_type": "code",
   "execution_count": 22,
   "id": "3c1cf562",
   "metadata": {},
   "outputs": [
    {
     "data": {
      "text/plain": [
       "subscription_type\n",
       "free     835\n",
       "ultra    699\n",
       "Name: count, dtype: int64"
      ]
     },
     "execution_count": 22,
     "metadata": {},
     "output_type": "execute_result"
    }
   ],
   "source": [
    "# соотношение пользователей с подпиской и без\n",
    "users['subscription_type'].value_counts()"
   ]
  },
  {
   "cell_type": "code",
   "execution_count": 23,
   "id": "ee2d040d",
   "metadata": {},
   "outputs": [
    {
     "data": {
      "image/png": "[encoded data removed]",
      "text/plain": [
       "<Figure size 400x400 with 1 Axes>"
      ]
     },
     "metadata": {},
     "output_type": "display_data"
    }
   ],
   "source": [
    "# круговая диаграмма\n",
    "fig, ax = plt.subplots(figsize=(4,4))\n",
    "ax.set(title = 'Соотношение пользователей с подпиской и без подписки')\n",
    "users['subscription_type'].value_counts().plot.pie(autopct='%1.0f%%');"
   ]
  },
  {
   "cell_type": "markdown",
   "id": "f8957c74",
   "metadata": {},
   "source": [
    "#### 3.3 возраст пользователей"
   ]
  },
  {
   "cell_type": "code",
   "execution_count": 24,
   "id": "a2695101",
   "metadata": {},
   "outputs": [
    {
     "data": {
      "text/plain": [
       "24.903520208604956"
      ]
     },
     "execution_count": 24,
     "metadata": {},
     "output_type": "execute_result"
    },
    {
     "data": {
      "image/png": "[encoded data removed]",
      "text/plain": [
       "<Figure size 800x400 with 1 Axes>"
      ]
     },
     "metadata": {},
     "output_type": "display_data"
    }
   ],
   "source": [
    "# возраст пользователей\n",
    "fig, ax = plt.subplots(figsize=(8, 4))\n",
    "users['age'].hist(bins=100)\n",
    "ax.set(title = 'Распределение по возрасту', xlabel = 'возраст', ylabel = 'количество');\n",
    "users['age'].mean()"
   ]
  },
  {
   "cell_type": "markdown",
   "id": "c948f841",
   "metadata": {},
   "source": [
    "Распределение возраста пользователей очень близко к нормальному распределению"
   ]
  },
  {
   "cell_type": "code",
   "execution_count": 25,
   "id": "cde0af1a",
   "metadata": {},
   "outputs": [
    {
     "data": {
      "text/plain": [
       "count    1534.000000\n",
       "mean       24.903520\n",
       "std         4.572367\n",
       "min        12.000000\n",
       "25%        22.000000\n",
       "50%        25.000000\n",
       "75%        28.000000\n",
       "max        43.000000\n",
       "Name: age, dtype: float64"
      ]
     },
     "execution_count": 25,
     "metadata": {},
     "output_type": "execute_result"
    }
   ],
   "source": [
    "# посмотрим на описательную статистику данных возраста пользователей\n",
    "users['age'].describe()"
   ]
  },
  {
   "cell_type": "markdown",
   "id": "1f1ebd0b",
   "metadata": {},
   "source": [
    "#### 3.4 расстояние, которое пользователь преодолел за одну поездку"
   ]
  },
  {
   "cell_type": "code",
   "execution_count": 26,
   "id": "d694a2a5",
   "metadata": {
    "scrolled": false
   },
   "outputs": [
    {
     "data": {
      "image/png": "[encoded data removed]",
      "text/plain": [
       "<Figure size 800x400 with 1 Axes>"
      ]
     },
     "metadata": {},
     "output_type": "display_data"
    }
   ],
   "source": [
    "# распределение по расстоянию\n",
    "fig, ax = plt.subplots(figsize=(8, 4))\n",
    "rides['distance'].hist(bins=100)\n",
    "ax.set(title = 'Распределение по расстоянию', xlabel = 'расстояние', ylabel = 'количество');"
   ]
  },
  {
   "cell_type": "markdown",
   "id": "1c1a2e8e",
   "metadata": {},
   "source": [
    "Распределение по расстоянию тоже близко к номральному, но имеется небольшой бугорок в левой части."
   ]
  },
  {
   "cell_type": "markdown",
   "id": "11bd9dac",
   "metadata": {},
   "source": [
    "#### 3.5 Продолжительность поездок"
   ]
  },
  {
   "cell_type": "code",
   "execution_count": 27,
   "id": "eb62521a",
   "metadata": {
    "scrolled": false
   },
   "outputs": [
    {
     "data": {
      "image/png": "[encoded data removed]",
      "text/plain": [
       "<Figure size 800x400 with 1 Axes>"
      ]
     },
     "metadata": {},
     "output_type": "display_data"
    }
   ],
   "source": [
    "# распределение по продолжительности поездки\n",
    "fig, ax = plt.subplots(figsize=(8, 4))\n",
    "rides['duration'].hist(bins=100)\n",
    "ax.set(title = 'Распределение по продолжительности поездки', xlabel = 'продолжительность поездки', ylabel = 'количество');"
   ]
  },
  {
   "cell_type": "markdown",
   "id": "ad81ab62",
   "metadata": {},
   "source": [
    "Распределение продолжительности поездок блико к нормальному, за исключением небольшого выброса с левой стороны, который вызывает вопросы - очень похоже на аномалию."
   ]
  },
  {
   "cell_type": "markdown",
   "id": "6a87f07a",
   "metadata": {},
   "source": [
    "### 4. Объединение данных"
   ]
  },
  {
   "cell_type": "code",
   "execution_count": 28,
   "id": "86a8fec3",
   "metadata": {},
   "outputs": [
    {
     "data": {
      "text/html": [
       "<div>\n",
       "<style scoped>\n",
       "    .dataframe tbody tr th:only-of-type {\n",
       "        vertical-align: middle;\n",
       "    }\n",
       "\n",
       "    .dataframe tbody tr th {\n",
       "        vertical-align: top;\n",
       "    }\n",
       "\n",
       "    .dataframe thead th {\n",
       "        text-align: right;\n",
       "    }\n",
       "</style>\n",
       "<table border=\"1\" class=\"dataframe\">\n",
       "  <thead>\n",
       "    <tr style=\"text-align: right;\">\n",
       "      <th></th>\n",
       "      <th>user_id</th>\n",
       "      <th>name</th>\n",
       "      <th>age</th>\n",
       "      <th>city</th>\n",
       "      <th>subscription_type</th>\n",
       "      <th>distance</th>\n",
       "      <th>duration</th>\n",
       "      <th>date</th>\n",
       "      <th>month</th>\n",
       "    </tr>\n",
       "  </thead>\n",
       "  <tbody>\n",
       "    <tr>\n",
       "      <th>0</th>\n",
       "      <td>1</td>\n",
       "      <td>Кира</td>\n",
       "      <td>22</td>\n",
       "      <td>Тюмень</td>\n",
       "      <td>ultra</td>\n",
       "      <td>4409.919140</td>\n",
       "      <td>25.599769</td>\n",
       "      <td>2021-01-01</td>\n",
       "      <td>1</td>\n",
       "    </tr>\n",
       "    <tr>\n",
       "      <th>1</th>\n",
       "      <td>1</td>\n",
       "      <td>Кира</td>\n",
       "      <td>22</td>\n",
       "      <td>Тюмень</td>\n",
       "      <td>ultra</td>\n",
       "      <td>2617.592153</td>\n",
       "      <td>15.816871</td>\n",
       "      <td>2021-01-18</td>\n",
       "      <td>1</td>\n",
       "    </tr>\n",
       "    <tr>\n",
       "      <th>2</th>\n",
       "      <td>1</td>\n",
       "      <td>Кира</td>\n",
       "      <td>22</td>\n",
       "      <td>Тюмень</td>\n",
       "      <td>ultra</td>\n",
       "      <td>754.159807</td>\n",
       "      <td>6.232113</td>\n",
       "      <td>2021-04-20</td>\n",
       "      <td>4</td>\n",
       "    </tr>\n",
       "    <tr>\n",
       "      <th>3</th>\n",
       "      <td>1</td>\n",
       "      <td>Кира</td>\n",
       "      <td>22</td>\n",
       "      <td>Тюмень</td>\n",
       "      <td>ultra</td>\n",
       "      <td>2694.783254</td>\n",
       "      <td>18.511000</td>\n",
       "      <td>2021-08-11</td>\n",
       "      <td>8</td>\n",
       "    </tr>\n",
       "    <tr>\n",
       "      <th>4</th>\n",
       "      <td>1</td>\n",
       "      <td>Кира</td>\n",
       "      <td>22</td>\n",
       "      <td>Тюмень</td>\n",
       "      <td>ultra</td>\n",
       "      <td>4028.687306</td>\n",
       "      <td>26.265803</td>\n",
       "      <td>2021-08-28</td>\n",
       "      <td>8</td>\n",
       "    </tr>\n",
       "    <tr>\n",
       "      <th>...</th>\n",
       "      <td>...</td>\n",
       "      <td>...</td>\n",
       "      <td>...</td>\n",
       "      <td>...</td>\n",
       "      <td>...</td>\n",
       "      <td>...</td>\n",
       "      <td>...</td>\n",
       "      <td>...</td>\n",
       "      <td>...</td>\n",
       "    </tr>\n",
       "    <tr>\n",
       "      <th>18063</th>\n",
       "      <td>1534</td>\n",
       "      <td>Альберт</td>\n",
       "      <td>25</td>\n",
       "      <td>Краснодар</td>\n",
       "      <td>free</td>\n",
       "      <td>3781.098080</td>\n",
       "      <td>19.822962</td>\n",
       "      <td>2021-11-04</td>\n",
       "      <td>11</td>\n",
       "    </tr>\n",
       "    <tr>\n",
       "      <th>18064</th>\n",
       "      <td>1534</td>\n",
       "      <td>Альберт</td>\n",
       "      <td>25</td>\n",
       "      <td>Краснодар</td>\n",
       "      <td>free</td>\n",
       "      <td>2840.423057</td>\n",
       "      <td>21.409799</td>\n",
       "      <td>2021-11-16</td>\n",
       "      <td>11</td>\n",
       "    </tr>\n",
       "    <tr>\n",
       "      <th>18065</th>\n",
       "      <td>1534</td>\n",
       "      <td>Альберт</td>\n",
       "      <td>25</td>\n",
       "      <td>Краснодар</td>\n",
       "      <td>free</td>\n",
       "      <td>3826.185507</td>\n",
       "      <td>18.435051</td>\n",
       "      <td>2021-11-18</td>\n",
       "      <td>11</td>\n",
       "    </tr>\n",
       "    <tr>\n",
       "      <th>18066</th>\n",
       "      <td>1534</td>\n",
       "      <td>Альберт</td>\n",
       "      <td>25</td>\n",
       "      <td>Краснодар</td>\n",
       "      <td>free</td>\n",
       "      <td>2902.308661</td>\n",
       "      <td>16.674362</td>\n",
       "      <td>2021-11-27</td>\n",
       "      <td>11</td>\n",
       "    </tr>\n",
       "    <tr>\n",
       "      <th>18067</th>\n",
       "      <td>1534</td>\n",
       "      <td>Альберт</td>\n",
       "      <td>25</td>\n",
       "      <td>Краснодар</td>\n",
       "      <td>free</td>\n",
       "      <td>2371.711192</td>\n",
       "      <td>15.893917</td>\n",
       "      <td>2021-12-29</td>\n",
       "      <td>12</td>\n",
       "    </tr>\n",
       "  </tbody>\n",
       "</table>\n",
       "<p>18068 rows × 9 columns</p>\n",
       "</div>"
      ],
      "text/plain": [
       "       user_id     name  age       city subscription_type     distance  \\\n",
       "0            1     Кира   22     Тюмень             ultra  4409.919140   \n",
       "1            1     Кира   22     Тюмень             ultra  2617.592153   \n",
       "2            1     Кира   22     Тюмень             ultra   754.159807   \n",
       "3            1     Кира   22     Тюмень             ultra  2694.783254   \n",
       "4            1     Кира   22     Тюмень             ultra  4028.687306   \n",
       "...        ...      ...  ...        ...               ...          ...   \n",
       "18063     1534  Альберт   25  Краснодар              free  3781.098080   \n",
       "18064     1534  Альберт   25  Краснодар              free  2840.423057   \n",
       "18065     1534  Альберт   25  Краснодар              free  3826.185507   \n",
       "18066     1534  Альберт   25  Краснодар              free  2902.308661   \n",
       "18067     1534  Альберт   25  Краснодар              free  2371.711192   \n",
       "\n",
       "        duration       date  month  \n",
       "0      25.599769 2021-01-01      1  \n",
       "1      15.816871 2021-01-18      1  \n",
       "2       6.232113 2021-04-20      4  \n",
       "3      18.511000 2021-08-11      8  \n",
       "4      26.265803 2021-08-28      8  \n",
       "...          ...        ...    ...  \n",
       "18063  19.822962 2021-11-04     11  \n",
       "18064  21.409799 2021-11-16     11  \n",
       "18065  18.435051 2021-11-18     11  \n",
       "18066  16.674362 2021-11-27     11  \n",
       "18067  15.893917 2021-12-29     12  \n",
       "\n",
       "[18068 rows x 9 columns]"
      ]
     },
     "execution_count": 28,
     "metadata": {},
     "output_type": "execute_result"
    }
   ],
   "source": [
    "# объединим данные и проверим количество строк и столбцов\n",
    "df = users.merge(rides)\n",
    "df"
   ]
  },
  {
   "cell_type": "code",
   "execution_count": 29,
   "id": "e5b373da",
   "metadata": {},
   "outputs": [
    {
     "data": {
      "text/html": [
       "<div>\n",
       "<style scoped>\n",
       "    .dataframe tbody tr th:only-of-type {\n",
       "        vertical-align: middle;\n",
       "    }\n",
       "\n",
       "    .dataframe tbody tr th {\n",
       "        vertical-align: top;\n",
       "    }\n",
       "\n",
       "    .dataframe thead th {\n",
       "        text-align: right;\n",
       "    }\n",
       "</style>\n",
       "<table border=\"1\" class=\"dataframe\">\n",
       "  <thead>\n",
       "    <tr style=\"text-align: right;\">\n",
       "      <th></th>\n",
       "      <th>user_id</th>\n",
       "      <th>name</th>\n",
       "      <th>age</th>\n",
       "      <th>city</th>\n",
       "      <th>subscription_type</th>\n",
       "      <th>distance</th>\n",
       "      <th>duration</th>\n",
       "      <th>date</th>\n",
       "      <th>month</th>\n",
       "      <th>minute_price</th>\n",
       "      <th>start_ride_price</th>\n",
       "      <th>subscription_fee</th>\n",
       "    </tr>\n",
       "  </thead>\n",
       "  <tbody>\n",
       "    <tr>\n",
       "      <th>0</th>\n",
       "      <td>1</td>\n",
       "      <td>Кира</td>\n",
       "      <td>22</td>\n",
       "      <td>Тюмень</td>\n",
       "      <td>ultra</td>\n",
       "      <td>4409.919140</td>\n",
       "      <td>25.599769</td>\n",
       "      <td>2021-01-01</td>\n",
       "      <td>1</td>\n",
       "      <td>6</td>\n",
       "      <td>0</td>\n",
       "      <td>199</td>\n",
       "    </tr>\n",
       "    <tr>\n",
       "      <th>1</th>\n",
       "      <td>1</td>\n",
       "      <td>Кира</td>\n",
       "      <td>22</td>\n",
       "      <td>Тюмень</td>\n",
       "      <td>ultra</td>\n",
       "      <td>2617.592153</td>\n",
       "      <td>15.816871</td>\n",
       "      <td>2021-01-18</td>\n",
       "      <td>1</td>\n",
       "      <td>6</td>\n",
       "      <td>0</td>\n",
       "      <td>199</td>\n",
       "    </tr>\n",
       "    <tr>\n",
       "      <th>2</th>\n",
       "      <td>1</td>\n",
       "      <td>Кира</td>\n",
       "      <td>22</td>\n",
       "      <td>Тюмень</td>\n",
       "      <td>ultra</td>\n",
       "      <td>754.159807</td>\n",
       "      <td>6.232113</td>\n",
       "      <td>2021-04-20</td>\n",
       "      <td>4</td>\n",
       "      <td>6</td>\n",
       "      <td>0</td>\n",
       "      <td>199</td>\n",
       "    </tr>\n",
       "    <tr>\n",
       "      <th>3</th>\n",
       "      <td>1</td>\n",
       "      <td>Кира</td>\n",
       "      <td>22</td>\n",
       "      <td>Тюмень</td>\n",
       "      <td>ultra</td>\n",
       "      <td>2694.783254</td>\n",
       "      <td>18.511000</td>\n",
       "      <td>2021-08-11</td>\n",
       "      <td>8</td>\n",
       "      <td>6</td>\n",
       "      <td>0</td>\n",
       "      <td>199</td>\n",
       "    </tr>\n",
       "    <tr>\n",
       "      <th>4</th>\n",
       "      <td>1</td>\n",
       "      <td>Кира</td>\n",
       "      <td>22</td>\n",
       "      <td>Тюмень</td>\n",
       "      <td>ultra</td>\n",
       "      <td>4028.687306</td>\n",
       "      <td>26.265803</td>\n",
       "      <td>2021-08-28</td>\n",
       "      <td>8</td>\n",
       "      <td>6</td>\n",
       "      <td>0</td>\n",
       "      <td>199</td>\n",
       "    </tr>\n",
       "    <tr>\n",
       "      <th>...</th>\n",
       "      <td>...</td>\n",
       "      <td>...</td>\n",
       "      <td>...</td>\n",
       "      <td>...</td>\n",
       "      <td>...</td>\n",
       "      <td>...</td>\n",
       "      <td>...</td>\n",
       "      <td>...</td>\n",
       "      <td>...</td>\n",
       "      <td>...</td>\n",
       "      <td>...</td>\n",
       "      <td>...</td>\n",
       "    </tr>\n",
       "    <tr>\n",
       "      <th>18063</th>\n",
       "      <td>1534</td>\n",
       "      <td>Альберт</td>\n",
       "      <td>25</td>\n",
       "      <td>Краснодар</td>\n",
       "      <td>free</td>\n",
       "      <td>3781.098080</td>\n",
       "      <td>19.822962</td>\n",
       "      <td>2021-11-04</td>\n",
       "      <td>11</td>\n",
       "      <td>8</td>\n",
       "      <td>50</td>\n",
       "      <td>0</td>\n",
       "    </tr>\n",
       "    <tr>\n",
       "      <th>18064</th>\n",
       "      <td>1534</td>\n",
       "      <td>Альберт</td>\n",
       "      <td>25</td>\n",
       "      <td>Краснодар</td>\n",
       "      <td>free</td>\n",
       "      <td>2840.423057</td>\n",
       "      <td>21.409799</td>\n",
       "      <td>2021-11-16</td>\n",
       "      <td>11</td>\n",
       "      <td>8</td>\n",
       "      <td>50</td>\n",
       "      <td>0</td>\n",
       "    </tr>\n",
       "    <tr>\n",
       "      <th>18065</th>\n",
       "      <td>1534</td>\n",
       "      <td>Альберт</td>\n",
       "      <td>25</td>\n",
       "      <td>Краснодар</td>\n",
       "      <td>free</td>\n",
       "      <td>3826.185507</td>\n",
       "      <td>18.435051</td>\n",
       "      <td>2021-11-18</td>\n",
       "      <td>11</td>\n",
       "      <td>8</td>\n",
       "      <td>50</td>\n",
       "      <td>0</td>\n",
       "    </tr>\n",
       "    <tr>\n",
       "      <th>18066</th>\n",
       "      <td>1534</td>\n",
       "      <td>Альберт</td>\n",
       "      <td>25</td>\n",
       "      <td>Краснодар</td>\n",
       "      <td>free</td>\n",
       "      <td>2902.308661</td>\n",
       "      <td>16.674362</td>\n",
       "      <td>2021-11-27</td>\n",
       "      <td>11</td>\n",
       "      <td>8</td>\n",
       "      <td>50</td>\n",
       "      <td>0</td>\n",
       "    </tr>\n",
       "    <tr>\n",
       "      <th>18067</th>\n",
       "      <td>1534</td>\n",
       "      <td>Альберт</td>\n",
       "      <td>25</td>\n",
       "      <td>Краснодар</td>\n",
       "      <td>free</td>\n",
       "      <td>2371.711192</td>\n",
       "      <td>15.893917</td>\n",
       "      <td>2021-12-29</td>\n",
       "      <td>12</td>\n",
       "      <td>8</td>\n",
       "      <td>50</td>\n",
       "      <td>0</td>\n",
       "    </tr>\n",
       "  </tbody>\n",
       "</table>\n",
       "<p>18068 rows × 12 columns</p>\n",
       "</div>"
      ],
      "text/plain": [
       "       user_id     name  age       city subscription_type     distance  \\\n",
       "0            1     Кира   22     Тюмень             ultra  4409.919140   \n",
       "1            1     Кира   22     Тюмень             ultra  2617.592153   \n",
       "2            1     Кира   22     Тюмень             ultra   754.159807   \n",
       "3            1     Кира   22     Тюмень             ultra  2694.783254   \n",
       "4            1     Кира   22     Тюмень             ultra  4028.687306   \n",
       "...        ...      ...  ...        ...               ...          ...   \n",
       "18063     1534  Альберт   25  Краснодар              free  3781.098080   \n",
       "18064     1534  Альберт   25  Краснодар              free  2840.423057   \n",
       "18065     1534  Альберт   25  Краснодар              free  3826.185507   \n",
       "18066     1534  Альберт   25  Краснодар              free  2902.308661   \n",
       "18067     1534  Альберт   25  Краснодар              free  2371.711192   \n",
       "\n",
       "        duration       date  month  minute_price  start_ride_price  \\\n",
       "0      25.599769 2021-01-01      1             6                 0   \n",
       "1      15.816871 2021-01-18      1             6                 0   \n",
       "2       6.232113 2021-04-20      4             6                 0   \n",
       "3      18.511000 2021-08-11      8             6                 0   \n",
       "4      26.265803 2021-08-28      8             6                 0   \n",
       "...          ...        ...    ...           ...               ...   \n",
       "18063  19.822962 2021-11-04     11             8                50   \n",
       "18064  21.409799 2021-11-16     11             8                50   \n",
       "18065  18.435051 2021-11-18     11             8                50   \n",
       "18066  16.674362 2021-11-27     11             8                50   \n",
       "18067  15.893917 2021-12-29     12             8                50   \n",
       "\n",
       "       subscription_fee  \n",
       "0                   199  \n",
       "1                   199  \n",
       "2                   199  \n",
       "3                   199  \n",
       "4                   199  \n",
       "...                 ...  \n",
       "18063                 0  \n",
       "18064                 0  \n",
       "18065                 0  \n",
       "18066                 0  \n",
       "18067                 0  \n",
       "\n",
       "[18068 rows x 12 columns]"
      ]
     },
     "execution_count": 29,
     "metadata": {},
     "output_type": "execute_result"
    }
   ],
   "source": [
    "# добавим таблицу subscriptions\n",
    "df = df.merge(subscriptions)\n",
    "df"
   ]
  },
  {
   "cell_type": "code",
   "execution_count": 30,
   "id": "116ca231",
   "metadata": {},
   "outputs": [],
   "source": [
    "# чтобы проверить аномально низкую продолжительность поездки (в районе минуты) добавим столбец скорость (км/час)\n",
    "df['speed'] = df['distance'] / df['duration'] /1000 * 60"
   ]
  },
  {
   "cell_type": "code",
   "execution_count": 31,
   "id": "299f4b88",
   "metadata": {},
   "outputs": [
    {
     "data": {
      "image/png": "[encoded data removed]",
      "text/plain": [
       "<Figure size 800x400 with 1 Axes>"
      ]
     },
     "metadata": {},
     "output_type": "display_data"
    }
   ],
   "source": [
    "# построим распределение по скорости\n",
    "fig, ax = plt.subplots(figsize=(8, 4))\n",
    "ax.set(title = 'Распределение по скорости', xlabel = 'скорость', ylabel = 'количество');\n",
    "df['speed'].hist(bins = 50);"
   ]
  },
  {
   "cell_type": "markdown",
   "id": "1ada2dc1",
   "metadata": {},
   "source": [
    "Мы видим аномалии. Посмотрим на интервал от 0 до 30 км/час и от 30 до 900 км/час"
   ]
  },
  {
   "cell_type": "code",
   "execution_count": 32,
   "id": "281aa48e",
   "metadata": {},
   "outputs": [
    {
     "data": {
      "image/png": "[encoded data removed]",
      "text/plain": [
       "<Figure size 800x400 with 1 Axes>"
      ]
     },
     "metadata": {},
     "output_type": "display_data"
    }
   ],
   "source": [
    "# распределение по скорости в интервале от 0 до 30 км/час\n",
    "fig, ax = plt.subplots(figsize=(8, 4))\n",
    "ax.set(title = 'Распределение по скорости', xlabel = 'скорость', ylabel = 'количество');\n",
    "df['speed'].hist(bins = 50, range=(0, 30));"
   ]
  },
  {
   "cell_type": "code",
   "execution_count": 33,
   "id": "9005cd59",
   "metadata": {},
   "outputs": [
    {
     "data": {
      "image/png": "[encoded data removed]",
      "text/plain": [
       "<Figure size 800x400 with 1 Axes>"
      ]
     },
     "metadata": {},
     "output_type": "display_data"
    }
   ],
   "source": [
    "# распределение по скорости в интервале от 300 до 900 км/час\n",
    "fig, ax = plt.subplots(figsize=(8, 4))\n",
    "ax.set(title = 'Распределение по скорости', xlabel = 'скорость', ylabel = 'количество');\n",
    "df['speed'].hist(bins = 50, range=(300, 900));"
   ]
  },
  {
   "cell_type": "code",
   "execution_count": 34,
   "id": "cb95c7ff",
   "metadata": {},
   "outputs": [
    {
     "data": {
      "text/html": [
       "<div>\n",
       "<style scoped>\n",
       "    .dataframe tbody tr th:only-of-type {\n",
       "        vertical-align: middle;\n",
       "    }\n",
       "\n",
       "    .dataframe tbody tr th {\n",
       "        vertical-align: top;\n",
       "    }\n",
       "\n",
       "    .dataframe thead th {\n",
       "        text-align: right;\n",
       "    }\n",
       "</style>\n",
       "<table border=\"1\" class=\"dataframe\">\n",
       "  <thead>\n",
       "    <tr style=\"text-align: right;\">\n",
       "      <th></th>\n",
       "      <th>user_id</th>\n",
       "      <th>name</th>\n",
       "      <th>age</th>\n",
       "      <th>city</th>\n",
       "      <th>subscription_type</th>\n",
       "      <th>distance</th>\n",
       "      <th>duration</th>\n",
       "      <th>date</th>\n",
       "      <th>month</th>\n",
       "      <th>minute_price</th>\n",
       "      <th>start_ride_price</th>\n",
       "      <th>subscription_fee</th>\n",
       "      <th>speed</th>\n",
       "    </tr>\n",
       "  </thead>\n",
       "  <tbody>\n",
       "    <tr>\n",
       "      <th>6531</th>\n",
       "      <td>701</td>\n",
       "      <td>Иван</td>\n",
       "      <td>31</td>\n",
       "      <td>Екатеринбург</td>\n",
       "      <td>free</td>\n",
       "      <td>4196.445201</td>\n",
       "      <td>0.5</td>\n",
       "      <td>2021-08-31</td>\n",
       "      <td>8</td>\n",
       "      <td>8</td>\n",
       "      <td>50</td>\n",
       "      <td>0</td>\n",
       "      <td>503.573424</td>\n",
       "    </tr>\n",
       "    <tr>\n",
       "      <th>6570</th>\n",
       "      <td>704</td>\n",
       "      <td>Мирон</td>\n",
       "      <td>29</td>\n",
       "      <td>Ростов-на-Дону</td>\n",
       "      <td>free</td>\n",
       "      <td>4830.824371</td>\n",
       "      <td>0.5</td>\n",
       "      <td>2021-10-14</td>\n",
       "      <td>10</td>\n",
       "      <td>8</td>\n",
       "      <td>50</td>\n",
       "      <td>0</td>\n",
       "      <td>579.698925</td>\n",
       "    </tr>\n",
       "    <tr>\n",
       "      <th>6680</th>\n",
       "      <td>712</td>\n",
       "      <td>Дарья</td>\n",
       "      <td>28</td>\n",
       "      <td>Москва</td>\n",
       "      <td>free</td>\n",
       "      <td>4684.004397</td>\n",
       "      <td>0.5</td>\n",
       "      <td>2021-03-04</td>\n",
       "      <td>3</td>\n",
       "      <td>8</td>\n",
       "      <td>50</td>\n",
       "      <td>0</td>\n",
       "      <td>562.080528</td>\n",
       "    </tr>\n",
       "    <tr>\n",
       "      <th>6695</th>\n",
       "      <td>713</td>\n",
       "      <td>Святослав</td>\n",
       "      <td>30</td>\n",
       "      <td>Краснодар</td>\n",
       "      <td>free</td>\n",
       "      <td>5215.642710</td>\n",
       "      <td>0.5</td>\n",
       "      <td>2021-02-25</td>\n",
       "      <td>2</td>\n",
       "      <td>8</td>\n",
       "      <td>50</td>\n",
       "      <td>0</td>\n",
       "      <td>625.877125</td>\n",
       "    </tr>\n",
       "    <tr>\n",
       "      <th>6768</th>\n",
       "      <td>718</td>\n",
       "      <td>Владислава</td>\n",
       "      <td>31</td>\n",
       "      <td>Москва</td>\n",
       "      <td>free</td>\n",
       "      <td>5197.436649</td>\n",
       "      <td>0.5</td>\n",
       "      <td>2021-02-11</td>\n",
       "      <td>2</td>\n",
       "      <td>8</td>\n",
       "      <td>50</td>\n",
       "      <td>0</td>\n",
       "      <td>623.692398</td>\n",
       "    </tr>\n",
       "    <tr>\n",
       "      <th>...</th>\n",
       "      <td>...</td>\n",
       "      <td>...</td>\n",
       "      <td>...</td>\n",
       "      <td>...</td>\n",
       "      <td>...</td>\n",
       "      <td>...</td>\n",
       "      <td>...</td>\n",
       "      <td>...</td>\n",
       "      <td>...</td>\n",
       "      <td>...</td>\n",
       "      <td>...</td>\n",
       "      <td>...</td>\n",
       "      <td>...</td>\n",
       "    </tr>\n",
       "    <tr>\n",
       "      <th>17004</th>\n",
       "      <td>1460</td>\n",
       "      <td>Жанна</td>\n",
       "      <td>27</td>\n",
       "      <td>Пятигорск</td>\n",
       "      <td>free</td>\n",
       "      <td>5531.335845</td>\n",
       "      <td>0.5</td>\n",
       "      <td>2021-01-19</td>\n",
       "      <td>1</td>\n",
       "      <td>8</td>\n",
       "      <td>50</td>\n",
       "      <td>0</td>\n",
       "      <td>663.760301</td>\n",
       "    </tr>\n",
       "    <tr>\n",
       "      <th>17242</th>\n",
       "      <td>1477</td>\n",
       "      <td>Ян</td>\n",
       "      <td>17</td>\n",
       "      <td>Сочи</td>\n",
       "      <td>free</td>\n",
       "      <td>6724.932981</td>\n",
       "      <td>0.5</td>\n",
       "      <td>2021-01-12</td>\n",
       "      <td>1</td>\n",
       "      <td>8</td>\n",
       "      <td>50</td>\n",
       "      <td>0</td>\n",
       "      <td>806.991958</td>\n",
       "    </tr>\n",
       "    <tr>\n",
       "      <th>17314</th>\n",
       "      <td>1483</td>\n",
       "      <td>Роберт</td>\n",
       "      <td>26</td>\n",
       "      <td>Екатеринбург</td>\n",
       "      <td>free</td>\n",
       "      <td>4445.481070</td>\n",
       "      <td>0.5</td>\n",
       "      <td>2021-03-06</td>\n",
       "      <td>3</td>\n",
       "      <td>8</td>\n",
       "      <td>50</td>\n",
       "      <td>0</td>\n",
       "      <td>533.457728</td>\n",
       "    </tr>\n",
       "    <tr>\n",
       "      <th>17505</th>\n",
       "      <td>1496</td>\n",
       "      <td>Яна</td>\n",
       "      <td>19</td>\n",
       "      <td>Москва</td>\n",
       "      <td>free</td>\n",
       "      <td>5722.551787</td>\n",
       "      <td>0.5</td>\n",
       "      <td>2021-02-14</td>\n",
       "      <td>2</td>\n",
       "      <td>8</td>\n",
       "      <td>50</td>\n",
       "      <td>0</td>\n",
       "      <td>686.706214</td>\n",
       "    </tr>\n",
       "    <tr>\n",
       "      <th>17909</th>\n",
       "      <td>1524</td>\n",
       "      <td>Матвей</td>\n",
       "      <td>32</td>\n",
       "      <td>Москва</td>\n",
       "      <td>free</td>\n",
       "      <td>4103.998874</td>\n",
       "      <td>0.5</td>\n",
       "      <td>2021-06-18</td>\n",
       "      <td>6</td>\n",
       "      <td>8</td>\n",
       "      <td>50</td>\n",
       "      <td>0</td>\n",
       "      <td>492.479865</td>\n",
       "    </tr>\n",
       "  </tbody>\n",
       "</table>\n",
       "<p>95 rows × 13 columns</p>\n",
       "</div>"
      ],
      "text/plain": [
       "       user_id        name  age            city subscription_type  \\\n",
       "6531       701        Иван   31    Екатеринбург              free   \n",
       "6570       704       Мирон   29  Ростов-на-Дону              free   \n",
       "6680       712       Дарья   28          Москва              free   \n",
       "6695       713   Святослав   30       Краснодар              free   \n",
       "6768       718  Владислава   31          Москва              free   \n",
       "...        ...         ...  ...             ...               ...   \n",
       "17004     1460       Жанна   27       Пятигорск              free   \n",
       "17242     1477          Ян   17            Сочи              free   \n",
       "17314     1483      Роберт   26    Екатеринбург              free   \n",
       "17505     1496         Яна   19          Москва              free   \n",
       "17909     1524      Матвей   32          Москва              free   \n",
       "\n",
       "          distance  duration       date  month  minute_price  \\\n",
       "6531   4196.445201       0.5 2021-08-31      8             8   \n",
       "6570   4830.824371       0.5 2021-10-14     10             8   \n",
       "6680   4684.004397       0.5 2021-03-04      3             8   \n",
       "6695   5215.642710       0.5 2021-02-25      2             8   \n",
       "6768   5197.436649       0.5 2021-02-11      2             8   \n",
       "...            ...       ...        ...    ...           ...   \n",
       "17004  5531.335845       0.5 2021-01-19      1             8   \n",
       "17242  6724.932981       0.5 2021-01-12      1             8   \n",
       "17314  4445.481070       0.5 2021-03-06      3             8   \n",
       "17505  5722.551787       0.5 2021-02-14      2             8   \n",
       "17909  4103.998874       0.5 2021-06-18      6             8   \n",
       "\n",
       "       start_ride_price  subscription_fee       speed  \n",
       "6531                 50                 0  503.573424  \n",
       "6570                 50                 0  579.698925  \n",
       "6680                 50                 0  562.080528  \n",
       "6695                 50                 0  625.877125  \n",
       "6768                 50                 0  623.692398  \n",
       "...                 ...               ...         ...  \n",
       "17004                50                 0  663.760301  \n",
       "17242                50                 0  806.991958  \n",
       "17314                50                 0  533.457728  \n",
       "17505                50                 0  686.706214  \n",
       "17909                50                 0  492.479865  \n",
       "\n",
       "[95 rows x 13 columns]"
      ]
     },
     "execution_count": 34,
     "metadata": {},
     "output_type": "execute_result"
    }
   ],
   "source": [
    "# посмотрим на эти данные, где скорость выше 30 км/час\n",
    "df.query('speed > 30')"
   ]
  },
  {
   "cell_type": "code",
   "execution_count": 35,
   "id": "c0192ca2",
   "metadata": {},
   "outputs": [
    {
     "data": {
      "text/html": [
       "<div>\n",
       "<style scoped>\n",
       "    .dataframe tbody tr th:only-of-type {\n",
       "        vertical-align: middle;\n",
       "    }\n",
       "\n",
       "    .dataframe tbody tr th {\n",
       "        vertical-align: top;\n",
       "    }\n",
       "\n",
       "    .dataframe thead th {\n",
       "        text-align: right;\n",
       "    }\n",
       "</style>\n",
       "<table border=\"1\" class=\"dataframe\">\n",
       "  <thead>\n",
       "    <tr style=\"text-align: right;\">\n",
       "      <th></th>\n",
       "      <th>user_id</th>\n",
       "      <th>age</th>\n",
       "      <th>distance</th>\n",
       "      <th>duration</th>\n",
       "      <th>date</th>\n",
       "      <th>month</th>\n",
       "      <th>minute_price</th>\n",
       "      <th>start_ride_price</th>\n",
       "      <th>subscription_fee</th>\n",
       "      <th>speed</th>\n",
       "    </tr>\n",
       "  </thead>\n",
       "  <tbody>\n",
       "    <tr>\n",
       "      <th>count</th>\n",
       "      <td>95.000000</td>\n",
       "      <td>95.000000</td>\n",
       "      <td>95.000000</td>\n",
       "      <td>95.0</td>\n",
       "      <td>95</td>\n",
       "      <td>95.000000</td>\n",
       "      <td>95.0</td>\n",
       "      <td>95.0</td>\n",
       "      <td>95.0</td>\n",
       "      <td>95.000000</td>\n",
       "    </tr>\n",
       "    <tr>\n",
       "      <th>mean</th>\n",
       "      <td>1092.210526</td>\n",
       "      <td>25.442105</td>\n",
       "      <td>5113.176549</td>\n",
       "      <td>0.5</td>\n",
       "      <td>2021-07-01 13:53:41.052631552</td>\n",
       "      <td>6.484211</td>\n",
       "      <td>8.0</td>\n",
       "      <td>50.0</td>\n",
       "      <td>0.0</td>\n",
       "      <td>613.581186</td>\n",
       "    </tr>\n",
       "    <tr>\n",
       "      <th>min</th>\n",
       "      <td>701.000000</td>\n",
       "      <td>13.000000</td>\n",
       "      <td>4030.308008</td>\n",
       "      <td>0.5</td>\n",
       "      <td>2021-01-05 00:00:00</td>\n",
       "      <td>1.000000</td>\n",
       "      <td>8.0</td>\n",
       "      <td>50.0</td>\n",
       "      <td>0.0</td>\n",
       "      <td>483.636961</td>\n",
       "    </tr>\n",
       "    <tr>\n",
       "      <th>25%</th>\n",
       "      <td>901.000000</td>\n",
       "      <td>22.500000</td>\n",
       "      <td>4611.510820</td>\n",
       "      <td>0.5</td>\n",
       "      <td>2021-03-16 00:00:00</td>\n",
       "      <td>3.000000</td>\n",
       "      <td>8.0</td>\n",
       "      <td>50.0</td>\n",
       "      <td>0.0</td>\n",
       "      <td>553.381298</td>\n",
       "    </tr>\n",
       "    <tr>\n",
       "      <th>50%</th>\n",
       "      <td>1069.000000</td>\n",
       "      <td>25.000000</td>\n",
       "      <td>5052.769411</td>\n",
       "      <td>0.5</td>\n",
       "      <td>2021-06-18 00:00:00</td>\n",
       "      <td>6.000000</td>\n",
       "      <td>8.0</td>\n",
       "      <td>50.0</td>\n",
       "      <td>0.0</td>\n",
       "      <td>606.332329</td>\n",
       "    </tr>\n",
       "    <tr>\n",
       "      <th>75%</th>\n",
       "      <td>1310.500000</td>\n",
       "      <td>29.000000</td>\n",
       "      <td>5488.459099</td>\n",
       "      <td>0.5</td>\n",
       "      <td>2021-10-18 12:00:00</td>\n",
       "      <td>10.000000</td>\n",
       "      <td>8.0</td>\n",
       "      <td>50.0</td>\n",
       "      <td>0.0</td>\n",
       "      <td>658.615092</td>\n",
       "    </tr>\n",
       "    <tr>\n",
       "      <th>max</th>\n",
       "      <td>1524.000000</td>\n",
       "      <td>36.000000</td>\n",
       "      <td>7211.007745</td>\n",
       "      <td>0.5</td>\n",
       "      <td>2021-12-27 00:00:00</td>\n",
       "      <td>12.000000</td>\n",
       "      <td>8.0</td>\n",
       "      <td>50.0</td>\n",
       "      <td>0.0</td>\n",
       "      <td>865.320929</td>\n",
       "    </tr>\n",
       "    <tr>\n",
       "      <th>std</th>\n",
       "      <td>244.028551</td>\n",
       "      <td>4.350876</td>\n",
       "      <td>658.254104</td>\n",
       "      <td>0.0</td>\n",
       "      <td>NaN</td>\n",
       "      <td>3.709858</td>\n",
       "      <td>0.0</td>\n",
       "      <td>0.0</td>\n",
       "      <td>0.0</td>\n",
       "      <td>78.990493</td>\n",
       "    </tr>\n",
       "  </tbody>\n",
       "</table>\n",
       "</div>"
      ],
      "text/plain": [
       "           user_id        age     distance  duration  \\\n",
       "count    95.000000  95.000000    95.000000      95.0   \n",
       "mean   1092.210526  25.442105  5113.176549       0.5   \n",
       "min     701.000000  13.000000  4030.308008       0.5   \n",
       "25%     901.000000  22.500000  4611.510820       0.5   \n",
       "50%    1069.000000  25.000000  5052.769411       0.5   \n",
       "75%    1310.500000  29.000000  5488.459099       0.5   \n",
       "max    1524.000000  36.000000  7211.007745       0.5   \n",
       "std     244.028551   4.350876   658.254104       0.0   \n",
       "\n",
       "                                date      month  minute_price  \\\n",
       "count                             95  95.000000          95.0   \n",
       "mean   2021-07-01 13:53:41.052631552   6.484211           8.0   \n",
       "min              2021-01-05 00:00:00   1.000000           8.0   \n",
       "25%              2021-03-16 00:00:00   3.000000           8.0   \n",
       "50%              2021-06-18 00:00:00   6.000000           8.0   \n",
       "75%              2021-10-18 12:00:00  10.000000           8.0   \n",
       "max              2021-12-27 00:00:00  12.000000           8.0   \n",
       "std                              NaN   3.709858           0.0   \n",
       "\n",
       "       start_ride_price  subscription_fee       speed  \n",
       "count              95.0              95.0   95.000000  \n",
       "mean               50.0               0.0  613.581186  \n",
       "min                50.0               0.0  483.636961  \n",
       "25%                50.0               0.0  553.381298  \n",
       "50%                50.0               0.0  606.332329  \n",
       "75%                50.0               0.0  658.615092  \n",
       "max                50.0               0.0  865.320929  \n",
       "std                 0.0               0.0   78.990493  "
      ]
     },
     "execution_count": 35,
     "metadata": {},
     "output_type": "execute_result"
    }
   ],
   "source": [
    "# посмотрим на описательную статистику данных, где скорость выше 30 км/час\n",
    "df.query('speed > 30').describe()"
   ]
  },
  {
   "cell_type": "markdown",
   "id": "6551d5e4",
   "metadata": {},
   "source": [
    "Мы получили 95 случаев, когда продолжительность поездки равняется 0,5 минутам, дистанция меняется от 4030 м до 7211 м. Все случаи для пользователей без подписки. Это похоже на програмный сбой. Данные по продолжительности поездки явно не достоверные, а по расстоянию скорее всего достоверные. Несмотря на это оставим эти данные чтобы не вносить искажения в начисление выручки."
   ]
  },
  {
   "cell_type": "markdown",
   "id": "f18059ae",
   "metadata": {},
   "source": [
    "Создадим ещё два датафрейма из датафрейма созданного выше - пользователи с подпиской и без."
   ]
  },
  {
   "cell_type": "code",
   "execution_count": 36,
   "id": "d1d5a131",
   "metadata": {},
   "outputs": [
    {
     "data": {
      "text/html": [
       "<div>\n",
       "<style scoped>\n",
       "    .dataframe tbody tr th:only-of-type {\n",
       "        vertical-align: middle;\n",
       "    }\n",
       "\n",
       "    .dataframe tbody tr th {\n",
       "        vertical-align: top;\n",
       "    }\n",
       "\n",
       "    .dataframe thead th {\n",
       "        text-align: right;\n",
       "    }\n",
       "</style>\n",
       "<table border=\"1\" class=\"dataframe\">\n",
       "  <thead>\n",
       "    <tr style=\"text-align: right;\">\n",
       "      <th></th>\n",
       "      <th>user_id</th>\n",
       "      <th>name</th>\n",
       "      <th>age</th>\n",
       "      <th>city</th>\n",
       "      <th>subscription_type</th>\n",
       "      <th>distance</th>\n",
       "      <th>duration</th>\n",
       "      <th>date</th>\n",
       "      <th>month</th>\n",
       "      <th>minute_price</th>\n",
       "      <th>start_ride_price</th>\n",
       "      <th>subscription_fee</th>\n",
       "      <th>speed</th>\n",
       "    </tr>\n",
       "  </thead>\n",
       "  <tbody>\n",
       "    <tr>\n",
       "      <th>6500</th>\n",
       "      <td>700</td>\n",
       "      <td>Айдар</td>\n",
       "      <td>22</td>\n",
       "      <td>Омск</td>\n",
       "      <td>free</td>\n",
       "      <td>2515.690719</td>\n",
       "      <td>14.944286</td>\n",
       "      <td>2021-01-02</td>\n",
       "      <td>1</td>\n",
       "      <td>8</td>\n",
       "      <td>50</td>\n",
       "      <td>0</td>\n",
       "      <td>10.100278</td>\n",
       "    </tr>\n",
       "    <tr>\n",
       "      <th>6501</th>\n",
       "      <td>700</td>\n",
       "      <td>Айдар</td>\n",
       "      <td>22</td>\n",
       "      <td>Омск</td>\n",
       "      <td>free</td>\n",
       "      <td>846.932642</td>\n",
       "      <td>16.234663</td>\n",
       "      <td>2021-02-01</td>\n",
       "      <td>2</td>\n",
       "      <td>8</td>\n",
       "      <td>50</td>\n",
       "      <td>0</td>\n",
       "      <td>3.130090</td>\n",
       "    </tr>\n",
       "    <tr>\n",
       "      <th>6502</th>\n",
       "      <td>700</td>\n",
       "      <td>Айдар</td>\n",
       "      <td>22</td>\n",
       "      <td>Омск</td>\n",
       "      <td>free</td>\n",
       "      <td>4004.434142</td>\n",
       "      <td>20.016628</td>\n",
       "      <td>2021-02-04</td>\n",
       "      <td>2</td>\n",
       "      <td>8</td>\n",
       "      <td>50</td>\n",
       "      <td>0</td>\n",
       "      <td>12.003323</td>\n",
       "    </tr>\n",
       "    <tr>\n",
       "      <th>6503</th>\n",
       "      <td>700</td>\n",
       "      <td>Айдар</td>\n",
       "      <td>22</td>\n",
       "      <td>Омск</td>\n",
       "      <td>free</td>\n",
       "      <td>1205.911290</td>\n",
       "      <td>9.782872</td>\n",
       "      <td>2021-02-10</td>\n",
       "      <td>2</td>\n",
       "      <td>8</td>\n",
       "      <td>50</td>\n",
       "      <td>0</td>\n",
       "      <td>7.396057</td>\n",
       "    </tr>\n",
       "    <tr>\n",
       "      <th>6504</th>\n",
       "      <td>700</td>\n",
       "      <td>Айдар</td>\n",
       "      <td>22</td>\n",
       "      <td>Омск</td>\n",
       "      <td>free</td>\n",
       "      <td>3047.379435</td>\n",
       "      <td>17.427673</td>\n",
       "      <td>2021-02-14</td>\n",
       "      <td>2</td>\n",
       "      <td>8</td>\n",
       "      <td>50</td>\n",
       "      <td>0</td>\n",
       "      <td>10.491519</td>\n",
       "    </tr>\n",
       "    <tr>\n",
       "      <th>...</th>\n",
       "      <td>...</td>\n",
       "      <td>...</td>\n",
       "      <td>...</td>\n",
       "      <td>...</td>\n",
       "      <td>...</td>\n",
       "      <td>...</td>\n",
       "      <td>...</td>\n",
       "      <td>...</td>\n",
       "      <td>...</td>\n",
       "      <td>...</td>\n",
       "      <td>...</td>\n",
       "      <td>...</td>\n",
       "      <td>...</td>\n",
       "    </tr>\n",
       "    <tr>\n",
       "      <th>18063</th>\n",
       "      <td>1534</td>\n",
       "      <td>Альберт</td>\n",
       "      <td>25</td>\n",
       "      <td>Краснодар</td>\n",
       "      <td>free</td>\n",
       "      <td>3781.098080</td>\n",
       "      <td>19.822962</td>\n",
       "      <td>2021-11-04</td>\n",
       "      <td>11</td>\n",
       "      <td>8</td>\n",
       "      <td>50</td>\n",
       "      <td>0</td>\n",
       "      <td>11.444601</td>\n",
       "    </tr>\n",
       "    <tr>\n",
       "      <th>18064</th>\n",
       "      <td>1534</td>\n",
       "      <td>Альберт</td>\n",
       "      <td>25</td>\n",
       "      <td>Краснодар</td>\n",
       "      <td>free</td>\n",
       "      <td>2840.423057</td>\n",
       "      <td>21.409799</td>\n",
       "      <td>2021-11-16</td>\n",
       "      <td>11</td>\n",
       "      <td>8</td>\n",
       "      <td>50</td>\n",
       "      <td>0</td>\n",
       "      <td>7.960158</td>\n",
       "    </tr>\n",
       "    <tr>\n",
       "      <th>18065</th>\n",
       "      <td>1534</td>\n",
       "      <td>Альберт</td>\n",
       "      <td>25</td>\n",
       "      <td>Краснодар</td>\n",
       "      <td>free</td>\n",
       "      <td>3826.185507</td>\n",
       "      <td>18.435051</td>\n",
       "      <td>2021-11-18</td>\n",
       "      <td>11</td>\n",
       "      <td>8</td>\n",
       "      <td>50</td>\n",
       "      <td>0</td>\n",
       "      <td>12.452969</td>\n",
       "    </tr>\n",
       "    <tr>\n",
       "      <th>18066</th>\n",
       "      <td>1534</td>\n",
       "      <td>Альберт</td>\n",
       "      <td>25</td>\n",
       "      <td>Краснодар</td>\n",
       "      <td>free</td>\n",
       "      <td>2902.308661</td>\n",
       "      <td>16.674362</td>\n",
       "      <td>2021-11-27</td>\n",
       "      <td>11</td>\n",
       "      <td>8</td>\n",
       "      <td>50</td>\n",
       "      <td>0</td>\n",
       "      <td>10.443489</td>\n",
       "    </tr>\n",
       "    <tr>\n",
       "      <th>18067</th>\n",
       "      <td>1534</td>\n",
       "      <td>Альберт</td>\n",
       "      <td>25</td>\n",
       "      <td>Краснодар</td>\n",
       "      <td>free</td>\n",
       "      <td>2371.711192</td>\n",
       "      <td>15.893917</td>\n",
       "      <td>2021-12-29</td>\n",
       "      <td>12</td>\n",
       "      <td>8</td>\n",
       "      <td>50</td>\n",
       "      <td>0</td>\n",
       "      <td>8.953279</td>\n",
       "    </tr>\n",
       "  </tbody>\n",
       "</table>\n",
       "<p>11568 rows × 13 columns</p>\n",
       "</div>"
      ],
      "text/plain": [
       "       user_id     name  age       city subscription_type     distance  \\\n",
       "6500       700    Айдар   22       Омск              free  2515.690719   \n",
       "6501       700    Айдар   22       Омск              free   846.932642   \n",
       "6502       700    Айдар   22       Омск              free  4004.434142   \n",
       "6503       700    Айдар   22       Омск              free  1205.911290   \n",
       "6504       700    Айдар   22       Омск              free  3047.379435   \n",
       "...        ...      ...  ...        ...               ...          ...   \n",
       "18063     1534  Альберт   25  Краснодар              free  3781.098080   \n",
       "18064     1534  Альберт   25  Краснодар              free  2840.423057   \n",
       "18065     1534  Альберт   25  Краснодар              free  3826.185507   \n",
       "18066     1534  Альберт   25  Краснодар              free  2902.308661   \n",
       "18067     1534  Альберт   25  Краснодар              free  2371.711192   \n",
       "\n",
       "        duration       date  month  minute_price  start_ride_price  \\\n",
       "6500   14.944286 2021-01-02      1             8                50   \n",
       "6501   16.234663 2021-02-01      2             8                50   \n",
       "6502   20.016628 2021-02-04      2             8                50   \n",
       "6503    9.782872 2021-02-10      2             8                50   \n",
       "6504   17.427673 2021-02-14      2             8                50   \n",
       "...          ...        ...    ...           ...               ...   \n",
       "18063  19.822962 2021-11-04     11             8                50   \n",
       "18064  21.409799 2021-11-16     11             8                50   \n",
       "18065  18.435051 2021-11-18     11             8                50   \n",
       "18066  16.674362 2021-11-27     11             8                50   \n",
       "18067  15.893917 2021-12-29     12             8                50   \n",
       "\n",
       "       subscription_fee      speed  \n",
       "6500                  0  10.100278  \n",
       "6501                  0   3.130090  \n",
       "6502                  0  12.003323  \n",
       "6503                  0   7.396057  \n",
       "6504                  0  10.491519  \n",
       "...                 ...        ...  \n",
       "18063                 0  11.444601  \n",
       "18064                 0   7.960158  \n",
       "18065                 0  12.452969  \n",
       "18066                 0  10.443489  \n",
       "18067                 0   8.953279  \n",
       "\n",
       "[11568 rows x 13 columns]"
      ]
     },
     "execution_count": 36,
     "metadata": {},
     "output_type": "execute_result"
    }
   ],
   "source": [
    "# пользователи без подписки\n",
    "df_free = df.query('subscription_type == \"free\"')\n",
    "df_free"
   ]
  },
  {
   "cell_type": "code",
   "execution_count": 37,
   "id": "9dfda30c",
   "metadata": {},
   "outputs": [
    {
     "data": {
      "text/html": [
       "<div>\n",
       "<style scoped>\n",
       "    .dataframe tbody tr th:only-of-type {\n",
       "        vertical-align: middle;\n",
       "    }\n",
       "\n",
       "    .dataframe tbody tr th {\n",
       "        vertical-align: top;\n",
       "    }\n",
       "\n",
       "    .dataframe thead th {\n",
       "        text-align: right;\n",
       "    }\n",
       "</style>\n",
       "<table border=\"1\" class=\"dataframe\">\n",
       "  <thead>\n",
       "    <tr style=\"text-align: right;\">\n",
       "      <th></th>\n",
       "      <th>user_id</th>\n",
       "      <th>name</th>\n",
       "      <th>age</th>\n",
       "      <th>city</th>\n",
       "      <th>subscription_type</th>\n",
       "      <th>distance</th>\n",
       "      <th>duration</th>\n",
       "      <th>date</th>\n",
       "      <th>month</th>\n",
       "      <th>minute_price</th>\n",
       "      <th>start_ride_price</th>\n",
       "      <th>subscription_fee</th>\n",
       "      <th>speed</th>\n",
       "    </tr>\n",
       "  </thead>\n",
       "  <tbody>\n",
       "    <tr>\n",
       "      <th>0</th>\n",
       "      <td>1</td>\n",
       "      <td>Кира</td>\n",
       "      <td>22</td>\n",
       "      <td>Тюмень</td>\n",
       "      <td>ultra</td>\n",
       "      <td>4409.919140</td>\n",
       "      <td>25.599769</td>\n",
       "      <td>2021-01-01</td>\n",
       "      <td>1</td>\n",
       "      <td>6</td>\n",
       "      <td>0</td>\n",
       "      <td>199</td>\n",
       "      <td>10.335841</td>\n",
       "    </tr>\n",
       "    <tr>\n",
       "      <th>1</th>\n",
       "      <td>1</td>\n",
       "      <td>Кира</td>\n",
       "      <td>22</td>\n",
       "      <td>Тюмень</td>\n",
       "      <td>ultra</td>\n",
       "      <td>2617.592153</td>\n",
       "      <td>15.816871</td>\n",
       "      <td>2021-01-18</td>\n",
       "      <td>1</td>\n",
       "      <td>6</td>\n",
       "      <td>0</td>\n",
       "      <td>199</td>\n",
       "      <td>9.929620</td>\n",
       "    </tr>\n",
       "    <tr>\n",
       "      <th>2</th>\n",
       "      <td>1</td>\n",
       "      <td>Кира</td>\n",
       "      <td>22</td>\n",
       "      <td>Тюмень</td>\n",
       "      <td>ultra</td>\n",
       "      <td>754.159807</td>\n",
       "      <td>6.232113</td>\n",
       "      <td>2021-04-20</td>\n",
       "      <td>4</td>\n",
       "      <td>6</td>\n",
       "      <td>0</td>\n",
       "      <td>199</td>\n",
       "      <td>7.260713</td>\n",
       "    </tr>\n",
       "    <tr>\n",
       "      <th>3</th>\n",
       "      <td>1</td>\n",
       "      <td>Кира</td>\n",
       "      <td>22</td>\n",
       "      <td>Тюмень</td>\n",
       "      <td>ultra</td>\n",
       "      <td>2694.783254</td>\n",
       "      <td>18.511000</td>\n",
       "      <td>2021-08-11</td>\n",
       "      <td>8</td>\n",
       "      <td>6</td>\n",
       "      <td>0</td>\n",
       "      <td>199</td>\n",
       "      <td>8.734644</td>\n",
       "    </tr>\n",
       "    <tr>\n",
       "      <th>4</th>\n",
       "      <td>1</td>\n",
       "      <td>Кира</td>\n",
       "      <td>22</td>\n",
       "      <td>Тюмень</td>\n",
       "      <td>ultra</td>\n",
       "      <td>4028.687306</td>\n",
       "      <td>26.265803</td>\n",
       "      <td>2021-08-28</td>\n",
       "      <td>8</td>\n",
       "      <td>6</td>\n",
       "      <td>0</td>\n",
       "      <td>199</td>\n",
       "      <td>9.202888</td>\n",
       "    </tr>\n",
       "    <tr>\n",
       "      <th>...</th>\n",
       "      <td>...</td>\n",
       "      <td>...</td>\n",
       "      <td>...</td>\n",
       "      <td>...</td>\n",
       "      <td>...</td>\n",
       "      <td>...</td>\n",
       "      <td>...</td>\n",
       "      <td>...</td>\n",
       "      <td>...</td>\n",
       "      <td>...</td>\n",
       "      <td>...</td>\n",
       "      <td>...</td>\n",
       "      <td>...</td>\n",
       "    </tr>\n",
       "    <tr>\n",
       "      <th>6495</th>\n",
       "      <td>699</td>\n",
       "      <td>Оксана</td>\n",
       "      <td>22</td>\n",
       "      <td>Москва</td>\n",
       "      <td>ultra</td>\n",
       "      <td>3973.046497</td>\n",
       "      <td>24.671163</td>\n",
       "      <td>2021-08-29</td>\n",
       "      <td>8</td>\n",
       "      <td>6</td>\n",
       "      <td>0</td>\n",
       "      <td>199</td>\n",
       "      <td>9.662406</td>\n",
       "    </tr>\n",
       "    <tr>\n",
       "      <th>6496</th>\n",
       "      <td>699</td>\n",
       "      <td>Оксана</td>\n",
       "      <td>22</td>\n",
       "      <td>Москва</td>\n",
       "      <td>ultra</td>\n",
       "      <td>3288.702563</td>\n",
       "      <td>15.892886</td>\n",
       "      <td>2021-09-12</td>\n",
       "      <td>9</td>\n",
       "      <td>6</td>\n",
       "      <td>0</td>\n",
       "      <td>199</td>\n",
       "      <td>12.415753</td>\n",
       "    </tr>\n",
       "    <tr>\n",
       "      <th>6497</th>\n",
       "      <td>699</td>\n",
       "      <td>Оксана</td>\n",
       "      <td>22</td>\n",
       "      <td>Москва</td>\n",
       "      <td>ultra</td>\n",
       "      <td>3076.159348</td>\n",
       "      <td>14.389525</td>\n",
       "      <td>2021-09-26</td>\n",
       "      <td>9</td>\n",
       "      <td>6</td>\n",
       "      <td>0</td>\n",
       "      <td>199</td>\n",
       "      <td>12.826661</td>\n",
       "    </tr>\n",
       "    <tr>\n",
       "      <th>6498</th>\n",
       "      <td>699</td>\n",
       "      <td>Оксана</td>\n",
       "      <td>22</td>\n",
       "      <td>Москва</td>\n",
       "      <td>ultra</td>\n",
       "      <td>4707.845501</td>\n",
       "      <td>15.839579</td>\n",
       "      <td>2021-10-17</td>\n",
       "      <td>10</td>\n",
       "      <td>6</td>\n",
       "      <td>0</td>\n",
       "      <td>199</td>\n",
       "      <td>17.833222</td>\n",
       "    </tr>\n",
       "    <tr>\n",
       "      <th>6499</th>\n",
       "      <td>699</td>\n",
       "      <td>Оксана</td>\n",
       "      <td>22</td>\n",
       "      <td>Москва</td>\n",
       "      <td>ultra</td>\n",
       "      <td>3202.890770</td>\n",
       "      <td>25.217345</td>\n",
       "      <td>2021-12-03</td>\n",
       "      <td>12</td>\n",
       "      <td>6</td>\n",
       "      <td>0</td>\n",
       "      <td>199</td>\n",
       "      <td>7.620685</td>\n",
       "    </tr>\n",
       "  </tbody>\n",
       "</table>\n",
       "<p>6500 rows × 13 columns</p>\n",
       "</div>"
      ],
      "text/plain": [
       "      user_id    name  age    city subscription_type     distance   duration  \\\n",
       "0           1    Кира   22  Тюмень             ultra  4409.919140  25.599769   \n",
       "1           1    Кира   22  Тюмень             ultra  2617.592153  15.816871   \n",
       "2           1    Кира   22  Тюмень             ultra   754.159807   6.232113   \n",
       "3           1    Кира   22  Тюмень             ultra  2694.783254  18.511000   \n",
       "4           1    Кира   22  Тюмень             ultra  4028.687306  26.265803   \n",
       "...       ...     ...  ...     ...               ...          ...        ...   \n",
       "6495      699  Оксана   22  Москва             ultra  3973.046497  24.671163   \n",
       "6496      699  Оксана   22  Москва             ultra  3288.702563  15.892886   \n",
       "6497      699  Оксана   22  Москва             ultra  3076.159348  14.389525   \n",
       "6498      699  Оксана   22  Москва             ultra  4707.845501  15.839579   \n",
       "6499      699  Оксана   22  Москва             ultra  3202.890770  25.217345   \n",
       "\n",
       "           date  month  minute_price  start_ride_price  subscription_fee  \\\n",
       "0    2021-01-01      1             6                 0               199   \n",
       "1    2021-01-18      1             6                 0               199   \n",
       "2    2021-04-20      4             6                 0               199   \n",
       "3    2021-08-11      8             6                 0               199   \n",
       "4    2021-08-28      8             6                 0               199   \n",
       "...         ...    ...           ...               ...               ...   \n",
       "6495 2021-08-29      8             6                 0               199   \n",
       "6496 2021-09-12      9             6                 0               199   \n",
       "6497 2021-09-26      9             6                 0               199   \n",
       "6498 2021-10-17     10             6                 0               199   \n",
       "6499 2021-12-03     12             6                 0               199   \n",
       "\n",
       "          speed  \n",
       "0     10.335841  \n",
       "1      9.929620  \n",
       "2      7.260713  \n",
       "3      8.734644  \n",
       "4      9.202888  \n",
       "...         ...  \n",
       "6495   9.662406  \n",
       "6496  12.415753  \n",
       "6497  12.826661  \n",
       "6498  17.833222  \n",
       "6499   7.620685  \n",
       "\n",
       "[6500 rows x 13 columns]"
      ]
     },
     "execution_count": 37,
     "metadata": {},
     "output_type": "execute_result"
    }
   ],
   "source": [
    "# пользователи с подпиской\n",
    "df_ultra = df.query('subscription_type == \"ultra\"')\n",
    "df_ultra"
   ]
  },
  {
   "cell_type": "markdown",
   "id": "e5b79648",
   "metadata": {},
   "source": [
    "Корретно разделили пользователей, 11473 + 6500 = 17973.\n",
    "Визуализируем информацию о расстоянии и времени поездок для пользователей обеих категорий."
   ]
  },
  {
   "cell_type": "code",
   "execution_count": 38,
   "id": "280689f9",
   "metadata": {},
   "outputs": [
    {
     "data": {
      "image/png": "[encoded data removed]",
      "text/plain": [
       "<Figure size 800x400 with 1 Axes>"
      ]
     },
     "metadata": {},
     "output_type": "display_data"
    }
   ],
   "source": [
    "# распределение по расстоянию пользователей без подписки\n",
    "fig, ax = plt.subplots(figsize=(8, 4))\n",
    "df_free['distance'].hist(bins=100)\n",
    "ax.set(title = 'Распределение по расстоянию пользователей без подписки', xlabel = 'расстояние', ylabel = 'количество');"
   ]
  },
  {
   "cell_type": "code",
   "execution_count": 39,
   "id": "f2c4cb60",
   "metadata": {
    "scrolled": false
   },
   "outputs": [
    {
     "data": {
      "image/png": "[encoded data removed]",
      "text/plain": [
       "<Figure size 800x400 with 1 Axes>"
      ]
     },
     "metadata": {},
     "output_type": "display_data"
    }
   ],
   "source": [
    "# распределение по расстоянию пользователей с подпиской\n",
    "fig, ax = plt.subplots(figsize=(8, 4))\n",
    "df_ultra['distance'].hist(bins=100)\n",
    "ax.set(title = 'Распределение по расстоянию пользователей c подпиской', xlabel = 'расстояние', ylabel = 'количество');"
   ]
  },
  {
   "cell_type": "markdown",
   "id": "834768ca",
   "metadata": {},
   "source": [
    "#### Выводы:\n",
    "Распределения явно различаются. Максимум распределения пользователей без подписки составляет около 2500 м, в то время как у пользователей с подпиской - примерно 3200 м.\n",
    "\n",
    "Интересно, что распределения имеют две вершины, одна на расстоянии 700 - 1000 м, другая - 2500 - 3200 м. У пользователей с подпиской вершины явно сдвинуты вправо. У пользователей без подписки распределение шире, а с подпиской - уже. Каждая из вершин распределения относительно близка к нормальному распределению."
   ]
  },
  {
   "cell_type": "code",
   "execution_count": 40,
   "id": "dac8f0c8",
   "metadata": {
    "scrolled": false
   },
   "outputs": [
    {
     "data": {
      "image/png": "[encoded data removed]",
      "text/plain": [
       "<Figure size 800x400 with 1 Axes>"
      ]
     },
     "metadata": {},
     "output_type": "display_data"
    }
   ],
   "source": [
    "# распределение по продолжительности поездки пользователей без подписки\n",
    "fig, ax = plt.subplots(figsize=(8, 4))\n",
    "df_free['duration'].hist(bins=100)\n",
    "ax.set(title = 'Распределение по продолжительности поездки пользователей без подписки', \n",
    "       xlabel = 'продолжительность поездки', ylabel = 'количество');"
   ]
  },
  {
   "cell_type": "code",
   "execution_count": 41,
   "id": "ad6ba563",
   "metadata": {},
   "outputs": [
    {
     "data": {
      "image/png": "[encoded data removed]",
      "text/plain": [
       "<Figure size 800x400 with 1 Axes>"
      ]
     },
     "metadata": {},
     "output_type": "display_data"
    }
   ],
   "source": [
    "# распределение по продолжительности поездки пользователей с подпиской\n",
    "fig, ax = plt.subplots(figsize=(8, 4))\n",
    "df_ultra['duration'].hist(bins=100, range=(0, 35))\n",
    "ax.set(title = 'Распределение по продолжительности поездки пользователей с подпиской', \n",
    "       xlabel = 'продолжительность поездки', ylabel = 'количество');"
   ]
  },
  {
   "cell_type": "markdown",
   "id": "94e93381",
   "metadata": {},
   "source": [
    "#### Выводы:\n",
    "Распределения достаточно близки, за исключением пика в области 0,5 минут у пользователей без подписки. Распределение пользователей без подписки шире в левой части. Характер распределений близок к нормальному."
   ]
  },
  {
   "cell_type": "code",
   "execution_count": 42,
   "id": "5c4cfbf4",
   "metadata": {},
   "outputs": [
    {
     "data": {
      "image/png": "[encoded data removed]",
      "text/plain": [
       "<Figure size 800x400 with 1 Axes>"
      ]
     },
     "metadata": {},
     "output_type": "display_data"
    }
   ],
   "source": [
    "# распределение по продолжительности поездки пользователей без подписки и с подпиской\n",
    "fig, ax = plt.subplots(figsize=(8, 4))\n",
    "df_free['duration'].hist(bins=100)\n",
    "df_ultra['duration'].hist(bins=100)\n",
    "plt.legend(['free', 'ultra'])\n",
    "ax.set(title = 'Распределение по продолжительности поездки пользователей c подпиской и без', \n",
    "       xlabel = 'продолжительность поездки', ylabel = 'количество');"
   ]
  },
  {
   "cell_type": "markdown",
   "id": "c1335e97",
   "metadata": {},
   "source": [
    "### 5. Подсчёт выручки"
   ]
  },
  {
   "cell_type": "code",
   "execution_count": 43,
   "id": "9d4b8e42",
   "metadata": {},
   "outputs": [
    {
     "data": {
      "text/html": [
       "<div>\n",
       "<style scoped>\n",
       "    .dataframe tbody tr th:only-of-type {\n",
       "        vertical-align: middle;\n",
       "    }\n",
       "\n",
       "    .dataframe tbody tr th {\n",
       "        vertical-align: top;\n",
       "    }\n",
       "\n",
       "    .dataframe thead th {\n",
       "        text-align: right;\n",
       "    }\n",
       "</style>\n",
       "<table border=\"1\" class=\"dataframe\">\n",
       "  <thead>\n",
       "    <tr style=\"text-align: right;\">\n",
       "      <th></th>\n",
       "      <th>user_id</th>\n",
       "      <th>name</th>\n",
       "      <th>age</th>\n",
       "      <th>city</th>\n",
       "      <th>subscription_type</th>\n",
       "      <th>distance</th>\n",
       "      <th>duration</th>\n",
       "      <th>date</th>\n",
       "      <th>month</th>\n",
       "      <th>minute_price</th>\n",
       "      <th>start_ride_price</th>\n",
       "      <th>subscription_fee</th>\n",
       "      <th>speed</th>\n",
       "      <th>count</th>\n",
       "    </tr>\n",
       "  </thead>\n",
       "  <tbody>\n",
       "    <tr>\n",
       "      <th>0</th>\n",
       "      <td>1</td>\n",
       "      <td>Кира</td>\n",
       "      <td>22</td>\n",
       "      <td>Тюмень</td>\n",
       "      <td>ultra</td>\n",
       "      <td>4409.919140</td>\n",
       "      <td>25.599769</td>\n",
       "      <td>2021-01-01</td>\n",
       "      <td>1</td>\n",
       "      <td>6</td>\n",
       "      <td>0</td>\n",
       "      <td>199</td>\n",
       "      <td>10.335841</td>\n",
       "      <td>1</td>\n",
       "    </tr>\n",
       "    <tr>\n",
       "      <th>1</th>\n",
       "      <td>1</td>\n",
       "      <td>Кира</td>\n",
       "      <td>22</td>\n",
       "      <td>Тюмень</td>\n",
       "      <td>ultra</td>\n",
       "      <td>2617.592153</td>\n",
       "      <td>15.816871</td>\n",
       "      <td>2021-01-18</td>\n",
       "      <td>1</td>\n",
       "      <td>6</td>\n",
       "      <td>0</td>\n",
       "      <td>199</td>\n",
       "      <td>9.929620</td>\n",
       "      <td>1</td>\n",
       "    </tr>\n",
       "    <tr>\n",
       "      <th>2</th>\n",
       "      <td>1</td>\n",
       "      <td>Кира</td>\n",
       "      <td>22</td>\n",
       "      <td>Тюмень</td>\n",
       "      <td>ultra</td>\n",
       "      <td>754.159807</td>\n",
       "      <td>6.232113</td>\n",
       "      <td>2021-04-20</td>\n",
       "      <td>4</td>\n",
       "      <td>6</td>\n",
       "      <td>0</td>\n",
       "      <td>199</td>\n",
       "      <td>7.260713</td>\n",
       "      <td>1</td>\n",
       "    </tr>\n",
       "    <tr>\n",
       "      <th>3</th>\n",
       "      <td>1</td>\n",
       "      <td>Кира</td>\n",
       "      <td>22</td>\n",
       "      <td>Тюмень</td>\n",
       "      <td>ultra</td>\n",
       "      <td>2694.783254</td>\n",
       "      <td>18.511000</td>\n",
       "      <td>2021-08-11</td>\n",
       "      <td>8</td>\n",
       "      <td>6</td>\n",
       "      <td>0</td>\n",
       "      <td>199</td>\n",
       "      <td>8.734644</td>\n",
       "      <td>1</td>\n",
       "    </tr>\n",
       "    <tr>\n",
       "      <th>4</th>\n",
       "      <td>1</td>\n",
       "      <td>Кира</td>\n",
       "      <td>22</td>\n",
       "      <td>Тюмень</td>\n",
       "      <td>ultra</td>\n",
       "      <td>4028.687306</td>\n",
       "      <td>26.265803</td>\n",
       "      <td>2021-08-28</td>\n",
       "      <td>8</td>\n",
       "      <td>6</td>\n",
       "      <td>0</td>\n",
       "      <td>199</td>\n",
       "      <td>9.202888</td>\n",
       "      <td>1</td>\n",
       "    </tr>\n",
       "  </tbody>\n",
       "</table>\n",
       "</div>"
      ],
      "text/plain": [
       "   user_id  name  age    city subscription_type     distance   duration  \\\n",
       "0        1  Кира   22  Тюмень             ultra  4409.919140  25.599769   \n",
       "1        1  Кира   22  Тюмень             ultra  2617.592153  15.816871   \n",
       "2        1  Кира   22  Тюмень             ultra   754.159807   6.232113   \n",
       "3        1  Кира   22  Тюмень             ultra  2694.783254  18.511000   \n",
       "4        1  Кира   22  Тюмень             ultra  4028.687306  26.265803   \n",
       "\n",
       "        date  month  minute_price  start_ride_price  subscription_fee  \\\n",
       "0 2021-01-01      1             6                 0               199   \n",
       "1 2021-01-18      1             6                 0               199   \n",
       "2 2021-04-20      4             6                 0               199   \n",
       "3 2021-08-11      8             6                 0               199   \n",
       "4 2021-08-28      8             6                 0               199   \n",
       "\n",
       "       speed  count  \n",
       "0  10.335841      1  \n",
       "1   9.929620      1  \n",
       "2   7.260713      1  \n",
       "3   8.734644      1  \n",
       "4   9.202888      1  "
      ]
     },
     "execution_count": 43,
     "metadata": {},
     "output_type": "execute_result"
    }
   ],
   "source": [
    "# создадим столбец для подстчета количества поездок\n",
    "df['count'] = 1\n",
    "df.head()"
   ]
  },
  {
   "cell_type": "code",
   "execution_count": 44,
   "id": "9e24265c",
   "metadata": {},
   "outputs": [
    {
     "data": {
      "text/html": [
       "<div>\n",
       "<style scoped>\n",
       "    .dataframe tbody tr th:only-of-type {\n",
       "        vertical-align: middle;\n",
       "    }\n",
       "\n",
       "    .dataframe tbody tr th {\n",
       "        vertical-align: top;\n",
       "    }\n",
       "\n",
       "    .dataframe thead th {\n",
       "        text-align: right;\n",
       "    }\n",
       "</style>\n",
       "<table border=\"1\" class=\"dataframe\">\n",
       "  <thead>\n",
       "    <tr style=\"text-align: right;\">\n",
       "      <th></th>\n",
       "      <th>user_id</th>\n",
       "      <th>name</th>\n",
       "      <th>age</th>\n",
       "      <th>city</th>\n",
       "      <th>subscription_type</th>\n",
       "      <th>distance</th>\n",
       "      <th>duration</th>\n",
       "      <th>date</th>\n",
       "      <th>month</th>\n",
       "      <th>minute_price</th>\n",
       "      <th>start_ride_price</th>\n",
       "      <th>subscription_fee</th>\n",
       "      <th>speed</th>\n",
       "      <th>count</th>\n",
       "    </tr>\n",
       "  </thead>\n",
       "  <tbody>\n",
       "    <tr>\n",
       "      <th>0</th>\n",
       "      <td>1</td>\n",
       "      <td>Кира</td>\n",
       "      <td>22</td>\n",
       "      <td>Тюмень</td>\n",
       "      <td>ultra</td>\n",
       "      <td>4409.919140</td>\n",
       "      <td>26.0</td>\n",
       "      <td>2021-01-01</td>\n",
       "      <td>1</td>\n",
       "      <td>6</td>\n",
       "      <td>0</td>\n",
       "      <td>199</td>\n",
       "      <td>10.335841</td>\n",
       "      <td>1</td>\n",
       "    </tr>\n",
       "    <tr>\n",
       "      <th>1</th>\n",
       "      <td>1</td>\n",
       "      <td>Кира</td>\n",
       "      <td>22</td>\n",
       "      <td>Тюмень</td>\n",
       "      <td>ultra</td>\n",
       "      <td>2617.592153</td>\n",
       "      <td>16.0</td>\n",
       "      <td>2021-01-18</td>\n",
       "      <td>1</td>\n",
       "      <td>6</td>\n",
       "      <td>0</td>\n",
       "      <td>199</td>\n",
       "      <td>9.929620</td>\n",
       "      <td>1</td>\n",
       "    </tr>\n",
       "    <tr>\n",
       "      <th>2</th>\n",
       "      <td>1</td>\n",
       "      <td>Кира</td>\n",
       "      <td>22</td>\n",
       "      <td>Тюмень</td>\n",
       "      <td>ultra</td>\n",
       "      <td>754.159807</td>\n",
       "      <td>7.0</td>\n",
       "      <td>2021-04-20</td>\n",
       "      <td>4</td>\n",
       "      <td>6</td>\n",
       "      <td>0</td>\n",
       "      <td>199</td>\n",
       "      <td>7.260713</td>\n",
       "      <td>1</td>\n",
       "    </tr>\n",
       "    <tr>\n",
       "      <th>3</th>\n",
       "      <td>1</td>\n",
       "      <td>Кира</td>\n",
       "      <td>22</td>\n",
       "      <td>Тюмень</td>\n",
       "      <td>ultra</td>\n",
       "      <td>2694.783254</td>\n",
       "      <td>19.0</td>\n",
       "      <td>2021-08-11</td>\n",
       "      <td>8</td>\n",
       "      <td>6</td>\n",
       "      <td>0</td>\n",
       "      <td>199</td>\n",
       "      <td>8.734644</td>\n",
       "      <td>1</td>\n",
       "    </tr>\n",
       "    <tr>\n",
       "      <th>4</th>\n",
       "      <td>1</td>\n",
       "      <td>Кира</td>\n",
       "      <td>22</td>\n",
       "      <td>Тюмень</td>\n",
       "      <td>ultra</td>\n",
       "      <td>4028.687306</td>\n",
       "      <td>27.0</td>\n",
       "      <td>2021-08-28</td>\n",
       "      <td>8</td>\n",
       "      <td>6</td>\n",
       "      <td>0</td>\n",
       "      <td>199</td>\n",
       "      <td>9.202888</td>\n",
       "      <td>1</td>\n",
       "    </tr>\n",
       "  </tbody>\n",
       "</table>\n",
       "</div>"
      ],
      "text/plain": [
       "   user_id  name  age    city subscription_type     distance  duration  \\\n",
       "0        1  Кира   22  Тюмень             ultra  4409.919140      26.0   \n",
       "1        1  Кира   22  Тюмень             ultra  2617.592153      16.0   \n",
       "2        1  Кира   22  Тюмень             ultra   754.159807       7.0   \n",
       "3        1  Кира   22  Тюмень             ultra  2694.783254      19.0   \n",
       "4        1  Кира   22  Тюмень             ultra  4028.687306      27.0   \n",
       "\n",
       "        date  month  minute_price  start_ride_price  subscription_fee  \\\n",
       "0 2021-01-01      1             6                 0               199   \n",
       "1 2021-01-18      1             6                 0               199   \n",
       "2 2021-04-20      4             6                 0               199   \n",
       "3 2021-08-11      8             6                 0               199   \n",
       "4 2021-08-28      8             6                 0               199   \n",
       "\n",
       "       speed  count  \n",
       "0  10.335841      1  \n",
       "1   9.929620      1  \n",
       "2   7.260713      1  \n",
       "3   8.734644      1  \n",
       "4   9.202888      1  "
      ]
     },
     "execution_count": 44,
     "metadata": {},
     "output_type": "execute_result"
    }
   ],
   "source": [
    "# для корректного подсчета выручки нужно каждое значение из столбца duration округлить с помощью «потолка»: \n",
    "df['duration'] = np.ceil(df['duration']) \n",
    "df.head()"
   ]
  },
  {
   "cell_type": "code",
   "execution_count": 45,
   "id": "da876427",
   "metadata": {
    "scrolled": false
   },
   "outputs": [
    {
     "data": {
      "text/html": [
       "<div>\n",
       "<style scoped>\n",
       "    .dataframe tbody tr th:only-of-type {\n",
       "        vertical-align: middle;\n",
       "    }\n",
       "\n",
       "    .dataframe tbody tr th {\n",
       "        vertical-align: top;\n",
       "    }\n",
       "\n",
       "    .dataframe thead th {\n",
       "        text-align: right;\n",
       "    }\n",
       "</style>\n",
       "<table border=\"1\" class=\"dataframe\">\n",
       "  <thead>\n",
       "    <tr style=\"text-align: right;\">\n",
       "      <th></th>\n",
       "      <th>user_id</th>\n",
       "      <th>month</th>\n",
       "      <th>count</th>\n",
       "      <th>distance</th>\n",
       "      <th>duration</th>\n",
       "      <th>minute_price</th>\n",
       "      <th>start_ride_price</th>\n",
       "      <th>subscription_fee</th>\n",
       "    </tr>\n",
       "  </thead>\n",
       "  <tbody>\n",
       "    <tr>\n",
       "      <th>0</th>\n",
       "      <td>1</td>\n",
       "      <td>1</td>\n",
       "      <td>2</td>\n",
       "      <td>7027.511294</td>\n",
       "      <td>42.0</td>\n",
       "      <td>6</td>\n",
       "      <td>0</td>\n",
       "      <td>199</td>\n",
       "    </tr>\n",
       "    <tr>\n",
       "      <th>1</th>\n",
       "      <td>1</td>\n",
       "      <td>4</td>\n",
       "      <td>1</td>\n",
       "      <td>754.159807</td>\n",
       "      <td>7.0</td>\n",
       "      <td>6</td>\n",
       "      <td>0</td>\n",
       "      <td>199</td>\n",
       "    </tr>\n",
       "    <tr>\n",
       "      <th>2</th>\n",
       "      <td>1</td>\n",
       "      <td>8</td>\n",
       "      <td>2</td>\n",
       "      <td>6723.470560</td>\n",
       "      <td>46.0</td>\n",
       "      <td>6</td>\n",
       "      <td>0</td>\n",
       "      <td>199</td>\n",
       "    </tr>\n",
       "    <tr>\n",
       "      <th>3</th>\n",
       "      <td>1</td>\n",
       "      <td>10</td>\n",
       "      <td>2</td>\n",
       "      <td>5809.911100</td>\n",
       "      <td>32.0</td>\n",
       "      <td>6</td>\n",
       "      <td>0</td>\n",
       "      <td>199</td>\n",
       "    </tr>\n",
       "    <tr>\n",
       "      <th>4</th>\n",
       "      <td>1</td>\n",
       "      <td>11</td>\n",
       "      <td>3</td>\n",
       "      <td>7003.499363</td>\n",
       "      <td>56.0</td>\n",
       "      <td>6</td>\n",
       "      <td>0</td>\n",
       "      <td>199</td>\n",
       "    </tr>\n",
       "    <tr>\n",
       "      <th>...</th>\n",
       "      <td>...</td>\n",
       "      <td>...</td>\n",
       "      <td>...</td>\n",
       "      <td>...</td>\n",
       "      <td>...</td>\n",
       "      <td>...</td>\n",
       "      <td>...</td>\n",
       "      <td>...</td>\n",
       "    </tr>\n",
       "    <tr>\n",
       "      <th>11326</th>\n",
       "      <td>1534</td>\n",
       "      <td>6</td>\n",
       "      <td>2</td>\n",
       "      <td>3409.468534</td>\n",
       "      <td>26.0</td>\n",
       "      <td>8</td>\n",
       "      <td>50</td>\n",
       "      <td>0</td>\n",
       "    </tr>\n",
       "    <tr>\n",
       "      <th>11327</th>\n",
       "      <td>1534</td>\n",
       "      <td>8</td>\n",
       "      <td>2</td>\n",
       "      <td>7622.453034</td>\n",
       "      <td>48.0</td>\n",
       "      <td>8</td>\n",
       "      <td>50</td>\n",
       "      <td>0</td>\n",
       "    </tr>\n",
       "    <tr>\n",
       "      <th>11328</th>\n",
       "      <td>1534</td>\n",
       "      <td>9</td>\n",
       "      <td>1</td>\n",
       "      <td>4928.173852</td>\n",
       "      <td>23.0</td>\n",
       "      <td>8</td>\n",
       "      <td>50</td>\n",
       "      <td>0</td>\n",
       "    </tr>\n",
       "    <tr>\n",
       "      <th>11329</th>\n",
       "      <td>1534</td>\n",
       "      <td>11</td>\n",
       "      <td>4</td>\n",
       "      <td>13350.015305</td>\n",
       "      <td>78.0</td>\n",
       "      <td>8</td>\n",
       "      <td>50</td>\n",
       "      <td>0</td>\n",
       "    </tr>\n",
       "    <tr>\n",
       "      <th>11330</th>\n",
       "      <td>1534</td>\n",
       "      <td>12</td>\n",
       "      <td>1</td>\n",
       "      <td>2371.711192</td>\n",
       "      <td>16.0</td>\n",
       "      <td>8</td>\n",
       "      <td>50</td>\n",
       "      <td>0</td>\n",
       "    </tr>\n",
       "  </tbody>\n",
       "</table>\n",
       "<p>11331 rows × 8 columns</p>\n",
       "</div>"
      ],
      "text/plain": [
       "       user_id  month  count      distance  duration  minute_price  \\\n",
       "0            1      1      2   7027.511294      42.0             6   \n",
       "1            1      4      1    754.159807       7.0             6   \n",
       "2            1      8      2   6723.470560      46.0             6   \n",
       "3            1     10      2   5809.911100      32.0             6   \n",
       "4            1     11      3   7003.499363      56.0             6   \n",
       "...        ...    ...    ...           ...       ...           ...   \n",
       "11326     1534      6      2   3409.468534      26.0             8   \n",
       "11327     1534      8      2   7622.453034      48.0             8   \n",
       "11328     1534      9      1   4928.173852      23.0             8   \n",
       "11329     1534     11      4  13350.015305      78.0             8   \n",
       "11330     1534     12      1   2371.711192      16.0             8   \n",
       "\n",
       "       start_ride_price  subscription_fee  \n",
       "0                     0               199  \n",
       "1                     0               199  \n",
       "2                     0               199  \n",
       "3                     0               199  \n",
       "4                     0               199  \n",
       "...                 ...               ...  \n",
       "11326                50                 0  \n",
       "11327                50                 0  \n",
       "11328                50                 0  \n",
       "11329                50                 0  \n",
       "11330                50                 0  \n",
       "\n",
       "[11331 rows x 8 columns]"
      ]
     },
     "execution_count": 45,
     "metadata": {},
     "output_type": "execute_result"
    }
   ],
   "source": [
    "# сгруппируем даннные по пользователям и месяцам и получим параметры, чтобы посчитать помесячную выручку\n",
    "df_revenue = df.pivot_table(index=['user_id','month'],  \n",
    "                            values=['distance', 'count', 'duration', 'minute_price', 'start_ride_price', 'subscription_fee'], \n",
    "                            aggfunc = {'distance':sum, 'count':sum, 'duration':sum, 'minute_price':'first', \n",
    "                                       'start_ride_price':'first', 'subscription_fee':'first' }).reset_index()\n",
    "\n",
    "df_revenue"
   ]
  },
  {
   "cell_type": "code",
   "execution_count": 46,
   "id": "b7b88cfc",
   "metadata": {},
   "outputs": [],
   "source": [
    "# посчитаем помесячную выручку\n",
    "df_revenue['revenue'] = (df_revenue['subscription_fee'] + df_revenue['start_ride_price'] * df_revenue['count']  + \n",
    "                         df_revenue['duration'] * df_revenue['minute_price'])"
   ]
  },
  {
   "cell_type": "code",
   "execution_count": 47,
   "id": "f5ae0914",
   "metadata": {},
   "outputs": [
    {
     "data": {
      "text/html": [
       "<div>\n",
       "<style scoped>\n",
       "    .dataframe tbody tr th:only-of-type {\n",
       "        vertical-align: middle;\n",
       "    }\n",
       "\n",
       "    .dataframe tbody tr th {\n",
       "        vertical-align: top;\n",
       "    }\n",
       "\n",
       "    .dataframe thead th {\n",
       "        text-align: right;\n",
       "    }\n",
       "</style>\n",
       "<table border=\"1\" class=\"dataframe\">\n",
       "  <thead>\n",
       "    <tr style=\"text-align: right;\">\n",
       "      <th></th>\n",
       "      <th>user_id</th>\n",
       "      <th>month</th>\n",
       "      <th>count</th>\n",
       "      <th>distance</th>\n",
       "      <th>duration</th>\n",
       "      <th>minute_price</th>\n",
       "      <th>start_ride_price</th>\n",
       "      <th>subscription_fee</th>\n",
       "      <th>revenue</th>\n",
       "    </tr>\n",
       "  </thead>\n",
       "  <tbody>\n",
       "    <tr>\n",
       "      <th>0</th>\n",
       "      <td>1</td>\n",
       "      <td>1</td>\n",
       "      <td>2</td>\n",
       "      <td>7027.511294</td>\n",
       "      <td>42.0</td>\n",
       "      <td>6</td>\n",
       "      <td>0</td>\n",
       "      <td>199</td>\n",
       "      <td>451.0</td>\n",
       "    </tr>\n",
       "    <tr>\n",
       "      <th>1</th>\n",
       "      <td>1</td>\n",
       "      <td>4</td>\n",
       "      <td>1</td>\n",
       "      <td>754.159807</td>\n",
       "      <td>7.0</td>\n",
       "      <td>6</td>\n",
       "      <td>0</td>\n",
       "      <td>199</td>\n",
       "      <td>241.0</td>\n",
       "    </tr>\n",
       "    <tr>\n",
       "      <th>2</th>\n",
       "      <td>1</td>\n",
       "      <td>8</td>\n",
       "      <td>2</td>\n",
       "      <td>6723.470560</td>\n",
       "      <td>46.0</td>\n",
       "      <td>6</td>\n",
       "      <td>0</td>\n",
       "      <td>199</td>\n",
       "      <td>475.0</td>\n",
       "    </tr>\n",
       "    <tr>\n",
       "      <th>3</th>\n",
       "      <td>1</td>\n",
       "      <td>10</td>\n",
       "      <td>2</td>\n",
       "      <td>5809.911100</td>\n",
       "      <td>32.0</td>\n",
       "      <td>6</td>\n",
       "      <td>0</td>\n",
       "      <td>199</td>\n",
       "      <td>391.0</td>\n",
       "    </tr>\n",
       "    <tr>\n",
       "      <th>4</th>\n",
       "      <td>1</td>\n",
       "      <td>11</td>\n",
       "      <td>3</td>\n",
       "      <td>7003.499363</td>\n",
       "      <td>56.0</td>\n",
       "      <td>6</td>\n",
       "      <td>0</td>\n",
       "      <td>199</td>\n",
       "      <td>535.0</td>\n",
       "    </tr>\n",
       "    <tr>\n",
       "      <th>...</th>\n",
       "      <td>...</td>\n",
       "      <td>...</td>\n",
       "      <td>...</td>\n",
       "      <td>...</td>\n",
       "      <td>...</td>\n",
       "      <td>...</td>\n",
       "      <td>...</td>\n",
       "      <td>...</td>\n",
       "      <td>...</td>\n",
       "    </tr>\n",
       "    <tr>\n",
       "      <th>11326</th>\n",
       "      <td>1534</td>\n",
       "      <td>6</td>\n",
       "      <td>2</td>\n",
       "      <td>3409.468534</td>\n",
       "      <td>26.0</td>\n",
       "      <td>8</td>\n",
       "      <td>50</td>\n",
       "      <td>0</td>\n",
       "      <td>308.0</td>\n",
       "    </tr>\n",
       "    <tr>\n",
       "      <th>11327</th>\n",
       "      <td>1534</td>\n",
       "      <td>8</td>\n",
       "      <td>2</td>\n",
       "      <td>7622.453034</td>\n",
       "      <td>48.0</td>\n",
       "      <td>8</td>\n",
       "      <td>50</td>\n",
       "      <td>0</td>\n",
       "      <td>484.0</td>\n",
       "    </tr>\n",
       "    <tr>\n",
       "      <th>11328</th>\n",
       "      <td>1534</td>\n",
       "      <td>9</td>\n",
       "      <td>1</td>\n",
       "      <td>4928.173852</td>\n",
       "      <td>23.0</td>\n",
       "      <td>8</td>\n",
       "      <td>50</td>\n",
       "      <td>0</td>\n",
       "      <td>234.0</td>\n",
       "    </tr>\n",
       "    <tr>\n",
       "      <th>11329</th>\n",
       "      <td>1534</td>\n",
       "      <td>11</td>\n",
       "      <td>4</td>\n",
       "      <td>13350.015305</td>\n",
       "      <td>78.0</td>\n",
       "      <td>8</td>\n",
       "      <td>50</td>\n",
       "      <td>0</td>\n",
       "      <td>824.0</td>\n",
       "    </tr>\n",
       "    <tr>\n",
       "      <th>11330</th>\n",
       "      <td>1534</td>\n",
       "      <td>12</td>\n",
       "      <td>1</td>\n",
       "      <td>2371.711192</td>\n",
       "      <td>16.0</td>\n",
       "      <td>8</td>\n",
       "      <td>50</td>\n",
       "      <td>0</td>\n",
       "      <td>178.0</td>\n",
       "    </tr>\n",
       "  </tbody>\n",
       "</table>\n",
       "<p>11331 rows × 9 columns</p>\n",
       "</div>"
      ],
      "text/plain": [
       "       user_id  month  count      distance  duration  minute_price  \\\n",
       "0            1      1      2   7027.511294      42.0             6   \n",
       "1            1      4      1    754.159807       7.0             6   \n",
       "2            1      8      2   6723.470560      46.0             6   \n",
       "3            1     10      2   5809.911100      32.0             6   \n",
       "4            1     11      3   7003.499363      56.0             6   \n",
       "...        ...    ...    ...           ...       ...           ...   \n",
       "11326     1534      6      2   3409.468534      26.0             8   \n",
       "11327     1534      8      2   7622.453034      48.0             8   \n",
       "11328     1534      9      1   4928.173852      23.0             8   \n",
       "11329     1534     11      4  13350.015305      78.0             8   \n",
       "11330     1534     12      1   2371.711192      16.0             8   \n",
       "\n",
       "       start_ride_price  subscription_fee  revenue  \n",
       "0                     0               199    451.0  \n",
       "1                     0               199    241.0  \n",
       "2                     0               199    475.0  \n",
       "3                     0               199    391.0  \n",
       "4                     0               199    535.0  \n",
       "...                 ...               ...      ...  \n",
       "11326                50                 0    308.0  \n",
       "11327                50                 0    484.0  \n",
       "11328                50                 0    234.0  \n",
       "11329                50                 0    824.0  \n",
       "11330                50                 0    178.0  \n",
       "\n",
       "[11331 rows x 9 columns]"
      ]
     },
     "execution_count": 47,
     "metadata": {},
     "output_type": "execute_result"
    }
   ],
   "source": [
    "# проверим создание столбца с выручкой\n",
    "df_revenue"
   ]
  },
  {
   "cell_type": "markdown",
   "id": "88492ad5",
   "metadata": {},
   "source": [
    "### 6. Проверка гипотез"
   ]
  },
  {
   "cell_type": "markdown",
   "id": "dbce373c",
   "metadata": {},
   "source": [
    "#### 6.1. Продолжительность поездки\n",
    "Важно понять, тратят ли пользователи с подпиской больше времени на поездки? Если да, то пользователи с подпиской могут быть «выгоднее» для компании. Проверьте гипотезу. Используйте исходные данные о продолжительности каждой сессии — отдельно для подписчиков и тех, у кого нет подписки."
   ]
  },
  {
   "cell_type": "code",
   "execution_count": 48,
   "id": "a595994a",
   "metadata": {},
   "outputs": [
    {
     "data": {
      "text/plain": [
       "19.037692307692307"
      ]
     },
     "execution_count": 48,
     "metadata": {},
     "output_type": "execute_result"
    }
   ],
   "source": [
    "# создадим выборку времени поездки для пользователей с подпиской и найдем среднее\n",
    "duration_ultra = df.query('subscription_type == \"ultra\"')['duration']\n",
    "duration_ultra.mean()"
   ]
  },
  {
   "cell_type": "code",
   "execution_count": 49,
   "id": "5dbc0999",
   "metadata": {},
   "outputs": [
    {
     "data": {
      "text/plain": [
       "17.890992392807746"
      ]
     },
     "execution_count": 49,
     "metadata": {},
     "output_type": "execute_result"
    }
   ],
   "source": [
    "# создадим выборку времени поездки для пользователей без подписки и найдем среднее\n",
    "duration_free = df.query('subscription_type == \"free\"')['duration']\n",
    "duration_free.mean()"
   ]
  },
  {
   "cell_type": "markdown",
   "id": "76fc580d",
   "metadata": {},
   "source": [
    "- Нулевая гипотеза: средние значения длительностей поездок пользователей из двух групп равны.\n",
    "- Альтернативная гипотеза: среднее значение длительностей поездок пользователей с подпиской больше, чем среднее значение длительностей поездок пользователей без подписки"
   ]
  },
  {
   "cell_type": "code",
   "execution_count": 50,
   "id": "455f51bb",
   "metadata": {},
   "outputs": [
    {
     "name": "stdout",
     "output_type": "stream",
     "text": [
      "p-value: 2.4959453720736625e-34\n",
      "Отвергаем нулевую гипотезу\n"
     ]
    }
   ],
   "source": [
    "import scipy.stats as st\n",
    "\n",
    "# задаём уровень значимости\n",
    "alpha = 0.05\n",
    "\n",
    "# проводим ttest для двух выборок, в качестве альтернативной используем одностороннюю гипотезу «больше»\n",
    "results = st.ttest_ind(duration_ultra, duration_free, alternative='greater')\n",
    "\n",
    "print(f'p-value: {results.pvalue}')\n",
    "\n",
    "# проверяем p-value\n",
    "if results.pvalue < alpha:\n",
    "    print('Отвергаем нулевую гипотезу')\n",
    "else:\n",
    "    print('Нет оснований отвергнуть нулевую гипотезу')"
   ]
  },
  {
   "cell_type": "markdown",
   "id": "d96559b3",
   "metadata": {},
   "source": [
    "#### Выводы:\n",
    "Среднее значение длительности поездок пользователей с подпиской больше, чем без подписки. Эти различия статистически значимы при заданном уровне значимости 5%. Здесь ответ однозначный и для любого меньшего разумного уровня значимости, так как p-value очень мал."
   ]
  },
  {
   "cell_type": "markdown",
   "id": "62e66b8b",
   "metadata": {},
   "source": [
    "#### 6.2 . Расстояние\n",
    "Расстояние одной поездки в 3130 метров — оптимальное с точки зрения износа самоката. Можно ли сказать, что среднее расстояние, которое проезжают пользователи с подпиской за одну поездку, не превышает 3130 метров? Проверьте гипотезу и сделайте выводы."
   ]
  },
  {
   "cell_type": "code",
   "execution_count": 51,
   "id": "72677c3d",
   "metadata": {},
   "outputs": [
    {
     "data": {
      "text/plain": [
       "3115.4453880370247"
      ]
     },
     "execution_count": 51,
     "metadata": {},
     "output_type": "execute_result"
    }
   ],
   "source": [
    "# создадим выборку с длительностью поездки и найдем среднее\n",
    "distance_ultra = df.query('subscription_type == \"ultra\"')['distance']\n",
    "distance_ultra.mean()"
   ]
  },
  {
   "cell_type": "markdown",
   "id": "3854ee64",
   "metadata": {},
   "source": [
    "- Нулевая гипотеза: среднее расстояние, которое проезжают пользователи с подпиской за одну поездку может быть, равно 3130 метров.\n",
    "- Альтернативная гипотеза: среднее расстояние, которое проезжают пользователи с подпиской за одну поездку, меньше 3130 метров"
   ]
  },
  {
   "cell_type": "code",
   "execution_count": 52,
   "id": "50ab083d",
   "metadata": {},
   "outputs": [
    {
     "name": "stdout",
     "output_type": "stream",
     "text": [
      "p-значение: 0.08046311521502146\n",
      "Не отвергаем нулевую гипотезу\n"
     ]
    }
   ],
   "source": [
    "distance_value = 3130\n",
    "\n",
    "alpha = 0.05 # уровень статистической значимости\n",
    "\n",
    "# проводим ttest для выбороки и заданного среднего значения, в качестве альтернативной используем одностороннюю гипотезу «меньше»\n",
    "results = st.ttest_1samp(\n",
    "    distance_ultra, \n",
    "    distance_value,\n",
    "      alternative='less')\n",
    "\n",
    "print('p-значение:', results.pvalue)\n",
    "\n",
    "if (results.pvalue < alpha):\n",
    "    print('Отвергаем нулевую гипотезу')\n",
    "else:\n",
    "    print('Не отвергаем нулевую гипотезу') "
   ]
  },
  {
   "cell_type": "markdown",
   "id": "4f12a783",
   "metadata": {},
   "source": [
    "- Нулевая гипотеза: среднее расстояние, которое проезжают пользователи с подпиской за одну поездку может быть, равно 3130 метров.\n",
    "- Альтернативная гипотеза: среднее расстояние, которое проезжают пользователи с подпиской за одну поездку, больше 3130 метров"
   ]
  },
  {
   "cell_type": "code",
   "execution_count": 53,
   "id": "5ee5aeeb",
   "metadata": {},
   "outputs": [
    {
     "name": "stdout",
     "output_type": "stream",
     "text": [
      "p-значение: 0.9195368847849785\n",
      "Не отвергаем нулевую гипотезу\n"
     ]
    }
   ],
   "source": [
    "distance_value = 3130\n",
    "\n",
    "alpha = 0.05 # уровень статистической значимости\n",
    "\n",
    "# проводим ttest для выбороки и заданного среднего значения, в качестве альтернативной используем одностороннюю гипотезу «меньше»\n",
    "results = st.ttest_1samp(\n",
    "    distance_ultra, \n",
    "    distance_value,\n",
    "      alternative='greater')\n",
    "\n",
    "print('p-значение:', results.pvalue)\n",
    "\n",
    "if (results.pvalue < alpha):\n",
    "    print('Отвергаем нулевую гипотезу')\n",
    "else:\n",
    "    print('Не отвергаем нулевую гипотезу') "
   ]
  },
  {
   "cell_type": "markdown",
   "id": "a0e5079d",
   "metadata": {},
   "source": [
    "#### Выводы:\n",
    "Мы должны принять нулевую гипотезу, что среднее расстояние, которое проезжают пользователи с подпиской за одну поездку, может быть равно 3130 метров, и отвергнуть альтернативную гипотезу, что среднее расстояние, которое проезжают пользователи с подпиской за одну поездку, превышает 3130 метров."
   ]
  },
  {
   "cell_type": "markdown",
   "id": "0623f7cc",
   "metadata": {},
   "source": [
    "#### 6.3. Выручка\n",
    "Проверьте гипотезу о том, будет ли помесячная выручка от пользователей с подпиской по месяцам выше, чем выручка от пользователей без подписки. Сделайте вывод."
   ]
  },
  {
   "cell_type": "code",
   "execution_count": 54,
   "id": "73443ef1",
   "metadata": {},
   "outputs": [
    {
     "data": {
      "text/plain": [
       "362.7921906022502"
      ]
     },
     "execution_count": 54,
     "metadata": {},
     "output_type": "execute_result"
    }
   ],
   "source": [
    "# выборка пользователей с подпиской и среднее значение выручки\n",
    "revenue_ultra = df_revenue.query('subscription_fee == 199')['revenue']\n",
    "revenue_ultra.mean()"
   ]
  },
  {
   "cell_type": "code",
   "execution_count": 55,
   "id": "80043c46",
   "metadata": {},
   "outputs": [
    {
     "data": {
      "text/plain": [
       "328.6413651073845"
      ]
     },
     "execution_count": 55,
     "metadata": {},
     "output_type": "execute_result"
    }
   ],
   "source": [
    "# выборка пользователей без подписки и среднее значение выручки\n",
    "revenue_free = df_revenue.query('subscription_fee != 199')['revenue']\n",
    "revenue_free.mean()"
   ]
  },
  {
   "cell_type": "markdown",
   "id": "57bf5e39",
   "metadata": {},
   "source": [
    "- Нулевая гипотеза: средние значения помесячной выручки пользователей из двух групп равны.\n",
    "- Альтернативная гипотеза: среднее значение помесячной выручки пользователей с подпиской больше, чем среднее значение помесячной выручки пользователей без подписки."
   ]
  },
  {
   "cell_type": "code",
   "execution_count": 56,
   "id": "85b688bd",
   "metadata": {},
   "outputs": [
    {
     "name": "stdout",
     "output_type": "stream",
     "text": [
      "p-value: 1.8850394384715216e-31\n",
      "Отвергаем нулевую гипотезу\n"
     ]
    }
   ],
   "source": [
    "# задаём уровень значимости\n",
    "alpha = 0.05\n",
    "\n",
    "# проводим ttest для двух выборок, в качестве альтернативной используем одностороннюю гипотезу «больше»\n",
    "results = st.ttest_ind(revenue_ultra, revenue_free, alternative='greater')\n",
    "\n",
    "print(f'p-value: {results.pvalue}')\n",
    "\n",
    "# проверяем p-value\n",
    "if results.pvalue < alpha:\n",
    "    print('Отвергаем нулевую гипотезу')\n",
    "else:\n",
    "    print('Нет оснований отвергнуть нулевую гипотезу')"
   ]
  },
  {
   "cell_type": "markdown",
   "id": "b7f679eb",
   "metadata": {},
   "source": [
    "#### Выводы:\n",
    "Среднее значение помесячной выручки пользователей с подпиской больше, чем среднее значение помесячной выручки пользователей без подписки. Различия в средних статистически значимы при уровне значимости 5%, а также и для любого меньшего разумного уровня значимости."
   ]
  },
  {
   "cell_type": "markdown",
   "id": "8f98ab41",
   "metadata": {},
   "source": [
    "#### 6.4. Какой тест нужно применить?\n",
    "Представьте такую ситуацию: техническая команда сервиса обновила сервера, с которыми взаимодействует мобильное приложение. Она надеется, что из-за этого количество обращений в техподдержку значимо снизилось. Некоторый файл содержит для каждого пользователя данные о количестве обращений до обновления и после него. Какой тест вам понадобился бы для проверки этой гипотезы?"
   ]
  },
  {
   "cell_type": "markdown",
   "id": "5ebcc790",
   "metadata": {},
   "source": [
    "#### Ответ: \n",
    "чтобы проверить гипотезу о равенстве среднего генеральной совокупности для зависимых (парных) выборок в Python, нужно применить метод scipy.stats.ttest_rel()."
   ]
  },
  {
   "cell_type": "markdown",
   "id": "affb572a",
   "metadata": {},
   "source": [
    "### 7 (необязательное задание). Распределения"
   ]
  },
  {
   "cell_type": "markdown",
   "id": "5b163848",
   "metadata": {},
   "source": [
    "#### 7.1. Рассылка промокодов\n",
    "Отделу маркетинга GoFast поставили задачу: нужно провести акцию с раздачей промокодов на один бесплатный месяц подписки, в рамках которой как минимум 100 существующих клиентов должны продлить эту подписку. То есть по завершении периода действия подписки пользователь может либо отказаться от неё, либо продлить, совершив соответствующий платёж. \n",
    "Эта акция уже проводилась ранее и по итогу выяснилось, что после бесплатного пробного периода подписку продлевают 10 % пользователей. Выясните, какое минимальное количество промокодов нужно разослать, чтобы вероятность не выполнить план была примерно 5 %. Подберите параметры распределения, описывающего эту ситуацию, постройте график распределения и сформулируйте ответ на вопрос о количестве промокодов."
   ]
  },
  {
   "cell_type": "markdown",
   "id": "1f1e12ff",
   "metadata": {},
   "source": [
    "Нужно использовать биномиальное распределение, которое описывает указанную ситуацию. Затем подобрать подходящее значение параметра N для заданного параметра p=0.1 с помощью графиков и метода cdf() , сформулировать вывод и ответ."
   ]
  },
  {
   "cell_type": "markdown",
   "id": "d220f57f",
   "metadata": {},
   "source": [
    "Зададим параметры биномиального распределения.\n",
    "Пусть n будет немного больше 1000, конкретное значение подберём такое, чтобы вероятность не получить 100 и более положительных исходов (подписок) была примерно 5%. Другими словами вероятность левого хвоста распределения (от 0 до 99) должна быть максимально приближена к 5%, но не более.\n",
    "\n",
    "p = 0.1 - вероятность положительного исхода."
   ]
  },
  {
   "cell_type": "markdown",
   "id": "82947214",
   "metadata": {},
   "source": [
    "#### Биномиальное распределение"
   ]
  },
  {
   "cell_type": "code",
   "execution_count": 57,
   "id": "e77d3dd8",
   "metadata": {},
   "outputs": [
    {
     "data": {
      "image/png": "[encoded data removed]",
      "text/plain": [
       "<Figure size 800x400 with 1 Axes>"
      ]
     },
     "metadata": {},
     "output_type": "display_data"
    }
   ],
   "source": [
    "# построим биномиальное распределение\n",
    "from scipy.stats import binom\n",
    "\n",
    "n = 1161 # количество попыток (принимаем сами и далее подбираем)\n",
    "p = 0.1 # вероятность успеха\n",
    "\n",
    "distr = [] # сюда будем складывать вероятости получить определенное количество положительных исходов от 0 до n\n",
    "\n",
    "for k in range(0, n + 1):\n",
    "    current_value = binom.pmf(k, n, p) # используем метод binom.pmf() из модуля scipy.stats.\n",
    "    distr.append(current_value)\n",
    "    \n",
    "fig, ax = plt.subplots(figsize=(8, 4))   \n",
    "plt.bar(range(0, n+1), distr); # строим график распределения"
   ]
  },
  {
   "cell_type": "code",
   "execution_count": 58,
   "id": "468ba52e",
   "metadata": {},
   "outputs": [
    {
     "data": {
      "text/plain": [
       "0.049760900949903264"
      ]
     },
     "execution_count": 58,
     "metadata": {},
     "output_type": "execute_result"
    },
    {
     "data": {
      "image/png": "[encoded data removed]",
      "text/plain": [
       "<Figure size 800x400 with 1 Axes>"
      ]
     },
     "metadata": {},
     "output_type": "display_data"
    }
   ],
   "source": [
    "# посмотрим на него поближе и посчитаем вероятность\n",
    "fig, ax = plt.subplots(figsize=(8, 4))   \n",
    "ax.set_xlim(80, 150)\n",
    "plt.bar(range(0, n+1), distr);\n",
    "sum(distr[0:100]) # и посчитаем вероятность левого хвоста от 0 до 99"
   ]
  },
  {
   "cell_type": "markdown",
   "id": "901e6868",
   "metadata": {},
   "source": [
    "#### Выводы: \n",
    "1. Для того, чтобы получить 100 подписок с вероятностью не выполнить план примерно на 5%, нужно разослать не менее 1161 промокодов."
   ]
  },
  {
   "cell_type": "markdown",
   "id": "a42f2725",
   "metadata": {},
   "source": [
    "Решим эту задачу с помощью метода cdf() биномиального распределения и подбора количества промокодов не в ручную, а в цикле"
   ]
  },
  {
   "cell_type": "code",
   "execution_count": 59,
   "id": "147ad16a",
   "metadata": {},
   "outputs": [
    {
     "name": "stdout",
     "output_type": "stream",
     "text": [
      "Минимальное количество промокодов: 1161\n",
      "Вероятность не выполнить план: 0.04976090094990249\n"
     ]
    }
   ],
   "source": [
    "alpha = 0.05\n",
    "p = 0.10\n",
    "k = 100\n",
    "\n",
    "n = 1000  # Начнем с какого-то значения n\n",
    "while binom.cdf(k - 1, n, p) > alpha:\n",
    "    n += 1\n",
    "\n",
    "print('Минимальное количество промокодов:', n)\n",
    "print('Вероятность не выполнить план:', binom.cdf(k - 1, n, p))"
   ]
  },
  {
   "cell_type": "markdown",
   "id": "3f636982",
   "metadata": {},
   "source": [
    "#### Выводы: \n",
    "1. Для того, чтобы получить 100 подписок с вероятностью не выполнить план примерно на 5%, нужно разослать не менее 1161 промокодов. Получили такой же результат (что и должно быть)."
   ]
  },
  {
   "cell_type": "markdown",
   "id": "f8109ccb",
   "metadata": {},
   "source": [
    "Биномиальное распределение по внешнему виду очень похоже на нормальное распределение. Это связано с большим значением n. Это биномиальное распределение можно апроксимировать нормальным распределением и распределением Пуассона (т.к. значение р не велико, а n достаточно большое) и решить задачу с использованием метода cdf(). \n",
    "\n",
    "Решим эту задачу с помощью апроксимации биномиального распределения распределением Пуассона и нормальным распределением."
   ]
  },
  {
   "cell_type": "markdown",
   "id": "fd0b6ca5",
   "metadata": {},
   "source": [
    "#### Распределение Пуассона"
   ]
  },
  {
   "cell_type": "code",
   "execution_count": 60,
   "id": "a18402e6",
   "metadata": {
    "scrolled": false
   },
   "outputs": [
    {
     "data": {
      "text/plain": [
       "0.04997337763844011"
      ]
     },
     "execution_count": 60,
     "metadata": {},
     "output_type": "execute_result"
    },
    {
     "data": {
      "image/png": "[encoded data removed]",
      "text/plain": [
       "<Figure size 800x400 with 1 Axes>"
      ]
     },
     "metadata": {},
     "output_type": "display_data"
    }
   ],
   "source": [
    "# построим распределение Пуассона\n",
    "from scipy.stats import poisson\n",
    "n = 1170\n",
    "p = 0.1\n",
    "lmbd = n * p\n",
    " \n",
    "distr = [] # сюда будем складывать вероятости получить определенное количество положительных исходов от 0 до n\n",
    "\n",
    "for k in range(0, n + 1):    \n",
    "    p = poisson.pmf(k, lmbd) # рассчитаем вероятности этого значения с помощью метода pmf():\n",
    "    distr.append(p)\n",
    " \n",
    "fig, ax = plt.subplots(figsize=(8, 4))   \n",
    "plt.bar(range(n + 1), distr) # построим график\n",
    "ax.set_xlim(80, 150)\n",
    "ax.set_ylim(0, 0.04);\n",
    "sum(distr[0:100]) # и посчитаем вероятность левого хвоста от 0 до 99"
   ]
  },
  {
   "cell_type": "markdown",
   "id": "ea080547",
   "metadata": {},
   "source": [
    "#### Выводы:\n",
    "1. Для того, чтобы получить 100 подписок с вероятностью не выполнить план примерно на 5%, нужно разослать не менее 1170 промокодов. (Результат изменился (по отношению к 1161) на 0,78%).\n",
    "2. Решим эту же задачу с использование метода cdf()."
   ]
  },
  {
   "cell_type": "code",
   "execution_count": 61,
   "id": "2a07a781",
   "metadata": {},
   "outputs": [
    {
     "name": "stdout",
     "output_type": "stream",
     "text": [
      "Минимальное количество промокодов: 1170\n",
      "Вероятность не выполнить план: 0.049973377638439065\n"
     ]
    }
   ],
   "source": [
    "# решение с помощью метода cdf()\n",
    "k = 100 # число продлений подписки\n",
    "p = 0.1 # вероятность продления подписки после пробного периода\n",
    "alpha = 0.05 # заданная вероятность не выполнения плана \n",
    "\n",
    "lmbd = 100 # лямбда, начальное значение\n",
    "\n",
    "n = 1000  # начнем с какого-то значения n\n",
    "while poisson.cdf(k -1, lmbd) > alpha:\n",
    "    n += 1\n",
    "    lmbd = n * p\n",
    "\n",
    "    \n",
    "print('Минимальное количество промокодов:', n)\n",
    "print('Вероятность не выполнить план:', poisson.cdf(k -1, lmbd))"
   ]
  },
  {
   "cell_type": "markdown",
   "id": "0f0f7c53",
   "metadata": {},
   "source": [
    "#### Выводы:\n",
    "1. Для того, чтобы получить 100 подписок с вероятностью не выполнить план примерно на 5%, нужно разослать не менее 1170 промокодов.\n",
    "\n",
    "\n",
    "Решим эту же задачу с использованием нормального распределения и метода cdf()."
   ]
  },
  {
   "cell_type": "markdown",
   "id": "276dc9c9",
   "metadata": {},
   "source": [
    "#### Нормальное распределение"
   ]
  },
  {
   "cell_type": "code",
   "execution_count": 62,
   "id": "b640e23b",
   "metadata": {},
   "outputs": [
    {
     "name": "stdout",
     "output_type": "stream",
     "text": [
      "Минимальное количество промокодов: 1169\n",
      "Вероятность не выполнить план: 0.04971489312694162\n"
     ]
    }
   ],
   "source": [
    "from math import sqrt\n",
    "from scipy import stats as st\n",
    "\n",
    "n = 1000 # число промокодов, зададим начальное значение\n",
    "p = 0.1 # вероятность продления подписки после пробного периода\n",
    "mu = n * p # математическое ожидание нормального распределения\n",
    "sigma = sqrt(n * p * (1 - p)) # стандартное отклонение\n",
    "\n",
    "distr = st.norm(mu, sigma) \n",
    "\n",
    "k = 100 # число подписок, границы интервала, левый хвост от 0 до 100 \n",
    "        #(т.к. распределение непрерывное, то нужно брать от 100, а не от 99)\n",
    "\n",
    "n = 1000  # начнем с какого-то значения n\n",
    "while st.norm(mu, sigma).cdf(k) > alpha:\n",
    "    n += 1\n",
    "    mu = n * p\n",
    "    sigma = sqrt(n * p * (1 - p))\n",
    "\n",
    "    \n",
    "print('Минимальное количество промокодов:', n)\n",
    "print('Вероятность не выполнить план:', st.norm(mu, sigma).cdf(k))"
   ]
  },
  {
   "cell_type": "markdown",
   "id": "8980e22d",
   "metadata": {},
   "source": [
    "#### Выводы:\n",
    "1. Для того, чтобы получить 100 подписок с вероятностью не выполнить план примерно 5%, нужно разослать не менее 1169 промокодов. \n",
    "2. Методы cdf() распределения Пуассона и нормального распределения дают очень близкие результаты (1170 и 1169). Наиболее точным результатом нужно считать метод расчетаа по биномиальному распределению (1161)."
   ]
  },
  {
   "cell_type": "markdown",
   "id": "edd861b7",
   "metadata": {},
   "source": [
    "#### 7.2. Push-уведомления\n",
    "Отдел маркетинга рассылает клиентам push-уведомления в мобильном приложении. Клиенты могут открыть его или не открывать. Известно, что уведомления открывают около 40 % получивших клиентов. Отдел планирует разослать 1 млн уведомлений. С помощью аппроксимации постройте примерный график распределения и оцените вероятность того, что уведомление откроют не более 399,5 тыс. пользователей."
   ]
  },
  {
   "cell_type": "markdown",
   "id": "d37c416c",
   "metadata": {},
   "source": [
    "Эта ситуация тоже описывается биномиальным распределением. Воспользуемся нормальной аппроксимацией биномиального распределения и cdf() для быстрой оценки."
   ]
  },
  {
   "cell_type": "code",
   "execution_count": 63,
   "id": "d4cb82c0",
   "metadata": {},
   "outputs": [
    {
     "data": {
      "image/png": "[encoded data removed]",
      "text/plain": [
       "<Figure size 1300x400 with 1 Axes>"
      ]
     },
     "metadata": {},
     "output_type": "display_data"
    }
   ],
   "source": [
    "# Построим апроксимацию биномиального распределения нормальным \n",
    "from scipy.stats import norm\n",
    "# зададим функцию, которая выдаёт <num> чисел, равномерно распределённых от <start> до <stop>\n",
    "def linspace(start, stop, num):\n",
    "    step = (stop - start) / (num - 1)\n",
    "    result = []\n",
    "    for i in range(num):\n",
    "        result.append(start + step * i)\n",
    "    return result\n",
    " \n",
    "# задаём параметры биномиального распределения\n",
    "n = 1000000\n",
    "p = 0.4\n",
    "\n",
    "# границы промежутка, в котором будем строить аппроксимацию - от n*p минус 4 ст.отклонения бином.распределения\n",
    "# до n*p плюс 4 ст.отклонения бином.распределения # (там, где вероятности значений почти равны нулю)\n",
    "left = int(n * p - 4 * sqrt(n * p * (1 - p)))\n",
    "right = int(n * p + 4 * sqrt(n * p * (1 - p)))\n",
    " \n",
    "fig, ax = plt.subplots(figsize=(13, 4)) \n",
    "\n",
    "# зададим параметры нормального распределения равными мат.ожиданию и дисперсии биномиального распределения\n",
    "mu = n * p\n",
    "sigma = sqrt(n * p * (1 - p))\n",
    " \n",
    "# рисуем график нормального распределения, получим список из 100 чисел от left до right\n",
    "x = linspace(left, right, 100)\n",
    "ax.plot(x, norm.pdf(x, mu, sigma), 'r-', lw=3, alpha=0.7, label='плотность вероятности нормального распределения')\n",
    "ax.axvline(399500, color='r', linestyle='--') \n",
    "# зададим подписи по оси x в пределах ± 3 ст.отклонений от мат.ожидания\n",
    "x_ticks = list(range(int(mu - 3 * sigma), int(mu + 3 * sigma), 500))\n",
    "ax.set_xticks(x_ticks)\n",
    "\n",
    "ax.legend(loc='best')\n",
    "plt.show()"
   ]
  },
  {
   "cell_type": "code",
   "execution_count": 64,
   "id": "35c1f6dd",
   "metadata": {},
   "outputs": [
    {
     "data": {
      "text/plain": [
       "0.15371708296369768"
      ]
     },
     "execution_count": 64,
     "metadata": {},
     "output_type": "execute_result"
    }
   ],
   "source": [
    "# найдём вероятность с помощью cdf() метода нормального распределения \n",
    "\n",
    "n = 1000000 # число push-уведомлений\n",
    "p = 0.4 # вероятность открытия push-уведомления\n",
    "\n",
    "mu = n * p # математическое ожидание нормального распределения\n",
    "sigma = sqrt(n * p * (1 - p)) # стандартное отклонение\n",
    "\n",
    "distr = st.norm(mu, sigma) \n",
    "\n",
    "y = 399500 # заданное число открытий push-уведомлений, границы интервала (левый хвост от 0 до 399,5 тысяч)      \n",
    "\n",
    "result = distr.cdf(y) # считаем вероятность получить значение от 0 до 399,5 тысяч\n",
    "result"
   ]
  },
  {
   "cell_type": "markdown",
   "id": "128c2b1f",
   "metadata": {},
   "source": [
    "#### Выводы:\n",
    "1. Вероятность получить 399 500 открытий push-уведомлений из 1 млн. отправленных push-уведомлений составляет 15,37%."
   ]
  },
  {
   "cell_type": "markdown",
   "id": "41eb4e92",
   "metadata": {},
   "source": [
    "## Выводы\n",
    "\n",
    "В процессе исследования мы выполнили следующее.\n",
    "\n",
    "Загрузили данные и выполнили базовый анализ данных. Данные  полные, пропусков нет. Были удалены явные дубликаты - 31 запись. \n",
    "\n",
    "Провели исследовательский анализ данных:\n",
    "- в датесете содержатся данные об использовании популярного сервиса аренды самокатов GoFast в 8-ми городах. Города представлены относительно равномерно;\n",
    "- количество пользователей с подпиской 699, без подписки - 835;\n",
    "- средний возраст пользователей 24,9 года, распределение близкое к нормальному;\n",
    "- посчитали помесячную выручку сервиса по каждому пользователю.\n",
    "\n",
    "\n",
    "Проверили гипотезы и определили, что:\n",
    "- среднее значение длительности поездок пользователей с подпиской больше, чем без подписки. Эти различия в средних статистически значимы при заданном уровне значимости 5%;\n",
    "- среднее расстояние, которое проезжают пользователи с подпиской за одну поездку, не превышает 3130 метров при заданном уровне значимости 5%;\n",
    "- среднее значение помесячной выручки пользователей с подпиской больше, чем среднее значение помесячной выручки пользователей без подписки. Различия в средних статистически значимы при уровне значимости 5%, а также и для любого меньшего разумного уровня значимости."
   ]
  }
 ],
 "metadata": {
  "ExecuteTimeLog": [
   {
    "duration": 714,
    "start_time": "2023-10-30T15:30:10.372Z"
   },
   {
    "duration": 112,
    "start_time": "2023-10-30T15:30:11.088Z"
   },
   {
    "duration": 208,
    "start_time": "2023-10-30T15:30:11.201Z"
   },
   {
    "duration": 128,
    "start_time": "2023-10-30T15:30:11.411Z"
   },
   {
    "duration": 11,
    "start_time": "2023-10-30T15:30:11.543Z"
   },
   {
    "duration": 57,
    "start_time": "2023-10-30T15:30:11.556Z"
   },
   {
    "duration": 9,
    "start_time": "2023-10-30T15:30:11.615Z"
   },
   {
    "duration": 21,
    "start_time": "2023-10-30T15:30:11.626Z"
   },
   {
    "duration": 15,
    "start_time": "2023-10-30T15:30:11.649Z"
   },
   {
    "duration": 18,
    "start_time": "2023-10-30T15:30:11.666Z"
   },
   {
    "duration": 37,
    "start_time": "2023-10-30T15:30:11.685Z"
   },
   {
    "duration": 22,
    "start_time": "2023-10-30T15:30:11.724Z"
   },
   {
    "duration": 31,
    "start_time": "2023-10-30T15:30:11.747Z"
   },
   {
    "duration": 39,
    "start_time": "2023-10-30T15:30:11.781Z"
   },
   {
    "duration": 14,
    "start_time": "2023-10-30T15:30:11.822Z"
   },
   {
    "duration": 18,
    "start_time": "2023-10-30T15:30:11.838Z"
   },
   {
    "duration": 27,
    "start_time": "2023-10-30T15:30:11.857Z"
   },
   {
    "duration": 17,
    "start_time": "2023-10-30T15:30:11.886Z"
   },
   {
    "duration": 202,
    "start_time": "2023-10-30T15:30:11.905Z"
   },
   {
    "duration": 6,
    "start_time": "2023-10-30T15:30:12.108Z"
   },
   {
    "duration": 305,
    "start_time": "2023-10-30T15:30:12.116Z"
   },
   {
    "duration": 357,
    "start_time": "2023-10-30T15:30:12.422Z"
   },
   {
    "duration": 284,
    "start_time": "2023-10-30T15:30:12.781Z"
   },
   {
    "duration": 37,
    "start_time": "2023-10-30T15:30:13.066Z"
   },
   {
    "duration": 27,
    "start_time": "2023-10-30T15:30:13.105Z"
   },
   {
    "duration": 6,
    "start_time": "2023-10-30T15:30:13.135Z"
   },
   {
    "duration": 238,
    "start_time": "2023-10-30T15:30:13.143Z"
   },
   {
    "duration": 189,
    "start_time": "2023-10-30T15:30:13.382Z"
   },
   {
    "duration": 181,
    "start_time": "2023-10-30T15:30:13.573Z"
   },
   {
    "duration": 25,
    "start_time": "2023-10-30T15:30:13.756Z"
   },
   {
    "duration": 51,
    "start_time": "2023-10-30T15:30:13.783Z"
   },
   {
    "duration": 23,
    "start_time": "2023-10-30T15:30:13.836Z"
   },
   {
    "duration": 47,
    "start_time": "2023-10-30T15:30:13.861Z"
   },
   {
    "duration": 24,
    "start_time": "2023-10-30T15:30:13.909Z"
   },
   {
    "duration": 326,
    "start_time": "2023-10-30T15:30:13.935Z"
   },
   {
    "duration": 422,
    "start_time": "2023-10-30T15:30:14.263Z"
   },
   {
    "duration": 303,
    "start_time": "2023-10-30T15:30:14.688Z"
   },
   {
    "duration": 300,
    "start_time": "2023-10-30T15:30:15.001Z"
   },
   {
    "duration": 16,
    "start_time": "2023-10-30T15:30:15.303Z"
   },
   {
    "duration": 18,
    "start_time": "2023-10-30T15:30:15.320Z"
   },
   {
    "duration": 31,
    "start_time": "2023-10-30T15:30:15.343Z"
   },
   {
    "duration": 5,
    "start_time": "2023-10-30T15:30:15.402Z"
   },
   {
    "duration": 23,
    "start_time": "2023-10-30T15:30:15.409Z"
   },
   {
    "duration": 31,
    "start_time": "2023-10-30T15:30:15.434Z"
   },
   {
    "duration": 38,
    "start_time": "2023-10-30T15:30:15.467Z"
   },
   {
    "duration": 412,
    "start_time": "2023-10-30T15:30:15.506Z"
   },
   {
    "duration": 8,
    "start_time": "2023-10-30T15:30:15.920Z"
   },
   {
    "duration": 36,
    "start_time": "2023-10-30T15:30:15.930Z"
   },
   {
    "duration": 33,
    "start_time": "2023-10-30T15:30:15.968Z"
   },
   {
    "duration": 24,
    "start_time": "2023-10-30T15:30:16.003Z"
   },
   {
    "duration": 40,
    "start_time": "2023-10-30T15:30:16.029Z"
   },
   {
    "duration": 2051,
    "start_time": "2023-10-30T15:30:16.070Z"
   },
   {
    "duration": 1753,
    "start_time": "2023-10-30T15:30:18.123Z"
   },
   {
    "duration": 1786,
    "start_time": "2023-10-30T15:30:19.878Z"
   },
   {
    "duration": 5,
    "start_time": "2023-10-30T15:30:21.666Z"
   },
   {
    "duration": 21,
    "start_time": "2023-10-30T15:30:21.673Z"
   },
   {
    "duration": 282,
    "start_time": "2023-10-30T15:30:21.696Z"
   },
   {
    "duration": 6,
    "start_time": "2023-10-30T15:30:21.979Z"
   },
   {
    "duration": 644,
    "start_time": "2023-10-30T16:55:14.945Z"
   },
   {
    "duration": 118,
    "start_time": "2023-10-30T16:55:15.591Z"
   },
   {
    "duration": 127,
    "start_time": "2023-10-30T16:55:15.712Z"
   },
   {
    "duration": 2127,
    "start_time": "2023-10-30T16:55:15.841Z"
   },
   {
    "duration": 12,
    "start_time": "2023-10-30T16:55:17.971Z"
   },
   {
    "duration": 31,
    "start_time": "2023-10-30T16:55:17.984Z"
   },
   {
    "duration": 14,
    "start_time": "2023-10-30T16:55:18.018Z"
   },
   {
    "duration": 12,
    "start_time": "2023-10-30T16:55:18.034Z"
   },
   {
    "duration": 7,
    "start_time": "2023-10-30T16:55:18.048Z"
   },
   {
    "duration": 5,
    "start_time": "2023-10-30T16:55:18.060Z"
   },
   {
    "duration": 62,
    "start_time": "2023-10-30T16:55:18.066Z"
   },
   {
    "duration": 5,
    "start_time": "2023-10-30T16:55:18.130Z"
   },
   {
    "duration": 11,
    "start_time": "2023-10-30T16:55:18.136Z"
   },
   {
    "duration": 19,
    "start_time": "2023-10-30T16:55:18.150Z"
   },
   {
    "duration": 19,
    "start_time": "2023-10-30T16:55:18.172Z"
   },
   {
    "duration": 12,
    "start_time": "2023-10-30T16:55:18.204Z"
   },
   {
    "duration": 19,
    "start_time": "2023-10-30T16:55:18.219Z"
   },
   {
    "duration": 20,
    "start_time": "2023-10-30T16:55:18.240Z"
   },
   {
    "duration": 220,
    "start_time": "2023-10-30T16:55:18.262Z"
   },
   {
    "duration": 7,
    "start_time": "2023-10-30T16:55:18.483Z"
   },
   {
    "duration": 340,
    "start_time": "2023-10-30T16:55:18.503Z"
   },
   {
    "duration": 403,
    "start_time": "2023-10-30T16:55:18.845Z"
   },
   {
    "duration": 330,
    "start_time": "2023-10-30T16:55:19.250Z"
   },
   {
    "duration": 42,
    "start_time": "2023-10-30T16:55:19.582Z"
   },
   {
    "duration": 26,
    "start_time": "2023-10-30T16:55:19.627Z"
   },
   {
    "duration": 5,
    "start_time": "2023-10-30T16:55:19.655Z"
   },
   {
    "duration": 277,
    "start_time": "2023-10-30T16:55:19.662Z"
   },
   {
    "duration": 191,
    "start_time": "2023-10-30T16:55:19.941Z"
   },
   {
    "duration": 171,
    "start_time": "2023-10-30T16:55:20.133Z"
   },
   {
    "duration": 33,
    "start_time": "2023-10-30T16:55:20.307Z"
   },
   {
    "duration": 63,
    "start_time": "2023-10-30T16:55:20.341Z"
   },
   {
    "duration": 28,
    "start_time": "2023-10-30T16:55:20.407Z"
   },
   {
    "duration": 102,
    "start_time": "2023-10-30T16:55:20.437Z"
   },
   {
    "duration": 0,
    "start_time": "2023-10-30T16:55:20.541Z"
   },
   {
    "duration": 0,
    "start_time": "2023-10-30T16:55:20.542Z"
   },
   {
    "duration": 0,
    "start_time": "2023-10-30T16:55:20.544Z"
   },
   {
    "duration": 0,
    "start_time": "2023-10-30T16:55:20.545Z"
   },
   {
    "duration": 0,
    "start_time": "2023-10-30T16:55:20.546Z"
   },
   {
    "duration": 0,
    "start_time": "2023-10-30T16:55:20.548Z"
   },
   {
    "duration": 0,
    "start_time": "2023-10-30T16:55:20.549Z"
   },
   {
    "duration": 0,
    "start_time": "2023-10-30T16:55:20.551Z"
   },
   {
    "duration": 0,
    "start_time": "2023-10-30T16:55:20.552Z"
   },
   {
    "duration": 0,
    "start_time": "2023-10-30T16:55:20.554Z"
   },
   {
    "duration": 0,
    "start_time": "2023-10-30T16:55:20.555Z"
   },
   {
    "duration": 0,
    "start_time": "2023-10-30T16:55:20.556Z"
   },
   {
    "duration": 0,
    "start_time": "2023-10-30T16:55:20.558Z"
   },
   {
    "duration": 0,
    "start_time": "2023-10-30T16:55:20.559Z"
   },
   {
    "duration": 0,
    "start_time": "2023-10-30T16:55:20.561Z"
   },
   {
    "duration": 0,
    "start_time": "2023-10-30T16:55:20.562Z"
   },
   {
    "duration": 0,
    "start_time": "2023-10-30T16:55:20.601Z"
   },
   {
    "duration": 0,
    "start_time": "2023-10-30T16:55:20.603Z"
   },
   {
    "duration": 0,
    "start_time": "2023-10-30T16:55:20.605Z"
   },
   {
    "duration": 0,
    "start_time": "2023-10-30T16:55:20.608Z"
   },
   {
    "duration": 0,
    "start_time": "2023-10-30T16:55:20.610Z"
   },
   {
    "duration": 0,
    "start_time": "2023-10-30T16:55:20.611Z"
   },
   {
    "duration": 0,
    "start_time": "2023-10-30T16:55:20.613Z"
   },
   {
    "duration": 0,
    "start_time": "2023-10-30T16:55:20.616Z"
   },
   {
    "duration": 0,
    "start_time": "2023-10-30T16:55:20.617Z"
   },
   {
    "duration": 0,
    "start_time": "2023-10-30T16:55:20.618Z"
   },
   {
    "duration": 25,
    "start_time": "2023-10-30T16:55:27.805Z"
   },
   {
    "duration": 22,
    "start_time": "2023-10-30T16:55:30.347Z"
   },
   {
    "duration": 321,
    "start_time": "2023-10-30T16:55:48.948Z"
   },
   {
    "duration": 396,
    "start_time": "2023-10-30T16:55:49.305Z"
   },
   {
    "duration": 284,
    "start_time": "2023-10-30T16:55:52.993Z"
   },
   {
    "duration": 338,
    "start_time": "2023-10-30T16:55:53.303Z"
   },
   {
    "duration": 19,
    "start_time": "2023-10-30T16:56:09.705Z"
   },
   {
    "duration": 17,
    "start_time": "2023-10-30T16:56:10.209Z"
   },
   {
    "duration": 35,
    "start_time": "2023-10-30T16:56:17.906Z"
   },
   {
    "duration": 6,
    "start_time": "2023-10-30T16:56:18.361Z"
   },
   {
    "duration": 18,
    "start_time": "2023-10-30T16:56:19.071Z"
   },
   {
    "duration": 19,
    "start_time": "2023-10-30T16:57:07.803Z"
   },
   {
    "duration": 21,
    "start_time": "2023-10-30T16:57:14.261Z"
   },
   {
    "duration": 14,
    "start_time": "2023-10-30T16:57:18.860Z"
   },
   {
    "duration": 9,
    "start_time": "2023-10-30T16:57:35.385Z"
   },
   {
    "duration": 9,
    "start_time": "2023-10-30T16:57:35.829Z"
   },
   {
    "duration": 499,
    "start_time": "2023-10-30T16:57:37.756Z"
   },
   {
    "duration": 9,
    "start_time": "2023-10-30T16:58:15.938Z"
   },
   {
    "duration": 13,
    "start_time": "2023-10-30T16:58:20.508Z"
   },
   {
    "duration": 8,
    "start_time": "2023-10-30T16:59:26.695Z"
   },
   {
    "duration": 8,
    "start_time": "2023-10-30T16:59:52.329Z"
   },
   {
    "duration": 5,
    "start_time": "2023-10-30T16:59:59.480Z"
   },
   {
    "duration": 11,
    "start_time": "2023-10-30T17:00:39.313Z"
   },
   {
    "duration": 7,
    "start_time": "2023-10-30T17:00:40.104Z"
   },
   {
    "duration": 9,
    "start_time": "2023-10-30T17:00:50.068Z"
   },
   {
    "duration": 10,
    "start_time": "2023-10-30T17:00:50.488Z"
   },
   {
    "duration": 9,
    "start_time": "2023-10-30T17:00:51.997Z"
   },
   {
    "duration": 2186,
    "start_time": "2023-10-30T17:01:15.362Z"
   },
   {
    "duration": 1861,
    "start_time": "2023-10-30T17:01:17.550Z"
   },
   {
    "duration": 1963,
    "start_time": "2023-10-30T17:03:23.739Z"
   },
   {
    "duration": 6,
    "start_time": "2023-10-30T17:03:25.707Z"
   },
   {
    "duration": 8,
    "start_time": "2023-10-30T17:03:28.834Z"
   },
   {
    "duration": 324,
    "start_time": "2023-10-30T17:03:31.091Z"
   },
   {
    "duration": 7,
    "start_time": "2023-10-30T17:03:33.451Z"
   },
   {
    "duration": 48,
    "start_time": "2023-10-31T20:25:54.141Z"
   },
   {
    "duration": 706,
    "start_time": "2023-10-31T20:25:58.975Z"
   },
   {
    "duration": 631,
    "start_time": "2023-10-31T20:25:59.683Z"
   },
   {
    "duration": 185,
    "start_time": "2023-10-31T20:26:00.315Z"
   },
   {
    "duration": 132,
    "start_time": "2023-10-31T20:26:00.502Z"
   },
   {
    "duration": 16,
    "start_time": "2023-10-31T20:26:00.637Z"
   },
   {
    "duration": 91,
    "start_time": "2023-10-31T20:26:00.655Z"
   },
   {
    "duration": 69,
    "start_time": "2023-10-31T20:26:00.748Z"
   },
   {
    "duration": 92,
    "start_time": "2023-10-31T20:26:00.819Z"
   },
   {
    "duration": 59,
    "start_time": "2023-10-31T20:26:00.913Z"
   },
   {
    "duration": 41,
    "start_time": "2023-10-31T20:26:00.975Z"
   },
   {
    "duration": 76,
    "start_time": "2023-10-31T20:26:01.018Z"
   },
   {
    "duration": 44,
    "start_time": "2023-10-31T20:26:01.096Z"
   },
   {
    "duration": 53,
    "start_time": "2023-10-31T20:26:01.145Z"
   },
   {
    "duration": 98,
    "start_time": "2023-10-31T20:26:01.200Z"
   },
   {
    "duration": 52,
    "start_time": "2023-10-31T20:26:01.300Z"
   },
   {
    "duration": 52,
    "start_time": "2023-10-31T20:26:01.354Z"
   },
   {
    "duration": 59,
    "start_time": "2023-10-31T20:26:01.408Z"
   },
   {
    "duration": 48,
    "start_time": "2023-10-31T20:26:01.469Z"
   },
   {
    "duration": 289,
    "start_time": "2023-10-31T20:26:01.519Z"
   },
   {
    "duration": 7,
    "start_time": "2023-10-31T20:26:01.810Z"
   },
   {
    "duration": 34,
    "start_time": "2023-10-31T20:26:01.827Z"
   },
   {
    "duration": 123,
    "start_time": "2023-10-31T20:26:01.862Z"
   },
   {
    "duration": 371,
    "start_time": "2023-10-31T20:26:01.987Z"
   },
   {
    "duration": 8,
    "start_time": "2023-10-31T20:26:02.359Z"
   },
   {
    "duration": 337,
    "start_time": "2023-10-31T20:26:02.369Z"
   },
   {
    "duration": 344,
    "start_time": "2023-10-31T20:26:02.708Z"
   },
   {
    "duration": 25,
    "start_time": "2023-10-31T20:26:03.054Z"
   },
   {
    "duration": 28,
    "start_time": "2023-10-31T20:26:03.083Z"
   },
   {
    "duration": 43,
    "start_time": "2023-10-31T20:26:03.112Z"
   },
   {
    "duration": 286,
    "start_time": "2023-10-31T20:26:03.157Z"
   },
   {
    "duration": 204,
    "start_time": "2023-10-31T20:26:03.445Z"
   },
   {
    "duration": 165,
    "start_time": "2023-10-31T20:26:03.652Z"
   },
   {
    "duration": 30,
    "start_time": "2023-10-31T20:26:03.819Z"
   },
   {
    "duration": 52,
    "start_time": "2023-10-31T20:26:03.852Z"
   },
   {
    "duration": 42,
    "start_time": "2023-10-31T20:26:03.906Z"
   },
   {
    "duration": 40,
    "start_time": "2023-10-31T20:26:03.950Z"
   },
   {
    "duration": 403,
    "start_time": "2023-10-31T20:26:03.991Z"
   },
   {
    "duration": 299,
    "start_time": "2023-10-31T20:26:04.396Z"
   },
   {
    "duration": 309,
    "start_time": "2023-10-31T20:26:04.697Z"
   },
   {
    "duration": 312,
    "start_time": "2023-10-31T20:26:05.008Z"
   },
   {
    "duration": 545,
    "start_time": "2023-10-31T20:26:05.322Z"
   },
   {
    "duration": 16,
    "start_time": "2023-10-31T20:26:05.869Z"
   },
   {
    "duration": 60,
    "start_time": "2023-10-31T20:26:05.887Z"
   },
   {
    "duration": 82,
    "start_time": "2023-10-31T20:26:05.949Z"
   },
   {
    "duration": 28,
    "start_time": "2023-10-31T20:26:06.033Z"
   },
   {
    "duration": 43,
    "start_time": "2023-10-31T20:26:06.063Z"
   },
   {
    "duration": 25,
    "start_time": "2023-10-31T20:26:06.107Z"
   },
   {
    "duration": 21,
    "start_time": "2023-10-31T20:26:06.134Z"
   },
   {
    "duration": 463,
    "start_time": "2023-10-31T20:26:06.156Z"
   },
   {
    "duration": 15,
    "start_time": "2023-10-31T20:26:06.621Z"
   },
   {
    "duration": 7,
    "start_time": "2023-10-31T20:26:06.647Z"
   },
   {
    "duration": 12,
    "start_time": "2023-10-31T20:26:06.656Z"
   },
   {
    "duration": 15,
    "start_time": "2023-10-31T20:26:06.670Z"
   },
   {
    "duration": 25,
    "start_time": "2023-10-31T20:26:06.687Z"
   },
   {
    "duration": 5,
    "start_time": "2023-10-31T20:26:06.714Z"
   },
   {
    "duration": 1973,
    "start_time": "2023-10-31T20:26:06.720Z"
   },
   {
    "duration": 1756,
    "start_time": "2023-10-31T20:26:08.695Z"
   },
   {
    "duration": 25,
    "start_time": "2023-10-31T20:26:10.454Z"
   },
   {
    "duration": 1897,
    "start_time": "2023-10-31T20:26:10.481Z"
   },
   {
    "duration": 28,
    "start_time": "2023-10-31T20:26:12.380Z"
   },
   {
    "duration": 276,
    "start_time": "2023-10-31T20:26:12.424Z"
   },
   {
    "duration": 316,
    "start_time": "2023-10-31T20:26:12.702Z"
   },
   {
    "duration": 9,
    "start_time": "2023-10-31T20:26:13.020Z"
   }
  ],
  "kernelspec": {
   "display_name": "Python 3 (ipykernel)",
   "language": "python",
   "name": "python3"
  },
  "language_info": {
   "codemirror_mode": {
    "name": "ipython",
    "version": 3
   },
   "file_extension": ".py",
   "mimetype": "text/x-python",
   "name": "python",
   "nbconvert_exporter": "python",
   "pygments_lexer": "ipython3",
   "version": "3.10.9"
  },
  "toc": {
   "base_numbering": 1,
   "nav_menu": {},
   "number_sections": true,
   "sideBar": true,
   "skip_h1_title": true,
   "title_cell": "Table of Contents",
   "title_sidebar": "Contents",
   "toc_cell": false,
   "toc_position": {},
   "toc_section_display": true,
   "toc_window_display": false
  }
 },
 "nbformat": 4,
 "nbformat_minor": 5
}
