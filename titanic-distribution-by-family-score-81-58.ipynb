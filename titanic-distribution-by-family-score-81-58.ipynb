{
 "cells": [
  {
   "cell_type": "code",
   "execution_count": 1,
   "id": "5112edcd",
   "metadata": {
    "_cell_guid": "b1076dfc-b9ad-4769-8c92-a6c4dae69d19",
    "_uuid": "8f2839f25d086af736a60e9eeb907d3b93b6e0e5",
    "execution": {
     "iopub.execute_input": "2024-07-09T18:12:40.243311Z",
     "iopub.status.busy": "2024-07-09T18:12:40.242930Z",
     "iopub.status.idle": "2024-07-09T18:12:43.104110Z",
     "shell.execute_reply": "2024-07-09T18:12:43.103106Z"
    },
    "papermill": {
     "duration": 2.876729,
     "end_time": "2024-07-09T18:12:43.106692",
     "exception": false,
     "start_time": "2024-07-09T18:12:40.229963",
     "status": "completed"
    },
    "tags": []
   },
   "outputs": [],
   "source": [
    "import pandas as pd\n",
    "import matplotlib.pyplot as plt\n",
    "import numpy as np\n",
    "import seaborn as sns\n",
    "from sklearn.model_selection import train_test_split\n",
    "from sklearn.ensemble import RandomForestClassifier\n",
    "from sklearn.metrics import accuracy_score, precision_score, recall_score, f1_score, roc_auc_score\n",
    "\n",
    "import warnings\n",
    "warnings.filterwarnings(\"ignore\")"
   ]
  },
  {
   "cell_type": "code",
   "execution_count": 2,
   "id": "b1e8623e",
   "metadata": {
    "execution": {
     "iopub.execute_input": "2024-07-09T18:12:43.130852Z",
     "iopub.status.busy": "2024-07-09T18:12:43.129566Z",
     "iopub.status.idle": "2024-07-09T18:12:43.160362Z",
     "shell.execute_reply": "2024-07-09T18:12:43.159433Z"
    },
    "papermill": {
     "duration": 0.045336,
     "end_time": "2024-07-09T18:12:43.162992",
     "exception": false,
     "start_time": "2024-07-09T18:12:43.117656",
     "status": "completed"
    },
    "tags": []
   },
   "outputs": [],
   "source": [
    "train_data = pd.read_csv(\"/kaggle/input/titanic/train.csv\")\n",
    "test_data = pd.read_csv(\"/kaggle/input/titanic/test.csv\")"
   ]
  },
  {
   "cell_type": "code",
   "execution_count": 3,
   "id": "64a79bc2",
   "metadata": {
    "execution": {
     "iopub.execute_input": "2024-07-09T18:12:43.187307Z",
     "iopub.status.busy": "2024-07-09T18:12:43.186944Z",
     "iopub.status.idle": "2024-07-09T18:12:43.219461Z",
     "shell.execute_reply": "2024-07-09T18:12:43.218311Z"
    },
    "papermill": {
     "duration": 0.04719,
     "end_time": "2024-07-09T18:12:43.222017",
     "exception": false,
     "start_time": "2024-07-09T18:12:43.174827",
     "status": "completed"
    },
    "tags": []
   },
   "outputs": [
    {
     "name": "stdout",
     "output_type": "stream",
     "text": [
      "<class 'pandas.core.frame.DataFrame'>\n",
      "RangeIndex: 891 entries, 0 to 890\n",
      "Data columns (total 12 columns):\n",
      " #   Column       Non-Null Count  Dtype  \n",
      "---  ------       --------------  -----  \n",
      " 0   PassengerId  891 non-null    int64  \n",
      " 1   Survived     891 non-null    int64  \n",
      " 2   Pclass       891 non-null    int64  \n",
      " 3   Name         891 non-null    object \n",
      " 4   Sex          891 non-null    object \n",
      " 5   Age          714 non-null    float64\n",
      " 6   SibSp        891 non-null    int64  \n",
      " 7   Parch        891 non-null    int64  \n",
      " 8   Ticket       891 non-null    object \n",
      " 9   Fare         891 non-null    float64\n",
      " 10  Cabin        204 non-null    object \n",
      " 11  Embarked     889 non-null    object \n",
      "dtypes: float64(2), int64(5), object(5)\n",
      "memory usage: 83.7+ KB\n"
     ]
    }
   ],
   "source": [
    "train_data.info()"
   ]
  },
  {
   "cell_type": "code",
   "execution_count": 4,
   "id": "420061c0",
   "metadata": {
    "execution": {
     "iopub.execute_input": "2024-07-09T18:12:43.245153Z",
     "iopub.status.busy": "2024-07-09T18:12:43.244790Z",
     "iopub.status.idle": "2024-07-09T18:12:43.255908Z",
     "shell.execute_reply": "2024-07-09T18:12:43.254844Z"
    },
    "papermill": {
     "duration": 0.025738,
     "end_time": "2024-07-09T18:12:43.258683",
     "exception": false,
     "start_time": "2024-07-09T18:12:43.232945",
     "status": "completed"
    },
    "tags": []
   },
   "outputs": [
    {
     "name": "stdout",
     "output_type": "stream",
     "text": [
      "<class 'pandas.core.frame.DataFrame'>\n",
      "RangeIndex: 418 entries, 0 to 417\n",
      "Data columns (total 11 columns):\n",
      " #   Column       Non-Null Count  Dtype  \n",
      "---  ------       --------------  -----  \n",
      " 0   PassengerId  418 non-null    int64  \n",
      " 1   Pclass       418 non-null    int64  \n",
      " 2   Name         418 non-null    object \n",
      " 3   Sex          418 non-null    object \n",
      " 4   Age          332 non-null    float64\n",
      " 5   SibSp        418 non-null    int64  \n",
      " 6   Parch        418 non-null    int64  \n",
      " 7   Ticket       418 non-null    object \n",
      " 8   Fare         417 non-null    float64\n",
      " 9   Cabin        91 non-null     object \n",
      " 10  Embarked     418 non-null    object \n",
      "dtypes: float64(2), int64(4), object(5)\n",
      "memory usage: 36.0+ KB\n"
     ]
    }
   ],
   "source": [
    "test_data.info()"
   ]
  },
  {
   "cell_type": "markdown",
   "id": "a6e0037c",
   "metadata": {
    "papermill": {
     "duration": 0.010643,
     "end_time": "2024-07-09T18:12:43.281151",
     "exception": false,
     "start_time": "2024-07-09T18:12:43.270508",
     "status": "completed"
    },
    "tags": []
   },
   "source": [
    "Let's combine data for preprocessing"
   ]
  },
  {
   "cell_type": "code",
   "execution_count": 5,
   "id": "5bfbb186",
   "metadata": {
    "execution": {
     "iopub.execute_input": "2024-07-09T18:12:43.305158Z",
     "iopub.status.busy": "2024-07-09T18:12:43.304322Z",
     "iopub.status.idle": "2024-07-09T18:12:43.319952Z",
     "shell.execute_reply": "2024-07-09T18:12:43.318666Z"
    },
    "papermill": {
     "duration": 0.030137,
     "end_time": "2024-07-09T18:12:43.322301",
     "exception": false,
     "start_time": "2024-07-09T18:12:43.292164",
     "status": "completed"
    },
    "tags": []
   },
   "outputs": [
    {
     "name": "stdout",
     "output_type": "stream",
     "text": [
      "<class 'pandas.core.frame.DataFrame'>\n",
      "RangeIndex: 1309 entries, 0 to 1308\n",
      "Data columns (total 12 columns):\n",
      " #   Column       Non-Null Count  Dtype  \n",
      "---  ------       --------------  -----  \n",
      " 0   PassengerId  1309 non-null   int64  \n",
      " 1   Survived     891 non-null    float64\n",
      " 2   Pclass       1309 non-null   int64  \n",
      " 3   Name         1309 non-null   object \n",
      " 4   Sex          1309 non-null   object \n",
      " 5   Age          1046 non-null   float64\n",
      " 6   SibSp        1309 non-null   int64  \n",
      " 7   Parch        1309 non-null   int64  \n",
      " 8   Ticket       1309 non-null   object \n",
      " 9   Fare         1308 non-null   float64\n",
      " 10  Cabin        295 non-null    object \n",
      " 11  Embarked     1307 non-null   object \n",
      "dtypes: float64(3), int64(4), object(5)\n",
      "memory usage: 122.8+ KB\n"
     ]
    }
   ],
   "source": [
    "data = pd.concat([train_data, test_data], ignore_index=True)\n",
    "\n",
    "data.info()"
   ]
  },
  {
   "cell_type": "code",
   "execution_count": 6,
   "id": "281c4ce2",
   "metadata": {
    "execution": {
     "iopub.execute_input": "2024-07-09T18:12:43.346105Z",
     "iopub.status.busy": "2024-07-09T18:12:43.345725Z",
     "iopub.status.idle": "2024-07-09T18:12:43.354136Z",
     "shell.execute_reply": "2024-07-09T18:12:43.353064Z"
    },
    "papermill": {
     "duration": 0.023192,
     "end_time": "2024-07-09T18:12:43.356655",
     "exception": false,
     "start_time": "2024-07-09T18:12:43.333463",
     "status": "completed"
    },
    "tags": []
   },
   "outputs": [],
   "source": [
    "data.loc[data['Sex'] == 'female', 'Sex'] = 0\n",
    "data.loc[data['Sex'] == 'male', 'Sex'] = 1\n",
    "data['Sex'] = data['Sex'].astype(int)"
   ]
  },
  {
   "cell_type": "markdown",
   "id": "37b8e49a",
   "metadata": {
    "papermill": {
     "duration": 0.010616,
     "end_time": "2024-07-09T18:12:43.378303",
     "exception": false,
     "start_time": "2024-07-09T18:12:43.367687",
     "status": "completed"
    },
    "tags": []
   },
   "source": [
    "Let's do some additional work with the data:\n",
    "\n",
    "let's highlight the column \"address to the passenger\", through the appeal we can find boys whose survival rate is higher than adult men. This is important when the passenger's age is missing.\n",
    "let's highlight the last name to form families and somehow use it for forecasting."
   ]
  },
  {
   "cell_type": "markdown",
   "id": "6f175ac5",
   "metadata": {
    "papermill": {
     "duration": 0.010746,
     "end_time": "2024-07-09T18:12:43.400048",
     "exception": false,
     "start_time": "2024-07-09T18:12:43.389302",
     "status": "completed"
    },
    "tags": []
   },
   "source": [
    "Function for extracting a title from a name.\n",
    "\n",
    "Apply the function to the \"Name\" column and create a new \"Title\" column."
   ]
  },
  {
   "cell_type": "code",
   "execution_count": 7,
   "id": "ae20b7bd",
   "metadata": {
    "execution": {
     "iopub.execute_input": "2024-07-09T18:12:43.424186Z",
     "iopub.status.busy": "2024-07-09T18:12:43.423791Z",
     "iopub.status.idle": "2024-07-09T18:12:43.431933Z",
     "shell.execute_reply": "2024-07-09T18:12:43.430695Z"
    },
    "papermill": {
     "duration": 0.023179,
     "end_time": "2024-07-09T18:12:43.434182",
     "exception": false,
     "start_time": "2024-07-09T18:12:43.411003",
     "status": "completed"
    },
    "tags": []
   },
   "outputs": [],
   "source": [
    "def extract_title(name):\n",
    "    return name.split(',')[1].split('.')[0].strip()\n",
    "\n",
    "data['Title'] = data['Name'].apply(extract_title)"
   ]
  },
  {
   "cell_type": "code",
   "execution_count": 8,
   "id": "84a82f9b",
   "metadata": {
    "execution": {
     "iopub.execute_input": "2024-07-09T18:12:43.457794Z",
     "iopub.status.busy": "2024-07-09T18:12:43.457376Z",
     "iopub.status.idle": "2024-07-09T18:12:43.481500Z",
     "shell.execute_reply": "2024-07-09T18:12:43.480515Z"
    },
    "papermill": {
     "duration": 0.038665,
     "end_time": "2024-07-09T18:12:43.483820",
     "exception": false,
     "start_time": "2024-07-09T18:12:43.445155",
     "status": "completed"
    },
    "tags": []
   },
   "outputs": [
    {
     "data": {
      "text/html": [
       "<div>\n",
       "<style scoped>\n",
       "    .dataframe tbody tr th:only-of-type {\n",
       "        vertical-align: middle;\n",
       "    }\n",
       "\n",
       "    .dataframe tbody tr th {\n",
       "        vertical-align: top;\n",
       "    }\n",
       "\n",
       "    .dataframe thead th {\n",
       "        text-align: right;\n",
       "    }\n",
       "</style>\n",
       "<table border=\"1\" class=\"dataframe\">\n",
       "  <thead>\n",
       "    <tr style=\"text-align: right;\">\n",
       "      <th></th>\n",
       "      <th>Survived</th>\n",
       "      <th>Count</th>\n",
       "    </tr>\n",
       "    <tr>\n",
       "      <th>Title</th>\n",
       "      <th></th>\n",
       "      <th></th>\n",
       "    </tr>\n",
       "  </thead>\n",
       "  <tbody>\n",
       "    <tr>\n",
       "      <th>Mr</th>\n",
       "      <td>0.156673</td>\n",
       "      <td>757</td>\n",
       "    </tr>\n",
       "    <tr>\n",
       "      <th>Miss</th>\n",
       "      <td>0.697802</td>\n",
       "      <td>260</td>\n",
       "    </tr>\n",
       "    <tr>\n",
       "      <th>Mrs</th>\n",
       "      <td>0.792000</td>\n",
       "      <td>197</td>\n",
       "    </tr>\n",
       "    <tr>\n",
       "      <th>Master</th>\n",
       "      <td>0.575000</td>\n",
       "      <td>61</td>\n",
       "    </tr>\n",
       "    <tr>\n",
       "      <th>Rev</th>\n",
       "      <td>0.000000</td>\n",
       "      <td>8</td>\n",
       "    </tr>\n",
       "    <tr>\n",
       "      <th>Dr</th>\n",
       "      <td>0.428571</td>\n",
       "      <td>8</td>\n",
       "    </tr>\n",
       "    <tr>\n",
       "      <th>Col</th>\n",
       "      <td>0.500000</td>\n",
       "      <td>4</td>\n",
       "    </tr>\n",
       "    <tr>\n",
       "      <th>Ms</th>\n",
       "      <td>1.000000</td>\n",
       "      <td>2</td>\n",
       "    </tr>\n",
       "    <tr>\n",
       "      <th>Major</th>\n",
       "      <td>0.500000</td>\n",
       "      <td>2</td>\n",
       "    </tr>\n",
       "    <tr>\n",
       "      <th>Mlle</th>\n",
       "      <td>1.000000</td>\n",
       "      <td>2</td>\n",
       "    </tr>\n",
       "    <tr>\n",
       "      <th>Sir</th>\n",
       "      <td>1.000000</td>\n",
       "      <td>1</td>\n",
       "    </tr>\n",
       "    <tr>\n",
       "      <th>Capt</th>\n",
       "      <td>0.000000</td>\n",
       "      <td>1</td>\n",
       "    </tr>\n",
       "    <tr>\n",
       "      <th>Mme</th>\n",
       "      <td>1.000000</td>\n",
       "      <td>1</td>\n",
       "    </tr>\n",
       "    <tr>\n",
       "      <th>Lady</th>\n",
       "      <td>1.000000</td>\n",
       "      <td>1</td>\n",
       "    </tr>\n",
       "    <tr>\n",
       "      <th>Jonkheer</th>\n",
       "      <td>0.000000</td>\n",
       "      <td>1</td>\n",
       "    </tr>\n",
       "    <tr>\n",
       "      <th>Dona</th>\n",
       "      <td>NaN</td>\n",
       "      <td>1</td>\n",
       "    </tr>\n",
       "    <tr>\n",
       "      <th>Don</th>\n",
       "      <td>0.000000</td>\n",
       "      <td>1</td>\n",
       "    </tr>\n",
       "    <tr>\n",
       "      <th>the Countess</th>\n",
       "      <td>1.000000</td>\n",
       "      <td>1</td>\n",
       "    </tr>\n",
       "  </tbody>\n",
       "</table>\n",
       "</div>"
      ],
      "text/plain": [
       "              Survived  Count\n",
       "Title                        \n",
       "Mr            0.156673    757\n",
       "Miss          0.697802    260\n",
       "Mrs           0.792000    197\n",
       "Master        0.575000     61\n",
       "Rev           0.000000      8\n",
       "Dr            0.428571      8\n",
       "Col           0.500000      4\n",
       "Ms            1.000000      2\n",
       "Major         0.500000      2\n",
       "Mlle          1.000000      2\n",
       "Sir           1.000000      1\n",
       "Capt          0.000000      1\n",
       "Mme           1.000000      1\n",
       "Lady          1.000000      1\n",
       "Jonkheer      0.000000      1\n",
       "Dona               NaN      1\n",
       "Don           0.000000      1\n",
       "the Countess  1.000000      1"
      ]
     },
     "execution_count": 8,
     "metadata": {},
     "output_type": "execute_result"
    }
   ],
   "source": [
    "(\n",
    "    data.groupby('Title')\n",
    "    .agg({'Survived': 'mean', 'PassengerId': 'count'})\n",
    "    .sort_values(by= 'PassengerId', ascending= False)\n",
    "    .rename(columns={'PassengerId': 'Count'})\n",
    ")"
   ]
  },
  {
   "cell_type": "markdown",
   "id": "d1770f58",
   "metadata": {
    "papermill": {
     "duration": 0.010857,
     "end_time": "2024-07-09T18:12:43.506565",
     "exception": false,
     "start_time": "2024-07-09T18:12:43.495708",
     "status": "completed"
    },
    "tags": []
   },
   "source": [
    "We see that treatment (Title) significantly affects survival."
   ]
  },
  {
   "cell_type": "code",
   "execution_count": 9,
   "id": "a06e5c8e",
   "metadata": {
    "execution": {
     "iopub.execute_input": "2024-07-09T18:12:43.530765Z",
     "iopub.status.busy": "2024-07-09T18:12:43.530356Z",
     "iopub.status.idle": "2024-07-09T18:12:43.539322Z",
     "shell.execute_reply": "2024-07-09T18:12:43.538293Z"
    },
    "papermill": {
     "duration": 0.023568,
     "end_time": "2024-07-09T18:12:43.541522",
     "exception": false,
     "start_time": "2024-07-09T18:12:43.517954",
     "status": "completed"
    },
    "tags": []
   },
   "outputs": [],
   "source": [
    "Mrs = ['Mlle', 'Mme', 'Ms', 'Lady', 'the Countess', 'Dona']\n",
    "\n",
    "Aristocrat = ['Dr', 'Don', 'Major', 'Sir', 'Col', 'Capt', 'Jonkheer']\n",
    "\n",
    "data.loc[data['Title'].isin(Mrs), 'Title'] = 'Mrs'\n",
    "\n",
    "data.loc[data['Title'].isin(Aristocrat), 'Title'] = 'Aristocrat'"
   ]
  },
  {
   "cell_type": "code",
   "execution_count": 10,
   "id": "e1a4a86d",
   "metadata": {
    "execution": {
     "iopub.execute_input": "2024-07-09T18:12:43.565886Z",
     "iopub.status.busy": "2024-07-09T18:12:43.565492Z",
     "iopub.status.idle": "2024-07-09T18:12:43.574331Z",
     "shell.execute_reply": "2024-07-09T18:12:43.573326Z"
    },
    "papermill": {
     "duration": 0.023859,
     "end_time": "2024-07-09T18:12:43.576667",
     "exception": false,
     "start_time": "2024-07-09T18:12:43.552808",
     "status": "completed"
    },
    "tags": []
   },
   "outputs": [
    {
     "data": {
      "text/plain": [
       "Title\n",
       "Mr            757\n",
       "Miss          260\n",
       "Mrs           205\n",
       "Master         61\n",
       "Aristocrat     18\n",
       "Rev             8\n",
       "Name: count, dtype: int64"
      ]
     },
     "execution_count": 10,
     "metadata": {},
     "output_type": "execute_result"
    }
   ],
   "source": [
    "data['Title'].value_counts()"
   ]
  },
  {
   "cell_type": "markdown",
   "id": "61664637",
   "metadata": {
    "papermill": {
     "duration": 0.010864,
     "end_time": "2024-07-09T18:12:43.598967",
     "exception": false,
     "start_time": "2024-07-09T18:12:43.588103",
     "status": "completed"
    },
    "tags": []
   },
   "source": [
    "Let's look at the missing data and fill in Cabin and Fare."
   ]
  },
  {
   "cell_type": "code",
   "execution_count": 11,
   "id": "04f29013",
   "metadata": {
    "execution": {
     "iopub.execute_input": "2024-07-09T18:12:43.623296Z",
     "iopub.status.busy": "2024-07-09T18:12:43.622888Z",
     "iopub.status.idle": "2024-07-09T18:12:43.633004Z",
     "shell.execute_reply": "2024-07-09T18:12:43.631966Z"
    },
    "papermill": {
     "duration": 0.02516,
     "end_time": "2024-07-09T18:12:43.635363",
     "exception": false,
     "start_time": "2024-07-09T18:12:43.610203",
     "status": "completed"
    },
    "tags": []
   },
   "outputs": [
    {
     "data": {
      "text/plain": [
       "PassengerId       0\n",
       "Survived        418\n",
       "Pclass            0\n",
       "Name              0\n",
       "Sex               0\n",
       "Age             263\n",
       "SibSp             0\n",
       "Parch             0\n",
       "Ticket            0\n",
       "Fare              1\n",
       "Cabin          1014\n",
       "Embarked          2\n",
       "Title             0\n",
       "dtype: int64"
      ]
     },
     "execution_count": 11,
     "metadata": {},
     "output_type": "execute_result"
    }
   ],
   "source": [
    "data.isna().sum()"
   ]
  },
  {
   "cell_type": "code",
   "execution_count": 12,
   "id": "3354c2c5",
   "metadata": {
    "execution": {
     "iopub.execute_input": "2024-07-09T18:12:43.660551Z",
     "iopub.status.busy": "2024-07-09T18:12:43.660144Z",
     "iopub.status.idle": "2024-07-09T18:12:43.668800Z",
     "shell.execute_reply": "2024-07-09T18:12:43.667694Z"
    },
    "papermill": {
     "duration": 0.02393,
     "end_time": "2024-07-09T18:12:43.671051",
     "exception": false,
     "start_time": "2024-07-09T18:12:43.647121",
     "status": "completed"
    },
    "tags": []
   },
   "outputs": [
    {
     "data": {
      "text/plain": [
       "1043    3\n",
       "Name: Pclass, dtype: int64"
      ]
     },
     "execution_count": 12,
     "metadata": {},
     "output_type": "execute_result"
    }
   ],
   "source": [
    "data.loc[data['Fare'].isnull(), 'Pclass']"
   ]
  },
  {
   "cell_type": "code",
   "execution_count": 13,
   "id": "befd9b14",
   "metadata": {
    "execution": {
     "iopub.execute_input": "2024-07-09T18:12:43.696208Z",
     "iopub.status.busy": "2024-07-09T18:12:43.695325Z",
     "iopub.status.idle": "2024-07-09T18:12:43.706578Z",
     "shell.execute_reply": "2024-07-09T18:12:43.705707Z"
    },
    "papermill": {
     "duration": 0.026314,
     "end_time": "2024-07-09T18:12:43.708954",
     "exception": false,
     "start_time": "2024-07-09T18:12:43.682640",
     "status": "completed"
    },
    "tags": []
   },
   "outputs": [],
   "source": [
    "data.loc[(data['Fare'].isnull()), 'Fare'] = data[data['Pclass'] == 3]['Fare'].mean()"
   ]
  },
  {
   "cell_type": "markdown",
   "id": "a81edaa6",
   "metadata": {
    "papermill": {
     "duration": 0.01126,
     "end_time": "2024-07-09T18:12:43.731794",
     "exception": false,
     "start_time": "2024-07-09T18:12:43.720534",
     "status": "completed"
    },
    "tags": []
   },
   "source": [
    "The presence or absence of information about the passenger cabin is an important sign affecting survivability."
   ]
  },
  {
   "cell_type": "code",
   "execution_count": 14,
   "id": "f0722730",
   "metadata": {
    "execution": {
     "iopub.execute_input": "2024-07-09T18:12:43.756973Z",
     "iopub.status.busy": "2024-07-09T18:12:43.756050Z",
     "iopub.status.idle": "2024-07-09T18:12:43.768065Z",
     "shell.execute_reply": "2024-07-09T18:12:43.767069Z"
    },
    "papermill": {
     "duration": 0.027115,
     "end_time": "2024-07-09T18:12:43.770421",
     "exception": false,
     "start_time": "2024-07-09T18:12:43.743306",
     "status": "completed"
    },
    "tags": []
   },
   "outputs": [
    {
     "data": {
      "text/plain": [
       "Sex     Pclass\n",
       "female  1         0.962963\n",
       "        2         0.900000\n",
       "        3         0.666667\n",
       "male    1         0.410526\n",
       "        2         0.666667\n",
       "        3         0.333333\n",
       "Name: Survived, dtype: float64"
      ]
     },
     "execution_count": 14,
     "metadata": {},
     "output_type": "execute_result"
    }
   ],
   "source": [
    "train_data[train_data['Cabin'].notnull()].groupby(['Sex', 'Pclass'])['Survived'].mean()"
   ]
  },
  {
   "cell_type": "code",
   "execution_count": 15,
   "id": "1daf574e",
   "metadata": {
    "execution": {
     "iopub.execute_input": "2024-07-09T18:12:43.795536Z",
     "iopub.status.busy": "2024-07-09T18:12:43.795147Z",
     "iopub.status.idle": "2024-07-09T18:12:43.807548Z",
     "shell.execute_reply": "2024-07-09T18:12:43.806549Z"
    },
    "papermill": {
     "duration": 0.027708,
     "end_time": "2024-07-09T18:12:43.809878",
     "exception": false,
     "start_time": "2024-07-09T18:12:43.782170",
     "status": "completed"
    },
    "tags": []
   },
   "outputs": [
    {
     "data": {
      "text/plain": [
       "Sex     Pclass\n",
       "female  1         1.000000\n",
       "        2         0.924242\n",
       "        3         0.492754\n",
       "male    1         0.222222\n",
       "        2         0.127451\n",
       "        3         0.131965\n",
       "Name: Survived, dtype: float64"
      ]
     },
     "execution_count": 15,
     "metadata": {},
     "output_type": "execute_result"
    }
   ],
   "source": [
    "train_data[train_data['Cabin'].isnull()].groupby(['Sex', 'Pclass'])['Survived'].mean()"
   ]
  },
  {
   "cell_type": "markdown",
   "id": "0789f0f3",
   "metadata": {
    "papermill": {
     "duration": 0.011531,
     "end_time": "2024-07-09T18:12:43.833245",
     "exception": false,
     "start_time": "2024-07-09T18:12:43.821714",
     "status": "completed"
    },
    "tags": []
   },
   "source": [
    "Let's create a column with the presence or absence of information about the passenger cabin."
   ]
  },
  {
   "cell_type": "code",
   "execution_count": 16,
   "id": "5674c7aa",
   "metadata": {
    "execution": {
     "iopub.execute_input": "2024-07-09T18:12:43.919002Z",
     "iopub.status.busy": "2024-07-09T18:12:43.918212Z",
     "iopub.status.idle": "2024-07-09T18:12:43.926045Z",
     "shell.execute_reply": "2024-07-09T18:12:43.924901Z"
    },
    "papermill": {
     "duration": 0.082764,
     "end_time": "2024-07-09T18:12:43.928226",
     "exception": false,
     "start_time": "2024-07-09T18:12:43.845462",
     "status": "completed"
    },
    "tags": []
   },
   "outputs": [],
   "source": [
    "data.loc[data['Cabin'].isnull(), 'Cabin'] = 'NA'\n",
    "\n",
    "data['Is_cabin'] = 1\n",
    "\n",
    "data.loc[data['Cabin'] == 'NA', 'Is_cabin'] = 0"
   ]
  },
  {
   "cell_type": "code",
   "execution_count": 17,
   "id": "47e0da97",
   "metadata": {
    "execution": {
     "iopub.execute_input": "2024-07-09T18:12:43.953873Z",
     "iopub.status.busy": "2024-07-09T18:12:43.953484Z",
     "iopub.status.idle": "2024-07-09T18:12:43.961976Z",
     "shell.execute_reply": "2024-07-09T18:12:43.960903Z"
    },
    "papermill": {
     "duration": 0.024298,
     "end_time": "2024-07-09T18:12:43.964379",
     "exception": false,
     "start_time": "2024-07-09T18:12:43.940081",
     "status": "completed"
    },
    "tags": []
   },
   "outputs": [
    {
     "data": {
      "text/plain": [
       "Is_cabin\n",
       "0    1014\n",
       "1     295\n",
       "Name: count, dtype: int64"
      ]
     },
     "execution_count": 17,
     "metadata": {},
     "output_type": "execute_result"
    }
   ],
   "source": [
    "data['Is_cabin'].value_counts()"
   ]
  },
  {
   "cell_type": "markdown",
   "id": "b43929b6",
   "metadata": {
    "papermill": {
     "duration": 0.011955,
     "end_time": "2024-07-09T18:12:43.988809",
     "exception": false,
     "start_time": "2024-07-09T18:12:43.976854",
     "status": "completed"
    },
    "tags": []
   },
   "source": [
    "Let's create a Family column. The family will contain the last name, number of family members and passenger class."
   ]
  },
  {
   "cell_type": "code",
   "execution_count": 18,
   "id": "97225f33",
   "metadata": {
    "execution": {
     "iopub.execute_input": "2024-07-09T18:12:44.014740Z",
     "iopub.status.busy": "2024-07-09T18:12:44.014324Z",
     "iopub.status.idle": "2024-07-09T18:12:44.020642Z",
     "shell.execute_reply": "2024-07-09T18:12:44.019471Z"
    },
    "papermill": {
     "duration": 0.022151,
     "end_time": "2024-07-09T18:12:44.023164",
     "exception": false,
     "start_time": "2024-07-09T18:12:44.001013",
     "status": "completed"
    },
    "tags": []
   },
   "outputs": [],
   "source": [
    "data['Family_size'] = data.SibSp + data.Parch + 1"
   ]
  },
  {
   "cell_type": "code",
   "execution_count": 19,
   "id": "2ce0b5e0",
   "metadata": {
    "execution": {
     "iopub.execute_input": "2024-07-09T18:12:44.050497Z",
     "iopub.status.busy": "2024-07-09T18:12:44.049586Z",
     "iopub.status.idle": "2024-07-09T18:12:44.083132Z",
     "shell.execute_reply": "2024-07-09T18:12:44.081813Z"
    },
    "papermill": {
     "duration": 0.049727,
     "end_time": "2024-07-09T18:12:44.085563",
     "exception": false,
     "start_time": "2024-07-09T18:12:44.035836",
     "status": "completed"
    },
    "tags": []
   },
   "outputs": [],
   "source": [
    "def extract_surname(name):\n",
    "    return name.split(',')[0].strip()\n",
    "\n",
    "data['Surname'] = data['Name'].apply(extract_surname)\n",
    "\n",
    "\n",
    "def family(df):   \n",
    "    return df['Surname'] + '-' + str(df['Family_size']) + '-' + 'Pclass' + '-' + str(df['Pclass'])  \n",
    "\n",
    "data['Family'] = data.apply(family, axis=1)"
   ]
  },
  {
   "cell_type": "code",
   "execution_count": 20,
   "id": "10d5ec9f",
   "metadata": {
    "execution": {
     "iopub.execute_input": "2024-07-09T18:12:44.111971Z",
     "iopub.status.busy": "2024-07-09T18:12:44.111566Z",
     "iopub.status.idle": "2024-07-09T18:12:44.130467Z",
     "shell.execute_reply": "2024-07-09T18:12:44.129455Z"
    },
    "papermill": {
     "duration": 0.034458,
     "end_time": "2024-07-09T18:12:44.132669",
     "exception": false,
     "start_time": "2024-07-09T18:12:44.098211",
     "status": "completed"
    },
    "tags": []
   },
   "outputs": [
    {
     "data": {
      "text/html": [
       "<div>\n",
       "<style scoped>\n",
       "    .dataframe tbody tr th:only-of-type {\n",
       "        vertical-align: middle;\n",
       "    }\n",
       "\n",
       "    .dataframe tbody tr th {\n",
       "        vertical-align: top;\n",
       "    }\n",
       "\n",
       "    .dataframe thead th {\n",
       "        text-align: right;\n",
       "    }\n",
       "</style>\n",
       "<table border=\"1\" class=\"dataframe\">\n",
       "  <thead>\n",
       "    <tr style=\"text-align: right;\">\n",
       "      <th></th>\n",
       "      <th>PassengerId</th>\n",
       "      <th>Survived</th>\n",
       "      <th>Pclass</th>\n",
       "      <th>Name</th>\n",
       "      <th>Sex</th>\n",
       "      <th>Age</th>\n",
       "      <th>SibSp</th>\n",
       "      <th>Parch</th>\n",
       "      <th>Ticket</th>\n",
       "      <th>Fare</th>\n",
       "      <th>Cabin</th>\n",
       "      <th>Embarked</th>\n",
       "      <th>Title</th>\n",
       "      <th>Is_cabin</th>\n",
       "      <th>Family_size</th>\n",
       "      <th>Surname</th>\n",
       "      <th>Family</th>\n",
       "    </tr>\n",
       "  </thead>\n",
       "  <tbody>\n",
       "    <tr>\n",
       "      <th>0</th>\n",
       "      <td>1</td>\n",
       "      <td>0.0</td>\n",
       "      <td>3</td>\n",
       "      <td>Braund, Mr. Owen Harris</td>\n",
       "      <td>1</td>\n",
       "      <td>22.0</td>\n",
       "      <td>1</td>\n",
       "      <td>0</td>\n",
       "      <td>A/5 21171</td>\n",
       "      <td>7.2500</td>\n",
       "      <td>NA</td>\n",
       "      <td>S</td>\n",
       "      <td>Mr</td>\n",
       "      <td>0</td>\n",
       "      <td>2</td>\n",
       "      <td>Braund</td>\n",
       "      <td>Braund-2-Pclass-3</td>\n",
       "    </tr>\n",
       "    <tr>\n",
       "      <th>1</th>\n",
       "      <td>2</td>\n",
       "      <td>1.0</td>\n",
       "      <td>1</td>\n",
       "      <td>Cumings, Mrs. John Bradley (Florence Briggs Th...</td>\n",
       "      <td>0</td>\n",
       "      <td>38.0</td>\n",
       "      <td>1</td>\n",
       "      <td>0</td>\n",
       "      <td>PC 17599</td>\n",
       "      <td>71.2833</td>\n",
       "      <td>C85</td>\n",
       "      <td>C</td>\n",
       "      <td>Mrs</td>\n",
       "      <td>1</td>\n",
       "      <td>2</td>\n",
       "      <td>Cumings</td>\n",
       "      <td>Cumings-2-Pclass-1</td>\n",
       "    </tr>\n",
       "    <tr>\n",
       "      <th>2</th>\n",
       "      <td>3</td>\n",
       "      <td>1.0</td>\n",
       "      <td>3</td>\n",
       "      <td>Heikkinen, Miss. Laina</td>\n",
       "      <td>0</td>\n",
       "      <td>26.0</td>\n",
       "      <td>0</td>\n",
       "      <td>0</td>\n",
       "      <td>STON/O2. 3101282</td>\n",
       "      <td>7.9250</td>\n",
       "      <td>NA</td>\n",
       "      <td>S</td>\n",
       "      <td>Miss</td>\n",
       "      <td>0</td>\n",
       "      <td>1</td>\n",
       "      <td>Heikkinen</td>\n",
       "      <td>Heikkinen-1-Pclass-3</td>\n",
       "    </tr>\n",
       "    <tr>\n",
       "      <th>3</th>\n",
       "      <td>4</td>\n",
       "      <td>1.0</td>\n",
       "      <td>1</td>\n",
       "      <td>Futrelle, Mrs. Jacques Heath (Lily May Peel)</td>\n",
       "      <td>0</td>\n",
       "      <td>35.0</td>\n",
       "      <td>1</td>\n",
       "      <td>0</td>\n",
       "      <td>113803</td>\n",
       "      <td>53.1000</td>\n",
       "      <td>C123</td>\n",
       "      <td>S</td>\n",
       "      <td>Mrs</td>\n",
       "      <td>1</td>\n",
       "      <td>2</td>\n",
       "      <td>Futrelle</td>\n",
       "      <td>Futrelle-2-Pclass-1</td>\n",
       "    </tr>\n",
       "    <tr>\n",
       "      <th>4</th>\n",
       "      <td>5</td>\n",
       "      <td>0.0</td>\n",
       "      <td>3</td>\n",
       "      <td>Allen, Mr. William Henry</td>\n",
       "      <td>1</td>\n",
       "      <td>35.0</td>\n",
       "      <td>0</td>\n",
       "      <td>0</td>\n",
       "      <td>373450</td>\n",
       "      <td>8.0500</td>\n",
       "      <td>NA</td>\n",
       "      <td>S</td>\n",
       "      <td>Mr</td>\n",
       "      <td>0</td>\n",
       "      <td>1</td>\n",
       "      <td>Allen</td>\n",
       "      <td>Allen-1-Pclass-3</td>\n",
       "    </tr>\n",
       "  </tbody>\n",
       "</table>\n",
       "</div>"
      ],
      "text/plain": [
       "   PassengerId  Survived  Pclass  \\\n",
       "0            1       0.0       3   \n",
       "1            2       1.0       1   \n",
       "2            3       1.0       3   \n",
       "3            4       1.0       1   \n",
       "4            5       0.0       3   \n",
       "\n",
       "                                                Name  Sex   Age  SibSp  Parch  \\\n",
       "0                            Braund, Mr. Owen Harris    1  22.0      1      0   \n",
       "1  Cumings, Mrs. John Bradley (Florence Briggs Th...    0  38.0      1      0   \n",
       "2                             Heikkinen, Miss. Laina    0  26.0      0      0   \n",
       "3       Futrelle, Mrs. Jacques Heath (Lily May Peel)    0  35.0      1      0   \n",
       "4                           Allen, Mr. William Henry    1  35.0      0      0   \n",
       "\n",
       "             Ticket     Fare Cabin Embarked Title  Is_cabin  Family_size  \\\n",
       "0         A/5 21171   7.2500    NA        S    Mr         0            2   \n",
       "1          PC 17599  71.2833   C85        C   Mrs         1            2   \n",
       "2  STON/O2. 3101282   7.9250    NA        S  Miss         0            1   \n",
       "3            113803  53.1000  C123        S   Mrs         1            2   \n",
       "4            373450   8.0500    NA        S    Mr         0            1   \n",
       "\n",
       "     Surname                Family  \n",
       "0     Braund     Braund-2-Pclass-3  \n",
       "1    Cumings    Cumings-2-Pclass-1  \n",
       "2  Heikkinen  Heikkinen-1-Pclass-3  \n",
       "3   Futrelle   Futrelle-2-Pclass-1  \n",
       "4      Allen      Allen-1-Pclass-3  "
      ]
     },
     "execution_count": 20,
     "metadata": {},
     "output_type": "execute_result"
    }
   ],
   "source": [
    "data.head()"
   ]
  },
  {
   "cell_type": "markdown",
   "id": "b24d9e7c",
   "metadata": {
    "papermill": {
     "duration": 0.012107,
     "end_time": "2024-07-09T18:12:44.157344",
     "exception": false,
     "start_time": "2024-07-09T18:12:44.145237",
     "status": "completed"
    },
    "tags": []
   },
   "source": [
    "Let's remove features that are not valuable."
   ]
  },
  {
   "cell_type": "code",
   "execution_count": 21,
   "id": "49978773",
   "metadata": {
    "execution": {
     "iopub.execute_input": "2024-07-09T18:12:44.184421Z",
     "iopub.status.busy": "2024-07-09T18:12:44.184017Z",
     "iopub.status.idle": "2024-07-09T18:12:44.190927Z",
     "shell.execute_reply": "2024-07-09T18:12:44.189664Z"
    },
    "papermill": {
     "duration": 0.022889,
     "end_time": "2024-07-09T18:12:44.193196",
     "exception": false,
     "start_time": "2024-07-09T18:12:44.170307",
     "status": "completed"
    },
    "tags": []
   },
   "outputs": [],
   "source": [
    "data = data.drop(columns=['Name', 'Age', 'SibSp', 'Parch', 'Ticket', 'Embarked', 'Surname'], axis=1)"
   ]
  },
  {
   "cell_type": "markdown",
   "id": "6a25d5f4",
   "metadata": {
    "papermill": {
     "duration": 0.01185,
     "end_time": "2024-07-09T18:12:44.217522",
     "exception": false,
     "start_time": "2024-07-09T18:12:44.205672",
     "status": "completed"
    },
    "tags": []
   },
   "source": [
    "Converting categorical features to numbers using One-Hot Encoding"
   ]
  },
  {
   "cell_type": "code",
   "execution_count": 22,
   "id": "9b34fd52",
   "metadata": {
    "execution": {
     "iopub.execute_input": "2024-07-09T18:12:44.243655Z",
     "iopub.status.busy": "2024-07-09T18:12:44.243240Z",
     "iopub.status.idle": "2024-07-09T18:12:44.259665Z",
     "shell.execute_reply": "2024-07-09T18:12:44.258531Z"
    },
    "papermill": {
     "duration": 0.032347,
     "end_time": "2024-07-09T18:12:44.262200",
     "exception": false,
     "start_time": "2024-07-09T18:12:44.229853",
     "status": "completed"
    },
    "tags": []
   },
   "outputs": [],
   "source": [
    "data_temp = data.drop(columns=['Family_size'], axis=1)\n",
    "data_temp = pd.get_dummies(data_temp)"
   ]
  },
  {
   "cell_type": "markdown",
   "id": "23e0cdc3",
   "metadata": {
    "papermill": {
     "duration": 0.011929,
     "end_time": "2024-07-09T18:12:44.286504",
     "exception": false,
     "start_time": "2024-07-09T18:12:44.274575",
     "status": "completed"
    },
    "tags": []
   },
   "source": [
    "Let's divide the data into train_data and test_data"
   ]
  },
  {
   "cell_type": "code",
   "execution_count": 23,
   "id": "8edc03dc",
   "metadata": {
    "execution": {
     "iopub.execute_input": "2024-07-09T18:12:44.312672Z",
     "iopub.status.busy": "2024-07-09T18:12:44.312231Z",
     "iopub.status.idle": "2024-07-09T18:12:44.321405Z",
     "shell.execute_reply": "2024-07-09T18:12:44.320438Z"
    },
    "papermill": {
     "duration": 0.025106,
     "end_time": "2024-07-09T18:12:44.323893",
     "exception": false,
     "start_time": "2024-07-09T18:12:44.298787",
     "status": "completed"
    },
    "tags": []
   },
   "outputs": [],
   "source": [
    "train_data = data_temp[data_temp['Survived'].notnull()] \n",
    "test_data = data_temp[data_temp['Survived'].isnull()] "
   ]
  },
  {
   "cell_type": "markdown",
   "id": "84cdc6bc",
   "metadata": {
    "papermill": {
     "duration": 0.012381,
     "end_time": "2024-07-09T18:12:44.348543",
     "exception": false,
     "start_time": "2024-07-09T18:12:44.336162",
     "status": "completed"
    },
    "tags": []
   },
   "source": [
    "Let's divide the train_data into features (matrix X) and target variable (y)"
   ]
  },
  {
   "cell_type": "code",
   "execution_count": 24,
   "id": "4c509ba4",
   "metadata": {
    "execution": {
     "iopub.execute_input": "2024-07-09T18:12:44.374726Z",
     "iopub.status.busy": "2024-07-09T18:12:44.373839Z",
     "iopub.status.idle": "2024-07-09T18:12:44.380377Z",
     "shell.execute_reply": "2024-07-09T18:12:44.379447Z"
    },
    "papermill": {
     "duration": 0.021921,
     "end_time": "2024-07-09T18:12:44.382560",
     "exception": false,
     "start_time": "2024-07-09T18:12:44.360639",
     "status": "completed"
    },
    "tags": []
   },
   "outputs": [],
   "source": [
    "y = train_data['Survived'] \n",
    "X = train_data.drop(columns = ['Survived'], axis = 1) "
   ]
  },
  {
   "cell_type": "markdown",
   "id": "df479671",
   "metadata": {
    "papermill": {
     "duration": 0.01198,
     "end_time": "2024-07-09T18:12:44.406915",
     "exception": false,
     "start_time": "2024-07-09T18:12:44.394935",
     "status": "completed"
    },
    "tags": []
   },
   "source": [
    "Let's divide the data into training and validation samples"
   ]
  },
  {
   "cell_type": "code",
   "execution_count": 25,
   "id": "a04419c9",
   "metadata": {
    "execution": {
     "iopub.execute_input": "2024-07-09T18:12:44.433687Z",
     "iopub.status.busy": "2024-07-09T18:12:44.433258Z",
     "iopub.status.idle": "2024-07-09T18:12:44.445245Z",
     "shell.execute_reply": "2024-07-09T18:12:44.444233Z"
    },
    "papermill": {
     "duration": 0.028536,
     "end_time": "2024-07-09T18:12:44.447753",
     "exception": false,
     "start_time": "2024-07-09T18:12:44.419217",
     "status": "completed"
    },
    "tags": []
   },
   "outputs": [],
   "source": [
    "X_train, X_val, y_train, y_val = train_test_split(X, y, test_size=0.3, random_state=0, stratify=y)"
   ]
  },
  {
   "cell_type": "markdown",
   "id": "fda8fbbb",
   "metadata": {
    "papermill": {
     "duration": 0.01202,
     "end_time": "2024-07-09T18:12:44.472040",
     "exception": false,
     "start_time": "2024-07-09T18:12:44.460020",
     "status": "completed"
    },
    "tags": []
   },
   "source": [
    "Let's set the Random Forest algorithm for the model"
   ]
  },
  {
   "cell_type": "code",
   "execution_count": 26,
   "id": "4220dd12",
   "metadata": {
    "execution": {
     "iopub.execute_input": "2024-07-09T18:12:44.498250Z",
     "iopub.status.busy": "2024-07-09T18:12:44.497505Z",
     "iopub.status.idle": "2024-07-09T18:12:45.106250Z",
     "shell.execute_reply": "2024-07-09T18:12:45.105258Z"
    },
    "papermill": {
     "duration": 0.624221,
     "end_time": "2024-07-09T18:12:45.108381",
     "exception": false,
     "start_time": "2024-07-09T18:12:44.484160",
     "status": "completed"
    },
    "tags": []
   },
   "outputs": [
    {
     "data": {
      "text/html": [
       "<style>#sk-container-id-1 {color: black;background-color: white;}#sk-container-id-1 pre{padding: 0;}#sk-container-id-1 div.sk-toggleable {background-color: white;}#sk-container-id-1 label.sk-toggleable__label {cursor: pointer;display: block;width: 100%;margin-bottom: 0;padding: 0.3em;box-sizing: border-box;text-align: center;}#sk-container-id-1 label.sk-toggleable__label-arrow:before {content: \"▸\";float: left;margin-right: 0.25em;color: #696969;}#sk-container-id-1 label.sk-toggleable__label-arrow:hover:before {color: black;}#sk-container-id-1 div.sk-estimator:hover label.sk-toggleable__label-arrow:before {color: black;}#sk-container-id-1 div.sk-toggleable__content {max-height: 0;max-width: 0;overflow: hidden;text-align: left;background-color: #f0f8ff;}#sk-container-id-1 div.sk-toggleable__content pre {margin: 0.2em;color: black;border-radius: 0.25em;background-color: #f0f8ff;}#sk-container-id-1 input.sk-toggleable__control:checked~div.sk-toggleable__content {max-height: 200px;max-width: 100%;overflow: auto;}#sk-container-id-1 input.sk-toggleable__control:checked~label.sk-toggleable__label-arrow:before {content: \"▾\";}#sk-container-id-1 div.sk-estimator input.sk-toggleable__control:checked~label.sk-toggleable__label {background-color: #d4ebff;}#sk-container-id-1 div.sk-label input.sk-toggleable__control:checked~label.sk-toggleable__label {background-color: #d4ebff;}#sk-container-id-1 input.sk-hidden--visually {border: 0;clip: rect(1px 1px 1px 1px);clip: rect(1px, 1px, 1px, 1px);height: 1px;margin: -1px;overflow: hidden;padding: 0;position: absolute;width: 1px;}#sk-container-id-1 div.sk-estimator {font-family: monospace;background-color: #f0f8ff;border: 1px dotted black;border-radius: 0.25em;box-sizing: border-box;margin-bottom: 0.5em;}#sk-container-id-1 div.sk-estimator:hover {background-color: #d4ebff;}#sk-container-id-1 div.sk-parallel-item::after {content: \"\";width: 100%;border-bottom: 1px solid gray;flex-grow: 1;}#sk-container-id-1 div.sk-label:hover label.sk-toggleable__label {background-color: #d4ebff;}#sk-container-id-1 div.sk-serial::before {content: \"\";position: absolute;border-left: 1px solid gray;box-sizing: border-box;top: 0;bottom: 0;left: 50%;z-index: 0;}#sk-container-id-1 div.sk-serial {display: flex;flex-direction: column;align-items: center;background-color: white;padding-right: 0.2em;padding-left: 0.2em;position: relative;}#sk-container-id-1 div.sk-item {position: relative;z-index: 1;}#sk-container-id-1 div.sk-parallel {display: flex;align-items: stretch;justify-content: center;background-color: white;position: relative;}#sk-container-id-1 div.sk-item::before, #sk-container-id-1 div.sk-parallel-item::before {content: \"\";position: absolute;border-left: 1px solid gray;box-sizing: border-box;top: 0;bottom: 0;left: 50%;z-index: -1;}#sk-container-id-1 div.sk-parallel-item {display: flex;flex-direction: column;z-index: 1;position: relative;background-color: white;}#sk-container-id-1 div.sk-parallel-item:first-child::after {align-self: flex-end;width: 50%;}#sk-container-id-1 div.sk-parallel-item:last-child::after {align-self: flex-start;width: 50%;}#sk-container-id-1 div.sk-parallel-item:only-child::after {width: 0;}#sk-container-id-1 div.sk-dashed-wrapped {border: 1px dashed gray;margin: 0 0.4em 0.5em 0.4em;box-sizing: border-box;padding-bottom: 0.4em;background-color: white;}#sk-container-id-1 div.sk-label label {font-family: monospace;font-weight: bold;display: inline-block;line-height: 1.2em;}#sk-container-id-1 div.sk-label-container {text-align: center;}#sk-container-id-1 div.sk-container {/* jupyter's `normalize.less` sets `[hidden] { display: none; }` but bootstrap.min.css set `[hidden] { display: none !important; }` so we also need the `!important` here to be able to override the default hidden behavior on the sphinx rendered scikit-learn.org. See: https://github.com/scikit-learn/scikit-learn/issues/21755 */display: inline-block !important;position: relative;}#sk-container-id-1 div.sk-text-repr-fallback {display: none;}</style><div id=\"sk-container-id-1\" class=\"sk-top-container\"><div class=\"sk-text-repr-fallback\"><pre>RandomForestClassifier(max_depth=20, n_estimators=200, random_state=1)</pre><b>In a Jupyter environment, please rerun this cell to show the HTML representation or trust the notebook. <br />On GitHub, the HTML representation is unable to render, please try loading this page with nbviewer.org.</b></div><div class=\"sk-container\" hidden><div class=\"sk-item\"><div class=\"sk-estimator sk-toggleable\"><input class=\"sk-toggleable__control sk-hidden--visually\" id=\"sk-estimator-id-1\" type=\"checkbox\" checked><label for=\"sk-estimator-id-1\" class=\"sk-toggleable__label sk-toggleable__label-arrow\">RandomForestClassifier</label><div class=\"sk-toggleable__content\"><pre>RandomForestClassifier(max_depth=20, n_estimators=200, random_state=1)</pre></div></div></div></div></div>"
      ],
      "text/plain": [
       "RandomForestClassifier(max_depth=20, n_estimators=200, random_state=1)"
      ]
     },
     "execution_count": 26,
     "metadata": {},
     "output_type": "execute_result"
    }
   ],
   "source": [
    "model_rf = RandomForestClassifier(n_estimators=200, max_depth=20, random_state=1)\n",
    "\n",
    "model_rf.fit(X_train, y_train)"
   ]
  },
  {
   "cell_type": "markdown",
   "id": "c04baae4",
   "metadata": {
    "papermill": {
     "duration": 0.01243,
     "end_time": "2024-07-09T18:12:45.133520",
     "exception": false,
     "start_time": "2024-07-09T18:12:45.121090",
     "status": "completed"
    },
    "tags": []
   },
   "source": [
    "Let's write a function to calculate metrics."
   ]
  },
  {
   "cell_type": "code",
   "execution_count": 27,
   "id": "f7a3fc2d",
   "metadata": {
    "execution": {
     "iopub.execute_input": "2024-07-09T18:12:45.160560Z",
     "iopub.status.busy": "2024-07-09T18:12:45.160160Z",
     "iopub.status.idle": "2024-07-09T18:12:45.166552Z",
     "shell.execute_reply": "2024-07-09T18:12:45.165516Z"
    },
    "papermill": {
     "duration": 0.022645,
     "end_time": "2024-07-09T18:12:45.168919",
     "exception": false,
     "start_time": "2024-07-09T18:12:45.146274",
     "status": "completed"
    },
    "tags": []
   },
   "outputs": [],
   "source": [
    "def metric_calculation(y_test, X_test, model):\n",
    "    y_pred = model.predict(X_test)\n",
    "    y_scores = model.predict_proba(X_test)[:, 1]\n",
    "    print('Accuracy: {:.2f}'.format(accuracy_score(y_test, y_pred)))\n",
    "    print('Precision: {:.2f}'.format(precision_score(y_test, y_pred)))\n",
    "    print('Recall: {:.2f}'.format(recall_score(y_test, y_pred)))\n",
    "    print('ROC AUC: {:.2f}'.format(roc_auc_score(y_test, y_scores)))"
   ]
  },
  {
   "cell_type": "markdown",
   "id": "98ce8017",
   "metadata": {
    "papermill": {
     "duration": 0.012404,
     "end_time": "2024-07-09T18:12:45.194181",
     "exception": false,
     "start_time": "2024-07-09T18:12:45.181777",
     "status": "completed"
    },
    "tags": []
   },
   "source": [
    "We will get the accuracy, precision, recall and ROC AUC metrics for the model."
   ]
  },
  {
   "cell_type": "code",
   "execution_count": 28,
   "id": "d839fa00",
   "metadata": {
    "execution": {
     "iopub.execute_input": "2024-07-09T18:12:45.220888Z",
     "iopub.status.busy": "2024-07-09T18:12:45.220493Z",
     "iopub.status.idle": "2024-07-09T18:12:45.284622Z",
     "shell.execute_reply": "2024-07-09T18:12:45.283468Z"
    },
    "papermill": {
     "duration": 0.080126,
     "end_time": "2024-07-09T18:12:45.286948",
     "exception": false,
     "start_time": "2024-07-09T18:12:45.206822",
     "status": "completed"
    },
    "tags": []
   },
   "outputs": [
    {
     "name": "stdout",
     "output_type": "stream",
     "text": [
      "Accuracy: 0.83\n",
      "Precision: 0.84\n",
      "Recall: 0.70\n",
      "ROC AUC: 0.86\n"
     ]
    }
   ],
   "source": [
    "metric_calculation(y_val, X_val, model_rf)"
   ]
  },
  {
   "cell_type": "markdown",
   "id": "72756c4a",
   "metadata": {
    "papermill": {
     "duration": 0.012557,
     "end_time": "2024-07-09T18:12:45.312260",
     "exception": false,
     "start_time": "2024-07-09T18:12:45.299703",
     "status": "completed"
    },
    "tags": []
   },
   "source": [
    "Let's make a forecast."
   ]
  },
  {
   "cell_type": "code",
   "execution_count": 29,
   "id": "12fd0dce",
   "metadata": {
    "execution": {
     "iopub.execute_input": "2024-07-09T18:12:45.339296Z",
     "iopub.status.busy": "2024-07-09T18:12:45.338918Z",
     "iopub.status.idle": "2024-07-09T18:12:45.345331Z",
     "shell.execute_reply": "2024-07-09T18:12:45.344366Z"
    },
    "papermill": {
     "duration": 0.022418,
     "end_time": "2024-07-09T18:12:45.347479",
     "exception": false,
     "start_time": "2024-07-09T18:12:45.325061",
     "status": "completed"
    },
    "tags": []
   },
   "outputs": [],
   "source": [
    "X_test = test_data.drop(columns = ['Survived'], axis=1)"
   ]
  },
  {
   "cell_type": "code",
   "execution_count": 30,
   "id": "def5ef40",
   "metadata": {
    "execution": {
     "iopub.execute_input": "2024-07-09T18:12:45.375386Z",
     "iopub.status.busy": "2024-07-09T18:12:45.374423Z",
     "iopub.status.idle": "2024-07-09T18:12:46.137107Z",
     "shell.execute_reply": "2024-07-09T18:12:46.136010Z"
    },
    "papermill": {
     "duration": 0.779823,
     "end_time": "2024-07-09T18:12:46.140085",
     "exception": false,
     "start_time": "2024-07-09T18:12:45.360262",
     "status": "completed"
    },
    "tags": []
   },
   "outputs": [],
   "source": [
    "model_rf.fit(X, y)\n",
    "\n",
    "predictions = model_rf.predict(X_test)\n",
    "\n",
    "output = pd.DataFrame({'PassengerId': test_data.PassengerId, 'Survived': predictions})\n",
    "\n",
    "output['Survived'] = output['Survived'].astype(int)\n",
    "\n",
    "output.to_csv('submission-f-1.csv', index=False)"
   ]
  },
  {
   "cell_type": "code",
   "execution_count": 31,
   "id": "e1ce6f64",
   "metadata": {
    "execution": {
     "iopub.execute_input": "2024-07-09T18:12:46.167637Z",
     "iopub.status.busy": "2024-07-09T18:12:46.167220Z",
     "iopub.status.idle": "2024-07-09T18:12:46.175115Z",
     "shell.execute_reply": "2024-07-09T18:12:46.173992Z"
    },
    "papermill": {
     "duration": 0.023962,
     "end_time": "2024-07-09T18:12:46.177274",
     "exception": false,
     "start_time": "2024-07-09T18:12:46.153312",
     "status": "completed"
    },
    "tags": []
   },
   "outputs": [
    {
     "data": {
      "text/plain": [
       "Survived\n",
       "0    312\n",
       "1    106\n",
       "Name: count, dtype: int64"
      ]
     },
     "execution_count": 31,
     "metadata": {},
     "output_type": "execute_result"
    }
   ],
   "source": [
    "output[\"Survived\"].value_counts()"
   ]
  },
  {
   "cell_type": "markdown",
   "id": "b75c66cc",
   "metadata": {
    "papermill": {
     "duration": 0.01522,
     "end_time": "2024-07-09T18:12:46.215368",
     "exception": false,
     "start_time": "2024-07-09T18:12:46.200148",
     "status": "completed"
    },
    "tags": []
   },
   "source": [
    "#### Kaggle Accuracy : 79.90"
   ]
  },
  {
   "cell_type": "markdown",
   "id": "3eca1271",
   "metadata": {
    "papermill": {
     "duration": 0.018708,
     "end_time": "2024-07-09T18:12:46.253651",
     "exception": false,
     "start_time": "2024-07-09T18:12:46.234943",
     "status": "completed"
    },
    "tags": []
   },
   "source": [
    "#### Let's improve the forecast by grouping passengers by family.\n",
    "Principle: we will remove adult men from families, leaving women and children. Let's find the average survival rate. If most members in the family survived, then the unknown (Survived == nan) family member also survived and vice versa. Most likely, if the mother is alive, then the child is alive and vice versa."
   ]
  },
  {
   "cell_type": "code",
   "execution_count": 32,
   "id": "1fddcb86",
   "metadata": {
    "execution": {
     "iopub.execute_input": "2024-07-09T18:12:46.289696Z",
     "iopub.status.busy": "2024-07-09T18:12:46.288716Z",
     "iopub.status.idle": "2024-07-09T18:12:46.308602Z",
     "shell.execute_reply": "2024-07-09T18:12:46.307533Z"
    },
    "papermill": {
     "duration": 0.039414,
     "end_time": "2024-07-09T18:12:46.311214",
     "exception": false,
     "start_time": "2024-07-09T18:12:46.271800",
     "status": "completed"
    },
    "tags": []
   },
   "outputs": [],
   "source": [
    "data_family = data.query('Title != \"Mr\" and Title != \"Rev\" and Title != \"Aristocrat\" and Family_size > 1')"
   ]
  },
  {
   "cell_type": "code",
   "execution_count": 33,
   "id": "5fd58618",
   "metadata": {
    "execution": {
     "iopub.execute_input": "2024-07-09T18:12:46.338673Z",
     "iopub.status.busy": "2024-07-09T18:12:46.338236Z",
     "iopub.status.idle": "2024-07-09T18:12:46.355108Z",
     "shell.execute_reply": "2024-07-09T18:12:46.353988Z"
    },
    "papermill": {
     "duration": 0.033308,
     "end_time": "2024-07-09T18:12:46.357529",
     "exception": false,
     "start_time": "2024-07-09T18:12:46.324221",
     "status": "completed"
    },
    "tags": []
   },
   "outputs": [
    {
     "data": {
      "text/html": [
       "<div>\n",
       "<style scoped>\n",
       "    .dataframe tbody tr th:only-of-type {\n",
       "        vertical-align: middle;\n",
       "    }\n",
       "\n",
       "    .dataframe tbody tr th {\n",
       "        vertical-align: top;\n",
       "    }\n",
       "\n",
       "    .dataframe thead th {\n",
       "        text-align: right;\n",
       "    }\n",
       "</style>\n",
       "<table border=\"1\" class=\"dataframe\">\n",
       "  <thead>\n",
       "    <tr style=\"text-align: right;\">\n",
       "      <th></th>\n",
       "      <th>PassengerId</th>\n",
       "      <th>Survived</th>\n",
       "      <th>Pclass</th>\n",
       "      <th>Sex</th>\n",
       "      <th>Fare</th>\n",
       "      <th>Cabin</th>\n",
       "      <th>Title</th>\n",
       "      <th>Is_cabin</th>\n",
       "      <th>Family_size</th>\n",
       "      <th>Family</th>\n",
       "    </tr>\n",
       "  </thead>\n",
       "  <tbody>\n",
       "    <tr>\n",
       "      <th>1</th>\n",
       "      <td>2</td>\n",
       "      <td>1.0</td>\n",
       "      <td>1</td>\n",
       "      <td>0</td>\n",
       "      <td>71.2833</td>\n",
       "      <td>C85</td>\n",
       "      <td>Mrs</td>\n",
       "      <td>1</td>\n",
       "      <td>2</td>\n",
       "      <td>Cumings-2-Pclass-1</td>\n",
       "    </tr>\n",
       "    <tr>\n",
       "      <th>3</th>\n",
       "      <td>4</td>\n",
       "      <td>1.0</td>\n",
       "      <td>1</td>\n",
       "      <td>0</td>\n",
       "      <td>53.1000</td>\n",
       "      <td>C123</td>\n",
       "      <td>Mrs</td>\n",
       "      <td>1</td>\n",
       "      <td>2</td>\n",
       "      <td>Futrelle-2-Pclass-1</td>\n",
       "    </tr>\n",
       "    <tr>\n",
       "      <th>7</th>\n",
       "      <td>8</td>\n",
       "      <td>0.0</td>\n",
       "      <td>3</td>\n",
       "      <td>1</td>\n",
       "      <td>21.0750</td>\n",
       "      <td>NA</td>\n",
       "      <td>Master</td>\n",
       "      <td>0</td>\n",
       "      <td>5</td>\n",
       "      <td>Palsson-5-Pclass-3</td>\n",
       "    </tr>\n",
       "    <tr>\n",
       "      <th>8</th>\n",
       "      <td>9</td>\n",
       "      <td>1.0</td>\n",
       "      <td>3</td>\n",
       "      <td>0</td>\n",
       "      <td>11.1333</td>\n",
       "      <td>NA</td>\n",
       "      <td>Mrs</td>\n",
       "      <td>0</td>\n",
       "      <td>3</td>\n",
       "      <td>Johnson-3-Pclass-3</td>\n",
       "    </tr>\n",
       "    <tr>\n",
       "      <th>9</th>\n",
       "      <td>10</td>\n",
       "      <td>1.0</td>\n",
       "      <td>2</td>\n",
       "      <td>0</td>\n",
       "      <td>30.0708</td>\n",
       "      <td>NA</td>\n",
       "      <td>Mrs</td>\n",
       "      <td>0</td>\n",
       "      <td>2</td>\n",
       "      <td>Nasser-2-Pclass-2</td>\n",
       "    </tr>\n",
       "  </tbody>\n",
       "</table>\n",
       "</div>"
      ],
      "text/plain": [
       "   PassengerId  Survived  Pclass  Sex     Fare Cabin   Title  Is_cabin  \\\n",
       "1            2       1.0       1    0  71.2833   C85     Mrs         1   \n",
       "3            4       1.0       1    0  53.1000  C123     Mrs         1   \n",
       "7            8       0.0       3    1  21.0750    NA  Master         0   \n",
       "8            9       1.0       3    0  11.1333    NA     Mrs         0   \n",
       "9           10       1.0       2    0  30.0708    NA     Mrs         0   \n",
       "\n",
       "   Family_size               Family  \n",
       "1            2   Cumings-2-Pclass-1  \n",
       "3            2  Futrelle-2-Pclass-1  \n",
       "7            5   Palsson-5-Pclass-3  \n",
       "8            3   Johnson-3-Pclass-3  \n",
       "9            2    Nasser-2-Pclass-2  "
      ]
     },
     "execution_count": 33,
     "metadata": {},
     "output_type": "execute_result"
    }
   ],
   "source": [
    "data_family.head()"
   ]
  },
  {
   "cell_type": "code",
   "execution_count": 34,
   "id": "fe12b8e2",
   "metadata": {
    "execution": {
     "iopub.execute_input": "2024-07-09T18:12:46.388375Z",
     "iopub.status.busy": "2024-07-09T18:12:46.387651Z",
     "iopub.status.idle": "2024-07-09T18:12:46.398249Z",
     "shell.execute_reply": "2024-07-09T18:12:46.397135Z"
    },
    "papermill": {
     "duration": 0.027384,
     "end_time": "2024-07-09T18:12:46.400668",
     "exception": false,
     "start_time": "2024-07-09T18:12:46.373284",
     "status": "completed"
    },
    "tags": []
   },
   "outputs": [],
   "source": [
    "data_family['Survived_family'] = np.nan\n",
    "\n",
    "mean_survived_by_family = data_family.groupby('Family')['Survived'].mean()\n",
    "\n",
    "data_family['Survived_family'] = data_family['Family'].map(mean_survived_by_family)\n",
    "\n",
    "data_family.loc[data_family['Survived_family'] < 0.34, 'Survived_family' ] = 0\n",
    "\n",
    "data_family = data_family.loc[(data_family['Survived_family'] == 0) | (data_family['Survived_family'] == 1)]"
   ]
  },
  {
   "cell_type": "code",
   "execution_count": 35,
   "id": "8fb586a6",
   "metadata": {
    "execution": {
     "iopub.execute_input": "2024-07-09T18:12:46.429495Z",
     "iopub.status.busy": "2024-07-09T18:12:46.429113Z",
     "iopub.status.idle": "2024-07-09T18:12:46.439503Z",
     "shell.execute_reply": "2024-07-09T18:12:46.438441Z"
    },
    "papermill": {
     "duration": 0.027833,
     "end_time": "2024-07-09T18:12:46.441687",
     "exception": false,
     "start_time": "2024-07-09T18:12:46.413854",
     "status": "completed"
    },
    "tags": []
   },
   "outputs": [
    {
     "data": {
      "text/plain": [
       "Survived\n",
       "0    303\n",
       "1    115\n",
       "Name: count, dtype: int64"
      ]
     },
     "execution_count": 35,
     "metadata": {},
     "output_type": "execute_result"
    }
   ],
   "source": [
    "output.loc[output['PassengerId'].isin(data_family['PassengerId']), 'Survived'] = data_family['Survived_family']\n",
    "\n",
    "output[\"Survived\"].value_counts()"
   ]
  },
  {
   "cell_type": "code",
   "execution_count": 36,
   "id": "c43d0116",
   "metadata": {
    "execution": {
     "iopub.execute_input": "2024-07-09T18:12:46.472685Z",
     "iopub.status.busy": "2024-07-09T18:12:46.472269Z",
     "iopub.status.idle": "2024-07-09T18:12:46.480410Z",
     "shell.execute_reply": "2024-07-09T18:12:46.479512Z"
    },
    "papermill": {
     "duration": 0.028668,
     "end_time": "2024-07-09T18:12:46.483536",
     "exception": false,
     "start_time": "2024-07-09T18:12:46.454868",
     "status": "completed"
    },
    "tags": []
   },
   "outputs": [],
   "source": [
    "output['Survived'] = output['Survived'].astype(int)\n",
    "\n",
    "output.to_csv('submission-f-2.csv', index=False)"
   ]
  },
  {
   "cell_type": "markdown",
   "id": "c2b4e927",
   "metadata": {
    "papermill": {
     "duration": 0.013053,
     "end_time": "2024-07-09T18:12:46.511943",
     "exception": false,
     "start_time": "2024-07-09T18:12:46.498890",
     "status": "completed"
    },
    "tags": []
   },
   "source": [
    "#### Kaggle Accuracy : 81.58\n",
    "#### # 194"
   ]
  }
 ],
 "metadata": {
  "kaggle": {
   "accelerator": "none",
   "dataSources": [
    {
     "databundleVersionId": 26502,
     "sourceId": 3136,
     "sourceType": "competition"
    }
   ],
   "dockerImageVersionId": 30732,
   "isGpuEnabled": false,
   "isInternetEnabled": false,
   "language": "python",
   "sourceType": "notebook"
  },
  "kernelspec": {
   "display_name": "Python 3",
   "language": "python",
   "name": "python3"
  },
  "language_info": {
   "codemirror_mode": {
    "name": "ipython",
    "version": 3
   },
   "file_extension": ".py",
   "mimetype": "text/x-python",
   "name": "python",
   "nbconvert_exporter": "python",
   "pygments_lexer": "ipython3",
   "version": "3.10.13"
  },
  "papermill": {
   "default_parameters": {},
   "duration": 9.638378,
   "end_time": "2024-07-09T18:12:47.148146",
   "environment_variables": {},
   "exception": null,
   "input_path": "__notebook__.ipynb",
   "output_path": "__notebook__.ipynb",
   "parameters": {},
   "start_time": "2024-07-09T18:12:37.509768",
   "version": "2.5.0"
  }
 },
 "nbformat": 4,
 "nbformat_minor": 5
}
