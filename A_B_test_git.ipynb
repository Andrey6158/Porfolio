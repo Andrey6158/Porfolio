{
 "cells": [
  {
   "cell_type": "markdown",
   "id": "0c21da28",
   "metadata": {},
   "source": [
    "# Проект \"Приоритизация гипотез и анализ А/В-теста\""
   ]
  },
  {
   "cell_type": "markdown",
   "id": "3f4088ff",
   "metadata": {},
   "source": [
    "### Краткое описание проекта\n",
    "Аналитик крупного интернет-магазина вместе с отделом маркетинга подготовили список гипотез для увеличения выручки.\n",
    "С помощью фремворков гипотезы были приоритизированы и была выбрана самая приритетная гипотеза. Для проверки этой гипотезы был разработан и проведен А/В-тест. Далее результаты А/В-теста были проанализированы и принято решение о прекращении А/В-теста."
   ]
  },
  {
   "cell_type": "markdown",
   "id": "dd3b6170",
   "metadata": {},
   "source": [
    "### Цель проекта\n",
    "Проверить с помощью А/В-теста одну из гипотез по увеличению выручки интернет-магазина и принять решение о продолжении либо прекращении А/B-теста."
   ]
  },
  {
   "cell_type": "markdown",
   "id": "d40e721a",
   "metadata": {},
   "source": [
    "## Часть 1. Приоритизация гипотез"
   ]
  },
  {
   "cell_type": "markdown",
   "id": "43e5e891",
   "metadata": {},
   "source": [
    "### Описание данных первой части проекта"
   ]
  },
  {
   "cell_type": "markdown",
   "id": "14764b63",
   "metadata": {},
   "source": [
    "- Hypothesis — краткое описание гипотезы;\n",
    "- Reach — охват пользователей по 10-балльной шкале;\n",
    "- Impact — влияние на пользователей по 10-балльной шкале;\n",
    "- Confidence — уверенность в гипотезе по 10-балльной шкале;\n",
    "- Efforts — затраты ресурсов на проверку гипотезы по 10-балльной шкале. Чем больше значение Efforts, тем дороже проверка гипотезы."
   ]
  },
  {
   "cell_type": "markdown",
   "id": "d4bd1eee",
   "metadata": {},
   "source": [
    "### План работы по первой части проекта\n",
    "- С помощью фреймворка ICE приоритизировать гипотезы по убыванию приоритета.\n",
    "- С помощью фреймворка RICE приоритизировать гипотезы по убыванию приоритета.\n",
    "- Объяснить изменения в приоритизации гипотез."
   ]
  },
  {
   "cell_type": "markdown",
   "id": "fe0fad1b",
   "metadata": {},
   "source": [
    "## Часть 2. Анализ A/B-теста"
   ]
  },
  {
   "cell_type": "markdown",
   "id": "759e36ad",
   "metadata": {},
   "source": [
    "### Описание данных для второй части\n",
    "**Датасет \"orders\":**\n",
    "- transactionId — идентификатор заказа;\n",
    "- visitorId — идентификатор пользователя, совершившего заказ;\n",
    "- date — дата, когда был совершён заказ;\n",
    "- revenue — выручка заказа;\n",
    "- group — группа A/B-теста, в которую попал заказ.\n",
    "\n",
    "**Датасет \"visitors\":**\n",
    "- date — дата;\n",
    "- group — группа A/B-теста;\n",
    "- visitors — количество пользователей в указанную дату в указанной группе A/B-теста"
   ]
  },
  {
   "cell_type": "markdown",
   "id": "4d369b0e",
   "metadata": {},
   "source": [
    "### План работы по  второй части проекта \n",
    "\n",
    " * Построить графики кумулятивной выручки и кумулятивного среднего чека по группам  \n",
    " - Построить график относительного изменения кумулятивного среднего чека группы B к группе A  \n",
    " * Построить график кумулятивного среднего количества заказов на покупателя по группам\n",
    " - Построить график относительного изменения кумулятивного среднего количества заказов на покупателя группы B к группе A\n",
    " * Построить точечный график количества заказов по покупателям\n",
    " - Посчитать 95-й и 99-й перцентили количества заказов на покупателя. Выбрать границу для определения аномальных пользователей\n",
    " * Построить точечный график стоимостей заказов\n",
    " - Посчитать 95-й и 99-й перцентили стоимости заказов. Выбрать границу для определения аномальных заказов\n",
    " * Посчитать статистическую значимость различий в среднем количестве заказов на посетителя между группами по «сырым» данным\n",
    " - Посчитать статистическую значимость различий в среднем чеке заказа между группами по «сырым» данным\n",
    " * Посчитать статистическую значимость различий в среднем количестве заказов на посетителя между группами по «очищенным» данным\n",
    " - Посчитать статистическую значимость различий в среднем чеке заказа между группами по «очищенным» данным\n",
    " * Принять решение по результатам теста и объяснить его"
   ]
  },
  {
   "cell_type": "markdown",
   "id": "d82607bb",
   "metadata": {},
   "source": [
    "## Часть 1. Приоритизация гипотез"
   ]
  },
  {
   "cell_type": "code",
   "execution_count": 1,
   "id": "a5304bbe",
   "metadata": {},
   "outputs": [],
   "source": [
    "# импортируем библиотеки\n",
    "import pandas as pd\n",
    "import matplotlib.pyplot as plt\n",
    "import numpy as np\n",
    "import scipy.stats as stats\n",
    "import seaborn as sns\n",
    "from skimpy import clean_columns\n",
    "from skimpy import skim"
   ]
  },
  {
   "cell_type": "code",
   "execution_count": 2,
   "id": "f99093dd",
   "metadata": {},
   "outputs": [],
   "source": [
    "import warnings\n",
    "warnings.filterwarnings(\"ignore\")"
   ]
  },
  {
   "cell_type": "code",
   "execution_count": 3,
   "id": "17371794",
   "metadata": {},
   "outputs": [],
   "source": [
    "# устанавливаем ширину столбца\n",
    "pd.options.display.max_colwidth = 130"
   ]
  },
  {
   "cell_type": "code",
   "execution_count": 4,
   "id": "d7f10c74",
   "metadata": {
    "scrolled": true
   },
   "outputs": [
    {
     "data": {
      "text/html": [
       "<div>\n",
       "<style scoped>\n",
       "    .dataframe tbody tr th:only-of-type {\n",
       "        vertical-align: middle;\n",
       "    }\n",
       "\n",
       "    .dataframe tbody tr th {\n",
       "        vertical-align: top;\n",
       "    }\n",
       "\n",
       "    .dataframe thead th {\n",
       "        text-align: right;\n",
       "    }\n",
       "</style>\n",
       "<table border=\"1\" class=\"dataframe\">\n",
       "  <thead>\n",
       "    <tr style=\"text-align: right;\">\n",
       "      <th></th>\n",
       "      <th>Hypothesis</th>\n",
       "      <th>Reach</th>\n",
       "      <th>Impact</th>\n",
       "      <th>Confidence</th>\n",
       "      <th>Efforts</th>\n",
       "    </tr>\n",
       "  </thead>\n",
       "  <tbody>\n",
       "    <tr>\n",
       "      <th>0</th>\n",
       "      <td>Добавить два новых канала привлечения трафика, что позволит привлекать на 30% больше пользователей</td>\n",
       "      <td>3</td>\n",
       "      <td>10</td>\n",
       "      <td>8</td>\n",
       "      <td>6</td>\n",
       "    </tr>\n",
       "    <tr>\n",
       "      <th>1</th>\n",
       "      <td>Запустить собственную службу доставки, что сократит срок доставки заказов</td>\n",
       "      <td>2</td>\n",
       "      <td>5</td>\n",
       "      <td>4</td>\n",
       "      <td>10</td>\n",
       "    </tr>\n",
       "    <tr>\n",
       "      <th>2</th>\n",
       "      <td>Добавить блоки рекомендаций товаров на сайт интернет магазина, чтобы повысить конверсию и средний чек заказа</td>\n",
       "      <td>8</td>\n",
       "      <td>3</td>\n",
       "      <td>7</td>\n",
       "      <td>3</td>\n",
       "    </tr>\n",
       "    <tr>\n",
       "      <th>3</th>\n",
       "      <td>Изменить структура категорий, что увеличит конверсию, т.к. пользователи быстрее найдут нужный товар</td>\n",
       "      <td>8</td>\n",
       "      <td>3</td>\n",
       "      <td>3</td>\n",
       "      <td>8</td>\n",
       "    </tr>\n",
       "    <tr>\n",
       "      <th>4</th>\n",
       "      <td>Изменить цвет фона главной страницы, чтобы увеличить вовлеченность пользователей</td>\n",
       "      <td>3</td>\n",
       "      <td>1</td>\n",
       "      <td>1</td>\n",
       "      <td>1</td>\n",
       "    </tr>\n",
       "  </tbody>\n",
       "</table>\n",
       "</div>"
      ],
      "text/plain": [
       "                                                                                                     Hypothesis  \\\n",
       "0            Добавить два новых канала привлечения трафика, что позволит привлекать на 30% больше пользователей   \n",
       "1                                     Запустить собственную службу доставки, что сократит срок доставки заказов   \n",
       "2  Добавить блоки рекомендаций товаров на сайт интернет магазина, чтобы повысить конверсию и средний чек заказа   \n",
       "3           Изменить структура категорий, что увеличит конверсию, т.к. пользователи быстрее найдут нужный товар   \n",
       "4                              Изменить цвет фона главной страницы, чтобы увеличить вовлеченность пользователей   \n",
       "\n",
       "   Reach  Impact  Confidence  Efforts  \n",
       "0      3      10           8        6  \n",
       "1      2       5           4       10  \n",
       "2      8       3           7        3  \n",
       "3      8       3           3        8  \n",
       "4      3       1           1        1  "
      ]
     },
     "execution_count": 4,
     "metadata": {},
     "output_type": "execute_result"
    }
   ],
   "source": [
    "# загрузим данные\n",
    "try:\n",
    "    hypothesis = pd.read_csv('...csv') \n",
    "except:\n",
    "    hypothesis = pd.read_csv('https://....csv')\n",
    "    \n",
    "hypothesis.head()"
   ]
  },
  {
   "cell_type": "code",
   "execution_count": 5,
   "id": "3548c202",
   "metadata": {},
   "outputs": [
    {
     "data": {
      "text/html": [
       "<pre style=\"white-space:pre;overflow-x:auto;line-height:normal;font-family:Menlo,'DejaVu Sans Mono',consolas,'Courier New',monospace\">╭──────────────────────────────────────────────── skimpy summary ─────────────────────────────────────────────────╮\n",
       "│ <span style=\"font-style: italic\">         Data Summary         </span> <span style=\"font-style: italic\">      Data Types       </span>                                                          │\n",
       "│ ┏━━━━━━━━━━━━━━━━━━━┳━━━━━━━━┓ ┏━━━━━━━━━━━━━┳━━━━━━━┓                                                          │\n",
       "│ ┃<span style=\"color: #008080; text-decoration-color: #008080; font-weight: bold\"> dataframe         </span>┃<span style=\"color: #008080; text-decoration-color: #008080; font-weight: bold\"> Values </span>┃ ┃<span style=\"color: #008080; text-decoration-color: #008080; font-weight: bold\"> Column Type </span>┃<span style=\"color: #008080; text-decoration-color: #008080; font-weight: bold\"> Count </span>┃                                                          │\n",
       "│ ┡━━━━━━━━━━━━━━━━━━━╇━━━━━━━━┩ ┡━━━━━━━━━━━━━╇━━━━━━━┩                                                          │\n",
       "│ │ Number of rows    │ 9      │ │ int32       │ 4     │                                                          │\n",
       "│ │ Number of columns │ 5      │ │ string      │ 1     │                                                          │\n",
       "│ └───────────────────┴────────┘ └─────────────┴───────┘                                                          │\n",
       "│ <span style=\"font-style: italic\">                                                    number                                                    </span>  │\n",
       "│ ┏━━━━━━━━━━━━━━━━━━━━┳━━━━━━┳━━━━━━━━━┳━━━━━━━━━┳━━━━━━━━┳━━━━━━┳━━━━━━━┳━━━━━━━┳━━━━━━━┳━━━━━━━━━┳━━━━━━━━━━┓  │\n",
       "│ ┃<span style=\"font-weight: bold\"> column_name        </span>┃<span style=\"font-weight: bold\"> NA   </span>┃<span style=\"font-weight: bold\"> NA %    </span>┃<span style=\"font-weight: bold\"> mean    </span>┃<span style=\"font-weight: bold\"> sd     </span>┃<span style=\"font-weight: bold\"> p0   </span>┃<span style=\"font-weight: bold\"> p25   </span>┃<span style=\"font-weight: bold\"> p50   </span>┃<span style=\"font-weight: bold\"> p75   </span>┃<span style=\"font-weight: bold\"> p100    </span>┃<span style=\"font-weight: bold\"> hist     </span>┃  │\n",
       "│ ┡━━━━━━━━━━━━━━━━━━━━╇━━━━━━╇━━━━━━━━━╇━━━━━━━━━╇━━━━━━━━╇━━━━━━╇━━━━━━━╇━━━━━━━╇━━━━━━━╇━━━━━━━━━╇━━━━━━━━━━┩  │\n",
       "│ │ <span style=\"color: #af87ff; text-decoration-color: #af87ff\">Reach             </span> │ <span style=\"color: #008080; text-decoration-color: #008080\">   0</span> │ <span style=\"color: #008080; text-decoration-color: #008080\">      0</span> │ <span style=\"color: #008080; text-decoration-color: #008080\">    4.8</span> │ <span style=\"color: #008080; text-decoration-color: #008080\">   3.2</span> │ <span style=\"color: #008080; text-decoration-color: #008080\">   1</span> │ <span style=\"color: #008080; text-decoration-color: #008080\">    3</span> │ <span style=\"color: #008080; text-decoration-color: #008080\">    3</span> │ <span style=\"color: #008080; text-decoration-color: #008080\">    8</span> │ <span style=\"color: #008080; text-decoration-color: #008080\">     10</span> │ <span style=\"color: #008000; text-decoration-color: #008000\"> ▅▇▃ ▅▃ </span> │  │\n",
       "│ │ <span style=\"color: #af87ff; text-decoration-color: #af87ff\">Impact            </span> │ <span style=\"color: #008080; text-decoration-color: #008080\">   0</span> │ <span style=\"color: #008080; text-decoration-color: #008080\">      0</span> │ <span style=\"color: #008080; text-decoration-color: #008080\">    4.8</span> │ <span style=\"color: #008080; text-decoration-color: #008080\">   3.2</span> │ <span style=\"color: #008080; text-decoration-color: #008080\">   1</span> │ <span style=\"color: #008080; text-decoration-color: #008080\">    3</span> │ <span style=\"color: #008080; text-decoration-color: #008080\">    3</span> │ <span style=\"color: #008080; text-decoration-color: #008080\">    7</span> │ <span style=\"color: #008080; text-decoration-color: #008080\">     10</span> │ <span style=\"color: #008000; text-decoration-color: #008000\"> ▅▇▃ ▃▅ </span> │  │\n",
       "│ │ <span style=\"color: #af87ff; text-decoration-color: #af87ff\">Confidence        </span> │ <span style=\"color: #008080; text-decoration-color: #008080\">   0</span> │ <span style=\"color: #008080; text-decoration-color: #008080\">      0</span> │ <span style=\"color: #008080; text-decoration-color: #008080\">    5.6</span> │ <span style=\"color: #008080; text-decoration-color: #008080\">     3</span> │ <span style=\"color: #008080; text-decoration-color: #008080\">   1</span> │ <span style=\"color: #008080; text-decoration-color: #008080\">    3</span> │ <span style=\"color: #008080; text-decoration-color: #008080\">    7</span> │ <span style=\"color: #008080; text-decoration-color: #008080\">    8</span> │ <span style=\"color: #008080; text-decoration-color: #008080\">      9</span> │ <span style=\"color: #008000; text-decoration-color: #008000\"> ▅▂▂ ▂▇ </span> │  │\n",
       "│ │ <span style=\"color: #af87ff; text-decoration-color: #af87ff\">Efforts           </span> │ <span style=\"color: #008080; text-decoration-color: #008080\">   0</span> │ <span style=\"color: #008080; text-decoration-color: #008080\">      0</span> │ <span style=\"color: #008080; text-decoration-color: #008080\">    4.9</span> │ <span style=\"color: #008080; text-decoration-color: #008080\">   2.8</span> │ <span style=\"color: #008080; text-decoration-color: #008080\">   1</span> │ <span style=\"color: #008080; text-decoration-color: #008080\">    3</span> │ <span style=\"color: #008080; text-decoration-color: #008080\">    5</span> │ <span style=\"color: #008080; text-decoration-color: #008080\">    6</span> │ <span style=\"color: #008080; text-decoration-color: #008080\">     10</span> │ <span style=\"color: #008000; text-decoration-color: #008000\"> ▃▇▅▃▃▃ </span> │  │\n",
       "│ └────────────────────┴──────┴─────────┴─────────┴────────┴──────┴───────┴───────┴───────┴─────────┴──────────┘  │\n",
       "│ <span style=\"font-style: italic\">                                                    string                                                    </span>  │\n",
       "│ ┏━━━━━━━━━━━━━━━━━━━━━━━━━━━┳━━━━━━━━━┳━━━━━━━━━━━━┳━━━━━━━━━━━━━━━━━━━━━━━━━━━━━━┳━━━━━━━━━━━━━━━━━━━━━━━━━━┓  │\n",
       "│ ┃<span style=\"font-weight: bold\"> column_name               </span>┃<span style=\"font-weight: bold\"> NA      </span>┃<span style=\"font-weight: bold\"> NA %       </span>┃<span style=\"font-weight: bold\"> words per row                </span>┃<span style=\"font-weight: bold\"> total words              </span>┃  │\n",
       "│ ┡━━━━━━━━━━━━━━━━━━━━━━━━━━━╇━━━━━━━━━╇━━━━━━━━━━━━╇━━━━━━━━━━━━━━━━━━━━━━━━━━━━━━╇━━━━━━━━━━━━━━━━━━━━━━━━━━┩  │\n",
       "│ │ <span style=\"color: #af87ff; text-decoration-color: #af87ff\">Hypothesis               </span> │ <span style=\"color: #008080; text-decoration-color: #008080\">      0</span> │ <span style=\"color: #008080; text-decoration-color: #008080\">         0</span> │ <span style=\"color: #008080; text-decoration-color: #008080\">                          12</span> │ <span style=\"color: #008080; text-decoration-color: #008080\">                     104</span> │  │\n",
       "│ └───────────────────────────┴─────────┴────────────┴──────────────────────────────┴──────────────────────────┘  │\n",
       "╰────────────────────────────────────────────────────── End ──────────────────────────────────────────────────────╯\n",
       "</pre>\n"
      ],
      "text/plain": [
       "╭──────────────────────────────────────────────── skimpy summary ─────────────────────────────────────────────────╮\n",
       "│ \u001b[3m         Data Summary         \u001b[0m \u001b[3m      Data Types       \u001b[0m                                                          │\n",
       "│ ┏━━━━━━━━━━━━━━━━━━━┳━━━━━━━━┓ ┏━━━━━━━━━━━━━┳━━━━━━━┓                                                          │\n",
       "│ ┃\u001b[1;36m \u001b[0m\u001b[1;36mdataframe        \u001b[0m\u001b[1;36m \u001b[0m┃\u001b[1;36m \u001b[0m\u001b[1;36mValues\u001b[0m\u001b[1;36m \u001b[0m┃ ┃\u001b[1;36m \u001b[0m\u001b[1;36mColumn Type\u001b[0m\u001b[1;36m \u001b[0m┃\u001b[1;36m \u001b[0m\u001b[1;36mCount\u001b[0m\u001b[1;36m \u001b[0m┃                                                          │\n",
       "│ ┡━━━━━━━━━━━━━━━━━━━╇━━━━━━━━┩ ┡━━━━━━━━━━━━━╇━━━━━━━┩                                                          │\n",
       "│ │ Number of rows    │ 9      │ │ int32       │ 4     │                                                          │\n",
       "│ │ Number of columns │ 5      │ │ string      │ 1     │                                                          │\n",
       "│ └───────────────────┴────────┘ └─────────────┴───────┘                                                          │\n",
       "│ \u001b[3m                                                    number                                                    \u001b[0m  │\n",
       "│ ┏━━━━━━━━━━━━━━━━━━━━┳━━━━━━┳━━━━━━━━━┳━━━━━━━━━┳━━━━━━━━┳━━━━━━┳━━━━━━━┳━━━━━━━┳━━━━━━━┳━━━━━━━━━┳━━━━━━━━━━┓  │\n",
       "│ ┃\u001b[1m \u001b[0m\u001b[1mcolumn_name       \u001b[0m\u001b[1m \u001b[0m┃\u001b[1m \u001b[0m\u001b[1mNA  \u001b[0m\u001b[1m \u001b[0m┃\u001b[1m \u001b[0m\u001b[1mNA %   \u001b[0m\u001b[1m \u001b[0m┃\u001b[1m \u001b[0m\u001b[1mmean   \u001b[0m\u001b[1m \u001b[0m┃\u001b[1m \u001b[0m\u001b[1msd    \u001b[0m\u001b[1m \u001b[0m┃\u001b[1m \u001b[0m\u001b[1mp0  \u001b[0m\u001b[1m \u001b[0m┃\u001b[1m \u001b[0m\u001b[1mp25  \u001b[0m\u001b[1m \u001b[0m┃\u001b[1m \u001b[0m\u001b[1mp50  \u001b[0m\u001b[1m \u001b[0m┃\u001b[1m \u001b[0m\u001b[1mp75  \u001b[0m\u001b[1m \u001b[0m┃\u001b[1m \u001b[0m\u001b[1mp100   \u001b[0m\u001b[1m \u001b[0m┃\u001b[1m \u001b[0m\u001b[1mhist    \u001b[0m\u001b[1m \u001b[0m┃  │\n",
       "│ ┡━━━━━━━━━━━━━━━━━━━━╇━━━━━━╇━━━━━━━━━╇━━━━━━━━━╇━━━━━━━━╇━━━━━━╇━━━━━━━╇━━━━━━━╇━━━━━━━╇━━━━━━━━━╇━━━━━━━━━━┩  │\n",
       "│ │ \u001b[38;5;141mReach             \u001b[0m │ \u001b[36m   0\u001b[0m │ \u001b[36m      0\u001b[0m │ \u001b[36m    4.8\u001b[0m │ \u001b[36m   3.2\u001b[0m │ \u001b[36m   1\u001b[0m │ \u001b[36m    3\u001b[0m │ \u001b[36m    3\u001b[0m │ \u001b[36m    8\u001b[0m │ \u001b[36m     10\u001b[0m │ \u001b[32m ▅▇▃ ▅▃ \u001b[0m │  │\n",
       "│ │ \u001b[38;5;141mImpact            \u001b[0m │ \u001b[36m   0\u001b[0m │ \u001b[36m      0\u001b[0m │ \u001b[36m    4.8\u001b[0m │ \u001b[36m   3.2\u001b[0m │ \u001b[36m   1\u001b[0m │ \u001b[36m    3\u001b[0m │ \u001b[36m    3\u001b[0m │ \u001b[36m    7\u001b[0m │ \u001b[36m     10\u001b[0m │ \u001b[32m ▅▇▃ ▃▅ \u001b[0m │  │\n",
       "│ │ \u001b[38;5;141mConfidence        \u001b[0m │ \u001b[36m   0\u001b[0m │ \u001b[36m      0\u001b[0m │ \u001b[36m    5.6\u001b[0m │ \u001b[36m     3\u001b[0m │ \u001b[36m   1\u001b[0m │ \u001b[36m    3\u001b[0m │ \u001b[36m    7\u001b[0m │ \u001b[36m    8\u001b[0m │ \u001b[36m      9\u001b[0m │ \u001b[32m ▅▂▂ ▂▇ \u001b[0m │  │\n",
       "│ │ \u001b[38;5;141mEfforts           \u001b[0m │ \u001b[36m   0\u001b[0m │ \u001b[36m      0\u001b[0m │ \u001b[36m    4.9\u001b[0m │ \u001b[36m   2.8\u001b[0m │ \u001b[36m   1\u001b[0m │ \u001b[36m    3\u001b[0m │ \u001b[36m    5\u001b[0m │ \u001b[36m    6\u001b[0m │ \u001b[36m     10\u001b[0m │ \u001b[32m ▃▇▅▃▃▃ \u001b[0m │  │\n",
       "│ └────────────────────┴──────┴─────────┴─────────┴────────┴──────┴───────┴───────┴───────┴─────────┴──────────┘  │\n",
       "│ \u001b[3m                                                    string                                                    \u001b[0m  │\n",
       "│ ┏━━━━━━━━━━━━━━━━━━━━━━━━━━━┳━━━━━━━━━┳━━━━━━━━━━━━┳━━━━━━━━━━━━━━━━━━━━━━━━━━━━━━┳━━━━━━━━━━━━━━━━━━━━━━━━━━┓  │\n",
       "│ ┃\u001b[1m \u001b[0m\u001b[1mcolumn_name              \u001b[0m\u001b[1m \u001b[0m┃\u001b[1m \u001b[0m\u001b[1mNA     \u001b[0m\u001b[1m \u001b[0m┃\u001b[1m \u001b[0m\u001b[1mNA %      \u001b[0m\u001b[1m \u001b[0m┃\u001b[1m \u001b[0m\u001b[1mwords per row               \u001b[0m\u001b[1m \u001b[0m┃\u001b[1m \u001b[0m\u001b[1mtotal words             \u001b[0m\u001b[1m \u001b[0m┃  │\n",
       "│ ┡━━━━━━━━━━━━━━━━━━━━━━━━━━━╇━━━━━━━━━╇━━━━━━━━━━━━╇━━━━━━━━━━━━━━━━━━━━━━━━━━━━━━╇━━━━━━━━━━━━━━━━━━━━━━━━━━┩  │\n",
       "│ │ \u001b[38;5;141mHypothesis               \u001b[0m │ \u001b[36m      0\u001b[0m │ \u001b[36m         0\u001b[0m │ \u001b[36m                          12\u001b[0m │ \u001b[36m                     104\u001b[0m │  │\n",
       "│ └───────────────────────────┴─────────┴────────────┴──────────────────────────────┴──────────────────────────┘  │\n",
       "╰────────────────────────────────────────────────────── End ──────────────────────────────────────────────────────╯\n"
      ]
     },
     "metadata": {},
     "output_type": "display_data"
    }
   ],
   "source": [
    "# получим общую информацию о данных\n",
    "skim(hypothesis)"
   ]
  },
  {
   "cell_type": "code",
   "execution_count": 6,
   "id": "16b7bf62",
   "metadata": {},
   "outputs": [],
   "source": [
    "# изменим заглавные буквы на строчные в наименовании столбцов\n",
    "hypothesis = clean_columns(hypothesis, case='snake', replace=None, remove_accents=True)"
   ]
  },
  {
   "cell_type": "code",
   "execution_count": 7,
   "id": "098c7aeb",
   "metadata": {},
   "outputs": [
    {
     "data": {
      "text/html": [
       "<div>\n",
       "<style scoped>\n",
       "    .dataframe tbody tr th:only-of-type {\n",
       "        vertical-align: middle;\n",
       "    }\n",
       "\n",
       "    .dataframe tbody tr th {\n",
       "        vertical-align: top;\n",
       "    }\n",
       "\n",
       "    .dataframe thead th {\n",
       "        text-align: right;\n",
       "    }\n",
       "</style>\n",
       "<table border=\"1\" class=\"dataframe\">\n",
       "  <thead>\n",
       "    <tr style=\"text-align: right;\">\n",
       "      <th></th>\n",
       "      <th>hypothesis</th>\n",
       "      <th>reach</th>\n",
       "      <th>impact</th>\n",
       "      <th>confidence</th>\n",
       "      <th>efforts</th>\n",
       "      <th>ICE</th>\n",
       "    </tr>\n",
       "  </thead>\n",
       "  <tbody>\n",
       "    <tr>\n",
       "      <th>8</th>\n",
       "      <td>Запустить акцию, дающую скидку на товар в день рождения</td>\n",
       "      <td>1</td>\n",
       "      <td>9</td>\n",
       "      <td>9</td>\n",
       "      <td>5</td>\n",
       "      <td>16.20</td>\n",
       "    </tr>\n",
       "    <tr>\n",
       "      <th>0</th>\n",
       "      <td>Добавить два новых канала привлечения трафика, что позволит привлекать на 30% больше пользователей</td>\n",
       "      <td>3</td>\n",
       "      <td>10</td>\n",
       "      <td>8</td>\n",
       "      <td>6</td>\n",
       "      <td>13.33</td>\n",
       "    </tr>\n",
       "    <tr>\n",
       "      <th>7</th>\n",
       "      <td>Добавить форму подписки на все основные страницы, чтобы собрать базу клиентов для email-рассылок</td>\n",
       "      <td>10</td>\n",
       "      <td>7</td>\n",
       "      <td>8</td>\n",
       "      <td>5</td>\n",
       "      <td>11.20</td>\n",
       "    </tr>\n",
       "    <tr>\n",
       "      <th>6</th>\n",
       "      <td>Показать на главной странице баннеры с актуальными акциями и распродажами, чтобы увеличить конверсию</td>\n",
       "      <td>5</td>\n",
       "      <td>3</td>\n",
       "      <td>8</td>\n",
       "      <td>3</td>\n",
       "      <td>8.00</td>\n",
       "    </tr>\n",
       "    <tr>\n",
       "      <th>2</th>\n",
       "      <td>Добавить блоки рекомендаций товаров на сайт интернет магазина, чтобы повысить конверсию и средний чек заказа</td>\n",
       "      <td>8</td>\n",
       "      <td>3</td>\n",
       "      <td>7</td>\n",
       "      <td>3</td>\n",
       "      <td>7.00</td>\n",
       "    </tr>\n",
       "    <tr>\n",
       "      <th>1</th>\n",
       "      <td>Запустить собственную службу доставки, что сократит срок доставки заказов</td>\n",
       "      <td>2</td>\n",
       "      <td>5</td>\n",
       "      <td>4</td>\n",
       "      <td>10</td>\n",
       "      <td>2.00</td>\n",
       "    </tr>\n",
       "    <tr>\n",
       "      <th>5</th>\n",
       "      <td>Добавить страницу отзывов клиентов о магазине, что позволит увеличить количество заказов</td>\n",
       "      <td>3</td>\n",
       "      <td>2</td>\n",
       "      <td>2</td>\n",
       "      <td>3</td>\n",
       "      <td>1.33</td>\n",
       "    </tr>\n",
       "    <tr>\n",
       "      <th>3</th>\n",
       "      <td>Изменить структура категорий, что увеличит конверсию, т.к. пользователи быстрее найдут нужный товар</td>\n",
       "      <td>8</td>\n",
       "      <td>3</td>\n",
       "      <td>3</td>\n",
       "      <td>8</td>\n",
       "      <td>1.12</td>\n",
       "    </tr>\n",
       "    <tr>\n",
       "      <th>4</th>\n",
       "      <td>Изменить цвет фона главной страницы, чтобы увеличить вовлеченность пользователей</td>\n",
       "      <td>3</td>\n",
       "      <td>1</td>\n",
       "      <td>1</td>\n",
       "      <td>1</td>\n",
       "      <td>1.00</td>\n",
       "    </tr>\n",
       "  </tbody>\n",
       "</table>\n",
       "</div>"
      ],
      "text/plain": [
       "                                                                                                     hypothesis  \\\n",
       "8                                                       Запустить акцию, дающую скидку на товар в день рождения   \n",
       "0            Добавить два новых канала привлечения трафика, что позволит привлекать на 30% больше пользователей   \n",
       "7              Добавить форму подписки на все основные страницы, чтобы собрать базу клиентов для email-рассылок   \n",
       "6          Показать на главной странице баннеры с актуальными акциями и распродажами, чтобы увеличить конверсию   \n",
       "2  Добавить блоки рекомендаций товаров на сайт интернет магазина, чтобы повысить конверсию и средний чек заказа   \n",
       "1                                     Запустить собственную службу доставки, что сократит срок доставки заказов   \n",
       "5                      Добавить страницу отзывов клиентов о магазине, что позволит увеличить количество заказов   \n",
       "3           Изменить структура категорий, что увеличит конверсию, т.к. пользователи быстрее найдут нужный товар   \n",
       "4                              Изменить цвет фона главной страницы, чтобы увеличить вовлеченность пользователей   \n",
       "\n",
       "   reach  impact  confidence  efforts    ICE  \n",
       "8      1       9           9        5  16.20  \n",
       "0      3      10           8        6  13.33  \n",
       "7     10       7           8        5  11.20  \n",
       "6      5       3           8        3   8.00  \n",
       "2      8       3           7        3   7.00  \n",
       "1      2       5           4       10   2.00  \n",
       "5      3       2           2        3   1.33  \n",
       "3      8       3           3        8   1.12  \n",
       "4      3       1           1        1   1.00  "
      ]
     },
     "execution_count": 7,
     "metadata": {},
     "output_type": "execute_result"
    }
   ],
   "source": [
    "# приоритизируем гипотезы с помощью фреймворка ICE\n",
    "hypothesis['ICE'] = round(\n",
    "                         (hypothesis['impact'] * hypothesis['confidence']) / hypothesis['efforts'], 2\n",
    "                         )\n",
    "\n",
    "hypothesis.sort_values(by='ICE', ascending=False)"
   ]
  },
  {
   "cell_type": "code",
   "execution_count": 8,
   "id": "b24effd4",
   "metadata": {
    "scrolled": true
   },
   "outputs": [
    {
     "data": {
      "text/html": [
       "<div>\n",
       "<style scoped>\n",
       "    .dataframe tbody tr th:only-of-type {\n",
       "        vertical-align: middle;\n",
       "    }\n",
       "\n",
       "    .dataframe tbody tr th {\n",
       "        vertical-align: top;\n",
       "    }\n",
       "\n",
       "    .dataframe thead th {\n",
       "        text-align: right;\n",
       "    }\n",
       "</style>\n",
       "<table border=\"1\" class=\"dataframe\">\n",
       "  <thead>\n",
       "    <tr style=\"text-align: right;\">\n",
       "      <th></th>\n",
       "      <th>hypothesis</th>\n",
       "      <th>reach</th>\n",
       "      <th>impact</th>\n",
       "      <th>confidence</th>\n",
       "      <th>efforts</th>\n",
       "      <th>ICE</th>\n",
       "      <th>RICE</th>\n",
       "    </tr>\n",
       "  </thead>\n",
       "  <tbody>\n",
       "    <tr>\n",
       "      <th>7</th>\n",
       "      <td>Добавить форму подписки на все основные страницы, чтобы собрать базу клиентов для email-рассылок</td>\n",
       "      <td>10</td>\n",
       "      <td>7</td>\n",
       "      <td>8</td>\n",
       "      <td>5</td>\n",
       "      <td>11.20</td>\n",
       "      <td>112.0</td>\n",
       "    </tr>\n",
       "    <tr>\n",
       "      <th>2</th>\n",
       "      <td>Добавить блоки рекомендаций товаров на сайт интернет магазина, чтобы повысить конверсию и средний чек заказа</td>\n",
       "      <td>8</td>\n",
       "      <td>3</td>\n",
       "      <td>7</td>\n",
       "      <td>3</td>\n",
       "      <td>7.00</td>\n",
       "      <td>56.0</td>\n",
       "    </tr>\n",
       "    <tr>\n",
       "      <th>0</th>\n",
       "      <td>Добавить два новых канала привлечения трафика, что позволит привлекать на 30% больше пользователей</td>\n",
       "      <td>3</td>\n",
       "      <td>10</td>\n",
       "      <td>8</td>\n",
       "      <td>6</td>\n",
       "      <td>13.33</td>\n",
       "      <td>40.0</td>\n",
       "    </tr>\n",
       "    <tr>\n",
       "      <th>6</th>\n",
       "      <td>Показать на главной странице баннеры с актуальными акциями и распродажами, чтобы увеличить конверсию</td>\n",
       "      <td>5</td>\n",
       "      <td>3</td>\n",
       "      <td>8</td>\n",
       "      <td>3</td>\n",
       "      <td>8.00</td>\n",
       "      <td>40.0</td>\n",
       "    </tr>\n",
       "    <tr>\n",
       "      <th>8</th>\n",
       "      <td>Запустить акцию, дающую скидку на товар в день рождения</td>\n",
       "      <td>1</td>\n",
       "      <td>9</td>\n",
       "      <td>9</td>\n",
       "      <td>5</td>\n",
       "      <td>16.20</td>\n",
       "      <td>16.2</td>\n",
       "    </tr>\n",
       "    <tr>\n",
       "      <th>3</th>\n",
       "      <td>Изменить структура категорий, что увеличит конверсию, т.к. пользователи быстрее найдут нужный товар</td>\n",
       "      <td>8</td>\n",
       "      <td>3</td>\n",
       "      <td>3</td>\n",
       "      <td>8</td>\n",
       "      <td>1.12</td>\n",
       "      <td>9.0</td>\n",
       "    </tr>\n",
       "    <tr>\n",
       "      <th>1</th>\n",
       "      <td>Запустить собственную службу доставки, что сократит срок доставки заказов</td>\n",
       "      <td>2</td>\n",
       "      <td>5</td>\n",
       "      <td>4</td>\n",
       "      <td>10</td>\n",
       "      <td>2.00</td>\n",
       "      <td>4.0</td>\n",
       "    </tr>\n",
       "    <tr>\n",
       "      <th>5</th>\n",
       "      <td>Добавить страницу отзывов клиентов о магазине, что позволит увеличить количество заказов</td>\n",
       "      <td>3</td>\n",
       "      <td>2</td>\n",
       "      <td>2</td>\n",
       "      <td>3</td>\n",
       "      <td>1.33</td>\n",
       "      <td>4.0</td>\n",
       "    </tr>\n",
       "    <tr>\n",
       "      <th>4</th>\n",
       "      <td>Изменить цвет фона главной страницы, чтобы увеличить вовлеченность пользователей</td>\n",
       "      <td>3</td>\n",
       "      <td>1</td>\n",
       "      <td>1</td>\n",
       "      <td>1</td>\n",
       "      <td>1.00</td>\n",
       "      <td>3.0</td>\n",
       "    </tr>\n",
       "  </tbody>\n",
       "</table>\n",
       "</div>"
      ],
      "text/plain": [
       "                                                                                                     hypothesis  \\\n",
       "7              Добавить форму подписки на все основные страницы, чтобы собрать базу клиентов для email-рассылок   \n",
       "2  Добавить блоки рекомендаций товаров на сайт интернет магазина, чтобы повысить конверсию и средний чек заказа   \n",
       "0            Добавить два новых канала привлечения трафика, что позволит привлекать на 30% больше пользователей   \n",
       "6          Показать на главной странице баннеры с актуальными акциями и распродажами, чтобы увеличить конверсию   \n",
       "8                                                       Запустить акцию, дающую скидку на товар в день рождения   \n",
       "3           Изменить структура категорий, что увеличит конверсию, т.к. пользователи быстрее найдут нужный товар   \n",
       "1                                     Запустить собственную службу доставки, что сократит срок доставки заказов   \n",
       "5                      Добавить страницу отзывов клиентов о магазине, что позволит увеличить количество заказов   \n",
       "4                              Изменить цвет фона главной страницы, чтобы увеличить вовлеченность пользователей   \n",
       "\n",
       "   reach  impact  confidence  efforts    ICE   RICE  \n",
       "7     10       7           8        5  11.20  112.0  \n",
       "2      8       3           7        3   7.00   56.0  \n",
       "0      3      10           8        6  13.33   40.0  \n",
       "6      5       3           8        3   8.00   40.0  \n",
       "8      1       9           9        5  16.20   16.2  \n",
       "3      8       3           3        8   1.12    9.0  \n",
       "1      2       5           4       10   2.00    4.0  \n",
       "5      3       2           2        3   1.33    4.0  \n",
       "4      3       1           1        1   1.00    3.0  "
      ]
     },
     "execution_count": 8,
     "metadata": {},
     "output_type": "execute_result"
    }
   ],
   "source": [
    "# приоритизируем гипотезы с помощью фреймворка RICE\n",
    "hypothesis['RICE'] = (hypothesis['reach'] * hypothesis['impact'] * hypothesis['confidence']) / hypothesis['efforts']  \n",
    "\n",
    "hypothesis.sort_values(by='RICE', ascending=False)"
   ]
  },
  {
   "cell_type": "markdown",
   "id": "4f5f3007",
   "metadata": {},
   "source": [
    "### Выводы\n",
    "Приоритет гипотез по фреймворкам ICE и RICE различается. Это связано с тем, что RICE учитывает охват пользователей, а ICE - нет. Соответственно RICE больше приоритезирует гипотезы с большим охватом, так по ICE гиптеза **Запустить акцию, дающую скидку на товар в день рождения** была на 1-м месте, а по RICE она оказалась на 5-м месте."
   ]
  },
  {
   "cell_type": "markdown",
   "id": "1b1deda7",
   "metadata": {},
   "source": [
    "## Часть 2. Анализ A/B-теста"
   ]
  },
  {
   "cell_type": "markdown",
   "id": "0f1f49b4",
   "metadata": {},
   "source": [
    "### Загрузка и предобработка данных"
   ]
  },
  {
   "cell_type": "code",
   "execution_count": 9,
   "id": "ef227cda",
   "metadata": {},
   "outputs": [
    {
     "data": {
      "text/html": [
       "<div>\n",
       "<style scoped>\n",
       "    .dataframe tbody tr th:only-of-type {\n",
       "        vertical-align: middle;\n",
       "    }\n",
       "\n",
       "    .dataframe tbody tr th {\n",
       "        vertical-align: top;\n",
       "    }\n",
       "\n",
       "    .dataframe thead th {\n",
       "        text-align: right;\n",
       "    }\n",
       "</style>\n",
       "<table border=\"1\" class=\"dataframe\">\n",
       "  <thead>\n",
       "    <tr style=\"text-align: right;\">\n",
       "      <th></th>\n",
       "      <th>transactionId</th>\n",
       "      <th>visitorId</th>\n",
       "      <th>date</th>\n",
       "      <th>revenue</th>\n",
       "      <th>group</th>\n",
       "    </tr>\n",
       "  </thead>\n",
       "  <tbody>\n",
       "    <tr>\n",
       "      <th>0</th>\n",
       "      <td>3667963787</td>\n",
       "      <td>3312258926</td>\n",
       "      <td>2019-08-15</td>\n",
       "      <td>1650</td>\n",
       "      <td>B</td>\n",
       "    </tr>\n",
       "    <tr>\n",
       "      <th>1</th>\n",
       "      <td>2804400009</td>\n",
       "      <td>3642806036</td>\n",
       "      <td>2019-08-15</td>\n",
       "      <td>730</td>\n",
       "      <td>B</td>\n",
       "    </tr>\n",
       "    <tr>\n",
       "      <th>2</th>\n",
       "      <td>2961555356</td>\n",
       "      <td>4069496402</td>\n",
       "      <td>2019-08-15</td>\n",
       "      <td>400</td>\n",
       "      <td>A</td>\n",
       "    </tr>\n",
       "    <tr>\n",
       "      <th>3</th>\n",
       "      <td>3797467345</td>\n",
       "      <td>1196621759</td>\n",
       "      <td>2019-08-15</td>\n",
       "      <td>9759</td>\n",
       "      <td>B</td>\n",
       "    </tr>\n",
       "    <tr>\n",
       "      <th>4</th>\n",
       "      <td>2282983706</td>\n",
       "      <td>2322279887</td>\n",
       "      <td>2019-08-15</td>\n",
       "      <td>2308</td>\n",
       "      <td>B</td>\n",
       "    </tr>\n",
       "  </tbody>\n",
       "</table>\n",
       "</div>"
      ],
      "text/plain": [
       "   transactionId   visitorId       date  revenue group\n",
       "0     3667963787  3312258926 2019-08-15     1650     B\n",
       "1     2804400009  3642806036 2019-08-15      730     B\n",
       "2     2961555356  4069496402 2019-08-15      400     A\n",
       "3     3797467345  1196621759 2019-08-15     9759     B\n",
       "4     2282983706  2322279887 2019-08-15     2308     B"
      ]
     },
     "execution_count": 9,
     "metadata": {},
     "output_type": "execute_result"
    }
   ],
   "source": [
    "# загрузим данные\n",
    "try:\n",
    "    orders = pd.read_csv('....csv', parse_dates=['date']) \n",
    "except:\n",
    "    orders = pd.read_csv('....csv', parse_dates=['date'])\n",
    "orders.head()"
   ]
  },
  {
   "cell_type": "code",
   "execution_count": 10,
   "id": "10e146d0",
   "metadata": {},
   "outputs": [
    {
     "data": {
      "text/html": [
       "<div>\n",
       "<style scoped>\n",
       "    .dataframe tbody tr th:only-of-type {\n",
       "        vertical-align: middle;\n",
       "    }\n",
       "\n",
       "    .dataframe tbody tr th {\n",
       "        vertical-align: top;\n",
       "    }\n",
       "\n",
       "    .dataframe thead th {\n",
       "        text-align: right;\n",
       "    }\n",
       "</style>\n",
       "<table border=\"1\" class=\"dataframe\">\n",
       "  <thead>\n",
       "    <tr style=\"text-align: right;\">\n",
       "      <th></th>\n",
       "      <th>date</th>\n",
       "      <th>group</th>\n",
       "      <th>visitors</th>\n",
       "    </tr>\n",
       "  </thead>\n",
       "  <tbody>\n",
       "    <tr>\n",
       "      <th>0</th>\n",
       "      <td>2019-08-01</td>\n",
       "      <td>A</td>\n",
       "      <td>719</td>\n",
       "    </tr>\n",
       "    <tr>\n",
       "      <th>1</th>\n",
       "      <td>2019-08-02</td>\n",
       "      <td>A</td>\n",
       "      <td>619</td>\n",
       "    </tr>\n",
       "    <tr>\n",
       "      <th>2</th>\n",
       "      <td>2019-08-03</td>\n",
       "      <td>A</td>\n",
       "      <td>507</td>\n",
       "    </tr>\n",
       "    <tr>\n",
       "      <th>3</th>\n",
       "      <td>2019-08-04</td>\n",
       "      <td>A</td>\n",
       "      <td>717</td>\n",
       "    </tr>\n",
       "    <tr>\n",
       "      <th>4</th>\n",
       "      <td>2019-08-05</td>\n",
       "      <td>A</td>\n",
       "      <td>756</td>\n",
       "    </tr>\n",
       "  </tbody>\n",
       "</table>\n",
       "</div>"
      ],
      "text/plain": [
       "        date group  visitors\n",
       "0 2019-08-01     A       719\n",
       "1 2019-08-02     A       619\n",
       "2 2019-08-03     A       507\n",
       "3 2019-08-04     A       717\n",
       "4 2019-08-05     A       756"
      ]
     },
     "execution_count": 10,
     "metadata": {},
     "output_type": "execute_result"
    }
   ],
   "source": [
    "# загрузим данные\n",
    "try:\n",
    "    visitors = pd.read_csv('visitors.csv', parse_dates=['date']) \n",
    "except:\n",
    "    visitors = pd.read_csv('https://code.s3.yandex.net/datasets/visitors.csv', parse_dates=['date'])\n",
    "visitors.head()"
   ]
  },
  {
   "cell_type": "code",
   "execution_count": 11,
   "id": "7d6955f7",
   "metadata": {},
   "outputs": [],
   "source": [
    "# изменим написание наименований столбцов на \"змеиный\" стиль\n",
    "# orders.columns = ['transaction_id', 'visitor_id', 'date', 'revenue', 'group']\n",
    "\n",
    "orders = clean_columns(orders, case='snake', replace=None, remove_accents=True)"
   ]
  },
  {
   "cell_type": "code",
   "execution_count": 12,
   "id": "0f0970bd",
   "metadata": {},
   "outputs": [
    {
     "data": {
      "text/plain": [
       "Index(['transaction_id', 'visitor_id', 'date', 'revenue', 'group'], dtype='object')"
      ]
     },
     "execution_count": 12,
     "metadata": {},
     "output_type": "execute_result"
    }
   ],
   "source": [
    "orders.columns"
   ]
  },
  {
   "cell_type": "code",
   "execution_count": 13,
   "id": "40f8d673",
   "metadata": {},
   "outputs": [
    {
     "data": {
      "text/html": [
       "<pre style=\"white-space:pre;overflow-x:auto;line-height:normal;font-family:Menlo,'DejaVu Sans Mono',consolas,'Courier New',monospace\">╭──────────────────────────────────────────────── skimpy summary ─────────────────────────────────────────────────╮\n",
       "│ <span style=\"font-style: italic\">         Data Summary         </span> <span style=\"font-style: italic\">      Data Types       </span>                                                          │\n",
       "│ ┏━━━━━━━━━━━━━━━━━━━┳━━━━━━━━┓ ┏━━━━━━━━━━━━━┳━━━━━━━┓                                                          │\n",
       "│ ┃<span style=\"color: #008080; text-decoration-color: #008080; font-weight: bold\"> dataframe         </span>┃<span style=\"color: #008080; text-decoration-color: #008080; font-weight: bold\"> Values </span>┃ ┃<span style=\"color: #008080; text-decoration-color: #008080; font-weight: bold\"> Column Type </span>┃<span style=\"color: #008080; text-decoration-color: #008080; font-weight: bold\"> Count </span>┃                                                          │\n",
       "│ ┡━━━━━━━━━━━━━━━━━━━╇━━━━━━━━┩ ┡━━━━━━━━━━━━━╇━━━━━━━┩                                                          │\n",
       "│ │ Number of rows    │ 1197   │ │ int32       │ 3     │                                                          │\n",
       "│ │ Number of columns │ 5      │ │ datetime64  │ 1     │                                                          │\n",
       "│ └───────────────────┴────────┘ │ string      │ 1     │                                                          │\n",
       "│                                └─────────────┴───────┘                                                          │\n",
       "│ <span style=\"font-style: italic\">                                                    number                                                    </span>  │\n",
       "│ ┏━━━━━━━━━━┳━━━━┳━━━━━━┳━━━━━━━━━━┳━━━━━━━━━━┳━━━━━━━━━━┳━━━━━━━━━━┳━━━━━━━━━━┳━━━━━━━━━━┳━━━━━━━━━━┳━━━━━━━━┓  │\n",
       "│ ┃<span style=\"font-weight: bold\"> column_n </span>┃<span style=\"font-weight: bold\">    </span>┃<span style=\"font-weight: bold\">      </span>┃<span style=\"font-weight: bold\">          </span>┃<span style=\"font-weight: bold\">          </span>┃<span style=\"font-weight: bold\">          </span>┃<span style=\"font-weight: bold\">          </span>┃<span style=\"font-weight: bold\">          </span>┃<span style=\"font-weight: bold\">          </span>┃<span style=\"font-weight: bold\">          </span>┃<span style=\"font-weight: bold\">        </span>┃  │\n",
       "│ ┃<span style=\"font-weight: bold\"> ame      </span>┃<span style=\"font-weight: bold\"> NA </span>┃<span style=\"font-weight: bold\"> NA % </span>┃<span style=\"font-weight: bold\"> mean     </span>┃<span style=\"font-weight: bold\"> sd       </span>┃<span style=\"font-weight: bold\"> p0       </span>┃<span style=\"font-weight: bold\"> p25      </span>┃<span style=\"font-weight: bold\"> p50      </span>┃<span style=\"font-weight: bold\"> p75      </span>┃<span style=\"font-weight: bold\"> p100     </span>┃<span style=\"font-weight: bold\"> hist   </span>┃  │\n",
       "│ ┡━━━━━━━━━━╇━━━━╇━━━━━━╇━━━━━━━━━━╇━━━━━━━━━━╇━━━━━━━━━━╇━━━━━━━━━━╇━━━━━━━━━━╇━━━━━━━━━━╇━━━━━━━━━━╇━━━━━━━━┩  │\n",
       "│ │ <span style=\"color: #af87ff; text-decoration-color: #af87ff\">transact</span> │ <span style=\"color: #008080; text-decoration-color: #008080\"> 0</span> │ <span style=\"color: #008080; text-decoration-color: #008080\">   0</span> │ <span style=\"color: #008080; text-decoration-color: #008080\">14000000</span> │ <span style=\"color: #008080; text-decoration-color: #008080\">13000000</span> │ <span style=\"color: #008080; text-decoration-color: #008080\">-2100000</span> │ <span style=\"color: #008080; text-decoration-color: #008080\">-1100000</span> │ <span style=\"color: #008080; text-decoration-color: #008080\"> 4900000</span> │ <span style=\"color: #008080; text-decoration-color: #008080\">12000000</span> │ <span style=\"color: #008080; text-decoration-color: #008080\">21000000</span> │ <span style=\"color: #008000; text-decoration-color: #008000\">▇▇▇▇▇▇</span> │  │\n",
       "│ │ <span style=\"color: #af87ff; text-decoration-color: #af87ff\">ion_id  </span> │    │      │          │ <span style=\"color: #008080; text-decoration-color: #008080\">      00</span> │ <span style=\"color: #008080; text-decoration-color: #008080\">     000</span> │ <span style=\"color: #008080; text-decoration-color: #008080\">     000</span> │          │ <span style=\"color: #008080; text-decoration-color: #008080\">      00</span> │ <span style=\"color: #008080; text-decoration-color: #008080\">      00</span> │        │  │\n",
       "│ │ <span style=\"color: #af87ff; text-decoration-color: #af87ff\">visitor_</span> │ <span style=\"color: #008080; text-decoration-color: #008080\"> 0</span> │ <span style=\"color: #008080; text-decoration-color: #008080\">   0</span> │ <span style=\"color: #008080; text-decoration-color: #008080\">-3400000</span> │ <span style=\"color: #008080; text-decoration-color: #008080\">13000000</span> │ <span style=\"color: #008080; text-decoration-color: #008080\">-2100000</span> │ <span style=\"color: #008080; text-decoration-color: #008080\">-1200000</span> │ <span style=\"color: #008080; text-decoration-color: #008080\">-3900000</span> │ <span style=\"color: #008080; text-decoration-color: #008080\">10000000</span> │ <span style=\"color: #008080; text-decoration-color: #008080\">21000000</span> │ <span style=\"color: #008000; text-decoration-color: #008000\">▇▇▇▇▇▇</span> │  │\n",
       "│ │ <span style=\"color: #af87ff; text-decoration-color: #af87ff\">id      </span> │    │      │ <span style=\"color: #008080; text-decoration-color: #008080\">       0</span> │ <span style=\"color: #008080; text-decoration-color: #008080\">      00</span> │ <span style=\"color: #008080; text-decoration-color: #008080\">     000</span> │ <span style=\"color: #008080; text-decoration-color: #008080\">     000</span> │ <span style=\"color: #008080; text-decoration-color: #008080\">       0</span> │ <span style=\"color: #008080; text-decoration-color: #008080\">      00</span> │ <span style=\"color: #008080; text-decoration-color: #008080\">      00</span> │        │  │\n",
       "│ │ <span style=\"color: #af87ff; text-decoration-color: #af87ff\">revenue </span> │ <span style=\"color: #008080; text-decoration-color: #008080\"> 0</span> │ <span style=\"color: #008080; text-decoration-color: #008080\">   0</span> │ <span style=\"color: #008080; text-decoration-color: #008080\">    8300</span> │ <span style=\"color: #008080; text-decoration-color: #008080\">   39000</span> │ <span style=\"color: #008080; text-decoration-color: #008080\">      50</span> │ <span style=\"color: #008080; text-decoration-color: #008080\">    1200</span> │ <span style=\"color: #008080; text-decoration-color: #008080\">    3000</span> │ <span style=\"color: #008080; text-decoration-color: #008080\">    8300</span> │ <span style=\"color: #008080; text-decoration-color: #008080\"> 1300000</span> │ <span style=\"color: #008000; text-decoration-color: #008000\">  ▇   </span> │  │\n",
       "│ └──────────┴────┴──────┴──────────┴──────────┴──────────┴──────────┴──────────┴──────────┴──────────┴────────┘  │\n",
       "│ <span style=\"font-style: italic\">                                                   datetime                                                   </span>  │\n",
       "│ ┏━━━━━━━━━━━━━━━━━━━━━━━━┳━━━━━━━━┳━━━━━━━━━━━┳━━━━━━━━━━━━━━━━━━━━━┳━━━━━━━━━━━━━━━━━━━━━┳━━━━━━━━━━━━━━━━━━┓  │\n",
       "│ ┃<span style=\"font-weight: bold\"> column_name            </span>┃<span style=\"font-weight: bold\"> NA     </span>┃<span style=\"font-weight: bold\"> NA %      </span>┃<span style=\"font-weight: bold\"> first               </span>┃<span style=\"font-weight: bold\"> last                </span>┃<span style=\"font-weight: bold\"> frequency        </span>┃  │\n",
       "│ ┡━━━━━━━━━━━━━━━━━━━━━━━━╇━━━━━━━━╇━━━━━━━━━━━╇━━━━━━━━━━━━━━━━━━━━━╇━━━━━━━━━━━━━━━━━━━━━╇━━━━━━━━━━━━━━━━━━┩  │\n",
       "│ │ <span style=\"color: #af87ff; text-decoration-color: #af87ff\">date                  </span> │ <span style=\"color: #008080; text-decoration-color: #008080\">     0</span> │ <span style=\"color: #008080; text-decoration-color: #008080\">        0</span> │ <span style=\"color: #800000; text-decoration-color: #800000\">    2019-08-01     </span> │ <span style=\"color: #800000; text-decoration-color: #800000\">    2019-08-31     </span> │ <span style=\"color: #af87ff; text-decoration-color: #af87ff\">None            </span> │  │\n",
       "│ └────────────────────────┴────────┴───────────┴─────────────────────┴─────────────────────┴──────────────────┘  │\n",
       "│ <span style=\"font-style: italic\">                                                    string                                                    </span>  │\n",
       "│ ┏━━━━━━━━━━━━━━━━━━━━━━━━━━━┳━━━━━━━━━┳━━━━━━━━━━━━┳━━━━━━━━━━━━━━━━━━━━━━━━━━━━━━┳━━━━━━━━━━━━━━━━━━━━━━━━━━┓  │\n",
       "│ ┃<span style=\"font-weight: bold\"> column_name               </span>┃<span style=\"font-weight: bold\"> NA      </span>┃<span style=\"font-weight: bold\"> NA %       </span>┃<span style=\"font-weight: bold\"> words per row                </span>┃<span style=\"font-weight: bold\"> total words              </span>┃  │\n",
       "│ ┡━━━━━━━━━━━━━━━━━━━━━━━━━━━╇━━━━━━━━━╇━━━━━━━━━━━━╇━━━━━━━━━━━━━━━━━━━━━━━━━━━━━━╇━━━━━━━━━━━━━━━━━━━━━━━━━━┩  │\n",
       "│ │ <span style=\"color: #af87ff; text-decoration-color: #af87ff\">group                    </span> │ <span style=\"color: #008080; text-decoration-color: #008080\">      0</span> │ <span style=\"color: #008080; text-decoration-color: #008080\">         0</span> │ <span style=\"color: #008080; text-decoration-color: #008080\">                           1</span> │ <span style=\"color: #008080; text-decoration-color: #008080\">                    1197</span> │  │\n",
       "│ └───────────────────────────┴─────────┴────────────┴──────────────────────────────┴──────────────────────────┘  │\n",
       "╰────────────────────────────────────────────────────── End ──────────────────────────────────────────────────────╯\n",
       "</pre>\n"
      ],
      "text/plain": [
       "╭──────────────────────────────────────────────── skimpy summary ─────────────────────────────────────────────────╮\n",
       "│ \u001b[3m         Data Summary         \u001b[0m \u001b[3m      Data Types       \u001b[0m                                                          │\n",
       "│ ┏━━━━━━━━━━━━━━━━━━━┳━━━━━━━━┓ ┏━━━━━━━━━━━━━┳━━━━━━━┓                                                          │\n",
       "│ ┃\u001b[1;36m \u001b[0m\u001b[1;36mdataframe        \u001b[0m\u001b[1;36m \u001b[0m┃\u001b[1;36m \u001b[0m\u001b[1;36mValues\u001b[0m\u001b[1;36m \u001b[0m┃ ┃\u001b[1;36m \u001b[0m\u001b[1;36mColumn Type\u001b[0m\u001b[1;36m \u001b[0m┃\u001b[1;36m \u001b[0m\u001b[1;36mCount\u001b[0m\u001b[1;36m \u001b[0m┃                                                          │\n",
       "│ ┡━━━━━━━━━━━━━━━━━━━╇━━━━━━━━┩ ┡━━━━━━━━━━━━━╇━━━━━━━┩                                                          │\n",
       "│ │ Number of rows    │ 1197   │ │ int32       │ 3     │                                                          │\n",
       "│ │ Number of columns │ 5      │ │ datetime64  │ 1     │                                                          │\n",
       "│ └───────────────────┴────────┘ │ string      │ 1     │                                                          │\n",
       "│                                └─────────────┴───────┘                                                          │\n",
       "│ \u001b[3m                                                    number                                                    \u001b[0m  │\n",
       "│ ┏━━━━━━━━━━┳━━━━┳━━━━━━┳━━━━━━━━━━┳━━━━━━━━━━┳━━━━━━━━━━┳━━━━━━━━━━┳━━━━━━━━━━┳━━━━━━━━━━┳━━━━━━━━━━┳━━━━━━━━┓  │\n",
       "│ ┃\u001b[1m \u001b[0m\u001b[1mcolumn_n\u001b[0m\u001b[1m \u001b[0m┃\u001b[1m    \u001b[0m┃\u001b[1m      \u001b[0m┃\u001b[1m          \u001b[0m┃\u001b[1m          \u001b[0m┃\u001b[1m          \u001b[0m┃\u001b[1m          \u001b[0m┃\u001b[1m          \u001b[0m┃\u001b[1m          \u001b[0m┃\u001b[1m          \u001b[0m┃\u001b[1m        \u001b[0m┃  │\n",
       "│ ┃\u001b[1m \u001b[0m\u001b[1mame     \u001b[0m\u001b[1m \u001b[0m┃\u001b[1m \u001b[0m\u001b[1mNA\u001b[0m\u001b[1m \u001b[0m┃\u001b[1m \u001b[0m\u001b[1mNA %\u001b[0m\u001b[1m \u001b[0m┃\u001b[1m \u001b[0m\u001b[1mmean    \u001b[0m\u001b[1m \u001b[0m┃\u001b[1m \u001b[0m\u001b[1msd      \u001b[0m\u001b[1m \u001b[0m┃\u001b[1m \u001b[0m\u001b[1mp0      \u001b[0m\u001b[1m \u001b[0m┃\u001b[1m \u001b[0m\u001b[1mp25     \u001b[0m\u001b[1m \u001b[0m┃\u001b[1m \u001b[0m\u001b[1mp50     \u001b[0m\u001b[1m \u001b[0m┃\u001b[1m \u001b[0m\u001b[1mp75     \u001b[0m\u001b[1m \u001b[0m┃\u001b[1m \u001b[0m\u001b[1mp100    \u001b[0m\u001b[1m \u001b[0m┃\u001b[1m \u001b[0m\u001b[1mhist  \u001b[0m\u001b[1m \u001b[0m┃  │\n",
       "│ ┡━━━━━━━━━━╇━━━━╇━━━━━━╇━━━━━━━━━━╇━━━━━━━━━━╇━━━━━━━━━━╇━━━━━━━━━━╇━━━━━━━━━━╇━━━━━━━━━━╇━━━━━━━━━━╇━━━━━━━━┩  │\n",
       "│ │ \u001b[38;5;141mtransact\u001b[0m │ \u001b[36m 0\u001b[0m │ \u001b[36m   0\u001b[0m │ \u001b[36m14000000\u001b[0m │ \u001b[36m13000000\u001b[0m │ \u001b[36m-2100000\u001b[0m │ \u001b[36m-1100000\u001b[0m │ \u001b[36m 4900000\u001b[0m │ \u001b[36m12000000\u001b[0m │ \u001b[36m21000000\u001b[0m │ \u001b[32m▇▇▇▇▇▇\u001b[0m │  │\n",
       "│ │ \u001b[38;5;141mion_id  \u001b[0m │    │      │          │ \u001b[36m      00\u001b[0m │ \u001b[36m     000\u001b[0m │ \u001b[36m     000\u001b[0m │          │ \u001b[36m      00\u001b[0m │ \u001b[36m      00\u001b[0m │        │  │\n",
       "│ │ \u001b[38;5;141mvisitor_\u001b[0m │ \u001b[36m 0\u001b[0m │ \u001b[36m   0\u001b[0m │ \u001b[36m-3400000\u001b[0m │ \u001b[36m13000000\u001b[0m │ \u001b[36m-2100000\u001b[0m │ \u001b[36m-1200000\u001b[0m │ \u001b[36m-3900000\u001b[0m │ \u001b[36m10000000\u001b[0m │ \u001b[36m21000000\u001b[0m │ \u001b[32m▇▇▇▇▇▇\u001b[0m │  │\n",
       "│ │ \u001b[38;5;141mid      \u001b[0m │    │      │ \u001b[36m       0\u001b[0m │ \u001b[36m      00\u001b[0m │ \u001b[36m     000\u001b[0m │ \u001b[36m     000\u001b[0m │ \u001b[36m       0\u001b[0m │ \u001b[36m      00\u001b[0m │ \u001b[36m      00\u001b[0m │        │  │\n",
       "│ │ \u001b[38;5;141mrevenue \u001b[0m │ \u001b[36m 0\u001b[0m │ \u001b[36m   0\u001b[0m │ \u001b[36m    8300\u001b[0m │ \u001b[36m   39000\u001b[0m │ \u001b[36m      50\u001b[0m │ \u001b[36m    1200\u001b[0m │ \u001b[36m    3000\u001b[0m │ \u001b[36m    8300\u001b[0m │ \u001b[36m 1300000\u001b[0m │ \u001b[32m  ▇   \u001b[0m │  │\n",
       "│ └──────────┴────┴──────┴──────────┴──────────┴──────────┴──────────┴──────────┴──────────┴──────────┴────────┘  │\n",
       "│ \u001b[3m                                                   datetime                                                   \u001b[0m  │\n",
       "│ ┏━━━━━━━━━━━━━━━━━━━━━━━━┳━━━━━━━━┳━━━━━━━━━━━┳━━━━━━━━━━━━━━━━━━━━━┳━━━━━━━━━━━━━━━━━━━━━┳━━━━━━━━━━━━━━━━━━┓  │\n",
       "│ ┃\u001b[1m \u001b[0m\u001b[1mcolumn_name           \u001b[0m\u001b[1m \u001b[0m┃\u001b[1m \u001b[0m\u001b[1mNA    \u001b[0m\u001b[1m \u001b[0m┃\u001b[1m \u001b[0m\u001b[1mNA %     \u001b[0m\u001b[1m \u001b[0m┃\u001b[1m \u001b[0m\u001b[1mfirst              \u001b[0m\u001b[1m \u001b[0m┃\u001b[1m \u001b[0m\u001b[1mlast               \u001b[0m\u001b[1m \u001b[0m┃\u001b[1m \u001b[0m\u001b[1mfrequency       \u001b[0m\u001b[1m \u001b[0m┃  │\n",
       "│ ┡━━━━━━━━━━━━━━━━━━━━━━━━╇━━━━━━━━╇━━━━━━━━━━━╇━━━━━━━━━━━━━━━━━━━━━╇━━━━━━━━━━━━━━━━━━━━━╇━━━━━━━━━━━━━━━━━━┩  │\n",
       "│ │ \u001b[38;5;141mdate                  \u001b[0m │ \u001b[36m     0\u001b[0m │ \u001b[36m        0\u001b[0m │ \u001b[31m    2019-08-01     \u001b[0m │ \u001b[31m    2019-08-31     \u001b[0m │ \u001b[38;5;141mNone            \u001b[0m │  │\n",
       "│ └────────────────────────┴────────┴───────────┴─────────────────────┴─────────────────────┴──────────────────┘  │\n",
       "│ \u001b[3m                                                    string                                                    \u001b[0m  │\n",
       "│ ┏━━━━━━━━━━━━━━━━━━━━━━━━━━━┳━━━━━━━━━┳━━━━━━━━━━━━┳━━━━━━━━━━━━━━━━━━━━━━━━━━━━━━┳━━━━━━━━━━━━━━━━━━━━━━━━━━┓  │\n",
       "│ ┃\u001b[1m \u001b[0m\u001b[1mcolumn_name              \u001b[0m\u001b[1m \u001b[0m┃\u001b[1m \u001b[0m\u001b[1mNA     \u001b[0m\u001b[1m \u001b[0m┃\u001b[1m \u001b[0m\u001b[1mNA %      \u001b[0m\u001b[1m \u001b[0m┃\u001b[1m \u001b[0m\u001b[1mwords per row               \u001b[0m\u001b[1m \u001b[0m┃\u001b[1m \u001b[0m\u001b[1mtotal words             \u001b[0m\u001b[1m \u001b[0m┃  │\n",
       "│ ┡━━━━━━━━━━━━━━━━━━━━━━━━━━━╇━━━━━━━━━╇━━━━━━━━━━━━╇━━━━━━━━━━━━━━━━━━━━━━━━━━━━━━╇━━━━━━━━━━━━━━━━━━━━━━━━━━┩  │\n",
       "│ │ \u001b[38;5;141mgroup                    \u001b[0m │ \u001b[36m      0\u001b[0m │ \u001b[36m         0\u001b[0m │ \u001b[36m                           1\u001b[0m │ \u001b[36m                    1197\u001b[0m │  │\n",
       "│ └───────────────────────────┴─────────┴────────────┴──────────────────────────────┴──────────────────────────┘  │\n",
       "╰────────────────────────────────────────────────────── End ──────────────────────────────────────────────────────╯\n"
      ]
     },
     "metadata": {},
     "output_type": "display_data"
    }
   ],
   "source": [
    "# получим общую информацию о данных\n",
    "skim(orders)"
   ]
  },
  {
   "cell_type": "code",
   "execution_count": 14,
   "id": "5aee1069",
   "metadata": {},
   "outputs": [
    {
     "data": {
      "text/html": [
       "<pre style=\"white-space:pre;overflow-x:auto;line-height:normal;font-family:Menlo,'DejaVu Sans Mono',consolas,'Courier New',monospace\">╭──────────────────────────────────────────────── skimpy summary ─────────────────────────────────────────────────╮\n",
       "│ <span style=\"font-style: italic\">         Data Summary         </span> <span style=\"font-style: italic\">      Data Types       </span>                                                          │\n",
       "│ ┏━━━━━━━━━━━━━━━━━━━┳━━━━━━━━┓ ┏━━━━━━━━━━━━━┳━━━━━━━┓                                                          │\n",
       "│ ┃<span style=\"color: #008080; text-decoration-color: #008080; font-weight: bold\"> dataframe         </span>┃<span style=\"color: #008080; text-decoration-color: #008080; font-weight: bold\"> Values </span>┃ ┃<span style=\"color: #008080; text-decoration-color: #008080; font-weight: bold\"> Column Type </span>┃<span style=\"color: #008080; text-decoration-color: #008080; font-weight: bold\"> Count </span>┃                                                          │\n",
       "│ ┡━━━━━━━━━━━━━━━━━━━╇━━━━━━━━┩ ┡━━━━━━━━━━━━━╇━━━━━━━┩                                                          │\n",
       "│ │ Number of rows    │ 62     │ │ datetime64  │ 1     │                                                          │\n",
       "│ │ Number of columns │ 3      │ │ string      │ 1     │                                                          │\n",
       "│ └───────────────────┴────────┘ │ int32       │ 1     │                                                          │\n",
       "│                                └─────────────┴───────┘                                                          │\n",
       "│ <span style=\"font-style: italic\">                                                    number                                                    </span>  │\n",
       "│ ┏━━━━━━━━━━━━━━━━━━━┳━━━━━━┳━━━━━━━━━┳━━━━━━━━━┳━━━━━━━━┳━━━━━━━┳━━━━━━━┳━━━━━━━┳━━━━━━━┳━━━━━━━━━┳━━━━━━━━━━┓  │\n",
       "│ ┃<span style=\"font-weight: bold\"> column_name       </span>┃<span style=\"font-weight: bold\"> NA   </span>┃<span style=\"font-weight: bold\"> NA %    </span>┃<span style=\"font-weight: bold\"> mean    </span>┃<span style=\"font-weight: bold\"> sd     </span>┃<span style=\"font-weight: bold\"> p0    </span>┃<span style=\"font-weight: bold\"> p25   </span>┃<span style=\"font-weight: bold\"> p50   </span>┃<span style=\"font-weight: bold\"> p75   </span>┃<span style=\"font-weight: bold\"> p100    </span>┃<span style=\"font-weight: bold\"> hist     </span>┃  │\n",
       "│ ┡━━━━━━━━━━━━━━━━━━━╇━━━━━━╇━━━━━━━━━╇━━━━━━━━━╇━━━━━━━━╇━━━━━━━╇━━━━━━━╇━━━━━━━╇━━━━━━━╇━━━━━━━━━╇━━━━━━━━━━┩  │\n",
       "│ │ <span style=\"color: #af87ff; text-decoration-color: #af87ff\">visitors         </span> │ <span style=\"color: #008080; text-decoration-color: #008080\">   0</span> │ <span style=\"color: #008080; text-decoration-color: #008080\">      0</span> │ <span style=\"color: #008080; text-decoration-color: #008080\">    610</span> │ <span style=\"color: #008080; text-decoration-color: #008080\">   110</span> │ <span style=\"color: #008080; text-decoration-color: #008080\">  360</span> │ <span style=\"color: #008080; text-decoration-color: #008080\">  530</span> │ <span style=\"color: #008080; text-decoration-color: #008080\">  620</span> │ <span style=\"color: #008080; text-decoration-color: #008080\">  710</span> │ <span style=\"color: #008080; text-decoration-color: #008080\">    770</span> │ <span style=\"color: #008000; text-decoration-color: #008000\"> ▃▂▃▅▅▇ </span> │  │\n",
       "│ └───────────────────┴──────┴─────────┴─────────┴────────┴───────┴───────┴───────┴───────┴─────────┴──────────┘  │\n",
       "│ <span style=\"font-style: italic\">                                                   datetime                                                   </span>  │\n",
       "│ ┏━━━━━━━━━━━━━━━━━━━━━━━━┳━━━━━━━━┳━━━━━━━━━━━┳━━━━━━━━━━━━━━━━━━━━━┳━━━━━━━━━━━━━━━━━━━━━┳━━━━━━━━━━━━━━━━━━┓  │\n",
       "│ ┃<span style=\"font-weight: bold\"> column_name            </span>┃<span style=\"font-weight: bold\"> NA     </span>┃<span style=\"font-weight: bold\"> NA %      </span>┃<span style=\"font-weight: bold\"> first               </span>┃<span style=\"font-weight: bold\"> last                </span>┃<span style=\"font-weight: bold\"> frequency        </span>┃  │\n",
       "│ ┡━━━━━━━━━━━━━━━━━━━━━━━━╇━━━━━━━━╇━━━━━━━━━━━╇━━━━━━━━━━━━━━━━━━━━━╇━━━━━━━━━━━━━━━━━━━━━╇━━━━━━━━━━━━━━━━━━┩  │\n",
       "│ │ <span style=\"color: #af87ff; text-decoration-color: #af87ff\">date                  </span> │ <span style=\"color: #008080; text-decoration-color: #008080\">     0</span> │ <span style=\"color: #008080; text-decoration-color: #008080\">        0</span> │ <span style=\"color: #800000; text-decoration-color: #800000\">    2019-08-01     </span> │ <span style=\"color: #800000; text-decoration-color: #800000\">    2019-08-31     </span> │ <span style=\"color: #af87ff; text-decoration-color: #af87ff\">None            </span> │  │\n",
       "│ └────────────────────────┴────────┴───────────┴─────────────────────┴─────────────────────┴──────────────────┘  │\n",
       "│ <span style=\"font-style: italic\">                                                    string                                                    </span>  │\n",
       "│ ┏━━━━━━━━━━━━━━━━━━━━━━━━━━━┳━━━━━━━━━┳━━━━━━━━━━━━┳━━━━━━━━━━━━━━━━━━━━━━━━━━━━━━┳━━━━━━━━━━━━━━━━━━━━━━━━━━┓  │\n",
       "│ ┃<span style=\"font-weight: bold\"> column_name               </span>┃<span style=\"font-weight: bold\"> NA      </span>┃<span style=\"font-weight: bold\"> NA %       </span>┃<span style=\"font-weight: bold\"> words per row                </span>┃<span style=\"font-weight: bold\"> total words              </span>┃  │\n",
       "│ ┡━━━━━━━━━━━━━━━━━━━━━━━━━━━╇━━━━━━━━━╇━━━━━━━━━━━━╇━━━━━━━━━━━━━━━━━━━━━━━━━━━━━━╇━━━━━━━━━━━━━━━━━━━━━━━━━━┩  │\n",
       "│ │ <span style=\"color: #af87ff; text-decoration-color: #af87ff\">group                    </span> │ <span style=\"color: #008080; text-decoration-color: #008080\">      0</span> │ <span style=\"color: #008080; text-decoration-color: #008080\">         0</span> │ <span style=\"color: #008080; text-decoration-color: #008080\">                           1</span> │ <span style=\"color: #008080; text-decoration-color: #008080\">                      62</span> │  │\n",
       "│ └───────────────────────────┴─────────┴────────────┴──────────────────────────────┴──────────────────────────┘  │\n",
       "╰────────────────────────────────────────────────────── End ──────────────────────────────────────────────────────╯\n",
       "</pre>\n"
      ],
      "text/plain": [
       "╭──────────────────────────────────────────────── skimpy summary ─────────────────────────────────────────────────╮\n",
       "│ \u001b[3m         Data Summary         \u001b[0m \u001b[3m      Data Types       \u001b[0m                                                          │\n",
       "│ ┏━━━━━━━━━━━━━━━━━━━┳━━━━━━━━┓ ┏━━━━━━━━━━━━━┳━━━━━━━┓                                                          │\n",
       "│ ┃\u001b[1;36m \u001b[0m\u001b[1;36mdataframe        \u001b[0m\u001b[1;36m \u001b[0m┃\u001b[1;36m \u001b[0m\u001b[1;36mValues\u001b[0m\u001b[1;36m \u001b[0m┃ ┃\u001b[1;36m \u001b[0m\u001b[1;36mColumn Type\u001b[0m\u001b[1;36m \u001b[0m┃\u001b[1;36m \u001b[0m\u001b[1;36mCount\u001b[0m\u001b[1;36m \u001b[0m┃                                                          │\n",
       "│ ┡━━━━━━━━━━━━━━━━━━━╇━━━━━━━━┩ ┡━━━━━━━━━━━━━╇━━━━━━━┩                                                          │\n",
       "│ │ Number of rows    │ 62     │ │ datetime64  │ 1     │                                                          │\n",
       "│ │ Number of columns │ 3      │ │ string      │ 1     │                                                          │\n",
       "│ └───────────────────┴────────┘ │ int32       │ 1     │                                                          │\n",
       "│                                └─────────────┴───────┘                                                          │\n",
       "│ \u001b[3m                                                    number                                                    \u001b[0m  │\n",
       "│ ┏━━━━━━━━━━━━━━━━━━━┳━━━━━━┳━━━━━━━━━┳━━━━━━━━━┳━━━━━━━━┳━━━━━━━┳━━━━━━━┳━━━━━━━┳━━━━━━━┳━━━━━━━━━┳━━━━━━━━━━┓  │\n",
       "│ ┃\u001b[1m \u001b[0m\u001b[1mcolumn_name      \u001b[0m\u001b[1m \u001b[0m┃\u001b[1m \u001b[0m\u001b[1mNA  \u001b[0m\u001b[1m \u001b[0m┃\u001b[1m \u001b[0m\u001b[1mNA %   \u001b[0m\u001b[1m \u001b[0m┃\u001b[1m \u001b[0m\u001b[1mmean   \u001b[0m\u001b[1m \u001b[0m┃\u001b[1m \u001b[0m\u001b[1msd    \u001b[0m\u001b[1m \u001b[0m┃\u001b[1m \u001b[0m\u001b[1mp0   \u001b[0m\u001b[1m \u001b[0m┃\u001b[1m \u001b[0m\u001b[1mp25  \u001b[0m\u001b[1m \u001b[0m┃\u001b[1m \u001b[0m\u001b[1mp50  \u001b[0m\u001b[1m \u001b[0m┃\u001b[1m \u001b[0m\u001b[1mp75  \u001b[0m\u001b[1m \u001b[0m┃\u001b[1m \u001b[0m\u001b[1mp100   \u001b[0m\u001b[1m \u001b[0m┃\u001b[1m \u001b[0m\u001b[1mhist    \u001b[0m\u001b[1m \u001b[0m┃  │\n",
       "│ ┡━━━━━━━━━━━━━━━━━━━╇━━━━━━╇━━━━━━━━━╇━━━━━━━━━╇━━━━━━━━╇━━━━━━━╇━━━━━━━╇━━━━━━━╇━━━━━━━╇━━━━━━━━━╇━━━━━━━━━━┩  │\n",
       "│ │ \u001b[38;5;141mvisitors         \u001b[0m │ \u001b[36m   0\u001b[0m │ \u001b[36m      0\u001b[0m │ \u001b[36m    610\u001b[0m │ \u001b[36m   110\u001b[0m │ \u001b[36m  360\u001b[0m │ \u001b[36m  530\u001b[0m │ \u001b[36m  620\u001b[0m │ \u001b[36m  710\u001b[0m │ \u001b[36m    770\u001b[0m │ \u001b[32m ▃▂▃▅▅▇ \u001b[0m │  │\n",
       "│ └───────────────────┴──────┴─────────┴─────────┴────────┴───────┴───────┴───────┴───────┴─────────┴──────────┘  │\n",
       "│ \u001b[3m                                                   datetime                                                   \u001b[0m  │\n",
       "│ ┏━━━━━━━━━━━━━━━━━━━━━━━━┳━━━━━━━━┳━━━━━━━━━━━┳━━━━━━━━━━━━━━━━━━━━━┳━━━━━━━━━━━━━━━━━━━━━┳━━━━━━━━━━━━━━━━━━┓  │\n",
       "│ ┃\u001b[1m \u001b[0m\u001b[1mcolumn_name           \u001b[0m\u001b[1m \u001b[0m┃\u001b[1m \u001b[0m\u001b[1mNA    \u001b[0m\u001b[1m \u001b[0m┃\u001b[1m \u001b[0m\u001b[1mNA %     \u001b[0m\u001b[1m \u001b[0m┃\u001b[1m \u001b[0m\u001b[1mfirst              \u001b[0m\u001b[1m \u001b[0m┃\u001b[1m \u001b[0m\u001b[1mlast               \u001b[0m\u001b[1m \u001b[0m┃\u001b[1m \u001b[0m\u001b[1mfrequency       \u001b[0m\u001b[1m \u001b[0m┃  │\n",
       "│ ┡━━━━━━━━━━━━━━━━━━━━━━━━╇━━━━━━━━╇━━━━━━━━━━━╇━━━━━━━━━━━━━━━━━━━━━╇━━━━━━━━━━━━━━━━━━━━━╇━━━━━━━━━━━━━━━━━━┩  │\n",
       "│ │ \u001b[38;5;141mdate                  \u001b[0m │ \u001b[36m     0\u001b[0m │ \u001b[36m        0\u001b[0m │ \u001b[31m    2019-08-01     \u001b[0m │ \u001b[31m    2019-08-31     \u001b[0m │ \u001b[38;5;141mNone            \u001b[0m │  │\n",
       "│ └────────────────────────┴────────┴───────────┴─────────────────────┴─────────────────────┴──────────────────┘  │\n",
       "│ \u001b[3m                                                    string                                                    \u001b[0m  │\n",
       "│ ┏━━━━━━━━━━━━━━━━━━━━━━━━━━━┳━━━━━━━━━┳━━━━━━━━━━━━┳━━━━━━━━━━━━━━━━━━━━━━━━━━━━━━┳━━━━━━━━━━━━━━━━━━━━━━━━━━┓  │\n",
       "│ ┃\u001b[1m \u001b[0m\u001b[1mcolumn_name              \u001b[0m\u001b[1m \u001b[0m┃\u001b[1m \u001b[0m\u001b[1mNA     \u001b[0m\u001b[1m \u001b[0m┃\u001b[1m \u001b[0m\u001b[1mNA %      \u001b[0m\u001b[1m \u001b[0m┃\u001b[1m \u001b[0m\u001b[1mwords per row               \u001b[0m\u001b[1m \u001b[0m┃\u001b[1m \u001b[0m\u001b[1mtotal words             \u001b[0m\u001b[1m \u001b[0m┃  │\n",
       "│ ┡━━━━━━━━━━━━━━━━━━━━━━━━━━━╇━━━━━━━━━╇━━━━━━━━━━━━╇━━━━━━━━━━━━━━━━━━━━━━━━━━━━━━╇━━━━━━━━━━━━━━━━━━━━━━━━━━┩  │\n",
       "│ │ \u001b[38;5;141mgroup                    \u001b[0m │ \u001b[36m      0\u001b[0m │ \u001b[36m         0\u001b[0m │ \u001b[36m                           1\u001b[0m │ \u001b[36m                      62\u001b[0m │  │\n",
       "│ └───────────────────────────┴─────────┴────────────┴──────────────────────────────┴──────────────────────────┘  │\n",
       "╰────────────────────────────────────────────────────── End ──────────────────────────────────────────────────────╯\n"
      ]
     },
     "metadata": {},
     "output_type": "display_data"
    }
   ],
   "source": [
    "# получим общую информацию о данных\n",
    "skim(visitors)"
   ]
  },
  {
   "cell_type": "code",
   "execution_count": 15,
   "id": "a5ef6139",
   "metadata": {},
   "outputs": [
    {
     "data": {
      "text/plain": [
       "0"
      ]
     },
     "execution_count": 15,
     "metadata": {},
     "output_type": "execute_result"
    }
   ],
   "source": [
    "# проверим наличие явных дубликатов\n",
    "orders.duplicated().sum()"
   ]
  },
  {
   "cell_type": "code",
   "execution_count": 16,
   "id": "1cea84e8",
   "metadata": {},
   "outputs": [
    {
     "data": {
      "text/plain": [
       "0"
      ]
     },
     "execution_count": 16,
     "metadata": {},
     "output_type": "execute_result"
    }
   ],
   "source": [
    "# проверим наличие явных дубликатов\n",
    "visitors.duplicated().sum()"
   ]
  },
  {
   "cell_type": "markdown",
   "id": "e1018bec",
   "metadata": {},
   "source": [
    "#### Выводы\n",
    "Данные полные, типы данных соответствуют данным, явных дубликатов нет."
   ]
  },
  {
   "cell_type": "code",
   "execution_count": 17,
   "id": "ee9bfe6d",
   "metadata": {},
   "outputs": [
    {
     "data": {
      "text/plain": [
       "1197"
      ]
     },
     "execution_count": 17,
     "metadata": {},
     "output_type": "execute_result"
    }
   ],
   "source": [
    "# проверим данные на уникальность\n",
    "orders['transaction_id'].nunique() "
   ]
  },
  {
   "cell_type": "markdown",
   "id": "d6a22f9d",
   "metadata": {},
   "source": [
    "Данные в столбце 'transaction_id' уникальны."
   ]
  },
  {
   "cell_type": "code",
   "execution_count": 18,
   "id": "9814df12",
   "metadata": {},
   "outputs": [
    {
     "data": {
      "text/plain": [
       "1031"
      ]
     },
     "execution_count": 18,
     "metadata": {},
     "output_type": "execute_result"
    }
   ],
   "source": [
    "# проверим данные на уникальность\n",
    "orders['visitor_id'].nunique() "
   ]
  },
  {
   "cell_type": "markdown",
   "id": "8123422e",
   "metadata": {},
   "source": [
    "Количество пользователей меньше, чем количество заказов. Что означает, что часть пользователей сделала более 1-го заказа."
   ]
  },
  {
   "cell_type": "code",
   "execution_count": 19,
   "id": "eb8f0631",
   "metadata": {},
   "outputs": [
    {
     "data": {
      "text/plain": [
       "Timestamp('2019-08-01 00:00:00')"
      ]
     },
     "execution_count": 19,
     "metadata": {},
     "output_type": "execute_result"
    }
   ],
   "source": [
    "# посмотрим на временной промежуток, который охватывают данные\n",
    "orders['date'].min()"
   ]
  },
  {
   "cell_type": "code",
   "execution_count": 20,
   "id": "c0adfada",
   "metadata": {},
   "outputs": [
    {
     "data": {
      "text/plain": [
       "Timestamp('2019-08-31 00:00:00')"
      ]
     },
     "execution_count": 20,
     "metadata": {},
     "output_type": "execute_result"
    }
   ],
   "source": [
    "orders['date'].max()"
   ]
  },
  {
   "cell_type": "markdown",
   "id": "ff18841f",
   "metadata": {},
   "source": [
    "А/В-тест проводился в августе 2019 года весь месяц"
   ]
  },
  {
   "cell_type": "code",
   "execution_count": 21,
   "id": "24b98c2a",
   "metadata": {},
   "outputs": [
    {
     "data": {
      "text/plain": [
       "count    1.197000e+03\n",
       "mean     8.348006e+03\n",
       "std      3.919113e+04\n",
       "min      5.000000e+01\n",
       "25%      1.220000e+03\n",
       "50%      2.978000e+03\n",
       "75%      8.290000e+03\n",
       "max      1.294500e+06\n",
       "Name: revenue, dtype: float64"
      ]
     },
     "execution_count": 21,
     "metadata": {},
     "output_type": "execute_result"
    }
   ],
   "source": [
    "# посмотрим на описательную статистику столбца 'revenue'\n",
    "orders['revenue'].describe()"
   ]
  },
  {
   "cell_type": "code",
   "execution_count": 22,
   "id": "5800f784",
   "metadata": {},
   "outputs": [
    {
     "data": {
      "image/png": "[encoded data removed]",
      "text/plain": [
       "<Figure size 800x400 with 1 Axes>"
      ]
     },
     "metadata": {},
     "output_type": "display_data"
    }
   ],
   "source": [
    "# по описательной статистике мы видим аномалии. Построим гистограммы, чтобы посмотреть на распределение данных\n",
    "fig, ax = plt.subplots(figsize=(8, 4))\n",
    "ax.set(title = 'Распределение заказов по стоимости', xlabel = 'стоимость заказов', ylabel = 'количество')\n",
    "orders['revenue'].hist(bins=40);"
   ]
  },
  {
   "cell_type": "code",
   "execution_count": 23,
   "id": "7452aa36",
   "metadata": {},
   "outputs": [
    {
     "data": {
      "image/png": "[encoded data removed]",
      "text/plain": [
       "<Figure size 800x400 with 1 Axes>"
      ]
     },
     "metadata": {},
     "output_type": "display_data"
    }
   ],
   "source": [
    "# посмотрим на интервал от 0 до 50000\n",
    "fig, ax = plt.subplots(figsize=(8, 4))\n",
    "ax.set(title = 'Распределение заказов по стоимости', xlabel = 'стоимость заказов', ylabel = 'количество')\n",
    "orders['revenue'].hist(bins=40, range=(0, 50000));"
   ]
  },
  {
   "cell_type": "code",
   "execution_count": 24,
   "id": "1af66efc",
   "metadata": {},
   "outputs": [
    {
     "data": {
      "image/png": "[encoded data removed]",
      "text/plain": [
       "<Figure size 800x400 with 1 Axes>"
      ]
     },
     "metadata": {},
     "output_type": "display_data"
    }
   ],
   "source": [
    "# построим точечный график распределения заказов по стоимости\n",
    "x_values = pd.Series(range(0,len(orders['revenue'])))\n",
    "fig, ax = plt.subplots(figsize=(8, 4))\n",
    "plt.scatter(x_values, orders['revenue'])\n",
    "ax.set(title = 'Распределение заказов по стоимости', xlabel = 'порядковый номер заказа', ylabel = 'стоимость заказов');"
   ]
  },
  {
   "cell_type": "markdown",
   "id": "c6044020",
   "metadata": {},
   "source": [
    "#### Выводы:\n",
    "1. По характеру распределение заказов по стоимости ближе к распределению Пуассона.\n",
    "2. 75% заказов не превышают 8290 рублей. При этом есть длинный правый \"хвост\" вплоть до 50000 рублей.\n",
    "3. Видны явные выбросы в районе 200 тыс. рублей и более 1,2 млн. рублей."
   ]
  },
  {
   "cell_type": "code",
   "execution_count": 25,
   "id": "50b48083",
   "metadata": {
    "scrolled": true
   },
   "outputs": [
    {
     "data": {
      "text/plain": [
       "58"
      ]
     },
     "execution_count": 25,
     "metadata": {},
     "output_type": "execute_result"
    }
   ],
   "source": [
    "# проверим, попали ли какие-то пользователи одновременно в группу А и Б\n",
    "len(set(orders.query('group == \"A\"')['visitor_id']).intersection(orders.query('group == \"B\"')['visitor_id']))"
   ]
  },
  {
   "cell_type": "markdown",
   "id": "b92725da",
   "metadata": {},
   "source": [
    "Да, попали. Таких пользователей 58."
   ]
  },
  {
   "cell_type": "code",
   "execution_count": 26,
   "id": "b831aa42",
   "metadata": {
    "scrolled": false
   },
   "outputs": [
    {
     "data": {
      "text/html": [
       "<div>\n",
       "<style scoped>\n",
       "    .dataframe tbody tr th:only-of-type {\n",
       "        vertical-align: middle;\n",
       "    }\n",
       "\n",
       "    .dataframe tbody tr th {\n",
       "        vertical-align: top;\n",
       "    }\n",
       "\n",
       "    .dataframe thead th {\n",
       "        text-align: right;\n",
       "    }\n",
       "</style>\n",
       "<table border=\"1\" class=\"dataframe\">\n",
       "  <thead>\n",
       "    <tr style=\"text-align: right;\">\n",
       "      <th></th>\n",
       "      <th>transaction_id</th>\n",
       "      <th>visitor_id</th>\n",
       "      <th>date</th>\n",
       "      <th>revenue</th>\n",
       "      <th>group</th>\n",
       "    </tr>\n",
       "  </thead>\n",
       "  <tbody>\n",
       "    <tr>\n",
       "      <th>71</th>\n",
       "      <td>3679129301</td>\n",
       "      <td>8300375</td>\n",
       "      <td>2019-08-01</td>\n",
       "      <td>10510</td>\n",
       "      <td>B</td>\n",
       "    </tr>\n",
       "    <tr>\n",
       "      <th>703</th>\n",
       "      <td>4293855558</td>\n",
       "      <td>8300375</td>\n",
       "      <td>2019-08-07</td>\n",
       "      <td>1790</td>\n",
       "      <td>A</td>\n",
       "    </tr>\n",
       "    <tr>\n",
       "      <th>246</th>\n",
       "      <td>437656952</td>\n",
       "      <td>199603092</td>\n",
       "      <td>2019-08-02</td>\n",
       "      <td>3488</td>\n",
       "      <td>B</td>\n",
       "    </tr>\n",
       "    <tr>\n",
       "      <th>1102</th>\n",
       "      <td>1941707234</td>\n",
       "      <td>199603092</td>\n",
       "      <td>2019-08-12</td>\n",
       "      <td>6438</td>\n",
       "      <td>A</td>\n",
       "    </tr>\n",
       "    <tr>\n",
       "      <th>26</th>\n",
       "      <td>2223239646</td>\n",
       "      <td>199603092</td>\n",
       "      <td>2019-08-15</td>\n",
       "      <td>3488</td>\n",
       "      <td>A</td>\n",
       "    </tr>\n",
       "    <tr>\n",
       "      <th>...</th>\n",
       "      <td>...</td>\n",
       "      <td>...</td>\n",
       "      <td>...</td>\n",
       "      <td>...</td>\n",
       "      <td>...</td>\n",
       "    </tr>\n",
       "    <tr>\n",
       "      <th>901</th>\n",
       "      <td>3402467119</td>\n",
       "      <td>4256040402</td>\n",
       "      <td>2019-08-27</td>\n",
       "      <td>1630</td>\n",
       "      <td>A</td>\n",
       "    </tr>\n",
       "    <tr>\n",
       "      <th>1018</th>\n",
       "      <td>1415970216</td>\n",
       "      <td>4256040402</td>\n",
       "      <td>2019-08-31</td>\n",
       "      <td>5170</td>\n",
       "      <td>A</td>\n",
       "    </tr>\n",
       "    <tr>\n",
       "      <th>1019</th>\n",
       "      <td>453824282</td>\n",
       "      <td>4256040402</td>\n",
       "      <td>2019-08-31</td>\n",
       "      <td>1850</td>\n",
       "      <td>B</td>\n",
       "    </tr>\n",
       "    <tr>\n",
       "      <th>662</th>\n",
       "      <td>1811671147</td>\n",
       "      <td>4266935830</td>\n",
       "      <td>2019-08-29</td>\n",
       "      <td>78990</td>\n",
       "      <td>A</td>\n",
       "    </tr>\n",
       "    <tr>\n",
       "      <th>682</th>\n",
       "      <td>1216533772</td>\n",
       "      <td>4266935830</td>\n",
       "      <td>2019-08-29</td>\n",
       "      <td>78990</td>\n",
       "      <td>B</td>\n",
       "    </tr>\n",
       "  </tbody>\n",
       "</table>\n",
       "<p>181 rows × 5 columns</p>\n",
       "</div>"
      ],
      "text/plain": [
       "      transaction_id  visitor_id       date  revenue group\n",
       "71        3679129301     8300375 2019-08-01    10510     B\n",
       "703       4293855558     8300375 2019-08-07     1790     A\n",
       "246        437656952   199603092 2019-08-02     3488     B\n",
       "1102      1941707234   199603092 2019-08-12     6438     A\n",
       "26        2223239646   199603092 2019-08-15     3488     A\n",
       "...              ...         ...        ...      ...   ...\n",
       "901       3402467119  4256040402 2019-08-27     1630     A\n",
       "1018      1415970216  4256040402 2019-08-31     5170     A\n",
       "1019       453824282  4256040402 2019-08-31     1850     B\n",
       "662       1811671147  4266935830 2019-08-29    78990     A\n",
       "682       1216533772  4266935830 2019-08-29    78990     B\n",
       "\n",
       "[181 rows x 5 columns]"
      ]
     },
     "execution_count": 26,
     "metadata": {},
     "output_type": "execute_result"
    }
   ],
   "source": [
    "# проверим сколько заказов связано с этими пользователями\n",
    "users_A_and_B = list(set(orders.query('group == \"A\"')['visitor_id'])\n",
    "                     .intersection(orders.query('group == \"B\"')['visitor_id']))\n",
    "\n",
    "orders[orders['visitor_id'].isin(users_A_and_B)].sort_values(by=['visitor_id', 'date'])"
   ]
  },
  {
   "cell_type": "markdown",
   "id": "e954f385",
   "metadata": {},
   "source": [
    "Таких записей 181, что составляет более 15% данных. Так как мы не знаем условия А/В-теста (возможно, что для этого конкретного теста это совершенно нормально), то мы не будем удалять пользователей, которые попали одновременно в группу А и В."
   ]
  },
  {
   "cell_type": "code",
   "execution_count": 27,
   "id": "38dae555",
   "metadata": {},
   "outputs": [
    {
     "data": {
      "text/plain": [
       "group\n",
       "B    640\n",
       "A    557\n",
       "Name: count, dtype: int64"
      ]
     },
     "execution_count": 27,
     "metadata": {},
     "output_type": "execute_result"
    }
   ],
   "source": [
    "# посмотрим на распределение заказов по группам\n",
    "orders['group'].value_counts()"
   ]
  },
  {
   "cell_type": "markdown",
   "id": "d545d7dd",
   "metadata": {},
   "source": [
    "Заказы по группам распределены не очень равномерно - 53,47% на 46,53%. Заказы - это уже вторичное действие (после визита), а ключевым для корректного А/В-теста является распределение визитов по группам."
   ]
  },
  {
   "cell_type": "markdown",
   "id": "2f04d46a",
   "metadata": {},
   "source": [
    "Проанализируем таблицу с визитами."
   ]
  },
  {
   "cell_type": "code",
   "execution_count": 28,
   "id": "9ef3456a",
   "metadata": {},
   "outputs": [
    {
     "data": {
      "text/plain": [
       "Timestamp('2019-08-01 00:00:00')"
      ]
     },
     "execution_count": 28,
     "metadata": {},
     "output_type": "execute_result"
    }
   ],
   "source": [
    "# помотрим на временной промежуток\n",
    "visitors['date'].min()"
   ]
  },
  {
   "cell_type": "code",
   "execution_count": 29,
   "id": "41a7cd9e",
   "metadata": {
    "scrolled": true
   },
   "outputs": [
    {
     "data": {
      "text/plain": [
       "Timestamp('2019-08-31 00:00:00')"
      ]
     },
     "execution_count": 29,
     "metadata": {},
     "output_type": "execute_result"
    }
   ],
   "source": [
    "visitors['date'].max()"
   ]
  },
  {
   "cell_type": "code",
   "execution_count": 30,
   "id": "356f9ba7",
   "metadata": {},
   "outputs": [
    {
     "data": {
      "image/png": "[encoded data removed]",
      "text/plain": [
       "<Figure size 600x400 with 1 Axes>"
      ]
     },
     "metadata": {},
     "output_type": "display_data"
    }
   ],
   "source": [
    "# потроим гистограмму распределения количества визитов в день\n",
    "fig, ax = plt.subplots(figsize=(6, 4))\n",
    "ax.set(title = 'Распределение визитов', xlabel = 'количество визитов в день', ylabel = 'частота')\n",
    "visitors['visitors'].hist(bins=10);"
   ]
  },
  {
   "cell_type": "markdown",
   "id": "4215f9c0",
   "metadata": {},
   "source": [
    "Характер распределения визитов ближе к распределению Пуассона."
   ]
  },
  {
   "cell_type": "code",
   "execution_count": 31,
   "id": "41b3edb4",
   "metadata": {
    "scrolled": true
   },
   "outputs": [
    {
     "data": {
      "text/plain": [
       "count     62.000000\n",
       "mean     607.290323\n",
       "std      114.400560\n",
       "min      361.000000\n",
       "25%      534.000000\n",
       "50%      624.500000\n",
       "75%      710.500000\n",
       "max      770.000000\n",
       "Name: visitors, dtype: float64"
      ]
     },
     "execution_count": 31,
     "metadata": {},
     "output_type": "execute_result"
    }
   ],
   "source": [
    "# получим описательную статистику\n",
    "visitors['visitors'].describe()"
   ]
  },
  {
   "cell_type": "code",
   "execution_count": 32,
   "id": "af328e6c",
   "metadata": {
    "scrolled": true
   },
   "outputs": [
    {
     "data": {
      "image/png": "[encoded data removed]",
      "text/plain": [
       "<Figure size 1300x400 with 1 Axes>"
      ]
     },
     "metadata": {},
     "output_type": "display_data"
    }
   ],
   "source": [
    "# построим распределение количества визитов по дням месяца и по группам\n",
    "fig, ax = plt.subplots(figsize=(13, 4))\n",
    "ax.set(title = 'Распределение визитов по времени', xlabel = 'даты', ylabel = 'количество')\n",
    "plt.plot(visitors.query('group == \"A\"')['date'], visitors.query('group == \"A\"')['visitors'], label='A')\n",
    "plt.plot(visitors.query('group == \"B\"')['date'], visitors.query('group == \"B\"')['visitors'], label='B')\n",
    "plt.legend();"
   ]
  },
  {
   "cell_type": "markdown",
   "id": "b6dcd633",
   "metadata": {},
   "source": [
    "Видна недельная цикличность, связанная с выходными днями."
   ]
  },
  {
   "cell_type": "code",
   "execution_count": 33,
   "id": "6b3148e2",
   "metadata": {},
   "outputs": [
    {
     "data": {
      "text/plain": [
       "18736"
      ]
     },
     "execution_count": 33,
     "metadata": {},
     "output_type": "execute_result"
    }
   ],
   "source": [
    "# найдем размеры групп\n",
    "visitors.query('group == \"A\"')['visitors'].sum()"
   ]
  },
  {
   "cell_type": "code",
   "execution_count": 34,
   "id": "15ae8004",
   "metadata": {
    "scrolled": true
   },
   "outputs": [
    {
     "data": {
      "text/plain": [
       "18916"
      ]
     },
     "execution_count": 34,
     "metadata": {},
     "output_type": "execute_result"
    }
   ],
   "source": [
    "visitors.query('group == \"B\"')['visitors'].sum()"
   ]
  },
  {
   "cell_type": "code",
   "execution_count": 35,
   "id": "76da27ef",
   "metadata": {},
   "outputs": [
    {
     "data": {
      "text/plain": [
       "-0.4780622543291193"
      ]
     },
     "execution_count": 35,
     "metadata": {},
     "output_type": "execute_result"
    }
   ],
   "source": [
    "# найдем относительную разницу в размерах групп\n",
    "(visitors.query('group == \"A\"')['visitors'].sum() - visitors.query('group == \"B\"')['visitors'].sum()\n",
    ") / visitors['visitors'].sum() * 100"
   ]
  },
  {
   "cell_type": "markdown",
   "id": "ef65436f",
   "metadata": {},
   "source": [
    "Разница между количеством визитов по группам составляет менее 0,5%. Это важно для того, чтобы тест был корректным. Можно считать, что группы практически одинаковые по размеру. Можно приступать к анализу А/В-теста."
   ]
  },
  {
   "cell_type": "markdown",
   "id": "60f346b4",
   "metadata": {},
   "source": [
    "## Анализ A/B-теста"
   ]
  },
  {
   "cell_type": "markdown",
   "id": "d85ef0da",
   "metadata": {},
   "source": [
    "### График кумулятивной выручки по группам"
   ]
  },
  {
   "cell_type": "code",
   "execution_count": 36,
   "id": "a49f140b",
   "metadata": {},
   "outputs": [],
   "source": [
    "# создадим массив уникальных пар значений дат и групп теста\n",
    "datesGroups = orders[['date','group']].drop_duplicates()"
   ]
  },
  {
   "cell_type": "code",
   "execution_count": 37,
   "id": "4069f249",
   "metadata": {},
   "outputs": [
    {
     "data": {
      "text/html": [
       "<div>\n",
       "<style scoped>\n",
       "    .dataframe tbody tr th:only-of-type {\n",
       "        vertical-align: middle;\n",
       "    }\n",
       "\n",
       "    .dataframe tbody tr th {\n",
       "        vertical-align: top;\n",
       "    }\n",
       "\n",
       "    .dataframe thead th {\n",
       "        text-align: right;\n",
       "    }\n",
       "</style>\n",
       "<table border=\"1\" class=\"dataframe\">\n",
       "  <thead>\n",
       "    <tr style=\"text-align: right;\">\n",
       "      <th></th>\n",
       "      <th>date</th>\n",
       "      <th>group</th>\n",
       "      <th>transaction_id</th>\n",
       "      <th>visitor_id</th>\n",
       "      <th>revenue</th>\n",
       "    </tr>\n",
       "  </thead>\n",
       "  <tbody>\n",
       "    <tr>\n",
       "      <th>55</th>\n",
       "      <td>2019-08-01</td>\n",
       "      <td>A</td>\n",
       "      <td>24</td>\n",
       "      <td>20</td>\n",
       "      <td>148579</td>\n",
       "    </tr>\n",
       "    <tr>\n",
       "      <th>66</th>\n",
       "      <td>2019-08-01</td>\n",
       "      <td>B</td>\n",
       "      <td>21</td>\n",
       "      <td>20</td>\n",
       "      <td>101217</td>\n",
       "    </tr>\n",
       "    <tr>\n",
       "      <th>175</th>\n",
       "      <td>2019-08-02</td>\n",
       "      <td>A</td>\n",
       "      <td>44</td>\n",
       "      <td>38</td>\n",
       "      <td>242401</td>\n",
       "    </tr>\n",
       "    <tr>\n",
       "      <th>173</th>\n",
       "      <td>2019-08-02</td>\n",
       "      <td>B</td>\n",
       "      <td>45</td>\n",
       "      <td>43</td>\n",
       "      <td>266748</td>\n",
       "    </tr>\n",
       "    <tr>\n",
       "      <th>291</th>\n",
       "      <td>2019-08-03</td>\n",
       "      <td>A</td>\n",
       "      <td>68</td>\n",
       "      <td>62</td>\n",
       "      <td>354874</td>\n",
       "    </tr>\n",
       "  </tbody>\n",
       "</table>\n",
       "</div>"
      ],
      "text/plain": [
       "          date group  transaction_id  visitor_id  revenue\n",
       "55  2019-08-01     A              24          20   148579\n",
       "66  2019-08-01     B              21          20   101217\n",
       "175 2019-08-02     A              44          38   242401\n",
       "173 2019-08-02     B              45          43   266748\n",
       "291 2019-08-03     A              68          62   354874"
      ]
     },
     "execution_count": 37,
     "metadata": {},
     "output_type": "execute_result"
    }
   ],
   "source": [
    "# получим агрегированные кумулятивные по дням данные о заказах \n",
    "ordersAggregated = datesGroups.apply(lambda x: orders[np.logical_and(orders['date'] <= x['date'], \n",
    "                                                                     orders['group'] == x['group'])]\n",
    ".agg({'date':'max', 'group':'max', 'transaction_id':'nunique', 'visitor_id':'nunique', 'revenue':'sum'}), \n",
    "                                     axis=1).sort_values(by=['date','group'])\n",
    "ordersAggregated.head()"
   ]
  },
  {
   "cell_type": "code",
   "execution_count": 38,
   "id": "a2a4ddea",
   "metadata": {},
   "outputs": [
    {
     "data": {
      "text/html": [
       "<div>\n",
       "<style scoped>\n",
       "    .dataframe tbody tr th:only-of-type {\n",
       "        vertical-align: middle;\n",
       "    }\n",
       "\n",
       "    .dataframe tbody tr th {\n",
       "        vertical-align: top;\n",
       "    }\n",
       "\n",
       "    .dataframe thead th {\n",
       "        text-align: right;\n",
       "    }\n",
       "</style>\n",
       "<table border=\"1\" class=\"dataframe\">\n",
       "  <thead>\n",
       "    <tr style=\"text-align: right;\">\n",
       "      <th></th>\n",
       "      <th>date</th>\n",
       "      <th>group</th>\n",
       "      <th>visitors</th>\n",
       "    </tr>\n",
       "  </thead>\n",
       "  <tbody>\n",
       "    <tr>\n",
       "      <th>55</th>\n",
       "      <td>2019-08-01</td>\n",
       "      <td>A</td>\n",
       "      <td>719</td>\n",
       "    </tr>\n",
       "    <tr>\n",
       "      <th>66</th>\n",
       "      <td>2019-08-01</td>\n",
       "      <td>B</td>\n",
       "      <td>713</td>\n",
       "    </tr>\n",
       "    <tr>\n",
       "      <th>175</th>\n",
       "      <td>2019-08-02</td>\n",
       "      <td>A</td>\n",
       "      <td>1338</td>\n",
       "    </tr>\n",
       "    <tr>\n",
       "      <th>173</th>\n",
       "      <td>2019-08-02</td>\n",
       "      <td>B</td>\n",
       "      <td>1294</td>\n",
       "    </tr>\n",
       "    <tr>\n",
       "      <th>291</th>\n",
       "      <td>2019-08-03</td>\n",
       "      <td>A</td>\n",
       "      <td>1845</td>\n",
       "    </tr>\n",
       "  </tbody>\n",
       "</table>\n",
       "</div>"
      ],
      "text/plain": [
       "          date group  visitors\n",
       "55  2019-08-01     A       719\n",
       "66  2019-08-01     B       713\n",
       "175 2019-08-02     A      1338\n",
       "173 2019-08-02     B      1294\n",
       "291 2019-08-03     A      1845"
      ]
     },
     "execution_count": 38,
     "metadata": {},
     "output_type": "execute_result"
    }
   ],
   "source": [
    "# получим агрегированные кумулятивные по дням данные о посетителях интернет-магазина \n",
    "visitorsAggregated = datesGroups.apply(lambda x: visitors[np.logical_and(visitors['date'] <= x['date'], \n",
    "                     visitors['group'] == x['group'])].agg({'date' : 'max', 'group' : 'max', \n",
    "                     'visitors' : 'sum'}), axis=1).sort_values(by=['date','group'])\n",
    "visitorsAggregated.head()"
   ]
  },
  {
   "cell_type": "code",
   "execution_count": 39,
   "id": "19c0c4d3",
   "metadata": {},
   "outputs": [
    {
     "data": {
      "text/html": [
       "<div>\n",
       "<style scoped>\n",
       "    .dataframe tbody tr th:only-of-type {\n",
       "        vertical-align: middle;\n",
       "    }\n",
       "\n",
       "    .dataframe tbody tr th {\n",
       "        vertical-align: top;\n",
       "    }\n",
       "\n",
       "    .dataframe thead th {\n",
       "        text-align: right;\n",
       "    }\n",
       "</style>\n",
       "<table border=\"1\" class=\"dataframe\">\n",
       "  <thead>\n",
       "    <tr style=\"text-align: right;\">\n",
       "      <th></th>\n",
       "      <th>date</th>\n",
       "      <th>group</th>\n",
       "      <th>orders</th>\n",
       "      <th>buyers</th>\n",
       "      <th>revenue</th>\n",
       "      <th>visitors</th>\n",
       "    </tr>\n",
       "  </thead>\n",
       "  <tbody>\n",
       "    <tr>\n",
       "      <th>0</th>\n",
       "      <td>2019-08-01</td>\n",
       "      <td>A</td>\n",
       "      <td>24</td>\n",
       "      <td>20</td>\n",
       "      <td>148579</td>\n",
       "      <td>719</td>\n",
       "    </tr>\n",
       "    <tr>\n",
       "      <th>1</th>\n",
       "      <td>2019-08-01</td>\n",
       "      <td>B</td>\n",
       "      <td>21</td>\n",
       "      <td>20</td>\n",
       "      <td>101217</td>\n",
       "      <td>713</td>\n",
       "    </tr>\n",
       "    <tr>\n",
       "      <th>2</th>\n",
       "      <td>2019-08-02</td>\n",
       "      <td>A</td>\n",
       "      <td>44</td>\n",
       "      <td>38</td>\n",
       "      <td>242401</td>\n",
       "      <td>1338</td>\n",
       "    </tr>\n",
       "    <tr>\n",
       "      <th>3</th>\n",
       "      <td>2019-08-02</td>\n",
       "      <td>B</td>\n",
       "      <td>45</td>\n",
       "      <td>43</td>\n",
       "      <td>266748</td>\n",
       "      <td>1294</td>\n",
       "    </tr>\n",
       "    <tr>\n",
       "      <th>4</th>\n",
       "      <td>2019-08-03</td>\n",
       "      <td>A</td>\n",
       "      <td>68</td>\n",
       "      <td>62</td>\n",
       "      <td>354874</td>\n",
       "      <td>1845</td>\n",
       "    </tr>\n",
       "  </tbody>\n",
       "</table>\n",
       "</div>"
      ],
      "text/plain": [
       "        date group  orders  buyers  revenue  visitors\n",
       "0 2019-08-01     A      24      20   148579       719\n",
       "1 2019-08-01     B      21      20   101217       713\n",
       "2 2019-08-02     A      44      38   242401      1338\n",
       "3 2019-08-02     B      45      43   266748      1294\n",
       "4 2019-08-03     A      68      62   354874      1845"
      ]
     },
     "execution_count": 39,
     "metadata": {},
     "output_type": "execute_result"
    }
   ],
   "source": [
    "# объединим кумулятивные данные в одной таблице и присвоим ее столбцам понятные названия\n",
    "cumulativeData = ordersAggregated.merge(visitorsAggregated, left_on=['date', 'group'], right_on=['date', 'group'])\n",
    "cumulativeData.columns = ['date', 'group', 'orders', 'buyers', 'revenue', 'visitors']\n",
    "\n",
    "cumulativeData.head()"
   ]
  },
  {
   "cell_type": "code",
   "execution_count": 40,
   "id": "5708b342",
   "metadata": {},
   "outputs": [
    {
     "data": {
      "text/plain": [
       "Timestamp('2019-08-01 00:00:00')"
      ]
     },
     "execution_count": 40,
     "metadata": {},
     "output_type": "execute_result"
    }
   ],
   "source": [
    "# проверим что максимальная и минимальная даты созданного датафрейма совпадают с соответсвующими датами в исходных данных\n",
    "cumulativeData['date'].min()"
   ]
  },
  {
   "cell_type": "code",
   "execution_count": 41,
   "id": "f0b6ae6a",
   "metadata": {},
   "outputs": [
    {
     "data": {
      "text/plain": [
       "Timestamp('2019-08-31 00:00:00')"
      ]
     },
     "execution_count": 41,
     "metadata": {},
     "output_type": "execute_result"
    }
   ],
   "source": [
    "cumulativeData['date'].max()"
   ]
  },
  {
   "cell_type": "code",
   "execution_count": 42,
   "id": "e16214ee",
   "metadata": {},
   "outputs": [
    {
     "data": {
      "image/png": "[encoded data removed]",
      "text/plain": [
       "<Figure size 1300x600 with 1 Axes>"
      ]
     },
     "metadata": {},
     "output_type": "display_data"
    }
   ],
   "source": [
    "# создадим датафрейм с кумулятивным количеством заказов и кумулятивной выручкой по дням в группе А\n",
    "cumulativeRevenueA = cumulativeData[cumulativeData['group']=='A'][['date','revenue', 'orders']]\n",
    "\n",
    "# создадим датафрейм с кумулятивным количеством заказов и кумулятивной выручкой по дням в группе B\n",
    "cumulativeRevenueB = cumulativeData[cumulativeData['group']=='B'][['date','revenue','orders']]\n",
    "\n",
    "# зададим размеры графика\n",
    "fig, ax = plt.subplots(figsize=(13, 6))\n",
    "\n",
    "# строим график выручки группы А\n",
    "plt.plot(cumulativeRevenueA['date'], cumulativeRevenueA['revenue'], label='A')\n",
    "\n",
    "# строим график выручки группы B\n",
    "plt.plot(cumulativeRevenueB['date'], cumulativeRevenueB['revenue'], label='B')\n",
    "\n",
    "ax.set(title = 'Кумулятивная выручка', xlabel = 'даты', ylabel = 'млн. руб.')\n",
    "\n",
    "plt.legend();"
   ]
  },
  {
   "cell_type": "markdown",
   "id": "8067ff5f",
   "metadata": {},
   "source": [
    "Мы видим, что кумулятивная выручка в группе В растет несколько быстрее, затем (после 17- 18 числа) кумулятивная выручка в группе В резко увеличивается, это явно из-за аномального дорогого заказа (который мы наблюдали на точечном графике). "
   ]
  },
  {
   "cell_type": "markdown",
   "id": "d80f5b4d",
   "metadata": {},
   "source": [
    "### Графики среднего чека по кумулятивным данным по группам "
   ]
  },
  {
   "cell_type": "code",
   "execution_count": 43,
   "id": "bf544d08",
   "metadata": {
    "scrolled": false
   },
   "outputs": [
    {
     "data": {
      "image/png": "[encoded data removed]",
      "text/plain": [
       "<Figure size 1300x600 with 1 Axes>"
      ]
     },
     "metadata": {},
     "output_type": "display_data"
    }
   ],
   "source": [
    "# Графики среднего чека по группам \n",
    "fig, ax = plt.subplots(figsize=(13, 6))\n",
    "\n",
    "plt.plot(cumulativeRevenueA['date'], cumulativeRevenueA['revenue']/cumulativeRevenueA['orders'], label='A')\n",
    "\n",
    "plt.plot(cumulativeRevenueB['date'], cumulativeRevenueB['revenue']/cumulativeRevenueB['orders'], label='B')\n",
    "\n",
    "ax.set(title = 'Средний чек по кумулятивным данным', xlabel = 'даты', ylabel = 'руб.')\n",
    "\n",
    "plt.legend();"
   ]
  },
  {
   "cell_type": "markdown",
   "id": "44907dde",
   "metadata": {},
   "source": [
    "Средний чек по группе А наверное близок к  стабилизации в районе 7300 руб. Средний чек по группе В существенно выше, чем по А (за счет выброса), соответственно средний чек по группе В продолжает снижаться после выброса. Для более коректного анализа нужно удалить выбросы."
   ]
  },
  {
   "cell_type": "markdown",
   "id": "8057a715",
   "metadata": {},
   "source": [
    "### График относительного изменения кумулятивного среднего чека группы B к группе A"
   ]
  },
  {
   "cell_type": "code",
   "execution_count": 44,
   "id": "af6b434b",
   "metadata": {},
   "outputs": [
    {
     "data": {
      "image/png": "[encoded data removed]",
      "text/plain": [
       "<Figure size 1300x600 with 1 Axes>"
      ]
     },
     "metadata": {},
     "output_type": "display_data"
    }
   ],
   "source": [
    "# собираем данные в одном датафрейме\n",
    "mergedCumulativeRevenue = cumulativeRevenueA.merge(cumulativeRevenueB, left_on='date', right_on='date', \n",
    "                                                   how='left', suffixes=['A', 'B'])\n",
    "# зададим размеры графика\n",
    "fig, ax = plt.subplots(figsize=(13, 6))\n",
    "\n",
    "# cтроим отношение средних чеков\n",
    "plt.plot(mergedCumulativeRevenue['date'], (mergedCumulativeRevenue['revenueB']/mergedCumulativeRevenue['ordersB']\n",
    "                                          )/(mergedCumulativeRevenue['revenueA']/mergedCumulativeRevenue['ordersA'])-1)\n",
    "# даем названия графика и осей\n",
    "ax.set(title = 'Относительное изменение кумулятивного среднего чека группы B к группе A', xlabel = 'даты', ylabel = 'доли единицы')\n",
    "\n",
    "# добавляем ось X\n",
    "plt.axhline(y=0, color='black', linestyle='--');"
   ]
  },
  {
   "cell_type": "markdown",
   "id": "74285efc",
   "metadata": {},
   "source": [
    "На графике относительного изменения кумулятивного среднего чека группы B к группе A мы также видим сильное влияние выброса. Соответственно по такому графику пока нельзя определить тенденцию. Кумулятивный средний чек группы В в какое-то время теста превышал чек группы А примерно на 50%, а в конце теста превышение составило около 30%. "
   ]
  },
  {
   "cell_type": "markdown",
   "id": "8ec7540b",
   "metadata": {},
   "source": [
    "### График кумулятивного среднего количества заказов на посетителя по группам"
   ]
  },
  {
   "cell_type": "code",
   "execution_count": 45,
   "id": "6d0821b9",
   "metadata": {},
   "outputs": [
    {
     "data": {
      "text/html": [
       "<div>\n",
       "<style scoped>\n",
       "    .dataframe tbody tr th:only-of-type {\n",
       "        vertical-align: middle;\n",
       "    }\n",
       "\n",
       "    .dataframe tbody tr th {\n",
       "        vertical-align: top;\n",
       "    }\n",
       "\n",
       "    .dataframe thead th {\n",
       "        text-align: right;\n",
       "    }\n",
       "</style>\n",
       "<table border=\"1\" class=\"dataframe\">\n",
       "  <thead>\n",
       "    <tr style=\"text-align: right;\">\n",
       "      <th></th>\n",
       "      <th>date</th>\n",
       "      <th>group</th>\n",
       "      <th>visitors</th>\n",
       "      <th>visitors_cum</th>\n",
       "    </tr>\n",
       "  </thead>\n",
       "  <tbody>\n",
       "    <tr>\n",
       "      <th>0</th>\n",
       "      <td>2019-08-01</td>\n",
       "      <td>A</td>\n",
       "      <td>719</td>\n",
       "      <td>719</td>\n",
       "    </tr>\n",
       "    <tr>\n",
       "      <th>1</th>\n",
       "      <td>2019-08-02</td>\n",
       "      <td>A</td>\n",
       "      <td>619</td>\n",
       "      <td>1338</td>\n",
       "    </tr>\n",
       "    <tr>\n",
       "      <th>2</th>\n",
       "      <td>2019-08-03</td>\n",
       "      <td>A</td>\n",
       "      <td>507</td>\n",
       "      <td>1845</td>\n",
       "    </tr>\n",
       "    <tr>\n",
       "      <th>3</th>\n",
       "      <td>2019-08-04</td>\n",
       "      <td>A</td>\n",
       "      <td>717</td>\n",
       "      <td>2562</td>\n",
       "    </tr>\n",
       "    <tr>\n",
       "      <th>4</th>\n",
       "      <td>2019-08-05</td>\n",
       "      <td>A</td>\n",
       "      <td>756</td>\n",
       "      <td>3318</td>\n",
       "    </tr>\n",
       "  </tbody>\n",
       "</table>\n",
       "</div>"
      ],
      "text/plain": [
       "        date group  visitors  visitors_cum\n",
       "0 2019-08-01     A       719           719\n",
       "1 2019-08-02     A       619          1338\n",
       "2 2019-08-03     A       507          1845\n",
       "3 2019-08-04     A       717          2562\n",
       "4 2019-08-05     A       756          3318"
      ]
     },
     "execution_count": 45,
     "metadata": {},
     "output_type": "execute_result"
    }
   ],
   "source": [
    "# получим таблицу с кумулятивным количеством визитов в группе А\n",
    "cumulative_visitors_A = visitors.query('group==\"A\"')\n",
    "cumulative_visitors_A = cumulative_visitors_A.copy()\n",
    "cumulative_visitors_A['visitors_cum'] = cumulative_visitors_A['visitors'].cumsum()\n",
    "cumulative_visitors_A.head()"
   ]
  },
  {
   "cell_type": "code",
   "execution_count": 46,
   "id": "da49ea34",
   "metadata": {},
   "outputs": [
    {
     "data": {
      "text/html": [
       "<div>\n",
       "<style scoped>\n",
       "    .dataframe tbody tr th:only-of-type {\n",
       "        vertical-align: middle;\n",
       "    }\n",
       "\n",
       "    .dataframe tbody tr th {\n",
       "        vertical-align: top;\n",
       "    }\n",
       "\n",
       "    .dataframe thead th {\n",
       "        text-align: right;\n",
       "    }\n",
       "</style>\n",
       "<table border=\"1\" class=\"dataframe\">\n",
       "  <thead>\n",
       "    <tr style=\"text-align: right;\">\n",
       "      <th></th>\n",
       "      <th>date</th>\n",
       "      <th>group</th>\n",
       "      <th>visitors</th>\n",
       "      <th>visitors_cum</th>\n",
       "    </tr>\n",
       "  </thead>\n",
       "  <tbody>\n",
       "    <tr>\n",
       "      <th>31</th>\n",
       "      <td>2019-08-01</td>\n",
       "      <td>B</td>\n",
       "      <td>713</td>\n",
       "      <td>713</td>\n",
       "    </tr>\n",
       "    <tr>\n",
       "      <th>32</th>\n",
       "      <td>2019-08-02</td>\n",
       "      <td>B</td>\n",
       "      <td>581</td>\n",
       "      <td>1294</td>\n",
       "    </tr>\n",
       "    <tr>\n",
       "      <th>33</th>\n",
       "      <td>2019-08-03</td>\n",
       "      <td>B</td>\n",
       "      <td>509</td>\n",
       "      <td>1803</td>\n",
       "    </tr>\n",
       "    <tr>\n",
       "      <th>34</th>\n",
       "      <td>2019-08-04</td>\n",
       "      <td>B</td>\n",
       "      <td>770</td>\n",
       "      <td>2573</td>\n",
       "    </tr>\n",
       "    <tr>\n",
       "      <th>35</th>\n",
       "      <td>2019-08-05</td>\n",
       "      <td>B</td>\n",
       "      <td>707</td>\n",
       "      <td>3280</td>\n",
       "    </tr>\n",
       "  </tbody>\n",
       "</table>\n",
       "</div>"
      ],
      "text/plain": [
       "         date group  visitors  visitors_cum\n",
       "31 2019-08-01     B       713           713\n",
       "32 2019-08-02     B       581          1294\n",
       "33 2019-08-03     B       509          1803\n",
       "34 2019-08-04     B       770          2573\n",
       "35 2019-08-05     B       707          3280"
      ]
     },
     "execution_count": 46,
     "metadata": {},
     "output_type": "execute_result"
    }
   ],
   "source": [
    "# получим таблицу с кумулятивным количеством визитов в группе В\n",
    "cumulative_visitors_B = visitors.query('group==\"B\"')\n",
    "cumulative_visitors_B = cumulative_visitors_B.copy()\n",
    "cumulative_visitors_B['visitors_cum'] = cumulative_visitors_B['visitors'].cumsum()\n",
    "cumulative_visitors_B.head()"
   ]
  },
  {
   "cell_type": "code",
   "execution_count": 47,
   "id": "7219291c",
   "metadata": {},
   "outputs": [
    {
     "data": {
      "image/png": "[encoded data removed]",
      "text/plain": [
       "<Figure size 1300x600 with 1 Axes>"
      ]
     },
     "metadata": {},
     "output_type": "display_data"
    }
   ],
   "source": [
    "# датафрейм с кумулятивным количеством заказов по дням в группе А\n",
    "cumulativeOrdersA = cumulativeData[cumulativeData['group']=='A'][['date', 'orders', 'buyers']]\n",
    "\n",
    "# датафрейм с кумулятивным количеством заказов и кумулятивным количеством посетителей по дням в группе А\n",
    "cumulative_A = cumulative_visitors_A.merge(cumulativeOrdersA)\n",
    "\n",
    "# датафрейм с кумулятивным количеством заказов по дням в группе B\n",
    "cumulativeOrdersB = cumulativeData[cumulativeData['group']=='B'][['date','orders', 'buyers']]\n",
    "\n",
    "# датафрейм с кумулятивным количеством заказов и кумулятивным количеством посетителей по дням в группе В\n",
    "cumulative_B = cumulative_visitors_B.merge(cumulativeOrdersB)\n",
    "\n",
    "# зададим размеры графика\n",
    "fig, ax = plt.subplots(figsize=(13, 6))\n",
    "\n",
    "# зададим размеры оси y\n",
    "plt.ylim(0, 0.038)\n",
    "\n",
    "# даем названия графика и осей\n",
    "ax.set(title = 'Кумулятивное среднее количество заказов на посетителя', xlabel = 'даты', ylabel = 'заказы')\n",
    "\n",
    "# Строим график выручки группы А\n",
    "plt.plot(cumulativeOrdersA['date'], cumulative_A['orders'] / cumulative_A['visitors_cum'], label='A')\n",
    "\n",
    "# Строим график выручки группы B\n",
    "plt.plot(cumulativeOrdersB['date'], cumulative_B['orders'] / cumulative_B['visitors_cum'], label='B')\n",
    "\n",
    "plt.legend();"
   ]
  },
  {
   "cell_type": "markdown",
   "id": "3b9849e4",
   "metadata": {},
   "source": [
    "Кумулятивное среднее количество заказов на посетителя довольно быстро вышло на стабильный уровень. Кумулятивное среднее количество заказов на посетителя в группе В стабильно выше, чем в группе А."
   ]
  },
  {
   "cell_type": "markdown",
   "id": "dc4d7dff",
   "metadata": {},
   "source": [
    "### График относительного изменения кумулятивного среднего количества заказов на посетителя группы B к группе A"
   ]
  },
  {
   "cell_type": "code",
   "execution_count": 48,
   "id": "6ccec5fe",
   "metadata": {},
   "outputs": [
    {
     "data": {
      "text/html": [
       "<div>\n",
       "<style scoped>\n",
       "    .dataframe tbody tr th:only-of-type {\n",
       "        vertical-align: middle;\n",
       "    }\n",
       "\n",
       "    .dataframe tbody tr th {\n",
       "        vertical-align: top;\n",
       "    }\n",
       "\n",
       "    .dataframe thead th {\n",
       "        text-align: right;\n",
       "    }\n",
       "</style>\n",
       "<table border=\"1\" class=\"dataframe\">\n",
       "  <thead>\n",
       "    <tr style=\"text-align: right;\">\n",
       "      <th></th>\n",
       "      <th>date</th>\n",
       "      <th>groupA</th>\n",
       "      <th>visitorsA</th>\n",
       "      <th>visitors_cumA</th>\n",
       "      <th>ordersA</th>\n",
       "      <th>buyersA</th>\n",
       "      <th>groupB</th>\n",
       "      <th>visitorsB</th>\n",
       "      <th>visitors_cumB</th>\n",
       "      <th>ordersB</th>\n",
       "      <th>buyersB</th>\n",
       "    </tr>\n",
       "  </thead>\n",
       "  <tbody>\n",
       "    <tr>\n",
       "      <th>0</th>\n",
       "      <td>2019-08-01</td>\n",
       "      <td>A</td>\n",
       "      <td>719</td>\n",
       "      <td>719</td>\n",
       "      <td>24</td>\n",
       "      <td>20</td>\n",
       "      <td>B</td>\n",
       "      <td>713</td>\n",
       "      <td>713</td>\n",
       "      <td>21</td>\n",
       "      <td>20</td>\n",
       "    </tr>\n",
       "    <tr>\n",
       "      <th>1</th>\n",
       "      <td>2019-08-02</td>\n",
       "      <td>A</td>\n",
       "      <td>619</td>\n",
       "      <td>1338</td>\n",
       "      <td>44</td>\n",
       "      <td>38</td>\n",
       "      <td>B</td>\n",
       "      <td>581</td>\n",
       "      <td>1294</td>\n",
       "      <td>45</td>\n",
       "      <td>43</td>\n",
       "    </tr>\n",
       "    <tr>\n",
       "      <th>2</th>\n",
       "      <td>2019-08-03</td>\n",
       "      <td>A</td>\n",
       "      <td>507</td>\n",
       "      <td>1845</td>\n",
       "      <td>68</td>\n",
       "      <td>62</td>\n",
       "      <td>B</td>\n",
       "      <td>509</td>\n",
       "      <td>1803</td>\n",
       "      <td>61</td>\n",
       "      <td>59</td>\n",
       "    </tr>\n",
       "    <tr>\n",
       "      <th>3</th>\n",
       "      <td>2019-08-04</td>\n",
       "      <td>A</td>\n",
       "      <td>717</td>\n",
       "      <td>2562</td>\n",
       "      <td>84</td>\n",
       "      <td>77</td>\n",
       "      <td>B</td>\n",
       "      <td>770</td>\n",
       "      <td>2573</td>\n",
       "      <td>78</td>\n",
       "      <td>75</td>\n",
       "    </tr>\n",
       "    <tr>\n",
       "      <th>4</th>\n",
       "      <td>2019-08-05</td>\n",
       "      <td>A</td>\n",
       "      <td>756</td>\n",
       "      <td>3318</td>\n",
       "      <td>109</td>\n",
       "      <td>100</td>\n",
       "      <td>B</td>\n",
       "      <td>707</td>\n",
       "      <td>3280</td>\n",
       "      <td>101</td>\n",
       "      <td>98</td>\n",
       "    </tr>\n",
       "  </tbody>\n",
       "</table>\n",
       "</div>"
      ],
      "text/plain": [
       "        date groupA  visitorsA  visitors_cumA  ordersA  buyersA groupB  \\\n",
       "0 2019-08-01      A        719            719       24       20      B   \n",
       "1 2019-08-02      A        619           1338       44       38      B   \n",
       "2 2019-08-03      A        507           1845       68       62      B   \n",
       "3 2019-08-04      A        717           2562       84       77      B   \n",
       "4 2019-08-05      A        756           3318      109      100      B   \n",
       "\n",
       "   visitorsB  visitors_cumB  ordersB  buyersB  \n",
       "0        713            713       21       20  \n",
       "1        581           1294       45       43  \n",
       "2        509           1803       61       59  \n",
       "3        770           2573       78       75  \n",
       "4        707           3280      101       98  "
      ]
     },
     "execution_count": 48,
     "metadata": {},
     "output_type": "execute_result"
    }
   ],
   "source": [
    "# собираем кумулятивные данные в одном датафрейме\n",
    "merged_cumulative = cumulative_A.merge(cumulative_B, left_on='date', right_on='date', \n",
    "                                                   how='left', suffixes=['A', 'B'])\n",
    "\n",
    "merged_cumulative.head()"
   ]
  },
  {
   "cell_type": "code",
   "execution_count": 49,
   "id": "2c0e0eb9",
   "metadata": {},
   "outputs": [
    {
     "data": {
      "image/png": "[encoded data removed]",
      "text/plain": [
       "<Figure size 1300x600 with 1 Axes>"
      ]
     },
     "metadata": {},
     "output_type": "display_data"
    }
   ],
   "source": [
    "# зададим размеры графика\n",
    "fig, ax = plt.subplots(figsize=(13, 6))\n",
    "\n",
    "# cтроим отношение кумулятивного среднего количества заказов на покупателя группы B к группе A\n",
    "plt.plot(merged_cumulative['date'], (merged_cumulative['ordersB']/merged_cumulative['visitors_cumB']                                                                               \n",
    "                                         )/(merged_cumulative['ordersA']/merged_cumulative['visitors_cumA'])-1)\n",
    "# даем названия графика и осей\n",
    "ax.set(title = 'Относительное изменение кумулятивного среднего количества заказов на посетителя группы B к группе A', \n",
    "       xlabel = 'даты', ylabel = 'доли единицы')\n",
    "\n",
    "# добавляем ось X\n",
    "plt.axhline(y=0, color='black', linestyle='--');"
   ]
  },
  {
   "cell_type": "markdown",
   "id": "76d3f9df",
   "metadata": {},
   "source": [
    "Относительное изменение кумулятивного среднего количества заказов на посетителя группы B к группе A достаточно быстро вышло в положительную зону и стабильно показывает более высокую конверсию в группе В."
   ]
  },
  {
   "cell_type": "markdown",
   "id": "869793db",
   "metadata": {},
   "source": [
    "### Точечный график количества заказов по покупателям"
   ]
  },
  {
   "cell_type": "code",
   "execution_count": 50,
   "id": "f42ee75d",
   "metadata": {},
   "outputs": [
    {
     "data": {
      "text/html": [
       "<div>\n",
       "<style scoped>\n",
       "    .dataframe tbody tr th:only-of-type {\n",
       "        vertical-align: middle;\n",
       "    }\n",
       "\n",
       "    .dataframe tbody tr th {\n",
       "        vertical-align: top;\n",
       "    }\n",
       "\n",
       "    .dataframe thead th {\n",
       "        text-align: right;\n",
       "    }\n",
       "</style>\n",
       "<table border=\"1\" class=\"dataframe\">\n",
       "  <thead>\n",
       "    <tr style=\"text-align: right;\">\n",
       "      <th></th>\n",
       "      <th>visitor_id</th>\n",
       "      <th>transaction_id</th>\n",
       "    </tr>\n",
       "  </thead>\n",
       "  <tbody>\n",
       "    <tr>\n",
       "      <th>0</th>\n",
       "      <td>5114589</td>\n",
       "      <td>1</td>\n",
       "    </tr>\n",
       "    <tr>\n",
       "      <th>1</th>\n",
       "      <td>6958315</td>\n",
       "      <td>1</td>\n",
       "    </tr>\n",
       "    <tr>\n",
       "      <th>2</th>\n",
       "      <td>8300375</td>\n",
       "      <td>2</td>\n",
       "    </tr>\n",
       "    <tr>\n",
       "      <th>3</th>\n",
       "      <td>11685486</td>\n",
       "      <td>1</td>\n",
       "    </tr>\n",
       "    <tr>\n",
       "      <th>4</th>\n",
       "      <td>39475350</td>\n",
       "      <td>1</td>\n",
       "    </tr>\n",
       "  </tbody>\n",
       "</table>\n",
       "</div>"
      ],
      "text/plain": [
       "   visitor_id  transaction_id\n",
       "0     5114589               1\n",
       "1     6958315               1\n",
       "2     8300375               2\n",
       "3    11685486               1\n",
       "4    39475350               1"
      ]
     },
     "execution_count": 50,
     "metadata": {},
     "output_type": "execute_result"
    }
   ],
   "source": [
    "# найдём количество заказов на покупателя\n",
    "orders_by_user = orders.groupby('visitor_id').agg({'transaction_id':'nunique'}).reset_index()\n",
    "orders_by_user.head()"
   ]
  },
  {
   "cell_type": "code",
   "execution_count": 51,
   "id": "dc7b5cb8",
   "metadata": {
    "scrolled": false
   },
   "outputs": [
    {
     "data": {
      "image/png": "[encoded data removed]",
      "text/plain": [
       "<Figure size 600x400 with 1 Axes>"
      ]
     },
     "metadata": {},
     "output_type": "display_data"
    }
   ],
   "source": [
    "# построим точечный график количества заказов по покупателям\n",
    "x_values = pd.Series(range(0,len(orders_by_user['visitor_id'])))\n",
    "\n",
    "# зададим размеры графика\n",
    "fig, ax = plt.subplots(figsize=(6, 4))\n",
    "\n",
    "# даем названия графика и осей\n",
    "ax.set(title = 'количество заказов по покупателям', \n",
    "       xlabel = 'порядковый номер', ylabel = 'количество')\n",
    "\n",
    "# строим график\n",
    "plt.scatter(x_values, orders_by_user['transaction_id']) ;"
   ]
  },
  {
   "cell_type": "markdown",
   "id": "8046153d",
   "metadata": {},
   "source": [
    "В основном покупатели делают 1 заказ, значительно реже - 2, более трех заказов делают единицы. Визуально 4 и более заказа можно считать выбросами."
   ]
  },
  {
   "cell_type": "markdown",
   "id": "68cc5bcb",
   "metadata": {},
   "source": [
    "### Расчет 95-й и 99-й перцентиля количества заказов на пользователя. Выбор границы для определения аномальных пользователей"
   ]
  },
  {
   "cell_type": "code",
   "execution_count": 52,
   "id": "451411ee",
   "metadata": {},
   "outputs": [
    {
     "data": {
      "text/plain": [
       "array([2., 4.])"
      ]
     },
     "execution_count": 52,
     "metadata": {},
     "output_type": "execute_result"
    }
   ],
   "source": [
    "np.percentile(orders_by_user['transaction_id'], [95, 99])"
   ]
  },
  {
   "cell_type": "markdown",
   "id": "0e4057e0",
   "metadata": {},
   "source": [
    "Не более 5% пользователей делали более 2 заказов, и не более 1% пользователей делали более 4 заказов. Можно выбрать 4 заказа на одного пользователя за верхнюю границу числа заказов, и отсеять аномальных пользователей по ней. "
   ]
  },
  {
   "cell_type": "markdown",
   "id": "dbdcffc1",
   "metadata": {},
   "source": [
    "### Точечный график стоимостей заказов"
   ]
  },
  {
   "cell_type": "code",
   "execution_count": 53,
   "id": "d4d117f3",
   "metadata": {},
   "outputs": [
    {
     "data": {
      "image/png": "[encoded data removed]",
      "text/plain": [
       "<Figure size 600x400 with 1 Axes>"
      ]
     },
     "metadata": {},
     "output_type": "display_data"
    }
   ],
   "source": [
    "# получим данные для оси Х\n",
    "x_values = pd.Series(range(0,len(orders['transaction_id'])))\n",
    "\n",
    "# зададим размеры графика\n",
    "fig, ax = plt.subplots(figsize=(6, 4))\n",
    "\n",
    "# задаем названия графика и осей\n",
    "ax.set(title = 'Точечный график стоимостей заказов', xlabel = 'порядковый номер', ylabel = 'млн. руб.')\n",
    "\n",
    "# строим график\n",
    "plt.scatter(x_values, orders['revenue'], alpha=0.8);"
   ]
  },
  {
   "cell_type": "markdown",
   "id": "aca5ed4b",
   "metadata": {},
   "source": [
    "На точечном графике стоимостей заказов видны два явных выброса: в районе 200 тыс. руб. и более 1,2 млн. руб. "
   ]
  },
  {
   "cell_type": "markdown",
   "id": "3dce754d",
   "metadata": {},
   "source": [
    "### Расчет 95-й и 99-й перцентиля стоимости заказов. Выбор границы для определения аномальных заказов"
   ]
  },
  {
   "cell_type": "code",
   "execution_count": 54,
   "id": "1788a7c2",
   "metadata": {},
   "outputs": [
    {
     "data": {
      "text/plain": [
       "array([28000. , 58233.2])"
      ]
     },
     "execution_count": 54,
     "metadata": {},
     "output_type": "execute_result"
    }
   ],
   "source": [
    "# Расчитаем 95-й и 99-й перцентили стоимости заказов\n",
    "np.percentile(orders['revenue'], [95, 99])"
   ]
  },
  {
   "cell_type": "code",
   "execution_count": 55,
   "id": "88a8645d",
   "metadata": {},
   "outputs": [
    {
     "data": {
      "image/png": "[encoded data removed]",
      "text/plain": [
       "<Figure size 1300x400 with 1 Axes>"
      ]
     },
     "metadata": {},
     "output_type": "display_data"
    }
   ],
   "source": [
    "# ещё раз посмотрим на гистограмму, чтобы оценить гранцу анамальной стоимости заказов\n",
    "\n",
    "# зададим размеры графика\n",
    "fig, ax = plt.subplots(figsize=(13, 4))\n",
    "\n",
    "# задаем названия графика и осей\n",
    "ax.set(title = 'Распределение стоимостей заказов', xlabel = 'стоимость, руб.', ylabel = 'частота')\n",
    "\n",
    "orders['revenue'].hist(bins=30, range=(20000, 250000));"
   ]
  },
  {
   "cell_type": "markdown",
   "id": "5d91786e",
   "metadata": {},
   "source": [
    "Не более 5% заказов выше 28 000 руб., и не более 1% заказов выше 58 233,2 руб. Можно выбрать стоимость заказа между 100 000 руб.  и 180 000 за верхнюю границу числа заказов, и отсеять аномальных пользователей по ней. Визуально по точечному графику стоимостей заказов видны два явных выброса: в районе 200 тыс. руб. и более 1,2 млн. руб. Есть смысл именно их и удалить."
   ]
  },
  {
   "cell_type": "markdown",
   "id": "a978125a",
   "metadata": {},
   "source": [
    "### Расчет статистической значимости различий в среднем количестве заказов на посетителя между группами по «сырым» данным"
   ]
  },
  {
   "cell_type": "code",
   "execution_count": 56,
   "id": "891b3c4a",
   "metadata": {},
   "outputs": [],
   "source": [
    "# посчитаем количество заказов на пользователя по группам\n",
    "orders_by_users_A = (orders[orders['group'] == 'A'].groupby('visitor_id', as_index=False)\n",
    "    .agg({'transaction_id': pd.Series.nunique})\n",
    ")\n",
    "orders_by_users_A.columns = ['user_id', 'orders'] # изменим названия столбцов\n",
    "\n",
    "orders_by_users_B = (orders[orders['group'] == 'B'].groupby('visitor_id', as_index=False)\n",
    "    .agg({'transaction_id': pd.Series.nunique})\n",
    ")\n",
    "orders_by_users_B.columns = ['user_id', 'orders'] # изменим названия столбцов"
   ]
  },
  {
   "cell_type": "code",
   "execution_count": 57,
   "id": "c43f56c5",
   "metadata": {},
   "outputs": [
    {
     "data": {
      "text/html": [
       "<div>\n",
       "<style scoped>\n",
       "    .dataframe tbody tr th:only-of-type {\n",
       "        vertical-align: middle;\n",
       "    }\n",
       "\n",
       "    .dataframe tbody tr th {\n",
       "        vertical-align: top;\n",
       "    }\n",
       "\n",
       "    .dataframe thead th {\n",
       "        text-align: right;\n",
       "    }\n",
       "</style>\n",
       "<table border=\"1\" class=\"dataframe\">\n",
       "  <thead>\n",
       "    <tr style=\"text-align: right;\">\n",
       "      <th></th>\n",
       "      <th>user_id</th>\n",
       "      <th>orders</th>\n",
       "    </tr>\n",
       "  </thead>\n",
       "  <tbody>\n",
       "    <tr>\n",
       "      <th>0</th>\n",
       "      <td>8300375</td>\n",
       "      <td>1</td>\n",
       "    </tr>\n",
       "    <tr>\n",
       "      <th>1</th>\n",
       "      <td>11685486</td>\n",
       "      <td>1</td>\n",
       "    </tr>\n",
       "    <tr>\n",
       "      <th>2</th>\n",
       "      <td>54447517</td>\n",
       "      <td>1</td>\n",
       "    </tr>\n",
       "    <tr>\n",
       "      <th>3</th>\n",
       "      <td>66685450</td>\n",
       "      <td>1</td>\n",
       "    </tr>\n",
       "    <tr>\n",
       "      <th>4</th>\n",
       "      <td>78758296</td>\n",
       "      <td>1</td>\n",
       "    </tr>\n",
       "  </tbody>\n",
       "</table>\n",
       "</div>"
      ],
      "text/plain": [
       "    user_id  orders\n",
       "0   8300375       1\n",
       "1  11685486       1\n",
       "2  54447517       1\n",
       "3  66685450       1\n",
       "4  78758296       1"
      ]
     },
     "execution_count": 57,
     "metadata": {},
     "output_type": "execute_result"
    }
   ],
   "source": [
    "orders_by_users_A.head()"
   ]
  },
  {
   "cell_type": "code",
   "execution_count": 58,
   "id": "e87b4e8a",
   "metadata": {},
   "outputs": [
    {
     "data": {
      "text/html": [
       "<div>\n",
       "<style scoped>\n",
       "    .dataframe tbody tr th:only-of-type {\n",
       "        vertical-align: middle;\n",
       "    }\n",
       "\n",
       "    .dataframe tbody tr th {\n",
       "        vertical-align: top;\n",
       "    }\n",
       "\n",
       "    .dataframe thead th {\n",
       "        text-align: right;\n",
       "    }\n",
       "</style>\n",
       "<table border=\"1\" class=\"dataframe\">\n",
       "  <thead>\n",
       "    <tr style=\"text-align: right;\">\n",
       "      <th></th>\n",
       "      <th>user_id</th>\n",
       "      <th>orders</th>\n",
       "    </tr>\n",
       "  </thead>\n",
       "  <tbody>\n",
       "    <tr>\n",
       "      <th>0</th>\n",
       "      <td>5114589</td>\n",
       "      <td>1</td>\n",
       "    </tr>\n",
       "    <tr>\n",
       "      <th>1</th>\n",
       "      <td>6958315</td>\n",
       "      <td>1</td>\n",
       "    </tr>\n",
       "    <tr>\n",
       "      <th>2</th>\n",
       "      <td>8300375</td>\n",
       "      <td>1</td>\n",
       "    </tr>\n",
       "    <tr>\n",
       "      <th>3</th>\n",
       "      <td>39475350</td>\n",
       "      <td>1</td>\n",
       "    </tr>\n",
       "    <tr>\n",
       "      <th>4</th>\n",
       "      <td>47206413</td>\n",
       "      <td>1</td>\n",
       "    </tr>\n",
       "  </tbody>\n",
       "</table>\n",
       "</div>"
      ],
      "text/plain": [
       "    user_id  orders\n",
       "0   5114589       1\n",
       "1   6958315       1\n",
       "2   8300375       1\n",
       "3  39475350       1\n",
       "4  47206413       1"
      ]
     },
     "execution_count": 58,
     "metadata": {},
     "output_type": "execute_result"
    }
   ],
   "source": [
    "orders_by_users_B.head()"
   ]
  },
  {
   "cell_type": "code",
   "execution_count": 59,
   "id": "711231fa",
   "metadata": {},
   "outputs": [],
   "source": [
    "# Объявим переменные sampleA и sampleB, в которых пользователям с заказами будет соответствовать \n",
    "# число заказов пользователя. А пользователям без заказов — нули. \n",
    "sampleA = pd.concat([orders_by_users_A['orders'], pd.Series(0, index=np.arange(visitors.query('group == \"A\"')['visitors'].sum() - \n",
    "           len(orders_by_users_A['orders'])), name='orders')],axis=0)\n",
    "\n",
    "sampleB = pd.concat([orders_by_users_B['orders'], pd.Series(0, index=np.arange(visitors.query('group == \"B\"')['visitors'].sum() - \n",
    "           len(orders_by_users_B['orders'])), name='orders')],axis=0)"
   ]
  },
  {
   "cell_type": "code",
   "execution_count": 60,
   "id": "253a2f3d",
   "metadata": {},
   "outputs": [
    {
     "data": {
      "text/plain": [
       "orders\n",
       "0    18233\n",
       "1      473\n",
       "2       17\n",
       "3        7\n",
       "4        3\n",
       "5        2\n",
       "7        1\n",
       "Name: count, dtype: int64"
      ]
     },
     "execution_count": 60,
     "metadata": {},
     "output_type": "execute_result"
    }
   ],
   "source": [
    "# посмотрим как распределяются посетители по количеству заказов\n",
    "sampleA.value_counts()"
   ]
  },
  {
   "cell_type": "code",
   "execution_count": 61,
   "id": "96b82da1",
   "metadata": {},
   "outputs": [
    {
     "data": {
      "text/plain": [
       "0.029728864218616567"
      ]
     },
     "execution_count": 61,
     "metadata": {},
     "output_type": "execute_result"
    }
   ],
   "source": [
    "# среднее число заказов на 1 посетителя в группе А\n",
    "sampleA.mean()"
   ]
  },
  {
   "cell_type": "code",
   "execution_count": 62,
   "id": "b17eee88",
   "metadata": {
    "scrolled": true
   },
   "outputs": [
    {
     "data": {
      "text/plain": [
       "orders\n",
       "0    18330\n",
       "1      552\n",
       "2       23\n",
       "3        5\n",
       "4        4\n",
       "5        1\n",
       "6        1\n",
       "Name: count, dtype: int64"
      ]
     },
     "execution_count": 62,
     "metadata": {},
     "output_type": "execute_result"
    }
   ],
   "source": [
    "# посмотрим как распределяются посетители по количеству заказов\n",
    "sampleB.value_counts()"
   ]
  },
  {
   "cell_type": "code",
   "execution_count": 63,
   "id": "9b904dcc",
   "metadata": {},
   "outputs": [
    {
     "data": {
      "text/plain": [
       "0.033833791499259885"
      ]
     },
     "execution_count": 63,
     "metadata": {},
     "output_type": "execute_result"
    }
   ],
   "source": [
    "# среднее число заказов на 1 посетителя в группе В\n",
    "sampleB.mean()"
   ]
  },
  {
   "cell_type": "markdown",
   "id": "ea68c81c",
   "metadata": {},
   "source": [
    "**Нулевая гипотеза** - среднее количество заказов на посетителя в группах А и В равны\n",
    "\n",
    "**Альтернативная гипотеза** - среднее количество заказов на посетителя в группах А и В не равны"
   ]
  },
  {
   "cell_type": "code",
   "execution_count": 64,
   "id": "3358c442",
   "metadata": {
    "scrolled": true
   },
   "outputs": [
    {
     "data": {
      "text/plain": [
       "'P-value  = 0.01679'"
      ]
     },
     "metadata": {},
     "output_type": "display_data"
    }
   ],
   "source": [
    "# проверка статистической значимости различий в среднем количестве заказов на посетителя \n",
    "# между группами по «сырым» данным с помощью теста Манна-Уитни\n",
    "display('P-value  = ' \"{0:.5f}\".format(stats.mannwhitneyu(sampleA, sampleB)[1]))"
   ]
  },
  {
   "cell_type": "markdown",
   "id": "9b5dafe2",
   "metadata": {},
   "source": [
    "P-value меньше 0.05, потому нулевую гипотезу отвергаем. Анализ «сырых данных» сообщает, что в среднем количестве заказов между группами есть статистически значимые различия."
   ]
  },
  {
   "cell_type": "code",
   "execution_count": 65,
   "id": "76e19698",
   "metadata": {},
   "outputs": [
    {
     "data": {
      "text/plain": [
       "'Прирост среднего количества заказов группы B к группе A = 0.138'"
      ]
     },
     "metadata": {},
     "output_type": "display_data"
    }
   ],
   "source": [
    "# прирост среднего количества заказов группы B к группе A\n",
    "display('Прирост среднего количества заказов группы B к группе A = '\"{0:.3f}\".format(sampleB.mean() / sampleA.mean() - 1))"
   ]
  },
  {
   "cell_type": "markdown",
   "id": "e6d617a7",
   "metadata": {},
   "source": [
    " Относительный прирост среднего количества заказов группы B к группе A равен 13.8%."
   ]
  },
  {
   "cell_type": "markdown",
   "id": "670df537",
   "metadata": {},
   "source": [
    "### Расчет статистической значимости различий в среднем чеке заказа между группами по «сырым» данным"
   ]
  },
  {
   "cell_type": "markdown",
   "id": "e2ad1608",
   "metadata": {},
   "source": [
    "**Нулевая гипотеза** - средние чеки заказов в группах А и В равны\n",
    "\n",
    "**Альтернативная гипотеза** - средние чеки заказов в группах А и В не равны"
   ]
  },
  {
   "cell_type": "code",
   "execution_count": 66,
   "id": "8c338dbd",
   "metadata": {},
   "outputs": [
    {
     "data": {
      "text/plain": [
       "'0.729'"
      ]
     },
     "execution_count": 66,
     "metadata": {},
     "output_type": "execute_result"
    }
   ],
   "source": [
    "# проверка статистической значимости различий в среднем чеке заказа  \n",
    "# между группами по «сырым» данным с помощью теста Манна-Уитни\n",
    "'{0:.3f}'.format(stats.mannwhitneyu(orders[orders['group']=='A']['revenue'], orders[orders['group']=='B']['revenue'])[1])"
   ]
  },
  {
   "cell_type": "markdown",
   "id": "463d0247",
   "metadata": {},
   "source": [
    "P-value существенно больше 0.05, потому нулевую гипотезу не отвергаем. Анализ «сырых данных» сообщает, что в среднем чеке заказов между группами нет статистически значимых различий."
   ]
  },
  {
   "cell_type": "code",
   "execution_count": 67,
   "id": "6f78097b",
   "metadata": {},
   "outputs": [
    {
     "data": {
      "text/plain": [
       "'0.259'"
      ]
     },
     "execution_count": 67,
     "metadata": {},
     "output_type": "execute_result"
    }
   ],
   "source": [
    "# относительный прирост среднего чека заказов группы B к группе A\n",
    "'{0:.3f}'.format(orders[orders['group']=='B']['revenue'].mean()/orders[orders['group']=='A']['revenue'].mean()-1)"
   ]
  },
  {
   "cell_type": "markdown",
   "id": "43c1f38d",
   "metadata": {},
   "source": [
    "Относительный прирост среднего чека заказов группы B к группе A равен 25.9%. Это существенное отличие - больше чем на четверть, но не смотря на это статистической значимости различий между группами в среднем чеке нет. Это объясняется тем, что большие отличия в среднем связаны с выбросами, а отсутствие статистической значимости - тем, что тест Манна-Уитни непараметрический и  устойчив к выбросам."
   ]
  },
  {
   "cell_type": "markdown",
   "id": "0e4c946f",
   "metadata": {},
   "source": [
    "### Расчет статистической значимости различий в среднем количестве заказов на посетителя между группами по «очищенным» данным"
   ]
  },
  {
   "cell_type": "markdown",
   "id": "361f12c5",
   "metadata": {},
   "source": [
    "Подготовим очищенные от аномалий данные.\n",
    "\n",
    "95-й и 99-й перцентили числа заказов на одного пользователя равны 2 и 4 заказам на пользователя. А 95-й и 99-й перцентили средних чеков равны 28 000 руб. и 58 233,2 руб. \n",
    "\n",
    "Примем за аномальных пользователей тех, кто совершил 4 заказа и более, так мы уберёте 1% пользователей с наибольшим числом заказов. \n",
    "\n",
    "Визуально по точечному графику стоимостей заказов видны два явных выброса: в районе 200 тыс. руб. и более 1,2 млн. руб. Есть смысл именно их и удалить. Остальные данные находятся достаточно близко друг к другу. Поэтому примем за аномальных пользователей тех, чьи заказы превышают 100 000 руб., так мы уберем менее 1% заказов с наибольшей стоимостью."
   ]
  },
  {
   "cell_type": "code",
   "execution_count": 68,
   "id": "c2bd618d",
   "metadata": {},
   "outputs": [
    {
     "data": {
      "text/plain": [
       "18      199603092\n",
       "23      237748145\n",
       "227    2038680547\n",
       "269    2378935119\n",
       "278    2458001652\n",
       "499    4256040402\n",
       "326    2378935119\n",
       "340    2458001652\n",
       "424    3062433592\n",
       "501    3717692402\n",
       "514    3803269165\n",
       "580    4256040402\n",
       "Name: user_id, dtype: int64"
      ]
     },
     "execution_count": 68,
     "metadata": {},
     "output_type": "execute_result"
    }
   ],
   "source": [
    "# пользователи, которые совершили 4 заказа и более\n",
    "users_with_many_orders = pd.concat(\n",
    "    [\n",
    "        orders_by_users_A[orders_by_users_A['orders'] >= np.percentile(orders_by_user['transaction_id'], [99])[0]]['user_id'],\n",
    "        orders_by_users_B[orders_by_users_B['orders'] >= np.percentile(orders_by_user['transaction_id'], [99])[0]]['user_id'],\n",
    "    ],\n",
    "    axis=0,\n",
    ") \n",
    "users_with_many_orders"
   ]
  },
  {
   "cell_type": "code",
   "execution_count": 69,
   "id": "b64e4c66",
   "metadata": {},
   "outputs": [
    {
     "data": {
      "text/plain": [
       "181415.2000000095"
      ]
     },
     "execution_count": 69,
     "metadata": {},
     "output_type": "execute_result"
    }
   ],
   "source": [
    "# найдем перцентиль, который \"отсекает\" два выброса \n",
    "np.percentile(orders['revenue'], [99.9])[0]"
   ]
  },
  {
   "cell_type": "code",
   "execution_count": 70,
   "id": "e3bb1262",
   "metadata": {},
   "outputs": [
    {
     "data": {
      "text/plain": [
       "425     1920142716\n",
       "1196    2108080724\n",
       "Name: visitor_id, dtype: int64"
      ]
     },
     "execution_count": 70,
     "metadata": {},
     "output_type": "execute_result"
    }
   ],
   "source": [
    "# пользователи, которые совершили аногмальные по стоимости заказы \n",
    "users_with_expensive_orders = orders[orders['revenue'] > np.percentile(orders['revenue'], [99.9])[0]]['visitor_id']\n",
    "users_with_expensive_orders"
   ]
  },
  {
   "cell_type": "code",
   "execution_count": 71,
   "id": "8fa5ab74",
   "metadata": {},
   "outputs": [
    {
     "data": {
      "text/plain": [
       "18       199603092\n",
       "23       237748145\n",
       "425     1920142716\n",
       "227     2038680547\n",
       "1196    2108080724\n",
       "dtype: int64"
      ]
     },
     "execution_count": 71,
     "metadata": {},
     "output_type": "execute_result"
    }
   ],
   "source": [
    "# объединим эти две таблицы в одну\n",
    "abnormal_users = (\n",
    "    pd.concat([users_with_many_orders, users_with_expensive_orders], axis=0)\n",
    "    .drop_duplicates()\n",
    "    .sort_values()\n",
    ")\n",
    "abnormal_users.head()"
   ]
  },
  {
   "cell_type": "code",
   "execution_count": 72,
   "id": "b8802ec0",
   "metadata": {},
   "outputs": [],
   "source": [
    "# Объявим переменные sample_A_filtered и sample_B_filtered, в которых будут удалены заказы аномальных \n",
    "# пользователей, пользователям с заказами будет соответствовать \n",
    "# число заказов пользователя. А пользователям без заказов — нули.\n",
    "sample_A_filtered = pd.concat(\n",
    "    [\n",
    "        orders_by_users_A[\n",
    "            np.logical_not(orders_by_users_A['user_id'].isin(abnormal_users))\n",
    "        ]['orders'],\n",
    "        pd.Series(\n",
    "            0,\n",
    "            index=np.arange(\n",
    "                visitors.query('group == \"A\"')['visitors'].sum() - len(orders_by_users_A['orders'])\n",
    "            ),\n",
    "            name='orders',\n",
    "        ),\n",
    "    ],\n",
    "    axis=0,\n",
    ")\n",
    "\n",
    "sample_B_filtered = pd.concat(\n",
    "    [\n",
    "       orders_by_users_B[\n",
    "            np.logical_not(orders_by_users_B['user_id'].isin(abnormal_users))\n",
    "        ]['orders'],\n",
    "        pd.Series(\n",
    "            0,\n",
    "            index=np.arange(\n",
    "                visitors.query('group == \"B\"')['visitors'].sum() - len(orders_by_users_B['orders'])\n",
    "            ),\n",
    "            name='orders',\n",
    "        ),\n",
    "    ],\n",
    "    axis=0,\n",
    ") "
   ]
  },
  {
   "cell_type": "code",
   "execution_count": 73,
   "id": "085174ba",
   "metadata": {},
   "outputs": [
    {
     "data": {
      "text/plain": [
       "orders\n",
       "0    18233\n",
       "1      473\n",
       "2       17\n",
       "3        7\n",
       "4        3\n",
       "5        2\n",
       "7        1\n",
       "Name: count, dtype: int64"
      ]
     },
     "execution_count": 73,
     "metadata": {},
     "output_type": "execute_result"
    }
   ],
   "source": [
    "# проверим какие отличия произошли в выборках А и В после удаления заказов аномальных пользователей\n",
    "sampleA.value_counts()"
   ]
  },
  {
   "cell_type": "code",
   "execution_count": 74,
   "id": "547209f2",
   "metadata": {},
   "outputs": [
    {
     "data": {
      "text/plain": [
       "orders\n",
       "0    18233\n",
       "1      470\n",
       "2       17\n",
       "3        7\n",
       "Name: count, dtype: int64"
      ]
     },
     "execution_count": 74,
     "metadata": {},
     "output_type": "execute_result"
    }
   ],
   "source": [
    "sample_A_filtered.value_counts()"
   ]
  },
  {
   "cell_type": "code",
   "execution_count": 75,
   "id": "9e0e21ab",
   "metadata": {},
   "outputs": [
    {
     "data": {
      "text/plain": [
       "orders\n",
       "0    18330\n",
       "1      552\n",
       "2       23\n",
       "3        5\n",
       "4        4\n",
       "5        1\n",
       "6        1\n",
       "Name: count, dtype: int64"
      ]
     },
     "execution_count": 75,
     "metadata": {},
     "output_type": "execute_result"
    }
   ],
   "source": [
    "sampleB.value_counts()"
   ]
  },
  {
   "cell_type": "code",
   "execution_count": 76,
   "id": "8cec081c",
   "metadata": {
    "scrolled": true
   },
   "outputs": [
    {
     "data": {
      "text/plain": [
       "orders\n",
       "0    18330\n",
       "1      548\n",
       "2       23\n",
       "3        4\n",
       "Name: count, dtype: int64"
      ]
     },
     "execution_count": 76,
     "metadata": {},
     "output_type": "execute_result"
    }
   ],
   "source": [
    "sample_B_filtered.value_counts()"
   ]
  },
  {
   "cell_type": "markdown",
   "id": "66b6b893",
   "metadata": {},
   "source": [
    "Пользователи с 4 и более заказами были удалены. Также уменьшилось число пользователей с 1 заказом и с 3 заказами. Это произошло от того, что часть пользователей попала одновременно в группу А и В."
   ]
  },
  {
   "cell_type": "markdown",
   "id": "0073627e",
   "metadata": {},
   "source": [
    "**Нулевая гипотеза** - среднее количество заказов на посетителя в группах А и В равны\n",
    "\n",
    "**Альтернативная гипотеза** - среднее количество заказов на посетителя в группах А и В не равны"
   ]
  },
  {
   "cell_type": "code",
   "execution_count": 77,
   "id": "369a305c",
   "metadata": {
    "scrolled": true
   },
   "outputs": [
    {
     "name": "stdout",
     "output_type": "stream",
     "text": [
      "P-value = 0.01850\n"
     ]
    }
   ],
   "source": [
    "# проверка статистической значимости различий в среднем количестве заказов на посетителя \n",
    "# между группами по «очищенным» данным с помощью теста Манна-Уитни\n",
    "print('P-value = ' \"{0:.5f}\".format(stats.mannwhitneyu(sample_A_filtered, sample_B_filtered)[1]))"
   ]
  },
  {
   "cell_type": "markdown",
   "id": "e3990dba",
   "metadata": {},
   "source": [
    "P-value меньше 0.05, потому нулевую гипотезу отвергаем. Анализ \"очищенных\" данных показывает, что в среднем количестве заказов между группами есть статистически значимые различия. Статистическая значимость различий несколько уменьшилась после \"очистки\" данных."
   ]
  },
  {
   "cell_type": "code",
   "execution_count": 78,
   "id": "f1979918",
   "metadata": {},
   "outputs": [
    {
     "data": {
      "text/plain": [
       "'0.143'"
      ]
     },
     "execution_count": 78,
     "metadata": {},
     "output_type": "execute_result"
    }
   ],
   "source": [
    "# прирост среднего количества заказов группы B к группе A\n",
    "\"{0:.3f}\".format(sample_B_filtered.mean() / sample_A_filtered.mean() - 1)"
   ]
  },
  {
   "cell_type": "markdown",
   "id": "8ce55176",
   "metadata": {},
   "source": [
    " Относительный прирост среднего количества заказов группы B к группе A равен 14.3%."
   ]
  },
  {
   "cell_type": "markdown",
   "id": "1ba4584f",
   "metadata": {},
   "source": [
    "### Расчет статистической значимости различий в среднем чеке заказа между группами по «очищенным» данным"
   ]
  },
  {
   "cell_type": "markdown",
   "id": "b58e355b",
   "metadata": {},
   "source": [
    "**Нулевая гипотеза** - средние чеки заказов в группах А и В равны\n",
    "\n",
    "**Альтернативная гипотеза** - средние чеки заказов в группах А и В не равны"
   ]
  },
  {
   "cell_type": "code",
   "execution_count": 79,
   "id": "db1aba0f",
   "metadata": {},
   "outputs": [
    {
     "data": {
      "text/plain": [
       "'0.823'"
      ]
     },
     "execution_count": 79,
     "metadata": {},
     "output_type": "execute_result"
    }
   ],
   "source": [
    "# проверка статистической значимости различий в среднем чеке заказа \n",
    "# между группами по «очищенным» данным с помощью теста Манна-Уитни\n",
    "'{0:.3f}'.format(\n",
    "        stats.mannwhitneyu(\n",
    "            orders[\n",
    "                np.logical_and(\n",
    "                    orders['group'] == 'A',\n",
    "                    np.logical_not(orders['visitor_id'].isin(abnormal_users)),\n",
    "                )\n",
    "            ]['revenue'],\n",
    "            orders[\n",
    "                np.logical_and(\n",
    "                    orders['group'] == 'B',\n",
    "                    np.logical_not(orders['visitor_id'].isin(abnormal_users)),\n",
    "                )\n",
    "            ]['revenue'],\n",
    "        )[1]\n",
    "    )"
   ]
  },
  {
   "cell_type": "markdown",
   "id": "cda38592",
   "metadata": {},
   "source": [
    "P-value существенно больше 0.05, потому нулевую гипотезу не отвергаем. Анализ «очищенных данных» показывает, что в среднем чеке заказов между группами нет статистически значимых различий."
   ]
  },
  {
   "cell_type": "code",
   "execution_count": 80,
   "id": "a5e06bb9",
   "metadata": {},
   "outputs": [
    {
     "data": {
      "text/plain": [
       "'-0.091'"
      ]
     },
     "execution_count": 80,
     "metadata": {},
     "output_type": "execute_result"
    }
   ],
   "source": [
    "\"{0:.3f}\".format(\n",
    "        orders[\n",
    "            np.logical_and(\n",
    "                orders['group'] == 'B',\n",
    "                np.logical_not(orders['visitor_id'].isin(abnormal_users)),\n",
    "            )\n",
    "        ]['revenue'].mean()\n",
    "        / orders[\n",
    "            np.logical_and(\n",
    "                orders['group'] == 'A',\n",
    "                np.logical_not(orders['visitor_id'].isin(abnormal_users)),\n",
    "            )\n",
    "        ]['revenue'].mean()\n",
    "        - 1\n",
    "    )"
   ]
  },
  {
   "cell_type": "markdown",
   "id": "d6de6f39",
   "metadata": {},
   "source": [
    "Относительный прирост среднего чека заказов группы B к группе A равен - 9.1%. Средний чек заказов группы В существенно снизился после очистки данных и стал ниже среднего чека заказов группы А. Это связано в основном с удалением всего лишь двух сверхдорогих заказов."
   ]
  },
  {
   "cell_type": "markdown",
   "id": "8b8360a8",
   "metadata": {},
   "source": [
    "## Принятие решения по результатам теста "
   ]
  },
  {
   "cell_type": "markdown",
   "id": "cfdf31f7",
   "metadata": {},
   "source": [
    "Анализ \"очищенных\" данных показывает, что в среднем количестве заказов между группами есть статистически значимые различия. Среднее количество заказов в группе В превышает среднее количество заказов в группе А на 14,3%. Это говорит в пользу группы В. \n",
    "\n",
    "Однако средний чек в группе В на 9,1% ниже, чем группе А. Но в этом отличии нет статистической значимости. \n",
    "\n",
    "Формально можно было бы зафиксировать победу группы В, так как по одному из параметров группа В лучше и есть статистическая значимость этих различий. Но так как мы в итоге должны увидеть победу группы В в деньгах, то для принятия окончательного решения  посмотрим на графики кумулятивной выручки по очищенным данным."
   ]
  },
  {
   "cell_type": "markdown",
   "id": "798ad449",
   "metadata": {},
   "source": [
    "### График кумулятивной выручки по группам по очищенным данным"
   ]
  },
  {
   "cell_type": "code",
   "execution_count": 81,
   "id": "05cde67e",
   "metadata": {},
   "outputs": [],
   "source": [
    "# получим данные по заказам очищенные от аномальных значений\n",
    "orders_filtered = orders[np.logical_not(orders['visitor_id'].isin(abnormal_users))]"
   ]
  },
  {
   "cell_type": "code",
   "execution_count": 82,
   "id": "abd9fc69",
   "metadata": {},
   "outputs": [],
   "source": [
    "# создадим массив уникальных пар значений дат и групп теста\n",
    "datesGroups = orders_filtered[['date','group']].drop_duplicates()"
   ]
  },
  {
   "cell_type": "code",
   "execution_count": 83,
   "id": "67c54e1d",
   "metadata": {},
   "outputs": [
    {
     "data": {
      "text/html": [
       "<div>\n",
       "<style scoped>\n",
       "    .dataframe tbody tr th:only-of-type {\n",
       "        vertical-align: middle;\n",
       "    }\n",
       "\n",
       "    .dataframe tbody tr th {\n",
       "        vertical-align: top;\n",
       "    }\n",
       "\n",
       "    .dataframe thead th {\n",
       "        text-align: right;\n",
       "    }\n",
       "</style>\n",
       "<table border=\"1\" class=\"dataframe\">\n",
       "  <thead>\n",
       "    <tr style=\"text-align: right;\">\n",
       "      <th></th>\n",
       "      <th>date</th>\n",
       "      <th>group</th>\n",
       "      <th>transaction_id</th>\n",
       "      <th>visitor_id</th>\n",
       "      <th>revenue</th>\n",
       "    </tr>\n",
       "  </thead>\n",
       "  <tbody>\n",
       "    <tr>\n",
       "      <th>55</th>\n",
       "      <td>2019-08-01</td>\n",
       "      <td>A</td>\n",
       "      <td>23</td>\n",
       "      <td>19</td>\n",
       "      <td>142779</td>\n",
       "    </tr>\n",
       "    <tr>\n",
       "      <th>66</th>\n",
       "      <td>2019-08-01</td>\n",
       "      <td>B</td>\n",
       "      <td>19</td>\n",
       "      <td>19</td>\n",
       "      <td>78258</td>\n",
       "    </tr>\n",
       "    <tr>\n",
       "      <th>175</th>\n",
       "      <td>2019-08-02</td>\n",
       "      <td>A</td>\n",
       "      <td>43</td>\n",
       "      <td>37</td>\n",
       "      <td>236601</td>\n",
       "    </tr>\n",
       "    <tr>\n",
       "      <th>173</th>\n",
       "      <td>2019-08-02</td>\n",
       "      <td>B</td>\n",
       "      <td>42</td>\n",
       "      <td>41</td>\n",
       "      <td>240301</td>\n",
       "    </tr>\n",
       "    <tr>\n",
       "      <th>291</th>\n",
       "      <td>2019-08-03</td>\n",
       "      <td>A</td>\n",
       "      <td>67</td>\n",
       "      <td>61</td>\n",
       "      <td>349074</td>\n",
       "    </tr>\n",
       "  </tbody>\n",
       "</table>\n",
       "</div>"
      ],
      "text/plain": [
       "          date group  transaction_id  visitor_id  revenue\n",
       "55  2019-08-01     A              23          19   142779\n",
       "66  2019-08-01     B              19          19    78258\n",
       "175 2019-08-02     A              43          37   236601\n",
       "173 2019-08-02     B              42          41   240301\n",
       "291 2019-08-03     A              67          61   349074"
      ]
     },
     "execution_count": 83,
     "metadata": {},
     "output_type": "execute_result"
    }
   ],
   "source": [
    "# получим агрегированные кумулятивные по дням данные о заказах \n",
    "ordersAggregated = datesGroups.apply(lambda x: orders_filtered[np.logical_and(orders_filtered['date'] <= x['date'], \n",
    "                                                                     orders_filtered['group'] == x['group'])]\n",
    ".agg({'date':'max', 'group':'max', 'transaction_id':'nunique', 'visitor_id':'nunique', 'revenue':'sum'}), \n",
    "                                     axis=1).sort_values(by=['date','group'])\n",
    "ordersAggregated.head()"
   ]
  },
  {
   "cell_type": "code",
   "execution_count": 84,
   "id": "9ad33bb0",
   "metadata": {},
   "outputs": [
    {
     "data": {
      "text/html": [
       "<div>\n",
       "<style scoped>\n",
       "    .dataframe tbody tr th:only-of-type {\n",
       "        vertical-align: middle;\n",
       "    }\n",
       "\n",
       "    .dataframe tbody tr th {\n",
       "        vertical-align: top;\n",
       "    }\n",
       "\n",
       "    .dataframe thead th {\n",
       "        text-align: right;\n",
       "    }\n",
       "</style>\n",
       "<table border=\"1\" class=\"dataframe\">\n",
       "  <thead>\n",
       "    <tr style=\"text-align: right;\">\n",
       "      <th></th>\n",
       "      <th>date</th>\n",
       "      <th>group</th>\n",
       "      <th>visitors</th>\n",
       "    </tr>\n",
       "  </thead>\n",
       "  <tbody>\n",
       "    <tr>\n",
       "      <th>55</th>\n",
       "      <td>2019-08-01</td>\n",
       "      <td>A</td>\n",
       "      <td>719</td>\n",
       "    </tr>\n",
       "    <tr>\n",
       "      <th>66</th>\n",
       "      <td>2019-08-01</td>\n",
       "      <td>B</td>\n",
       "      <td>713</td>\n",
       "    </tr>\n",
       "    <tr>\n",
       "      <th>175</th>\n",
       "      <td>2019-08-02</td>\n",
       "      <td>A</td>\n",
       "      <td>1338</td>\n",
       "    </tr>\n",
       "    <tr>\n",
       "      <th>173</th>\n",
       "      <td>2019-08-02</td>\n",
       "      <td>B</td>\n",
       "      <td>1294</td>\n",
       "    </tr>\n",
       "    <tr>\n",
       "      <th>291</th>\n",
       "      <td>2019-08-03</td>\n",
       "      <td>A</td>\n",
       "      <td>1845</td>\n",
       "    </tr>\n",
       "  </tbody>\n",
       "</table>\n",
       "</div>"
      ],
      "text/plain": [
       "          date group  visitors\n",
       "55  2019-08-01     A       719\n",
       "66  2019-08-01     B       713\n",
       "175 2019-08-02     A      1338\n",
       "173 2019-08-02     B      1294\n",
       "291 2019-08-03     A      1845"
      ]
     },
     "execution_count": 84,
     "metadata": {},
     "output_type": "execute_result"
    }
   ],
   "source": [
    "# получим агрегированные кумулятивные по дням данные о посетителях интернет-магазина \n",
    "visitorsAggregated = datesGroups.apply(lambda x: visitors[np.logical_and(visitors['date'] <= x['date'], \n",
    "                     visitors['group'] == x['group'])].agg({'date' : 'max', 'group' : 'max', \n",
    "                     'visitors' : 'sum'}), axis=1).sort_values(by=['date','group'])\n",
    "visitorsAggregated.head()"
   ]
  },
  {
   "cell_type": "code",
   "execution_count": 85,
   "id": "aa372349",
   "metadata": {},
   "outputs": [
    {
     "data": {
      "text/html": [
       "<div>\n",
       "<style scoped>\n",
       "    .dataframe tbody tr th:only-of-type {\n",
       "        vertical-align: middle;\n",
       "    }\n",
       "\n",
       "    .dataframe tbody tr th {\n",
       "        vertical-align: top;\n",
       "    }\n",
       "\n",
       "    .dataframe thead th {\n",
       "        text-align: right;\n",
       "    }\n",
       "</style>\n",
       "<table border=\"1\" class=\"dataframe\">\n",
       "  <thead>\n",
       "    <tr style=\"text-align: right;\">\n",
       "      <th></th>\n",
       "      <th>date</th>\n",
       "      <th>group</th>\n",
       "      <th>orders</th>\n",
       "      <th>buyers</th>\n",
       "      <th>revenue</th>\n",
       "      <th>visitors</th>\n",
       "    </tr>\n",
       "  </thead>\n",
       "  <tbody>\n",
       "    <tr>\n",
       "      <th>57</th>\n",
       "      <td>2019-08-29</td>\n",
       "      <td>B</td>\n",
       "      <td>563</td>\n",
       "      <td>533</td>\n",
       "      <td>3731740</td>\n",
       "      <td>17708</td>\n",
       "    </tr>\n",
       "    <tr>\n",
       "      <th>58</th>\n",
       "      <td>2019-08-30</td>\n",
       "      <td>A</td>\n",
       "      <td>514</td>\n",
       "      <td>484</td>\n",
       "      <td>3831489</td>\n",
       "      <td>18037</td>\n",
       "    </tr>\n",
       "    <tr>\n",
       "      <th>59</th>\n",
       "      <td>2019-08-30</td>\n",
       "      <td>B</td>\n",
       "      <td>587</td>\n",
       "      <td>556</td>\n",
       "      <td>3946973</td>\n",
       "      <td>18198</td>\n",
       "    </tr>\n",
       "    <tr>\n",
       "      <th>60</th>\n",
       "      <td>2019-08-31</td>\n",
       "      <td>A</td>\n",
       "      <td>525</td>\n",
       "      <td>494</td>\n",
       "      <td>3888152</td>\n",
       "      <td>18736</td>\n",
       "    </tr>\n",
       "    <tr>\n",
       "      <th>61</th>\n",
       "      <td>2019-08-31</td>\n",
       "      <td>B</td>\n",
       "      <td>606</td>\n",
       "      <td>575</td>\n",
       "      <td>4078252</td>\n",
       "      <td>18916</td>\n",
       "    </tr>\n",
       "  </tbody>\n",
       "</table>\n",
       "</div>"
      ],
      "text/plain": [
       "         date group  orders  buyers  revenue  visitors\n",
       "57 2019-08-29     B     563     533  3731740     17708\n",
       "58 2019-08-30     A     514     484  3831489     18037\n",
       "59 2019-08-30     B     587     556  3946973     18198\n",
       "60 2019-08-31     A     525     494  3888152     18736\n",
       "61 2019-08-31     B     606     575  4078252     18916"
      ]
     },
     "execution_count": 85,
     "metadata": {},
     "output_type": "execute_result"
    }
   ],
   "source": [
    "# объединим кумулятивные данные в одной таблице и присвоим ее столбцам понятные названия\n",
    "cumulativeData = ordersAggregated.merge(visitorsAggregated, left_on=['date', 'group'], right_on=['date', 'group'])\n",
    "cumulativeData.columns = ['date', 'group', 'orders', 'buyers', 'revenue', 'visitors']\n",
    "\n",
    "cumulativeData.tail()"
   ]
  },
  {
   "cell_type": "code",
   "execution_count": 86,
   "id": "677c2ae5",
   "metadata": {},
   "outputs": [
    {
     "data": {
      "image/png": "[encoded data removed]",
      "text/plain": [
       "<Figure size 1300x600 with 1 Axes>"
      ]
     },
     "metadata": {},
     "output_type": "display_data"
    }
   ],
   "source": [
    "# создадим датафрейм с кумулятивным количеством заказов и кумулятивной выручкой по дням в группе А\n",
    "cumulativeRevenueA = cumulativeData[cumulativeData['group']=='A'][['date','revenue', 'orders']]\n",
    "\n",
    "# создадим датафрейм с кумулятивным количеством заказов и кумулятивной выручкой по дням в группе B\n",
    "cumulativeRevenueB = cumulativeData[cumulativeData['group']=='B'][['date','revenue','orders']]\n",
    "\n",
    "# зададим размеры графика\n",
    "fig, ax = plt.subplots(figsize=(13, 6))\n",
    "\n",
    "# строим график выручки группы А\n",
    "plt.plot(cumulativeRevenueA['date'], cumulativeRevenueA['revenue'], label='A')\n",
    "\n",
    "# строим график выручки группы B\n",
    "plt.plot(cumulativeRevenueB['date'], cumulativeRevenueB['revenue'], label='B')\n",
    "\n",
    "ax.set(title = 'Кумулятивная выручка по очищенным данным', xlabel = 'даты', ylabel = 'млн. руб.')\n",
    "\n",
    "plt.legend();"
   ]
  },
  {
   "cell_type": "code",
   "execution_count": 87,
   "id": "92f5a48f",
   "metadata": {},
   "outputs": [
    {
     "data": {
      "text/plain": [
       "4.889212150142286"
      ]
     },
     "execution_count": 87,
     "metadata": {},
     "output_type": "execute_result"
    }
   ],
   "source": [
    "(orders_filtered.query('group==\"B\"')['revenue'].sum() / orders_filtered.query('group==\"A\"')['revenue'].sum() - 1) * 100"
   ]
  },
  {
   "cell_type": "markdown",
   "id": "f2f19926",
   "metadata": {},
   "source": [
    "Мы видим, что кумулятивная выручка в группах близка и не прослеживается явной тенденции, что в какой-либо группе выручка растет быстрее. Выручка в группе В превышает выручку в группе А на 4,9%. \n",
    "\n",
    "Построим график среднего чека по кумулятивным данным по группам по очищенным данным."
   ]
  },
  {
   "cell_type": "markdown",
   "id": "faf2f1fd",
   "metadata": {},
   "source": [
    "### Графики среднего чека по кумулятивным данным по группам по очищенным данным"
   ]
  },
  {
   "cell_type": "code",
   "execution_count": 88,
   "id": "1e5eb5f5",
   "metadata": {
    "scrolled": false
   },
   "outputs": [
    {
     "data": {
      "image/png": "[encoded data removed]",
      "text/plain": [
       "<Figure size 1300x600 with 1 Axes>"
      ]
     },
     "metadata": {},
     "output_type": "display_data"
    }
   ],
   "source": [
    "# Графики среднего чека по группам \n",
    "fig, ax = plt.subplots(figsize=(13, 6))\n",
    "\n",
    "plt.plot(cumulativeRevenueA['date'], cumulativeRevenueA['revenue']/cumulativeRevenueA['orders'], label='A')\n",
    "\n",
    "plt.plot(cumulativeRevenueB['date'], cumulativeRevenueB['revenue']/cumulativeRevenueB['orders'], label='B')\n",
    "\n",
    "ax.set(title = 'Средний чек по кумулятивным очищенным данным', xlabel = 'даты', ylabel = 'руб.')\n",
    "\n",
    "plt.legend();"
   ]
  },
  {
   "cell_type": "markdown",
   "id": "62b086b5",
   "metadata": {},
   "source": [
    "Средний чек в группе В установился ниже, чем в группе А. Дальнейшей явно выраженной тенденции изменения среднего чека по группам не наблюдается."
   ]
  },
  {
   "cell_type": "markdown",
   "id": "107ec219",
   "metadata": {},
   "source": [
    "Оценим статистическую значимость отличий в выручке между группами по очищенным данным."
   ]
  },
  {
   "cell_type": "markdown",
   "id": "c90ef8b1",
   "metadata": {},
   "source": [
    "**Нулевая гипотеза** - средние значения выручки в группах А и В равны\n",
    "\n",
    "**Альтернативная гипотеза** - средние значения выручки в группах А и В не равны"
   ]
  },
  {
   "cell_type": "code",
   "execution_count": 89,
   "id": "480b1154",
   "metadata": {},
   "outputs": [
    {
     "data": {
      "text/plain": [
       "'0.823'"
      ]
     },
     "execution_count": 89,
     "metadata": {},
     "output_type": "execute_result"
    }
   ],
   "source": [
    "# статистическая значимость отличий в выручке между группами по очищенным данным\n",
    "'{0:.3f}'.format(stats.mannwhitneyu(orders_filtered[orders_filtered['group']=='A']['revenue'], \n",
    "                                   orders_filtered[orders_filtered['group']=='B']['revenue'])[1])"
   ]
  },
  {
   "cell_type": "markdown",
   "id": "0b9840ed",
   "metadata": {},
   "source": [
    "P-value существенно больше 0.05, потому нулевую гипотезу не отвергаем. Анализ «очищенных данных» показывает, что в выручке между группами нет статистически значимых различий. Учитывая, что в среднем количестве заказов между группами есть статистически значимые различия в пользу группы В, а в выручке между группами статистически значимых различий нет, целесообразно прекратить тест и признать, что группа В скорее всего лучше или как минимум не хуже группы А."
   ]
  },
  {
   "cell_type": "markdown",
   "id": "9df90c56",
   "metadata": {},
   "source": [
    "## Выводы\n",
    "**Часть 1. Приоритизация гипотез**\n",
    "\n",
    "В процессе исследования мы выполнили следующее.\n",
    "\n",
    "Загрузили данные и выполнили базовый анализ данных. Данные  полные, пропусков нет, дубликатов нет. \n",
    "\n",
    "\n",
    "Приоритизировали гипотезы с помощью фреймворков ICE и RICE.\n",
    "\n",
    "Приоритет гипотез по фреймворкам ICE и RICE различается. Это связано с тем, что RICE учитывает охват пользователей, а ICE - нет. Соответственно RICE больше приоритезирует гипотезы с большим охватом, так по ICE гиптеза № 8 была на 1-м месте, а по RICE она оказалась на 5-м месте.\n",
    "\n",
    "**Часть 2. Анализ A/B-теста**\n",
    "\n",
    "В процессе исследования мы выполнили следующее.\n",
    "\n",
    "Загрузили данные и выполнили базовый анализ данных. Данные  полные, пропусков нет, дубликатов нет. \n",
    "\n",
    "Провели исследовательский анализ данных:\n",
    "\n",
    "- Построили графики кумулятивной выручки и кумулятивного среднего чека по группам.\n",
    "\n",
    "Кумулятивная выручка в группе В растет несколько быстрее, затем (после 17- 18 числа) кумулятивная выручка в группе В резко увеличивается, это произошло явно из-за аномального дорогого заказа. Средний чек по группе А близок к стабилизации в районе 7300 руб. Средний чек по группе В существенно выше, чем по А (но это за счет выброса), соответственно средний чек по группе В продолжает снижаться после выброса. Для более коректного анализа нужно удалить выбросы.\n",
    "\n",
    "- Построили график относительного изменения кумулятивного среднего чека группы B к группе A. \n",
    "\n",
    "На графике относительного изменения кумулятивного среднего чека группы B к группе A мы также видим сильное влияние выброса. Соответственно по такому графику пока нельзя определить тенденцию. Кумулятивный средний чек группы В в какое-то время теста превышал чек группы А примерно на 50%, а в конце теста превышение составило около 30%.\n",
    "\n",
    "- Построили график кумулятивного среднего количества заказов на покупателя по группам.\n",
    "\n",
    "Кумулятивное среднее количество заказов на покупателя для группы В несколько ниже, чем для группы А. Однако на график влияют выбросы, это хорошо видно в начале теста.\n",
    "\n",
    "- Построили график относительного изменения кумулятивного среднего количества заказов на покупателя группы B к группе A.\n",
    "\n",
    "Относительное изменение кумулятивного среднего количества заказов на покупателя группы B к группе A растет со временем. Что в большей степени связано с высоким значением среднего количества заказов на покупателя в группе А в начале теста.\n",
    "\n",
    "- Построили точечный график количества заказов по покупателям.\n",
    "\n",
    "В основном покупатели делают 1 заказ, значительно реже - 2, более трех заказов делают единицы. Визуально 4 и более заказа можно считать выбросами.\n",
    "\n",
    "- Посчитали 95-й и 99-й перцентили количества заказов на покупателя. Выбрали границу для определения аномальных пользователей.\n",
    "\n",
    "Не более 5% пользователей делали более 2 заказов, и не более 1% пользователей делали более 4 заказов. Можно выбрать 4 заказа на одного пользователя за верхнюю границу числа заказов, и отсеять аномальных пользователей по ней.\n",
    "\n",
    "- Построили точечный график стоимостей заказов.\n",
    "\n",
    "На точечном графике стоимостей заказов видны два явных выброса: в районе 200 тыс. руб. и более 1,2 млн. руб. Остальные заказы относительно близки друг к другу по стоимости.\n",
    "\n",
    "- Посчитали 95-й и 99-й перцентили стоимости заказов. Выбрали границу для определения аномальных заказов.\n",
    "\n",
    "Не более 5% заказов выше 28 000 руб., и не более 1% заказов выше 58 233,2 руб. Выбрали стоимость заказа 100 000 руб. за верхнюю границу числа заказов, и отсеяли аномальных пользователей по ней. Визуально по точечному графику стоимостей заказов видны два явных выброса: в районе 200 тыс. руб. и более 1,2 млн. руб. Именно их и удалили.\n",
    "\n",
    "- Посчитали статистическую значимость различий в среднем количестве заказов на посетителя между группами по «сырым» данным.\n",
    "\n",
    "Относительный прирост среднего количества заказов группы B к группе A равен 13.8%. Проверка статистической значимости различий с помощью теста Манна-Уитни показала, что в среднем количестве заказов между группами есть статистически значимые различия. P-value составил 0,01679.\n",
    "\n",
    "- Посчитали статистическую значимость различий в среднем чеке заказа между группами по «сырым» данным.\n",
    "\n",
    "Относительный прирост среднего чека заказов группы B к группе A равен 25.9%. Это существенное отличие - больше чем на четверть, но не смотря на это статистической значимости различий между группами в среднем чеке нет. Это объясняется тем, что большие отличия в среднем связаны с выбросами, а отсутствие статистической значимости - тем, что тест Манна-Уитни непараметрический и устойчив к выбросам.\n",
    "\n",
    "- Посчитали статистическую значимость различий в среднем количестве заказов на посетителя между группами по «очищенным» данным.\n",
    "\n",
    "Анализ \"очищенных\" данных показал, что в среднем количестве заказов между группами есть статистически значимые различия. Статистическая значимость различий несколько уменьшилась после \"очистки\" данных.\n",
    "\n",
    "- Посчитали статистическую значимость различий в среднем чеке заказа между группами по «очищенным» данным.\n",
    "\n",
    "Относительный прирост среднего чека заказов группы B к группе A равен - 9.1%. Средний чек заказов группы В существенно снизился после очистки данных и стал ниже среднего чека заказов группы А. Анализ \"очищенных\" данных показал, что в среднем чеке заказов между группами нет статистически значимых различий.\n",
    "\n",
    "- Приняли решение по результатам теста.\n",
    "\n",
    "Для принятия решения о результатах теста еще раз построили графики кумулятивной выручки в группах и среднего чека по очищенным данным.\n",
    "\n",
    "Кумулятивная выручка в группах близка и не прослеживается явной тенденции, что в какой-либо группе выручка растет быстрее. Выручка в группе В превышает выручку в группе А на 4,9%.\n",
    "Средний чек в группе В установился ниже, чем в группе А. Дальнейшей явно выраженной тенденции изменения среднего чека по группам не наблюдается.\n",
    "\n",
    "- Оценили статистическую значимость отличий в выручке между группами по очищенным данным.\n",
    "\n",
    "Анализ «очищенных данных» показал, что в выручке между группами нет статистически значимых различий, несмотря на то, что выручка в группе В на 4,9% выше, чем в группе А. Учитывая, что в среднем количестве заказов между группами есть статистически значимые различия в пользу группы В, а в выручке между группами статистически значимых различий нет, целесообразно прекратить тест и признать, что группа В скорее всего лучше или как минимум не хуже группы А."
   ]
  },
  {
   "cell_type": "code",
   "execution_count": null,
   "id": "9699c523",
   "metadata": {},
   "outputs": [],
   "source": []
  }
 ],
 "metadata": {
  "ExecuteTimeLog": [
   {
    "duration": 1240,
    "start_time": "2023-11-13T16:21:23.136Z"
   },
   {
    "duration": 113,
    "start_time": "2023-11-13T16:21:24.378Z"
   },
   {
    "duration": 4,
    "start_time": "2023-11-13T16:21:24.492Z"
   },
   {
    "duration": 5,
    "start_time": "2023-11-13T16:21:24.499Z"
   },
   {
    "duration": 24,
    "start_time": "2023-11-13T16:21:24.505Z"
   },
   {
    "duration": 31,
    "start_time": "2023-11-13T16:21:24.532Z"
   },
   {
    "duration": 13,
    "start_time": "2023-11-13T16:21:24.564Z"
   },
   {
    "duration": 220,
    "start_time": "2023-11-13T16:21:24.578Z"
   },
   {
    "duration": 123,
    "start_time": "2023-11-13T16:21:24.799Z"
   },
   {
    "duration": 6,
    "start_time": "2023-11-13T16:21:24.926Z"
   },
   {
    "duration": 12,
    "start_time": "2023-11-13T16:21:24.934Z"
   },
   {
    "duration": 16,
    "start_time": "2023-11-13T16:21:24.948Z"
   },
   {
    "duration": 20,
    "start_time": "2023-11-13T16:21:24.965Z"
   },
   {
    "duration": 8,
    "start_time": "2023-11-13T16:21:24.987Z"
   },
   {
    "duration": 17,
    "start_time": "2023-11-13T16:21:24.996Z"
   },
   {
    "duration": 5,
    "start_time": "2023-11-13T16:21:25.016Z"
   },
   {
    "duration": 7,
    "start_time": "2023-11-13T16:21:25.023Z"
   },
   {
    "duration": 28,
    "start_time": "2023-11-13T16:21:25.032Z"
   },
   {
    "duration": 7,
    "start_time": "2023-11-13T16:21:25.061Z"
   },
   {
    "duration": 40,
    "start_time": "2023-11-13T16:21:25.070Z"
   },
   {
    "duration": 227,
    "start_time": "2023-11-13T16:21:25.112Z"
   },
   {
    "duration": 221,
    "start_time": "2023-11-13T16:21:25.341Z"
   },
   {
    "duration": 191,
    "start_time": "2023-11-13T16:21:25.564Z"
   },
   {
    "duration": 10,
    "start_time": "2023-11-13T16:21:25.757Z"
   },
   {
    "duration": 23,
    "start_time": "2023-11-13T16:21:25.769Z"
   },
   {
    "duration": 24,
    "start_time": "2023-11-13T16:21:25.793Z"
   },
   {
    "duration": 9,
    "start_time": "2023-11-13T16:21:25.819Z"
   },
   {
    "duration": 4,
    "start_time": "2023-11-13T16:21:25.832Z"
   },
   {
    "duration": 199,
    "start_time": "2023-11-13T16:21:25.838Z"
   },
   {
    "duration": 11,
    "start_time": "2023-11-13T16:21:26.039Z"
   },
   {
    "duration": 340,
    "start_time": "2023-11-13T16:21:26.052Z"
   },
   {
    "duration": 18,
    "start_time": "2023-11-13T16:21:26.394Z"
   },
   {
    "duration": 21,
    "start_time": "2023-11-13T16:21:26.414Z"
   },
   {
    "duration": 9,
    "start_time": "2023-11-13T16:21:26.437Z"
   },
   {
    "duration": 10,
    "start_time": "2023-11-13T16:21:26.448Z"
   },
   {
    "duration": 200,
    "start_time": "2023-11-13T16:21:26.460Z"
   },
   {
    "duration": 135,
    "start_time": "2023-11-13T16:21:26.665Z"
   },
   {
    "duration": 22,
    "start_time": "2023-11-13T16:21:26.801Z"
   },
   {
    "duration": 228,
    "start_time": "2023-11-13T16:21:26.824Z"
   },
   {
    "duration": 235,
    "start_time": "2023-11-13T16:21:27.054Z"
   },
   {
    "duration": 349,
    "start_time": "2023-11-13T16:21:27.290Z"
   },
   {
    "duration": 321,
    "start_time": "2023-11-13T16:21:27.640Z"
   },
   {
    "duration": 12,
    "start_time": "2023-11-13T16:21:27.962Z"
   },
   {
    "duration": 391,
    "start_time": "2023-11-13T16:21:27.976Z"
   },
   {
    "duration": 10,
    "start_time": "2023-11-13T16:21:28.369Z"
   },
   {
    "duration": 172,
    "start_time": "2023-11-13T16:21:28.380Z"
   },
   {
    "duration": 6,
    "start_time": "2023-11-13T16:21:28.554Z"
   },
   {
    "duration": 189,
    "start_time": "2023-11-13T16:21:28.562Z"
   },
   {
    "duration": 5,
    "start_time": "2023-11-13T16:21:28.753Z"
   },
   {
    "duration": 230,
    "start_time": "2023-11-13T16:21:28.759Z"
   },
   {
    "duration": 157,
    "start_time": "2023-11-13T16:21:28.991Z"
   },
   {
    "duration": 7,
    "start_time": "2023-11-13T16:21:29.150Z"
   },
   {
    "duration": 10,
    "start_time": "2023-11-13T16:21:29.158Z"
   },
   {
    "duration": 10,
    "start_time": "2023-11-13T16:21:29.169Z"
   },
   {
    "duration": 31,
    "start_time": "2023-11-13T16:21:29.181Z"
   },
   {
    "duration": 9,
    "start_time": "2023-11-13T16:21:29.214Z"
   },
   {
    "duration": 13,
    "start_time": "2023-11-13T16:21:29.225Z"
   },
   {
    "duration": 24,
    "start_time": "2023-11-13T16:21:29.239Z"
   },
   {
    "duration": 26,
    "start_time": "2023-11-13T16:21:29.265Z"
   },
   {
    "duration": 4,
    "start_time": "2023-11-13T16:21:29.293Z"
   },
   {
    "duration": 16,
    "start_time": "2023-11-13T16:21:29.299Z"
   },
   {
    "duration": 10,
    "start_time": "2023-11-13T16:21:29.318Z"
   },
   {
    "duration": 19,
    "start_time": "2023-11-13T16:21:29.330Z"
   },
   {
    "duration": 12,
    "start_time": "2023-11-13T16:21:29.350Z"
   },
   {
    "duration": 22,
    "start_time": "2023-11-13T16:21:29.364Z"
   },
   {
    "duration": 16,
    "start_time": "2023-11-13T16:21:29.387Z"
   },
   {
    "duration": 28,
    "start_time": "2023-11-13T16:21:29.405Z"
   },
   {
    "duration": 15,
    "start_time": "2023-11-13T16:21:29.435Z"
   },
   {
    "duration": 32,
    "start_time": "2023-11-13T16:21:29.451Z"
   },
   {
    "duration": 14,
    "start_time": "2023-11-13T16:21:29.484Z"
   },
   {
    "duration": 47,
    "start_time": "2023-11-13T16:21:29.500Z"
   },
   {
    "duration": 5,
    "start_time": "2023-11-13T16:21:29.548Z"
   },
   {
    "duration": 24,
    "start_time": "2023-11-13T16:21:29.554Z"
   },
   {
    "duration": 8,
    "start_time": "2023-11-13T16:21:29.580Z"
   },
   {
    "duration": 16,
    "start_time": "2023-11-13T16:21:29.590Z"
   },
   {
    "duration": 21,
    "start_time": "2023-11-13T16:21:29.608Z"
   },
   {
    "duration": 202,
    "start_time": "2023-11-13T16:21:29.631Z"
   },
   {
    "duration": 145,
    "start_time": "2023-11-13T16:21:29.835Z"
   },
   {
    "duration": 12,
    "start_time": "2023-11-13T16:21:29.982Z"
   },
   {
    "duration": 256,
    "start_time": "2023-11-13T16:21:30.016Z"
   },
   {
    "duration": 9,
    "start_time": "2023-11-13T16:21:30.273Z"
   },
   {
    "duration": 267,
    "start_time": "2023-11-13T16:21:30.288Z"
   },
   {
    "duration": 9,
    "start_time": "2023-11-13T16:21:30.557Z"
   },
   {
    "duration": 85,
    "start_time": "2023-11-13T16:41:13.500Z"
   },
   {
    "duration": 10,
    "start_time": "2023-11-13T16:43:37.736Z"
   },
   {
    "duration": 13,
    "start_time": "2023-11-13T16:44:09.109Z"
   },
   {
    "duration": 236,
    "start_time": "2023-11-13T16:44:21.944Z"
   }
  ],
  "kernelspec": {
   "display_name": "Python 3 (ipykernel)",
   "language": "python",
   "name": "python3"
  },
  "language_info": {
   "codemirror_mode": {
    "name": "ipython",
    "version": 3
   },
   "file_extension": ".py",
   "mimetype": "text/x-python",
   "name": "python",
   "nbconvert_exporter": "python",
   "pygments_lexer": "ipython3",
   "version": "3.10.9"
  },
  "toc": {
   "base_numbering": 1,
   "nav_menu": {},
   "number_sections": true,
   "sideBar": true,
   "skip_h1_title": true,
   "title_cell": "Table of Contents",
   "title_sidebar": "Contents",
   "toc_cell": false,
   "toc_position": {},
   "toc_section_display": true,
   "toc_window_display": false
  }
 },
 "nbformat": 4,
 "nbformat_minor": 5
}
