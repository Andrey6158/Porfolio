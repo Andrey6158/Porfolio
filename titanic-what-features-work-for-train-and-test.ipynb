{
 "cells": [
  {
   "cell_type": "code",
   "execution_count": 1,
   "id": "1dcaa003",
   "metadata": {
    "_cell_guid": "b1076dfc-b9ad-4769-8c92-a6c4dae69d19",
    "_uuid": "8f2839f25d086af736a60e9eeb907d3b93b6e0e5",
    "execution": {
     "iopub.execute_input": "2024-07-24T19:04:44.606707Z",
     "iopub.status.busy": "2024-07-24T19:04:44.605708Z",
     "iopub.status.idle": "2024-07-24T19:04:45.542062Z",
     "shell.execute_reply": "2024-07-24T19:04:45.540764Z"
    },
    "papermill": {
     "duration": 0.962732,
     "end_time": "2024-07-24T19:04:45.544686",
     "exception": false,
     "start_time": "2024-07-24T19:04:44.581954",
     "status": "completed"
    },
    "tags": []
   },
   "outputs": [
    {
     "name": "stdout",
     "output_type": "stream",
     "text": [
      "/kaggle/input/titanic/train.csv\n",
      "/kaggle/input/titanic/test.csv\n",
      "/kaggle/input/titanic/gender_submission.csv\n"
     ]
    }
   ],
   "source": [
    "# This Python 3 environment comes with many helpful analytics libraries installed\n",
    "# It is defined by the kaggle/python Docker image: https://github.com/kaggle/docker-python\n",
    "# For example, here's several helpful packages to load\n",
    "\n",
    "import numpy as np # linear algebra\n",
    "import pandas as pd # data processing, CSV file I/O (e.g. pd.read_csv)\n",
    "\n",
    "# Input data files are available in the read-only \"../input/\" directory\n",
    "# For example, running this (by clicking run or pressing Shift+Enter) will list all files under the input directory\n",
    "\n",
    "import os\n",
    "for dirname, _, filenames in os.walk('/kaggle/input'):\n",
    "    for filename in filenames:\n",
    "        print(os.path.join(dirname, filename))\n",
    "\n",
    "# You can write up to 20GB to the current directory (/kaggle/working/) that gets preserved as output when you create a version using \"Save & Run All\" \n",
    "# You can also write temporary files to /kaggle/temp/, but they won't be saved outside of the current session"
   ]
  },
  {
   "cell_type": "markdown",
   "id": "eae6f839",
   "metadata": {
    "papermill": {
     "duration": 0.02087,
     "end_time": "2024-07-24T19:04:45.587700",
     "exception": false,
     "start_time": "2024-07-24T19:04:45.566830",
     "status": "completed"
    },
    "tags": []
   },
   "source": [
    "In this work, we will find out which features give the best forecast on the training set and on the test set. What is interesting is that these features do not coincide quite strongly - some give a good forecast for train and others - for test."
   ]
  },
  {
   "cell_type": "code",
   "execution_count": 2,
   "id": "842d967d",
   "metadata": {
    "execution": {
     "iopub.execute_input": "2024-07-24T19:04:45.632928Z",
     "iopub.status.busy": "2024-07-24T19:04:45.632317Z",
     "iopub.status.idle": "2024-07-24T19:04:47.650026Z",
     "shell.execute_reply": "2024-07-24T19:04:47.648864Z"
    },
    "papermill": {
     "duration": 2.044169,
     "end_time": "2024-07-24T19:04:47.652913",
     "exception": false,
     "start_time": "2024-07-24T19:04:45.608744",
     "status": "completed"
    },
    "tags": []
   },
   "outputs": [],
   "source": [
    "import pandas as pd\n",
    "import matplotlib.pyplot as plt\n",
    "import numpy as np\n",
    "import seaborn as sns\n",
    "from sklearn.model_selection import train_test_split\n",
    "from sklearn.ensemble import RandomForestClassifier\n",
    "from sklearn.metrics import accuracy_score, precision_score, recall_score, f1_score, roc_auc_score"
   ]
  },
  {
   "cell_type": "code",
   "execution_count": 3,
   "id": "8daf0112",
   "metadata": {
    "execution": {
     "iopub.execute_input": "2024-07-24T19:04:47.698278Z",
     "iopub.status.busy": "2024-07-24T19:04:47.697122Z",
     "iopub.status.idle": "2024-07-24T19:04:47.703033Z",
     "shell.execute_reply": "2024-07-24T19:04:47.702005Z"
    },
    "papermill": {
     "duration": 0.031212,
     "end_time": "2024-07-24T19:04:47.705468",
     "exception": false,
     "start_time": "2024-07-24T19:04:47.674256",
     "status": "completed"
    },
    "tags": []
   },
   "outputs": [],
   "source": [
    "import warnings\n",
    "warnings.filterwarnings(\"ignore\")"
   ]
  },
  {
   "cell_type": "code",
   "execution_count": 4,
   "id": "c4f946e7",
   "metadata": {
    "execution": {
     "iopub.execute_input": "2024-07-24T19:04:47.750290Z",
     "iopub.status.busy": "2024-07-24T19:04:47.749317Z",
     "iopub.status.idle": "2024-07-24T19:04:47.779647Z",
     "shell.execute_reply": "2024-07-24T19:04:47.778644Z"
    },
    "papermill": {
     "duration": 0.055554,
     "end_time": "2024-07-24T19:04:47.782410",
     "exception": false,
     "start_time": "2024-07-24T19:04:47.726856",
     "status": "completed"
    },
    "tags": []
   },
   "outputs": [],
   "source": [
    "train_data = pd.read_csv(\"/kaggle/input/titanic/train.csv\")\n",
    "test_data = pd.read_csv(\"/kaggle/input/titanic/test.csv\")"
   ]
  },
  {
   "cell_type": "code",
   "execution_count": 5,
   "id": "256e927a",
   "metadata": {
    "execution": {
     "iopub.execute_input": "2024-07-24T19:04:47.826705Z",
     "iopub.status.busy": "2024-07-24T19:04:47.826277Z",
     "iopub.status.idle": "2024-07-24T19:04:47.835971Z",
     "shell.execute_reply": "2024-07-24T19:04:47.834642Z"
    },
    "papermill": {
     "duration": 0.034757,
     "end_time": "2024-07-24T19:04:47.838454",
     "exception": false,
     "start_time": "2024-07-24T19:04:47.803697",
     "status": "completed"
    },
    "tags": []
   },
   "outputs": [],
   "source": [
    "test_PassengerId = test_data['PassengerId']"
   ]
  },
  {
   "cell_type": "code",
   "execution_count": 6,
   "id": "b6a27fc1",
   "metadata": {
    "execution": {
     "iopub.execute_input": "2024-07-24T19:04:47.882542Z",
     "iopub.status.busy": "2024-07-24T19:04:47.882127Z",
     "iopub.status.idle": "2024-07-24T19:04:47.913899Z",
     "shell.execute_reply": "2024-07-24T19:04:47.912720Z"
    },
    "papermill": {
     "duration": 0.05695,
     "end_time": "2024-07-24T19:04:47.916684",
     "exception": false,
     "start_time": "2024-07-24T19:04:47.859734",
     "status": "completed"
    },
    "tags": []
   },
   "outputs": [
    {
     "name": "stdout",
     "output_type": "stream",
     "text": [
      "<class 'pandas.core.frame.DataFrame'>\n",
      "RangeIndex: 1309 entries, 0 to 1308\n",
      "Data columns (total 12 columns):\n",
      " #   Column       Non-Null Count  Dtype  \n",
      "---  ------       --------------  -----  \n",
      " 0   PassengerId  1309 non-null   int64  \n",
      " 1   Survived     891 non-null    float64\n",
      " 2   Pclass       1309 non-null   int64  \n",
      " 3   Name         1309 non-null   object \n",
      " 4   Sex          1309 non-null   object \n",
      " 5   Age          1046 non-null   float64\n",
      " 6   SibSp        1309 non-null   int64  \n",
      " 7   Parch        1309 non-null   int64  \n",
      " 8   Ticket       1309 non-null   object \n",
      " 9   Fare         1308 non-null   float64\n",
      " 10  Cabin        295 non-null    object \n",
      " 11  Embarked     1307 non-null   object \n",
      "dtypes: float64(3), int64(4), object(5)\n",
      "memory usage: 122.8+ KB\n"
     ]
    }
   ],
   "source": [
    "train_test_data = pd.concat([train_data, test_data], ignore_index=True)\n",
    "train_test_data.info()"
   ]
  },
  {
   "cell_type": "markdown",
   "id": "80f0bc92",
   "metadata": {
    "papermill": {
     "duration": 0.021516,
     "end_time": "2024-07-24T19:04:47.959752",
     "exception": false,
     "start_time": "2024-07-24T19:04:47.938236",
     "status": "completed"
    },
    "tags": []
   },
   "source": [
    "# EDA"
   ]
  },
  {
   "cell_type": "markdown",
   "id": "66d5a9da",
   "metadata": {
    "papermill": {
     "duration": 0.020695,
     "end_time": "2024-07-24T19:04:48.001567",
     "exception": false,
     "start_time": "2024-07-24T19:04:47.980872",
     "status": "completed"
    },
    "tags": []
   },
   "source": [
    "Let's look at how similar the train_data and test_data datasets are.¶"
   ]
  },
  {
   "cell_type": "code",
   "execution_count": 7,
   "id": "3891337e",
   "metadata": {
    "execution": {
     "iopub.execute_input": "2024-07-24T19:04:48.045486Z",
     "iopub.status.busy": "2024-07-24T19:04:48.045074Z",
     "iopub.status.idle": "2024-07-24T19:04:48.050445Z",
     "shell.execute_reply": "2024-07-24T19:04:48.049375Z"
    },
    "papermill": {
     "duration": 0.030063,
     "end_time": "2024-07-24T19:04:48.052748",
     "exception": false,
     "start_time": "2024-07-24T19:04:48.022685",
     "status": "completed"
    },
    "tags": []
   },
   "outputs": [],
   "source": [
    "categorical_columns = ['Pclass', 'Sex', 'SibSp', 'Parch', 'Embarked']\n",
    "\n",
    "numeric_columns = ['Age', 'Fare']"
   ]
  },
  {
   "cell_type": "code",
   "execution_count": 8,
   "id": "3f0f2b4c",
   "metadata": {
    "execution": {
     "iopub.execute_input": "2024-07-24T19:04:48.097253Z",
     "iopub.status.busy": "2024-07-24T19:04:48.096548Z",
     "iopub.status.idle": "2024-07-24T19:04:49.092055Z",
     "shell.execute_reply": "2024-07-24T19:04:49.090923Z"
    },
    "papermill": {
     "duration": 1.020684,
     "end_time": "2024-07-24T19:04:49.094598",
     "exception": false,
     "start_time": "2024-07-24T19:04:48.073914",
     "status": "completed"
    },
    "tags": []
   },
   "outputs": [
    {
     "data": {
      "image/png": "[encoded data removed]",
      "text/plain": [
       "<Figure size 1400x1000 with 5 Axes>"
      ]
     },
     "metadata": {},
     "output_type": "display_data"
    }
   ],
   "source": [
    "fig = plt.figure(figsize=(14, 10))\n",
    "\n",
    "for i, column in enumerate(categorical_columns):\n",
    "    plt.subplot(2, 3, i+1)\n",
    "    sns.countplot(data=train_data, x=column, color='g', alpha= 0.5)\n",
    "    sns.countplot(data=test_data, x=column, color='r', alpha= 0.5)"
   ]
  },
  {
   "cell_type": "markdown",
   "id": "b95c9204",
   "metadata": {
    "papermill": {
     "duration": 0.021974,
     "end_time": "2024-07-24T19:04:49.138695",
     "exception": false,
     "start_time": "2024-07-24T19:04:49.116721",
     "status": "completed"
    },
    "tags": []
   },
   "source": [
    "#### We see a clear discrepancy in Embarked."
   ]
  },
  {
   "cell_type": "code",
   "execution_count": 9,
   "id": "1f702d68",
   "metadata": {
    "execution": {
     "iopub.execute_input": "2024-07-24T19:04:49.184606Z",
     "iopub.status.busy": "2024-07-24T19:04:49.184176Z",
     "iopub.status.idle": "2024-07-24T19:04:50.068514Z",
     "shell.execute_reply": "2024-07-24T19:04:50.067154Z"
    },
    "papermill": {
     "duration": 0.910822,
     "end_time": "2024-07-24T19:04:50.071478",
     "exception": false,
     "start_time": "2024-07-24T19:04:49.160656",
     "status": "completed"
    },
    "tags": []
   },
   "outputs": [
    {
     "data": {
      "image/png": "[encoded data removed]",
      "text/plain": [
       "<Figure size 1400x500 with 2 Axes>"
      ]
     },
     "metadata": {},
     "output_type": "display_data"
    }
   ],
   "source": [
    "fig = plt.figure(figsize=(14, 5))\n",
    "\n",
    "for i, column in enumerate(numeric_columns):\n",
    "    plt.subplot(1, 2, i+1)\n",
    "    sns.histplot(data=train_data, x=column, color='g', alpha= 0.3)\n",
    "    sns.histplot(data=test_data, x=column, color='r', alpha= 0.4)"
   ]
  },
  {
   "cell_type": "markdown",
   "id": "50b525d1",
   "metadata": {
    "papermill": {
     "duration": 0.023534,
     "end_time": "2024-07-24T19:04:50.119449",
     "exception": false,
     "start_time": "2024-07-24T19:04:50.095915",
     "status": "completed"
    },
    "tags": []
   },
   "source": [
    "There are significantly more small children on train than on test."
   ]
  },
  {
   "cell_type": "code",
   "execution_count": 10,
   "id": "ae2f4913",
   "metadata": {
    "execution": {
     "iopub.execute_input": "2024-07-24T19:04:50.167683Z",
     "iopub.status.busy": "2024-07-24T19:04:50.167105Z",
     "iopub.status.idle": "2024-07-24T19:04:50.182129Z",
     "shell.execute_reply": "2024-07-24T19:04:50.181040Z"
    },
    "papermill": {
     "duration": 0.04221,
     "end_time": "2024-07-24T19:04:50.184524",
     "exception": false,
     "start_time": "2024-07-24T19:04:50.142314",
     "status": "completed"
    },
    "tags": []
   },
   "outputs": [],
   "source": [
    "train_data.loc[train_data['Cabin'].isnull(), 'Cabin'] = 'NA'\n",
    "train_data['Is_cabin'] = 1\n",
    "train_data.loc[train_data['Cabin'] == 'NA', 'Is_cabin'] = 0\n",
    "\n",
    "test_data.loc[test_data['Cabin'].isnull(), 'Cabin'] = 'NA'\n",
    "test_data['Is_cabin'] = 1\n",
    "test_data.loc[test_data['Cabin'] == 'NA', 'Is_cabin'] = 0\n",
    "\n",
    "train_test_data.loc[train_test_data['Cabin'].isnull(), 'Cabin'] = 'NA'\n",
    "train_test_data['Is_cabin'] = 1\n",
    "train_test_data.loc[train_test_data['Cabin'] == 'NA', 'Is_cabin'] = 0"
   ]
  },
  {
   "cell_type": "code",
   "execution_count": 11,
   "id": "10063789",
   "metadata": {
    "execution": {
     "iopub.execute_input": "2024-07-24T19:04:50.232468Z",
     "iopub.status.busy": "2024-07-24T19:04:50.231484Z",
     "iopub.status.idle": "2024-07-24T19:04:50.243136Z",
     "shell.execute_reply": "2024-07-24T19:04:50.242067Z"
    },
    "papermill": {
     "duration": 0.038313,
     "end_time": "2024-07-24T19:04:50.245498",
     "exception": false,
     "start_time": "2024-07-24T19:04:50.207185",
     "status": "completed"
    },
    "tags": []
   },
   "outputs": [
    {
     "data": {
      "text/plain": [
       "(Is_cabin\n",
       " 0    687\n",
       " 1    204\n",
       " Name: count, dtype: int64,\n",
       " Is_cabin\n",
       " 0    327\n",
       " 1     91\n",
       " Name: count, dtype: int64)"
      ]
     },
     "execution_count": 11,
     "metadata": {},
     "output_type": "execute_result"
    }
   ],
   "source": [
    "train_data['Is_cabin'].value_counts(), test_data['Is_cabin'].value_counts()"
   ]
  },
  {
   "cell_type": "markdown",
   "id": "463af7c1",
   "metadata": {
    "papermill": {
     "duration": 0.023443,
     "end_time": "2024-07-24T19:04:50.292369",
     "exception": false,
     "start_time": "2024-07-24T19:04:50.268926",
     "status": "completed"
    },
    "tags": []
   },
   "source": [
    "Let's look at how features affect survival"
   ]
  },
  {
   "cell_type": "markdown",
   "id": "e966a999",
   "metadata": {
    "papermill": {
     "duration": 0.022673,
     "end_time": "2024-07-24T19:04:50.337846",
     "exception": false,
     "start_time": "2024-07-24T19:04:50.315173",
     "status": "completed"
    },
    "tags": []
   },
   "source": [
    "#### Pclass"
   ]
  },
  {
   "cell_type": "code",
   "execution_count": 12,
   "id": "161b4849",
   "metadata": {
    "execution": {
     "iopub.execute_input": "2024-07-24T19:04:50.385728Z",
     "iopub.status.busy": "2024-07-24T19:04:50.385291Z",
     "iopub.status.idle": "2024-07-24T19:04:50.403354Z",
     "shell.execute_reply": "2024-07-24T19:04:50.402286Z"
    },
    "papermill": {
     "duration": 0.045372,
     "end_time": "2024-07-24T19:04:50.406082",
     "exception": false,
     "start_time": "2024-07-24T19:04:50.360710",
     "status": "completed"
    },
    "tags": []
   },
   "outputs": [
    {
     "data": {
      "text/html": [
       "<div>\n",
       "<style scoped>\n",
       "    .dataframe tbody tr th:only-of-type {\n",
       "        vertical-align: middle;\n",
       "    }\n",
       "\n",
       "    .dataframe tbody tr th {\n",
       "        vertical-align: top;\n",
       "    }\n",
       "\n",
       "    .dataframe thead th {\n",
       "        text-align: right;\n",
       "    }\n",
       "</style>\n",
       "<table border=\"1\" class=\"dataframe\">\n",
       "  <thead>\n",
       "    <tr style=\"text-align: right;\">\n",
       "      <th></th>\n",
       "      <th>Survived</th>\n",
       "    </tr>\n",
       "    <tr>\n",
       "      <th>Pclass</th>\n",
       "      <th></th>\n",
       "    </tr>\n",
       "  </thead>\n",
       "  <tbody>\n",
       "    <tr>\n",
       "      <th>1</th>\n",
       "      <td>0.629630</td>\n",
       "    </tr>\n",
       "    <tr>\n",
       "      <th>2</th>\n",
       "      <td>0.472826</td>\n",
       "    </tr>\n",
       "    <tr>\n",
       "      <th>3</th>\n",
       "      <td>0.242363</td>\n",
       "    </tr>\n",
       "  </tbody>\n",
       "</table>\n",
       "</div>"
      ],
      "text/plain": [
       "        Survived\n",
       "Pclass          \n",
       "1       0.629630\n",
       "2       0.472826\n",
       "3       0.242363"
      ]
     },
     "execution_count": 12,
     "metadata": {},
     "output_type": "execute_result"
    }
   ],
   "source": [
    "train_data.groupby('Pclass').agg({'Survived': 'mean'})"
   ]
  },
  {
   "cell_type": "markdown",
   "id": "669ca5bb",
   "metadata": {
    "papermill": {
     "duration": 0.022796,
     "end_time": "2024-07-24T19:04:50.451673",
     "exception": false,
     "start_time": "2024-07-24T19:04:50.428877",
     "status": "completed"
    },
    "tags": []
   },
   "source": [
    "#### Sex"
   ]
  },
  {
   "cell_type": "code",
   "execution_count": 13,
   "id": "28d571f4",
   "metadata": {
    "execution": {
     "iopub.execute_input": "2024-07-24T19:04:50.505032Z",
     "iopub.status.busy": "2024-07-24T19:04:50.504488Z",
     "iopub.status.idle": "2024-07-24T19:04:50.522078Z",
     "shell.execute_reply": "2024-07-24T19:04:50.520646Z"
    },
    "papermill": {
     "duration": 0.05099,
     "end_time": "2024-07-24T19:04:50.525613",
     "exception": false,
     "start_time": "2024-07-24T19:04:50.474623",
     "status": "completed"
    },
    "tags": []
   },
   "outputs": [
    {
     "data": {
      "text/html": [
       "<div>\n",
       "<style scoped>\n",
       "    .dataframe tbody tr th:only-of-type {\n",
       "        vertical-align: middle;\n",
       "    }\n",
       "\n",
       "    .dataframe tbody tr th {\n",
       "        vertical-align: top;\n",
       "    }\n",
       "\n",
       "    .dataframe thead th {\n",
       "        text-align: right;\n",
       "    }\n",
       "</style>\n",
       "<table border=\"1\" class=\"dataframe\">\n",
       "  <thead>\n",
       "    <tr style=\"text-align: right;\">\n",
       "      <th></th>\n",
       "      <th>Survived</th>\n",
       "    </tr>\n",
       "    <tr>\n",
       "      <th>Sex</th>\n",
       "      <th></th>\n",
       "    </tr>\n",
       "  </thead>\n",
       "  <tbody>\n",
       "    <tr>\n",
       "      <th>female</th>\n",
       "      <td>0.742038</td>\n",
       "    </tr>\n",
       "    <tr>\n",
       "      <th>male</th>\n",
       "      <td>0.188908</td>\n",
       "    </tr>\n",
       "  </tbody>\n",
       "</table>\n",
       "</div>"
      ],
      "text/plain": [
       "        Survived\n",
       "Sex             \n",
       "female  0.742038\n",
       "male    0.188908"
      ]
     },
     "execution_count": 13,
     "metadata": {},
     "output_type": "execute_result"
    }
   ],
   "source": [
    "train_data.groupby('Sex').agg({'Survived': 'mean'})"
   ]
  },
  {
   "cell_type": "markdown",
   "id": "4db52ef8",
   "metadata": {
    "papermill": {
     "duration": 0.032681,
     "end_time": "2024-07-24T19:04:50.656551",
     "exception": false,
     "start_time": "2024-07-24T19:04:50.623870",
     "status": "completed"
    },
    "tags": []
   },
   "source": [
    "#### SibSp, Parch and Family_size"
   ]
  },
  {
   "cell_type": "code",
   "execution_count": 14,
   "id": "ab7658ef",
   "metadata": {
    "execution": {
     "iopub.execute_input": "2024-07-24T19:04:50.714988Z",
     "iopub.status.busy": "2024-07-24T19:04:50.714551Z",
     "iopub.status.idle": "2024-07-24T19:04:50.727604Z",
     "shell.execute_reply": "2024-07-24T19:04:50.726484Z"
    },
    "papermill": {
     "duration": 0.040979,
     "end_time": "2024-07-24T19:04:50.730189",
     "exception": false,
     "start_time": "2024-07-24T19:04:50.689210",
     "status": "completed"
    },
    "tags": []
   },
   "outputs": [
    {
     "data": {
      "text/html": [
       "<div>\n",
       "<style scoped>\n",
       "    .dataframe tbody tr th:only-of-type {\n",
       "        vertical-align: middle;\n",
       "    }\n",
       "\n",
       "    .dataframe tbody tr th {\n",
       "        vertical-align: top;\n",
       "    }\n",
       "\n",
       "    .dataframe thead th {\n",
       "        text-align: right;\n",
       "    }\n",
       "</style>\n",
       "<table border=\"1\" class=\"dataframe\">\n",
       "  <thead>\n",
       "    <tr style=\"text-align: right;\">\n",
       "      <th></th>\n",
       "      <th>Survived</th>\n",
       "    </tr>\n",
       "    <tr>\n",
       "      <th>SibSp</th>\n",
       "      <th></th>\n",
       "    </tr>\n",
       "  </thead>\n",
       "  <tbody>\n",
       "    <tr>\n",
       "      <th>0</th>\n",
       "      <td>0.345395</td>\n",
       "    </tr>\n",
       "    <tr>\n",
       "      <th>1</th>\n",
       "      <td>0.535885</td>\n",
       "    </tr>\n",
       "    <tr>\n",
       "      <th>2</th>\n",
       "      <td>0.464286</td>\n",
       "    </tr>\n",
       "    <tr>\n",
       "      <th>3</th>\n",
       "      <td>0.250000</td>\n",
       "    </tr>\n",
       "    <tr>\n",
       "      <th>4</th>\n",
       "      <td>0.166667</td>\n",
       "    </tr>\n",
       "    <tr>\n",
       "      <th>5</th>\n",
       "      <td>0.000000</td>\n",
       "    </tr>\n",
       "    <tr>\n",
       "      <th>8</th>\n",
       "      <td>0.000000</td>\n",
       "    </tr>\n",
       "  </tbody>\n",
       "</table>\n",
       "</div>"
      ],
      "text/plain": [
       "       Survived\n",
       "SibSp          \n",
       "0      0.345395\n",
       "1      0.535885\n",
       "2      0.464286\n",
       "3      0.250000\n",
       "4      0.166667\n",
       "5      0.000000\n",
       "8      0.000000"
      ]
     },
     "execution_count": 14,
     "metadata": {},
     "output_type": "execute_result"
    }
   ],
   "source": [
    "train_data.groupby('SibSp').agg({'Survived': 'mean'})"
   ]
  },
  {
   "cell_type": "code",
   "execution_count": 15,
   "id": "84b63ba0",
   "metadata": {
    "execution": {
     "iopub.execute_input": "2024-07-24T19:04:50.780258Z",
     "iopub.status.busy": "2024-07-24T19:04:50.779425Z",
     "iopub.status.idle": "2024-07-24T19:04:50.792367Z",
     "shell.execute_reply": "2024-07-24T19:04:50.791323Z"
    },
    "papermill": {
     "duration": 0.041053,
     "end_time": "2024-07-24T19:04:50.794747",
     "exception": false,
     "start_time": "2024-07-24T19:04:50.753694",
     "status": "completed"
    },
    "tags": []
   },
   "outputs": [
    {
     "data": {
      "text/html": [
       "<div>\n",
       "<style scoped>\n",
       "    .dataframe tbody tr th:only-of-type {\n",
       "        vertical-align: middle;\n",
       "    }\n",
       "\n",
       "    .dataframe tbody tr th {\n",
       "        vertical-align: top;\n",
       "    }\n",
       "\n",
       "    .dataframe thead th {\n",
       "        text-align: right;\n",
       "    }\n",
       "</style>\n",
       "<table border=\"1\" class=\"dataframe\">\n",
       "  <thead>\n",
       "    <tr style=\"text-align: right;\">\n",
       "      <th></th>\n",
       "      <th>Survived</th>\n",
       "    </tr>\n",
       "    <tr>\n",
       "      <th>Parch</th>\n",
       "      <th></th>\n",
       "    </tr>\n",
       "  </thead>\n",
       "  <tbody>\n",
       "    <tr>\n",
       "      <th>0</th>\n",
       "      <td>0.343658</td>\n",
       "    </tr>\n",
       "    <tr>\n",
       "      <th>1</th>\n",
       "      <td>0.550847</td>\n",
       "    </tr>\n",
       "    <tr>\n",
       "      <th>2</th>\n",
       "      <td>0.500000</td>\n",
       "    </tr>\n",
       "    <tr>\n",
       "      <th>3</th>\n",
       "      <td>0.600000</td>\n",
       "    </tr>\n",
       "    <tr>\n",
       "      <th>4</th>\n",
       "      <td>0.000000</td>\n",
       "    </tr>\n",
       "    <tr>\n",
       "      <th>5</th>\n",
       "      <td>0.200000</td>\n",
       "    </tr>\n",
       "    <tr>\n",
       "      <th>6</th>\n",
       "      <td>0.000000</td>\n",
       "    </tr>\n",
       "  </tbody>\n",
       "</table>\n",
       "</div>"
      ],
      "text/plain": [
       "       Survived\n",
       "Parch          \n",
       "0      0.343658\n",
       "1      0.550847\n",
       "2      0.500000\n",
       "3      0.600000\n",
       "4      0.000000\n",
       "5      0.200000\n",
       "6      0.000000"
      ]
     },
     "execution_count": 15,
     "metadata": {},
     "output_type": "execute_result"
    }
   ],
   "source": [
    "train_data.groupby('Parch').agg({'Survived': 'mean'})"
   ]
  },
  {
   "cell_type": "markdown",
   "id": "9e06ab6b",
   "metadata": {
    "papermill": {
     "duration": 0.028223,
     "end_time": "2024-07-24T19:04:50.846896",
     "exception": false,
     "start_time": "2024-07-24T19:04:50.818673",
     "status": "completed"
    },
    "tags": []
   },
   "source": [
    "Let's create the Family Size feature and see how it affects survival"
   ]
  },
  {
   "cell_type": "code",
   "execution_count": 16,
   "id": "42bb7429",
   "metadata": {
    "execution": {
     "iopub.execute_input": "2024-07-24T19:04:50.900202Z",
     "iopub.status.busy": "2024-07-24T19:04:50.899765Z",
     "iopub.status.idle": "2024-07-24T19:04:50.911725Z",
     "shell.execute_reply": "2024-07-24T19:04:50.910501Z"
    },
    "papermill": {
     "duration": 0.040651,
     "end_time": "2024-07-24T19:04:50.914360",
     "exception": false,
     "start_time": "2024-07-24T19:04:50.873709",
     "status": "completed"
    },
    "tags": []
   },
   "outputs": [],
   "source": [
    "train_test_data['Family_size'] = train_test_data.SibSp + train_test_data.Parch + 1\n",
    "train_data['Family_size'] = train_data.SibSp + train_test_data.Parch + 1   "
   ]
  },
  {
   "cell_type": "markdown",
   "id": "229fb39f",
   "metadata": {
    "papermill": {
     "duration": 0.02341,
     "end_time": "2024-07-24T19:04:50.964212",
     "exception": false,
     "start_time": "2024-07-24T19:04:50.940802",
     "status": "completed"
    },
    "tags": []
   },
   "source": [
    "Let's replace sex with 0 and 1 for ease of analysis."
   ]
  },
  {
   "cell_type": "code",
   "execution_count": 17,
   "id": "31bcd4ac",
   "metadata": {
    "execution": {
     "iopub.execute_input": "2024-07-24T19:04:51.013856Z",
     "iopub.status.busy": "2024-07-24T19:04:51.013443Z",
     "iopub.status.idle": "2024-07-24T19:04:51.024013Z",
     "shell.execute_reply": "2024-07-24T19:04:51.022914Z"
    },
    "papermill": {
     "duration": 0.038075,
     "end_time": "2024-07-24T19:04:51.026422",
     "exception": false,
     "start_time": "2024-07-24T19:04:50.988347",
     "status": "completed"
    },
    "tags": []
   },
   "outputs": [],
   "source": [
    "train_data.loc[train_data['Sex'] == 'female', 'Sex'], train_test_data.loc[train_test_data['Sex'] == 'female', 'Sex'] = 0, 0\n",
    "train_data.loc[train_data['Sex'] == 'male', 'Sex'], train_test_data.loc[train_test_data['Sex'] == 'male', 'Sex'] = 1, 1"
   ]
  },
  {
   "cell_type": "code",
   "execution_count": 18,
   "id": "5f0829d4",
   "metadata": {
    "execution": {
     "iopub.execute_input": "2024-07-24T19:04:51.076461Z",
     "iopub.status.busy": "2024-07-24T19:04:51.075781Z",
     "iopub.status.idle": "2024-07-24T19:04:51.102576Z",
     "shell.execute_reply": "2024-07-24T19:04:51.101493Z"
    },
    "papermill": {
     "duration": 0.054949,
     "end_time": "2024-07-24T19:04:51.105159",
     "exception": false,
     "start_time": "2024-07-24T19:04:51.050210",
     "status": "completed"
    },
    "tags": []
   },
   "outputs": [
    {
     "data": {
      "text/html": [
       "<div>\n",
       "<style scoped>\n",
       "    .dataframe tbody tr th:only-of-type {\n",
       "        vertical-align: middle;\n",
       "    }\n",
       "\n",
       "    .dataframe tbody tr th {\n",
       "        vertical-align: top;\n",
       "    }\n",
       "\n",
       "    .dataframe thead tr th {\n",
       "        text-align: left;\n",
       "    }\n",
       "</style>\n",
       "<table border=\"1\" class=\"dataframe\">\n",
       "  <thead>\n",
       "    <tr>\n",
       "      <th></th>\n",
       "      <th>Family_size</th>\n",
       "      <th colspan=\"2\" halign=\"left\">Survived</th>\n",
       "      <th>Pclass</th>\n",
       "      <th>Sex</th>\n",
       "    </tr>\n",
       "    <tr>\n",
       "      <th></th>\n",
       "      <th></th>\n",
       "      <th>mean</th>\n",
       "      <th>count</th>\n",
       "      <th>mean</th>\n",
       "      <th>mean</th>\n",
       "    </tr>\n",
       "  </thead>\n",
       "  <tbody>\n",
       "    <tr>\n",
       "      <th>0</th>\n",
       "      <td>1.0</td>\n",
       "      <td>0.303538</td>\n",
       "      <td>537</td>\n",
       "      <td>2.400372</td>\n",
       "      <td>0.765363</td>\n",
       "    </tr>\n",
       "    <tr>\n",
       "      <th>1</th>\n",
       "      <td>2.0</td>\n",
       "      <td>0.552795</td>\n",
       "      <td>161</td>\n",
       "      <td>1.919255</td>\n",
       "      <td>0.459627</td>\n",
       "    </tr>\n",
       "    <tr>\n",
       "      <th>2</th>\n",
       "      <td>3.0</td>\n",
       "      <td>0.578431</td>\n",
       "      <td>102</td>\n",
       "      <td>2.225490</td>\n",
       "      <td>0.519608</td>\n",
       "    </tr>\n",
       "    <tr>\n",
       "      <th>3</th>\n",
       "      <td>4.0</td>\n",
       "      <td>0.724138</td>\n",
       "      <td>29</td>\n",
       "      <td>2.068966</td>\n",
       "      <td>0.344828</td>\n",
       "    </tr>\n",
       "    <tr>\n",
       "      <th>4</th>\n",
       "      <td>5.0</td>\n",
       "      <td>0.200000</td>\n",
       "      <td>15</td>\n",
       "      <td>2.666667</td>\n",
       "      <td>0.2</td>\n",
       "    </tr>\n",
       "    <tr>\n",
       "      <th>5</th>\n",
       "      <td>6.0</td>\n",
       "      <td>0.136364</td>\n",
       "      <td>22</td>\n",
       "      <td>2.590909</td>\n",
       "      <td>0.636364</td>\n",
       "    </tr>\n",
       "    <tr>\n",
       "      <th>6</th>\n",
       "      <td>7.0</td>\n",
       "      <td>0.333333</td>\n",
       "      <td>12</td>\n",
       "      <td>3.000000</td>\n",
       "      <td>0.333333</td>\n",
       "    </tr>\n",
       "    <tr>\n",
       "      <th>7</th>\n",
       "      <td>8.0</td>\n",
       "      <td>0.000000</td>\n",
       "      <td>6</td>\n",
       "      <td>3.000000</td>\n",
       "      <td>0.666667</td>\n",
       "    </tr>\n",
       "    <tr>\n",
       "      <th>8</th>\n",
       "      <td>11.0</td>\n",
       "      <td>0.000000</td>\n",
       "      <td>7</td>\n",
       "      <td>3.000000</td>\n",
       "      <td>0.571429</td>\n",
       "    </tr>\n",
       "  </tbody>\n",
       "</table>\n",
       "</div>"
      ],
      "text/plain": [
       "  Family_size  Survived          Pclass       Sex\n",
       "                   mean count      mean      mean\n",
       "0         1.0  0.303538   537  2.400372  0.765363\n",
       "1         2.0  0.552795   161  1.919255  0.459627\n",
       "2         3.0  0.578431   102  2.225490  0.519608\n",
       "3         4.0  0.724138    29  2.068966  0.344828\n",
       "4         5.0  0.200000    15  2.666667       0.2\n",
       "5         6.0  0.136364    22  2.590909  0.636364\n",
       "6         7.0  0.333333    12  3.000000  0.333333\n",
       "7         8.0  0.000000     6  3.000000  0.666667\n",
       "8        11.0  0.000000     7  3.000000  0.571429"
      ]
     },
     "execution_count": 18,
     "metadata": {},
     "output_type": "execute_result"
    }
   ],
   "source": [
    "train_data.groupby('Family_size').agg({'Survived': ['mean', 'count'], 'Pclass': 'mean', 'Sex': 'mean'}).reset_index()"
   ]
  },
  {
   "cell_type": "markdown",
   "id": "5eb81eb7",
   "metadata": {
    "papermill": {
     "duration": 0.023914,
     "end_time": "2024-07-24T19:04:51.153100",
     "exception": false,
     "start_time": "2024-07-24T19:04:51.129186",
     "status": "completed"
    },
    "tags": []
   },
   "source": [
    "Single passengers are less likely to survive than family passengers. But most likely this may be due to Pclass and Sex. Taking into account the influence of family size on survival, we will create the Is_alon feature."
   ]
  },
  {
   "cell_type": "code",
   "execution_count": 19,
   "id": "5c6acffd",
   "metadata": {
    "execution": {
     "iopub.execute_input": "2024-07-24T19:04:51.207759Z",
     "iopub.status.busy": "2024-07-24T19:04:51.207350Z",
     "iopub.status.idle": "2024-07-24T19:04:51.214894Z",
     "shell.execute_reply": "2024-07-24T19:04:51.213532Z"
    },
    "papermill": {
     "duration": 0.041251,
     "end_time": "2024-07-24T19:04:51.218346",
     "exception": false,
     "start_time": "2024-07-24T19:04:51.177095",
     "status": "completed"
    },
    "tags": []
   },
   "outputs": [],
   "source": [
    "train_test_data['Is_alon'] = 0\n",
    "train_test_data.loc[train_test_data['Family_size'] == 1, 'Is_alon'] = 1"
   ]
  },
  {
   "cell_type": "markdown",
   "id": "383efdb7",
   "metadata": {
    "papermill": {
     "duration": 0.026351,
     "end_time": "2024-07-24T19:04:51.271381",
     "exception": false,
     "start_time": "2024-07-24T19:04:51.245030",
     "status": "completed"
    },
    "tags": []
   },
   "source": [
    "#### Age"
   ]
  },
  {
   "cell_type": "code",
   "execution_count": 20,
   "id": "e0e5685a",
   "metadata": {
    "execution": {
     "iopub.execute_input": "2024-07-24T19:04:51.322717Z",
     "iopub.status.busy": "2024-07-24T19:04:51.322326Z",
     "iopub.status.idle": "2024-07-24T19:04:51.337542Z",
     "shell.execute_reply": "2024-07-24T19:04:51.336650Z"
    },
    "papermill": {
     "duration": 0.044055,
     "end_time": "2024-07-24T19:04:51.340320",
     "exception": false,
     "start_time": "2024-07-24T19:04:51.296265",
     "status": "completed"
    },
    "tags": []
   },
   "outputs": [],
   "source": [
    "train_data['Age_categories'] = pd.cut(train_data['Age'], 20, precision=0)"
   ]
  },
  {
   "cell_type": "code",
   "execution_count": 21,
   "id": "4c6c159f",
   "metadata": {
    "execution": {
     "iopub.execute_input": "2024-07-24T19:04:51.391518Z",
     "iopub.status.busy": "2024-07-24T19:04:51.390541Z",
     "iopub.status.idle": "2024-07-24T19:04:51.423044Z",
     "shell.execute_reply": "2024-07-24T19:04:51.422003Z"
    },
    "papermill": {
     "duration": 0.060503,
     "end_time": "2024-07-24T19:04:51.425455",
     "exception": false,
     "start_time": "2024-07-24T19:04:51.364952",
     "status": "completed"
    },
    "tags": []
   },
   "outputs": [
    {
     "data": {
      "text/html": [
       "<div>\n",
       "<style scoped>\n",
       "    .dataframe tbody tr th:only-of-type {\n",
       "        vertical-align: middle;\n",
       "    }\n",
       "\n",
       "    .dataframe tbody tr th {\n",
       "        vertical-align: top;\n",
       "    }\n",
       "\n",
       "    .dataframe thead tr th {\n",
       "        text-align: left;\n",
       "    }\n",
       "</style>\n",
       "<table border=\"1\" class=\"dataframe\">\n",
       "  <thead>\n",
       "    <tr>\n",
       "      <th></th>\n",
       "      <th>Age_categories</th>\n",
       "      <th colspan=\"2\" halign=\"left\">Survived</th>\n",
       "      <th>Pclass</th>\n",
       "    </tr>\n",
       "    <tr>\n",
       "      <th></th>\n",
       "      <th></th>\n",
       "      <th>mean</th>\n",
       "      <th>count</th>\n",
       "      <th>mean</th>\n",
       "    </tr>\n",
       "  </thead>\n",
       "  <tbody>\n",
       "    <tr>\n",
       "      <th>0</th>\n",
       "      <td>(0.0, 4.0]</td>\n",
       "      <td>0.705882</td>\n",
       "      <td>17</td>\n",
       "      <td>2.647059</td>\n",
       "    </tr>\n",
       "    <tr>\n",
       "      <th>1</th>\n",
       "      <td>(4.0, 8.0]</td>\n",
       "      <td>0.777778</td>\n",
       "      <td>9</td>\n",
       "      <td>2.555556</td>\n",
       "    </tr>\n",
       "    <tr>\n",
       "      <th>2</th>\n",
       "      <td>(8.0, 12.0]</td>\n",
       "      <td>0.000000</td>\n",
       "      <td>6</td>\n",
       "      <td>3.000000</td>\n",
       "    </tr>\n",
       "    <tr>\n",
       "      <th>3</th>\n",
       "      <td>(12.0, 16.0]</td>\n",
       "      <td>0.823529</td>\n",
       "      <td>17</td>\n",
       "      <td>2.294118</td>\n",
       "    </tr>\n",
       "    <tr>\n",
       "      <th>4</th>\n",
       "      <td>(16.0, 20.0]</td>\n",
       "      <td>0.714286</td>\n",
       "      <td>28</td>\n",
       "      <td>2.214286</td>\n",
       "    </tr>\n",
       "    <tr>\n",
       "      <th>5</th>\n",
       "      <td>(20.0, 24.0]</td>\n",
       "      <td>0.800000</td>\n",
       "      <td>40</td>\n",
       "      <td>2.075000</td>\n",
       "    </tr>\n",
       "    <tr>\n",
       "      <th>6</th>\n",
       "      <td>(24.0, 28.0]</td>\n",
       "      <td>0.652174</td>\n",
       "      <td>23</td>\n",
       "      <td>2.347826</td>\n",
       "    </tr>\n",
       "    <tr>\n",
       "      <th>7</th>\n",
       "      <td>(28.0, 32.0]</td>\n",
       "      <td>0.724138</td>\n",
       "      <td>29</td>\n",
       "      <td>2.103448</td>\n",
       "    </tr>\n",
       "    <tr>\n",
       "      <th>8</th>\n",
       "      <td>(32.0, 36.0]</td>\n",
       "      <td>1.000000</td>\n",
       "      <td>26</td>\n",
       "      <td>1.653846</td>\n",
       "    </tr>\n",
       "    <tr>\n",
       "      <th>9</th>\n",
       "      <td>(36.0, 40.0]</td>\n",
       "      <td>0.722222</td>\n",
       "      <td>18</td>\n",
       "      <td>1.777778</td>\n",
       "    </tr>\n",
       "    <tr>\n",
       "      <th>10</th>\n",
       "      <td>(40.0, 44.0]</td>\n",
       "      <td>0.666667</td>\n",
       "      <td>12</td>\n",
       "      <td>1.833333</td>\n",
       "    </tr>\n",
       "    <tr>\n",
       "      <th>11</th>\n",
       "      <td>(44.0, 48.0]</td>\n",
       "      <td>0.583333</td>\n",
       "      <td>12</td>\n",
       "      <td>2.083333</td>\n",
       "    </tr>\n",
       "    <tr>\n",
       "      <th>12</th>\n",
       "      <td>(48.0, 52.0]</td>\n",
       "      <td>0.900000</td>\n",
       "      <td>10</td>\n",
       "      <td>1.300000</td>\n",
       "    </tr>\n",
       "    <tr>\n",
       "      <th>13</th>\n",
       "      <td>(52.0, 56.0]</td>\n",
       "      <td>1.000000</td>\n",
       "      <td>6</td>\n",
       "      <td>1.333333</td>\n",
       "    </tr>\n",
       "    <tr>\n",
       "      <th>14</th>\n",
       "      <td>(56.0, 60.0]</td>\n",
       "      <td>0.800000</td>\n",
       "      <td>5</td>\n",
       "      <td>1.200000</td>\n",
       "    </tr>\n",
       "    <tr>\n",
       "      <th>15</th>\n",
       "      <td>(60.0, 64.0]</td>\n",
       "      <td>1.000000</td>\n",
       "      <td>3</td>\n",
       "      <td>1.666667</td>\n",
       "    </tr>\n",
       "    <tr>\n",
       "      <th>16</th>\n",
       "      <td>(64.0, 68.0]</td>\n",
       "      <td>NaN</td>\n",
       "      <td>0</td>\n",
       "      <td>NaN</td>\n",
       "    </tr>\n",
       "    <tr>\n",
       "      <th>17</th>\n",
       "      <td>(68.0, 72.0]</td>\n",
       "      <td>NaN</td>\n",
       "      <td>0</td>\n",
       "      <td>NaN</td>\n",
       "    </tr>\n",
       "    <tr>\n",
       "      <th>18</th>\n",
       "      <td>(72.0, 76.0]</td>\n",
       "      <td>NaN</td>\n",
       "      <td>0</td>\n",
       "      <td>NaN</td>\n",
       "    </tr>\n",
       "    <tr>\n",
       "      <th>19</th>\n",
       "      <td>(76.0, 80.0]</td>\n",
       "      <td>NaN</td>\n",
       "      <td>0</td>\n",
       "      <td>NaN</td>\n",
       "    </tr>\n",
       "  </tbody>\n",
       "</table>\n",
       "</div>"
      ],
      "text/plain": [
       "   Age_categories  Survived          Pclass\n",
       "                       mean count      mean\n",
       "0      (0.0, 4.0]  0.705882    17  2.647059\n",
       "1      (4.0, 8.0]  0.777778     9  2.555556\n",
       "2     (8.0, 12.0]  0.000000     6  3.000000\n",
       "3    (12.0, 16.0]  0.823529    17  2.294118\n",
       "4    (16.0, 20.0]  0.714286    28  2.214286\n",
       "5    (20.0, 24.0]  0.800000    40  2.075000\n",
       "6    (24.0, 28.0]  0.652174    23  2.347826\n",
       "7    (28.0, 32.0]  0.724138    29  2.103448\n",
       "8    (32.0, 36.0]  1.000000    26  1.653846\n",
       "9    (36.0, 40.0]  0.722222    18  1.777778\n",
       "10   (40.0, 44.0]  0.666667    12  1.833333\n",
       "11   (44.0, 48.0]  0.583333    12  2.083333\n",
       "12   (48.0, 52.0]  0.900000    10  1.300000\n",
       "13   (52.0, 56.0]  1.000000     6  1.333333\n",
       "14   (56.0, 60.0]  0.800000     5  1.200000\n",
       "15   (60.0, 64.0]  1.000000     3  1.666667\n",
       "16   (64.0, 68.0]       NaN     0       NaN\n",
       "17   (68.0, 72.0]       NaN     0       NaN\n",
       "18   (72.0, 76.0]       NaN     0       NaN\n",
       "19   (76.0, 80.0]       NaN     0       NaN"
      ]
     },
     "execution_count": 21,
     "metadata": {},
     "output_type": "execute_result"
    }
   ],
   "source": [
    "data = train_data.query('Sex == 0').groupby(['Age_categories']).agg({'Survived': ['mean',  'count'], 'Pclass': 'mean' }).reset_index()\n",
    "data"
   ]
  },
  {
   "cell_type": "code",
   "execution_count": 22,
   "id": "cf66cbca",
   "metadata": {
    "execution": {
     "iopub.execute_input": "2024-07-24T19:04:51.476200Z",
     "iopub.status.busy": "2024-07-24T19:04:51.475688Z",
     "iopub.status.idle": "2024-07-24T19:04:51.948277Z",
     "shell.execute_reply": "2024-07-24T19:04:51.947036Z"
    },
    "papermill": {
     "duration": 0.500926,
     "end_time": "2024-07-24T19:04:51.950928",
     "exception": false,
     "start_time": "2024-07-24T19:04:51.450002",
     "status": "completed"
    },
    "tags": []
   },
   "outputs": [
    {
     "data": {
      "image/png": "[encoded data removed]",
      "text/plain": [
       "<Figure size 1800x600 with 1 Axes>"
      ]
     },
     "metadata": {},
     "output_type": "display_data"
    }
   ],
   "source": [
    "fig,ax =plt.subplots(1, 1, figsize=[18,6])\n",
    "sns.barplot(x='Age_categories', y=('Survived', 'mean'), data=data, color ='r', alpha= 0.4)\n",
    "ax.set(title = 'Proportion of survivors among all women by age')\n",
    "ax.set_xlim(-0.5, 15.5);"
   ]
  },
  {
   "cell_type": "code",
   "execution_count": 23,
   "id": "f09fb9f2",
   "metadata": {
    "execution": {
     "iopub.execute_input": "2024-07-24T19:04:52.003242Z",
     "iopub.status.busy": "2024-07-24T19:04:52.002827Z",
     "iopub.status.idle": "2024-07-24T19:04:52.032779Z",
     "shell.execute_reply": "2024-07-24T19:04:52.031666Z"
    },
    "papermill": {
     "duration": 0.059012,
     "end_time": "2024-07-24T19:04:52.035466",
     "exception": false,
     "start_time": "2024-07-24T19:04:51.976454",
     "status": "completed"
    },
    "tags": []
   },
   "outputs": [
    {
     "data": {
      "text/html": [
       "<div>\n",
       "<style scoped>\n",
       "    .dataframe tbody tr th:only-of-type {\n",
       "        vertical-align: middle;\n",
       "    }\n",
       "\n",
       "    .dataframe tbody tr th {\n",
       "        vertical-align: top;\n",
       "    }\n",
       "\n",
       "    .dataframe thead tr th {\n",
       "        text-align: left;\n",
       "    }\n",
       "</style>\n",
       "<table border=\"1\" class=\"dataframe\">\n",
       "  <thead>\n",
       "    <tr>\n",
       "      <th></th>\n",
       "      <th>Age_categories</th>\n",
       "      <th colspan=\"2\" halign=\"left\">Survived</th>\n",
       "      <th>Pclass</th>\n",
       "    </tr>\n",
       "    <tr>\n",
       "      <th></th>\n",
       "      <th></th>\n",
       "      <th>mean</th>\n",
       "      <th>count</th>\n",
       "      <th>mean</th>\n",
       "    </tr>\n",
       "  </thead>\n",
       "  <tbody>\n",
       "    <tr>\n",
       "      <th>0</th>\n",
       "      <td>(0.0, 4.0]</td>\n",
       "      <td>0.652174</td>\n",
       "      <td>23</td>\n",
       "      <td>2.478261</td>\n",
       "    </tr>\n",
       "    <tr>\n",
       "      <th>1</th>\n",
       "      <td>(4.0, 8.0]</td>\n",
       "      <td>0.400000</td>\n",
       "      <td>5</td>\n",
       "      <td>2.800000</td>\n",
       "    </tr>\n",
       "    <tr>\n",
       "      <th>2</th>\n",
       "      <td>(8.0, 12.0]</td>\n",
       "      <td>0.444444</td>\n",
       "      <td>9</td>\n",
       "      <td>2.777778</td>\n",
       "    </tr>\n",
       "    <tr>\n",
       "      <th>3</th>\n",
       "      <td>(12.0, 16.0]</td>\n",
       "      <td>0.071429</td>\n",
       "      <td>14</td>\n",
       "      <td>2.857143</td>\n",
       "    </tr>\n",
       "    <tr>\n",
       "      <th>4</th>\n",
       "      <td>(16.0, 20.0]</td>\n",
       "      <td>0.137255</td>\n",
       "      <td>51</td>\n",
       "      <td>2.686275</td>\n",
       "    </tr>\n",
       "    <tr>\n",
       "      <th>5</th>\n",
       "      <td>(20.0, 24.0]</td>\n",
       "      <td>0.068966</td>\n",
       "      <td>58</td>\n",
       "      <td>2.620690</td>\n",
       "    </tr>\n",
       "    <tr>\n",
       "      <th>6</th>\n",
       "      <td>(24.0, 28.0]</td>\n",
       "      <td>0.241935</td>\n",
       "      <td>62</td>\n",
       "      <td>2.435484</td>\n",
       "    </tr>\n",
       "    <tr>\n",
       "      <th>7</th>\n",
       "      <td>(28.0, 32.0]</td>\n",
       "      <td>0.254545</td>\n",
       "      <td>55</td>\n",
       "      <td>2.472727</td>\n",
       "    </tr>\n",
       "    <tr>\n",
       "      <th>8</th>\n",
       "      <td>(32.0, 36.0]</td>\n",
       "      <td>0.191489</td>\n",
       "      <td>47</td>\n",
       "      <td>2.234043</td>\n",
       "    </tr>\n",
       "    <tr>\n",
       "      <th>9</th>\n",
       "      <td>(36.0, 40.0]</td>\n",
       "      <td>0.148148</td>\n",
       "      <td>27</td>\n",
       "      <td>2.074074</td>\n",
       "    </tr>\n",
       "    <tr>\n",
       "      <th>10</th>\n",
       "      <td>(40.0, 44.0]</td>\n",
       "      <td>0.173913</td>\n",
       "      <td>23</td>\n",
       "      <td>2.434783</td>\n",
       "    </tr>\n",
       "    <tr>\n",
       "      <th>11</th>\n",
       "      <td>(44.0, 48.0]</td>\n",
       "      <td>0.217391</td>\n",
       "      <td>23</td>\n",
       "      <td>1.652174</td>\n",
       "    </tr>\n",
       "    <tr>\n",
       "      <th>12</th>\n",
       "      <td>(48.0, 52.0]</td>\n",
       "      <td>0.263158</td>\n",
       "      <td>19</td>\n",
       "      <td>1.736842</td>\n",
       "    </tr>\n",
       "    <tr>\n",
       "      <th>13</th>\n",
       "      <td>(52.0, 56.0]</td>\n",
       "      <td>0.100000</td>\n",
       "      <td>10</td>\n",
       "      <td>1.500000</td>\n",
       "    </tr>\n",
       "    <tr>\n",
       "      <th>14</th>\n",
       "      <td>(56.0, 60.0]</td>\n",
       "      <td>0.125000</td>\n",
       "      <td>8</td>\n",
       "      <td>1.625000</td>\n",
       "    </tr>\n",
       "    <tr>\n",
       "      <th>15</th>\n",
       "      <td>(60.0, 64.0]</td>\n",
       "      <td>0.125000</td>\n",
       "      <td>8</td>\n",
       "      <td>1.375000</td>\n",
       "    </tr>\n",
       "    <tr>\n",
       "      <th>16</th>\n",
       "      <td>(64.0, 68.0]</td>\n",
       "      <td>0.000000</td>\n",
       "      <td>4</td>\n",
       "      <td>1.750000</td>\n",
       "    </tr>\n",
       "    <tr>\n",
       "      <th>17</th>\n",
       "      <td>(68.0, 72.0]</td>\n",
       "      <td>0.000000</td>\n",
       "      <td>5</td>\n",
       "      <td>1.600000</td>\n",
       "    </tr>\n",
       "    <tr>\n",
       "      <th>18</th>\n",
       "      <td>(72.0, 76.0]</td>\n",
       "      <td>0.000000</td>\n",
       "      <td>1</td>\n",
       "      <td>3.000000</td>\n",
       "    </tr>\n",
       "    <tr>\n",
       "      <th>19</th>\n",
       "      <td>(76.0, 80.0]</td>\n",
       "      <td>1.000000</td>\n",
       "      <td>1</td>\n",
       "      <td>1.000000</td>\n",
       "    </tr>\n",
       "  </tbody>\n",
       "</table>\n",
       "</div>"
      ],
      "text/plain": [
       "   Age_categories  Survived          Pclass\n",
       "                       mean count      mean\n",
       "0      (0.0, 4.0]  0.652174    23  2.478261\n",
       "1      (4.0, 8.0]  0.400000     5  2.800000\n",
       "2     (8.0, 12.0]  0.444444     9  2.777778\n",
       "3    (12.0, 16.0]  0.071429    14  2.857143\n",
       "4    (16.0, 20.0]  0.137255    51  2.686275\n",
       "5    (20.0, 24.0]  0.068966    58  2.620690\n",
       "6    (24.0, 28.0]  0.241935    62  2.435484\n",
       "7    (28.0, 32.0]  0.254545    55  2.472727\n",
       "8    (32.0, 36.0]  0.191489    47  2.234043\n",
       "9    (36.0, 40.0]  0.148148    27  2.074074\n",
       "10   (40.0, 44.0]  0.173913    23  2.434783\n",
       "11   (44.0, 48.0]  0.217391    23  1.652174\n",
       "12   (48.0, 52.0]  0.263158    19  1.736842\n",
       "13   (52.0, 56.0]  0.100000    10  1.500000\n",
       "14   (56.0, 60.0]  0.125000     8  1.625000\n",
       "15   (60.0, 64.0]  0.125000     8  1.375000\n",
       "16   (64.0, 68.0]  0.000000     4  1.750000\n",
       "17   (68.0, 72.0]  0.000000     5  1.600000\n",
       "18   (72.0, 76.0]  0.000000     1  3.000000\n",
       "19   (76.0, 80.0]  1.000000     1  1.000000"
      ]
     },
     "execution_count": 23,
     "metadata": {},
     "output_type": "execute_result"
    }
   ],
   "source": [
    "data = train_data.query('Sex == 1').groupby(['Age_categories']).agg({'Survived': ['mean',  'count'], 'Pclass': 'mean' }).reset_index()\n",
    "data"
   ]
  },
  {
   "cell_type": "code",
   "execution_count": 24,
   "id": "89662b10",
   "metadata": {
    "execution": {
     "iopub.execute_input": "2024-07-24T19:04:52.089147Z",
     "iopub.status.busy": "2024-07-24T19:04:52.088748Z",
     "iopub.status.idle": "2024-07-24T19:04:52.709477Z",
     "shell.execute_reply": "2024-07-24T19:04:52.708351Z"
    },
    "papermill": {
     "duration": 0.650467,
     "end_time": "2024-07-24T19:04:52.711988",
     "exception": false,
     "start_time": "2024-07-24T19:04:52.061521",
     "status": "completed"
    },
    "tags": []
   },
   "outputs": [
    {
     "data": {
      "image/png": "[encoded data removed]",
      "text/plain": [
       "<Figure size 1800x600 with 1 Axes>"
      ]
     },
     "metadata": {},
     "output_type": "display_data"
    }
   ],
   "source": [
    "fig,ax =plt.subplots(1, 1, figsize=[18,6])\n",
    "sns.barplot(x='Age_categories', y=('Survived', 'mean'), data=data, color ='b', alpha= 0.5)\n",
    "ax.set(title = 'Proportion of survivors among all men by age')\n",
    "ax.set_xlim(-0.5, 15.5);"
   ]
  },
  {
   "cell_type": "markdown",
   "id": "aafebfaa",
   "metadata": {
    "papermill": {
     "duration": 0.026131,
     "end_time": "2024-07-24T19:04:52.764507",
     "exception": false,
     "start_time": "2024-07-24T19:04:52.738376",
     "status": "completed"
    },
    "tags": []
   },
   "source": [
    "Among women, survival clearly does not depend on age (except for the anomaly from 8 to 12 years). Among men, the survival rate of boys under 12 years of age is clearly higher, and this is understandable."
   ]
  },
  {
   "cell_type": "markdown",
   "id": "1256f2a1",
   "metadata": {
    "papermill": {
     "duration": 0.025966,
     "end_time": "2024-07-24T19:04:52.817122",
     "exception": false,
     "start_time": "2024-07-24T19:04:52.791156",
     "status": "completed"
    },
    "tags": []
   },
   "source": [
    "### Fare"
   ]
  },
  {
   "cell_type": "code",
   "execution_count": 25,
   "id": "8ed41105",
   "metadata": {
    "execution": {
     "iopub.execute_input": "2024-07-24T19:04:52.871967Z",
     "iopub.status.busy": "2024-07-24T19:04:52.871235Z",
     "iopub.status.idle": "2024-07-24T19:04:52.880298Z",
     "shell.execute_reply": "2024-07-24T19:04:52.879319Z"
    },
    "papermill": {
     "duration": 0.039385,
     "end_time": "2024-07-24T19:04:52.882872",
     "exception": false,
     "start_time": "2024-07-24T19:04:52.843487",
     "status": "completed"
    },
    "tags": []
   },
   "outputs": [],
   "source": [
    "train_data['Fare_categories'] = pd.cut(train_data['Fare'], 20, precision=0)"
   ]
  },
  {
   "cell_type": "code",
   "execution_count": 26,
   "id": "2a333903",
   "metadata": {
    "execution": {
     "iopub.execute_input": "2024-07-24T19:04:52.937819Z",
     "iopub.status.busy": "2024-07-24T19:04:52.937066Z",
     "iopub.status.idle": "2024-07-24T19:04:52.960953Z",
     "shell.execute_reply": "2024-07-24T19:04:52.959915Z"
    },
    "papermill": {
     "duration": 0.053932,
     "end_time": "2024-07-24T19:04:52.963156",
     "exception": false,
     "start_time": "2024-07-24T19:04:52.909224",
     "status": "completed"
    },
    "tags": []
   },
   "outputs": [
    {
     "data": {
      "text/html": [
       "<div>\n",
       "<style scoped>\n",
       "    .dataframe tbody tr th:only-of-type {\n",
       "        vertical-align: middle;\n",
       "    }\n",
       "\n",
       "    .dataframe tbody tr th {\n",
       "        vertical-align: top;\n",
       "    }\n",
       "\n",
       "    .dataframe thead tr th {\n",
       "        text-align: left;\n",
       "    }\n",
       "</style>\n",
       "<table border=\"1\" class=\"dataframe\">\n",
       "  <thead>\n",
       "    <tr>\n",
       "      <th></th>\n",
       "      <th>Fare_categories</th>\n",
       "      <th colspan=\"2\" halign=\"left\">Survived</th>\n",
       "      <th>Pclass</th>\n",
       "    </tr>\n",
       "    <tr>\n",
       "      <th></th>\n",
       "      <th></th>\n",
       "      <th>mean</th>\n",
       "      <th>count</th>\n",
       "      <th>mean</th>\n",
       "    </tr>\n",
       "  </thead>\n",
       "  <tbody>\n",
       "    <tr>\n",
       "      <th>0</th>\n",
       "      <td>(-1.0, 26.0]</td>\n",
       "      <td>0.284698</td>\n",
       "      <td>562</td>\n",
       "      <td>2.768683</td>\n",
       "    </tr>\n",
       "    <tr>\n",
       "      <th>1</th>\n",
       "      <td>(26.0, 51.0]</td>\n",
       "      <td>0.429412</td>\n",
       "      <td>170</td>\n",
       "      <td>1.805882</td>\n",
       "    </tr>\n",
       "    <tr>\n",
       "      <th>2</th>\n",
       "      <td>(51.0, 77.0]</td>\n",
       "      <td>0.597015</td>\n",
       "      <td>67</td>\n",
       "      <td>1.522388</td>\n",
       "    </tr>\n",
       "    <tr>\n",
       "      <th>3</th>\n",
       "      <td>(77.0, 102.0]</td>\n",
       "      <td>0.769231</td>\n",
       "      <td>39</td>\n",
       "      <td>1.000000</td>\n",
       "    </tr>\n",
       "    <tr>\n",
       "      <th>4</th>\n",
       "      <td>(102.0, 128.0]</td>\n",
       "      <td>0.733333</td>\n",
       "      <td>15</td>\n",
       "      <td>1.000000</td>\n",
       "    </tr>\n",
       "    <tr>\n",
       "      <th>5</th>\n",
       "      <td>(128.0, 154.0]</td>\n",
       "      <td>0.750000</td>\n",
       "      <td>16</td>\n",
       "      <td>1.000000</td>\n",
       "    </tr>\n",
       "    <tr>\n",
       "      <th>6</th>\n",
       "      <td>(154.0, 179.0]</td>\n",
       "      <td>1.000000</td>\n",
       "      <td>2</td>\n",
       "      <td>1.000000</td>\n",
       "    </tr>\n",
       "    <tr>\n",
       "      <th>7</th>\n",
       "      <td>(179.0, 205.0]</td>\n",
       "      <td>NaN</td>\n",
       "      <td>0</td>\n",
       "      <td>NaN</td>\n",
       "    </tr>\n",
       "    <tr>\n",
       "      <th>8</th>\n",
       "      <td>(205.0, 231.0]</td>\n",
       "      <td>0.666667</td>\n",
       "      <td>9</td>\n",
       "      <td>1.000000</td>\n",
       "    </tr>\n",
       "    <tr>\n",
       "      <th>9</th>\n",
       "      <td>(231.0, 256.0]</td>\n",
       "      <td>0.500000</td>\n",
       "      <td>2</td>\n",
       "      <td>1.000000</td>\n",
       "    </tr>\n",
       "    <tr>\n",
       "      <th>10</th>\n",
       "      <td>(256.0, 282.0]</td>\n",
       "      <td>0.666667</td>\n",
       "      <td>6</td>\n",
       "      <td>1.000000</td>\n",
       "    </tr>\n",
       "    <tr>\n",
       "      <th>11</th>\n",
       "      <td>(282.0, 307.0]</td>\n",
       "      <td>NaN</td>\n",
       "      <td>0</td>\n",
       "      <td>NaN</td>\n",
       "    </tr>\n",
       "    <tr>\n",
       "      <th>12</th>\n",
       "      <td>(307.0, 333.0]</td>\n",
       "      <td>NaN</td>\n",
       "      <td>0</td>\n",
       "      <td>NaN</td>\n",
       "    </tr>\n",
       "    <tr>\n",
       "      <th>13</th>\n",
       "      <td>(333.0, 359.0]</td>\n",
       "      <td>NaN</td>\n",
       "      <td>0</td>\n",
       "      <td>NaN</td>\n",
       "    </tr>\n",
       "    <tr>\n",
       "      <th>14</th>\n",
       "      <td>(359.0, 384.0]</td>\n",
       "      <td>NaN</td>\n",
       "      <td>0</td>\n",
       "      <td>NaN</td>\n",
       "    </tr>\n",
       "    <tr>\n",
       "      <th>15</th>\n",
       "      <td>(384.0, 410.0]</td>\n",
       "      <td>NaN</td>\n",
       "      <td>0</td>\n",
       "      <td>NaN</td>\n",
       "    </tr>\n",
       "    <tr>\n",
       "      <th>16</th>\n",
       "      <td>(410.0, 435.0]</td>\n",
       "      <td>NaN</td>\n",
       "      <td>0</td>\n",
       "      <td>NaN</td>\n",
       "    </tr>\n",
       "    <tr>\n",
       "      <th>17</th>\n",
       "      <td>(435.0, 461.0]</td>\n",
       "      <td>NaN</td>\n",
       "      <td>0</td>\n",
       "      <td>NaN</td>\n",
       "    </tr>\n",
       "    <tr>\n",
       "      <th>18</th>\n",
       "      <td>(461.0, 487.0]</td>\n",
       "      <td>NaN</td>\n",
       "      <td>0</td>\n",
       "      <td>NaN</td>\n",
       "    </tr>\n",
       "    <tr>\n",
       "      <th>19</th>\n",
       "      <td>(487.0, 512.0]</td>\n",
       "      <td>1.000000</td>\n",
       "      <td>3</td>\n",
       "      <td>1.000000</td>\n",
       "    </tr>\n",
       "  </tbody>\n",
       "</table>\n",
       "</div>"
      ],
      "text/plain": [
       "   Fare_categories  Survived          Pclass\n",
       "                        mean count      mean\n",
       "0     (-1.0, 26.0]  0.284698   562  2.768683\n",
       "1     (26.0, 51.0]  0.429412   170  1.805882\n",
       "2     (51.0, 77.0]  0.597015    67  1.522388\n",
       "3    (77.0, 102.0]  0.769231    39  1.000000\n",
       "4   (102.0, 128.0]  0.733333    15  1.000000\n",
       "5   (128.0, 154.0]  0.750000    16  1.000000\n",
       "6   (154.0, 179.0]  1.000000     2  1.000000\n",
       "7   (179.0, 205.0]       NaN     0       NaN\n",
       "8   (205.0, 231.0]  0.666667     9  1.000000\n",
       "9   (231.0, 256.0]  0.500000     2  1.000000\n",
       "10  (256.0, 282.0]  0.666667     6  1.000000\n",
       "11  (282.0, 307.0]       NaN     0       NaN\n",
       "12  (307.0, 333.0]       NaN     0       NaN\n",
       "13  (333.0, 359.0]       NaN     0       NaN\n",
       "14  (359.0, 384.0]       NaN     0       NaN\n",
       "15  (384.0, 410.0]       NaN     0       NaN\n",
       "16  (410.0, 435.0]       NaN     0       NaN\n",
       "17  (435.0, 461.0]       NaN     0       NaN\n",
       "18  (461.0, 487.0]       NaN     0       NaN\n",
       "19  (487.0, 512.0]  1.000000     3  1.000000"
      ]
     },
     "execution_count": 26,
     "metadata": {},
     "output_type": "execute_result"
    }
   ],
   "source": [
    "data = train_data.groupby(['Fare_categories']).agg({'Survived': ['mean',  'count'], 'Pclass': 'mean' }).reset_index()\n",
    "data"
   ]
  },
  {
   "cell_type": "markdown",
   "id": "90bfe256",
   "metadata": {
    "papermill": {
     "duration": 0.026244,
     "end_time": "2024-07-24T19:04:53.016134",
     "exception": false,
     "start_time": "2024-07-24T19:04:52.989890",
     "status": "completed"
    },
    "tags": []
   },
   "source": [
    "### Cabin"
   ]
  },
  {
   "cell_type": "markdown",
   "id": "35f66431",
   "metadata": {
    "papermill": {
     "duration": 0.026348,
     "end_time": "2024-07-24T19:04:53.069047",
     "exception": false,
     "start_time": "2024-07-24T19:04:53.042699",
     "status": "completed"
    },
    "tags": []
   },
   "source": [
    "Let's see how the survival rate of passengers differs depending on whether the passenger's cabin is known."
   ]
  },
  {
   "cell_type": "code",
   "execution_count": 27,
   "id": "b45f709d",
   "metadata": {
    "execution": {
     "iopub.execute_input": "2024-07-24T19:04:53.124563Z",
     "iopub.status.busy": "2024-07-24T19:04:53.124150Z",
     "iopub.status.idle": "2024-07-24T19:04:53.137039Z",
     "shell.execute_reply": "2024-07-24T19:04:53.135967Z"
    },
    "papermill": {
     "duration": 0.0434,
     "end_time": "2024-07-24T19:04:53.139553",
     "exception": false,
     "start_time": "2024-07-24T19:04:53.096153",
     "status": "completed"
    },
    "tags": []
   },
   "outputs": [
    {
     "data": {
      "text/plain": [
       "Sex  Pclass\n",
       "0    1         1.000000\n",
       "     2         0.924242\n",
       "     3         0.492754\n",
       "1    1         0.222222\n",
       "     2         0.127451\n",
       "     3         0.131965\n",
       "Name: Survived, dtype: float64"
      ]
     },
     "execution_count": 27,
     "metadata": {},
     "output_type": "execute_result"
    }
   ],
   "source": [
    "train_data[train_data['Cabin'] == 'NA'].groupby(['Sex', 'Pclass'])['Survived'].mean()"
   ]
  },
  {
   "cell_type": "code",
   "execution_count": 28,
   "id": "90fb2b53",
   "metadata": {
    "execution": {
     "iopub.execute_input": "2024-07-24T19:04:53.195985Z",
     "iopub.status.busy": "2024-07-24T19:04:53.195033Z",
     "iopub.status.idle": "2024-07-24T19:04:53.208738Z",
     "shell.execute_reply": "2024-07-24T19:04:53.207431Z"
    },
    "papermill": {
     "duration": 0.044128,
     "end_time": "2024-07-24T19:04:53.211136",
     "exception": false,
     "start_time": "2024-07-24T19:04:53.167008",
     "status": "completed"
    },
    "tags": []
   },
   "outputs": [
    {
     "data": {
      "text/plain": [
       "Sex  Pclass\n",
       "0    1         0.962963\n",
       "     2         0.900000\n",
       "     3         0.666667\n",
       "1    1         0.410526\n",
       "     2         0.666667\n",
       "     3         0.333333\n",
       "Name: Survived, dtype: float64"
      ]
     },
     "execution_count": 28,
     "metadata": {},
     "output_type": "execute_result"
    }
   ],
   "source": [
    "train_data[train_data['Cabin'] != 'NA'].groupby(['Sex', 'Pclass'])['Survived'].mean()"
   ]
  },
  {
   "cell_type": "markdown",
   "id": "58a866f8",
   "metadata": {
    "papermill": {
     "duration": 0.02715,
     "end_time": "2024-07-24T19:04:53.265271",
     "exception": false,
     "start_time": "2024-07-24T19:04:53.238121",
     "status": "completed"
    },
    "tags": []
   },
   "source": [
    "If the cabin is known, then the survival rate is significantly higher for women of 3rd class and for all men. This is somehow explained by the system for recording passengers during rescue. The Is_cabin attribute was created earlier.\n",
    "\n",
    "The cabin code contains an indication of the deck. Let's create the Deck attribute and see how it affects survivability."
   ]
  },
  {
   "cell_type": "code",
   "execution_count": 29,
   "id": "4ac235d9",
   "metadata": {
    "execution": {
     "iopub.execute_input": "2024-07-24T19:04:53.321663Z",
     "iopub.status.busy": "2024-07-24T19:04:53.320515Z",
     "iopub.status.idle": "2024-07-24T19:04:53.329402Z",
     "shell.execute_reply": "2024-07-24T19:04:53.328170Z"
    },
    "papermill": {
     "duration": 0.039702,
     "end_time": "2024-07-24T19:04:53.331846",
     "exception": false,
     "start_time": "2024-07-24T19:04:53.292144",
     "status": "completed"
    },
    "tags": []
   },
   "outputs": [],
   "source": [
    "train_data['Deck'] = train_data['Cabin'].apply(lambda x: x[0] if x != 'NA' else 'NA')\n",
    "train_test_data['Deck'] = train_test_data['Cabin'].apply(lambda x: x[0] if x != 'NA' else 'NA')"
   ]
  },
  {
   "cell_type": "code",
   "execution_count": 30,
   "id": "0a66e9bc",
   "metadata": {
    "execution": {
     "iopub.execute_input": "2024-07-24T19:04:53.388313Z",
     "iopub.status.busy": "2024-07-24T19:04:53.387930Z",
     "iopub.status.idle": "2024-07-24T19:04:53.409657Z",
     "shell.execute_reply": "2024-07-24T19:04:53.408550Z"
    },
    "papermill": {
     "duration": 0.052788,
     "end_time": "2024-07-24T19:04:53.412137",
     "exception": false,
     "start_time": "2024-07-24T19:04:53.359349",
     "status": "completed"
    },
    "tags": []
   },
   "outputs": [
    {
     "data": {
      "text/html": [
       "<div>\n",
       "<style scoped>\n",
       "    .dataframe tbody tr th:only-of-type {\n",
       "        vertical-align: middle;\n",
       "    }\n",
       "\n",
       "    .dataframe tbody tr th {\n",
       "        vertical-align: top;\n",
       "    }\n",
       "\n",
       "    .dataframe thead tr th {\n",
       "        text-align: left;\n",
       "    }\n",
       "\n",
       "    .dataframe thead tr:last-of-type th {\n",
       "        text-align: right;\n",
       "    }\n",
       "</style>\n",
       "<table border=\"1\" class=\"dataframe\">\n",
       "  <thead>\n",
       "    <tr>\n",
       "      <th></th>\n",
       "      <th colspan=\"2\" halign=\"left\">Survived</th>\n",
       "      <th>Pclass</th>\n",
       "      <th>Sex</th>\n",
       "    </tr>\n",
       "    <tr>\n",
       "      <th></th>\n",
       "      <th>mean</th>\n",
       "      <th>count</th>\n",
       "      <th>mean</th>\n",
       "      <th>mean</th>\n",
       "    </tr>\n",
       "    <tr>\n",
       "      <th>Deck</th>\n",
       "      <th></th>\n",
       "      <th></th>\n",
       "      <th></th>\n",
       "      <th></th>\n",
       "    </tr>\n",
       "  </thead>\n",
       "  <tbody>\n",
       "    <tr>\n",
       "      <th>A</th>\n",
       "      <td>0.466667</td>\n",
       "      <td>15</td>\n",
       "      <td>1.000000</td>\n",
       "      <td>0.933333</td>\n",
       "    </tr>\n",
       "    <tr>\n",
       "      <th>B</th>\n",
       "      <td>0.744681</td>\n",
       "      <td>47</td>\n",
       "      <td>1.000000</td>\n",
       "      <td>0.425532</td>\n",
       "    </tr>\n",
       "    <tr>\n",
       "      <th>C</th>\n",
       "      <td>0.593220</td>\n",
       "      <td>59</td>\n",
       "      <td>1.000000</td>\n",
       "      <td>0.542373</td>\n",
       "    </tr>\n",
       "    <tr>\n",
       "      <th>D</th>\n",
       "      <td>0.757576</td>\n",
       "      <td>33</td>\n",
       "      <td>1.121212</td>\n",
       "      <td>0.454545</td>\n",
       "    </tr>\n",
       "    <tr>\n",
       "      <th>E</th>\n",
       "      <td>0.750000</td>\n",
       "      <td>32</td>\n",
       "      <td>1.312500</td>\n",
       "      <td>0.53125</td>\n",
       "    </tr>\n",
       "    <tr>\n",
       "      <th>F</th>\n",
       "      <td>0.615385</td>\n",
       "      <td>13</td>\n",
       "      <td>2.384615</td>\n",
       "      <td>0.615385</td>\n",
       "    </tr>\n",
       "    <tr>\n",
       "      <th>G</th>\n",
       "      <td>0.500000</td>\n",
       "      <td>4</td>\n",
       "      <td>3.000000</td>\n",
       "      <td>0.0</td>\n",
       "    </tr>\n",
       "    <tr>\n",
       "      <th>NA</th>\n",
       "      <td>0.299854</td>\n",
       "      <td>687</td>\n",
       "      <td>2.639010</td>\n",
       "      <td>0.684134</td>\n",
       "    </tr>\n",
       "    <tr>\n",
       "      <th>T</th>\n",
       "      <td>0.000000</td>\n",
       "      <td>1</td>\n",
       "      <td>1.000000</td>\n",
       "      <td>1.0</td>\n",
       "    </tr>\n",
       "  </tbody>\n",
       "</table>\n",
       "</div>"
      ],
      "text/plain": [
       "      Survived          Pclass       Sex\n",
       "          mean count      mean      mean\n",
       "Deck                                    \n",
       "A     0.466667    15  1.000000  0.933333\n",
       "B     0.744681    47  1.000000  0.425532\n",
       "C     0.593220    59  1.000000  0.542373\n",
       "D     0.757576    33  1.121212  0.454545\n",
       "E     0.750000    32  1.312500   0.53125\n",
       "F     0.615385    13  2.384615  0.615385\n",
       "G     0.500000     4  3.000000       0.0\n",
       "NA    0.299854   687  2.639010  0.684134\n",
       "T     0.000000     1  1.000000       1.0"
      ]
     },
     "execution_count": 30,
     "metadata": {},
     "output_type": "execute_result"
    }
   ],
   "source": [
    "train_data.groupby('Deck').agg({'Survived': ['mean', 'count'], 'Pclass': 'mean', 'Sex': 'mean'})"
   ]
  },
  {
   "cell_type": "markdown",
   "id": "3a33034b",
   "metadata": {
    "papermill": {
     "duration": 0.027212,
     "end_time": "2024-07-24T19:04:53.466668",
     "exception": false,
     "start_time": "2024-07-24T19:04:53.439456",
     "status": "completed"
    },
    "tags": []
   },
   "source": [
    "### Embarked"
   ]
  },
  {
   "cell_type": "code",
   "execution_count": 31,
   "id": "481694e5",
   "metadata": {
    "execution": {
     "iopub.execute_input": "2024-07-24T19:04:53.523364Z",
     "iopub.status.busy": "2024-07-24T19:04:53.522974Z",
     "iopub.status.idle": "2024-07-24T19:04:53.540399Z",
     "shell.execute_reply": "2024-07-24T19:04:53.539329Z"
    },
    "papermill": {
     "duration": 0.048559,
     "end_time": "2024-07-24T19:04:53.542879",
     "exception": false,
     "start_time": "2024-07-24T19:04:53.494320",
     "status": "completed"
    },
    "tags": []
   },
   "outputs": [
    {
     "data": {
      "text/html": [
       "<div>\n",
       "<style scoped>\n",
       "    .dataframe tbody tr th:only-of-type {\n",
       "        vertical-align: middle;\n",
       "    }\n",
       "\n",
       "    .dataframe tbody tr th {\n",
       "        vertical-align: top;\n",
       "    }\n",
       "\n",
       "    .dataframe thead th {\n",
       "        text-align: right;\n",
       "    }\n",
       "</style>\n",
       "<table border=\"1\" class=\"dataframe\">\n",
       "  <thead>\n",
       "    <tr style=\"text-align: right;\">\n",
       "      <th></th>\n",
       "      <th>Survived</th>\n",
       "      <th>PassengerId</th>\n",
       "      <th>Pclass</th>\n",
       "      <th>Sex</th>\n",
       "    </tr>\n",
       "    <tr>\n",
       "      <th>Embarked</th>\n",
       "      <th></th>\n",
       "      <th></th>\n",
       "      <th></th>\n",
       "      <th></th>\n",
       "    </tr>\n",
       "  </thead>\n",
       "  <tbody>\n",
       "    <tr>\n",
       "      <th>C</th>\n",
       "      <td>0.553571</td>\n",
       "      <td>168</td>\n",
       "      <td>1.886905</td>\n",
       "      <td>0.565476</td>\n",
       "    </tr>\n",
       "    <tr>\n",
       "      <th>Q</th>\n",
       "      <td>0.389610</td>\n",
       "      <td>77</td>\n",
       "      <td>2.909091</td>\n",
       "      <td>0.532468</td>\n",
       "    </tr>\n",
       "    <tr>\n",
       "      <th>S</th>\n",
       "      <td>0.336957</td>\n",
       "      <td>644</td>\n",
       "      <td>2.350932</td>\n",
       "      <td>0.684783</td>\n",
       "    </tr>\n",
       "  </tbody>\n",
       "</table>\n",
       "</div>"
      ],
      "text/plain": [
       "          Survived  PassengerId    Pclass       Sex\n",
       "Embarked                                           \n",
       "C         0.553571          168  1.886905  0.565476\n",
       "Q         0.389610           77  2.909091  0.532468\n",
       "S         0.336957          644  2.350932  0.684783"
      ]
     },
     "execution_count": 31,
     "metadata": {},
     "output_type": "execute_result"
    }
   ],
   "source": [
    "train_data.groupby('Embarked').agg({'Survived': 'mean', 'PassengerId': 'count', 'Pclass': 'mean', 'Sex': 'mean'})"
   ]
  },
  {
   "cell_type": "markdown",
   "id": "06053b7c",
   "metadata": {
    "papermill": {
     "duration": 0.027222,
     "end_time": "2024-07-24T19:04:53.599229",
     "exception": false,
     "start_time": "2024-07-24T19:04:53.572007",
     "status": "completed"
    },
    "tags": []
   },
   "source": [
    "Embarked affects survivability, but comes as we see from the combination of Pclass and Sex."
   ]
  },
  {
   "cell_type": "markdown",
   "id": "d0ff0ab3",
   "metadata": {
    "papermill": {
     "duration": 0.027804,
     "end_time": "2024-07-24T19:04:53.654608",
     "exception": false,
     "start_time": "2024-07-24T19:04:53.626804",
     "status": "completed"
    },
    "tags": []
   },
   "source": [
    "## Creating additional features and filling in gaps"
   ]
  },
  {
   "cell_type": "markdown",
   "id": "97faee84",
   "metadata": {
    "papermill": {
     "duration": 0.027216,
     "end_time": "2024-07-24T19:04:53.709547",
     "exception": false,
     "start_time": "2024-07-24T19:04:53.682331",
     "status": "completed"
    },
    "tags": []
   },
   "source": [
    "Let's create the Title attribute and use it to fill in the age."
   ]
  },
  {
   "cell_type": "code",
   "execution_count": 32,
   "id": "d0524558",
   "metadata": {
    "execution": {
     "iopub.execute_input": "2024-07-24T19:04:53.766357Z",
     "iopub.status.busy": "2024-07-24T19:04:53.765927Z",
     "iopub.status.idle": "2024-07-24T19:04:53.774790Z",
     "shell.execute_reply": "2024-07-24T19:04:53.773644Z"
    },
    "papermill": {
     "duration": 0.040179,
     "end_time": "2024-07-24T19:04:53.777250",
     "exception": false,
     "start_time": "2024-07-24T19:04:53.737071",
     "status": "completed"
    },
    "tags": []
   },
   "outputs": [],
   "source": [
    "def extract_title(name):\n",
    "    return name.split(',')[1].split('.')[0].strip()\n",
    "\n",
    "train_test_data['Title'] = train_test_data['Name'].apply(extract_title)"
   ]
  },
  {
   "cell_type": "code",
   "execution_count": 33,
   "id": "3d94bcf3",
   "metadata": {
    "execution": {
     "iopub.execute_input": "2024-07-24T19:04:53.833887Z",
     "iopub.status.busy": "2024-07-24T19:04:53.833471Z",
     "iopub.status.idle": "2024-07-24T19:04:53.858509Z",
     "shell.execute_reply": "2024-07-24T19:04:53.857455Z"
    },
    "papermill": {
     "duration": 0.056455,
     "end_time": "2024-07-24T19:04:53.861204",
     "exception": false,
     "start_time": "2024-07-24T19:04:53.804749",
     "status": "completed"
    },
    "tags": []
   },
   "outputs": [
    {
     "data": {
      "text/html": [
       "<div>\n",
       "<style scoped>\n",
       "    .dataframe tbody tr th:only-of-type {\n",
       "        vertical-align: middle;\n",
       "    }\n",
       "\n",
       "    .dataframe tbody tr th {\n",
       "        vertical-align: top;\n",
       "    }\n",
       "\n",
       "    .dataframe thead tr th {\n",
       "        text-align: left;\n",
       "    }\n",
       "\n",
       "    .dataframe thead tr:last-of-type th {\n",
       "        text-align: right;\n",
       "    }\n",
       "</style>\n",
       "<table border=\"1\" class=\"dataframe\">\n",
       "  <thead>\n",
       "    <tr>\n",
       "      <th></th>\n",
       "      <th colspan=\"2\" halign=\"left\">Survived</th>\n",
       "      <th>Pclass</th>\n",
       "      <th>Sex</th>\n",
       "    </tr>\n",
       "    <tr>\n",
       "      <th></th>\n",
       "      <th>mean</th>\n",
       "      <th>count</th>\n",
       "      <th>mean</th>\n",
       "      <th>mean</th>\n",
       "    </tr>\n",
       "    <tr>\n",
       "      <th>Title</th>\n",
       "      <th></th>\n",
       "      <th></th>\n",
       "      <th></th>\n",
       "      <th></th>\n",
       "    </tr>\n",
       "  </thead>\n",
       "  <tbody>\n",
       "    <tr>\n",
       "      <th>Mr</th>\n",
       "      <td>0.156673</td>\n",
       "      <td>517</td>\n",
       "      <td>2.381770</td>\n",
       "      <td>1.0</td>\n",
       "    </tr>\n",
       "    <tr>\n",
       "      <th>Miss</th>\n",
       "      <td>0.697802</td>\n",
       "      <td>182</td>\n",
       "      <td>2.346154</td>\n",
       "      <td>0.0</td>\n",
       "    </tr>\n",
       "    <tr>\n",
       "      <th>Mrs</th>\n",
       "      <td>0.792000</td>\n",
       "      <td>125</td>\n",
       "      <td>1.939086</td>\n",
       "      <td>0.0</td>\n",
       "    </tr>\n",
       "    <tr>\n",
       "      <th>Master</th>\n",
       "      <td>0.575000</td>\n",
       "      <td>40</td>\n",
       "      <td>2.655738</td>\n",
       "      <td>1.0</td>\n",
       "    </tr>\n",
       "    <tr>\n",
       "      <th>Dr</th>\n",
       "      <td>0.428571</td>\n",
       "      <td>7</td>\n",
       "      <td>1.250000</td>\n",
       "      <td>0.875</td>\n",
       "    </tr>\n",
       "    <tr>\n",
       "      <th>Rev</th>\n",
       "      <td>0.000000</td>\n",
       "      <td>6</td>\n",
       "      <td>2.000000</td>\n",
       "      <td>1.0</td>\n",
       "    </tr>\n",
       "    <tr>\n",
       "      <th>Major</th>\n",
       "      <td>0.500000</td>\n",
       "      <td>2</td>\n",
       "      <td>1.000000</td>\n",
       "      <td>1.0</td>\n",
       "    </tr>\n",
       "    <tr>\n",
       "      <th>Col</th>\n",
       "      <td>0.500000</td>\n",
       "      <td>2</td>\n",
       "      <td>1.000000</td>\n",
       "      <td>1.0</td>\n",
       "    </tr>\n",
       "    <tr>\n",
       "      <th>Mlle</th>\n",
       "      <td>1.000000</td>\n",
       "      <td>2</td>\n",
       "      <td>1.000000</td>\n",
       "      <td>0.0</td>\n",
       "    </tr>\n",
       "    <tr>\n",
       "      <th>Sir</th>\n",
       "      <td>1.000000</td>\n",
       "      <td>1</td>\n",
       "      <td>1.000000</td>\n",
       "      <td>1.0</td>\n",
       "    </tr>\n",
       "    <tr>\n",
       "      <th>Ms</th>\n",
       "      <td>1.000000</td>\n",
       "      <td>1</td>\n",
       "      <td>2.500000</td>\n",
       "      <td>0.0</td>\n",
       "    </tr>\n",
       "    <tr>\n",
       "      <th>Capt</th>\n",
       "      <td>0.000000</td>\n",
       "      <td>1</td>\n",
       "      <td>1.000000</td>\n",
       "      <td>1.0</td>\n",
       "    </tr>\n",
       "    <tr>\n",
       "      <th>Mme</th>\n",
       "      <td>1.000000</td>\n",
       "      <td>1</td>\n",
       "      <td>1.000000</td>\n",
       "      <td>0.0</td>\n",
       "    </tr>\n",
       "    <tr>\n",
       "      <th>Lady</th>\n",
       "      <td>1.000000</td>\n",
       "      <td>1</td>\n",
       "      <td>1.000000</td>\n",
       "      <td>0.0</td>\n",
       "    </tr>\n",
       "    <tr>\n",
       "      <th>Jonkheer</th>\n",
       "      <td>0.000000</td>\n",
       "      <td>1</td>\n",
       "      <td>1.000000</td>\n",
       "      <td>1.0</td>\n",
       "    </tr>\n",
       "    <tr>\n",
       "      <th>Don</th>\n",
       "      <td>0.000000</td>\n",
       "      <td>1</td>\n",
       "      <td>1.000000</td>\n",
       "      <td>1.0</td>\n",
       "    </tr>\n",
       "    <tr>\n",
       "      <th>the Countess</th>\n",
       "      <td>1.000000</td>\n",
       "      <td>1</td>\n",
       "      <td>1.000000</td>\n",
       "      <td>0.0</td>\n",
       "    </tr>\n",
       "    <tr>\n",
       "      <th>Dona</th>\n",
       "      <td>NaN</td>\n",
       "      <td>0</td>\n",
       "      <td>1.000000</td>\n",
       "      <td>0.0</td>\n",
       "    </tr>\n",
       "  </tbody>\n",
       "</table>\n",
       "</div>"
      ],
      "text/plain": [
       "              Survived          Pclass    Sex\n",
       "                  mean count      mean   mean\n",
       "Title                                        \n",
       "Mr            0.156673   517  2.381770    1.0\n",
       "Miss          0.697802   182  2.346154    0.0\n",
       "Mrs           0.792000   125  1.939086    0.0\n",
       "Master        0.575000    40  2.655738    1.0\n",
       "Dr            0.428571     7  1.250000  0.875\n",
       "Rev           0.000000     6  2.000000    1.0\n",
       "Major         0.500000     2  1.000000    1.0\n",
       "Col           0.500000     2  1.000000    1.0\n",
       "Mlle          1.000000     2  1.000000    0.0\n",
       "Sir           1.000000     1  1.000000    1.0\n",
       "Ms            1.000000     1  2.500000    0.0\n",
       "Capt          0.000000     1  1.000000    1.0\n",
       "Mme           1.000000     1  1.000000    0.0\n",
       "Lady          1.000000     1  1.000000    0.0\n",
       "Jonkheer      0.000000     1  1.000000    1.0\n",
       "Don           0.000000     1  1.000000    1.0\n",
       "the Countess  1.000000     1  1.000000    0.0\n",
       "Dona               NaN     0  1.000000    0.0"
      ]
     },
     "execution_count": 33,
     "metadata": {},
     "output_type": "execute_result"
    }
   ],
   "source": [
    "train_test_data.groupby('Title').agg({'Survived': ['mean', 'count'], 'Pclass': 'mean', 'Sex': 'mean' })\\\n",
    "    .sort_values(by= ('Survived', 'count'), ascending= False)"
   ]
  },
  {
   "cell_type": "markdown",
   "id": "4ba6b197",
   "metadata": {
    "papermill": {
     "duration": 0.027996,
     "end_time": "2024-07-24T19:04:53.917433",
     "exception": false,
     "start_time": "2024-07-24T19:04:53.889437",
     "status": "completed"
    },
    "tags": []
   },
   "source": [
    "Let's group"
   ]
  },
  {
   "cell_type": "code",
   "execution_count": 34,
   "id": "6d4da8ed",
   "metadata": {
    "execution": {
     "iopub.execute_input": "2024-07-24T19:04:53.975120Z",
     "iopub.status.busy": "2024-07-24T19:04:53.974712Z",
     "iopub.status.idle": "2024-07-24T19:04:53.985641Z",
     "shell.execute_reply": "2024-07-24T19:04:53.984245Z"
    },
    "papermill": {
     "duration": 0.042793,
     "end_time": "2024-07-24T19:04:53.988249",
     "exception": false,
     "start_time": "2024-07-24T19:04:53.945456",
     "status": "completed"
    },
    "tags": []
   },
   "outputs": [],
   "source": [
    "Mrs = ['Ms']\n",
    "Aristocrat_male = ['Dr', 'Don', 'Major', 'Sir', 'Col', 'Capt', 'Jonkheer']\n",
    "Aristocrat_female = ['Mlle', 'Mme', 'Lady', 'the Countess', 'Dona']\n",
    "\n",
    "train_test_data.loc[train_test_data['Title'].isin(Mrs), 'Title'] = 'Mrs'\n",
    "train_test_data.loc[train_test_data['Title'].isin(Aristocrat_male), 'Title'] = 'Aristocrat_male'\n",
    "train_test_data.loc[train_test_data['Title'].isin(Aristocrat_female), 'Title'] = 'Aristocrat_female'"
   ]
  },
  {
   "cell_type": "code",
   "execution_count": 35,
   "id": "e17f0f0c",
   "metadata": {
    "execution": {
     "iopub.execute_input": "2024-07-24T19:04:54.047150Z",
     "iopub.status.busy": "2024-07-24T19:04:54.046776Z",
     "iopub.status.idle": "2024-07-24T19:04:54.066874Z",
     "shell.execute_reply": "2024-07-24T19:04:54.065658Z"
    },
    "papermill": {
     "duration": 0.052466,
     "end_time": "2024-07-24T19:04:54.069572",
     "exception": false,
     "start_time": "2024-07-24T19:04:54.017106",
     "status": "completed"
    },
    "tags": []
   },
   "outputs": [
    {
     "data": {
      "text/html": [
       "<div>\n",
       "<style scoped>\n",
       "    .dataframe tbody tr th:only-of-type {\n",
       "        vertical-align: middle;\n",
       "    }\n",
       "\n",
       "    .dataframe tbody tr th {\n",
       "        vertical-align: top;\n",
       "    }\n",
       "\n",
       "    .dataframe thead tr th {\n",
       "        text-align: left;\n",
       "    }\n",
       "\n",
       "    .dataframe thead tr:last-of-type th {\n",
       "        text-align: right;\n",
       "    }\n",
       "</style>\n",
       "<table border=\"1\" class=\"dataframe\">\n",
       "  <thead>\n",
       "    <tr>\n",
       "      <th></th>\n",
       "      <th colspan=\"2\" halign=\"left\">Survived</th>\n",
       "      <th>Pclass</th>\n",
       "    </tr>\n",
       "    <tr>\n",
       "      <th></th>\n",
       "      <th>mean</th>\n",
       "      <th>count</th>\n",
       "      <th>mean</th>\n",
       "    </tr>\n",
       "    <tr>\n",
       "      <th>Title</th>\n",
       "      <th></th>\n",
       "      <th></th>\n",
       "      <th></th>\n",
       "    </tr>\n",
       "  </thead>\n",
       "  <tbody>\n",
       "    <tr>\n",
       "      <th>Mr</th>\n",
       "      <td>0.156673</td>\n",
       "      <td>517</td>\n",
       "      <td>2.381770</td>\n",
       "    </tr>\n",
       "    <tr>\n",
       "      <th>Miss</th>\n",
       "      <td>0.697802</td>\n",
       "      <td>182</td>\n",
       "      <td>2.346154</td>\n",
       "    </tr>\n",
       "    <tr>\n",
       "      <th>Mrs</th>\n",
       "      <td>0.793651</td>\n",
       "      <td>126</td>\n",
       "      <td>1.944724</td>\n",
       "    </tr>\n",
       "    <tr>\n",
       "      <th>Master</th>\n",
       "      <td>0.575000</td>\n",
       "      <td>40</td>\n",
       "      <td>2.655738</td>\n",
       "    </tr>\n",
       "    <tr>\n",
       "      <th>Aristocrat_male</th>\n",
       "      <td>0.400000</td>\n",
       "      <td>15</td>\n",
       "      <td>1.111111</td>\n",
       "    </tr>\n",
       "    <tr>\n",
       "      <th>Rev</th>\n",
       "      <td>0.000000</td>\n",
       "      <td>6</td>\n",
       "      <td>2.000000</td>\n",
       "    </tr>\n",
       "    <tr>\n",
       "      <th>Aristocrat_female</th>\n",
       "      <td>1.000000</td>\n",
       "      <td>5</td>\n",
       "      <td>1.000000</td>\n",
       "    </tr>\n",
       "  </tbody>\n",
       "</table>\n",
       "</div>"
      ],
      "text/plain": [
       "                   Survived          Pclass\n",
       "                       mean count      mean\n",
       "Title                                      \n",
       "Mr                 0.156673   517  2.381770\n",
       "Miss               0.697802   182  2.346154\n",
       "Mrs                0.793651   126  1.944724\n",
       "Master             0.575000    40  2.655738\n",
       "Aristocrat_male    0.400000    15  1.111111\n",
       "Rev                0.000000     6  2.000000\n",
       "Aristocrat_female  1.000000     5  1.000000"
      ]
     },
     "execution_count": 35,
     "metadata": {},
     "output_type": "execute_result"
    }
   ],
   "source": [
    "train_test_data.groupby('Title').agg({'Survived': ['mean', 'count'], 'Pclass': 'mean' })\\\n",
    "    .sort_values(by= ('Survived', 'count'), ascending= False)"
   ]
  },
  {
   "cell_type": "markdown",
   "id": "4d3d72eb",
   "metadata": {
    "papermill": {
     "duration": 0.028283,
     "end_time": "2024-07-24T19:04:54.126764",
     "exception": false,
     "start_time": "2024-07-24T19:04:54.098481",
     "status": "completed"
    },
    "tags": []
   },
   "source": [
    "#### Fill in the age using the average age value in Title"
   ]
  },
  {
   "cell_type": "code",
   "execution_count": 36,
   "id": "6099945e",
   "metadata": {
    "execution": {
     "iopub.execute_input": "2024-07-24T19:04:54.186853Z",
     "iopub.status.busy": "2024-07-24T19:04:54.185919Z",
     "iopub.status.idle": "2024-07-24T19:04:54.201321Z",
     "shell.execute_reply": "2024-07-24T19:04:54.200072Z"
    },
    "papermill": {
     "duration": 0.048459,
     "end_time": "2024-07-24T19:04:54.203953",
     "exception": false,
     "start_time": "2024-07-24T19:04:54.155494",
     "status": "completed"
    },
    "tags": []
   },
   "outputs": [],
   "source": [
    "mean_age_by_title = train_test_data.groupby('Title')['Age'].mean().round(1)\n",
    "\n",
    "for title, mean_age in mean_age_by_title.items():\n",
    "    train_test_data.loc[(train_test_data['Age'].isnull()) & (train_test_data['Title'] == title), 'Age'] = mean_age"
   ]
  },
  {
   "cell_type": "markdown",
   "id": "c4fd18e0",
   "metadata": {
    "papermill": {
     "duration": 0.027878,
     "end_time": "2024-07-24T19:04:54.259915",
     "exception": false,
     "start_time": "2024-07-24T19:04:54.232037",
     "status": "completed"
    },
    "tags": []
   },
   "source": [
    "Fill in Embarked and Fare"
   ]
  },
  {
   "cell_type": "code",
   "execution_count": 37,
   "id": "7ff089b4",
   "metadata": {
    "execution": {
     "iopub.execute_input": "2024-07-24T19:04:54.318781Z",
     "iopub.status.busy": "2024-07-24T19:04:54.318361Z",
     "iopub.status.idle": "2024-07-24T19:04:54.325845Z",
     "shell.execute_reply": "2024-07-24T19:04:54.324542Z"
    },
    "papermill": {
     "duration": 0.040164,
     "end_time": "2024-07-24T19:04:54.328360",
     "exception": false,
     "start_time": "2024-07-24T19:04:54.288196",
     "status": "completed"
    },
    "tags": []
   },
   "outputs": [],
   "source": [
    "train_test_data.loc[train_test_data['Embarked'].isnull(), 'Embarked'] = train_test_data['Embarked'].mode().iloc[0]"
   ]
  },
  {
   "cell_type": "code",
   "execution_count": 38,
   "id": "e92ca426",
   "metadata": {
    "execution": {
     "iopub.execute_input": "2024-07-24T19:04:54.387491Z",
     "iopub.status.busy": "2024-07-24T19:04:54.386750Z",
     "iopub.status.idle": "2024-07-24T19:04:54.395837Z",
     "shell.execute_reply": "2024-07-24T19:04:54.394776Z"
    },
    "papermill": {
     "duration": 0.041189,
     "end_time": "2024-07-24T19:04:54.398291",
     "exception": false,
     "start_time": "2024-07-24T19:04:54.357102",
     "status": "completed"
    },
    "tags": []
   },
   "outputs": [
    {
     "data": {
      "text/plain": [
       "1043    3\n",
       "Name: Pclass, dtype: int64"
      ]
     },
     "execution_count": 38,
     "metadata": {},
     "output_type": "execute_result"
    }
   ],
   "source": [
    "train_test_data.loc[train_test_data['Fare'].isnull(), 'Pclass']"
   ]
  },
  {
   "cell_type": "code",
   "execution_count": 39,
   "id": "5cd73837",
   "metadata": {
    "execution": {
     "iopub.execute_input": "2024-07-24T19:04:54.457113Z",
     "iopub.status.busy": "2024-07-24T19:04:54.456697Z",
     "iopub.status.idle": "2024-07-24T19:04:54.465884Z",
     "shell.execute_reply": "2024-07-24T19:04:54.464768Z"
    },
    "papermill": {
     "duration": 0.04165,
     "end_time": "2024-07-24T19:04:54.468512",
     "exception": false,
     "start_time": "2024-07-24T19:04:54.426862",
     "status": "completed"
    },
    "tags": []
   },
   "outputs": [],
   "source": [
    "train_test_data.loc[(train_test_data['Fare'].isnull()), 'Fare'] = train_test_data[train_test_data['Pclass'] == 3]['Fare'].mean()"
   ]
  },
  {
   "cell_type": "code",
   "execution_count": 40,
   "id": "c1539a13",
   "metadata": {
    "execution": {
     "iopub.execute_input": "2024-07-24T19:04:54.526972Z",
     "iopub.status.busy": "2024-07-24T19:04:54.526560Z",
     "iopub.status.idle": "2024-07-24T19:04:54.538286Z",
     "shell.execute_reply": "2024-07-24T19:04:54.537135Z"
    },
    "papermill": {
     "duration": 0.04378,
     "end_time": "2024-07-24T19:04:54.540662",
     "exception": false,
     "start_time": "2024-07-24T19:04:54.496882",
     "status": "completed"
    },
    "tags": []
   },
   "outputs": [
    {
     "data": {
      "text/plain": [
       "PassengerId      0\n",
       "Survived       418\n",
       "Pclass           0\n",
       "Name             0\n",
       "Sex              0\n",
       "Age              0\n",
       "SibSp            0\n",
       "Parch            0\n",
       "Ticket           0\n",
       "Fare             0\n",
       "Cabin            0\n",
       "Embarked         0\n",
       "Is_cabin         0\n",
       "Family_size      0\n",
       "Is_alon          0\n",
       "Deck             0\n",
       "Title            0\n",
       "dtype: int64"
      ]
     },
     "execution_count": 40,
     "metadata": {},
     "output_type": "execute_result"
    }
   ],
   "source": [
    "train_test_data.isna().sum()"
   ]
  },
  {
   "cell_type": "markdown",
   "id": "1c0c6f0d",
   "metadata": {
    "papermill": {
     "duration": 0.028264,
     "end_time": "2024-07-24T19:04:54.599017",
     "exception": false,
     "start_time": "2024-07-24T19:04:54.570753",
     "status": "completed"
    },
    "tags": []
   },
   "source": [
    "Let's create features - Age and Fare intervals"
   ]
  },
  {
   "cell_type": "code",
   "execution_count": 41,
   "id": "8c2173ea",
   "metadata": {
    "execution": {
     "iopub.execute_input": "2024-07-24T19:04:54.658505Z",
     "iopub.status.busy": "2024-07-24T19:04:54.658075Z",
     "iopub.status.idle": "2024-07-24T19:04:54.671529Z",
     "shell.execute_reply": "2024-07-24T19:04:54.670373Z"
    },
    "papermill": {
     "duration": 0.04678,
     "end_time": "2024-07-24T19:04:54.674336",
     "exception": false,
     "start_time": "2024-07-24T19:04:54.627556",
     "status": "completed"
    },
    "tags": []
   },
   "outputs": [],
   "source": [
    "train_test_data['Age_categories'] = pd.cut(train_test_data['Age'], 20, precision=0)\n",
    "\n",
    "train_test_data['Fare_categories'] = pd.cut(train_test_data['Fare'], 10, precision=0)"
   ]
  },
  {
   "cell_type": "code",
   "execution_count": 42,
   "id": "e73cbd39",
   "metadata": {
    "execution": {
     "iopub.execute_input": "2024-07-24T19:04:54.733506Z",
     "iopub.status.busy": "2024-07-24T19:04:54.732518Z",
     "iopub.status.idle": "2024-07-24T19:04:54.745048Z",
     "shell.execute_reply": "2024-07-24T19:04:54.744031Z"
    },
    "papermill": {
     "duration": 0.044585,
     "end_time": "2024-07-24T19:04:54.747490",
     "exception": false,
     "start_time": "2024-07-24T19:04:54.702905",
     "status": "completed"
    },
    "tags": []
   },
   "outputs": [
    {
     "data": {
      "text/plain": [
       "(Age_categories\n",
       " (32.0, 36.0]    273\n",
       " (20.0, 24.0]    210\n",
       " (24.0, 28.0]    128\n",
       " (28.0, 32.0]    122\n",
       " (16.0, 20.0]    114\n",
       " (36.0, 40.0]     92\n",
       " (44.0, 48.0]     58\n",
       " (0.1, 4.0]       51\n",
       " (40.0, 44.0]     51\n",
       " (12.0, 16.0]     40\n",
       " (48.0, 52.0]     38\n",
       " (4.0, 8.0]       29\n",
       " (52.0, 56.0]     27\n",
       " (8.0, 12.0]      22\n",
       " (56.0, 60.0]     21\n",
       " (60.0, 64.0]     20\n",
       " (64.0, 68.0]      5\n",
       " (68.0, 72.0]      5\n",
       " (72.0, 76.0]      2\n",
       " (76.0, 80.0]      1\n",
       " Name: count, dtype: int64,\n",
       " Fare_categories\n",
       " (-1.0, 51.0]      1071\n",
       " (51.0, 102.0]      154\n",
       " (102.0, 154.0]      42\n",
       " (205.0, 256.0]      21\n",
       " (256.0, 307.0]      13\n",
       " (154.0, 205.0]       4\n",
       " (461.0, 512.0]       4\n",
       " (307.0, 359.0]       0\n",
       " (359.0, 410.0]       0\n",
       " (410.0, 461.0]       0\n",
       " Name: count, dtype: int64)"
      ]
     },
     "execution_count": 42,
     "metadata": {},
     "output_type": "execute_result"
    }
   ],
   "source": [
    "train_test_data['Age_categories'].value_counts(), train_test_data['Fare_categories'].value_counts()"
   ]
  },
  {
   "cell_type": "markdown",
   "id": "447cf0d1",
   "metadata": {
    "papermill": {
     "duration": 0.028696,
     "end_time": "2024-07-24T19:04:54.805241",
     "exception": false,
     "start_time": "2024-07-24T19:04:54.776545",
     "status": "completed"
    },
    "tags": []
   },
   "source": [
    "#### Let's create a sign (in my opinion important) Family. Since salvation took place in families.¶\n",
    "The family will contain the last name, number of family members and passenger class."
   ]
  },
  {
   "cell_type": "code",
   "execution_count": 43,
   "id": "826ecebb",
   "metadata": {
    "execution": {
     "iopub.execute_input": "2024-07-24T19:04:54.863977Z",
     "iopub.status.busy": "2024-07-24T19:04:54.863556Z",
     "iopub.status.idle": "2024-07-24T19:04:54.908322Z",
     "shell.execute_reply": "2024-07-24T19:04:54.907169Z"
    },
    "papermill": {
     "duration": 0.077324,
     "end_time": "2024-07-24T19:04:54.911097",
     "exception": false,
     "start_time": "2024-07-24T19:04:54.833773",
     "status": "completed"
    },
    "tags": []
   },
   "outputs": [],
   "source": [
    "def extract_surname(name):\n",
    "    return name.split(',')[0].strip()\n",
    "\n",
    "train_test_data['Surname'] = train_test_data['Name'].apply(extract_surname)\n",
    "\n",
    "\n",
    "def family(df):   \n",
    "    return df['Surname'] + '-' + str(df['Family_size']) + '-' + 'Pclass' + '-' + str(df['Pclass'])  \n",
    "\n",
    "train_test_data['Family'] = train_test_data.apply(family, axis=1)"
   ]
  },
  {
   "cell_type": "code",
   "execution_count": 44,
   "id": "4cd1764c",
   "metadata": {
    "execution": {
     "iopub.execute_input": "2024-07-24T19:04:54.970599Z",
     "iopub.status.busy": "2024-07-24T19:04:54.970164Z",
     "iopub.status.idle": "2024-07-24T19:04:54.978641Z",
     "shell.execute_reply": "2024-07-24T19:04:54.977460Z"
    },
    "papermill": {
     "duration": 0.040791,
     "end_time": "2024-07-24T19:04:54.980925",
     "exception": false,
     "start_time": "2024-07-24T19:04:54.940134",
     "status": "completed"
    },
    "tags": []
   },
   "outputs": [
    {
     "data": {
      "text/plain": [
       "0       Braund-2-Pclass-3\n",
       "1      Cumings-2-Pclass-1\n",
       "2    Heikkinen-1-Pclass-3\n",
       "3     Futrelle-2-Pclass-1\n",
       "4        Allen-1-Pclass-3\n",
       "Name: Family, dtype: object"
      ]
     },
     "execution_count": 44,
     "metadata": {},
     "output_type": "execute_result"
    }
   ],
   "source": [
    "train_test_data['Family'].head()"
   ]
  },
  {
   "cell_type": "markdown",
   "id": "8cfe91ce",
   "metadata": {
    "papermill": {
     "duration": 0.028411,
     "end_time": "2024-07-24T19:04:55.038239",
     "exception": false,
     "start_time": "2024-07-24T19:04:55.009828",
     "status": "completed"
    },
    "tags": []
   },
   "source": [
    "Using an exhaustive search method, we will find the features that give the highest score on validation and the highest score on test data (this code is commented out, it takes a long time to calculate).\n",
    "To do this, we will use a file with answers (this is available on the Internet)."
   ]
  },
  {
   "cell_type": "code",
   "execution_count": 45,
   "id": "65ac103f",
   "metadata": {
    "execution": {
     "iopub.execute_input": "2024-07-24T19:04:55.099097Z",
     "iopub.status.busy": "2024-07-24T19:04:55.097745Z",
     "iopub.status.idle": "2024-07-24T19:04:55.108471Z",
     "shell.execute_reply": "2024-07-24T19:04:55.107344Z"
    },
    "papermill": {
     "duration": 0.04388,
     "end_time": "2024-07-24T19:04:55.110956",
     "exception": false,
     "start_time": "2024-07-24T19:04:55.067076",
     "status": "completed"
    },
    "tags": []
   },
   "outputs": [],
   "source": [
    "features = {\n",
    "    \n",
    "'features_0' : ['Pclass', 'Sex', 'Family'], \n",
    "'features_1' : ['Pclass', 'Sex', 'Age', 'Fare'],   \n",
    "'features_2' : ['Pclass', 'Sex', 'Age', 'Fare', 'Family_size', 'Age_categories'],    \n",
    "'features_3' : ['Pclass', 'Sex', 'Age', 'SibSp', 'Fare', 'Deck', 'Age_categories'],    \n",
    "'features_4' : ['Pclass', 'Sex', 'Age', 'SibSp', 'Parch', 'Deck', 'Title', 'Age_categories'],     \n",
    "'features_5' : ['Pclass', 'Sex', 'Age', 'Fare', 'Cabin', 'Family_size', 'Deck', 'Title', 'Age_categories'],        \n",
    "'features_6' : ['Pclass', 'Sex', 'Title'],    \n",
    "'features_7' : ['Pclass', 'Sex', 'Cabin', 'Title'],    \n",
    "'features_8' : ['Pclass', 'Sex', 'Parch', 'Deck', 'Family'],    \n",
    "'features_9': ['Pclass', 'Sex', 'Embarked', 'Deck', 'Title', 'Family'],      \n",
    "'features_10': ['Pclass', 'Sex', 'Age', 'Parch', 'Embarked', 'Is_alon', 'Family'],     \n",
    "'All_features': ['Pclass', 'Sex', 'Age', 'SibSp', 'Parch', 'Fare', 'Cabin', 'Embarked', 'Is_cabin',\n",
    "       'Family_size', 'Is_alon', 'Deck', 'Title', 'Age_categories', 'Fare_categories', 'Family']   \n",
    "}"
   ]
  },
  {
   "cell_type": "code",
   "execution_count": 46,
   "id": "38f83082",
   "metadata": {
    "execution": {
     "iopub.execute_input": "2024-07-24T19:04:55.174564Z",
     "iopub.status.busy": "2024-07-24T19:04:55.173786Z",
     "iopub.status.idle": "2024-07-24T19:05:11.239842Z",
     "shell.execute_reply": "2024-07-24T19:05:11.238554Z"
    },
    "papermill": {
     "duration": 16.099463,
     "end_time": "2024-07-24T19:05:11.242498",
     "exception": false,
     "start_time": "2024-07-24T19:04:55.143035",
     "status": "completed"
    },
    "tags": []
   },
   "outputs": [
    {
     "name": "stdout",
     "output_type": "stream",
     "text": [
      "---------------------------------------------------------------------------------------\n",
      "features_0 ['Pclass', 'Sex', 'Family']\n",
      "validation score:0.825\n",
      "---------------------------------------------------------------------------------------\n",
      "features_1 ['Pclass', 'Sex', 'Age', 'Fare']\n",
      "validation score:0.858\n",
      "---------------------------------------------------------------------------------------\n",
      "features_2 ['Pclass', 'Sex', 'Age', 'Fare', 'Family_size', 'Age_categories']\n",
      "validation score:0.862\n",
      "---------------------------------------------------------------------------------------\n",
      "features_3 ['Pclass', 'Sex', 'Age', 'SibSp', 'Fare', 'Deck', 'Age_categories']\n",
      "validation score:0.869\n",
      "---------------------------------------------------------------------------------------\n",
      "features_4 ['Pclass', 'Sex', 'Age', 'SibSp', 'Parch', 'Deck', 'Title', 'Age_categories']\n",
      "validation score:0.873\n",
      "---------------------------------------------------------------------------------------\n",
      "features_5 ['Pclass', 'Sex', 'Age', 'Fare', 'Cabin', 'Family_size', 'Deck', 'Title', 'Age_categories']\n",
      "validation score:0.877\n",
      "---------------------------------------------------------------------------------------\n",
      "features_6 ['Pclass', 'Sex', 'Title']\n",
      "validation score:0.784\n",
      "---------------------------------------------------------------------------------------\n",
      "features_7 ['Pclass', 'Sex', 'Cabin', 'Title']\n",
      "validation score:0.787\n",
      "---------------------------------------------------------------------------------------\n",
      "features_8 ['Pclass', 'Sex', 'Parch', 'Deck', 'Family']\n",
      "validation score:0.813\n",
      "---------------------------------------------------------------------------------------\n",
      "features_9 ['Pclass', 'Sex', 'Embarked', 'Deck', 'Title', 'Family']\n",
      "validation score:0.821\n",
      "---------------------------------------------------------------------------------------\n",
      "features_10 ['Pclass', 'Sex', 'Age', 'Parch', 'Embarked', 'Is_alon', 'Family']\n",
      "validation score:0.828\n",
      "---------------------------------------------------------------------------------------\n",
      "All_features ['Pclass', 'Sex', 'Age', 'SibSp', 'Parch', 'Fare', 'Cabin', 'Embarked', 'Is_cabin', 'Family_size', 'Is_alon', 'Deck', 'Title', 'Age_categories', 'Fare_categories', 'Family']\n",
      "validation score:0.854\n"
     ]
    }
   ],
   "source": [
    "for key, value in features.items(): \n",
    "    \n",
    "    train_test_data_temp = train_test_data[['Survived'] + value]\n",
    "    train_test_data_temp = pd.get_dummies(train_test_data_temp)\n",
    "    \n",
    "    train_data = train_test_data_temp[train_test_data_temp['Survived'].notnull()] \n",
    "    test_data  = train_test_data_temp[train_test_data_temp['Survived'].isnull()] \n",
    "\n",
    "    y = train_data['Survived'] \n",
    "    \n",
    "    X = train_data.drop(columns = ['Survived'], axis = 1) \n",
    "    \n",
    "    X_train, X_val, y_train, y_val = train_test_split(X, y, test_size=0.3, random_state=0, stratify=y)\n",
    "\n",
    "    model = RandomForestClassifier(n_estimators=200, max_depth=20, random_state=1)\n",
    "\n",
    "    model.fit(X_train, y_train)\n",
    "\n",
    "    y_pred = model.predict(X_val)\n",
    "\n",
    "    X_test = test_data.drop(columns = ['Survived'], axis=1)\n",
    "\n",
    "    model.fit(X, y)\n",
    "\n",
    "    predictions = model.predict(X_test)\n",
    "\n",
    "    output = pd.DataFrame({'PassengerId': test_PassengerId, 'Survived': predictions})\n",
    "\n",
    "    output['Survived'] = output['Survived'].astype(int)\n",
    "\n",
    "    #differense = (output['Survived'] - output_correct['Survived']).abs().sum()\n",
    "\n",
    "    #accuracy = round((len(output) - differense) / len(output), 3)\n",
    "      \n",
    "    print(f'---------------------------------------------------------------------------------------\\n{key} {value}')\n",
    "    \n",
    "    print(f'validation score:{round(accuracy_score(y_val, y_pred), 3)}') #,  test score: {accuracy}') "
   ]
  },
  {
   "cell_type": "markdown",
   "id": "5dd7916a",
   "metadata": {
    "papermill": {
     "duration": 0.029529,
     "end_time": "2024-07-24T19:05:11.302358",
     "exception": false,
     "start_time": "2024-07-24T19:05:11.272829",
     "status": "completed"
    },
    "tags": []
   },
   "source": [
    "#### ---------------------------------------------------------------------------------------\n",
    "#### features_0 ['Pclass', 'Sex', 'Family']\n",
    "\n",
    "#### validation score: 0.825, test score: 0.782\n",
    "#### ---------------------------------------------------------------------------------------\n",
    "#### features_1 ['Pclass', 'Sex', 'Age', 'Fare']\n",
    "\n",
    "#### validation score: 0.858, test score: 0.746\n",
    "#### ---------------------------------------------------------------------------------------\n",
    "#### features_2 ['Pclass', 'Sex', 'Age', 'Fare', 'Family_size', 'Age_categories']\n",
    "\n",
    "#### validation score: 0.862, test score: 0.725\n",
    "#### ---------------------------------------------------------------------------------------\n",
    "#### features_3 ['Pclass', 'Sex', 'Age', 'SibSp', 'Fare', 'Deck', 'Age_categories']\n",
    "\n",
    "#### validation score: 0.869, test score: 0.744\n",
    "#### ---------------------------------------------------------------------------------------\n",
    "#### features_4 ['Pclass', 'Sex', 'Age', 'SibSp', 'Parch', 'Deck', 'Title', 'Age_categories']\n",
    "\n",
    "#### validation score: 0.873, test score: 0.742\n",
    "#### ---------------------------------------------------------------------------------------\n",
    "#### features_5 ['Pclass', 'Sex', 'Age', 'Fare', 'Cabin', 'Family_size', 'Deck', 'Title', 'Age_categories']\n",
    "\n",
    "#### validation score: 0.877, test score: 0.763\n",
    "#### ---------------------------------------------------------------------------------------\n",
    "#### features_6 ['Pclass', 'Sex', 'Title']\n",
    "\n",
    "#### validation score: 0.784, test score: 0.789\n",
    "#### ---------------------------------------------------------------------------------------\n",
    "#### features_7 ['Pclass', 'Sex', 'Cabin', 'Title']\n",
    "\n",
    "#### validation score: 0.787, test score: 0.794\n",
    "#### ---------------------------------------------------------------------------------------\n",
    "#### features_8 ['Pclass', 'Sex', 'Parch', 'Deck', 'Family']\n",
    "\n",
    "#### validation score: 0.813, test score: 0.799\n",
    "#### ---------------------------------------------------------------------------------------\n",
    "#### features_9 ['Pclass', 'Sex', 'Embarked', 'Deck', 'Title', 'Family']\n",
    "\n",
    "#### validation score: 0.821, test score: 0.801\n",
    "#### ---------------------------------------------------------------------------------------\n",
    "#### features_10 ['Pclass', 'Sex', 'Age', 'Parch', 'Embarked', 'Is_alon', 'Family']\n",
    "\n",
    "#### validation score: 0.828, test score: 0.809\n",
    "#### ---------------------------------------------------------------------------------------\n",
    "#### All features ['Pclass', 'Sex', 'Age', 'SibSp', 'Parch', 'Fare', 'Cabin', 'Embarked', 'Is_cabin', 'Family_size', 'Is_alon', 'Deck', 'Title', 'Age_categories', 'Fare_categories', 'Family']\n",
    "#### validation score: 0.854, test score: 0.773"
   ]
  },
  {
   "cell_type": "markdown",
   "id": "31200f35",
   "metadata": {
    "papermill": {
     "duration": 0.029544,
     "end_time": "2024-07-24T19:05:11.361971",
     "exception": false,
     "start_time": "2024-07-24T19:05:11.332427",
     "status": "completed"
    },
    "tags": []
   },
   "source": [
    "## Conclusion\n",
    "### - maximum score on train - 0.877\n",
    "### - best features on train: 'Pclass', 'Sex', 'Age', 'Fare', 'Cabin', 'Family_size', 'Deck', 'Title', 'Age_categories'\n",
    "### - maximum score on test - 0.809\n",
    "### - best features on test: 'Pclass', 'Sex', 'Age', 'Parch', 'Embarked', 'Is_alon', 'Family'\n",
    "### - signs that strongly influence survival work on both train and test\n",
    "### - traits that have little effect on survivability and derived traits work differently on train and test \n",
    "### - 'Title', 'Age_categories' work better on train, 'Is_alon', 'Family' on test"
   ]
  },
  {
   "cell_type": "code",
   "execution_count": 47,
   "id": "1314b812",
   "metadata": {
    "execution": {
     "iopub.execute_input": "2024-07-24T19:05:11.424421Z",
     "iopub.status.busy": "2024-07-24T19:05:11.423429Z",
     "iopub.status.idle": "2024-07-24T19:05:11.433447Z",
     "shell.execute_reply": "2024-07-24T19:05:11.432374Z"
    },
    "papermill": {
     "duration": 0.043753,
     "end_time": "2024-07-24T19:05:11.435804",
     "exception": false,
     "start_time": "2024-07-24T19:05:11.392051",
     "status": "completed"
    },
    "tags": []
   },
   "outputs": [
    {
     "data": {
      "text/plain": [
       "'\\nfrom itertools import combinations\\n\\nall_features = [\\'Age\\', \\'SibSp\\', \\'Parch\\', \\'Fare\\', \\'Cabin\\', \\'Embarked\\', \\'Is_cabin\\', \\'Family_size\\', \\'Is_alon\\', \\n                \\'Deck\\', \\'Title\\', \\'Age_categories\\', \\'Fare_categories\\', \\'Family\\']\\n\\n\\nselected_features = [\\'Survived\\', \\'Pclass\\', \\'Sex\\'] \\nbest_accuracy = 0.0 \\nbest_feature_subset = []\\n\\nfor k in range(1, len(all_features) + 1): \\n    for subset in combinations(all_features, k): \\n        features_to_try = selected_features + list(subset) \\n        # Далее идет ваш код для обучения модели и оценки качества\\n        \\n        train_test_data_temp = train_test_data[features_to_try]\\n        train_test_data_temp = pd.get_dummies(train_test_data_temp)\\n        train_data = train_test_data_temp[train_test_data_temp[\\'Survived\\'].notnull()] \\n        test_data  = train_test_data_temp[train_test_data_temp[\\'Survived\\'].isnull()] \\n\\n        y = train_data[\\'Survived\\'] \\n        X = train_data.drop(columns = [\\'Survived\\'], axis = 1) \\n    \\n        X_train, X_val, y_train, y_val = train_test_split(X, y, test_size=0.3, random_state=0, stratify=y)\\n\\n        model = RandomForestClassifier(n_estimators=200, max_depth=20, random_state=1)\\n\\n        model.fit(X_train, y_train)\\n\\n        y_pred = model.predict(X_val)\\n        \\n        accuracy = accuracy_score(y_val, y_pred)\\n        \\n        if accuracy > best_accuracy:\\n            best_accuracy = accuracy\\n            best_feature = subset\\n    \\n    if best_feature is not None:\\n        best_feature_subset.append(best_feature)\\n    else:\\n        break\\n        \\nprint(\"Selected features:\", best_feature_subset) \\nprint(\"Best accuracy:\", best_accuracy)\\n'"
      ]
     },
     "execution_count": 47,
     "metadata": {},
     "output_type": "execute_result"
    }
   ],
   "source": [
    "'''\n",
    "from itertools import combinations\n",
    "\n",
    "all_features = ['Age', 'SibSp', 'Parch', 'Fare', 'Cabin', 'Embarked', 'Is_cabin', 'Family_size', 'Is_alon', \n",
    "                'Deck', 'Title', 'Age_categories', 'Fare_categories', 'Family']\n",
    "\n",
    "\n",
    "selected_features = ['Survived', 'Pclass', 'Sex'] \n",
    "best_accuracy = 0.0 \n",
    "best_feature_subset = []\n",
    "\n",
    "for k in range(1, len(all_features) + 1): \n",
    "    for subset in combinations(all_features, k): \n",
    "        features_to_try = selected_features + list(subset) \n",
    "        # Далее идет ваш код для обучения модели и оценки качества\n",
    "        \n",
    "        train_test_data_temp = train_test_data[features_to_try]\n",
    "        train_test_data_temp = pd.get_dummies(train_test_data_temp)\n",
    "        train_data = train_test_data_temp[train_test_data_temp['Survived'].notnull()] \n",
    "        test_data  = train_test_data_temp[train_test_data_temp['Survived'].isnull()] \n",
    "\n",
    "        y = train_data['Survived'] \n",
    "        X = train_data.drop(columns = ['Survived'], axis = 1) \n",
    "    \n",
    "        X_train, X_val, y_train, y_val = train_test_split(X, y, test_size=0.3, random_state=0, stratify=y)\n",
    "\n",
    "        model = RandomForestClassifier(n_estimators=200, max_depth=20, random_state=1)\n",
    "\n",
    "        model.fit(X_train, y_train)\n",
    "\n",
    "        y_pred = model.predict(X_val)\n",
    "        \n",
    "        accuracy = accuracy_score(y_val, y_pred)\n",
    "        \n",
    "        if accuracy > best_accuracy:\n",
    "            best_accuracy = accuracy\n",
    "            best_feature = subset\n",
    "    \n",
    "    if best_feature is not None:\n",
    "        best_feature_subset.append(best_feature)\n",
    "    else:\n",
    "        break\n",
    "        \n",
    "print(\"Selected features:\", best_feature_subset) \n",
    "print(\"Best accuracy:\", best_accuracy)\n",
    "'''"
   ]
  },
  {
   "cell_type": "code",
   "execution_count": 48,
   "id": "40cd477e",
   "metadata": {
    "execution": {
     "iopub.execute_input": "2024-07-24T19:05:11.498664Z",
     "iopub.status.busy": "2024-07-24T19:05:11.498247Z",
     "iopub.status.idle": "2024-07-24T19:05:11.508682Z",
     "shell.execute_reply": "2024-07-24T19:05:11.507436Z"
    },
    "papermill": {
     "duration": 0.044591,
     "end_time": "2024-07-24T19:05:11.511333",
     "exception": false,
     "start_time": "2024-07-24T19:05:11.466742",
     "status": "completed"
    },
    "tags": []
   },
   "outputs": [
    {
     "data": {
      "text/plain": [
       "'\\nall_features = [\\'Age\\', \\'SibSp\\', \\'Parch\\', \\'Fare\\', \\'Cabin\\', \\'Embarked\\', \\'Is_cabin\\', \\'Family_size\\', \\'Is_alon\\', \\n                \\'Deck\\', \\'Title\\', \\'Age_categories\\', \\'Fare_categories\\', \\'Family\\']\\n\\nselected_features = [\\'Survived\\', \\'Pclass\\', \\'Sex\\'] \\nbest_accuracy = 0.0 \\nbest_feature_subset = []\\n\\nfor k in range(1, len(all_features) + 1): \\n    for subset in combinations(all_features, k): \\n        features_to_try = selected_features + list(subset) \\n        # Далее идет ваш код для обучения модели и оценки качества\\n        \\n        train_test_data_temp = train_test_data[features_to_try]\\n        train_test_data_temp = pd.get_dummies(train_test_data_temp)\\n        train_data = train_test_data_temp[train_test_data_temp[\\'Survived\\'].notnull()] \\n        test_data  = train_test_data_temp[train_test_data_temp[\\'Survived\\'].isnull()] \\n\\n        y = train_data[\\'Survived\\'] \\n        X = train_data.drop(columns = [\\'Survived\\'], axis = 1) \\n    \\n        model = RandomForestClassifier(n_estimators=200, max_depth=20, random_state=1)\\n              \\n        X_test = test_data.drop(columns = [\\'Survived\\'], axis=1)\\n\\n        model.fit(X, y)\\n\\n        predictions = model.predict(X_test)\\n\\n        output = pd.DataFrame({\\'PassengerId\\': test_PassengerId, \\'Survived\\': predictions})\\n\\n        output[\\'Survived\\'] = output[\\'Survived\\'].astype(int)\\n\\n        differense = (output[\\'Survived\\'] - output_correct[\\'Survived\\']).abs().sum()\\n\\n        accuracy = round((len(output) - differense) / len(output), 4)\\n                       \\n        if accuracy > best_accuracy:\\n            best_accuracy = accuracy\\n            best_feature = subset\\n    \\n    if best_feature is not None:\\n        best_feature_subset.append(best_feature)\\n    else:\\n        break\\n        \\nprint(\"Selected features:\", best_feature_subset) \\nprint(\"Best accuracy:\", best_accuracy)\\n'"
      ]
     },
     "execution_count": 48,
     "metadata": {},
     "output_type": "execute_result"
    }
   ],
   "source": [
    "'''\n",
    "all_features = ['Age', 'SibSp', 'Parch', 'Fare', 'Cabin', 'Embarked', 'Is_cabin', 'Family_size', 'Is_alon', \n",
    "                'Deck', 'Title', 'Age_categories', 'Fare_categories', 'Family']\n",
    "\n",
    "selected_features = ['Survived', 'Pclass', 'Sex'] \n",
    "best_accuracy = 0.0 \n",
    "best_feature_subset = []\n",
    "\n",
    "for k in range(1, len(all_features) + 1): \n",
    "    for subset in combinations(all_features, k): \n",
    "        features_to_try = selected_features + list(subset) \n",
    "        # Далее идет ваш код для обучения модели и оценки качества\n",
    "        \n",
    "        train_test_data_temp = train_test_data[features_to_try]\n",
    "        train_test_data_temp = pd.get_dummies(train_test_data_temp)\n",
    "        train_data = train_test_data_temp[train_test_data_temp['Survived'].notnull()] \n",
    "        test_data  = train_test_data_temp[train_test_data_temp['Survived'].isnull()] \n",
    "\n",
    "        y = train_data['Survived'] \n",
    "        X = train_data.drop(columns = ['Survived'], axis = 1) \n",
    "    \n",
    "        model = RandomForestClassifier(n_estimators=200, max_depth=20, random_state=1)\n",
    "              \n",
    "        X_test = test_data.drop(columns = ['Survived'], axis=1)\n",
    "\n",
    "        model.fit(X, y)\n",
    "\n",
    "        predictions = model.predict(X_test)\n",
    "\n",
    "        output = pd.DataFrame({'PassengerId': test_PassengerId, 'Survived': predictions})\n",
    "\n",
    "        output['Survived'] = output['Survived'].astype(int)\n",
    "\n",
    "        differense = (output['Survived'] - output_correct['Survived']).abs().sum()\n",
    "\n",
    "        accuracy = round((len(output) - differense) / len(output), 4)\n",
    "                       \n",
    "        if accuracy > best_accuracy:\n",
    "            best_accuracy = accuracy\n",
    "            best_feature = subset\n",
    "    \n",
    "    if best_feature is not None:\n",
    "        best_feature_subset.append(best_feature)\n",
    "    else:\n",
    "        break\n",
    "        \n",
    "print(\"Selected features:\", best_feature_subset) \n",
    "print(\"Best accuracy:\", best_accuracy)\n",
    "'''"
   ]
  }
 ],
 "metadata": {
  "kaggle": {
   "accelerator": "none",
   "dataSources": [
    {
     "databundleVersionId": 26502,
     "sourceId": 3136,
     "sourceType": "competition"
    }
   ],
   "dockerImageVersionId": 30746,
   "isGpuEnabled": false,
   "isInternetEnabled": true,
   "language": "python",
   "sourceType": "notebook"
  },
  "kernelspec": {
   "display_name": "Python 3",
   "language": "python",
   "name": "python3"
  },
  "language_info": {
   "codemirror_mode": {
    "name": "ipython",
    "version": 3
   },
   "file_extension": ".py",
   "mimetype": "text/x-python",
   "name": "python",
   "nbconvert_exporter": "python",
   "pygments_lexer": "ipython3",
   "version": "3.10.13"
  },
  "papermill": {
   "default_parameters": {},
   "duration": 30.779919,
   "end_time": "2024-07-24T19:05:12.264646",
   "environment_variables": {},
   "exception": null,
   "input_path": "__notebook__.ipynb",
   "output_path": "__notebook__.ipynb",
   "parameters": {},
   "start_time": "2024-07-24T19:04:41.484727",
   "version": "2.5.0"
  }
 },
 "nbformat": 4,
 "nbformat_minor": 5
}
