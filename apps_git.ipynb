{
 "cells": [
  {
   "cell_type": "markdown",
   "id": "269496b0",
   "metadata": {},
   "source": [
    "# Анализ поведения пользователей в мобильном приложении"
   ]
  },
  {
   "cell_type": "markdown",
   "id": "a2a4a886",
   "metadata": {},
   "source": [
    "## Краткое описание проекта\n",
    "Существует приложение как платформа по продаже/обмену вещей. В этом приложении пользователи совершают какие-то действия прежде чем совершить целевое действие. Целевым действием считается `просмотр контактов` - `contacts_show`, после которого пользователь с определённой вероятностью совершит звонок."
   ]
  },
  {
   "cell_type": "markdown",
   "id": "32d7e566",
   "metadata": {},
   "source": [
    "## Цели исследования: \n",
    "\n",
    "**Получить на основе поведения пользователей гипотезы о том, как можно было бы улучшить приложение с точки зрения пользовательского опыта.**"
   ]
  },
  {
   "cell_type": "markdown",
   "id": "53f91cf5",
   "metadata": {},
   "source": [
    "## Задачи и этапы исследования: \n",
    "\n",
    "\n",
    "**1. Проанализировать связь целевого события — просмотра контактов — и других действий пользователей.**\n",
    "\n",
    "- В разрезе сесий отбрать сценарии/патерны, которые приводят к просмотру контактов.\n",
    "- Построить воронки по основным сценариям в разрезе уникальных пользователей.\n",
    "\n",
    "**2. Оценить, какие действия чаще совершают те пользователи, которые просматривают контакты.**\n",
    "- Рассчитать относительную частоту событий в разрезе двух групп пользователей:\n",
    "\n",
    "     - группа пользователей, которые смотрели контакты\n",
    "     - группа пользователей, которые не смотрели контакты "
   ]
  },
  {
   "cell_type": "markdown",
   "id": "8baf4471",
   "metadata": {},
   "source": [
    "## 1. Предобработка данных"
   ]
  },
  {
   "cell_type": "markdown",
   "id": "2d8bca2c",
   "metadata": {},
   "source": [
    "### 1.1. Загрузка данных"
   ]
  },
  {
   "cell_type": "markdown",
   "id": "9dbf2d41",
   "metadata": {},
   "source": [
    "### 1.2. Приведение названий столбцов к принятому стилю"
   ]
  },
  {
   "cell_type": "markdown",
   "id": "fb5d5c6b",
   "metadata": {},
   "source": [
    "### 1.3. Изменение типов данных"
   ]
  },
  {
   "cell_type": "markdown",
   "id": "ed547685",
   "metadata": {},
   "source": [
    "### 1.4. Проверка пропущенных данных"
   ]
  },
  {
   "cell_type": "markdown",
   "id": "8197c476",
   "metadata": {},
   "source": [
    "### 1.5. Проверка наличия дубликатов"
   ]
  },
  {
   "cell_type": "markdown",
   "id": "1d77ba45",
   "metadata": {},
   "source": [
    "### 1.6. Объединение данных"
   ]
  },
  {
   "cell_type": "markdown",
   "id": "66bedb57",
   "metadata": {},
   "source": [
    "## 2. Исследовательский анализ данных"
   ]
  },
  {
   "cell_type": "markdown",
   "id": "36882049",
   "metadata": {},
   "source": [
    "### 2.1. Нахождение сценариев поведения пользователей, которые приводят к просмотру контактов\n",
    "\n",
    "### 2.2. Построение воронок по основным сценариям в разрезе уникальных пользователей\n",
    "\n",
    "### 2.3. Построение диаграммы Санкея\n",
    "\n",
    "### 2.4. Расчет относительной частоты событий в разрезе двух групп пользователей:\n",
    "\n",
    "     - группа пользователей, которые смотрели контакты\n",
    "     - группа пользователей, которые не смотрели контакты     \n",
    "### 2.5. Проверка гипотез\n",
    "1. Одни пользователи совершают действия `tips_show` и `tips_click`, другие - только `tips_show`. Гипотеза: конверсия в просмотры контактов различается у этих групп.\n",
    "2. Одни пользователи совершают действия `search`, другие `tips_show`. Гипотеза: конверсия в просмотры контактов различается у этих групп.     "
   ]
  },
  {
   "cell_type": "markdown",
   "id": "6ee15790",
   "metadata": {},
   "source": [
    "## 3. Выводы и рекомендации"
   ]
  },
  {
   "cell_type": "markdown",
   "id": "014ead4d",
   "metadata": {},
   "source": [
    "### Описание данных"
   ]
  },
  {
   "cell_type": "markdown",
   "id": "096edbbc",
   "metadata": {},
   "source": [
    "Таблица **users**:\n",
    "- `user_id` — идентификатор пользователя,\n",
    "- `source` — источник, с которого пользователь установил приложение."
   ]
  },
  {
   "cell_type": "markdown",
   "id": "fd155671",
   "metadata": {},
   "source": [
    "Таблица **events**:\n",
    "- `event.time` — время совершения,\n",
    "- `user.id` — идентификатор пользователя,\n",
    "- `event.name` — действие пользователя.\n",
    "\n",
    "Виды действий пользователей в столбце `event.name`:\n",
    "- `advert_open` — открыл карточки объявления,\n",
    "- `photos_show` — просмотрел фотографий в объявлении,\n",
    "- `tips_show` — увидел рекомендованные объявления,\n",
    "- `tips_click` — кликнул по рекомендованному объявлению,\n",
    "- `contacts_show` и `show_contacts` — посмотрел номер телефона,\n",
    "- `contacts_call` — позвонил по номеру из объявления,\n",
    "- `map` — открыл карту объявлений,\n",
    "- `search_1` — `search_7` — разные действия, связанные с поиском по сайту,\n",
    "- `favorites_add` — добавил объявление в избранное."
   ]
  },
  {
   "cell_type": "markdown",
   "id": "21e4df25",
   "metadata": {},
   "source": [
    "## 1. Предобработка данных"
   ]
  },
  {
   "cell_type": "markdown",
   "id": "0e515f2d",
   "metadata": {},
   "source": [
    "### 1.1. Загрузка данных"
   ]
  },
  {
   "cell_type": "code",
   "execution_count": 1,
   "id": "b276acff",
   "metadata": {},
   "outputs": [],
   "source": [
    "# импортируем библиотеки\n",
    "import pandas as pd\n",
    "import matplotlib.pyplot as plt\n",
    "import numpy as np\n",
    "import seaborn as sns"
   ]
  },
  {
   "cell_type": "code",
   "execution_count": 2,
   "id": "88c6c546",
   "metadata": {},
   "outputs": [
    {
     "data": {
      "text/html": [
       "<div>\n",
       "<style scoped>\n",
       "    .dataframe tbody tr th:only-of-type {\n",
       "        vertical-align: middle;\n",
       "    }\n",
       "\n",
       "    .dataframe tbody tr th {\n",
       "        vertical-align: top;\n",
       "    }\n",
       "\n",
       "    .dataframe thead th {\n",
       "        text-align: right;\n",
       "    }\n",
       "</style>\n",
       "<table border=\"1\" class=\"dataframe\">\n",
       "  <thead>\n",
       "    <tr style=\"text-align: right;\">\n",
       "      <th></th>\n",
       "      <th>userId</th>\n",
       "      <th>source</th>\n",
       "    </tr>\n",
       "  </thead>\n",
       "  <tbody>\n",
       "    <tr>\n",
       "      <th>0</th>\n",
       "      <td>020292ab-89bc-4156-9acf-68bc2783f894</td>\n",
       "      <td>other</td>\n",
       "    </tr>\n",
       "    <tr>\n",
       "      <th>1</th>\n",
       "      <td>cf7eda61-9349-469f-ac27-e5b6f5ec475c</td>\n",
       "      <td>yandex</td>\n",
       "    </tr>\n",
       "    <tr>\n",
       "      <th>2</th>\n",
       "      <td>8c356c42-3ba9-4cb6-80b8-3f868d0192c3</td>\n",
       "      <td>yandex</td>\n",
       "    </tr>\n",
       "    <tr>\n",
       "      <th>3</th>\n",
       "      <td>d9b06b47-0f36-419b-bbb0-3533e582a6cb</td>\n",
       "      <td>other</td>\n",
       "    </tr>\n",
       "    <tr>\n",
       "      <th>4</th>\n",
       "      <td>f32e1e2a-3027-4693-b793-b7b3ff274439</td>\n",
       "      <td>google</td>\n",
       "    </tr>\n",
       "  </tbody>\n",
       "</table>\n",
       "</div>"
      ],
      "text/plain": [
       "                                 userId  source\n",
       "0  020292ab-89bc-4156-9acf-68bc2783f894   other\n",
       "1  cf7eda61-9349-469f-ac27-e5b6f5ec475c  yandex\n",
       "2  8c356c42-3ba9-4cb6-80b8-3f868d0192c3  yandex\n",
       "3  d9b06b47-0f36-419b-bbb0-3533e582a6cb   other\n",
       "4  f32e1e2a-3027-4693-b793-b7b3ff274439  google"
      ]
     },
     "execution_count": 2,
     "metadata": {},
     "output_type": "execute_result"
    }
   ],
   "source": [
    "# загрузим данные\n",
    "users = pd.read_csv('https://...')\n",
    "users.head()"
   ]
  },
  {
   "cell_type": "code",
   "execution_count": 3,
   "id": "8822b72a",
   "metadata": {
    "scrolled": true
   },
   "outputs": [
    {
     "data": {
      "text/html": [
       "<div>\n",
       "<style scoped>\n",
       "    .dataframe tbody tr th:only-of-type {\n",
       "        vertical-align: middle;\n",
       "    }\n",
       "\n",
       "    .dataframe tbody tr th {\n",
       "        vertical-align: top;\n",
       "    }\n",
       "\n",
       "    .dataframe thead th {\n",
       "        text-align: right;\n",
       "    }\n",
       "</style>\n",
       "<table border=\"1\" class=\"dataframe\">\n",
       "  <thead>\n",
       "    <tr style=\"text-align: right;\">\n",
       "      <th></th>\n",
       "      <th>event.time</th>\n",
       "      <th>event.name</th>\n",
       "      <th>user.id</th>\n",
       "    </tr>\n",
       "  </thead>\n",
       "  <tbody>\n",
       "    <tr>\n",
       "      <th>0</th>\n",
       "      <td>2019-10-07 00:00:00.431357</td>\n",
       "      <td>advert_open</td>\n",
       "      <td>020292ab-89bc-4156-9acf-68bc2783f894</td>\n",
       "    </tr>\n",
       "    <tr>\n",
       "      <th>1</th>\n",
       "      <td>2019-10-07 00:00:01.236320</td>\n",
       "      <td>tips_show</td>\n",
       "      <td>020292ab-89bc-4156-9acf-68bc2783f894</td>\n",
       "    </tr>\n",
       "    <tr>\n",
       "      <th>2</th>\n",
       "      <td>2019-10-07 00:00:02.245341</td>\n",
       "      <td>tips_show</td>\n",
       "      <td>cf7eda61-9349-469f-ac27-e5b6f5ec475c</td>\n",
       "    </tr>\n",
       "    <tr>\n",
       "      <th>3</th>\n",
       "      <td>2019-10-07 00:00:07.039334</td>\n",
       "      <td>tips_show</td>\n",
       "      <td>020292ab-89bc-4156-9acf-68bc2783f894</td>\n",
       "    </tr>\n",
       "    <tr>\n",
       "      <th>4</th>\n",
       "      <td>2019-10-07 00:00:56.319813</td>\n",
       "      <td>advert_open</td>\n",
       "      <td>cf7eda61-9349-469f-ac27-e5b6f5ec475c</td>\n",
       "    </tr>\n",
       "  </tbody>\n",
       "</table>\n",
       "</div>"
      ],
      "text/plain": [
       "                   event.time   event.name  \\\n",
       "0  2019-10-07 00:00:00.431357  advert_open   \n",
       "1  2019-10-07 00:00:01.236320    tips_show   \n",
       "2  2019-10-07 00:00:02.245341    tips_show   \n",
       "3  2019-10-07 00:00:07.039334    tips_show   \n",
       "4  2019-10-07 00:00:56.319813  advert_open   \n",
       "\n",
       "                                user.id  \n",
       "0  020292ab-89bc-4156-9acf-68bc2783f894  \n",
       "1  020292ab-89bc-4156-9acf-68bc2783f894  \n",
       "2  cf7eda61-9349-469f-ac27-e5b6f5ec475c  \n",
       "3  020292ab-89bc-4156-9acf-68bc2783f894  \n",
       "4  cf7eda61-9349-469f-ac27-e5b6f5ec475c  "
      ]
     },
     "execution_count": 3,
     "metadata": {},
     "output_type": "execute_result"
    }
   ],
   "source": [
    "# загрузим данные\n",
    "events = pd.read_csv('https://...')\n",
    "events.head()"
   ]
  },
  {
   "cell_type": "markdown",
   "id": "c1b316d2",
   "metadata": {},
   "source": [
    "### 1.2. Приведение названий столбцов к принятому стилю"
   ]
  },
  {
   "cell_type": "code",
   "execution_count": 4,
   "id": "a34b3710",
   "metadata": {},
   "outputs": [],
   "source": [
    "# приведём названия столбца к принятому стилю\n",
    "users = users.rename(columns={'userId': 'user_id'})"
   ]
  },
  {
   "cell_type": "code",
   "execution_count": 5,
   "id": "faef81a3",
   "metadata": {},
   "outputs": [],
   "source": [
    "# приведём названия столбцов к принятому стилю\n",
    "events = events.rename(columns={'event.time': 'event_time', \n",
    "                                'event.name': 'event_name', \n",
    "                                'user.id': 'user_id'})"
   ]
  },
  {
   "cell_type": "code",
   "execution_count": 6,
   "id": "80d55e0f",
   "metadata": {},
   "outputs": [
    {
     "name": "stdout",
     "output_type": "stream",
     "text": [
      "<class 'pandas.core.frame.DataFrame'>\n",
      "RangeIndex: 4293 entries, 0 to 4292\n",
      "Data columns (total 2 columns):\n",
      " #   Column   Non-Null Count  Dtype \n",
      "---  ------   --------------  ----- \n",
      " 0   user_id  4293 non-null   object\n",
      " 1   source   4293 non-null   object\n",
      "dtypes: object(2)\n",
      "memory usage: 67.2+ KB\n"
     ]
    }
   ],
   "source": [
    "# получим общую информацию о данных\n",
    "users.info()"
   ]
  },
  {
   "cell_type": "code",
   "execution_count": 7,
   "id": "34abe571",
   "metadata": {},
   "outputs": [
    {
     "name": "stdout",
     "output_type": "stream",
     "text": [
      "<class 'pandas.core.frame.DataFrame'>\n",
      "RangeIndex: 74197 entries, 0 to 74196\n",
      "Data columns (total 3 columns):\n",
      " #   Column      Non-Null Count  Dtype \n",
      "---  ------      --------------  ----- \n",
      " 0   event_time  74197 non-null  object\n",
      " 1   event_name  74197 non-null  object\n",
      " 2   user_id     74197 non-null  object\n",
      "dtypes: object(3)\n",
      "memory usage: 1.7+ MB\n"
     ]
    }
   ],
   "source": [
    "# получим общую информацию о данных\n",
    "events.info()"
   ]
  },
  {
   "cell_type": "markdown",
   "id": "fc56d9b7",
   "metadata": {},
   "source": [
    "### 1.3. Изменение типов данных"
   ]
  },
  {
   "cell_type": "code",
   "execution_count": 8,
   "id": "e82838d5",
   "metadata": {},
   "outputs": [
    {
     "data": {
      "text/plain": [
       "dtype('<M8[ns]')"
      ]
     },
     "execution_count": 8,
     "metadata": {},
     "output_type": "execute_result"
    }
   ],
   "source": [
    "# преобразование столбца \"event_time\" в тип данных datetime\n",
    "events['event_time'] = pd.to_datetime(events['event_time'])\n",
    "events['event_time'].dtypes"
   ]
  },
  {
   "cell_type": "markdown",
   "id": "1f32fd68",
   "metadata": {},
   "source": [
    "### 1.4. Проверка пропущенных данных"
   ]
  },
  {
   "cell_type": "markdown",
   "id": "64ddb66f",
   "metadata": {},
   "source": [
    "Общая информация о данных говорит о том, что пропущенных данных в таблицах нет."
   ]
  },
  {
   "cell_type": "markdown",
   "id": "69b2be8d",
   "metadata": {},
   "source": [
    "### 1.5. Проверка наличия дубликатов"
   ]
  },
  {
   "cell_type": "code",
   "execution_count": 9,
   "id": "c41456a6",
   "metadata": {},
   "outputs": [
    {
     "data": {
      "text/plain": [
       "0"
      ]
     },
     "execution_count": 9,
     "metadata": {},
     "output_type": "execute_result"
    }
   ],
   "source": [
    "# проверим наличие явных дубликатов\n",
    "users.duplicated().sum()"
   ]
  },
  {
   "cell_type": "code",
   "execution_count": 10,
   "id": "74ef88f4",
   "metadata": {},
   "outputs": [
    {
     "data": {
      "text/plain": [
       "0"
      ]
     },
     "execution_count": 10,
     "metadata": {},
     "output_type": "execute_result"
    }
   ],
   "source": [
    "# проверим наличие явных дубликатов\n",
    "events.duplicated().sum()"
   ]
  },
  {
   "cell_type": "markdown",
   "id": "e24d60da",
   "metadata": {},
   "source": [
    "Явных дубликатов в данных нет."
   ]
  },
  {
   "cell_type": "markdown",
   "id": "b70d7b4d",
   "metadata": {},
   "source": [
    "### 1.6. Объединение  данных"
   ]
  },
  {
   "cell_type": "code",
   "execution_count": 11,
   "id": "3019ff78",
   "metadata": {},
   "outputs": [
    {
     "data": {
      "text/plain": [
       "source\n",
       "yandex    1934\n",
       "other     1230\n",
       "google    1129\n",
       "Name: count, dtype: int64"
      ]
     },
     "execution_count": 11,
     "metadata": {},
     "output_type": "execute_result"
    }
   ],
   "source": [
    "# посмотрим на распределение данных в столбце sours таблицы users\n",
    "users['source'].value_counts()"
   ]
  },
  {
   "cell_type": "code",
   "execution_count": 12,
   "id": "f3c06b2b",
   "metadata": {
    "scrolled": true
   },
   "outputs": [
    {
     "data": {
      "text/plain": [
       "event_name\n",
       "tips_show        40055\n",
       "photos_show      10012\n",
       "advert_open       6164\n",
       "contacts_show     4450\n",
       "map               3881\n",
       "search_1          3506\n",
       "favorites_add     1417\n",
       "search_5          1049\n",
       "tips_click         814\n",
       "search_4           701\n",
       "contacts_call      541\n",
       "search_3           522\n",
       "search_6           460\n",
       "search_2           324\n",
       "search_7           222\n",
       "show_contacts       79\n",
       "Name: count, dtype: int64"
      ]
     },
     "execution_count": 12,
     "metadata": {},
     "output_type": "execute_result"
    }
   ],
   "source": [
    "# посмотрим на распределение данных в столбце event_name таблицы events\n",
    "events['event_name'].value_counts()"
   ]
  },
  {
   "cell_type": "markdown",
   "id": "4ce3827c",
   "metadata": {},
   "source": [
    "Среди действий пользователя есть 'show_contacts' и 'contacts_show', объединим эти данные, так как это одно и тоже действие пользователя. \n",
    "\n",
    "Также объединим данные с различным видом поиска \"search_1\" — \"search_7\" в категорию \"search\"."
   ]
  },
  {
   "cell_type": "code",
   "execution_count": 13,
   "id": "d2b81f09",
   "metadata": {},
   "outputs": [],
   "source": [
    "# объединим данные 'show_contacts' и 'contacts_show', так как это одно и тоже действие пользователя\n",
    "events.loc[events['event_name'] == 'show_contacts', 'event_name'] = 'contacts_show'"
   ]
  },
  {
   "cell_type": "code",
   "execution_count": 14,
   "id": "dd67963c",
   "metadata": {},
   "outputs": [],
   "source": [
    "# объединим данные с различным видом поиска \"search_1\" — \"search_7\" в категорию \"search\".\n",
    "events['event_name'] = events['event_name'].str.replace(r'search_\\d+', 'search', regex=True)"
   ]
  },
  {
   "cell_type": "code",
   "execution_count": 15,
   "id": "71037b61",
   "metadata": {},
   "outputs": [
    {
     "data": {
      "text/plain": [
       "event_name\n",
       "tips_show        40055\n",
       "photos_show      10012\n",
       "search            6784\n",
       "advert_open       6164\n",
       "contacts_show     4529\n",
       "map               3881\n",
       "favorites_add     1417\n",
       "tips_click         814\n",
       "contacts_call      541\n",
       "Name: count, dtype: int64"
      ]
     },
     "execution_count": 15,
     "metadata": {},
     "output_type": "execute_result"
    }
   ],
   "source": [
    "# проверим объединение\n",
    "events['event_name'].value_counts()"
   ]
  },
  {
   "cell_type": "code",
   "execution_count": 16,
   "id": "d587f425",
   "metadata": {},
   "outputs": [
    {
     "data": {
      "text/plain": [
       "Timestamp('2019-10-07 00:00:00.431357')"
      ]
     },
     "execution_count": 16,
     "metadata": {},
     "output_type": "execute_result"
    }
   ],
   "source": [
    "# посмотрим на временной отрезок, который охватывают данные\n",
    "events['event_time'].min()"
   ]
  },
  {
   "cell_type": "code",
   "execution_count": 17,
   "id": "0ea9a6bb",
   "metadata": {},
   "outputs": [
    {
     "data": {
      "text/plain": [
       "Timestamp('2019-11-03 23:58:12.532487')"
      ]
     },
     "execution_count": 17,
     "metadata": {},
     "output_type": "execute_result"
    }
   ],
   "source": [
    "events['event_time'].max()"
   ]
  },
  {
   "cell_type": "markdown",
   "id": "26d00d6a",
   "metadata": {},
   "source": [
    "### 1.7. Выводы по предобработке данных\n",
    "В результате предобработки данных было выполнено следующее.\n",
    "1. Названия столбцов были приведены к принятому \"питоновскому\" стилю.\n",
    "2. Тип данных в столбце `event_time` был изменен на тип `дата`.\n",
    "3. Общая информация о данных показала отсутсвие пропущеных данных.\n",
    "4. Проведена проверка на дубликаты.\n",
    "5. Объединены данные, которые назваются по разному, но означают одно и тоже действие пользователя `show_contacts` и `contacts_show`. Объединены даные по семи видам поиска в одно действие пользователя - поиск."
   ]
  },
  {
   "cell_type": "markdown",
   "id": "4ca4076e",
   "metadata": {},
   "source": [
    "## 2. Исследовательский анализ данных"
   ]
  },
  {
   "cell_type": "markdown",
   "id": "63392135",
   "metadata": {},
   "source": [
    "### 2.1.  Нахождение сценариев поведения пользователей, которые приводят к просмотру контактов"
   ]
  },
  {
   "cell_type": "markdown",
   "id": "e3e5e97e",
   "metadata": {},
   "source": [
    "Для выделения сценариев, которые приводят к просмотру контактов, отсортируем данные по `user_id` и `event_time`"
   ]
  },
  {
   "cell_type": "code",
   "execution_count": 18,
   "id": "510ca65c",
   "metadata": {
    "scrolled": false
   },
   "outputs": [
    {
     "data": {
      "text/html": [
       "<div>\n",
       "<style scoped>\n",
       "    .dataframe tbody tr th:only-of-type {\n",
       "        vertical-align: middle;\n",
       "    }\n",
       "\n",
       "    .dataframe tbody tr th {\n",
       "        vertical-align: top;\n",
       "    }\n",
       "\n",
       "    .dataframe thead th {\n",
       "        text-align: right;\n",
       "    }\n",
       "</style>\n",
       "<table border=\"1\" class=\"dataframe\">\n",
       "  <thead>\n",
       "    <tr style=\"text-align: right;\">\n",
       "      <th></th>\n",
       "      <th>event_time</th>\n",
       "      <th>event_name</th>\n",
       "      <th>user_id</th>\n",
       "    </tr>\n",
       "  </thead>\n",
       "  <tbody>\n",
       "    <tr>\n",
       "      <th>805</th>\n",
       "      <td>2019-10-07 13:39:45.989359</td>\n",
       "      <td>tips_show</td>\n",
       "      <td>0001b1d5-b74a-4cbf-aeb0-7df5947bf349</td>\n",
       "    </tr>\n",
       "    <tr>\n",
       "      <th>806</th>\n",
       "      <td>2019-10-07 13:40:31.052909</td>\n",
       "      <td>tips_show</td>\n",
       "      <td>0001b1d5-b74a-4cbf-aeb0-7df5947bf349</td>\n",
       "    </tr>\n",
       "    <tr>\n",
       "      <th>809</th>\n",
       "      <td>2019-10-07 13:41:05.722489</td>\n",
       "      <td>tips_show</td>\n",
       "      <td>0001b1d5-b74a-4cbf-aeb0-7df5947bf349</td>\n",
       "    </tr>\n",
       "    <tr>\n",
       "      <th>820</th>\n",
       "      <td>2019-10-07 13:43:20.735461</td>\n",
       "      <td>tips_show</td>\n",
       "      <td>0001b1d5-b74a-4cbf-aeb0-7df5947bf349</td>\n",
       "    </tr>\n",
       "    <tr>\n",
       "      <th>830</th>\n",
       "      <td>2019-10-07 13:45:30.917502</td>\n",
       "      <td>tips_show</td>\n",
       "      <td>0001b1d5-b74a-4cbf-aeb0-7df5947bf349</td>\n",
       "    </tr>\n",
       "    <tr>\n",
       "      <th>...</th>\n",
       "      <td>...</td>\n",
       "      <td>...</td>\n",
       "      <td>...</td>\n",
       "    </tr>\n",
       "    <tr>\n",
       "      <th>72584</th>\n",
       "      <td>2019-11-03 15:51:23.959572</td>\n",
       "      <td>tips_show</td>\n",
       "      <td>fffb9e79-b927-4dbb-9b48-7fd09b23a62b</td>\n",
       "    </tr>\n",
       "    <tr>\n",
       "      <th>72589</th>\n",
       "      <td>2019-11-03 15:51:57.899997</td>\n",
       "      <td>contacts_show</td>\n",
       "      <td>fffb9e79-b927-4dbb-9b48-7fd09b23a62b</td>\n",
       "    </tr>\n",
       "    <tr>\n",
       "      <th>72684</th>\n",
       "      <td>2019-11-03 16:07:40.932077</td>\n",
       "      <td>tips_show</td>\n",
       "      <td>fffb9e79-b927-4dbb-9b48-7fd09b23a62b</td>\n",
       "    </tr>\n",
       "    <tr>\n",
       "      <th>72688</th>\n",
       "      <td>2019-11-03 16:08:18.202734</td>\n",
       "      <td>tips_show</td>\n",
       "      <td>fffb9e79-b927-4dbb-9b48-7fd09b23a62b</td>\n",
       "    </tr>\n",
       "    <tr>\n",
       "      <th>72689</th>\n",
       "      <td>2019-11-03 16:08:25.388712</td>\n",
       "      <td>tips_show</td>\n",
       "      <td>fffb9e79-b927-4dbb-9b48-7fd09b23a62b</td>\n",
       "    </tr>\n",
       "  </tbody>\n",
       "</table>\n",
       "<p>74197 rows × 3 columns</p>\n",
       "</div>"
      ],
      "text/plain": [
       "                      event_time     event_name  \\\n",
       "805   2019-10-07 13:39:45.989359      tips_show   \n",
       "806   2019-10-07 13:40:31.052909      tips_show   \n",
       "809   2019-10-07 13:41:05.722489      tips_show   \n",
       "820   2019-10-07 13:43:20.735461      tips_show   \n",
       "830   2019-10-07 13:45:30.917502      tips_show   \n",
       "...                          ...            ...   \n",
       "72584 2019-11-03 15:51:23.959572      tips_show   \n",
       "72589 2019-11-03 15:51:57.899997  contacts_show   \n",
       "72684 2019-11-03 16:07:40.932077      tips_show   \n",
       "72688 2019-11-03 16:08:18.202734      tips_show   \n",
       "72689 2019-11-03 16:08:25.388712      tips_show   \n",
       "\n",
       "                                    user_id  \n",
       "805    0001b1d5-b74a-4cbf-aeb0-7df5947bf349  \n",
       "806    0001b1d5-b74a-4cbf-aeb0-7df5947bf349  \n",
       "809    0001b1d5-b74a-4cbf-aeb0-7df5947bf349  \n",
       "820    0001b1d5-b74a-4cbf-aeb0-7df5947bf349  \n",
       "830    0001b1d5-b74a-4cbf-aeb0-7df5947bf349  \n",
       "...                                     ...  \n",
       "72584  fffb9e79-b927-4dbb-9b48-7fd09b23a62b  \n",
       "72589  fffb9e79-b927-4dbb-9b48-7fd09b23a62b  \n",
       "72684  fffb9e79-b927-4dbb-9b48-7fd09b23a62b  \n",
       "72688  fffb9e79-b927-4dbb-9b48-7fd09b23a62b  \n",
       "72689  fffb9e79-b927-4dbb-9b48-7fd09b23a62b  \n",
       "\n",
       "[74197 rows x 3 columns]"
      ]
     },
     "execution_count": 18,
     "metadata": {},
     "output_type": "execute_result"
    }
   ],
   "source": [
    "# отсортируем данные по 'user_id' и 'event_time'\n",
    "events = events.sort_values(['user_id', 'event_time'])\n",
    "events"
   ]
  },
  {
   "cell_type": "markdown",
   "id": "1be34886",
   "metadata": {},
   "source": [
    "Для обоснованного разделения данных на сессии посмотрим на распределение интервалов между действиями пользователя"
   ]
  },
  {
   "cell_type": "code",
   "execution_count": 19,
   "id": "56588850",
   "metadata": {
    "scrolled": true
   },
   "outputs": [],
   "source": [
    "# создадим копию данных\n",
    "events_time_diff = events.copy()"
   ]
  },
  {
   "cell_type": "code",
   "execution_count": 20,
   "id": "d167c06f",
   "metadata": {
    "scrolled": false
   },
   "outputs": [],
   "source": [
    "# найдём интервалы между действиями пользователя  \n",
    "events_time_diff['time_diff'] = events_time_diff.groupby('user_id')['event_time'].diff()"
   ]
  },
  {
   "cell_type": "code",
   "execution_count": 21,
   "id": "b7965eb8",
   "metadata": {},
   "outputs": [
    {
     "data": {
      "text/html": [
       "<div>\n",
       "<style scoped>\n",
       "    .dataframe tbody tr th:only-of-type {\n",
       "        vertical-align: middle;\n",
       "    }\n",
       "\n",
       "    .dataframe tbody tr th {\n",
       "        vertical-align: top;\n",
       "    }\n",
       "\n",
       "    .dataframe thead th {\n",
       "        text-align: right;\n",
       "    }\n",
       "</style>\n",
       "<table border=\"1\" class=\"dataframe\">\n",
       "  <thead>\n",
       "    <tr style=\"text-align: right;\">\n",
       "      <th></th>\n",
       "      <th>event_time</th>\n",
       "      <th>event_name</th>\n",
       "      <th>user_id</th>\n",
       "      <th>time_diff</th>\n",
       "      <th>time_diff_minutes</th>\n",
       "    </tr>\n",
       "  </thead>\n",
       "  <tbody>\n",
       "    <tr>\n",
       "      <th>805</th>\n",
       "      <td>2019-10-07 13:39:45.989359</td>\n",
       "      <td>tips_show</td>\n",
       "      <td>0001b1d5-b74a-4cbf-aeb0-7df5947bf349</td>\n",
       "      <td>NaT</td>\n",
       "      <td>NaN</td>\n",
       "    </tr>\n",
       "    <tr>\n",
       "      <th>806</th>\n",
       "      <td>2019-10-07 13:40:31.052909</td>\n",
       "      <td>tips_show</td>\n",
       "      <td>0001b1d5-b74a-4cbf-aeb0-7df5947bf349</td>\n",
       "      <td>0 days 00:00:45.063550</td>\n",
       "      <td>0.751059</td>\n",
       "    </tr>\n",
       "    <tr>\n",
       "      <th>809</th>\n",
       "      <td>2019-10-07 13:41:05.722489</td>\n",
       "      <td>tips_show</td>\n",
       "      <td>0001b1d5-b74a-4cbf-aeb0-7df5947bf349</td>\n",
       "      <td>0 days 00:00:34.669580</td>\n",
       "      <td>0.577826</td>\n",
       "    </tr>\n",
       "    <tr>\n",
       "      <th>820</th>\n",
       "      <td>2019-10-07 13:43:20.735461</td>\n",
       "      <td>tips_show</td>\n",
       "      <td>0001b1d5-b74a-4cbf-aeb0-7df5947bf349</td>\n",
       "      <td>0 days 00:02:15.012972</td>\n",
       "      <td>2.250216</td>\n",
       "    </tr>\n",
       "    <tr>\n",
       "      <th>830</th>\n",
       "      <td>2019-10-07 13:45:30.917502</td>\n",
       "      <td>tips_show</td>\n",
       "      <td>0001b1d5-b74a-4cbf-aeb0-7df5947bf349</td>\n",
       "      <td>0 days 00:02:10.182041</td>\n",
       "      <td>2.169701</td>\n",
       "    </tr>\n",
       "  </tbody>\n",
       "</table>\n",
       "</div>"
      ],
      "text/plain": [
       "                    event_time event_name  \\\n",
       "805 2019-10-07 13:39:45.989359  tips_show   \n",
       "806 2019-10-07 13:40:31.052909  tips_show   \n",
       "809 2019-10-07 13:41:05.722489  tips_show   \n",
       "820 2019-10-07 13:43:20.735461  tips_show   \n",
       "830 2019-10-07 13:45:30.917502  tips_show   \n",
       "\n",
       "                                  user_id              time_diff  \\\n",
       "805  0001b1d5-b74a-4cbf-aeb0-7df5947bf349                    NaT   \n",
       "806  0001b1d5-b74a-4cbf-aeb0-7df5947bf349 0 days 00:00:45.063550   \n",
       "809  0001b1d5-b74a-4cbf-aeb0-7df5947bf349 0 days 00:00:34.669580   \n",
       "820  0001b1d5-b74a-4cbf-aeb0-7df5947bf349 0 days 00:02:15.012972   \n",
       "830  0001b1d5-b74a-4cbf-aeb0-7df5947bf349 0 days 00:02:10.182041   \n",
       "\n",
       "     time_diff_minutes  \n",
       "805                NaN  \n",
       "806           0.751059  \n",
       "809           0.577826  \n",
       "820           2.250216  \n",
       "830           2.169701  "
      ]
     },
     "execution_count": 21,
     "metadata": {},
     "output_type": "execute_result"
    }
   ],
   "source": [
    "# преобразуем значения столбца time_diff в секунды\n",
    "events_time_diff['time_diff_seconds'] = events_time_diff['time_diff'].dt.total_seconds()\n",
    "\n",
    "# преобразуем значения в минуты\n",
    "events_time_diff['time_diff_minutes'] = events_time_diff['time_diff_seconds'] / 60\n",
    "\n",
    "# удаляем столбец time_diff_seconds\n",
    "events_time_diff = events_time_diff.drop('time_diff_seconds', axis=1)\n",
    "\n",
    "events_time_diff.head()"
   ]
  },
  {
   "cell_type": "code",
   "execution_count": 22,
   "id": "92811e42",
   "metadata": {},
   "outputs": [
    {
     "data": {
      "image/png": "[encoded data removed]",
      "text/plain": [
       "<Figure size 800x400 with 1 Axes>"
      ]
     },
     "metadata": {},
     "output_type": "display_data"
    }
   ],
   "source": [
    "# Посмотрим на гистграмму распределения интервалов\n",
    "fig, ax = plt.subplots(figsize=(8, 4))\n",
    "events_time_diff['time_diff_minutes'].hist(bins=100)\n",
    "ax.set(title = 'Распределение продолжительности интервалов между действиями пользователя', \n",
    "       xlabel = 'продолжительность интервала, минуты', ylabel = 'количество');"
   ]
  },
  {
   "cell_type": "code",
   "execution_count": 23,
   "id": "a9402865",
   "metadata": {},
   "outputs": [
    {
     "data": {
      "image/png": "[encoded data removed]",
      "text/plain": [
       "<Figure size 800x400 with 1 Axes>"
      ]
     },
     "metadata": {},
     "output_type": "display_data"
    }
   ],
   "source": [
    "# посмотрим на интервал до 30 минут\n",
    "fig, ax = plt.subplots(figsize=(8, 4))\n",
    "events_time_diff['time_diff_minutes'].hist(bins=50, range=(5, 30))\n",
    "ax.set(title = 'Распределение продолжительности интервалов между действиями пользователя', \n",
    "       xlabel = 'продолжительность интервала, минуты', ylabel = 'количество');"
   ]
  },
  {
   "cell_type": "code",
   "execution_count": 24,
   "id": "c347641b",
   "metadata": {
    "scrolled": false
   },
   "outputs": [
    {
     "data": {
      "text/plain": [
       "count    6.990400e+04\n",
       "mean     2.330195e+02\n",
       "std      1.532954e+03\n",
       "min      1.666667e-08\n",
       "25%      3.932374e-01\n",
       "50%      1.175589e+00\n",
       "75%      3.005008e+00\n",
       "max      3.826991e+04\n",
       "Name: time_diff_minutes, dtype: float64"
      ]
     },
     "execution_count": 24,
     "metadata": {},
     "output_type": "execute_result"
    }
   ],
   "source": [
    "# посмотрим на описательную статистику интервала\n",
    "events_time_diff['time_diff_minutes'].describe()"
   ]
  },
  {
   "cell_type": "markdown",
   "id": "8bf07902",
   "metadata": {},
   "source": [
    "Мы видим, что в 75% случаев интервал между действиями пользователя не превышает 3-х минут. Для практического расчета можно взять 90-й процентиль интервала. Этим мы отсечём тех, пользователей, которые совершают следующее действие через интервал от 17 минут и до нескольких дней. Действия пользователя с такими интервалами не стоит считать одной сессией."
   ]
  },
  {
   "cell_type": "code",
   "execution_count": 25,
   "id": "0475489c",
   "metadata": {},
   "outputs": [
    {
     "name": "stdout",
     "output_type": "stream",
     "text": [
      "90-й процентиль: 17.013457728333357 минут\n"
     ]
    }
   ],
   "source": [
    "# найдём 90-й процентиль\n",
    "percentile_90 = events_time_diff['time_diff_minutes'].quantile(0.90)\n",
    "print(f\"90-й процентиль: {percentile_90} минут\")"
   ]
  },
  {
   "cell_type": "markdown",
   "id": "9c41259c",
   "metadata": {},
   "source": [
    "Разделим действия пользователя на сессии, используя разделитель 17 минут бездействия пользователя. Таким образом мы получим сессии действий пользователя, в которых интервал между ближайшими событиями не превышает 17 минут. Если между событиями интервал превышает 17 минут, то эти события попадут в разные сессии."
   ]
  },
  {
   "cell_type": "code",
   "execution_count": 26,
   "id": "14ea2c48",
   "metadata": {
    "scrolled": false
   },
   "outputs": [
    {
     "data": {
      "text/html": [
       "<div>\n",
       "<style scoped>\n",
       "    .dataframe tbody tr th:only-of-type {\n",
       "        vertical-align: middle;\n",
       "    }\n",
       "\n",
       "    .dataframe tbody tr th {\n",
       "        vertical-align: top;\n",
       "    }\n",
       "\n",
       "    .dataframe thead th {\n",
       "        text-align: right;\n",
       "    }\n",
       "</style>\n",
       "<table border=\"1\" class=\"dataframe\">\n",
       "  <thead>\n",
       "    <tr style=\"text-align: right;\">\n",
       "      <th></th>\n",
       "      <th>event_time</th>\n",
       "      <th>event_name</th>\n",
       "      <th>user_id</th>\n",
       "      <th>session_id</th>\n",
       "    </tr>\n",
       "  </thead>\n",
       "  <tbody>\n",
       "    <tr>\n",
       "      <th>805</th>\n",
       "      <td>2019-10-07 13:39:45.989359</td>\n",
       "      <td>tips_show</td>\n",
       "      <td>0001b1d5-b74a-4cbf-aeb0-7df5947bf349</td>\n",
       "      <td>1</td>\n",
       "    </tr>\n",
       "    <tr>\n",
       "      <th>806</th>\n",
       "      <td>2019-10-07 13:40:31.052909</td>\n",
       "      <td>tips_show</td>\n",
       "      <td>0001b1d5-b74a-4cbf-aeb0-7df5947bf349</td>\n",
       "      <td>1</td>\n",
       "    </tr>\n",
       "    <tr>\n",
       "      <th>809</th>\n",
       "      <td>2019-10-07 13:41:05.722489</td>\n",
       "      <td>tips_show</td>\n",
       "      <td>0001b1d5-b74a-4cbf-aeb0-7df5947bf349</td>\n",
       "      <td>1</td>\n",
       "    </tr>\n",
       "    <tr>\n",
       "      <th>820</th>\n",
       "      <td>2019-10-07 13:43:20.735461</td>\n",
       "      <td>tips_show</td>\n",
       "      <td>0001b1d5-b74a-4cbf-aeb0-7df5947bf349</td>\n",
       "      <td>1</td>\n",
       "    </tr>\n",
       "    <tr>\n",
       "      <th>830</th>\n",
       "      <td>2019-10-07 13:45:30.917502</td>\n",
       "      <td>tips_show</td>\n",
       "      <td>0001b1d5-b74a-4cbf-aeb0-7df5947bf349</td>\n",
       "      <td>1</td>\n",
       "    </tr>\n",
       "    <tr>\n",
       "      <th>...</th>\n",
       "      <td>...</td>\n",
       "      <td>...</td>\n",
       "      <td>...</td>\n",
       "      <td>...</td>\n",
       "    </tr>\n",
       "    <tr>\n",
       "      <th>72584</th>\n",
       "      <td>2019-11-03 15:51:23.959572</td>\n",
       "      <td>tips_show</td>\n",
       "      <td>fffb9e79-b927-4dbb-9b48-7fd09b23a62b</td>\n",
       "      <td>11286</td>\n",
       "    </tr>\n",
       "    <tr>\n",
       "      <th>72589</th>\n",
       "      <td>2019-11-03 15:51:57.899997</td>\n",
       "      <td>contacts_show</td>\n",
       "      <td>fffb9e79-b927-4dbb-9b48-7fd09b23a62b</td>\n",
       "      <td>11286</td>\n",
       "    </tr>\n",
       "    <tr>\n",
       "      <th>72684</th>\n",
       "      <td>2019-11-03 16:07:40.932077</td>\n",
       "      <td>tips_show</td>\n",
       "      <td>fffb9e79-b927-4dbb-9b48-7fd09b23a62b</td>\n",
       "      <td>11286</td>\n",
       "    </tr>\n",
       "    <tr>\n",
       "      <th>72688</th>\n",
       "      <td>2019-11-03 16:08:18.202734</td>\n",
       "      <td>tips_show</td>\n",
       "      <td>fffb9e79-b927-4dbb-9b48-7fd09b23a62b</td>\n",
       "      <td>11286</td>\n",
       "    </tr>\n",
       "    <tr>\n",
       "      <th>72689</th>\n",
       "      <td>2019-11-03 16:08:25.388712</td>\n",
       "      <td>tips_show</td>\n",
       "      <td>fffb9e79-b927-4dbb-9b48-7fd09b23a62b</td>\n",
       "      <td>11286</td>\n",
       "    </tr>\n",
       "  </tbody>\n",
       "</table>\n",
       "<p>74197 rows × 4 columns</p>\n",
       "</div>"
      ],
      "text/plain": [
       "                      event_time     event_name  \\\n",
       "805   2019-10-07 13:39:45.989359      tips_show   \n",
       "806   2019-10-07 13:40:31.052909      tips_show   \n",
       "809   2019-10-07 13:41:05.722489      tips_show   \n",
       "820   2019-10-07 13:43:20.735461      tips_show   \n",
       "830   2019-10-07 13:45:30.917502      tips_show   \n",
       "...                          ...            ...   \n",
       "72584 2019-11-03 15:51:23.959572      tips_show   \n",
       "72589 2019-11-03 15:51:57.899997  contacts_show   \n",
       "72684 2019-11-03 16:07:40.932077      tips_show   \n",
       "72688 2019-11-03 16:08:18.202734      tips_show   \n",
       "72689 2019-11-03 16:08:25.388712      tips_show   \n",
       "\n",
       "                                    user_id  session_id  \n",
       "805    0001b1d5-b74a-4cbf-aeb0-7df5947bf349           1  \n",
       "806    0001b1d5-b74a-4cbf-aeb0-7df5947bf349           1  \n",
       "809    0001b1d5-b74a-4cbf-aeb0-7df5947bf349           1  \n",
       "820    0001b1d5-b74a-4cbf-aeb0-7df5947bf349           1  \n",
       "830    0001b1d5-b74a-4cbf-aeb0-7df5947bf349           1  \n",
       "...                                     ...         ...  \n",
       "72584  fffb9e79-b927-4dbb-9b48-7fd09b23a62b       11286  \n",
       "72589  fffb9e79-b927-4dbb-9b48-7fd09b23a62b       11286  \n",
       "72684  fffb9e79-b927-4dbb-9b48-7fd09b23a62b       11286  \n",
       "72688  fffb9e79-b927-4dbb-9b48-7fd09b23a62b       11286  \n",
       "72689  fffb9e79-b927-4dbb-9b48-7fd09b23a62b       11286  \n",
       "\n",
       "[74197 rows x 4 columns]"
      ]
     },
     "execution_count": 26,
     "metadata": {},
     "output_type": "execute_result"
    }
   ],
   "source": [
    "# разделим данные на сессии, используя разделитель 17 минут бездействия пользователя\n",
    "g = (events.groupby('user_id')['event_time'].diff() > pd.Timedelta('17Min')).cumsum()\n",
    "events['session_id'] = events.groupby(['user_id', g], sort=False).ngroup() + 1\n",
    "events"
   ]
  },
  {
   "cell_type": "code",
   "execution_count": 27,
   "id": "c8475c84",
   "metadata": {
    "scrolled": false
   },
   "outputs": [
    {
     "data": {
      "text/html": [
       "<div>\n",
       "<style scoped>\n",
       "    .dataframe tbody tr th:only-of-type {\n",
       "        vertical-align: middle;\n",
       "    }\n",
       "\n",
       "    .dataframe tbody tr th {\n",
       "        vertical-align: top;\n",
       "    }\n",
       "\n",
       "    .dataframe thead th {\n",
       "        text-align: right;\n",
       "    }\n",
       "</style>\n",
       "<table border=\"1\" class=\"dataframe\">\n",
       "  <thead>\n",
       "    <tr style=\"text-align: right;\">\n",
       "      <th></th>\n",
       "      <th>event_time</th>\n",
       "      <th>event_name</th>\n",
       "      <th>user_id</th>\n",
       "      <th>session_id</th>\n",
       "    </tr>\n",
       "  </thead>\n",
       "  <tbody>\n",
       "    <tr>\n",
       "      <th>805</th>\n",
       "      <td>2019-10-07 13:39:45.989359</td>\n",
       "      <td>tips_show</td>\n",
       "      <td>0001b1d5-b74a-4cbf-aeb0-7df5947bf349</td>\n",
       "      <td>1</td>\n",
       "    </tr>\n",
       "    <tr>\n",
       "      <th>6541</th>\n",
       "      <td>2019-10-09 18:33:55.577963</td>\n",
       "      <td>map</td>\n",
       "      <td>0001b1d5-b74a-4cbf-aeb0-7df5947bf349</td>\n",
       "      <td>2</td>\n",
       "    </tr>\n",
       "    <tr>\n",
       "      <th>6565</th>\n",
       "      <td>2019-10-09 18:40:28.738785</td>\n",
       "      <td>tips_show</td>\n",
       "      <td>0001b1d5-b74a-4cbf-aeb0-7df5947bf349</td>\n",
       "      <td>2</td>\n",
       "    </tr>\n",
       "    <tr>\n",
       "      <th>36412</th>\n",
       "      <td>2019-10-21 19:52:30.778932</td>\n",
       "      <td>tips_show</td>\n",
       "      <td>0001b1d5-b74a-4cbf-aeb0-7df5947bf349</td>\n",
       "      <td>3</td>\n",
       "    </tr>\n",
       "    <tr>\n",
       "      <th>36419</th>\n",
       "      <td>2019-10-21 19:53:38.767230</td>\n",
       "      <td>map</td>\n",
       "      <td>0001b1d5-b74a-4cbf-aeb0-7df5947bf349</td>\n",
       "      <td>3</td>\n",
       "    </tr>\n",
       "    <tr>\n",
       "      <th>...</th>\n",
       "      <td>...</td>\n",
       "      <td>...</td>\n",
       "      <td>...</td>\n",
       "      <td>...</td>\n",
       "    </tr>\n",
       "    <tr>\n",
       "      <th>70772</th>\n",
       "      <td>2019-11-02 19:26:07.834494</td>\n",
       "      <td>contacts_show</td>\n",
       "      <td>fffb9e79-b927-4dbb-9b48-7fd09b23a62b</td>\n",
       "      <td>11284</td>\n",
       "    </tr>\n",
       "    <tr>\n",
       "      <th>72321</th>\n",
       "      <td>2019-11-03 14:32:55.956301</td>\n",
       "      <td>tips_show</td>\n",
       "      <td>fffb9e79-b927-4dbb-9b48-7fd09b23a62b</td>\n",
       "      <td>11285</td>\n",
       "    </tr>\n",
       "    <tr>\n",
       "      <th>72325</th>\n",
       "      <td>2019-11-03 14:33:47.921863</td>\n",
       "      <td>contacts_show</td>\n",
       "      <td>fffb9e79-b927-4dbb-9b48-7fd09b23a62b</td>\n",
       "      <td>11285</td>\n",
       "    </tr>\n",
       "    <tr>\n",
       "      <th>72487</th>\n",
       "      <td>2019-11-03 15:36:01.007440</td>\n",
       "      <td>tips_show</td>\n",
       "      <td>fffb9e79-b927-4dbb-9b48-7fd09b23a62b</td>\n",
       "      <td>11286</td>\n",
       "    </tr>\n",
       "    <tr>\n",
       "      <th>72552</th>\n",
       "      <td>2019-11-03 15:48:05.420247</td>\n",
       "      <td>contacts_show</td>\n",
       "      <td>fffb9e79-b927-4dbb-9b48-7fd09b23a62b</td>\n",
       "      <td>11286</td>\n",
       "    </tr>\n",
       "  </tbody>\n",
       "</table>\n",
       "<p>18896 rows × 4 columns</p>\n",
       "</div>"
      ],
      "text/plain": [
       "                      event_time     event_name  \\\n",
       "805   2019-10-07 13:39:45.989359      tips_show   \n",
       "6541  2019-10-09 18:33:55.577963            map   \n",
       "6565  2019-10-09 18:40:28.738785      tips_show   \n",
       "36412 2019-10-21 19:52:30.778932      tips_show   \n",
       "36419 2019-10-21 19:53:38.767230            map   \n",
       "...                          ...            ...   \n",
       "70772 2019-11-02 19:26:07.834494  contacts_show   \n",
       "72321 2019-11-03 14:32:55.956301      tips_show   \n",
       "72325 2019-11-03 14:33:47.921863  contacts_show   \n",
       "72487 2019-11-03 15:36:01.007440      tips_show   \n",
       "72552 2019-11-03 15:48:05.420247  contacts_show   \n",
       "\n",
       "                                    user_id  session_id  \n",
       "805    0001b1d5-b74a-4cbf-aeb0-7df5947bf349           1  \n",
       "6541   0001b1d5-b74a-4cbf-aeb0-7df5947bf349           2  \n",
       "6565   0001b1d5-b74a-4cbf-aeb0-7df5947bf349           2  \n",
       "36412  0001b1d5-b74a-4cbf-aeb0-7df5947bf349           3  \n",
       "36419  0001b1d5-b74a-4cbf-aeb0-7df5947bf349           3  \n",
       "...                                     ...         ...  \n",
       "70772  fffb9e79-b927-4dbb-9b48-7fd09b23a62b       11284  \n",
       "72321  fffb9e79-b927-4dbb-9b48-7fd09b23a62b       11285  \n",
       "72325  fffb9e79-b927-4dbb-9b48-7fd09b23a62b       11285  \n",
       "72487  fffb9e79-b927-4dbb-9b48-7fd09b23a62b       11286  \n",
       "72552  fffb9e79-b927-4dbb-9b48-7fd09b23a62b       11286  \n",
       "\n",
       "[18896 rows x 4 columns]"
      ]
     },
     "execution_count": 27,
     "metadata": {},
     "output_type": "execute_result"
    }
   ],
   "source": [
    "# удалим повторяющиеся действия пользователей в рамках сессий\n",
    "events_unique = events.drop_duplicates(subset=['event_name', 'user_id', 'session_id'])\n",
    "events_unique"
   ]
  },
  {
   "cell_type": "code",
   "execution_count": 28,
   "id": "c9c9905c",
   "metadata": {},
   "outputs": [],
   "source": [
    "import warnings\n",
    "warnings.filterwarnings(\"ignore\")"
   ]
  },
  {
   "cell_type": "code",
   "execution_count": 29,
   "id": "56417982",
   "metadata": {
    "scrolled": false
   },
   "outputs": [
    {
     "data": {
      "text/html": [
       "<div>\n",
       "<style scoped>\n",
       "    .dataframe tbody tr th:only-of-type {\n",
       "        vertical-align: middle;\n",
       "    }\n",
       "\n",
       "    .dataframe tbody tr th {\n",
       "        vertical-align: top;\n",
       "    }\n",
       "\n",
       "    .dataframe thead th {\n",
       "        text-align: right;\n",
       "    }\n",
       "</style>\n",
       "<table border=\"1\" class=\"dataframe\">\n",
       "  <thead>\n",
       "    <tr style=\"text-align: right;\">\n",
       "      <th></th>\n",
       "      <th>event_time</th>\n",
       "      <th>event_name</th>\n",
       "      <th>user_id</th>\n",
       "      <th>session_id</th>\n",
       "      <th>step</th>\n",
       "    </tr>\n",
       "  </thead>\n",
       "  <tbody>\n",
       "    <tr>\n",
       "      <th>805</th>\n",
       "      <td>2019-10-07 13:39:45.989359</td>\n",
       "      <td>tips_show</td>\n",
       "      <td>0001b1d5-b74a-4cbf-aeb0-7df5947bf349</td>\n",
       "      <td>1</td>\n",
       "      <td>1</td>\n",
       "    </tr>\n",
       "    <tr>\n",
       "      <th>6541</th>\n",
       "      <td>2019-10-09 18:33:55.577963</td>\n",
       "      <td>map</td>\n",
       "      <td>0001b1d5-b74a-4cbf-aeb0-7df5947bf349</td>\n",
       "      <td>2</td>\n",
       "      <td>1</td>\n",
       "    </tr>\n",
       "    <tr>\n",
       "      <th>6565</th>\n",
       "      <td>2019-10-09 18:40:28.738785</td>\n",
       "      <td>tips_show</td>\n",
       "      <td>0001b1d5-b74a-4cbf-aeb0-7df5947bf349</td>\n",
       "      <td>2</td>\n",
       "      <td>2</td>\n",
       "    </tr>\n",
       "    <tr>\n",
       "      <th>36412</th>\n",
       "      <td>2019-10-21 19:52:30.778932</td>\n",
       "      <td>tips_show</td>\n",
       "      <td>0001b1d5-b74a-4cbf-aeb0-7df5947bf349</td>\n",
       "      <td>3</td>\n",
       "      <td>1</td>\n",
       "    </tr>\n",
       "    <tr>\n",
       "      <th>36419</th>\n",
       "      <td>2019-10-21 19:53:38.767230</td>\n",
       "      <td>map</td>\n",
       "      <td>0001b1d5-b74a-4cbf-aeb0-7df5947bf349</td>\n",
       "      <td>3</td>\n",
       "      <td>2</td>\n",
       "    </tr>\n",
       "    <tr>\n",
       "      <th>...</th>\n",
       "      <td>...</td>\n",
       "      <td>...</td>\n",
       "      <td>...</td>\n",
       "      <td>...</td>\n",
       "      <td>...</td>\n",
       "    </tr>\n",
       "    <tr>\n",
       "      <th>70772</th>\n",
       "      <td>2019-11-02 19:26:07.834494</td>\n",
       "      <td>contacts_show</td>\n",
       "      <td>fffb9e79-b927-4dbb-9b48-7fd09b23a62b</td>\n",
       "      <td>11284</td>\n",
       "      <td>2</td>\n",
       "    </tr>\n",
       "    <tr>\n",
       "      <th>72321</th>\n",
       "      <td>2019-11-03 14:32:55.956301</td>\n",
       "      <td>tips_show</td>\n",
       "      <td>fffb9e79-b927-4dbb-9b48-7fd09b23a62b</td>\n",
       "      <td>11285</td>\n",
       "      <td>1</td>\n",
       "    </tr>\n",
       "    <tr>\n",
       "      <th>72325</th>\n",
       "      <td>2019-11-03 14:33:47.921863</td>\n",
       "      <td>contacts_show</td>\n",
       "      <td>fffb9e79-b927-4dbb-9b48-7fd09b23a62b</td>\n",
       "      <td>11285</td>\n",
       "      <td>2</td>\n",
       "    </tr>\n",
       "    <tr>\n",
       "      <th>72487</th>\n",
       "      <td>2019-11-03 15:36:01.007440</td>\n",
       "      <td>tips_show</td>\n",
       "      <td>fffb9e79-b927-4dbb-9b48-7fd09b23a62b</td>\n",
       "      <td>11286</td>\n",
       "      <td>1</td>\n",
       "    </tr>\n",
       "    <tr>\n",
       "      <th>72552</th>\n",
       "      <td>2019-11-03 15:48:05.420247</td>\n",
       "      <td>contacts_show</td>\n",
       "      <td>fffb9e79-b927-4dbb-9b48-7fd09b23a62b</td>\n",
       "      <td>11286</td>\n",
       "      <td>2</td>\n",
       "    </tr>\n",
       "  </tbody>\n",
       "</table>\n",
       "<p>18896 rows × 5 columns</p>\n",
       "</div>"
      ],
      "text/plain": [
       "                      event_time     event_name  \\\n",
       "805   2019-10-07 13:39:45.989359      tips_show   \n",
       "6541  2019-10-09 18:33:55.577963            map   \n",
       "6565  2019-10-09 18:40:28.738785      tips_show   \n",
       "36412 2019-10-21 19:52:30.778932      tips_show   \n",
       "36419 2019-10-21 19:53:38.767230            map   \n",
       "...                          ...            ...   \n",
       "70772 2019-11-02 19:26:07.834494  contacts_show   \n",
       "72321 2019-11-03 14:32:55.956301      tips_show   \n",
       "72325 2019-11-03 14:33:47.921863  contacts_show   \n",
       "72487 2019-11-03 15:36:01.007440      tips_show   \n",
       "72552 2019-11-03 15:48:05.420247  contacts_show   \n",
       "\n",
       "                                    user_id  session_id  step  \n",
       "805    0001b1d5-b74a-4cbf-aeb0-7df5947bf349           1     1  \n",
       "6541   0001b1d5-b74a-4cbf-aeb0-7df5947bf349           2     1  \n",
       "6565   0001b1d5-b74a-4cbf-aeb0-7df5947bf349           2     2  \n",
       "36412  0001b1d5-b74a-4cbf-aeb0-7df5947bf349           3     1  \n",
       "36419  0001b1d5-b74a-4cbf-aeb0-7df5947bf349           3     2  \n",
       "...                                     ...         ...   ...  \n",
       "70772  fffb9e79-b927-4dbb-9b48-7fd09b23a62b       11284     2  \n",
       "72321  fffb9e79-b927-4dbb-9b48-7fd09b23a62b       11285     1  \n",
       "72325  fffb9e79-b927-4dbb-9b48-7fd09b23a62b       11285     2  \n",
       "72487  fffb9e79-b927-4dbb-9b48-7fd09b23a62b       11286     1  \n",
       "72552  fffb9e79-b927-4dbb-9b48-7fd09b23a62b       11286     2  \n",
       "\n",
       "[18896 rows x 5 columns]"
      ]
     },
     "execution_count": 29,
     "metadata": {},
     "output_type": "execute_result"
    }
   ],
   "source": [
    "# добавим шаги в рамках сессии\n",
    "events_unique.loc[:, 'step'] = events_unique.groupby('session_id').cumcount() + 1\n",
    "events_unique"
   ]
  },
  {
   "cell_type": "markdown",
   "id": "3a92cbd0",
   "metadata": {},
   "source": [
    "Нас интересуют только те сессии, в которых есть целевое действие."
   ]
  },
  {
   "cell_type": "code",
   "execution_count": 30,
   "id": "15175bce",
   "metadata": {},
   "outputs": [
    {
     "data": {
      "text/html": [
       "<div>\n",
       "<style scoped>\n",
       "    .dataframe tbody tr th:only-of-type {\n",
       "        vertical-align: middle;\n",
       "    }\n",
       "\n",
       "    .dataframe tbody tr th {\n",
       "        vertical-align: top;\n",
       "    }\n",
       "\n",
       "    .dataframe thead th {\n",
       "        text-align: right;\n",
       "    }\n",
       "</style>\n",
       "<table border=\"1\" class=\"dataframe\">\n",
       "  <thead>\n",
       "    <tr style=\"text-align: right;\">\n",
       "      <th></th>\n",
       "      <th>session_id</th>\n",
       "      <th>event_name</th>\n",
       "    </tr>\n",
       "  </thead>\n",
       "  <tbody>\n",
       "    <tr>\n",
       "      <th>33482</th>\n",
       "      <td>6</td>\n",
       "      <td>search</td>\n",
       "    </tr>\n",
       "    <tr>\n",
       "      <th>33498</th>\n",
       "      <td>6</td>\n",
       "      <td>photos_show</td>\n",
       "    </tr>\n",
       "    <tr>\n",
       "      <th>33510</th>\n",
       "      <td>6</td>\n",
       "      <td>favorites_add</td>\n",
       "    </tr>\n",
       "    <tr>\n",
       "      <th>33533</th>\n",
       "      <td>6</td>\n",
       "      <td>contacts_show</td>\n",
       "    </tr>\n",
       "    <tr>\n",
       "      <th>33534</th>\n",
       "      <td>6</td>\n",
       "      <td>contacts_call</td>\n",
       "    </tr>\n",
       "    <tr>\n",
       "      <th>...</th>\n",
       "      <td>...</td>\n",
       "      <td>...</td>\n",
       "    </tr>\n",
       "    <tr>\n",
       "      <th>70772</th>\n",
       "      <td>11284</td>\n",
       "      <td>contacts_show</td>\n",
       "    </tr>\n",
       "    <tr>\n",
       "      <th>72321</th>\n",
       "      <td>11285</td>\n",
       "      <td>tips_show</td>\n",
       "    </tr>\n",
       "    <tr>\n",
       "      <th>72325</th>\n",
       "      <td>11285</td>\n",
       "      <td>contacts_show</td>\n",
       "    </tr>\n",
       "    <tr>\n",
       "      <th>72487</th>\n",
       "      <td>11286</td>\n",
       "      <td>tips_show</td>\n",
       "    </tr>\n",
       "    <tr>\n",
       "      <th>72552</th>\n",
       "      <td>11286</td>\n",
       "      <td>contacts_show</td>\n",
       "    </tr>\n",
       "  </tbody>\n",
       "</table>\n",
       "<p>4396 rows × 2 columns</p>\n",
       "</div>"
      ],
      "text/plain": [
       "       session_id     event_name\n",
       "33482           6         search\n",
       "33498           6    photos_show\n",
       "33510           6  favorites_add\n",
       "33533           6  contacts_show\n",
       "33534           6  contacts_call\n",
       "...           ...            ...\n",
       "70772       11284  contacts_show\n",
       "72321       11285      tips_show\n",
       "72325       11285  contacts_show\n",
       "72487       11286      tips_show\n",
       "72552       11286  contacts_show\n",
       "\n",
       "[4396 rows x 2 columns]"
      ]
     },
     "execution_count": 30,
     "metadata": {},
     "output_type": "execute_result"
    }
   ],
   "source": [
    "# выделим те сессии, в которых есть целевое действие - просмотр контактов 'contacts_show'\n",
    "events_contacts_show = events_unique[events_unique['session_id'].isin(\n",
    "    events_unique[events_unique['event_name']=='contacts_show']['session_id'])]\n",
    "\n",
    "events_contacts_show = events_contacts_show[['session_id', 'event_name']]\n",
    "\n",
    "events_contacts_show"
   ]
  },
  {
   "cell_type": "code",
   "execution_count": 31,
   "id": "6ee21770",
   "metadata": {},
   "outputs": [],
   "source": [
    "# увеличим ширину столбцов\n",
    "pd.set_option('display.max_colwidth', None)"
   ]
  },
  {
   "cell_type": "code",
   "execution_count": 32,
   "id": "d2792bc4",
   "metadata": {
    "scrolled": false
   },
   "outputs": [
    {
     "data": {
      "text/html": [
       "<div>\n",
       "<style scoped>\n",
       "    .dataframe tbody tr th:only-of-type {\n",
       "        vertical-align: middle;\n",
       "    }\n",
       "\n",
       "    .dataframe tbody tr th {\n",
       "        vertical-align: top;\n",
       "    }\n",
       "\n",
       "    .dataframe thead th {\n",
       "        text-align: right;\n",
       "    }\n",
       "</style>\n",
       "<table border=\"1\" class=\"dataframe\">\n",
       "  <thead>\n",
       "    <tr style=\"text-align: right;\">\n",
       "      <th></th>\n",
       "      <th>session_id</th>\n",
       "      <th>event_name</th>\n",
       "    </tr>\n",
       "  </thead>\n",
       "  <tbody>\n",
       "    <tr>\n",
       "      <th>0</th>\n",
       "      <td>6</td>\n",
       "      <td>search, photos_show, favorites_add, contacts_show, contacts_call</td>\n",
       "    </tr>\n",
       "    <tr>\n",
       "      <th>1</th>\n",
       "      <td>7</td>\n",
       "      <td>photos_show, contacts_show</td>\n",
       "    </tr>\n",
       "    <tr>\n",
       "      <th>2</th>\n",
       "      <td>9</td>\n",
       "      <td>search, photos_show, contacts_show, contacts_call</td>\n",
       "    </tr>\n",
       "    <tr>\n",
       "      <th>3</th>\n",
       "      <td>10</td>\n",
       "      <td>contacts_show, contacts_call, photos_show, favorites_add, advert_open</td>\n",
       "    </tr>\n",
       "    <tr>\n",
       "      <th>4</th>\n",
       "      <td>11</td>\n",
       "      <td>search, photos_show, contacts_show</td>\n",
       "    </tr>\n",
       "    <tr>\n",
       "      <th>...</th>\n",
       "      <td>...</td>\n",
       "      <td>...</td>\n",
       "    </tr>\n",
       "    <tr>\n",
       "      <th>1820</th>\n",
       "      <td>11279</td>\n",
       "      <td>contacts_show, tips_show</td>\n",
       "    </tr>\n",
       "    <tr>\n",
       "      <th>1821</th>\n",
       "      <td>11283</td>\n",
       "      <td>tips_show, contacts_show</td>\n",
       "    </tr>\n",
       "    <tr>\n",
       "      <th>1822</th>\n",
       "      <td>11284</td>\n",
       "      <td>tips_show, contacts_show</td>\n",
       "    </tr>\n",
       "    <tr>\n",
       "      <th>1823</th>\n",
       "      <td>11285</td>\n",
       "      <td>tips_show, contacts_show</td>\n",
       "    </tr>\n",
       "    <tr>\n",
       "      <th>1824</th>\n",
       "      <td>11286</td>\n",
       "      <td>tips_show, contacts_show</td>\n",
       "    </tr>\n",
       "  </tbody>\n",
       "</table>\n",
       "<p>1825 rows × 2 columns</p>\n",
       "</div>"
      ],
      "text/plain": [
       "      session_id  \\\n",
       "0              6   \n",
       "1              7   \n",
       "2              9   \n",
       "3             10   \n",
       "4             11   \n",
       "...          ...   \n",
       "1820       11279   \n",
       "1821       11283   \n",
       "1822       11284   \n",
       "1823       11285   \n",
       "1824       11286   \n",
       "\n",
       "                                                                 event_name  \n",
       "0          search, photos_show, favorites_add, contacts_show, contacts_call  \n",
       "1                                                photos_show, contacts_show  \n",
       "2                         search, photos_show, contacts_show, contacts_call  \n",
       "3     contacts_show, contacts_call, photos_show, favorites_add, advert_open  \n",
       "4                                        search, photos_show, contacts_show  \n",
       "...                                                                     ...  \n",
       "1820                                               contacts_show, tips_show  \n",
       "1821                                               tips_show, contacts_show  \n",
       "1822                                               tips_show, contacts_show  \n",
       "1823                                               tips_show, contacts_show  \n",
       "1824                                               tips_show, contacts_show  \n",
       "\n",
       "[1825 rows x 2 columns]"
      ]
     },
     "execution_count": 32,
     "metadata": {},
     "output_type": "execute_result"
    }
   ],
   "source": [
    "# сгруппируем данные по сессиям и в столбец event_name добавим последовательно события в сессиях\n",
    "grouped_events = events_contacts_show.groupby('session_id')['event_name'].agg(\n",
    "    lambda x: ', '.join(x.unique())).reset_index()\n",
    "\n",
    "grouped_events"
   ]
  },
  {
   "cell_type": "markdown",
   "id": "4f0db3a4",
   "metadata": {},
   "source": [
    "Таким образом мы получили все сценарии действий пользователей, в которых есть целевое действие."
   ]
  },
  {
   "cell_type": "markdown",
   "id": "ae434e31",
   "metadata": {},
   "source": [
    "События в цепочке действий пользователя должны закончиться на целевом действии - `contacts_show`. Соответственно удалим все события после `contacts_show`."
   ]
  },
  {
   "cell_type": "code",
   "execution_count": 33,
   "id": "0bd86b99",
   "metadata": {},
   "outputs": [
    {
     "data": {
      "text/html": [
       "<div>\n",
       "<style scoped>\n",
       "    .dataframe tbody tr th:only-of-type {\n",
       "        vertical-align: middle;\n",
       "    }\n",
       "\n",
       "    .dataframe tbody tr th {\n",
       "        vertical-align: top;\n",
       "    }\n",
       "\n",
       "    .dataframe thead th {\n",
       "        text-align: right;\n",
       "    }\n",
       "</style>\n",
       "<table border=\"1\" class=\"dataframe\">\n",
       "  <thead>\n",
       "    <tr style=\"text-align: right;\">\n",
       "      <th></th>\n",
       "      <th>session_id</th>\n",
       "      <th>event_name</th>\n",
       "    </tr>\n",
       "  </thead>\n",
       "  <tbody>\n",
       "    <tr>\n",
       "      <th>0</th>\n",
       "      <td>6</td>\n",
       "      <td>[search, photos_show, favorites_add, contacts_show]</td>\n",
       "    </tr>\n",
       "    <tr>\n",
       "      <th>1</th>\n",
       "      <td>7</td>\n",
       "      <td>[photos_show, contacts_show]</td>\n",
       "    </tr>\n",
       "    <tr>\n",
       "      <th>2</th>\n",
       "      <td>9</td>\n",
       "      <td>[search, photos_show, contacts_show]</td>\n",
       "    </tr>\n",
       "    <tr>\n",
       "      <th>3</th>\n",
       "      <td>10</td>\n",
       "      <td>[contacts_show]</td>\n",
       "    </tr>\n",
       "    <tr>\n",
       "      <th>4</th>\n",
       "      <td>11</td>\n",
       "      <td>[search, photos_show, contacts_show]</td>\n",
       "    </tr>\n",
       "    <tr>\n",
       "      <th>...</th>\n",
       "      <td>...</td>\n",
       "      <td>...</td>\n",
       "    </tr>\n",
       "    <tr>\n",
       "      <th>1820</th>\n",
       "      <td>11279</td>\n",
       "      <td>[contacts_show]</td>\n",
       "    </tr>\n",
       "    <tr>\n",
       "      <th>1821</th>\n",
       "      <td>11283</td>\n",
       "      <td>[tips_show, contacts_show]</td>\n",
       "    </tr>\n",
       "    <tr>\n",
       "      <th>1822</th>\n",
       "      <td>11284</td>\n",
       "      <td>[tips_show, contacts_show]</td>\n",
       "    </tr>\n",
       "    <tr>\n",
       "      <th>1823</th>\n",
       "      <td>11285</td>\n",
       "      <td>[tips_show, contacts_show]</td>\n",
       "    </tr>\n",
       "    <tr>\n",
       "      <th>1824</th>\n",
       "      <td>11286</td>\n",
       "      <td>[tips_show, contacts_show]</td>\n",
       "    </tr>\n",
       "  </tbody>\n",
       "</table>\n",
       "<p>1825 rows × 2 columns</p>\n",
       "</div>"
      ],
      "text/plain": [
       "      session_id                                           event_name\n",
       "0              6  [search, photos_show, favorites_add, contacts_show]\n",
       "1              7                         [photos_show, contacts_show]\n",
       "2              9                 [search, photos_show, contacts_show]\n",
       "3             10                                      [contacts_show]\n",
       "4             11                 [search, photos_show, contacts_show]\n",
       "...          ...                                                  ...\n",
       "1820       11279                                      [contacts_show]\n",
       "1821       11283                           [tips_show, contacts_show]\n",
       "1822       11284                           [tips_show, contacts_show]\n",
       "1823       11285                           [tips_show, contacts_show]\n",
       "1824       11286                           [tips_show, contacts_show]\n",
       "\n",
       "[1825 rows x 2 columns]"
      ]
     },
     "execution_count": 33,
     "metadata": {},
     "output_type": "execute_result"
    }
   ],
   "source": [
    "# функция для удаления событий после contacts_show\n",
    "def remove_events(row):\n",
    "    event_name = []\n",
    "    events = row['event_name'].split(', ')    \n",
    "    for event in events:\n",
    "        if event != 'contacts_show':\n",
    "            event_name.append(event)\n",
    "        else: break    \n",
    "    event_name.append('contacts_show')    \n",
    "    return event_name\n",
    "\n",
    "# применение функции к каждой строке DataFrame\n",
    "grouped_events['event_name'] = grouped_events.apply(remove_events, axis=1)\n",
    "grouped_events"
   ]
  },
  {
   "cell_type": "code",
   "execution_count": 34,
   "id": "78162ec2",
   "metadata": {},
   "outputs": [
    {
     "data": {
      "text/html": [
       "<div>\n",
       "<style scoped>\n",
       "    .dataframe tbody tr th:only-of-type {\n",
       "        vertical-align: middle;\n",
       "    }\n",
       "\n",
       "    .dataframe tbody tr th {\n",
       "        vertical-align: top;\n",
       "    }\n",
       "\n",
       "    .dataframe thead th {\n",
       "        text-align: right;\n",
       "    }\n",
       "</style>\n",
       "<table border=\"1\" class=\"dataframe\">\n",
       "  <thead>\n",
       "    <tr style=\"text-align: right;\">\n",
       "      <th></th>\n",
       "      <th>event_name</th>\n",
       "      <th>count</th>\n",
       "    </tr>\n",
       "  </thead>\n",
       "  <tbody>\n",
       "    <tr>\n",
       "      <th>1</th>\n",
       "      <td>[tips_show, contacts_show]</td>\n",
       "      <td>449</td>\n",
       "    </tr>\n",
       "    <tr>\n",
       "      <th>2</th>\n",
       "      <td>[search, contacts_show]</td>\n",
       "      <td>147</td>\n",
       "    </tr>\n",
       "    <tr>\n",
       "      <th>3</th>\n",
       "      <td>[photos_show, contacts_show]</td>\n",
       "      <td>138</td>\n",
       "    </tr>\n",
       "    <tr>\n",
       "      <th>4</th>\n",
       "      <td>[map, tips_show, contacts_show]</td>\n",
       "      <td>97</td>\n",
       "    </tr>\n",
       "    <tr>\n",
       "      <th>5</th>\n",
       "      <td>[search, photos_show, contacts_show]</td>\n",
       "      <td>54</td>\n",
       "    </tr>\n",
       "    <tr>\n",
       "      <th>...</th>\n",
       "      <td>...</td>\n",
       "      <td>...</td>\n",
       "    </tr>\n",
       "    <tr>\n",
       "      <th>60</th>\n",
       "      <td>[photos_show, favorites_add, advert_open, contacts_show]</td>\n",
       "      <td>1</td>\n",
       "    </tr>\n",
       "    <tr>\n",
       "      <th>61</th>\n",
       "      <td>[tips_show, search, map, advert_open, contacts_show]</td>\n",
       "      <td>1</td>\n",
       "    </tr>\n",
       "    <tr>\n",
       "      <th>62</th>\n",
       "      <td>[advert_open, favorites_add, search, contacts_show]</td>\n",
       "      <td>1</td>\n",
       "    </tr>\n",
       "    <tr>\n",
       "      <th>63</th>\n",
       "      <td>[favorites_add, advert_open, contacts_show]</td>\n",
       "      <td>1</td>\n",
       "    </tr>\n",
       "    <tr>\n",
       "      <th>64</th>\n",
       "      <td>[favorites_add, search, contacts_show]</td>\n",
       "      <td>1</td>\n",
       "    </tr>\n",
       "  </tbody>\n",
       "</table>\n",
       "<p>64 rows × 2 columns</p>\n",
       "</div>"
      ],
      "text/plain": [
       "                                                  event_name  count\n",
       "1                                 [tips_show, contacts_show]    449\n",
       "2                                    [search, contacts_show]    147\n",
       "3                               [photos_show, contacts_show]    138\n",
       "4                            [map, tips_show, contacts_show]     97\n",
       "5                       [search, photos_show, contacts_show]     54\n",
       "..                                                       ...    ...\n",
       "60  [photos_show, favorites_add, advert_open, contacts_show]      1\n",
       "61      [tips_show, search, map, advert_open, contacts_show]      1\n",
       "62       [advert_open, favorites_add, search, contacts_show]      1\n",
       "63               [favorites_add, advert_open, contacts_show]      1\n",
       "64                    [favorites_add, search, contacts_show]      1\n",
       "\n",
       "[64 rows x 2 columns]"
      ]
     },
     "execution_count": 34,
     "metadata": {},
     "output_type": "execute_result"
    }
   ],
   "source": [
    "# получим типовые сценарии, которые приводят к просмотру контактов\n",
    "scenarios = grouped_events['event_name'].value_counts().reset_index()[1:] \n",
    "\n",
    "scenarios.columns = ['event_name', 'count']\n",
    "scenarios"
   ]
  },
  {
   "cell_type": "code",
   "execution_count": 35,
   "id": "ffdf7f83",
   "metadata": {},
   "outputs": [
    {
     "name": "stdout",
     "output_type": "stream",
     "text": [
      "Количество различных сценариев: 64\n",
      "Общее количество сценариев с учетом повторяющихся: 1187\n"
     ]
    },
    {
     "data": {
      "text/html": [
       "<div>\n",
       "<style scoped>\n",
       "    .dataframe tbody tr th:only-of-type {\n",
       "        vertical-align: middle;\n",
       "    }\n",
       "\n",
       "    .dataframe tbody tr th {\n",
       "        vertical-align: top;\n",
       "    }\n",
       "\n",
       "    .dataframe thead th {\n",
       "        text-align: right;\n",
       "    }\n",
       "</style>\n",
       "<table border=\"1\" class=\"dataframe\">\n",
       "  <thead>\n",
       "    <tr style=\"text-align: right;\">\n",
       "      <th></th>\n",
       "      <th>event_name</th>\n",
       "      <th>count</th>\n",
       "    </tr>\n",
       "  </thead>\n",
       "  <tbody>\n",
       "    <tr>\n",
       "      <th>1</th>\n",
       "      <td>[tips_show, contacts_show]</td>\n",
       "      <td>449</td>\n",
       "    </tr>\n",
       "    <tr>\n",
       "      <th>2</th>\n",
       "      <td>[search, contacts_show]</td>\n",
       "      <td>147</td>\n",
       "    </tr>\n",
       "    <tr>\n",
       "      <th>3</th>\n",
       "      <td>[photos_show, contacts_show]</td>\n",
       "      <td>138</td>\n",
       "    </tr>\n",
       "    <tr>\n",
       "      <th>4</th>\n",
       "      <td>[map, tips_show, contacts_show]</td>\n",
       "      <td>97</td>\n",
       "    </tr>\n",
       "    <tr>\n",
       "      <th>5</th>\n",
       "      <td>[search, photos_show, contacts_show]</td>\n",
       "      <td>54</td>\n",
       "    </tr>\n",
       "    <tr>\n",
       "      <th>6</th>\n",
       "      <td>[map, contacts_show]</td>\n",
       "      <td>38</td>\n",
       "    </tr>\n",
       "    <tr>\n",
       "      <th>7</th>\n",
       "      <td>[search, tips_show, contacts_show]</td>\n",
       "      <td>35</td>\n",
       "    </tr>\n",
       "    <tr>\n",
       "      <th>8</th>\n",
       "      <td>[tips_show, map, contacts_show]</td>\n",
       "      <td>29</td>\n",
       "    </tr>\n",
       "    <tr>\n",
       "      <th>9</th>\n",
       "      <td>[advert_open, contacts_show]</td>\n",
       "      <td>20</td>\n",
       "    </tr>\n",
       "  </tbody>\n",
       "</table>\n",
       "</div>"
      ],
      "text/plain": [
       "                             event_name  count\n",
       "1            [tips_show, contacts_show]    449\n",
       "2               [search, contacts_show]    147\n",
       "3          [photos_show, contacts_show]    138\n",
       "4       [map, tips_show, contacts_show]     97\n",
       "5  [search, photos_show, contacts_show]     54\n",
       "6                  [map, contacts_show]     38\n",
       "7    [search, tips_show, contacts_show]     35\n",
       "8       [tips_show, map, contacts_show]     29\n",
       "9          [advert_open, contacts_show]     20"
      ]
     },
     "execution_count": 35,
     "metadata": {},
     "output_type": "execute_result"
    }
   ],
   "source": [
    "# выведем на печать типовые сценарии действий пользователя и количество этих сценариев\n",
    "print('Количество различных сценариев:', scenarios.shape[0])\n",
    "print('Общее количество сценариев с учетом повторяющихся:', scenarios['count'].sum())\n",
    "\n",
    "scenarios = scenarios.head(9)  \n",
    "scenarios"
   ]
  },
  {
   "cell_type": "markdown",
   "id": "6ec6dab8",
   "metadata": {},
   "source": [
    "#### Выводы по нахождению сценариев действий пользователей, которые приводят к просмотру контактов"
   ]
  },
  {
   "cell_type": "code",
   "execution_count": 36,
   "id": "3af3099e",
   "metadata": {
    "scrolled": true
   },
   "outputs": [
    {
     "name": "stdout",
     "output_type": "stream",
     "text": [
      "\u001b[1mНАИБОЛЕЕ ЧАСТЫЕ ТИПОВЫЕ СЦЕНАРИИ И ИХ ОБЩЕЕ КОЛИЧЕСТВО\u001b[0m\n",
      "\u001b[1m ['tips_show', 'contacts_show']  -  449 \u001b[0m\n",
      "\u001b[1m ['search', 'contacts_show']  -  147 \u001b[0m\n",
      "\u001b[1m ['photos_show', 'contacts_show']  -  138 \u001b[0m\n",
      "\u001b[1m ['map', 'tips_show', 'contacts_show']  -  97 \u001b[0m\n",
      "\u001b[1m ['search', 'photos_show', 'contacts_show']  -  54 \u001b[0m\n",
      "\u001b[1m ['map', 'contacts_show']  -  38 \u001b[0m\n",
      "\u001b[1m ['search', 'tips_show', 'contacts_show']  -  35 \u001b[0m\n",
      "\u001b[1m ['tips_show', 'map', 'contacts_show']  -  29 \u001b[0m\n",
      "\u001b[1m ['advert_open', 'contacts_show']  -  20 \u001b[0m\n",
      "\n",
      "\u001b[1m3 первых сценария составляют: 73.0 % от общего количества сценариев\u001b[0m\n"
     ]
    }
   ],
   "source": [
    "print('\\033[1m' + 'НАИБОЛЕЕ ЧАСТЫЕ ТИПОВЫЕ СЦЕНАРИИ И ИХ ОБЩЕЕ КОЛИЧЕСТВО' + '\\033[0m')\n",
    "\n",
    "for i in range(9):\n",
    "    print('\\033[1m', scenarios.iloc[i,0], ' - ', scenarios.iloc[i,1], '\\033[0m')\n",
    "    \n",
    "print() \n",
    "\n",
    "print('\\033[1m' + '3 первых сценария составляют:', \n",
    "      round(scenarios['count'][0:3].sum() / scenarios['count'].sum() * 100, 0), \n",
    "      '% от общего количества сценариев'  + '\\033[0m')    "
   ]
  },
  {
   "cell_type": "markdown",
   "id": "a6951196",
   "metadata": {},
   "source": [
    "### 2.2. Построение воронок по основным сценариям в разрезе уникальных пользователей"
   ]
  },
  {
   "cell_type": "markdown",
   "id": "3e469634",
   "metadata": {},
   "source": [
    "Напишем функцию для расчета конверсий и визуализации воронок сценариев. Функция не будет учитывать время совершения события. Строго говоря на следующем этапе нужно считать только тех  пользователей, которые совершили данное действие после предыдущего (такую функцию напишем позднее). Поэтому конверсия в этом расчёте будет несколько завышенной. "
   ]
  },
  {
   "cell_type": "code",
   "execution_count": 37,
   "id": "fa436e85",
   "metadata": {},
   "outputs": [],
   "source": [
    "# импортирует модуль graph_objects из библиотеки Plotly \n",
    "from plotly import graph_objects as go\n",
    "\n",
    "def conversion(step_1, step_2, step_3 = None):\n",
    "    \n",
    "    # в словарь data будем собирать данные: название шага, количество уникальных пользователей и конверсия\n",
    "    data = {'step': [], 'count': [], 'conversion': []}\n",
    "    data['step'].append(step_1)\n",
    "    data['step'].append(step_2)\n",
    "    data['conversion'].append('')\n",
    "    \n",
    "    # рассчитаем количество уникальных пользователей на шаге 1\n",
    "    step_1_user_id = events_unique[(events_unique['event_name'] == step_1)]['user_id']\n",
    "    step_1_user_cnt = step_1_user_id.nunique()\n",
    "    \n",
    "    print(f'количество уникальных пользователей на шаге {step_1}: {step_1_user_cnt}')\n",
    "    \n",
    "    # рассчитаем количество уникальных пользователей на шаге 2 и конверсию\n",
    "    step_2_user_id = (events_unique[(events_unique['user_id'].isin(step_1_user_id)) \n",
    "                              & (events_unique['event_name'] == step_2)]\n",
    "                              ['user_id'])\n",
    "\n",
    "    step_2_user_cnt = step_2_user_id.nunique()\n",
    "    \n",
    "    conversion_2 = round(step_2_user_cnt / step_1_user_cnt * 100, 1)  \n",
    "    \n",
    "    print(f'количество уникальных пользователей на шаге {step_2}: {step_2_user_cnt}')\n",
    "    print(f'конверсия {step_1} - {step_2}: {conversion_2}%')\n",
    "    \n",
    "    # дополним словарь полученными данными\n",
    "    data['count'].append(step_1_user_cnt)\n",
    "    data['count'].append(step_2_user_cnt)\n",
    "    data['conversion'].append(conversion_2)\n",
    "    \n",
    "    # если в функцию передан 3-й шаг, то найдем количество уникальных пользователей и конверсию\n",
    "    if step_3 is not None:\n",
    "        step_3_user_id = (events_unique[(events_unique['user_id'].isin(step_2_user_id)) \n",
    "                              & (events_unique['event_name'] == step_3)\n",
    "                              ]['user_id'])\n",
    "\n",
    "        step_3_user_cnt = step_3_user_id.nunique()\n",
    "        \n",
    "        conversion_3 = round(step_3_user_cnt / step_2_user_cnt *100, 1)\n",
    "        conversion = round(step_3_user_cnt / step_1_user_cnt * 100, 1)\n",
    "        print(f'количество уникальных пользователей на шаге {step_3}: {step_3_user_cnt}')\n",
    "        print(f'конверсия {step_2} - {step_3}: {conversion_3}%')\n",
    "        print(f'конверсия сценария {step_1} - {step_2} - {step_3}: {conversion}%')\n",
    "        \n",
    "        data['step'].append(step_3)\n",
    "        data['count'].append(step_3_user_cnt)\n",
    "        data['conversion'].append(conversion_3) \n",
    "        \n",
    "        title = f'График воронки по сценарию: {step_1} - {step_2} - {step_3}'\n",
    "        # если нет, то конверсия сценария равна конверсии шага 2\n",
    "    else: \n",
    "        conversion = conversion_2\n",
    "        title = f'График воронки по сценарию: {step_1} - {step_2}'\n",
    "    # собираем данные в датафрейм\n",
    "    df = pd.DataFrame(data)\n",
    "    \n",
    "    # визуализируем график воронки    \n",
    "    fig = go.Figure(go.Funnel(\n",
    "    y = df['step'],\n",
    "    x = df['count'],     \n",
    "    textinfo = \"value+percent initial\" ))\n",
    "    \n",
    "    fig.update_layout(title_text=title, title_x=0.5)\n",
    "\n",
    "    fig.show(renderer='png', width=1000, height=500, scale=None)    "
   ]
  },
  {
   "cell_type": "code",
   "execution_count": 38,
   "id": "449b38ef",
   "metadata": {},
   "outputs": [
    {
     "name": "stdout",
     "output_type": "stream",
     "text": [
      "Requirement already satisfied: kaleido in c:\\users\\nay\\appdata\\local\\anaconda3\\lib\\site-packages (0.2.1)\n",
      "Note: you may need to restart the kernel to use updated packages.\n"
     ]
    }
   ],
   "source": [
    "pip install -U kaleido"
   ]
  },
  {
   "cell_type": "markdown",
   "id": "afa8a844",
   "metadata": {},
   "source": [
    "Найдём конверсию по сценарию **tips_show - contacts_show**"
   ]
  },
  {
   "cell_type": "markdown",
   "id": "1b97f37f",
   "metadata": {},
   "source": [
    "Для проверки работы функции выполним действия пошагово"
   ]
  },
  {
   "cell_type": "code",
   "execution_count": 39,
   "id": "e832bd69",
   "metadata": {},
   "outputs": [
    {
     "name": "stdout",
     "output_type": "stream",
     "text": [
      "количество уникальных пользователей на шаге tips_show: 2801\n"
     ]
    }
   ],
   "source": [
    "# количество уникальных пользователей на шаге tips_show\n",
    "tips_show_user_id = events_unique[(events_unique['event_name'] == 'tips_show')]['user_id']\n",
    "tips_show_cnt = tips_show_user_id.nunique()\n",
    "\n",
    "print(f'количество уникальных пользователей на шаге tips_show: {tips_show_cnt}')"
   ]
  },
  {
   "cell_type": "code",
   "execution_count": 40,
   "id": "9b0f70bb",
   "metadata": {},
   "outputs": [
    {
     "name": "stdout",
     "output_type": "stream",
     "text": [
      "количество уникальных пользователей на шаге contacts_show: 516\n",
      "конверсия сценария tips_show - contacts_show: 18.4%\n"
     ]
    }
   ],
   "source": [
    "# количество уникальных пользователей на шаге contacts_show\n",
    "contacts_show_user_id = (events_unique[(events_unique['user_id'].isin(tips_show_user_id)) \n",
    "                              & (events_unique['event_name'] == 'contacts_show')\n",
    "                              ]['user_id'])\n",
    "\n",
    "contacts_show_cnt = contacts_show_user_id.nunique()\n",
    "\n",
    "print(f'количество уникальных пользователей на шаге contacts_show: {contacts_show_cnt}')\n",
    "print(f'конверсия сценария tips_show - contacts_show: {round(contacts_show_cnt / tips_show_cnt *100, 1)}%')"
   ]
  },
  {
   "cell_type": "code",
   "execution_count": 41,
   "id": "1c8fafaf",
   "metadata": {
    "scrolled": false
   },
   "outputs": [
    {
     "name": "stdout",
     "output_type": "stream",
     "text": [
      "количество уникальных пользователей на шаге tips_show: 2801\n",
      "количество уникальных пользователей на шаге contacts_show: 516\n",
      "конверсия tips_show - contacts_show: 18.4%\n"
     ]
    },
    {
     "data": {
      "image/png": "[encoded data removed]"
     },
     "metadata": {},
     "output_type": "display_data"
    }
   ],
   "source": [
    "conversion( 'tips_show', 'contacts_show')"
   ]
  },
  {
   "cell_type": "markdown",
   "id": "8d3143f5",
   "metadata": {},
   "source": [
    "Функция работает корректно."
   ]
  },
  {
   "cell_type": "markdown",
   "id": "8e2a6908",
   "metadata": {},
   "source": [
    "**Напишем функцию для построения воронки сценария с учетом времени совершения событий**"
   ]
  },
  {
   "cell_type": "code",
   "execution_count": 42,
   "id": "e454b366",
   "metadata": {
    "scrolled": false
   },
   "outputs": [
    {
     "data": {
      "text/html": [
       "<div>\n",
       "<style scoped>\n",
       "    .dataframe tbody tr th:only-of-type {\n",
       "        vertical-align: middle;\n",
       "    }\n",
       "\n",
       "    .dataframe tbody tr th {\n",
       "        vertical-align: top;\n",
       "    }\n",
       "\n",
       "    .dataframe thead th {\n",
       "        text-align: right;\n",
       "    }\n",
       "</style>\n",
       "<table border=\"1\" class=\"dataframe\">\n",
       "  <thead>\n",
       "    <tr style=\"text-align: right;\">\n",
       "      <th></th>\n",
       "      <th>time</th>\n",
       "      <th>name</th>\n",
       "      <th>distinct_id</th>\n",
       "    </tr>\n",
       "  </thead>\n",
       "  <tbody>\n",
       "    <tr>\n",
       "      <th>805</th>\n",
       "      <td>2019-10-07 13:39:45.989359</td>\n",
       "      <td>tips_show</td>\n",
       "      <td>0001b1d5-b74a-4cbf-aeb0-7df5947bf349</td>\n",
       "    </tr>\n",
       "    <tr>\n",
       "      <th>806</th>\n",
       "      <td>2019-10-07 13:40:31.052909</td>\n",
       "      <td>tips_show</td>\n",
       "      <td>0001b1d5-b74a-4cbf-aeb0-7df5947bf349</td>\n",
       "    </tr>\n",
       "    <tr>\n",
       "      <th>809</th>\n",
       "      <td>2019-10-07 13:41:05.722489</td>\n",
       "      <td>tips_show</td>\n",
       "      <td>0001b1d5-b74a-4cbf-aeb0-7df5947bf349</td>\n",
       "    </tr>\n",
       "    <tr>\n",
       "      <th>820</th>\n",
       "      <td>2019-10-07 13:43:20.735461</td>\n",
       "      <td>tips_show</td>\n",
       "      <td>0001b1d5-b74a-4cbf-aeb0-7df5947bf349</td>\n",
       "    </tr>\n",
       "    <tr>\n",
       "      <th>830</th>\n",
       "      <td>2019-10-07 13:45:30.917502</td>\n",
       "      <td>tips_show</td>\n",
       "      <td>0001b1d5-b74a-4cbf-aeb0-7df5947bf349</td>\n",
       "    </tr>\n",
       "  </tbody>\n",
       "</table>\n",
       "</div>"
      ],
      "text/plain": [
       "                          time       name  \\\n",
       "805 2019-10-07 13:39:45.989359  tips_show   \n",
       "806 2019-10-07 13:40:31.052909  tips_show   \n",
       "809 2019-10-07 13:41:05.722489  tips_show   \n",
       "820 2019-10-07 13:43:20.735461  tips_show   \n",
       "830 2019-10-07 13:45:30.917502  tips_show   \n",
       "\n",
       "                              distinct_id  \n",
       "805  0001b1d5-b74a-4cbf-aeb0-7df5947bf349  \n",
       "806  0001b1d5-b74a-4cbf-aeb0-7df5947bf349  \n",
       "809  0001b1d5-b74a-4cbf-aeb0-7df5947bf349  \n",
       "820  0001b1d5-b74a-4cbf-aeb0-7df5947bf349  \n",
       "830  0001b1d5-b74a-4cbf-aeb0-7df5947bf349  "
      ]
     },
     "execution_count": 42,
     "metadata": {},
     "output_type": "execute_result"
    }
   ],
   "source": [
    "# создадим новый датафрейм удалив не нужные столбцы\n",
    "df = events[['event_time','event_name','user_id']]\n",
    "df.columns = ['time','name','distinct_id']\n",
    "df.head()"
   ]
  },
  {
   "cell_type": "code",
   "execution_count": 43,
   "id": "f4643aa0",
   "metadata": {},
   "outputs": [],
   "source": [
    "# функция построения воронки с учетом времени совершения событий \n",
    "# учитываются только те события, которые произошли не раньше и не позднее чем step_interval после предыдущего события\n",
    "def conversion_time(df, steps, from_date=None, to_date=None, step_interval=0):\n",
    "    \"\"\"\n",
    "    Function used to create a dataframe that can be passed to functions for generating funnel plots.\n",
    "    \"\"\"\n",
    "    # filter df for only events in the steps list\n",
    "    df = df[['distinct_id', 'name', 'time']]\n",
    "    df = df[df['name'].isin(steps)]\n",
    "\n",
    "    values = []\n",
    "    # for the rest steps, create a df and filter only for that step\n",
    "    for i, step in enumerate(steps):\n",
    "        if i == 0:\n",
    "            dfs = {}\n",
    "\n",
    "            dfs[step] = df[df['name'] == step] \\\n",
    "                .sort_values(['distinct_id', 'time'], ascending=True) \\\n",
    "                .drop_duplicates(subset=['distinct_id', 'name'], keep='first')\n",
    "\n",
    "            # filter df of 1st step according to dates\n",
    "            if from_date:\n",
    "                dfs[step] = dfs[step][(dfs[step]['time'] >= from_date)]\n",
    "\n",
    "            if to_date:\n",
    "                dfs[step] = dfs[step][(dfs[step]['time'] <= to_date)]\n",
    "\n",
    "        else:\n",
    "            dfs[step] = df[df['name'] == step]\n",
    "\n",
    "            # outer join with previous step\n",
    "            merged = pd.merge(dfs[steps[i - 1]], dfs[step], on='distinct_id', how='outer')\n",
    "\n",
    "            # keep only rows for which the distinct_ids appear in the previous step\n",
    "            valid_ids = dfs[steps[i - 1]]['distinct_id'].unique()\n",
    "            merged = merged[merged['distinct_id'].isin(valid_ids)]\n",
    "\n",
    "            # keep only events that happened after previous step and sort by time\n",
    "            merged = merged[(merged['time_y'] <=(merged['time_x'] + pd.Timedelta(step_interval, unit='m'))) \n",
    "                            & (merged['time_y'] >= merged['time_x'])].sort_values('time_y', ascending=True)\n",
    "\n",
    "            # take the minimum time of the valid ones for each user\n",
    "            merged = merged.drop_duplicates(subset=['distinct_id', 'name_x', 'name_y'], keep='first')\n",
    "\n",
    "            # keep only the necessary columns and rename them to match the original structure\n",
    "            merged = merged[['distinct_id', 'name_y', 'time_y']].rename({'name_y': 'name',\n",
    "                                                                         'time_y': 'time'}, axis=1)\n",
    "\n",
    "            # include the df in the df dictionary so that it can be joined to the next step's df\n",
    "            dfs[step] = merged\n",
    "\n",
    "        # append number of users to the \"values\" list\n",
    "        values.append(len(dfs[step]))\n",
    "\n",
    "    # create dataframe\n",
    "    funnel_df = pd.DataFrame({'step': steps, 'val': values})\n",
    "    # calculate percentage conversion for each step\n",
    "    funnel_df['pct'] = (100 - 100 * abs(funnel_df['val'].pct_change()).fillna(0)).astype(int)\n",
    "    # shift val by one to plot faded bars of previous step in background\n",
    "    funnel_df['val-1'] = funnel_df['val'].shift(1)\n",
    "    # calculate percentage conversion between each step and the first step in the funnel\n",
    "    funnel_df['pct_from_first'] = (funnel_df['val'] / funnel_df['val'].loc[0] * 100).fillna(0).astype(int)\n",
    "\n",
    "    #return funnel_df\n",
    "\n",
    "    fig = go.Figure(go.Funnel(\n",
    "    y = funnel_df['step'],\n",
    "    x = funnel_df['val'],     \n",
    "    textinfo = \"value+percent initial\" ))\n",
    "    \n",
    "    if len(steps) == 2:\n",
    "        title = f'График воронки: {steps[0]} - {steps[1]}'\n",
    "    else: \n",
    "         title = f'График воронки: {steps[0]} - {steps[1]} - {steps[2]}'\n",
    "    \n",
    "    fig.update_layout(title_text=title, title_x=0.5)\n",
    "\n",
    "    fig.show(renderer='png', width=1000, height=500, scale=None)  "
   ]
  },
  {
   "cell_type": "markdown",
   "id": "e4461470",
   "metadata": {},
   "source": [
    "Построим график воронки для одного и того же сценария с помощью двух функций (без учета времени и с учетом времени сыбытия) и сравним результаты."
   ]
  },
  {
   "cell_type": "code",
   "execution_count": 44,
   "id": "c367a5f9",
   "metadata": {
    "scrolled": false
   },
   "outputs": [
    {
     "name": "stdout",
     "output_type": "stream",
     "text": [
      "количество уникальных пользователей на шаге search: 1666\n",
      "количество уникальных пользователей на шаге photos_show: 647\n",
      "конверсия search - photos_show: 38.8%\n",
      "количество уникальных пользователей на шаге contacts_show: 192\n",
      "конверсия photos_show - contacts_show: 29.7%\n",
      "конверсия сценария search - photos_show - contacts_show: 11.5%\n"
     ]
    },
    {
     "data": {
      "image/png": "[encoded data removed]"
     },
     "metadata": {},
     "output_type": "display_data"
    }
   ],
   "source": [
    "conversion('search', 'photos_show', 'contacts_show')"
   ]
  },
  {
   "cell_type": "code",
   "execution_count": 45,
   "id": "47e8d360",
   "metadata": {
    "scrolled": false
   },
   "outputs": [
    {
     "data": {
      "image/png": "[encoded data removed]"
     },
     "metadata": {},
     "output_type": "display_data"
    }
   ],
   "source": [
    "# в качестве интервала между действиями пользователя примем те же 17 минут (90-й процентиль)\n",
    "conversion_time(df, ['search', 'photos_show', 'contacts_show'], from_date=None, to_date=None, step_interval=17)"
   ]
  },
  {
   "cell_type": "markdown",
   "id": "d9aca7b7",
   "metadata": {},
   "source": [
    "Да, разница в конверсии (без учета времени действия пользователя и с учетом) принципиальная. В дальнейшем будем использовать функцию с учетом времени действия пользователя.\n",
    "\n",
    "Найдём конверсии и построим воронки по всем типовым сценариям."
   ]
  },
  {
   "cell_type": "markdown",
   "id": "88937461",
   "metadata": {},
   "source": [
    "Найдём конверсию по сценарию **tips_show - contacts_show**"
   ]
  },
  {
   "cell_type": "code",
   "execution_count": 46,
   "id": "c889ff9a",
   "metadata": {},
   "outputs": [
    {
     "data": {
      "image/png": "[encoded data removed]"
     },
     "metadata": {},
     "output_type": "display_data"
    }
   ],
   "source": [
    "conversion_time(df, ['tips_show', 'contacts_show'], from_date=None, to_date=None, step_interval=17)"
   ]
  },
  {
   "cell_type": "markdown",
   "id": "bedbe4a5",
   "metadata": {},
   "source": [
    "Найдём конверсию по сценарию **search - contacts_show**"
   ]
  },
  {
   "cell_type": "code",
   "execution_count": 47,
   "id": "b6357d38",
   "metadata": {},
   "outputs": [
    {
     "data": {
      "image/png": "[encoded data removed]"
     },
     "metadata": {},
     "output_type": "display_data"
    }
   ],
   "source": [
    "conversion_time(df, ['search', 'contacts_show'], from_date=None, to_date=None, step_interval=17)"
   ]
  },
  {
   "cell_type": "markdown",
   "id": "7416f08f",
   "metadata": {},
   "source": [
    "Найдём конверсию по сценарию **photos_show - contacts_show**"
   ]
  },
  {
   "cell_type": "code",
   "execution_count": 48,
   "id": "56ee3d5d",
   "metadata": {},
   "outputs": [
    {
     "data": {
      "image/png": "[encoded data removed]"
     },
     "metadata": {},
     "output_type": "display_data"
    }
   ],
   "source": [
    "conversion_time(df, ['photos_show', 'contacts_show'], from_date=None, to_date=None, step_interval=17)"
   ]
  },
  {
   "cell_type": "markdown",
   "id": "7b9bc5eb",
   "metadata": {},
   "source": [
    "Найдём конверсию по сценарию **map - tips_show - contacts_show**"
   ]
  },
  {
   "cell_type": "code",
   "execution_count": 49,
   "id": "54f4f811",
   "metadata": {
    "scrolled": false
   },
   "outputs": [
    {
     "data": {
      "image/png": "[encoded data removed]"
     },
     "metadata": {},
     "output_type": "display_data"
    }
   ],
   "source": [
    "conversion_time(df, ['map', 'tips_show', 'contacts_show'], from_date=None, to_date=None, step_interval=17)"
   ]
  },
  {
   "cell_type": "markdown",
   "id": "d6e05515",
   "metadata": {},
   "source": [
    "Найдём конверсию по сценарию **search - photos_show - contacts_show**"
   ]
  },
  {
   "cell_type": "code",
   "execution_count": 50,
   "id": "49bd6bc5",
   "metadata": {},
   "outputs": [
    {
     "data": {
      "image/png": "[encoded data removed]"
     },
     "metadata": {},
     "output_type": "display_data"
    }
   ],
   "source": [
    "# построим воронку сценария search - tips_show - contacts_show\n",
    "conversion_time(df, ['search', 'photos_show', 'contacts_show'], from_date=None, to_date=None, step_interval=17)"
   ]
  },
  {
   "cell_type": "code",
   "execution_count": 51,
   "id": "d9fa44f8",
   "metadata": {},
   "outputs": [
    {
     "data": {
      "image/png": "[encoded data removed]"
     },
     "metadata": {},
     "output_type": "display_data"
    }
   ],
   "source": [
    "# построим воронку сценария tips_show - map - contacts_show\n",
    "conversion_time(df, ['tips_show', 'map', 'contacts_show'], from_date=None, to_date=None, step_interval=17)"
   ]
  },
  {
   "cell_type": "code",
   "execution_count": 52,
   "id": "9cb18986",
   "metadata": {
    "scrolled": false
   },
   "outputs": [
    {
     "data": {
      "image/png": "[encoded data removed]"
     },
     "metadata": {},
     "output_type": "display_data"
    }
   ],
   "source": [
    "# построим воронку сценария advert_open - contacts_show\n",
    "conversion_time(df, ['advert_open', 'contacts_show'], from_date=None, to_date=None, step_interval=17)"
   ]
  },
  {
   "cell_type": "markdown",
   "id": "ba94d54e",
   "metadata": {},
   "source": [
    "#### 2.2.1. Выводы по построению воронок по основным сценариям поведений пользователей\n",
    "\n",
    "Сценарии, которые дают больше всего целевых действий:\n",
    "- сценарии в 2 шага: \n",
    "    - tips_show - contacts_show,\n",
    "    - search - contacts_show,\n",
    "    - photos_chow - contacts_show \n",
    "    \n",
    "- сценарии в 3 шага: \n",
    "    - map - tips_show - contacts_show,\n",
    "    - search - photos_chow - contacts_show,\n",
    "    - tips_show - map - contacts_show\n",
    "    \n",
    "    \n",
    "Конверсия по сценарию `[photos_show, contacts_show]` существенно больше, чем по двум предыдущим более популярным сценариям. Следует рассмотреть гипотезу, что просмотр фото повышает конверсию. Целесообразно изменить дизайн приложения, с тем чтобы направить большее количество пользователей по этому пути. Предварительно провести А/Б-тестирование. \n",
    "\n",
    "\n",
    "Среди сценариев в 3 шага относительно высокой конверсией выделяется сценарий `[map, tips_show, contacts_show]`. Это тоже целесообразно учесть при работе с дизайном приложения.\t"
   ]
  },
  {
   "cell_type": "markdown",
   "id": "d059598c",
   "metadata": {},
   "source": [
    "### 2.3. Построение Диаграммы Сенкея"
   ]
  },
  {
   "cell_type": "code",
   "execution_count": 53,
   "id": "b7aec32a",
   "metadata": {},
   "outputs": [],
   "source": [
    "# удалим из таблицы сессии и переименуем столбец\n",
    "events_sankey = events[['user_id', 'event_time', 'event_name']]\n",
    "events_sankey = events_sankey.rename(columns={'event_time': 'event_timestamp'})"
   ]
  },
  {
   "cell_type": "markdown",
   "id": "bee7bd85",
   "metadata": {},
   "source": [
    "Удалим повторяющиеся действия пользователей в рамках одного пользователя.\n",
    "В противном случае диаграмма Сенкея получается много-шаговой и сложной для анализа."
   ]
  },
  {
   "cell_type": "code",
   "execution_count": 54,
   "id": "3386624f",
   "metadata": {},
   "outputs": [],
   "source": [
    "events_sankey = events_sankey.drop_duplicates(subset=['event_name', 'user_id'])"
   ]
  },
  {
   "cell_type": "code",
   "execution_count": 55,
   "id": "cb6cf542",
   "metadata": {},
   "outputs": [
    {
     "data": {
      "text/html": [
       "<div>\n",
       "<style scoped>\n",
       "    .dataframe tbody tr th:only-of-type {\n",
       "        vertical-align: middle;\n",
       "    }\n",
       "\n",
       "    .dataframe tbody tr th {\n",
       "        vertical-align: top;\n",
       "    }\n",
       "\n",
       "    .dataframe thead th {\n",
       "        text-align: right;\n",
       "    }\n",
       "</style>\n",
       "<table border=\"1\" class=\"dataframe\">\n",
       "  <thead>\n",
       "    <tr style=\"text-align: right;\">\n",
       "      <th></th>\n",
       "      <th>user_id</th>\n",
       "      <th>event_timestamp</th>\n",
       "      <th>step</th>\n",
       "      <th>source</th>\n",
       "      <th>target</th>\n",
       "    </tr>\n",
       "  </thead>\n",
       "  <tbody>\n",
       "    <tr>\n",
       "      <th>805</th>\n",
       "      <td>0001b1d5-b74a-4cbf-aeb0-7df5947bf349</td>\n",
       "      <td>2019-10-07 13:39:45.989359</td>\n",
       "      <td>1</td>\n",
       "      <td>tips_show</td>\n",
       "      <td>map</td>\n",
       "    </tr>\n",
       "    <tr>\n",
       "      <th>6541</th>\n",
       "      <td>0001b1d5-b74a-4cbf-aeb0-7df5947bf349</td>\n",
       "      <td>2019-10-09 18:33:55.577963</td>\n",
       "      <td>2</td>\n",
       "      <td>map</td>\n",
       "      <td>NaN</td>\n",
       "    </tr>\n",
       "    <tr>\n",
       "      <th>31632</th>\n",
       "      <td>00157779-810c-4498-9e05-a1e9e3cedf93</td>\n",
       "      <td>2019-10-19 21:34:33.849769</td>\n",
       "      <td>1</td>\n",
       "      <td>search</td>\n",
       "      <td>photos_show</td>\n",
       "    </tr>\n",
       "    <tr>\n",
       "      <th>31655</th>\n",
       "      <td>00157779-810c-4498-9e05-a1e9e3cedf93</td>\n",
       "      <td>2019-10-19 21:40:38.990477</td>\n",
       "      <td>2</td>\n",
       "      <td>photos_show</td>\n",
       "      <td>favorites_add</td>\n",
       "    </tr>\n",
       "    <tr>\n",
       "      <th>33510</th>\n",
       "      <td>00157779-810c-4498-9e05-a1e9e3cedf93</td>\n",
       "      <td>2019-10-20 19:03:02.030004</td>\n",
       "      <td>3</td>\n",
       "      <td>favorites_add</td>\n",
       "      <td>contacts_show</td>\n",
       "    </tr>\n",
       "  </tbody>\n",
       "</table>\n",
       "</div>"
      ],
      "text/plain": [
       "                                    user_id            event_timestamp  step  \\\n",
       "805    0001b1d5-b74a-4cbf-aeb0-7df5947bf349 2019-10-07 13:39:45.989359     1   \n",
       "6541   0001b1d5-b74a-4cbf-aeb0-7df5947bf349 2019-10-09 18:33:55.577963     2   \n",
       "31632  00157779-810c-4498-9e05-a1e9e3cedf93 2019-10-19 21:34:33.849769     1   \n",
       "31655  00157779-810c-4498-9e05-a1e9e3cedf93 2019-10-19 21:40:38.990477     2   \n",
       "33510  00157779-810c-4498-9e05-a1e9e3cedf93 2019-10-20 19:03:02.030004     3   \n",
       "\n",
       "              source         target  \n",
       "805        tips_show            map  \n",
       "6541             map            NaN  \n",
       "31632         search    photos_show  \n",
       "31655    photos_show  favorites_add  \n",
       "33510  favorites_add  contacts_show  "
      ]
     },
     "execution_count": 55,
     "metadata": {},
     "output_type": "execute_result"
    }
   ],
   "source": [
    "def add_features(df):\n",
    "    \n",
    "    \"\"\"Функция генерации новых столбцов для исходной таблицы\n",
    "\n",
    "    Args:\n",
    "        df (pd.DataFrame): исходная таблица.\n",
    "    Returns:\n",
    "        pd.DataFrame: таблица с новыми признаками.\n",
    "    \"\"\"\n",
    "    \n",
    "    # сортируем по id и времени\n",
    "    sorted_df = df.sort_values(by=['user_id', 'event_timestamp']).copy()\n",
    "    # добавляем шаги событий\n",
    "    sorted_df['step'] = sorted_df.groupby('user_id').cumcount() + 1\n",
    "    \n",
    "    # добавляем узлы-источники и целевые узлы\n",
    "    # узлы-источники - это сами события\n",
    "    sorted_df['source'] = sorted_df['event_name']\n",
    "    # добавляем целевые узлы\n",
    "    sorted_df['target'] = sorted_df.groupby('user_id')['source'].shift(-1)\n",
    "    \n",
    "    # возврат таблицы без имени событий\n",
    "    return sorted_df.drop(['event_name'], axis=1)\n",
    "  \n",
    "# преобразуем таблицу\n",
    "table = add_features(events_sankey)\n",
    "table.head()"
   ]
  },
  {
   "cell_type": "code",
   "execution_count": 56,
   "id": "0e6985b1",
   "metadata": {},
   "outputs": [
    {
     "data": {
      "text/plain": [
       "step\n",
       "1    6037\n",
       "2    3447\n",
       "3    1321\n",
       "4     408\n",
       "5      68\n",
       "6       5\n",
       "Name: count, dtype: int64"
      ]
     },
     "execution_count": 56,
     "metadata": {},
     "output_type": "execute_result"
    }
   ],
   "source": [
    "# для обоснования количества шагов (которые нужно отобразить в диаграмме Санкея) \n",
    "# найдём распределение количества сессий по количеству шагов\n",
    "events_unique.groupby('session_id')['step'].max().value_counts()"
   ]
  },
  {
   "cell_type": "markdown",
   "id": "3212cd2e",
   "metadata": {},
   "source": [
    "Количество сессий с числом шагов 5 и более составляет 73. Эти сценарии не будут являться основными типовыми. С практической точки зрения сценариями с числом шагов более 4 или даже 3 можно пренебречь."
   ]
  },
  {
   "cell_type": "code",
   "execution_count": 57,
   "id": "66d56430",
   "metadata": {},
   "outputs": [],
   "source": [
    "# удалим все пары source-target, шаг которых превышает 4\n",
    "# и сохраним полученную таблицу в отдельную переменную\n",
    "df_comp = table[table['step'] <= 4].copy().reset_index(drop=True)"
   ]
  },
  {
   "cell_type": "code",
   "execution_count": 58,
   "id": "e4928d37",
   "metadata": {},
   "outputs": [],
   "source": [
    "def get_source_index(df):\n",
    "    \n",
    "    \"\"\"Функция генерации индексов source\n",
    "\n",
    "    Args:\n",
    "        df (pd.DataFrame): исходная таблица с признаками step, source, target.\n",
    "    Returns:\n",
    "        dict: словарь с индексами, именами и соответсвиями индексов именам source.\n",
    "    \"\"\"\n",
    "    \n",
    "    res_dict = {}\n",
    "    \n",
    "    count = 0\n",
    "    # получаем индексы источников\n",
    "    for no, step in enumerate(df['step'].unique().tolist()):\n",
    "        # получаем уникальные наименования для шага\n",
    "        res_dict[no+1] = {}\n",
    "        res_dict[no+1]['sources'] = df[df['step'] == step]['source'].unique().tolist()\n",
    "        res_dict[no+1]['sources_index'] = []\n",
    "        for i in range(len(res_dict[no+1]['sources'])):\n",
    "            res_dict[no+1]['sources_index'].append(count)\n",
    "            count += 1\n",
    "            \n",
    "    # соединим списки\n",
    "    for key in res_dict:\n",
    "        res_dict[key]['sources_dict'] = {}\n",
    "        for name, no in zip(res_dict[key]['sources'], res_dict[key]['sources_index']):\n",
    "            res_dict[key]['sources_dict'][name] = no\n",
    "    return res_dict\n",
    "  \n",
    "\n",
    "# создаем словарь\n",
    "source_indexes = get_source_index(df_comp)"
   ]
  },
  {
   "cell_type": "code",
   "execution_count": 59,
   "id": "f7276ab3",
   "metadata": {},
   "outputs": [],
   "source": [
    "def generate_random_color():\n",
    "    \n",
    "    \"\"\"Случайная генерация цветов rgba\n",
    "\n",
    "    Args:\n",
    "        \n",
    "    Returns:\n",
    "        str: Строка со сгенерированными параметрами цвета\n",
    "    \"\"\"\n",
    "    \n",
    "    # сгенерим значение для каждого канала\n",
    "    r, g, b = np.random.randint(255, size=3)\n",
    "    return f'rgba({r}, {g}, {b}, 1)'"
   ]
  },
  {
   "cell_type": "code",
   "execution_count": 60,
   "id": "b9d3a1f8",
   "metadata": {},
   "outputs": [],
   "source": [
    "import requests\n",
    "import numpy as np\n",
    "\n",
    "def colors_for_sources(mode):\n",
    "    \n",
    "    \"\"\"Генерация цветов rgba\n",
    "\n",
    "    Args:\n",
    "        mode (str): сгенерировать случайные цвета, если 'random', а если 'custom' - \n",
    "                    использовать заранее подготовленные\n",
    "    Returns:\n",
    "        dict: словарь с цветами, соответствующими каждому индексу\n",
    "    \"\"\"\n",
    "    # словарь, в который сложим цвета в соответствии с индексом\n",
    "    colors_dict = {}\n",
    "    \n",
    "    if mode == 'random':\n",
    "        # генерим случайные цвета\n",
    "        for label in df_comp['source'].unique():\n",
    "            r, g, b = np.random.randint(255, size=3)            \n",
    "            colors_dict[label] = f'rgba({r}, {g}, {b}, 1)'\n",
    "            \n",
    "    elif mode == 'custom':\n",
    "        # присваиваем ранее подготовленные цвета\n",
    "        colors = requests.get('https://raw.githubusercontent.com/rusantsovsv/senkey_tutorial/main/json/colors_senkey.json').json()\n",
    "        for no, label in enumerate(df_comp['source'].unique()):\n",
    "            colors_dict[label] = colors['custom_colors'][no]\n",
    "            \n",
    "    return colors_dict\n",
    "   \n",
    "# генерю цвета из своего списка\n",
    "colors_dict = colors_for_sources(mode='custom')"
   ]
  },
  {
   "cell_type": "code",
   "execution_count": 61,
   "id": "08bee2e2",
   "metadata": {},
   "outputs": [],
   "source": [
    "def percent_users(sources, targets, values):\n",
    "    \n",
    "    \"\"\"\n",
    "    Расчет уникальных id в процентах (для вывода в hover text каждого узла)\n",
    "    \n",
    "    Args:\n",
    "        sources (list): список с индексами source.\n",
    "        targets (list): список с индексами target.\n",
    "        values (list): список с \"объемами\" потоков.\n",
    "        \n",
    "    Returns:\n",
    "        list: список с \"объемами\" потоков в процентах\n",
    "    \"\"\"\n",
    "    \n",
    "    # объединим источники и метки и найдем пары\n",
    "    zip_lists = list(zip(sources, targets, values))\n",
    "    \n",
    "    new_list = []\n",
    "    \n",
    "    # подготовим список словарь с общим объемом трафика в узлах\n",
    "    unique_dict = {}\n",
    "    \n",
    "    # проходим по каждому узлу\n",
    "    for source, target, value in zip_lists:\n",
    "        if source not in unique_dict:\n",
    "            # находим все источники и считаем общий трафик\n",
    "            unique_dict[source] = 0\n",
    "            for sr, tg, vl in zip_lists:\n",
    "                if sr == source:\n",
    "                    unique_dict[source] += vl\n",
    "                    \n",
    "    # считаем проценты\n",
    "    for source, target, value in zip_lists:\n",
    "        new_list.append(round(100 * value / unique_dict[source], 1))\n",
    "    \n",
    "    return new_list"
   ]
  },
  {
   "cell_type": "code",
   "execution_count": 62,
   "id": "c8a4a1ae",
   "metadata": {},
   "outputs": [
    {
     "name": "stderr",
     "output_type": "stream",
     "text": [
      "Шаг:   0%|          | 0/4 [00:00<?, ?it/s]\n",
      "  0%|          | 0/8 [00:00<?, ?it/s]\u001b[A\n",
      "100%|██████████| 8/8 [00:00<00:00, 65.07it/s]\u001b[A\n",
      "Шаг:  25%|██▌       | 1/4 [00:00<00:00,  8.00it/s]\n",
      "  0%|          | 0/9 [00:00<?, ?it/s]\u001b[A\n",
      "100%|██████████| 9/9 [00:00<00:00, 66.60it/s]\u001b[A\n",
      "Шаг:  50%|█████     | 2/4 [00:00<00:00,  7.44it/s]\n",
      "  0%|          | 0/9 [00:00<?, ?it/s]\u001b[A\n",
      "100%|██████████| 9/9 [00:00<00:00, 66.22it/s]\u001b[A\n",
      "Шаг: 100%|██████████| 4/4 [00:00<00:00,  9.78it/s]\n"
     ]
    }
   ],
   "source": [
    "from tqdm import tqdm\n",
    "\n",
    "def lists_for_plot(source_indexes=source_indexes, colors=colors_dict, frac=10):\n",
    "    \n",
    "    \"\"\"\n",
    "    Создаем необходимые для отрисовки диаграммы переменные списков и возвращаем\n",
    "    их в виде словаря\n",
    "    \n",
    "    Args:\n",
    "        source_indexes (dict): словарь с именами и индексами source.\n",
    "        colors (dict): словарь с цветами source.\n",
    "        frac (int): ограничение на минимальный \"объем\" между узлами.\n",
    "        \n",
    "    Returns:\n",
    "        dict: словарь со списками, необходимыми для диаграммы.\n",
    "    \"\"\"\n",
    "    \n",
    "    sources = []\n",
    "    targets = []\n",
    "    values = []\n",
    "    labels = []\n",
    "    link_color = []\n",
    "    link_text = []\n",
    "\n",
    "    # проходим по каждому шагу\n",
    "    for step in tqdm(sorted(df_comp['step'].unique()), desc='Шаг'):\n",
    "        if step + 1 not in source_indexes:\n",
    "            continue\n",
    "\n",
    "        # получаем индекс источника\n",
    "        temp_dict_source = source_indexes[step]['sources_dict']\n",
    "\n",
    "        # получаем индексы цели\n",
    "        temp_dict_target = source_indexes[step+1]['sources_dict']\n",
    "\n",
    "        # проходим по каждой возможной паре, считаем количество таких пар\n",
    "        for source, index_source in tqdm(temp_dict_source.items()):\n",
    "            for target, index_target in temp_dict_target.items():\n",
    "                # делаем срез данных и считаем количество id            \n",
    "                temp_df = df_comp[(df_comp['step'] == step)&(df_comp['source'] == source)&(df_comp['target'] == target)]\n",
    "                value = len(temp_df)\n",
    "                # проверяем минимальный объем потока и добавляем нужные данные\n",
    "                if value > frac:\n",
    "                    sources.append(index_source)\n",
    "                    targets.append(index_target)\n",
    "                    values.append(value)\n",
    "                    # делаем поток прозрачным для лучшего отображения\n",
    "                    link_color.append(colors[source].replace(', 1)', ', 0.2)'))\n",
    "                    \n",
    "    labels = []\n",
    "    colors_labels = []\n",
    "    for key in source_indexes:\n",
    "        for name in source_indexes[key]['sources']:\n",
    "            labels.append(name)\n",
    "            colors_labels.append(colors[name])\n",
    "            \n",
    "    # посчитаем проценты всех потоков\n",
    "    perc_values = percent_users(sources, targets, values)\n",
    "    \n",
    "    # добавим значения процентов для howertext\n",
    "    link_text = []\n",
    "    for perc in perc_values:\n",
    "        link_text.append(f\"{perc}%\")\n",
    "    \n",
    "    # возвратим словарь с вложенными списками\n",
    "    return {'sources': sources, \n",
    "            'targets': targets, \n",
    "            'values': values, \n",
    "            'labels': labels, \n",
    "            'colors_labels': colors_labels, \n",
    "            'link_color': link_color, \n",
    "            'link_text': link_text}\n",
    "  \n",
    "\n",
    "# создаем словарь\n",
    "data_for_plot = lists_for_plot()"
   ]
  },
  {
   "cell_type": "code",
   "execution_count": 63,
   "id": "3f765d23",
   "metadata": {},
   "outputs": [],
   "source": [
    "import plotly.graph_objects as go\n",
    "\n",
    "def plot_senkey_diagram(data_dict=data_for_plot):    \n",
    "    \n",
    "    \"\"\"\n",
    "    Функция для генерации объекта диаграммы Сенкей \n",
    "    \n",
    "    Args:\n",
    "        data_dict (dict): словарь со списками данных для построения.\n",
    "        \n",
    "    Returns:\n",
    "        plotly.graph_objs._figure.Figure: объект изображения.\n",
    "    \"\"\"\n",
    "    \n",
    "    fig = go.Figure(data=[go.Sankey(\n",
    "        domain = dict(\n",
    "          x =  [0,1],\n",
    "          y =  [0,1]\n",
    "        ),\n",
    "        orientation = \"h\",\n",
    "        valueformat = \".0f\",\n",
    "        node = dict(\n",
    "          pad = 50,\n",
    "          thickness = 15,\n",
    "          line = dict(color = \"black\", width = 0.1),\n",
    "          label = data_dict['labels'],\n",
    "          color = data_dict['colors_labels']\n",
    "        ),\n",
    "        link = dict(\n",
    "          source = data_dict['sources'],\n",
    "          target = data_dict['targets'],\n",
    "          value = data_dict['values'],\n",
    "          label = data_dict['link_text'],\n",
    "          color = data_dict['link_color']\n",
    "      ))])\n",
    "    fig.update_layout(title_text=\"Sankey Diagram\", font_size=10, width=1000, height=800)\n",
    "    \n",
    "    # возвращаем объект диаграммы\n",
    "    return fig\n",
    "  \n",
    "\n",
    "# сохраняем диаграмму в переменную\n",
    "senkey_diagram = plot_senkey_diagram()"
   ]
  },
  {
   "cell_type": "code",
   "execution_count": 64,
   "id": "1b17f115",
   "metadata": {
    "scrolled": false
   },
   "outputs": [
    {
     "data": {
      "image/png": "[encoded data removed]"
     },
     "metadata": {},
     "output_type": "display_data"
    }
   ],
   "source": [
    "senkey_diagram.show(renderer='png', width=1200, height=900, scale=None)"
   ]
  },
  {
   "cell_type": "markdown",
   "id": "c8355cfd",
   "metadata": {},
   "source": [
    "#### 2.3.1. Выводы по диаграмме Санкея\n",
    "1. Сценарии, которые дают больше всего целевых действий:\n",
    "- сценарии в 2 шага: \n",
    "    - tips_show - contacts_show, \n",
    "    - photos_chow - contacts_show, \n",
    "    - search - contacts_show.\n",
    "- сценарии в 3 шага: \n",
    "    - map - tips_show - contacts_show, \n",
    "    - search - photos_chow - contacts_show\n",
    "\n",
    "Это почти совпадает с таблицей наиболее частых сценариев.\n",
    "\n",
    "По диаграмме Санкея, самая высокая конверсия в сценарии `photos_chow - contacts_show`, она составляет 37,2%."
   ]
  },
  {
   "cell_type": "markdown",
   "id": "5c3e65df",
   "metadata": {},
   "source": [
    "### 2.4. Расчет относительной частоты событий в разрезе двух групп пользователей: "
   ]
  },
  {
   "cell_type": "markdown",
   "id": "cf657716",
   "metadata": {},
   "source": [
    "Пользователи, которые смотрели контакты (первая группа)"
   ]
  },
  {
   "cell_type": "code",
   "execution_count": 65,
   "id": "61934387",
   "metadata": {},
   "outputs": [
    {
     "data": {
      "text/plain": [
       "981"
      ]
     },
     "execution_count": 65,
     "metadata": {},
     "output_type": "execute_result"
    }
   ],
   "source": [
    "users_contacts_show = events[events['event_name'] == 'contacts_show']['user_id'].drop_duplicates()\n",
    "users_contacts_show.count()"
   ]
  },
  {
   "cell_type": "markdown",
   "id": "57f34c77",
   "metadata": {},
   "source": [
    "Пользователи, которые не смотрели контакты (вторая группа)"
   ]
  },
  {
   "cell_type": "code",
   "execution_count": 66,
   "id": "27fdadda",
   "metadata": {},
   "outputs": [
    {
     "data": {
      "text/plain": [
       "3312"
      ]
     },
     "execution_count": 66,
     "metadata": {},
     "output_type": "execute_result"
    }
   ],
   "source": [
    "users_not_contacts_show = events[~events['user_id'].isin(users_contacts_show)]['user_id']\n",
    "users_not_contacts_show.nunique()"
   ]
  },
  {
   "cell_type": "code",
   "execution_count": 67,
   "id": "b940ef4e",
   "metadata": {},
   "outputs": [
    {
     "data": {
      "text/html": [
       "<div>\n",
       "<style scoped>\n",
       "    .dataframe tbody tr th:only-of-type {\n",
       "        vertical-align: middle;\n",
       "    }\n",
       "\n",
       "    .dataframe tbody tr th {\n",
       "        vertical-align: top;\n",
       "    }\n",
       "\n",
       "    .dataframe thead th {\n",
       "        text-align: right;\n",
       "    }\n",
       "</style>\n",
       "<table border=\"1\" class=\"dataframe\">\n",
       "  <thead>\n",
       "    <tr style=\"text-align: right;\">\n",
       "      <th></th>\n",
       "      <th>event_name</th>\n",
       "      <th>count</th>\n",
       "    </tr>\n",
       "  </thead>\n",
       "  <tbody>\n",
       "    <tr>\n",
       "      <th>0</th>\n",
       "      <td>tips_show</td>\n",
       "      <td>12768</td>\n",
       "    </tr>\n",
       "    <tr>\n",
       "      <th>1</th>\n",
       "      <td>contacts_show</td>\n",
       "      <td>4529</td>\n",
       "    </tr>\n",
       "    <tr>\n",
       "      <th>2</th>\n",
       "      <td>photos_show</td>\n",
       "      <td>3828</td>\n",
       "    </tr>\n",
       "    <tr>\n",
       "      <th>3</th>\n",
       "      <td>search</td>\n",
       "      <td>2084</td>\n",
       "    </tr>\n",
       "    <tr>\n",
       "      <th>4</th>\n",
       "      <td>advert_open</td>\n",
       "      <td>1589</td>\n",
       "    </tr>\n",
       "    <tr>\n",
       "      <th>5</th>\n",
       "      <td>map</td>\n",
       "      <td>1101</td>\n",
       "    </tr>\n",
       "    <tr>\n",
       "      <th>6</th>\n",
       "      <td>contacts_call</td>\n",
       "      <td>541</td>\n",
       "    </tr>\n",
       "    <tr>\n",
       "      <th>7</th>\n",
       "      <td>favorites_add</td>\n",
       "      <td>424</td>\n",
       "    </tr>\n",
       "    <tr>\n",
       "      <th>8</th>\n",
       "      <td>tips_click</td>\n",
       "      <td>333</td>\n",
       "    </tr>\n",
       "  </tbody>\n",
       "</table>\n",
       "</div>"
      ],
      "text/plain": [
       "      event_name  count\n",
       "0      tips_show  12768\n",
       "1  contacts_show   4529\n",
       "2    photos_show   3828\n",
       "3         search   2084\n",
       "4    advert_open   1589\n",
       "5            map   1101\n",
       "6  contacts_call    541\n",
       "7  favorites_add    424\n",
       "8     tips_click    333"
      ]
     },
     "execution_count": 67,
     "metadata": {},
     "output_type": "execute_result"
    }
   ],
   "source": [
    "# события у пользователей, которые смотрели контакты\n",
    "events_users_contacts_show = events[events['user_id'].isin(users_contacts_show)]['event_name'].value_counts().reset_index()\n",
    "events_users_contacts_show.columns = ['event_name', 'count']\n",
    "events_users_contacts_show"
   ]
  },
  {
   "cell_type": "markdown",
   "id": "20d2bf1a",
   "metadata": {},
   "source": [
    "Для корректного сравнения относительной частоты событий у двух групп пользателей, посчитаем общее количество событий в первой группе без `contacts_show и contacts_call`, так как этих действий нет во второй группе. \n",
    "В противном случае, если этого не сделать, то в первой группе всегда будет заниженная относительная частота событий, т.к. все собития распределяются на большее количество категорий."
   ]
  },
  {
   "cell_type": "code",
   "execution_count": 68,
   "id": "d2aba884",
   "metadata": {},
   "outputs": [
    {
     "data": {
      "text/plain": [
       "22127"
      ]
     },
     "execution_count": 68,
     "metadata": {},
     "output_type": "execute_result"
    }
   ],
   "source": [
    "# общее количество событий у пользователей, которые смотрели контакты (но без contacts_show и contacts_call)\n",
    "count_events_users_contacts_show = events[events['user_id'].isin(users_contacts_show)]['event_name']\n",
    "\n",
    "count_events_users_contacts_show = count_events_users_contacts_show.isin(['search', 'photos_show', 'favorites_add', \n",
    "      'advert_open', 'tips_show', 'map', 'tips_click' ]).sum()\n",
    "\n",
    "count_events_users_contacts_show"
   ]
  },
  {
   "cell_type": "code",
   "execution_count": 69,
   "id": "27c015ea",
   "metadata": {},
   "outputs": [
    {
     "data": {
      "text/html": [
       "<div>\n",
       "<style scoped>\n",
       "    .dataframe tbody tr th:only-of-type {\n",
       "        vertical-align: middle;\n",
       "    }\n",
       "\n",
       "    .dataframe tbody tr th {\n",
       "        vertical-align: top;\n",
       "    }\n",
       "\n",
       "    .dataframe thead th {\n",
       "        text-align: right;\n",
       "    }\n",
       "</style>\n",
       "<table border=\"1\" class=\"dataframe\">\n",
       "  <thead>\n",
       "    <tr style=\"text-align: right;\">\n",
       "      <th></th>\n",
       "      <th>event_name</th>\n",
       "      <th>count</th>\n",
       "    </tr>\n",
       "  </thead>\n",
       "  <tbody>\n",
       "    <tr>\n",
       "      <th>0</th>\n",
       "      <td>tips_show</td>\n",
       "      <td>12768</td>\n",
       "    </tr>\n",
       "    <tr>\n",
       "      <th>1</th>\n",
       "      <td>contacts_show</td>\n",
       "      <td>4529</td>\n",
       "    </tr>\n",
       "    <tr>\n",
       "      <th>2</th>\n",
       "      <td>photos_show</td>\n",
       "      <td>3828</td>\n",
       "    </tr>\n",
       "    <tr>\n",
       "      <th>3</th>\n",
       "      <td>search</td>\n",
       "      <td>2084</td>\n",
       "    </tr>\n",
       "    <tr>\n",
       "      <th>4</th>\n",
       "      <td>advert_open</td>\n",
       "      <td>1589</td>\n",
       "    </tr>\n",
       "    <tr>\n",
       "      <th>5</th>\n",
       "      <td>map</td>\n",
       "      <td>1101</td>\n",
       "    </tr>\n",
       "    <tr>\n",
       "      <th>6</th>\n",
       "      <td>contacts_call</td>\n",
       "      <td>541</td>\n",
       "    </tr>\n",
       "    <tr>\n",
       "      <th>7</th>\n",
       "      <td>favorites_add</td>\n",
       "      <td>424</td>\n",
       "    </tr>\n",
       "    <tr>\n",
       "      <th>8</th>\n",
       "      <td>tips_click</td>\n",
       "      <td>333</td>\n",
       "    </tr>\n",
       "  </tbody>\n",
       "</table>\n",
       "</div>"
      ],
      "text/plain": [
       "      event_name  count\n",
       "0      tips_show  12768\n",
       "1  contacts_show   4529\n",
       "2    photos_show   3828\n",
       "3         search   2084\n",
       "4    advert_open   1589\n",
       "5            map   1101\n",
       "6  contacts_call    541\n",
       "7  favorites_add    424\n",
       "8     tips_click    333"
      ]
     },
     "execution_count": 69,
     "metadata": {},
     "output_type": "execute_result"
    }
   ],
   "source": [
    "events_users_contacts_show"
   ]
  },
  {
   "cell_type": "code",
   "execution_count": 70,
   "id": "b3e7177f",
   "metadata": {},
   "outputs": [
    {
     "data": {
      "text/html": [
       "<div>\n",
       "<style scoped>\n",
       "    .dataframe tbody tr th:only-of-type {\n",
       "        vertical-align: middle;\n",
       "    }\n",
       "\n",
       "    .dataframe tbody tr th {\n",
       "        vertical-align: top;\n",
       "    }\n",
       "\n",
       "    .dataframe thead th {\n",
       "        text-align: right;\n",
       "    }\n",
       "</style>\n",
       "<table border=\"1\" class=\"dataframe\">\n",
       "  <thead>\n",
       "    <tr style=\"text-align: right;\">\n",
       "      <th></th>\n",
       "      <th>event_name</th>\n",
       "      <th>count</th>\n",
       "      <th>event_rate, %</th>\n",
       "    </tr>\n",
       "  </thead>\n",
       "  <tbody>\n",
       "    <tr>\n",
       "      <th>0</th>\n",
       "      <td>tips_show</td>\n",
       "      <td>12768</td>\n",
       "      <td>57.70</td>\n",
       "    </tr>\n",
       "    <tr>\n",
       "      <th>1</th>\n",
       "      <td>contacts_show</td>\n",
       "      <td>4529</td>\n",
       "      <td>20.47</td>\n",
       "    </tr>\n",
       "    <tr>\n",
       "      <th>2</th>\n",
       "      <td>photos_show</td>\n",
       "      <td>3828</td>\n",
       "      <td>17.30</td>\n",
       "    </tr>\n",
       "    <tr>\n",
       "      <th>3</th>\n",
       "      <td>search</td>\n",
       "      <td>2084</td>\n",
       "      <td>9.42</td>\n",
       "    </tr>\n",
       "    <tr>\n",
       "      <th>4</th>\n",
       "      <td>advert_open</td>\n",
       "      <td>1589</td>\n",
       "      <td>7.18</td>\n",
       "    </tr>\n",
       "    <tr>\n",
       "      <th>5</th>\n",
       "      <td>map</td>\n",
       "      <td>1101</td>\n",
       "      <td>4.98</td>\n",
       "    </tr>\n",
       "    <tr>\n",
       "      <th>6</th>\n",
       "      <td>contacts_call</td>\n",
       "      <td>541</td>\n",
       "      <td>2.44</td>\n",
       "    </tr>\n",
       "    <tr>\n",
       "      <th>7</th>\n",
       "      <td>favorites_add</td>\n",
       "      <td>424</td>\n",
       "      <td>1.92</td>\n",
       "    </tr>\n",
       "    <tr>\n",
       "      <th>8</th>\n",
       "      <td>tips_click</td>\n",
       "      <td>333</td>\n",
       "      <td>1.50</td>\n",
       "    </tr>\n",
       "  </tbody>\n",
       "</table>\n",
       "</div>"
      ],
      "text/plain": [
       "      event_name  count  event_rate, %\n",
       "0      tips_show  12768          57.70\n",
       "1  contacts_show   4529          20.47\n",
       "2    photos_show   3828          17.30\n",
       "3         search   2084           9.42\n",
       "4    advert_open   1589           7.18\n",
       "5            map   1101           4.98\n",
       "6  contacts_call    541           2.44\n",
       "7  favorites_add    424           1.92\n",
       "8     tips_click    333           1.50"
      ]
     },
     "execution_count": 70,
     "metadata": {},
     "output_type": "execute_result"
    }
   ],
   "source": [
    "# расчитаем относительную частоту событий у пользователей, которые смотрели контакты\n",
    "events_users_contacts_show['event_rate, %'] = round((events_users_contacts_show['count'] \n",
    "                                                          / count_events_users_contacts_show) * 100, 2)\n",
    "\n",
    "events_users_contacts_show"
   ]
  },
  {
   "cell_type": "code",
   "execution_count": 71,
   "id": "82d51014",
   "metadata": {},
   "outputs": [
    {
     "data": {
      "text/html": [
       "<div>\n",
       "<style scoped>\n",
       "    .dataframe tbody tr th:only-of-type {\n",
       "        vertical-align: middle;\n",
       "    }\n",
       "\n",
       "    .dataframe tbody tr th {\n",
       "        vertical-align: top;\n",
       "    }\n",
       "\n",
       "    .dataframe thead th {\n",
       "        text-align: right;\n",
       "    }\n",
       "</style>\n",
       "<table border=\"1\" class=\"dataframe\">\n",
       "  <thead>\n",
       "    <tr style=\"text-align: right;\">\n",
       "      <th></th>\n",
       "      <th>event_name</th>\n",
       "      <th>count</th>\n",
       "    </tr>\n",
       "  </thead>\n",
       "  <tbody>\n",
       "    <tr>\n",
       "      <th>0</th>\n",
       "      <td>tips_show</td>\n",
       "      <td>27287</td>\n",
       "    </tr>\n",
       "    <tr>\n",
       "      <th>1</th>\n",
       "      <td>photos_show</td>\n",
       "      <td>6184</td>\n",
       "    </tr>\n",
       "    <tr>\n",
       "      <th>2</th>\n",
       "      <td>search</td>\n",
       "      <td>4700</td>\n",
       "    </tr>\n",
       "    <tr>\n",
       "      <th>3</th>\n",
       "      <td>advert_open</td>\n",
       "      <td>4575</td>\n",
       "    </tr>\n",
       "    <tr>\n",
       "      <th>4</th>\n",
       "      <td>map</td>\n",
       "      <td>2780</td>\n",
       "    </tr>\n",
       "    <tr>\n",
       "      <th>5</th>\n",
       "      <td>favorites_add</td>\n",
       "      <td>993</td>\n",
       "    </tr>\n",
       "    <tr>\n",
       "      <th>6</th>\n",
       "      <td>tips_click</td>\n",
       "      <td>481</td>\n",
       "    </tr>\n",
       "  </tbody>\n",
       "</table>\n",
       "</div>"
      ],
      "text/plain": [
       "      event_name  count\n",
       "0      tips_show  27287\n",
       "1    photos_show   6184\n",
       "2         search   4700\n",
       "3    advert_open   4575\n",
       "4            map   2780\n",
       "5  favorites_add    993\n",
       "6     tips_click    481"
      ]
     },
     "execution_count": 71,
     "metadata": {},
     "output_type": "execute_result"
    }
   ],
   "source": [
    "# события у пользователей которые не смотрели контакты\n",
    "events_users_not_contacts_show = events[events['user_id'].isin(users_not_contacts_show)]['event_name'].value_counts().reset_index()\n",
    "\n",
    "events_users_not_contacts_show.columns = ['event_name', 'count']\n",
    "events_users_not_contacts_show"
   ]
  },
  {
   "cell_type": "code",
   "execution_count": 72,
   "id": "f49e733d",
   "metadata": {},
   "outputs": [
    {
     "data": {
      "text/plain": [
       "47000"
      ]
     },
     "execution_count": 72,
     "metadata": {},
     "output_type": "execute_result"
    }
   ],
   "source": [
    "# общее количество событий у пользователей, которые не смотрели контакты\n",
    "count_events_users_not_contacts_show = events[events['user_id'].isin(users_not_contacts_show)]['event_name'].count()\n",
    "count_events_users_not_contacts_show"
   ]
  },
  {
   "cell_type": "code",
   "execution_count": 73,
   "id": "bcdc9a8f",
   "metadata": {},
   "outputs": [
    {
     "data": {
      "text/html": [
       "<div>\n",
       "<style scoped>\n",
       "    .dataframe tbody tr th:only-of-type {\n",
       "        vertical-align: middle;\n",
       "    }\n",
       "\n",
       "    .dataframe tbody tr th {\n",
       "        vertical-align: top;\n",
       "    }\n",
       "\n",
       "    .dataframe thead th {\n",
       "        text-align: right;\n",
       "    }\n",
       "</style>\n",
       "<table border=\"1\" class=\"dataframe\">\n",
       "  <thead>\n",
       "    <tr style=\"text-align: right;\">\n",
       "      <th></th>\n",
       "      <th>event_name</th>\n",
       "      <th>count</th>\n",
       "      <th>event_rate, %</th>\n",
       "    </tr>\n",
       "  </thead>\n",
       "  <tbody>\n",
       "    <tr>\n",
       "      <th>0</th>\n",
       "      <td>tips_show</td>\n",
       "      <td>27287</td>\n",
       "      <td>58.06</td>\n",
       "    </tr>\n",
       "    <tr>\n",
       "      <th>1</th>\n",
       "      <td>photos_show</td>\n",
       "      <td>6184</td>\n",
       "      <td>13.16</td>\n",
       "    </tr>\n",
       "    <tr>\n",
       "      <th>2</th>\n",
       "      <td>search</td>\n",
       "      <td>4700</td>\n",
       "      <td>10.00</td>\n",
       "    </tr>\n",
       "    <tr>\n",
       "      <th>3</th>\n",
       "      <td>advert_open</td>\n",
       "      <td>4575</td>\n",
       "      <td>9.73</td>\n",
       "    </tr>\n",
       "    <tr>\n",
       "      <th>4</th>\n",
       "      <td>map</td>\n",
       "      <td>2780</td>\n",
       "      <td>5.91</td>\n",
       "    </tr>\n",
       "    <tr>\n",
       "      <th>5</th>\n",
       "      <td>favorites_add</td>\n",
       "      <td>993</td>\n",
       "      <td>2.11</td>\n",
       "    </tr>\n",
       "    <tr>\n",
       "      <th>6</th>\n",
       "      <td>tips_click</td>\n",
       "      <td>481</td>\n",
       "      <td>1.02</td>\n",
       "    </tr>\n",
       "  </tbody>\n",
       "</table>\n",
       "</div>"
      ],
      "text/plain": [
       "      event_name  count  event_rate, %\n",
       "0      tips_show  27287          58.06\n",
       "1    photos_show   6184          13.16\n",
       "2         search   4700          10.00\n",
       "3    advert_open   4575           9.73\n",
       "4            map   2780           5.91\n",
       "5  favorites_add    993           2.11\n",
       "6     tips_click    481           1.02"
      ]
     },
     "execution_count": 73,
     "metadata": {},
     "output_type": "execute_result"
    }
   ],
   "source": [
    "# расчитаем относительную частоту событий у пользователей, которые не смотрели контакты\n",
    "events_users_not_contacts_show['event_rate, %'] = round((events_users_not_contacts_show['count'] \n",
    "                                                          / count_events_users_not_contacts_show) * 100, 2)\n",
    "\n",
    "events_users_not_contacts_show"
   ]
  },
  {
   "cell_type": "code",
   "execution_count": 74,
   "id": "c8a2e3a0",
   "metadata": {},
   "outputs": [
    {
     "name": "stdout",
     "output_type": "stream",
     "text": [
      "\u001b[1mОтносительная частота событий в разрезе двух групп пользователей\u001b[0m\n",
      "\n",
      "\u001b[1m   Смотрели контакты                   Не смотрели контакты\u001b[0m\n"
     ]
    },
    {
     "data": {
      "text/html": [
       "<div>\n",
       "<style scoped>\n",
       "    .dataframe tbody tr th:only-of-type {\n",
       "        vertical-align: middle;\n",
       "    }\n",
       "\n",
       "    .dataframe tbody tr th {\n",
       "        vertical-align: top;\n",
       "    }\n",
       "\n",
       "    .dataframe thead th {\n",
       "        text-align: right;\n",
       "    }\n",
       "</style>\n",
       "<table border=\"1\" class=\"dataframe\">\n",
       "  <thead>\n",
       "    <tr style=\"text-align: right;\">\n",
       "      <th></th>\n",
       "      <th>event_name</th>\n",
       "      <th>count_x</th>\n",
       "      <th>event_rate, %_x</th>\n",
       "      <th>count_y</th>\n",
       "      <th>event_rate, %_y</th>\n",
       "    </tr>\n",
       "  </thead>\n",
       "  <tbody>\n",
       "    <tr>\n",
       "      <th>0</th>\n",
       "      <td>tips_show</td>\n",
       "      <td>12768</td>\n",
       "      <td>57.70</td>\n",
       "      <td>27287.0</td>\n",
       "      <td>58.06</td>\n",
       "    </tr>\n",
       "    <tr>\n",
       "      <th>1</th>\n",
       "      <td>contacts_show</td>\n",
       "      <td>4529</td>\n",
       "      <td>20.47</td>\n",
       "      <td>NaN</td>\n",
       "      <td>NaN</td>\n",
       "    </tr>\n",
       "    <tr>\n",
       "      <th>2</th>\n",
       "      <td>photos_show</td>\n",
       "      <td>3828</td>\n",
       "      <td>17.30</td>\n",
       "      <td>6184.0</td>\n",
       "      <td>13.16</td>\n",
       "    </tr>\n",
       "    <tr>\n",
       "      <th>3</th>\n",
       "      <td>search</td>\n",
       "      <td>2084</td>\n",
       "      <td>9.42</td>\n",
       "      <td>4700.0</td>\n",
       "      <td>10.00</td>\n",
       "    </tr>\n",
       "    <tr>\n",
       "      <th>4</th>\n",
       "      <td>advert_open</td>\n",
       "      <td>1589</td>\n",
       "      <td>7.18</td>\n",
       "      <td>4575.0</td>\n",
       "      <td>9.73</td>\n",
       "    </tr>\n",
       "    <tr>\n",
       "      <th>5</th>\n",
       "      <td>map</td>\n",
       "      <td>1101</td>\n",
       "      <td>4.98</td>\n",
       "      <td>2780.0</td>\n",
       "      <td>5.91</td>\n",
       "    </tr>\n",
       "    <tr>\n",
       "      <th>6</th>\n",
       "      <td>contacts_call</td>\n",
       "      <td>541</td>\n",
       "      <td>2.44</td>\n",
       "      <td>NaN</td>\n",
       "      <td>NaN</td>\n",
       "    </tr>\n",
       "    <tr>\n",
       "      <th>7</th>\n",
       "      <td>favorites_add</td>\n",
       "      <td>424</td>\n",
       "      <td>1.92</td>\n",
       "      <td>993.0</td>\n",
       "      <td>2.11</td>\n",
       "    </tr>\n",
       "    <tr>\n",
       "      <th>8</th>\n",
       "      <td>tips_click</td>\n",
       "      <td>333</td>\n",
       "      <td>1.50</td>\n",
       "      <td>481.0</td>\n",
       "      <td>1.02</td>\n",
       "    </tr>\n",
       "  </tbody>\n",
       "</table>\n",
       "</div>"
      ],
      "text/plain": [
       "      event_name  count_x  event_rate, %_x  count_y  event_rate, %_y\n",
       "0      tips_show    12768            57.70  27287.0            58.06\n",
       "1  contacts_show     4529            20.47      NaN              NaN\n",
       "2    photos_show     3828            17.30   6184.0            13.16\n",
       "3         search     2084             9.42   4700.0            10.00\n",
       "4    advert_open     1589             7.18   4575.0             9.73\n",
       "5            map     1101             4.98   2780.0             5.91\n",
       "6  contacts_call      541             2.44      NaN              NaN\n",
       "7  favorites_add      424             1.92    993.0             2.11\n",
       "8     tips_click      333             1.50    481.0             1.02"
      ]
     },
     "execution_count": 74,
     "metadata": {},
     "output_type": "execute_result"
    }
   ],
   "source": [
    "# объединение таблиц с сохранением всех строк из первого датафрейма\n",
    "relative_event_frequency = pd.merge(events_users_contacts_show, events_users_not_contacts_show, on='event_name', how='left')\n",
    "\n",
    "print('\\033[1m' + 'Относительная частота событий в разрезе двух групп пользователей' + '\\033[0m')\n",
    "print()\n",
    "print('\\033[1m' + '   Смотрели контакты                   Не смотрели контакты' + '\\033[0m')\n",
    "relative_event_frequency"
   ]
  },
  {
   "cell_type": "markdown",
   "id": "4db18de2",
   "metadata": {},
   "source": [
    "#### 2.4.1. Выводы по расчету относительной частоты событий в разрезе двух групп пользователей\n",
    "\n",
    "Пользователи, которые смотрели контакты, делали существенно больше действий:\n",
    "- `photos_show` (ранее было замечено, что у сценария `photos_show - contacts_show` относительно высокая конверсия, это плюс к выдвинутой гипотезе); \n",
    "- и `tips_click`\t\n",
    "\n"
   ]
  },
  {
   "cell_type": "markdown",
   "id": "c1a9f1df",
   "metadata": {},
   "source": [
    "## 2.5. Проверка гипотез"
   ]
  },
  {
   "cell_type": "markdown",
   "id": "6713cfe6",
   "metadata": {},
   "source": [
    "#### Гипотеза № 1\n",
    "Одни пользователи совершают действия `tips_show и tips_click`, другие только `tips_show`. Гипотеза: конверсия в просмотры контактов различается у этих групп.\n",
    "\n",
    "\n",
    "Но: конверсия в просмотры контактов у этих групп не отличается.\n",
    "\n",
    "Н1: конверсия в просмотры контактов у этих групп отличается."
   ]
  },
  {
   "cell_type": "markdown",
   "id": "767dc8c4",
   "metadata": {},
   "source": [
    "Пользователи, которые совершают действия `tips_show и tips_click`"
   ]
  },
  {
   "cell_type": "code",
   "execution_count": 75,
   "id": "51fa369a",
   "metadata": {},
   "outputs": [
    {
     "data": {
      "text/plain": [
       "2801"
      ]
     },
     "execution_count": 75,
     "metadata": {},
     "output_type": "execute_result"
    }
   ],
   "source": [
    "# пользователи, которые совершили tips_show\n",
    "users_tips_show = events[events['event_name'] == 'tips_show']['user_id']\n",
    "users_tips_show.nunique()"
   ]
  },
  {
   "cell_type": "code",
   "execution_count": 76,
   "id": "68c1c19b",
   "metadata": {},
   "outputs": [
    {
     "data": {
      "text/plain": [
       "297"
      ]
     },
     "execution_count": 76,
     "metadata": {},
     "output_type": "execute_result"
    }
   ],
   "source": [
    "# пользователи, которые совершили tips_show и после этого совершили tips_click\n",
    "users_tips_show_tips_click = (events[(events['event_name'] == 'tips_click')\n",
    "                                     & (events['user_id'].isin(users_tips_show))]['user_id'])\n",
    "users_tips_show_tips_click.nunique()"
   ]
  },
  {
   "cell_type": "code",
   "execution_count": 77,
   "id": "dd30d8f1",
   "metadata": {
    "scrolled": true
   },
   "outputs": [
    {
     "data": {
      "text/plain": [
       "91"
      ]
     },
     "execution_count": 77,
     "metadata": {},
     "output_type": "execute_result"
    }
   ],
   "source": [
    "# пользователи, которые совершили tips_show, tips_click и contacts_show\n",
    "users_tips_show_tips_click_contacts_show = (events[(events['event_name'] == 'contacts_show')\n",
    "                                     & (events['user_id'].isin(users_tips_show_tips_click))]['user_id'])\n",
    "\n",
    "users_tips_show_tips_click_contacts_show.nunique()"
   ]
  },
  {
   "cell_type": "code",
   "execution_count": 78,
   "id": "e10ce3df",
   "metadata": {},
   "outputs": [
    {
     "data": {
      "text/plain": [
       "0.31"
      ]
     },
     "execution_count": 78,
     "metadata": {},
     "output_type": "execute_result"
    }
   ],
   "source": [
    "# конверсия в contacts_show\n",
    "round(users_tips_show_tips_click_contacts_show.nunique() / users_tips_show_tips_click.nunique(), 2)"
   ]
  },
  {
   "cell_type": "markdown",
   "id": "d280733c",
   "metadata": {},
   "source": [
    "Пользователи, которые совершают действия `tips_show`, но не совершают `tips_click`"
   ]
  },
  {
   "cell_type": "code",
   "execution_count": 79,
   "id": "a542b245",
   "metadata": {},
   "outputs": [
    {
     "data": {
      "text/plain": [
       "322"
      ]
     },
     "execution_count": 79,
     "metadata": {},
     "output_type": "execute_result"
    }
   ],
   "source": [
    "# пользователи, которые совершили tips_click\n",
    "users_tips_click = events[events['event_name'] == 'tips_click']['user_id']\n",
    "users_tips_click.nunique()"
   ]
  },
  {
   "cell_type": "code",
   "execution_count": 80,
   "id": "d4e41798",
   "metadata": {},
   "outputs": [
    {
     "data": {
      "text/plain": [
       "2504"
      ]
     },
     "execution_count": 80,
     "metadata": {},
     "output_type": "execute_result"
    }
   ],
   "source": [
    "# пользователи, которые совершили tips_show и не совершили tips_click\n",
    "users_tips_show_not_tips_click = (events[(events['event_name'] == 'tips_show')\n",
    "                        & (~events['user_id'].isin(users_tips_click))]['user_id'])\n",
    "\n",
    "users_tips_show_not_tips_click.nunique()"
   ]
  },
  {
   "cell_type": "code",
   "execution_count": 81,
   "id": "db018ca6",
   "metadata": {},
   "outputs": [
    {
     "data": {
      "text/plain": [
       "425"
      ]
     },
     "execution_count": 81,
     "metadata": {},
     "output_type": "execute_result"
    }
   ],
   "source": [
    "# пользователи, которые совершили tips_show, не совершили tips_click и совершили contacts_show\n",
    "users_tips_show_not_tips_click_contacts_show = (events[(events['event_name'] == 'contacts_show')\n",
    "                        & (events['user_id'].isin(users_tips_show_not_tips_click))]['user_id'])\n",
    "\n",
    "users_tips_show_not_tips_click_contacts_show.nunique()"
   ]
  },
  {
   "cell_type": "code",
   "execution_count": 82,
   "id": "b1cd4ef4",
   "metadata": {},
   "outputs": [
    {
     "data": {
      "text/plain": [
       "0.17"
      ]
     },
     "execution_count": 82,
     "metadata": {},
     "output_type": "execute_result"
    }
   ],
   "source": [
    "# конверсия в contacts_show\n",
    "round(users_tips_show_not_tips_click_contacts_show.nunique() / users_tips_show_not_tips_click.nunique(), 2)"
   ]
  },
  {
   "cell_type": "code",
   "execution_count": 83,
   "id": "62cfb338",
   "metadata": {},
   "outputs": [
    {
     "name": "stdout",
     "output_type": "stream",
     "text": [
      "Z-статистика: 4.919371422258935\n",
      "P-значение: 8.682257939263138e-07\n",
      "Нулевая гипотеза отвергается\n"
     ]
    }
   ],
   "source": [
    "# проверка гипотез\n",
    "import math\n",
    "from scipy.stats import norm\n",
    "\n",
    "p = 0.01 # уровень значимости\n",
    "\n",
    "# данные для группы 1\n",
    "n1 = users_tips_show_tips_click.nunique()  # Общее количество наблюдений\n",
    "x1 = users_tips_show_tips_click_contacts_show.nunique()  # Количество успехов (просмотры контактов)\n",
    "\n",
    "# данные для группы 2\n",
    "n2 = users_tips_show_not_tips_click.nunique()  # Общее количество наблюдений\n",
    "x2 = users_tips_show_not_tips_click_contacts_show.nunique()  # Количество успехов (просмотры контактов)\n",
    "\n",
    "# рассчитываем конверсии в просмотры контактов для каждой группы\n",
    "p1 = x1 / n1\n",
    "p2 = x2 / n2\n",
    "\n",
    "# рассчитываем стандартную ошибку для разности долей\n",
    "se = math.sqrt((p1 * (1 - p1) / n1) + (p2 * (1 - p2) / n2))\n",
    "\n",
    "# рассчитываем z-статистику\n",
    "z = (p1 - p2) / se\n",
    "\n",
    "# рассчитываем p-значение\n",
    "p_value = 2 * (1 - norm.cdf(abs(z)))\n",
    "\n",
    "print(\"Z-статистика:\", z)\n",
    "print(\"P-значение:\", p_value)\n",
    "\n",
    "if p_value < p:\n",
    "    print('Нулевая гипотеза отвергается')\n",
    "else:   \n",
    "    print('Нулевая гипотеза не отвергается')    "
   ]
  },
  {
   "cell_type": "markdown",
   "id": "1dafbff1",
   "metadata": {},
   "source": [
    "#### Вывод\n",
    "Нулевая гипотеза отвергается. Конверсия в просмотры контактов различается у этих групп."
   ]
  },
  {
   "cell_type": "markdown",
   "id": "18920d93",
   "metadata": {},
   "source": [
    "#### Гипотеза № 2\n",
    "Одни пользователи совершают действия `tips_show`, другие `search`. Гипотеза: конверсия в просмотры контактов различается у этих групп.\n",
    "\n",
    "\n",
    "Но: конверсия в просмотры контактов у этих групп не отличается.\n",
    "\n",
    "Н1: конверсия в просмотры контактов у этих групп отличается."
   ]
  },
  {
   "cell_type": "markdown",
   "id": "6b9ecd29",
   "metadata": {},
   "source": [
    "Пользователи, которые совершают действия `tips_show`"
   ]
  },
  {
   "cell_type": "code",
   "execution_count": 84,
   "id": "8538a88b",
   "metadata": {},
   "outputs": [
    {
     "data": {
      "text/plain": [
       "2801"
      ]
     },
     "execution_count": 84,
     "metadata": {},
     "output_type": "execute_result"
    }
   ],
   "source": [
    "# пользователи, которые совершили tips_show\n",
    "users_tips_show = events[events['event_name'] == 'tips_show']['user_id']\n",
    "users_tips_show.nunique()"
   ]
  },
  {
   "cell_type": "markdown",
   "id": "2a2eceb3",
   "metadata": {},
   "source": [
    "Пользователи, которые совершают действия `search` "
   ]
  },
  {
   "cell_type": "code",
   "execution_count": 85,
   "id": "e90ffe51",
   "metadata": {},
   "outputs": [
    {
     "data": {
      "text/plain": [
       "1666"
      ]
     },
     "execution_count": 85,
     "metadata": {},
     "output_type": "execute_result"
    }
   ],
   "source": [
    "# пользователи, которые совершили search\n",
    "users_search = events[events['event_name'] == 'search']['user_id']\n",
    "users_search.nunique()"
   ]
  },
  {
   "cell_type": "markdown",
   "id": "479a85fb",
   "metadata": {},
   "source": [
    "**Первая группа.** Пользователи, которые совершили tips_show и не совершали search."
   ]
  },
  {
   "cell_type": "code",
   "execution_count": 86,
   "id": "e208ee74",
   "metadata": {},
   "outputs": [
    {
     "data": {
      "text/plain": [
       "2000"
      ]
     },
     "execution_count": 86,
     "metadata": {},
     "output_type": "execute_result"
    }
   ],
   "source": [
    "# пользователи, которые совершили tips_show и не совершали search \n",
    "users_tips_show_not_search = (events[(events['event_name'] == 'tips_show')                                    \n",
    "                                      & (~events['user_id'].isin(users_search))]['user_id'])\n",
    "\n",
    "users_tips_show_not_search.nunique()"
   ]
  },
  {
   "cell_type": "code",
   "execution_count": 87,
   "id": "a6bb0a0f",
   "metadata": {},
   "outputs": [
    {
     "data": {
      "text/plain": [
       "377"
      ]
     },
     "execution_count": 87,
     "metadata": {},
     "output_type": "execute_result"
    }
   ],
   "source": [
    "# пользователи, которые совершили tips_show, не совершали search и совершили contacts_show\n",
    "users_tips_show_not_search_contacts_show = (events[(events['event_name'] == 'contacts_show')\n",
    "                                      & (events['user_id'].isin(users_tips_show))\n",
    "                                      & (~events['user_id'].isin(users_search))]['user_id'])\n",
    "\n",
    "users_tips_show_not_search_contacts_show.nunique()"
   ]
  },
  {
   "cell_type": "code",
   "execution_count": 88,
   "id": "0981baad",
   "metadata": {},
   "outputs": [
    {
     "data": {
      "text/plain": [
       "0.19"
      ]
     },
     "execution_count": 88,
     "metadata": {},
     "output_type": "execute_result"
    }
   ],
   "source": [
    "# конверсия в contacts_show\n",
    "round(users_tips_show_not_search_contacts_show.nunique() / users_tips_show_not_search.nunique(), 2)"
   ]
  },
  {
   "cell_type": "markdown",
   "id": "c280825b",
   "metadata": {},
   "source": [
    "**Вторая группа.** Пользователи, которые совершили search  и не совершали tips_show ."
   ]
  },
  {
   "cell_type": "code",
   "execution_count": 89,
   "id": "794fbf6c",
   "metadata": {},
   "outputs": [
    {
     "data": {
      "text/plain": [
       "865"
      ]
     },
     "execution_count": 89,
     "metadata": {},
     "output_type": "execute_result"
    }
   ],
   "source": [
    "# пользователи, которые совершили search и не совершали tips_show \n",
    "users_search_not_tips_show = (events[(events['event_name'] == 'search')                                    \n",
    "                                      & (~events['user_id'].isin(users_tips_show))]['user_id'])\n",
    "\n",
    "users_search_not_tips_show.nunique()"
   ]
  },
  {
   "cell_type": "code",
   "execution_count": 90,
   "id": "977efe17",
   "metadata": {},
   "outputs": [
    {
     "data": {
      "text/plain": [
       "238"
      ]
     },
     "execution_count": 90,
     "metadata": {},
     "output_type": "execute_result"
    }
   ],
   "source": [
    "# пользователи, которые совершили search, не совершали tips_show и совершили contacts_show\n",
    "users_search_not_tips_show_contacts_show = (events[(events['event_name'] == 'contacts_show')\n",
    "                                      & (~events['user_id'].isin(users_tips_show))\n",
    "                                      & (events['user_id'].isin(users_search))]['user_id'])\n",
    "\n",
    "users_search_not_tips_show_contacts_show.nunique()"
   ]
  },
  {
   "cell_type": "code",
   "execution_count": 91,
   "id": "b404091e",
   "metadata": {},
   "outputs": [
    {
     "data": {
      "text/plain": [
       "0.28"
      ]
     },
     "execution_count": 91,
     "metadata": {},
     "output_type": "execute_result"
    }
   ],
   "source": [
    "# конверсия в contacts_show\n",
    "round(users_search_not_tips_show_contacts_show.nunique() / users_search_not_tips_show.nunique(), 2)"
   ]
  },
  {
   "cell_type": "code",
   "execution_count": 92,
   "id": "724bfa03",
   "metadata": {},
   "outputs": [
    {
     "name": "stdout",
     "output_type": "stream",
     "text": [
      "Z-статистика: -4.944657776411038\n",
      "P-значение: 7.627774287755074e-07\n",
      "Нулевая гипотеза отвергается\n"
     ]
    }
   ],
   "source": [
    "# проверка гипотез\n",
    "import math\n",
    "from scipy.stats import norm\n",
    "\n",
    "p = 0.01 # уровень значимости\n",
    "\n",
    "# данные для группы 1\n",
    "n1 = users_tips_show_not_search.nunique() # Общее количество наблюдений\n",
    "x1 = users_tips_show_not_search_contacts_show.nunique()  # Количество успехов (просмотры контактов)\n",
    "\n",
    "# данные для группы 2\n",
    "n2 = users_search_not_tips_show.nunique()  # Общее количество наблюдений\n",
    "x2 = users_search_not_tips_show_contacts_show.nunique() # Количество успехов (просмотры контактов)\n",
    "\n",
    "# рассчитываем конверсии в просмотры контактов для каждой группы\n",
    "p1 = x1 / n1\n",
    "p2 = x2 / n2\n",
    "\n",
    "# рассчитываем стандартную ошибку для разности долей\n",
    "se = math.sqrt((p1 * (1 - p1) / n1) + (p2 * (1 - p2) / n2))\n",
    "\n",
    "# рассчитываем z-статистику\n",
    "z = (p1 - p2) / se\n",
    "\n",
    "# рассчитываем p-значение\n",
    "p_value = 2 * (1 - norm.cdf(abs(z)))\n",
    "\n",
    "print(\"Z-статистика:\", z)\n",
    "print(\"P-значение:\", p_value)\n",
    "\n",
    "if p_value < p:\n",
    "    print('Нулевая гипотеза отвергается')\n",
    "else:   \n",
    "    print('Нулевая гипотеза не отвергается')  "
   ]
  },
  {
   "cell_type": "markdown",
   "id": "83cb8e7a",
   "metadata": {},
   "source": [
    "#### Вывод\n",
    "Нулевая гипотеза отвергается. Конверсия в просмотры контактов различается у этих групп."
   ]
  },
  {
   "cell_type": "markdown",
   "id": "37ba7e18",
   "metadata": {},
   "source": [
    "## Выводы и рекомендации\n",
    "\n",
    "В процессе исследования было выполнено следующее.\n",
    "\n",
    "**Загружены данные и выполнена их предобработка.**\n",
    "\n",
    "В результате предобработки данных было выполнено:\n",
    "1. Названия столбцов были приведены к \"питоновскому\" стилю.\n",
    "2. Тип данных в столбце `event_time` был изменен на тип `дата`.\n",
    "3. Общая информация о данных показала отсутсвие пропущеных данных.\n",
    "4. Проведена проверка на дубликаты.\n",
    "5. Объединены данные, которые означают одно и тоже действие пользователя `show_contacts` и `contacts_show`. Объединены даные по семи видам поиска в одно действие пользователя - поиск.\n",
    "\n",
    "**Найдены наиболее частые типовые сценарии действий пользователя, приводящие к целевому действию `contacts_show`**\n",
    "\n",
    "9 наиболее частых типовых сценариев, общее количество:\n",
    "- `['tips_show', 'contacts_show']`  -  449\n",
    "- `['search', 'contacts_show']`  -  147\n",
    "- `['photos_show', 'contacts_show']`  -  138\n",
    "- `['map', 'tips_show', 'contacts_show']`  -  97\n",
    "- `['search', 'photos_show', 'contacts_show']`  -  54\n",
    "- `['search', 'tips_show', 'contacts_show']`  -  38\n",
    "- `['map', 'contacts_show']`  -  35\n",
    "- `['tips_show', 'map', 'contacts_show']`  -  29\n",
    "- `['tips_show', 'tips_click', 'contacts_show']`  -  20\n",
    "\n",
    "3 первых сценария составляют: 73.0 % от общего количества сценариев\n",
    "\n",
    "**Построены воронки по основным сценариям поведений пользователей**\n",
    "\n",
    "Сценарии, которые дают больше всего целевых действий и их конверсия:\n",
    "- сценарии в 2 шага: \n",
    "    - tips_show - contacts_show, коверсия 9,5%\n",
    "    - search - contacts_show, конверсия 8,6%\n",
    "    - photos_chow - contacts_show, конверсия 12% \n",
    "    \n",
    "- сценарии в 3 шага: \n",
    "    - map - tips_show - contacts_show, конверсия 7,3%\n",
    "    - search - photos_chow - contacts_show, конверсия 3,2%\n",
    "    \n",
    "**Рекомендации**\n",
    "\n",
    "Конверсия по сценарию `[photos_show, contacts_show]` существенно больше, чем по двум предыдущим более популярным сценариям. Следует рассмотреть гипотезу, что просмотр фото повышает конверсию. Целесообразно изменить дизайн приложения, с тем чтобы направить большее количество пользователей по этому пути. Предварительно провести А/Б-тестирование. \n",
    "\n",
    "\n",
    "Среди сценариев в 3 шага относительно высокой конверсией выделяется сценарий `[map, tips_show, contacts_show]`. Это тоже целесообразно учесть при работе с дизайном приложения.\t\n",
    "\n",
    "\n",
    "**Построена диаграмма Санкея**\n",
    "\n",
    "По диаграмме Санкея сценарии, которые дают больше всего целевых действий, следующие:\n",
    "- сценарии в 2 шага: \n",
    "    - tips_show - contacts_show, \n",
    "    - photos_chow - contacts_show, \n",
    "    - search - contacts_show.\n",
    "- сценарии в 3 шага: \n",
    "    - map - tips_show - contacts_show, \n",
    "    - search - photos_chow - contacts_show\n",
    "\n",
    "По диаграмме Санкея, самая высокая конверсия в сценарии `photos_chow - contacts_show`, она составляет 37,2%.\n",
    "\n",
    "\n",
    "**Выполнен расчет относительной частоты событий в разрезе двух групп пользователей - пользователей, которые смотрели контакты, и пользователей, которые не смотрели контакты.**\n",
    "\n",
    "Пользователи, которые смотрели контакты, делали существенно больше действий:\n",
    "- `photos_show` (ранее было замечено, что у сценария `photos_show - contacts_show` высокая конверсия); \n",
    "- и `tips_click`\t\n",
    "\n",
    "**Проведена проверка гипотез**\n",
    "\n",
    "Гипотеза № 1.\n",
    "\n",
    "Одни пользователи совершают действия `tips_show и tips_click`, другие только `tips_show`. Гипотеза: конверсия в просмотры контактов различается у этих групп.\n",
    "\n",
    "Проверка показала, конверсия в просмотры контактов у этих групп имеет статистически значимые отличия.\n",
    "\n",
    "Гипотеза № 2\n",
    "\n",
    "Одни пользователи совершают действия `tips_show`, другие `search`. Гипотеза: конверсия в просмотры контактов различается у этих групп.\n",
    "\n",
    "Проверка показала, конверсия в просмотры контактов у этих групп имеет статистически значимые отличия."
   ]
  }
 ],
 "metadata": {
  "ExecuteTimeLog": [
   {
    "duration": 1286,
    "start_time": "2024-02-20T04:47:35.004Z"
   },
   {
    "duration": 107,
    "start_time": "2024-02-20T04:47:36.292Z"
   },
   {
    "duration": 260,
    "start_time": "2024-02-20T04:47:36.401Z"
   },
   {
    "duration": 3,
    "start_time": "2024-02-20T04:47:36.663Z"
   },
   {
    "duration": 6,
    "start_time": "2024-02-20T04:47:36.668Z"
   },
   {
    "duration": 18,
    "start_time": "2024-02-20T04:47:36.675Z"
   },
   {
    "duration": 26,
    "start_time": "2024-02-20T04:47:36.694Z"
   },
   {
    "duration": 21,
    "start_time": "2024-02-20T04:47:36.722Z"
   },
   {
    "duration": 5,
    "start_time": "2024-02-20T04:47:36.744Z"
   },
   {
    "duration": 21,
    "start_time": "2024-02-20T04:47:36.764Z"
   },
   {
    "duration": 6,
    "start_time": "2024-02-20T04:47:36.786Z"
   },
   {
    "duration": 12,
    "start_time": "2024-02-20T04:47:36.793Z"
   },
   {
    "duration": 9,
    "start_time": "2024-02-20T04:47:36.806Z"
   },
   {
    "duration": 19,
    "start_time": "2024-02-20T04:47:36.816Z"
   },
   {
    "duration": 33,
    "start_time": "2024-02-20T04:47:36.836Z"
   },
   {
    "duration": 5,
    "start_time": "2024-02-20T04:47:36.870Z"
   },
   {
    "duration": 4,
    "start_time": "2024-02-20T04:47:36.876Z"
   },
   {
    "duration": 40,
    "start_time": "2024-02-20T04:47:36.882Z"
   },
   {
    "duration": 729,
    "start_time": "2024-02-20T04:47:36.924Z"
   },
   {
    "duration": 29,
    "start_time": "2024-02-20T04:47:37.654Z"
   },
   {
    "duration": 2,
    "start_time": "2024-02-20T04:47:37.685Z"
   },
   {
    "duration": 16,
    "start_time": "2024-02-20T04:47:37.689Z"
   },
   {
    "duration": 11,
    "start_time": "2024-02-20T04:47:37.707Z"
   },
   {
    "duration": 6,
    "start_time": "2024-02-20T04:47:37.719Z"
   },
   {
    "duration": 96,
    "start_time": "2024-02-20T04:47:37.726Z"
   },
   {
    "duration": 23,
    "start_time": "2024-02-20T04:47:37.824Z"
   },
   {
    "duration": 1286,
    "start_time": "2024-02-20T04:47:37.848Z"
   },
   {
    "duration": 0,
    "start_time": "2024-02-20T04:47:39.137Z"
   },
   {
    "duration": 0,
    "start_time": "2024-02-20T04:47:39.139Z"
   },
   {
    "duration": 0,
    "start_time": "2024-02-20T04:47:39.140Z"
   },
   {
    "duration": 0,
    "start_time": "2024-02-20T04:47:39.141Z"
   },
   {
    "duration": 0,
    "start_time": "2024-02-20T04:47:39.142Z"
   },
   {
    "duration": 1,
    "start_time": "2024-02-20T04:47:39.143Z"
   },
   {
    "duration": 0,
    "start_time": "2024-02-20T04:47:39.144Z"
   },
   {
    "duration": 0,
    "start_time": "2024-02-20T04:47:39.145Z"
   },
   {
    "duration": 0,
    "start_time": "2024-02-20T04:47:39.147Z"
   },
   {
    "duration": 0,
    "start_time": "2024-02-20T04:47:39.148Z"
   },
   {
    "duration": 0,
    "start_time": "2024-02-20T04:47:39.149Z"
   },
   {
    "duration": 0,
    "start_time": "2024-02-20T04:47:39.150Z"
   },
   {
    "duration": 0,
    "start_time": "2024-02-20T04:47:39.151Z"
   },
   {
    "duration": 0,
    "start_time": "2024-02-20T04:47:39.153Z"
   },
   {
    "duration": 0,
    "start_time": "2024-02-20T04:47:39.154Z"
   },
   {
    "duration": 0,
    "start_time": "2024-02-20T04:47:39.155Z"
   },
   {
    "duration": 0,
    "start_time": "2024-02-20T04:47:39.156Z"
   },
   {
    "duration": 0,
    "start_time": "2024-02-20T04:47:39.157Z"
   },
   {
    "duration": 0,
    "start_time": "2024-02-20T04:47:39.158Z"
   },
   {
    "duration": 0,
    "start_time": "2024-02-20T04:47:39.159Z"
   },
   {
    "duration": 0,
    "start_time": "2024-02-20T04:47:39.160Z"
   },
   {
    "duration": 0,
    "start_time": "2024-02-20T04:47:39.161Z"
   },
   {
    "duration": 0,
    "start_time": "2024-02-20T04:47:39.162Z"
   },
   {
    "duration": 0,
    "start_time": "2024-02-20T04:47:39.163Z"
   },
   {
    "duration": 0,
    "start_time": "2024-02-20T04:47:39.164Z"
   },
   {
    "duration": 0,
    "start_time": "2024-02-20T04:47:39.166Z"
   },
   {
    "duration": 0,
    "start_time": "2024-02-20T04:47:39.167Z"
   },
   {
    "duration": 0,
    "start_time": "2024-02-20T04:47:39.168Z"
   },
   {
    "duration": 0,
    "start_time": "2024-02-20T04:47:39.169Z"
   },
   {
    "duration": 0,
    "start_time": "2024-02-20T04:47:39.170Z"
   },
   {
    "duration": 0,
    "start_time": "2024-02-20T04:47:39.171Z"
   },
   {
    "duration": 0,
    "start_time": "2024-02-20T04:47:39.172Z"
   },
   {
    "duration": 0,
    "start_time": "2024-02-20T04:47:39.173Z"
   },
   {
    "duration": 0,
    "start_time": "2024-02-20T04:47:39.174Z"
   },
   {
    "duration": 0,
    "start_time": "2024-02-20T04:47:39.175Z"
   },
   {
    "duration": 0,
    "start_time": "2024-02-20T04:47:39.176Z"
   },
   {
    "duration": 0,
    "start_time": "2024-02-20T04:47:39.177Z"
   },
   {
    "duration": 0,
    "start_time": "2024-02-20T04:47:39.177Z"
   },
   {
    "duration": 0,
    "start_time": "2024-02-20T04:47:39.178Z"
   },
   {
    "duration": 0,
    "start_time": "2024-02-20T04:47:39.179Z"
   },
   {
    "duration": 0,
    "start_time": "2024-02-20T04:47:39.180Z"
   },
   {
    "duration": 0,
    "start_time": "2024-02-20T04:47:39.182Z"
   },
   {
    "duration": 0,
    "start_time": "2024-02-20T04:47:39.183Z"
   },
   {
    "duration": 0,
    "start_time": "2024-02-20T04:47:39.184Z"
   },
   {
    "duration": 0,
    "start_time": "2024-02-20T04:47:39.185Z"
   },
   {
    "duration": 0,
    "start_time": "2024-02-20T04:47:39.186Z"
   },
   {
    "duration": 0,
    "start_time": "2024-02-20T04:47:39.187Z"
   },
   {
    "duration": 0,
    "start_time": "2024-02-20T04:47:39.188Z"
   },
   {
    "duration": 0,
    "start_time": "2024-02-20T04:47:39.188Z"
   },
   {
    "duration": 0,
    "start_time": "2024-02-20T04:47:39.190Z"
   },
   {
    "duration": 0,
    "start_time": "2024-02-20T04:47:39.190Z"
   },
   {
    "duration": 0,
    "start_time": "2024-02-20T04:47:39.191Z"
   },
   {
    "duration": 1325,
    "start_time": "2024-02-21T03:39:18.966Z"
   },
   {
    "duration": 92,
    "start_time": "2024-02-21T03:39:20.293Z"
   },
   {
    "duration": 250,
    "start_time": "2024-02-21T03:39:20.386Z"
   },
   {
    "duration": 3,
    "start_time": "2024-02-21T03:39:20.638Z"
   },
   {
    "duration": 14,
    "start_time": "2024-02-21T03:39:20.642Z"
   },
   {
    "duration": 24,
    "start_time": "2024-02-21T03:39:20.657Z"
   },
   {
    "duration": 29,
    "start_time": "2024-02-21T03:39:20.683Z"
   },
   {
    "duration": 23,
    "start_time": "2024-02-21T03:39:20.713Z"
   },
   {
    "duration": 13,
    "start_time": "2024-02-21T03:39:20.737Z"
   },
   {
    "duration": 28,
    "start_time": "2024-02-21T03:39:20.752Z"
   },
   {
    "duration": 5,
    "start_time": "2024-02-21T03:39:20.781Z"
   },
   {
    "duration": 17,
    "start_time": "2024-02-21T03:39:20.788Z"
   },
   {
    "duration": 37,
    "start_time": "2024-02-21T03:39:20.806Z"
   },
   {
    "duration": 7,
    "start_time": "2024-02-21T03:39:20.845Z"
   },
   {
    "duration": 59,
    "start_time": "2024-02-21T03:39:20.853Z"
   },
   {
    "duration": 12,
    "start_time": "2024-02-21T03:39:20.914Z"
   },
   {
    "duration": 7,
    "start_time": "2024-02-21T03:39:20.928Z"
   },
   {
    "duration": 19,
    "start_time": "2024-02-21T03:39:20.937Z"
   },
   {
    "duration": 47,
    "start_time": "2024-02-21T03:39:20.957Z"
   },
   {
    "duration": 3,
    "start_time": "2024-02-21T03:39:21.006Z"
   },
   {
    "duration": 792,
    "start_time": "2024-02-21T03:39:21.011Z"
   },
   {
    "duration": 18,
    "start_time": "2024-02-21T03:39:21.804Z"
   },
   {
    "duration": 297,
    "start_time": "2024-02-21T03:39:21.824Z"
   },
   {
    "duration": 264,
    "start_time": "2024-02-21T03:39:22.123Z"
   },
   {
    "duration": 12,
    "start_time": "2024-02-21T03:39:22.388Z"
   },
   {
    "duration": 6,
    "start_time": "2024-02-21T03:39:22.401Z"
   },
   {
    "duration": 833,
    "start_time": "2024-02-21T03:39:22.408Z"
   },
   {
    "duration": 31,
    "start_time": "2024-02-21T03:39:23.245Z"
   },
   {
    "duration": 2,
    "start_time": "2024-02-21T03:39:23.278Z"
   },
   {
    "duration": 33,
    "start_time": "2024-02-21T03:39:23.282Z"
   },
   {
    "duration": 13,
    "start_time": "2024-02-21T03:39:23.316Z"
   },
   {
    "duration": 5,
    "start_time": "2024-02-21T03:39:23.331Z"
   },
   {
    "duration": 98,
    "start_time": "2024-02-21T03:39:23.337Z"
   },
   {
    "duration": 40,
    "start_time": "2024-02-21T03:39:23.437Z"
   },
   {
    "duration": 1699,
    "start_time": "2024-02-21T03:39:23.479Z"
   },
   {
    "duration": 0,
    "start_time": "2024-02-21T03:39:25.181Z"
   },
   {
    "duration": 0,
    "start_time": "2024-02-21T03:39:25.182Z"
   },
   {
    "duration": 0,
    "start_time": "2024-02-21T03:39:25.184Z"
   },
   {
    "duration": 0,
    "start_time": "2024-02-21T03:39:25.185Z"
   },
   {
    "duration": 0,
    "start_time": "2024-02-21T03:39:25.187Z"
   },
   {
    "duration": 0,
    "start_time": "2024-02-21T03:39:25.188Z"
   },
   {
    "duration": 0,
    "start_time": "2024-02-21T03:39:25.189Z"
   },
   {
    "duration": 0,
    "start_time": "2024-02-21T03:39:25.190Z"
   },
   {
    "duration": 0,
    "start_time": "2024-02-21T03:39:25.191Z"
   },
   {
    "duration": 0,
    "start_time": "2024-02-21T03:39:25.192Z"
   },
   {
    "duration": 0,
    "start_time": "2024-02-21T03:39:25.194Z"
   },
   {
    "duration": 0,
    "start_time": "2024-02-21T03:39:25.195Z"
   },
   {
    "duration": 0,
    "start_time": "2024-02-21T03:39:25.196Z"
   },
   {
    "duration": 0,
    "start_time": "2024-02-21T03:39:25.197Z"
   },
   {
    "duration": 0,
    "start_time": "2024-02-21T03:39:25.198Z"
   },
   {
    "duration": 0,
    "start_time": "2024-02-21T03:39:25.199Z"
   },
   {
    "duration": 0,
    "start_time": "2024-02-21T03:39:25.200Z"
   },
   {
    "duration": 0,
    "start_time": "2024-02-21T03:39:25.202Z"
   },
   {
    "duration": 0,
    "start_time": "2024-02-21T03:39:25.203Z"
   },
   {
    "duration": 0,
    "start_time": "2024-02-21T03:39:25.204Z"
   },
   {
    "duration": 0,
    "start_time": "2024-02-21T03:39:25.205Z"
   },
   {
    "duration": 0,
    "start_time": "2024-02-21T03:39:25.206Z"
   },
   {
    "duration": 0,
    "start_time": "2024-02-21T03:39:25.207Z"
   },
   {
    "duration": 0,
    "start_time": "2024-02-21T03:39:25.208Z"
   },
   {
    "duration": 0,
    "start_time": "2024-02-21T03:39:25.210Z"
   },
   {
    "duration": 0,
    "start_time": "2024-02-21T03:39:25.211Z"
   },
   {
    "duration": 0,
    "start_time": "2024-02-21T03:39:25.212Z"
   },
   {
    "duration": 0,
    "start_time": "2024-02-21T03:39:25.213Z"
   },
   {
    "duration": 0,
    "start_time": "2024-02-21T03:39:25.214Z"
   },
   {
    "duration": 0,
    "start_time": "2024-02-21T03:39:25.215Z"
   },
   {
    "duration": 0,
    "start_time": "2024-02-21T03:39:25.216Z"
   },
   {
    "duration": 0,
    "start_time": "2024-02-21T03:39:25.217Z"
   },
   {
    "duration": 0,
    "start_time": "2024-02-21T03:39:25.218Z"
   },
   {
    "duration": 0,
    "start_time": "2024-02-21T03:39:25.219Z"
   },
   {
    "duration": 0,
    "start_time": "2024-02-21T03:39:25.219Z"
   },
   {
    "duration": 0,
    "start_time": "2024-02-21T03:39:25.221Z"
   },
   {
    "duration": 0,
    "start_time": "2024-02-21T03:39:25.274Z"
   },
   {
    "duration": 0,
    "start_time": "2024-02-21T03:39:25.275Z"
   },
   {
    "duration": 0,
    "start_time": "2024-02-21T03:39:25.276Z"
   },
   {
    "duration": 0,
    "start_time": "2024-02-21T03:39:25.277Z"
   },
   {
    "duration": 0,
    "start_time": "2024-02-21T03:39:25.278Z"
   },
   {
    "duration": 0,
    "start_time": "2024-02-21T03:39:25.279Z"
   },
   {
    "duration": 0,
    "start_time": "2024-02-21T03:39:25.280Z"
   },
   {
    "duration": 0,
    "start_time": "2024-02-21T03:39:25.282Z"
   },
   {
    "duration": 0,
    "start_time": "2024-02-21T03:39:25.283Z"
   },
   {
    "duration": 0,
    "start_time": "2024-02-21T03:39:25.284Z"
   },
   {
    "duration": 0,
    "start_time": "2024-02-21T03:39:25.285Z"
   },
   {
    "duration": 0,
    "start_time": "2024-02-21T03:39:25.285Z"
   },
   {
    "duration": 0,
    "start_time": "2024-02-21T03:39:25.287Z"
   },
   {
    "duration": 0,
    "start_time": "2024-02-21T03:39:25.288Z"
   },
   {
    "duration": 0,
    "start_time": "2024-02-21T03:39:25.289Z"
   },
   {
    "duration": 0,
    "start_time": "2024-02-21T03:39:25.290Z"
   },
   {
    "duration": 15,
    "start_time": "2024-02-21T03:41:17.797Z"
   },
   {
    "duration": 844,
    "start_time": "2024-02-21T03:42:12.247Z"
   },
   {
    "duration": 4,
    "start_time": "2024-02-21T03:42:21.717Z"
   },
   {
    "duration": 56,
    "start_time": "2024-02-21T08:20:19.904Z"
   },
   {
    "duration": 1397,
    "start_time": "2024-02-21T08:20:27.622Z"
   },
   {
    "duration": 115,
    "start_time": "2024-02-21T08:20:29.027Z"
   },
   {
    "duration": 259,
    "start_time": "2024-02-21T08:20:29.143Z"
   },
   {
    "duration": 5,
    "start_time": "2024-02-21T08:20:29.418Z"
   },
   {
    "duration": 53,
    "start_time": "2024-02-21T08:20:29.428Z"
   },
   {
    "duration": 32,
    "start_time": "2024-02-21T08:20:29.483Z"
   },
   {
    "duration": 23,
    "start_time": "2024-02-21T08:20:29.516Z"
   },
   {
    "duration": 22,
    "start_time": "2024-02-21T08:20:29.540Z"
   },
   {
    "duration": 7,
    "start_time": "2024-02-21T08:20:29.564Z"
   },
   {
    "duration": 51,
    "start_time": "2024-02-21T08:20:29.574Z"
   },
   {
    "duration": 5,
    "start_time": "2024-02-21T08:20:29.627Z"
   },
   {
    "duration": 35,
    "start_time": "2024-02-21T08:20:29.634Z"
   },
   {
    "duration": 32,
    "start_time": "2024-02-21T08:20:29.670Z"
   },
   {
    "duration": 31,
    "start_time": "2024-02-21T08:20:29.704Z"
   },
   {
    "duration": 64,
    "start_time": "2024-02-21T08:20:29.736Z"
   },
   {
    "duration": 26,
    "start_time": "2024-02-21T08:20:29.802Z"
   },
   {
    "duration": 69,
    "start_time": "2024-02-21T08:20:29.830Z"
   },
   {
    "duration": 25,
    "start_time": "2024-02-21T08:20:29.901Z"
   },
   {
    "duration": 42,
    "start_time": "2024-02-21T08:20:29.928Z"
   },
   {
    "duration": 3,
    "start_time": "2024-02-21T08:20:29.972Z"
   },
   {
    "duration": 811,
    "start_time": "2024-02-21T08:20:29.976Z"
   },
   {
    "duration": 24,
    "start_time": "2024-02-21T08:20:30.789Z"
   },
   {
    "duration": 526,
    "start_time": "2024-02-21T08:20:30.814Z"
   },
   {
    "duration": 303,
    "start_time": "2024-02-21T08:20:31.342Z"
   },
   {
    "duration": 12,
    "start_time": "2024-02-21T08:20:31.647Z"
   },
   {
    "duration": 19,
    "start_time": "2024-02-21T08:20:31.661Z"
   },
   {
    "duration": 872,
    "start_time": "2024-02-21T08:20:31.681Z"
   },
   {
    "duration": 26,
    "start_time": "2024-02-21T08:20:32.556Z"
   },
   {
    "duration": 29,
    "start_time": "2024-02-21T08:20:32.583Z"
   },
   {
    "duration": 58,
    "start_time": "2024-02-21T08:20:32.614Z"
   },
   {
    "duration": 74,
    "start_time": "2024-02-21T08:20:32.674Z"
   },
   {
    "duration": 31,
    "start_time": "2024-02-21T08:20:32.750Z"
   },
   {
    "duration": 107,
    "start_time": "2024-02-21T08:20:32.783Z"
   },
   {
    "duration": 38,
    "start_time": "2024-02-21T08:20:32.891Z"
   },
   {
    "duration": 85,
    "start_time": "2024-02-21T08:20:38.825Z"
   },
   {
    "duration": 1649,
    "start_time": "2024-02-21T08:20:39.574Z"
   },
   {
    "duration": 83,
    "start_time": "2024-02-21T08:20:52.964Z"
   },
   {
    "duration": 25,
    "start_time": "2024-02-21T08:20:53.749Z"
   },
   {
    "duration": 1655,
    "start_time": "2024-02-21T08:20:55.332Z"
   },
   {
    "duration": 11,
    "start_time": "2024-02-21T08:21:57.034Z"
   },
   {
    "duration": 15,
    "start_time": "2024-02-21T08:23:40.245Z"
   },
   {
    "duration": 34,
    "start_time": "2024-02-21T08:24:30.986Z"
   },
   {
    "duration": 13,
    "start_time": "2024-02-21T08:24:31.818Z"
   },
   {
    "duration": 21,
    "start_time": "2024-02-21T08:24:57.404Z"
   },
   {
    "duration": 14,
    "start_time": "2024-02-21T09:37:49.917Z"
   },
   {
    "duration": 10,
    "start_time": "2024-02-21T09:38:08.065Z"
   },
   {
    "duration": 10,
    "start_time": "2024-02-21T09:38:50.909Z"
   },
   {
    "duration": 10,
    "start_time": "2024-02-21T09:38:58.881Z"
   },
   {
    "duration": 10,
    "start_time": "2024-02-21T09:39:02.322Z"
   },
   {
    "duration": 8,
    "start_time": "2024-02-21T09:39:04.670Z"
   },
   {
    "duration": 9,
    "start_time": "2024-02-21T09:39:05.332Z"
   },
   {
    "duration": 229,
    "start_time": "2024-02-21T09:39:05.989Z"
   },
   {
    "duration": 116,
    "start_time": "2024-02-21T09:39:12.886Z"
   },
   {
    "duration": 116,
    "start_time": "2024-02-21T09:39:14.718Z"
   },
   {
    "duration": 128,
    "start_time": "2024-02-21T09:39:16.081Z"
   },
   {
    "duration": 130,
    "start_time": "2024-02-21T09:39:17.476Z"
   },
   {
    "duration": 6,
    "start_time": "2024-02-21T09:39:19.078Z"
   },
   {
    "duration": 5,
    "start_time": "2024-02-21T09:39:20.858Z"
   },
   {
    "duration": 4,
    "start_time": "2024-02-21T09:39:22.308Z"
   },
   {
    "duration": 66,
    "start_time": "2024-02-21T09:39:23.009Z"
   },
   {
    "duration": 4,
    "start_time": "2024-02-21T09:39:23.742Z"
   },
   {
    "duration": 67,
    "start_time": "2024-02-21T09:39:24.454Z"
   },
   {
    "duration": 9,
    "start_time": "2024-02-21T09:39:25.096Z"
   },
   {
    "duration": 7,
    "start_time": "2024-02-21T09:39:31.558Z"
   },
   {
    "duration": 19,
    "start_time": "2024-02-21T09:39:32.738Z"
   },
   {
    "duration": 31,
    "start_time": "2024-02-21T09:39:33.472Z"
   },
   {
    "duration": 6,
    "start_time": "2024-02-21T09:39:34.172Z"
   },
   {
    "duration": 12,
    "start_time": "2024-02-21T09:39:34.819Z"
   },
   {
    "duration": 3,
    "start_time": "2024-02-21T09:39:35.490Z"
   },
   {
    "duration": 327,
    "start_time": "2024-02-21T09:39:36.173Z"
   },
   {
    "duration": 4,
    "start_time": "2024-02-21T09:39:37.229Z"
   },
   {
    "duration": 753,
    "start_time": "2024-02-21T09:39:37.895Z"
   },
   {
    "duration": 39,
    "start_time": "2024-02-21T09:39:38.803Z"
   },
   {
    "duration": 162,
    "start_time": "2024-02-21T09:39:39.720Z"
   },
   {
    "duration": 10,
    "start_time": "2024-02-21T09:39:47.182Z"
   },
   {
    "duration": 10,
    "start_time": "2024-02-21T09:39:53.188Z"
   },
   {
    "duration": 15,
    "start_time": "2024-02-21T09:39:54.448Z"
   },
   {
    "duration": 14,
    "start_time": "2024-02-21T09:39:55.083Z"
   },
   {
    "duration": 10,
    "start_time": "2024-02-21T09:39:56.223Z"
   },
   {
    "duration": 1613,
    "start_time": "2024-02-21T09:39:56.783Z"
   },
   {
    "duration": 0,
    "start_time": "2024-02-21T09:39:58.398Z"
   },
   {
    "duration": 0,
    "start_time": "2024-02-21T09:39:58.399Z"
   },
   {
    "duration": 7,
    "start_time": "2024-02-21T09:42:01.171Z"
   },
   {
    "duration": 19,
    "start_time": "2024-02-21T09:48:00.698Z"
   },
   {
    "duration": 87,
    "start_time": "2024-02-21T10:21:37.745Z"
   },
   {
    "duration": 26,
    "start_time": "2024-02-21T10:22:06.437Z"
   },
   {
    "duration": 14,
    "start_time": "2024-02-21T10:22:34.051Z"
   },
   {
    "duration": 17,
    "start_time": "2024-02-21T10:22:34.802Z"
   },
   {
    "duration": 12,
    "start_time": "2024-02-21T10:22:38.004Z"
   },
   {
    "duration": 3,
    "start_time": "2024-02-21T10:22:44.853Z"
   },
   {
    "duration": 119,
    "start_time": "2024-02-21T10:22:44.858Z"
   },
   {
    "duration": 383,
    "start_time": "2024-02-21T10:22:44.979Z"
   },
   {
    "duration": 3,
    "start_time": "2024-02-21T10:22:45.363Z"
   },
   {
    "duration": 51,
    "start_time": "2024-02-21T10:22:45.369Z"
   },
   {
    "duration": 25,
    "start_time": "2024-02-21T10:22:45.422Z"
   },
   {
    "duration": 37,
    "start_time": "2024-02-21T10:22:45.449Z"
   },
   {
    "duration": 71,
    "start_time": "2024-02-21T10:22:45.487Z"
   },
   {
    "duration": 51,
    "start_time": "2024-02-21T10:22:45.559Z"
   },
   {
    "duration": 42,
    "start_time": "2024-02-21T10:22:45.615Z"
   },
   {
    "duration": 7,
    "start_time": "2024-02-21T10:22:45.660Z"
   },
   {
    "duration": 36,
    "start_time": "2024-02-21T10:22:45.669Z"
   },
   {
    "duration": 23,
    "start_time": "2024-02-21T10:22:45.708Z"
   },
   {
    "duration": 19,
    "start_time": "2024-02-21T10:22:45.733Z"
   },
   {
    "duration": 86,
    "start_time": "2024-02-21T10:22:45.754Z"
   },
   {
    "duration": 72,
    "start_time": "2024-02-21T10:22:45.842Z"
   },
   {
    "duration": 43,
    "start_time": "2024-02-21T10:22:45.916Z"
   },
   {
    "duration": 29,
    "start_time": "2024-02-21T10:22:45.961Z"
   },
   {
    "duration": 60,
    "start_time": "2024-02-21T10:22:45.992Z"
   },
   {
    "duration": 3,
    "start_time": "2024-02-21T10:22:46.053Z"
   },
   {
    "duration": 816,
    "start_time": "2024-02-21T10:22:46.058Z"
   },
   {
    "duration": 20,
    "start_time": "2024-02-21T10:22:46.876Z"
   },
   {
    "duration": 278,
    "start_time": "2024-02-21T10:22:46.898Z"
   },
   {
    "duration": 252,
    "start_time": "2024-02-21T10:22:47.178Z"
   },
   {
    "duration": 12,
    "start_time": "2024-02-21T10:22:47.431Z"
   },
   {
    "duration": 73,
    "start_time": "2024-02-21T10:22:47.444Z"
   },
   {
    "duration": 872,
    "start_time": "2024-02-21T10:22:47.519Z"
   },
   {
    "duration": 39,
    "start_time": "2024-02-21T10:22:48.393Z"
   },
   {
    "duration": 3,
    "start_time": "2024-02-21T10:22:48.435Z"
   },
   {
    "duration": 49,
    "start_time": "2024-02-21T10:22:48.440Z"
   },
   {
    "duration": 31,
    "start_time": "2024-02-21T10:22:48.491Z"
   },
   {
    "duration": 8,
    "start_time": "2024-02-21T10:22:48.525Z"
   },
   {
    "duration": 110,
    "start_time": "2024-02-21T10:22:48.534Z"
   },
   {
    "duration": 27,
    "start_time": "2024-02-21T10:22:48.646Z"
   },
   {
    "duration": 52,
    "start_time": "2024-02-21T10:22:48.675Z"
   },
   {
    "duration": 25,
    "start_time": "2024-02-21T10:22:48.729Z"
   },
   {
    "duration": 39,
    "start_time": "2024-02-21T10:22:48.755Z"
   },
   {
    "duration": 29,
    "start_time": "2024-02-21T10:22:48.801Z"
   },
   {
    "duration": 49,
    "start_time": "2024-02-21T10:22:48.832Z"
   },
   {
    "duration": 34,
    "start_time": "2024-02-21T10:22:48.883Z"
   },
   {
    "duration": 211,
    "start_time": "2024-02-21T10:22:48.918Z"
   },
   {
    "duration": 148,
    "start_time": "2024-02-21T10:22:49.131Z"
   },
   {
    "duration": 152,
    "start_time": "2024-02-21T10:22:49.281Z"
   },
   {
    "duration": 169,
    "start_time": "2024-02-21T10:22:49.435Z"
   },
   {
    "duration": 165,
    "start_time": "2024-02-21T10:22:49.606Z"
   },
   {
    "duration": 4,
    "start_time": "2024-02-21T10:22:49.773Z"
   },
   {
    "duration": 21,
    "start_time": "2024-02-21T10:22:49.779Z"
   },
   {
    "duration": 33,
    "start_time": "2024-02-21T10:22:49.803Z"
   },
   {
    "duration": 81,
    "start_time": "2024-02-21T10:22:49.838Z"
   },
   {
    "duration": 3,
    "start_time": "2024-02-21T10:22:49.921Z"
   },
   {
    "duration": 100,
    "start_time": "2024-02-21T10:22:49.925Z"
   },
   {
    "duration": 9,
    "start_time": "2024-02-21T10:22:50.027Z"
   },
   {
    "duration": 29,
    "start_time": "2024-02-21T10:22:50.037Z"
   },
   {
    "duration": 35,
    "start_time": "2024-02-21T10:22:50.067Z"
   },
   {
    "duration": 36,
    "start_time": "2024-02-21T10:22:50.111Z"
   },
   {
    "duration": 4,
    "start_time": "2024-02-21T10:22:50.149Z"
   },
   {
    "duration": 22,
    "start_time": "2024-02-21T10:22:50.155Z"
   },
   {
    "duration": 9,
    "start_time": "2024-02-21T10:22:50.178Z"
   },
   {
    "duration": 329,
    "start_time": "2024-02-21T10:22:50.188Z"
   },
   {
    "duration": 7,
    "start_time": "2024-02-21T10:22:50.518Z"
   },
   {
    "duration": 908,
    "start_time": "2024-02-21T10:22:50.526Z"
   },
   {
    "duration": 16,
    "start_time": "2024-02-21T10:22:51.436Z"
   },
   {
    "duration": 36,
    "start_time": "2024-02-21T10:22:51.454Z"
   },
   {
    "duration": 33,
    "start_time": "2024-02-21T10:22:51.491Z"
   },
   {
    "duration": 23,
    "start_time": "2024-02-21T10:22:51.526Z"
   },
   {
    "duration": 74,
    "start_time": "2024-02-21T10:22:51.550Z"
   },
   {
    "duration": 15,
    "start_time": "2024-02-21T10:22:51.626Z"
   },
   {
    "duration": 6,
    "start_time": "2024-02-21T10:22:51.642Z"
   },
   {
    "duration": 33,
    "start_time": "2024-02-21T10:22:51.650Z"
   },
   {
    "duration": 38,
    "start_time": "2024-02-21T10:22:51.684Z"
   },
   {
    "duration": 1993,
    "start_time": "2024-02-21T10:22:51.725Z"
   },
   {
    "duration": 0,
    "start_time": "2024-02-21T10:22:53.721Z"
   },
   {
    "duration": 0,
    "start_time": "2024-02-21T10:22:53.722Z"
   },
   {
    "duration": 0,
    "start_time": "2024-02-21T10:22:53.724Z"
   },
   {
    "duration": 0,
    "start_time": "2024-02-21T10:22:53.725Z"
   },
   {
    "duration": 0,
    "start_time": "2024-02-21T10:22:53.726Z"
   },
   {
    "duration": 0,
    "start_time": "2024-02-21T10:22:53.728Z"
   },
   {
    "duration": 0,
    "start_time": "2024-02-21T10:22:53.729Z"
   },
   {
    "duration": 0,
    "start_time": "2024-02-21T10:22:53.731Z"
   },
   {
    "duration": 0,
    "start_time": "2024-02-21T10:22:53.732Z"
   },
   {
    "duration": 0,
    "start_time": "2024-02-21T10:22:53.733Z"
   },
   {
    "duration": 0,
    "start_time": "2024-02-21T10:22:53.735Z"
   },
   {
    "duration": 0,
    "start_time": "2024-02-21T10:22:53.736Z"
   },
   {
    "duration": 0,
    "start_time": "2024-02-21T10:22:53.737Z"
   },
   {
    "duration": 0,
    "start_time": "2024-02-21T10:22:53.739Z"
   },
   {
    "duration": 0,
    "start_time": "2024-02-21T10:22:53.740Z"
   },
   {
    "duration": 0,
    "start_time": "2024-02-21T10:22:53.741Z"
   },
   {
    "duration": 0,
    "start_time": "2024-02-21T10:22:53.743Z"
   },
   {
    "duration": 0,
    "start_time": "2024-02-21T10:22:53.744Z"
   },
   {
    "duration": 0,
    "start_time": "2024-02-21T10:22:53.746Z"
   },
   {
    "duration": 21,
    "start_time": "2024-02-21T10:28:09.278Z"
   },
   {
    "duration": 10,
    "start_time": "2024-02-21T10:28:15.973Z"
   },
   {
    "duration": 15,
    "start_time": "2024-02-21T10:28:29.253Z"
   },
   {
    "duration": 7,
    "start_time": "2024-02-21T10:28:32.399Z"
   },
   {
    "duration": 10,
    "start_time": "2024-02-21T10:28:33.355Z"
   },
   {
    "duration": 17,
    "start_time": "2024-02-21T10:28:36.355Z"
   },
   {
    "duration": 12,
    "start_time": "2024-02-21T10:28:37.014Z"
   },
   {
    "duration": 1563,
    "start_time": "2024-02-21T10:28:37.669Z"
   },
   {
    "duration": 0,
    "start_time": "2024-02-21T10:28:39.235Z"
   },
   {
    "duration": 23,
    "start_time": "2024-02-21T10:28:42.361Z"
   },
   {
    "duration": 19,
    "start_time": "2024-02-21T10:28:42.919Z"
   },
   {
    "duration": 18,
    "start_time": "2024-02-21T10:28:43.500Z"
   },
   {
    "duration": 6,
    "start_time": "2024-02-21T10:28:44.211Z"
   },
   {
    "duration": 22,
    "start_time": "2024-02-21T10:28:45.358Z"
   },
   {
    "duration": 13,
    "start_time": "2024-02-21T10:28:45.915Z"
   },
   {
    "duration": 17,
    "start_time": "2024-02-21T10:28:46.477Z"
   },
   {
    "duration": 15,
    "start_time": "2024-02-21T10:28:47.136Z"
   },
   {
    "duration": 17,
    "start_time": "2024-02-21T10:28:50.509Z"
   },
   {
    "duration": 15,
    "start_time": "2024-02-21T10:28:51.068Z"
   },
   {
    "duration": 12,
    "start_time": "2024-02-21T10:28:51.654Z"
   },
   {
    "duration": 13,
    "start_time": "2024-02-21T10:28:52.827Z"
   },
   {
    "duration": 20,
    "start_time": "2024-02-21T10:28:53.388Z"
   },
   {
    "duration": 7,
    "start_time": "2024-02-21T10:28:53.936Z"
   },
   {
    "duration": 17,
    "start_time": "2024-02-21T10:28:54.526Z"
   },
   {
    "duration": 24,
    "start_time": "2024-02-21T10:33:05.966Z"
   },
   {
    "duration": 12,
    "start_time": "2024-02-21T10:33:19.819Z"
   },
   {
    "duration": 8,
    "start_time": "2024-02-21T10:33:21.350Z"
   },
   {
    "duration": 14,
    "start_time": "2024-02-21T10:33:22.982Z"
   },
   {
    "duration": 16,
    "start_time": "2024-02-21T10:33:26.281Z"
   },
   {
    "duration": 14,
    "start_time": "2024-02-21T10:33:26.893Z"
   },
   {
    "duration": 12,
    "start_time": "2024-02-21T10:33:27.485Z"
   },
   {
    "duration": 6,
    "start_time": "2024-02-21T10:33:28.052Z"
   },
   {
    "duration": 17,
    "start_time": "2024-02-21T10:33:29.122Z"
   },
   {
    "duration": 14,
    "start_time": "2024-02-21T10:33:29.698Z"
   },
   {
    "duration": 11,
    "start_time": "2024-02-21T10:33:30.278Z"
   },
   {
    "duration": 15,
    "start_time": "2024-02-21T10:33:30.886Z"
   },
   {
    "duration": 17,
    "start_time": "2024-02-21T10:33:33.554Z"
   },
   {
    "duration": 15,
    "start_time": "2024-02-21T10:33:34.147Z"
   },
   {
    "duration": 10,
    "start_time": "2024-02-21T10:33:34.746Z"
   },
   {
    "duration": 11,
    "start_time": "2024-02-21T10:33:35.974Z"
   },
   {
    "duration": 13,
    "start_time": "2024-02-21T10:33:36.600Z"
   },
   {
    "duration": 7,
    "start_time": "2024-02-21T10:33:37.171Z"
   },
   {
    "duration": 17,
    "start_time": "2024-02-21T10:33:37.792Z"
   },
   {
    "duration": 1281,
    "start_time": "2024-02-21T10:48:34.306Z"
   },
   {
    "duration": 53,
    "start_time": "2024-02-21T10:48:35.589Z"
   },
   {
    "duration": 413,
    "start_time": "2024-02-21T10:48:35.644Z"
   },
   {
    "duration": 3,
    "start_time": "2024-02-21T10:48:36.059Z"
   },
   {
    "duration": 13,
    "start_time": "2024-02-21T10:48:36.064Z"
   },
   {
    "duration": 27,
    "start_time": "2024-02-21T10:48:36.079Z"
   },
   {
    "duration": 40,
    "start_time": "2024-02-21T10:48:36.108Z"
   },
   {
    "duration": 42,
    "start_time": "2024-02-21T10:48:36.150Z"
   },
   {
    "duration": 30,
    "start_time": "2024-02-21T10:48:36.194Z"
   },
   {
    "duration": 41,
    "start_time": "2024-02-21T10:48:36.226Z"
   },
   {
    "duration": 13,
    "start_time": "2024-02-21T10:48:36.268Z"
   },
   {
    "duration": 19,
    "start_time": "2024-02-21T10:48:36.283Z"
   },
   {
    "duration": 38,
    "start_time": "2024-02-21T10:48:36.303Z"
   },
   {
    "duration": 25,
    "start_time": "2024-02-21T10:48:36.343Z"
   },
   {
    "duration": 109,
    "start_time": "2024-02-21T10:48:36.370Z"
   },
   {
    "duration": 19,
    "start_time": "2024-02-21T10:48:36.480Z"
   },
   {
    "duration": 35,
    "start_time": "2024-02-21T10:48:36.501Z"
   },
   {
    "duration": 27,
    "start_time": "2024-02-21T10:48:36.538Z"
   },
   {
    "duration": 53,
    "start_time": "2024-02-21T10:48:36.567Z"
   },
   {
    "duration": 4,
    "start_time": "2024-02-21T10:48:36.621Z"
   },
   {
    "duration": 751,
    "start_time": "2024-02-21T10:48:36.626Z"
   },
   {
    "duration": 22,
    "start_time": "2024-02-21T10:48:37.379Z"
   },
   {
    "duration": 279,
    "start_time": "2024-02-21T10:48:37.403Z"
   },
   {
    "duration": 259,
    "start_time": "2024-02-21T10:48:37.684Z"
   },
   {
    "duration": 12,
    "start_time": "2024-02-21T10:48:37.945Z"
   },
   {
    "duration": 25,
    "start_time": "2024-02-21T10:48:37.958Z"
   },
   {
    "duration": 805,
    "start_time": "2024-02-21T10:48:37.985Z"
   },
   {
    "duration": 27,
    "start_time": "2024-02-21T10:48:38.797Z"
   },
   {
    "duration": 4,
    "start_time": "2024-02-21T10:48:38.825Z"
   },
   {
    "duration": 49,
    "start_time": "2024-02-21T10:48:38.830Z"
   },
   {
    "duration": 26,
    "start_time": "2024-02-21T10:48:38.881Z"
   },
   {
    "duration": 9,
    "start_time": "2024-02-21T10:48:38.909Z"
   },
   {
    "duration": 122,
    "start_time": "2024-02-21T10:48:38.920Z"
   },
   {
    "duration": 28,
    "start_time": "2024-02-21T10:48:39.043Z"
   },
   {
    "duration": 22,
    "start_time": "2024-02-21T10:48:39.073Z"
   },
   {
    "duration": 25,
    "start_time": "2024-02-21T10:48:39.096Z"
   },
   {
    "duration": 36,
    "start_time": "2024-02-21T10:48:39.123Z"
   },
   {
    "duration": 12,
    "start_time": "2024-02-21T10:48:39.161Z"
   },
   {
    "duration": 38,
    "start_time": "2024-02-21T10:48:39.175Z"
   },
   {
    "duration": 39,
    "start_time": "2024-02-21T10:48:39.214Z"
   },
   {
    "duration": 172,
    "start_time": "2024-02-21T10:48:39.254Z"
   },
   {
    "duration": 145,
    "start_time": "2024-02-21T10:48:39.429Z"
   },
   {
    "duration": 143,
    "start_time": "2024-02-21T10:48:39.576Z"
   },
   {
    "duration": 153,
    "start_time": "2024-02-21T10:48:39.721Z"
   },
   {
    "duration": 160,
    "start_time": "2024-02-21T10:48:39.876Z"
   },
   {
    "duration": 5,
    "start_time": "2024-02-21T10:48:40.038Z"
   },
   {
    "duration": 30,
    "start_time": "2024-02-21T10:48:40.044Z"
   },
   {
    "duration": 28,
    "start_time": "2024-02-21T10:48:40.076Z"
   },
   {
    "duration": 109,
    "start_time": "2024-02-21T10:48:40.106Z"
   },
   {
    "duration": 3,
    "start_time": "2024-02-21T10:48:40.217Z"
   },
   {
    "duration": 81,
    "start_time": "2024-02-21T10:48:40.222Z"
   },
   {
    "duration": 9,
    "start_time": "2024-02-21T10:48:40.305Z"
   },
   {
    "duration": 25,
    "start_time": "2024-02-21T10:48:40.316Z"
   },
   {
    "duration": 21,
    "start_time": "2024-02-21T10:48:40.343Z"
   },
   {
    "duration": 37,
    "start_time": "2024-02-21T10:48:40.366Z"
   },
   {
    "duration": 6,
    "start_time": "2024-02-21T10:48:40.404Z"
   },
   {
    "duration": 13,
    "start_time": "2024-02-21T10:48:40.412Z"
   },
   {
    "duration": 7,
    "start_time": "2024-02-21T10:48:40.427Z"
   },
   {
    "duration": 351,
    "start_time": "2024-02-21T10:48:40.435Z"
   },
   {
    "duration": 5,
    "start_time": "2024-02-21T10:48:40.788Z"
   },
   {
    "duration": 974,
    "start_time": "2024-02-21T10:48:40.795Z"
   },
   {
    "duration": 64,
    "start_time": "2024-02-21T10:48:41.770Z"
   },
   {
    "duration": 150,
    "start_time": "2024-02-21T10:48:41.836Z"
   },
   {
    "duration": 10,
    "start_time": "2024-02-21T10:48:41.988Z"
   },
   {
    "duration": 53,
    "start_time": "2024-02-21T10:48:41.999Z"
   },
   {
    "duration": 62,
    "start_time": "2024-02-21T10:48:42.054Z"
   },
   {
    "duration": 22,
    "start_time": "2024-02-21T10:48:42.118Z"
   },
   {
    "duration": 10,
    "start_time": "2024-02-21T10:48:42.142Z"
   },
   {
    "duration": 44,
    "start_time": "2024-02-21T10:48:42.153Z"
   },
   {
    "duration": 26,
    "start_time": "2024-02-21T10:48:42.199Z"
   },
   {
    "duration": 25,
    "start_time": "2024-02-21T10:48:42.226Z"
   },
   {
    "duration": 16,
    "start_time": "2024-02-21T10:48:42.252Z"
   },
   {
    "duration": 12,
    "start_time": "2024-02-21T10:48:42.270Z"
   },
   {
    "duration": 15,
    "start_time": "2024-02-21T10:48:42.293Z"
   },
   {
    "duration": 21,
    "start_time": "2024-02-21T10:48:42.310Z"
   },
   {
    "duration": 13,
    "start_time": "2024-02-21T10:48:42.333Z"
   },
   {
    "duration": 17,
    "start_time": "2024-02-21T10:48:42.347Z"
   },
   {
    "duration": 32,
    "start_time": "2024-02-21T10:48:42.365Z"
   },
   {
    "duration": 24,
    "start_time": "2024-02-21T10:48:42.398Z"
   },
   {
    "duration": 18,
    "start_time": "2024-02-21T10:48:42.425Z"
   },
   {
    "duration": 15,
    "start_time": "2024-02-21T10:48:42.445Z"
   },
   {
    "duration": 38,
    "start_time": "2024-02-21T10:48:42.465Z"
   },
   {
    "duration": 34,
    "start_time": "2024-02-21T10:48:42.505Z"
   },
   {
    "duration": 14,
    "start_time": "2024-02-21T10:48:42.541Z"
   },
   {
    "duration": 19,
    "start_time": "2024-02-21T10:48:42.557Z"
   },
   {
    "duration": 17,
    "start_time": "2024-02-21T10:48:42.578Z"
   },
   {
    "duration": 24,
    "start_time": "2024-02-21T10:48:42.597Z"
   },
   {
    "duration": 27,
    "start_time": "2024-02-21T10:48:42.622Z"
   },
   {
    "duration": 20,
    "start_time": "2024-02-21T10:48:42.651Z"
   },
   {
    "duration": 364,
    "start_time": "2024-02-21T10:52:02.066Z"
   },
   {
    "duration": 286,
    "start_time": "2024-02-21T10:53:03.996Z"
   },
   {
    "duration": 276,
    "start_time": "2024-02-21T10:54:31.482Z"
   },
   {
    "duration": 291,
    "start_time": "2024-02-21T10:54:55.188Z"
   },
   {
    "duration": 376,
    "start_time": "2024-02-21T10:55:40.295Z"
   },
   {
    "duration": 1509,
    "start_time": "2024-02-21T10:57:11.822Z"
   },
   {
    "duration": 1532,
    "start_time": "2024-02-21T10:57:19.796Z"
   },
   {
    "duration": 6,
    "start_time": "2024-02-21T10:57:41.024Z"
   },
   {
    "duration": 80,
    "start_time": "2024-02-21T10:57:41.032Z"
   },
   {
    "duration": 187,
    "start_time": "2024-02-21T10:57:41.113Z"
   },
   {
    "duration": 3,
    "start_time": "2024-02-21T10:57:41.302Z"
   },
   {
    "duration": 11,
    "start_time": "2024-02-21T10:57:41.306Z"
   },
   {
    "duration": 10,
    "start_time": "2024-02-21T10:57:41.319Z"
   },
   {
    "duration": 25,
    "start_time": "2024-02-21T10:57:41.331Z"
   },
   {
    "duration": 41,
    "start_time": "2024-02-21T10:57:41.358Z"
   },
   {
    "duration": 7,
    "start_time": "2024-02-21T10:57:41.401Z"
   },
   {
    "duration": 32,
    "start_time": "2024-02-21T10:57:41.409Z"
   },
   {
    "duration": 7,
    "start_time": "2024-02-21T10:57:41.443Z"
   },
   {
    "duration": 19,
    "start_time": "2024-02-21T10:57:41.452Z"
   },
   {
    "duration": 32,
    "start_time": "2024-02-21T10:57:41.473Z"
   },
   {
    "duration": 32,
    "start_time": "2024-02-21T10:57:41.507Z"
   },
   {
    "duration": 56,
    "start_time": "2024-02-21T10:57:41.541Z"
   },
   {
    "duration": 16,
    "start_time": "2024-02-21T10:57:41.599Z"
   },
   {
    "duration": 34,
    "start_time": "2024-02-21T10:57:41.617Z"
   },
   {
    "duration": 21,
    "start_time": "2024-02-21T10:57:41.652Z"
   },
   {
    "duration": 50,
    "start_time": "2024-02-21T10:57:41.674Z"
   },
   {
    "duration": 4,
    "start_time": "2024-02-21T10:57:41.725Z"
   },
   {
    "duration": 663,
    "start_time": "2024-02-21T10:57:41.731Z"
   },
   {
    "duration": 17,
    "start_time": "2024-02-21T10:57:42.395Z"
   },
   {
    "duration": 394,
    "start_time": "2024-02-21T10:57:42.413Z"
   },
   {
    "duration": 288,
    "start_time": "2024-02-21T10:57:42.811Z"
   },
   {
    "duration": 16,
    "start_time": "2024-02-21T10:57:43.102Z"
   },
   {
    "duration": 18,
    "start_time": "2024-02-21T10:57:43.120Z"
   },
   {
    "duration": 863,
    "start_time": "2024-02-21T10:57:43.140Z"
   },
   {
    "duration": 27,
    "start_time": "2024-02-21T10:57:44.004Z"
   },
   {
    "duration": 6,
    "start_time": "2024-02-21T10:57:44.032Z"
   },
   {
    "duration": 46,
    "start_time": "2024-02-21T10:57:44.039Z"
   },
   {
    "duration": 32,
    "start_time": "2024-02-21T10:57:44.087Z"
   },
   {
    "duration": 29,
    "start_time": "2024-02-21T10:57:44.121Z"
   },
   {
    "duration": 113,
    "start_time": "2024-02-21T10:57:44.151Z"
   },
   {
    "duration": 30,
    "start_time": "2024-02-21T10:57:44.265Z"
   },
   {
    "duration": 46,
    "start_time": "2024-02-21T10:57:44.297Z"
   },
   {
    "duration": 50,
    "start_time": "2024-02-21T10:57:44.345Z"
   },
   {
    "duration": 10,
    "start_time": "2024-02-21T10:57:55.941Z"
   },
   {
    "duration": 11,
    "start_time": "2024-02-21T10:58:06.434Z"
   },
   {
    "duration": 9,
    "start_time": "2024-02-21T10:58:09.297Z"
   },
   {
    "duration": 9,
    "start_time": "2024-02-21T10:58:09.875Z"
   },
   {
    "duration": 9,
    "start_time": "2024-02-21T11:00:27.187Z"
   },
   {
    "duration": 9,
    "start_time": "2024-02-21T11:00:33.438Z"
   },
   {
    "duration": 8,
    "start_time": "2024-02-21T11:00:34.067Z"
   },
   {
    "duration": 20,
    "start_time": "2024-02-21T11:00:34.821Z"
   },
   {
    "duration": 8,
    "start_time": "2024-02-21T11:05:52.471Z"
   },
   {
    "duration": 19,
    "start_time": "2024-02-21T11:05:57.996Z"
   },
   {
    "duration": 8,
    "start_time": "2024-02-21T11:06:31.755Z"
   },
   {
    "duration": 8,
    "start_time": "2024-02-21T11:06:33.068Z"
   },
   {
    "duration": 9,
    "start_time": "2024-02-21T11:06:33.284Z"
   },
   {
    "duration": 17,
    "start_time": "2024-02-21T11:06:33.478Z"
   },
   {
    "duration": 17,
    "start_time": "2024-02-21T11:06:39.761Z"
   },
   {
    "duration": 13,
    "start_time": "2024-02-21T11:21:42.691Z"
   },
   {
    "duration": 9,
    "start_time": "2024-02-21T11:21:44.541Z"
   },
   {
    "duration": 10,
    "start_time": "2024-02-21T11:21:45.117Z"
   },
   {
    "duration": 24,
    "start_time": "2024-02-21T11:21:46.729Z"
   },
   {
    "duration": 17,
    "start_time": "2024-02-21T11:22:10.605Z"
   },
   {
    "duration": 17,
    "start_time": "2024-02-21T11:22:16.437Z"
   },
   {
    "duration": 24,
    "start_time": "2024-02-21T11:22:22.673Z"
   },
   {
    "duration": 21,
    "start_time": "2024-02-21T11:22:28.670Z"
   },
   {
    "duration": 5,
    "start_time": "2024-02-21T11:22:32.095Z"
   },
   {
    "duration": 4,
    "start_time": "2024-02-21T11:22:34.399Z"
   },
   {
    "duration": 6,
    "start_time": "2024-02-21T11:22:36.265Z"
   },
   {
    "duration": 77,
    "start_time": "2024-02-21T11:22:37.608Z"
   },
   {
    "duration": 3,
    "start_time": "2024-02-21T11:22:39.172Z"
   },
   {
    "duration": 73,
    "start_time": "2024-02-21T11:22:39.986Z"
   },
   {
    "duration": 10,
    "start_time": "2024-02-21T11:22:40.778Z"
   },
   {
    "duration": 6,
    "start_time": "2024-02-21T11:25:32.028Z"
   },
   {
    "duration": 7,
    "start_time": "2024-02-21T11:25:43.903Z"
   },
   {
    "duration": 5,
    "start_time": "2024-02-21T11:25:50.309Z"
   },
   {
    "duration": 73,
    "start_time": "2024-02-21T11:26:08.215Z"
   },
   {
    "duration": 3,
    "start_time": "2024-02-21T11:26:10.236Z"
   },
   {
    "duration": 78,
    "start_time": "2024-02-21T11:26:11.087Z"
   },
   {
    "duration": 9,
    "start_time": "2024-02-21T11:26:14.742Z"
   },
   {
    "duration": 4,
    "start_time": "2024-02-21T11:26:24.924Z"
   },
   {
    "duration": 82,
    "start_time": "2024-02-21T11:26:26.983Z"
   },
   {
    "duration": 9,
    "start_time": "2024-02-21T11:26:27.637Z"
   },
   {
    "duration": 5,
    "start_time": "2024-02-21T11:29:38.706Z"
   },
   {
    "duration": 73,
    "start_time": "2024-02-21T11:29:39.504Z"
   },
   {
    "duration": 3,
    "start_time": "2024-02-21T11:29:44.580Z"
   },
   {
    "duration": 70,
    "start_time": "2024-02-21T11:29:45.684Z"
   },
   {
    "duration": 3,
    "start_time": "2024-02-21T11:29:57.222Z"
   },
   {
    "duration": 117,
    "start_time": "2024-02-21T11:29:57.227Z"
   },
   {
    "duration": 923,
    "start_time": "2024-02-21T11:29:57.346Z"
   },
   {
    "duration": 3,
    "start_time": "2024-02-21T11:29:58.271Z"
   },
   {
    "duration": 32,
    "start_time": "2024-02-21T11:29:58.276Z"
   },
   {
    "duration": 34,
    "start_time": "2024-02-21T11:29:58.309Z"
   },
   {
    "duration": 49,
    "start_time": "2024-02-21T11:29:58.344Z"
   },
   {
    "duration": 19,
    "start_time": "2024-02-21T11:29:58.406Z"
   },
   {
    "duration": 31,
    "start_time": "2024-02-21T11:29:58.426Z"
   },
   {
    "duration": 39,
    "start_time": "2024-02-21T11:29:58.459Z"
   },
   {
    "duration": 9,
    "start_time": "2024-02-21T11:29:58.501Z"
   },
   {
    "duration": 32,
    "start_time": "2024-02-21T11:29:58.511Z"
   },
   {
    "duration": 10,
    "start_time": "2024-02-21T11:29:58.544Z"
   },
   {
    "duration": 27,
    "start_time": "2024-02-21T11:29:58.555Z"
   },
   {
    "duration": 57,
    "start_time": "2024-02-21T11:29:58.583Z"
   },
   {
    "duration": 11,
    "start_time": "2024-02-21T11:29:58.641Z"
   },
   {
    "duration": 32,
    "start_time": "2024-02-21T11:29:58.653Z"
   },
   {
    "duration": 10,
    "start_time": "2024-02-21T11:29:58.686Z"
   },
   {
    "duration": 49,
    "start_time": "2024-02-21T11:29:58.698Z"
   },
   {
    "duration": 2,
    "start_time": "2024-02-21T11:29:58.749Z"
   },
   {
    "duration": 818,
    "start_time": "2024-02-21T11:29:58.753Z"
   },
   {
    "duration": 18,
    "start_time": "2024-02-21T11:29:59.573Z"
   },
   {
    "duration": 297,
    "start_time": "2024-02-21T11:29:59.594Z"
   },
   {
    "duration": 289,
    "start_time": "2024-02-21T11:29:59.895Z"
   },
   {
    "duration": 22,
    "start_time": "2024-02-21T11:30:00.185Z"
   },
   {
    "duration": 137,
    "start_time": "2024-02-21T11:30:00.209Z"
   },
   {
    "duration": 1280,
    "start_time": "2024-02-21T11:30:00.347Z"
   },
   {
    "duration": 26,
    "start_time": "2024-02-21T11:30:01.629Z"
   },
   {
    "duration": 85,
    "start_time": "2024-02-21T11:30:01.658Z"
   },
   {
    "duration": 272,
    "start_time": "2024-02-21T11:30:01.745Z"
   },
   {
    "duration": 401,
    "start_time": "2024-02-21T11:30:02.019Z"
   },
   {
    "duration": 24,
    "start_time": "2024-02-21T11:30:02.422Z"
   },
   {
    "duration": 247,
    "start_time": "2024-02-21T11:30:02.448Z"
   },
   {
    "duration": 144,
    "start_time": "2024-02-21T11:30:02.697Z"
   },
   {
    "duration": 67,
    "start_time": "2024-02-21T11:30:02.842Z"
   },
   {
    "duration": 41,
    "start_time": "2024-02-21T11:30:02.910Z"
   },
   {
    "duration": 104,
    "start_time": "2024-02-21T11:30:02.952Z"
   },
   {
    "duration": 310,
    "start_time": "2024-02-21T11:30:03.057Z"
   },
   {
    "duration": 182,
    "start_time": "2024-02-21T11:30:03.369Z"
   },
   {
    "duration": 121,
    "start_time": "2024-02-21T11:30:03.553Z"
   },
   {
    "duration": 94,
    "start_time": "2024-02-21T11:30:03.676Z"
   },
   {
    "duration": 90,
    "start_time": "2024-02-21T11:30:03.771Z"
   },
   {
    "duration": 97,
    "start_time": "2024-02-21T11:30:03.862Z"
   },
   {
    "duration": 248,
    "start_time": "2024-02-21T11:30:03.961Z"
   },
   {
    "duration": 250,
    "start_time": "2024-02-21T11:30:04.211Z"
   },
   {
    "duration": 55,
    "start_time": "2024-02-21T11:30:04.464Z"
   },
   {
    "duration": 60,
    "start_time": "2024-02-21T11:30:04.520Z"
   },
   {
    "duration": 55,
    "start_time": "2024-02-21T11:30:04.582Z"
   },
   {
    "duration": 88,
    "start_time": "2024-02-21T11:30:04.641Z"
   },
   {
    "duration": 3,
    "start_time": "2024-02-21T11:30:04.730Z"
   },
   {
    "duration": 130,
    "start_time": "2024-02-21T11:30:04.734Z"
   },
   {
    "duration": 77,
    "start_time": "2024-02-21T11:30:19.430Z"
   },
   {
    "duration": 8,
    "start_time": "2024-02-21T11:30:20.113Z"
   },
   {
    "duration": 7,
    "start_time": "2024-02-21T11:30:43.049Z"
   },
   {
    "duration": 17,
    "start_time": "2024-02-21T11:30:44.274Z"
   },
   {
    "duration": 34,
    "start_time": "2024-02-21T11:30:44.891Z"
   },
   {
    "duration": 5,
    "start_time": "2024-02-21T11:30:45.522Z"
   },
   {
    "duration": 12,
    "start_time": "2024-02-21T11:30:46.148Z"
   },
   {
    "duration": 3,
    "start_time": "2024-02-21T11:30:46.984Z"
   },
   {
    "duration": 267,
    "start_time": "2024-02-21T11:30:47.642Z"
   },
   {
    "duration": 5,
    "start_time": "2024-02-21T11:30:48.340Z"
   },
   {
    "duration": 787,
    "start_time": "2024-02-21T11:30:49.070Z"
   },
   {
    "duration": 17,
    "start_time": "2024-02-21T11:30:50.023Z"
   },
   {
    "duration": 8,
    "start_time": "2024-02-21T11:30:50.861Z"
   },
   {
    "duration": 9,
    "start_time": "2024-02-21T11:30:57.363Z"
   },
   {
    "duration": 18,
    "start_time": "2024-02-21T11:31:04.087Z"
   },
   {
    "duration": 23,
    "start_time": "2024-02-21T11:31:05.599Z"
   },
   {
    "duration": 15,
    "start_time": "2024-02-21T11:31:06.319Z"
   },
   {
    "duration": 11,
    "start_time": "2024-02-21T11:31:18.501Z"
   },
   {
    "duration": 7,
    "start_time": "2024-02-21T11:31:19.725Z"
   },
   {
    "duration": 10,
    "start_time": "2024-02-21T11:31:21.012Z"
   },
   {
    "duration": 18,
    "start_time": "2024-02-21T11:31:23.528Z"
   },
   {
    "duration": 12,
    "start_time": "2024-02-21T11:31:25.051Z"
   },
   {
    "duration": 9,
    "start_time": "2024-02-21T11:31:26.258Z"
   },
   {
    "duration": 15,
    "start_time": "2024-02-21T11:31:27.621Z"
   },
   {
    "duration": 17,
    "start_time": "2024-02-21T11:32:10.288Z"
   },
   {
    "duration": 13,
    "start_time": "2024-02-21T11:32:11.251Z"
   },
   {
    "duration": 13,
    "start_time": "2024-02-21T11:32:12.571Z"
   },
   {
    "duration": 5,
    "start_time": "2024-02-21T11:32:13.194Z"
   },
   {
    "duration": 17,
    "start_time": "2024-02-21T11:32:14.379Z"
   },
   {
    "duration": 14,
    "start_time": "2024-02-21T11:32:15.508Z"
   },
   {
    "duration": 11,
    "start_time": "2024-02-21T11:32:21.131Z"
   },
   {
    "duration": 15,
    "start_time": "2024-02-21T11:32:23.778Z"
   },
   {
    "duration": 17,
    "start_time": "2024-02-21T11:32:31.252Z"
   },
   {
    "duration": 13,
    "start_time": "2024-02-21T11:32:31.829Z"
   },
   {
    "duration": 10,
    "start_time": "2024-02-21T11:32:32.996Z"
   },
   {
    "duration": 11,
    "start_time": "2024-02-21T11:32:34.408Z"
   },
   {
    "duration": 12,
    "start_time": "2024-02-21T11:32:35.035Z"
   },
   {
    "duration": 7,
    "start_time": "2024-02-21T11:32:35.647Z"
   },
   {
    "duration": 14,
    "start_time": "2024-02-21T11:32:36.273Z"
   },
   {
    "duration": 1147,
    "start_time": "2024-02-21T11:33:34.236Z"
   },
   {
    "duration": 62,
    "start_time": "2024-02-21T11:33:35.384Z"
   },
   {
    "duration": 352,
    "start_time": "2024-02-21T11:33:35.447Z"
   },
   {
    "duration": 3,
    "start_time": "2024-02-21T11:33:35.800Z"
   },
   {
    "duration": 12,
    "start_time": "2024-02-21T11:33:35.805Z"
   },
   {
    "duration": 17,
    "start_time": "2024-02-21T11:33:35.818Z"
   },
   {
    "duration": 46,
    "start_time": "2024-02-21T11:33:35.837Z"
   },
   {
    "duration": 39,
    "start_time": "2024-02-21T11:33:35.885Z"
   },
   {
    "duration": 5,
    "start_time": "2024-02-21T11:33:35.926Z"
   },
   {
    "duration": 25,
    "start_time": "2024-02-21T11:33:35.933Z"
   },
   {
    "duration": 6,
    "start_time": "2024-02-21T11:33:35.959Z"
   },
   {
    "duration": 21,
    "start_time": "2024-02-21T11:33:35.966Z"
   },
   {
    "duration": 18,
    "start_time": "2024-02-21T11:33:35.989Z"
   },
   {
    "duration": 18,
    "start_time": "2024-02-21T11:33:36.009Z"
   },
   {
    "duration": 42,
    "start_time": "2024-02-21T11:33:36.028Z"
   },
   {
    "duration": 10,
    "start_time": "2024-02-21T11:33:36.072Z"
   },
   {
    "duration": 10,
    "start_time": "2024-02-21T11:33:36.084Z"
   },
   {
    "duration": 17,
    "start_time": "2024-02-21T11:33:36.095Z"
   },
   {
    "duration": 60,
    "start_time": "2024-02-21T11:33:36.113Z"
   },
   {
    "duration": 3,
    "start_time": "2024-02-21T11:33:36.174Z"
   },
   {
    "duration": 681,
    "start_time": "2024-02-21T11:33:36.178Z"
   },
   {
    "duration": 15,
    "start_time": "2024-02-21T11:33:36.861Z"
   },
   {
    "duration": 297,
    "start_time": "2024-02-21T11:33:36.877Z"
   },
   {
    "duration": 263,
    "start_time": "2024-02-21T11:33:37.175Z"
   },
   {
    "duration": 12,
    "start_time": "2024-02-21T11:33:37.440Z"
   },
   {
    "duration": 7,
    "start_time": "2024-02-21T11:33:37.453Z"
   },
   {
    "duration": 718,
    "start_time": "2024-02-21T11:33:37.461Z"
   },
   {
    "duration": 36,
    "start_time": "2024-02-21T11:33:38.181Z"
   },
   {
    "duration": 3,
    "start_time": "2024-02-21T11:33:38.219Z"
   },
   {
    "duration": 31,
    "start_time": "2024-02-21T11:33:38.223Z"
   },
   {
    "duration": 12,
    "start_time": "2024-02-21T11:33:38.256Z"
   },
   {
    "duration": 25,
    "start_time": "2024-02-21T11:33:38.269Z"
   },
   {
    "duration": 102,
    "start_time": "2024-02-21T11:33:38.295Z"
   },
   {
    "duration": 25,
    "start_time": "2024-02-21T11:33:38.399Z"
   },
   {
    "duration": 12,
    "start_time": "2024-02-21T11:33:38.425Z"
   },
   {
    "duration": 44,
    "start_time": "2024-02-21T11:33:38.439Z"
   },
   {
    "duration": 62,
    "start_time": "2024-02-21T11:33:38.485Z"
   },
   {
    "duration": 37,
    "start_time": "2024-02-21T11:33:38.549Z"
   },
   {
    "duration": 22,
    "start_time": "2024-02-21T11:33:38.587Z"
   },
   {
    "duration": 111,
    "start_time": "2024-02-21T11:33:38.610Z"
   },
   {
    "duration": 171,
    "start_time": "2024-02-21T11:33:38.726Z"
   },
   {
    "duration": 15,
    "start_time": "2024-02-21T11:33:38.899Z"
   },
   {
    "duration": 22,
    "start_time": "2024-02-21T11:33:38.916Z"
   },
   {
    "duration": 29,
    "start_time": "2024-02-21T11:33:38.993Z"
   },
   {
    "duration": 76,
    "start_time": "2024-02-21T11:33:39.023Z"
   },
   {
    "duration": 5,
    "start_time": "2024-02-21T11:33:39.100Z"
   },
   {
    "duration": 23,
    "start_time": "2024-02-21T11:33:39.107Z"
   },
   {
    "duration": 7,
    "start_time": "2024-02-21T11:33:39.131Z"
   },
   {
    "duration": 82,
    "start_time": "2024-02-21T11:33:39.139Z"
   },
   {
    "duration": 2,
    "start_time": "2024-02-21T11:33:39.223Z"
   },
   {
    "duration": 87,
    "start_time": "2024-02-21T11:33:39.227Z"
   },
   {
    "duration": 8,
    "start_time": "2024-02-21T11:33:39.316Z"
   },
   {
    "duration": 8,
    "start_time": "2024-02-21T11:33:39.326Z"
   },
   {
    "duration": 22,
    "start_time": "2024-02-21T11:33:39.336Z"
   },
   {
    "duration": 36,
    "start_time": "2024-02-21T11:33:39.359Z"
   },
   {
    "duration": 4,
    "start_time": "2024-02-21T11:33:39.397Z"
   },
   {
    "duration": 32,
    "start_time": "2024-02-21T11:33:39.402Z"
   },
   {
    "duration": 9,
    "start_time": "2024-02-21T11:33:39.435Z"
   },
   {
    "duration": 351,
    "start_time": "2024-02-21T11:33:39.445Z"
   },
   {
    "duration": 4,
    "start_time": "2024-02-21T11:33:39.798Z"
   },
   {
    "duration": 804,
    "start_time": "2024-02-21T11:33:39.803Z"
   },
   {
    "duration": 39,
    "start_time": "2024-02-21T11:33:40.619Z"
   },
   {
    "duration": 7,
    "start_time": "2024-02-21T11:33:40.660Z"
   },
   {
    "duration": 13,
    "start_time": "2024-02-21T11:33:40.669Z"
   },
   {
    "duration": 27,
    "start_time": "2024-02-21T11:33:40.683Z"
   },
   {
    "duration": 16,
    "start_time": "2024-02-21T11:33:40.711Z"
   },
   {
    "duration": 18,
    "start_time": "2024-02-21T11:33:40.729Z"
   },
   {
    "duration": 9,
    "start_time": "2024-02-21T11:33:40.749Z"
   },
   {
    "duration": 47,
    "start_time": "2024-02-21T11:33:40.759Z"
   },
   {
    "duration": 12,
    "start_time": "2024-02-21T11:33:40.807Z"
   },
   {
    "duration": 19,
    "start_time": "2024-02-21T11:33:40.820Z"
   },
   {
    "duration": 10,
    "start_time": "2024-02-21T11:33:40.840Z"
   },
   {
    "duration": 8,
    "start_time": "2024-02-21T11:33:40.852Z"
   },
   {
    "duration": 35,
    "start_time": "2024-02-21T11:33:40.862Z"
   },
   {
    "duration": 35,
    "start_time": "2024-02-21T11:33:40.899Z"
   },
   {
    "duration": 20,
    "start_time": "2024-02-21T11:33:40.936Z"
   },
   {
    "duration": 12,
    "start_time": "2024-02-21T11:33:40.958Z"
   },
   {
    "duration": 21,
    "start_time": "2024-02-21T11:33:40.971Z"
   },
   {
    "duration": 19,
    "start_time": "2024-02-21T11:33:40.993Z"
   },
   {
    "duration": 12,
    "start_time": "2024-02-21T11:33:41.014Z"
   },
   {
    "duration": 31,
    "start_time": "2024-02-21T11:33:41.027Z"
   },
   {
    "duration": 14,
    "start_time": "2024-02-21T11:33:41.059Z"
   },
   {
    "duration": 20,
    "start_time": "2024-02-21T11:33:41.074Z"
   },
   {
    "duration": 14,
    "start_time": "2024-02-21T11:33:41.096Z"
   },
   {
    "duration": 10,
    "start_time": "2024-02-21T11:33:41.111Z"
   },
   {
    "duration": 12,
    "start_time": "2024-02-21T11:33:41.123Z"
   },
   {
    "duration": 23,
    "start_time": "2024-02-21T11:33:41.137Z"
   },
   {
    "duration": 9,
    "start_time": "2024-02-21T11:33:41.161Z"
   },
   {
    "duration": 31,
    "start_time": "2024-02-21T11:33:41.171Z"
   },
   {
    "duration": 8,
    "start_time": "2024-02-21T12:25:02.835Z"
   },
   {
    "duration": 8,
    "start_time": "2024-02-21T12:25:04.834Z"
   },
   {
    "duration": 9,
    "start_time": "2024-02-21T12:25:05.379Z"
   },
   {
    "duration": 21,
    "start_time": "2024-02-21T12:25:05.900Z"
   },
   {
    "duration": 11,
    "start_time": "2024-02-21T12:26:09.191Z"
   },
   {
    "duration": 16,
    "start_time": "2024-02-21T12:26:14.679Z"
   },
   {
    "duration": 22,
    "start_time": "2024-02-21T12:26:19.742Z"
   },
   {
    "duration": 16,
    "start_time": "2024-02-21T12:26:29.366Z"
   },
   {
    "duration": 21,
    "start_time": "2024-02-21T12:26:41.776Z"
   },
   {
    "duration": 22,
    "start_time": "2024-02-21T12:26:53.990Z"
   },
   {
    "duration": 5,
    "start_time": "2024-02-21T12:27:02.672Z"
   },
   {
    "duration": 5,
    "start_time": "2024-02-21T12:27:04.988Z"
   },
   {
    "duration": 3,
    "start_time": "2024-02-21T12:27:06.839Z"
   },
   {
    "duration": 81,
    "start_time": "2024-02-21T12:27:08.741Z"
   },
   {
    "duration": 3,
    "start_time": "2024-02-21T12:27:09.611Z"
   },
   {
    "duration": 70,
    "start_time": "2024-02-21T12:27:10.431Z"
   },
   {
    "duration": 11,
    "start_time": "2024-02-21T12:27:11.247Z"
   },
   {
    "duration": 8,
    "start_time": "2024-02-21T12:27:19.741Z"
   },
   {
    "duration": 20,
    "start_time": "2024-02-21T12:27:21.445Z"
   },
   {
    "duration": 27,
    "start_time": "2024-02-21T12:27:22.848Z"
   },
   {
    "duration": 5,
    "start_time": "2024-02-21T12:27:24.351Z"
   },
   {
    "duration": 14,
    "start_time": "2024-02-21T12:27:25.525Z"
   },
   {
    "duration": 3,
    "start_time": "2024-02-21T12:27:30.216Z"
   },
   {
    "duration": 292,
    "start_time": "2024-02-21T12:27:31.122Z"
   },
   {
    "duration": 6,
    "start_time": "2024-02-21T12:27:32.159Z"
   },
   {
    "duration": 782,
    "start_time": "2024-02-21T12:27:33.068Z"
   },
   {
    "duration": 16,
    "start_time": "2024-02-21T12:27:34.149Z"
   },
   {
    "duration": 8,
    "start_time": "2024-02-21T12:27:35.635Z"
   },
   {
    "duration": 11,
    "start_time": "2024-02-21T12:27:38.620Z"
   },
   {
    "duration": 11,
    "start_time": "2024-02-21T12:27:41.677Z"
   },
   {
    "duration": 15,
    "start_time": "2024-02-21T12:27:43.117Z"
   },
   {
    "duration": 14,
    "start_time": "2024-02-21T12:27:43.802Z"
   },
   {
    "duration": 9,
    "start_time": "2024-02-21T12:27:45.315Z"
   },
   {
    "duration": 7,
    "start_time": "2024-02-21T12:27:46.051Z"
   },
   {
    "duration": 9,
    "start_time": "2024-02-21T12:27:46.936Z"
   },
   {
    "duration": 17,
    "start_time": "2024-02-21T12:27:47.976Z"
   },
   {
    "duration": 13,
    "start_time": "2024-02-21T12:27:49.563Z"
   },
   {
    "duration": 9,
    "start_time": "2024-02-21T12:27:50.560Z"
   },
   {
    "duration": 14,
    "start_time": "2024-02-21T12:27:52.636Z"
   },
   {
    "duration": 16,
    "start_time": "2024-02-21T12:27:57.062Z"
   },
   {
    "duration": 13,
    "start_time": "2024-02-21T12:27:58.064Z"
   },
   {
    "duration": 14,
    "start_time": "2024-02-21T12:27:58.934Z"
   },
   {
    "duration": 5,
    "start_time": "2024-02-21T12:27:59.612Z"
   },
   {
    "duration": 17,
    "start_time": "2024-02-21T12:28:17.599Z"
   },
   {
    "duration": 12,
    "start_time": "2024-02-21T12:28:18.282Z"
   },
   {
    "duration": 6,
    "start_time": "2024-02-21T12:29:15.095Z"
   },
   {
    "duration": 27,
    "start_time": "2024-02-21T12:29:21.937Z"
   },
   {
    "duration": 13,
    "start_time": "2024-02-21T12:29:22.583Z"
   },
   {
    "duration": 10,
    "start_time": "2024-02-21T12:29:24.057Z"
   },
   {
    "duration": 13,
    "start_time": "2024-02-21T12:29:44.903Z"
   },
   {
    "duration": 14,
    "start_time": "2024-02-21T12:30:24.437Z"
   },
   {
    "duration": 16,
    "start_time": "2024-02-21T12:30:33.185Z"
   },
   {
    "duration": 19,
    "start_time": "2024-02-21T12:30:33.671Z"
   },
   {
    "duration": 16,
    "start_time": "2024-02-21T12:30:35.058Z"
   },
   {
    "duration": 10,
    "start_time": "2024-02-21T12:30:58.144Z"
   },
   {
    "duration": 11,
    "start_time": "2024-02-21T12:31:00.068Z"
   },
   {
    "duration": 12,
    "start_time": "2024-02-21T12:31:00.514Z"
   },
   {
    "duration": 6,
    "start_time": "2024-02-21T12:31:00.980Z"
   },
   {
    "duration": 7,
    "start_time": "2024-02-21T12:31:18.486Z"
   },
   {
    "duration": 20,
    "start_time": "2024-02-21T12:31:21.532Z"
   },
   {
    "duration": 1189,
    "start_time": "2024-02-21T12:37:16.429Z"
   },
   {
    "duration": 88,
    "start_time": "2024-02-21T12:37:17.620Z"
   },
   {
    "duration": 301,
    "start_time": "2024-02-21T12:37:17.709Z"
   },
   {
    "duration": 3,
    "start_time": "2024-02-21T12:37:18.011Z"
   },
   {
    "duration": 22,
    "start_time": "2024-02-21T12:37:18.015Z"
   },
   {
    "duration": 33,
    "start_time": "2024-02-21T12:37:18.039Z"
   },
   {
    "duration": 39,
    "start_time": "2024-02-21T12:37:18.074Z"
   },
   {
    "duration": 25,
    "start_time": "2024-02-21T12:37:18.115Z"
   },
   {
    "duration": 10,
    "start_time": "2024-02-21T12:37:18.142Z"
   },
   {
    "duration": 27,
    "start_time": "2024-02-21T12:37:18.153Z"
   },
   {
    "duration": 15,
    "start_time": "2024-02-21T12:37:18.182Z"
   },
   {
    "duration": 20,
    "start_time": "2024-02-21T12:37:18.198Z"
   },
   {
    "duration": 10,
    "start_time": "2024-02-21T12:37:18.220Z"
   },
   {
    "duration": 6,
    "start_time": "2024-02-21T12:37:18.232Z"
   },
   {
    "duration": 43,
    "start_time": "2024-02-21T12:37:18.239Z"
   },
   {
    "duration": 11,
    "start_time": "2024-02-21T12:37:18.284Z"
   },
   {
    "duration": 17,
    "start_time": "2024-02-21T12:37:18.296Z"
   },
   {
    "duration": 5,
    "start_time": "2024-02-21T12:37:18.314Z"
   },
   {
    "duration": 46,
    "start_time": "2024-02-21T12:37:18.321Z"
   },
   {
    "duration": 3,
    "start_time": "2024-02-21T12:37:18.369Z"
   },
   {
    "duration": 777,
    "start_time": "2024-02-21T12:37:18.374Z"
   },
   {
    "duration": 16,
    "start_time": "2024-02-21T12:37:19.153Z"
   },
   {
    "duration": 290,
    "start_time": "2024-02-21T12:37:19.171Z"
   },
   {
    "duration": 269,
    "start_time": "2024-02-21T12:37:19.462Z"
   },
   {
    "duration": 11,
    "start_time": "2024-02-21T12:37:19.732Z"
   },
   {
    "duration": 29,
    "start_time": "2024-02-21T12:37:19.744Z"
   },
   {
    "duration": 780,
    "start_time": "2024-02-21T12:37:19.774Z"
   },
   {
    "duration": 26,
    "start_time": "2024-02-21T12:37:20.555Z"
   },
   {
    "duration": 21,
    "start_time": "2024-02-21T12:37:20.583Z"
   },
   {
    "duration": 43,
    "start_time": "2024-02-21T12:37:20.605Z"
   },
   {
    "duration": 58,
    "start_time": "2024-02-21T12:37:20.650Z"
   },
   {
    "duration": 60,
    "start_time": "2024-02-21T12:37:20.710Z"
   },
   {
    "duration": 155,
    "start_time": "2024-02-21T12:37:20.772Z"
   },
   {
    "duration": 25,
    "start_time": "2024-02-21T12:37:20.929Z"
   },
   {
    "duration": 24,
    "start_time": "2024-02-21T12:37:20.956Z"
   },
   {
    "duration": 49,
    "start_time": "2024-02-21T12:37:20.982Z"
   },
   {
    "duration": 39,
    "start_time": "2024-02-21T12:37:21.033Z"
   },
   {
    "duration": 38,
    "start_time": "2024-02-21T12:37:21.074Z"
   },
   {
    "duration": 44,
    "start_time": "2024-02-21T12:37:21.114Z"
   },
   {
    "duration": 40,
    "start_time": "2024-02-21T12:37:21.160Z"
   },
   {
    "duration": 197,
    "start_time": "2024-02-21T12:37:21.207Z"
   },
   {
    "duration": 21,
    "start_time": "2024-02-21T12:37:21.405Z"
   },
   {
    "duration": 67,
    "start_time": "2024-02-21T12:37:21.427Z"
   },
   {
    "duration": 20,
    "start_time": "2024-02-21T12:37:21.495Z"
   },
   {
    "duration": 32,
    "start_time": "2024-02-21T12:37:21.517Z"
   },
   {
    "duration": 46,
    "start_time": "2024-02-21T12:37:21.550Z"
   },
   {
    "duration": 49,
    "start_time": "2024-02-21T12:37:21.597Z"
   },
   {
    "duration": 33,
    "start_time": "2024-02-21T12:37:21.648Z"
   },
   {
    "duration": 106,
    "start_time": "2024-02-21T12:37:21.683Z"
   },
   {
    "duration": 3,
    "start_time": "2024-02-21T12:37:21.791Z"
   },
   {
    "duration": 93,
    "start_time": "2024-02-21T12:37:21.795Z"
   },
   {
    "duration": 9,
    "start_time": "2024-02-21T12:37:21.890Z"
   },
   {
    "duration": 50,
    "start_time": "2024-02-21T12:37:21.900Z"
   },
   {
    "duration": 100,
    "start_time": "2024-02-21T12:37:21.951Z"
   },
   {
    "duration": 45,
    "start_time": "2024-02-21T12:37:22.052Z"
   },
   {
    "duration": 14,
    "start_time": "2024-02-21T12:37:22.099Z"
   },
   {
    "duration": 35,
    "start_time": "2024-02-21T12:37:22.114Z"
   },
   {
    "duration": 37,
    "start_time": "2024-02-21T12:37:22.151Z"
   },
   {
    "duration": 401,
    "start_time": "2024-02-21T12:37:22.190Z"
   },
   {
    "duration": 4,
    "start_time": "2024-02-21T12:37:22.593Z"
   },
   {
    "duration": 853,
    "start_time": "2024-02-21T12:37:22.599Z"
   },
   {
    "duration": 45,
    "start_time": "2024-02-21T12:37:23.454Z"
   },
   {
    "duration": 9,
    "start_time": "2024-02-21T12:37:23.500Z"
   },
   {
    "duration": 29,
    "start_time": "2024-02-21T12:37:23.511Z"
   },
   {
    "duration": 13,
    "start_time": "2024-02-21T12:37:23.541Z"
   },
   {
    "duration": 16,
    "start_time": "2024-02-21T12:37:23.556Z"
   },
   {
    "duration": 23,
    "start_time": "2024-02-21T12:37:23.574Z"
   },
   {
    "duration": 10,
    "start_time": "2024-02-21T12:37:23.599Z"
   },
   {
    "duration": 20,
    "start_time": "2024-02-21T12:37:23.611Z"
   },
   {
    "duration": 32,
    "start_time": "2024-02-21T12:37:23.633Z"
   },
   {
    "duration": 28,
    "start_time": "2024-02-21T12:37:23.667Z"
   },
   {
    "duration": 11,
    "start_time": "2024-02-21T12:37:23.697Z"
   },
   {
    "duration": 12,
    "start_time": "2024-02-21T12:37:23.709Z"
   },
   {
    "duration": 30,
    "start_time": "2024-02-21T12:37:23.723Z"
   },
   {
    "duration": 40,
    "start_time": "2024-02-21T12:37:23.755Z"
   },
   {
    "duration": 12,
    "start_time": "2024-02-21T12:37:23.796Z"
   },
   {
    "duration": 19,
    "start_time": "2024-02-21T12:37:23.809Z"
   },
   {
    "duration": 9,
    "start_time": "2024-02-21T12:37:23.830Z"
   },
   {
    "duration": 24,
    "start_time": "2024-02-21T12:37:23.841Z"
   },
   {
    "duration": 27,
    "start_time": "2024-02-21T12:37:23.867Z"
   },
   {
    "duration": 12,
    "start_time": "2024-02-21T12:37:23.895Z"
   },
   {
    "duration": 13,
    "start_time": "2024-02-21T12:37:23.908Z"
   },
   {
    "duration": 15,
    "start_time": "2024-02-21T12:37:23.923Z"
   },
   {
    "duration": 32,
    "start_time": "2024-02-21T12:37:23.939Z"
   },
   {
    "duration": 63,
    "start_time": "2024-02-21T12:37:23.972Z"
   },
   {
    "duration": 29,
    "start_time": "2024-02-21T12:37:24.036Z"
   },
   {
    "duration": 19,
    "start_time": "2024-02-21T12:37:24.067Z"
   },
   {
    "duration": 19,
    "start_time": "2024-02-21T12:37:24.088Z"
   },
   {
    "duration": 15,
    "start_time": "2024-02-21T12:37:24.109Z"
   },
   {
    "duration": 1364,
    "start_time": "2024-02-22T05:06:11.421Z"
   },
   {
    "duration": 77,
    "start_time": "2024-02-22T05:06:12.787Z"
   },
   {
    "duration": 301,
    "start_time": "2024-02-22T05:06:12.865Z"
   },
   {
    "duration": 3,
    "start_time": "2024-02-22T05:06:13.167Z"
   },
   {
    "duration": 5,
    "start_time": "2024-02-22T05:06:13.172Z"
   },
   {
    "duration": 12,
    "start_time": "2024-02-22T05:06:13.179Z"
   },
   {
    "duration": 32,
    "start_time": "2024-02-22T05:06:13.192Z"
   },
   {
    "duration": 31,
    "start_time": "2024-02-22T05:06:13.226Z"
   },
   {
    "duration": 5,
    "start_time": "2024-02-22T05:06:13.258Z"
   },
   {
    "duration": 22,
    "start_time": "2024-02-22T05:06:13.265Z"
   },
   {
    "duration": 5,
    "start_time": "2024-02-22T05:06:13.289Z"
   },
   {
    "duration": 28,
    "start_time": "2024-02-22T05:06:13.295Z"
   },
   {
    "duration": 8,
    "start_time": "2024-02-22T05:06:13.325Z"
   },
   {
    "duration": 3,
    "start_time": "2024-02-22T05:06:13.336Z"
   },
   {
    "duration": 41,
    "start_time": "2024-02-22T05:06:13.340Z"
   },
   {
    "duration": 35,
    "start_time": "2024-02-22T05:06:13.383Z"
   },
   {
    "duration": 4,
    "start_time": "2024-02-22T05:06:13.420Z"
   },
   {
    "duration": 4,
    "start_time": "2024-02-22T05:06:13.426Z"
   },
   {
    "duration": 40,
    "start_time": "2024-02-22T05:06:13.432Z"
   },
   {
    "duration": 4,
    "start_time": "2024-02-22T05:06:13.473Z"
   },
   {
    "duration": 698,
    "start_time": "2024-02-22T05:06:13.478Z"
   },
   {
    "duration": 16,
    "start_time": "2024-02-22T05:06:14.177Z"
   },
   {
    "duration": 282,
    "start_time": "2024-02-22T05:06:14.194Z"
   },
   {
    "duration": 266,
    "start_time": "2024-02-22T05:06:14.477Z"
   },
   {
    "duration": 10,
    "start_time": "2024-02-22T05:06:14.745Z"
   },
   {
    "duration": 5,
    "start_time": "2024-02-22T05:06:14.757Z"
   },
   {
    "duration": 773,
    "start_time": "2024-02-22T05:06:14.763Z"
   },
   {
    "duration": 23,
    "start_time": "2024-02-22T05:06:15.538Z"
   },
   {
    "duration": 2,
    "start_time": "2024-02-22T05:06:15.563Z"
   },
   {
    "duration": 15,
    "start_time": "2024-02-22T05:06:15.567Z"
   },
   {
    "duration": 35,
    "start_time": "2024-02-22T05:06:15.583Z"
   },
   {
    "duration": 2,
    "start_time": "2024-02-22T05:06:15.621Z"
   },
   {
    "duration": 79,
    "start_time": "2024-02-22T05:06:15.625Z"
   },
   {
    "duration": 33,
    "start_time": "2024-02-22T05:06:15.705Z"
   },
   {
    "duration": 11,
    "start_time": "2024-02-22T05:06:15.739Z"
   },
   {
    "duration": 8,
    "start_time": "2024-02-22T05:06:15.752Z"
   },
   {
    "duration": 7,
    "start_time": "2024-02-22T05:06:15.762Z"
   },
   {
    "duration": 9,
    "start_time": "2024-02-22T05:06:15.771Z"
   },
   {
    "duration": 40,
    "start_time": "2024-02-22T05:06:15.782Z"
   },
   {
    "duration": 9,
    "start_time": "2024-02-22T05:06:15.824Z"
   },
   {
    "duration": 509,
    "start_time": "2024-02-22T05:06:15.837Z"
   },
   {
    "duration": 16,
    "start_time": "2024-02-22T05:06:16.347Z"
   },
   {
    "duration": 14,
    "start_time": "2024-02-22T05:06:16.364Z"
   },
   {
    "duration": 47,
    "start_time": "2024-02-22T05:06:16.380Z"
   },
   {
    "duration": 20,
    "start_time": "2024-02-22T05:06:16.428Z"
   },
   {
    "duration": 5,
    "start_time": "2024-02-22T05:06:16.450Z"
   },
   {
    "duration": 62,
    "start_time": "2024-02-22T05:06:16.456Z"
   },
   {
    "duration": 5,
    "start_time": "2024-02-22T05:06:16.519Z"
   },
   {
    "duration": 75,
    "start_time": "2024-02-22T05:06:16.525Z"
   },
   {
    "duration": 3,
    "start_time": "2024-02-22T05:06:16.618Z"
   },
   {
    "duration": 85,
    "start_time": "2024-02-22T05:06:16.622Z"
   },
   {
    "duration": 9,
    "start_time": "2024-02-22T05:06:16.708Z"
   },
   {
    "duration": 7,
    "start_time": "2024-02-22T05:06:16.718Z"
   },
   {
    "duration": 19,
    "start_time": "2024-02-22T05:06:16.726Z"
   },
   {
    "duration": 27,
    "start_time": "2024-02-22T05:06:16.747Z"
   },
   {
    "duration": 5,
    "start_time": "2024-02-22T05:06:16.775Z"
   },
   {
    "duration": 11,
    "start_time": "2024-02-22T05:06:16.781Z"
   },
   {
    "duration": 25,
    "start_time": "2024-02-22T05:06:16.794Z"
   },
   {
    "duration": 353,
    "start_time": "2024-02-22T05:06:16.820Z"
   },
   {
    "duration": 4,
    "start_time": "2024-02-22T05:06:17.175Z"
   },
   {
    "duration": 796,
    "start_time": "2024-02-22T05:06:17.181Z"
   },
   {
    "duration": 50,
    "start_time": "2024-02-22T05:06:17.979Z"
   },
   {
    "duration": 7,
    "start_time": "2024-02-22T05:06:18.030Z"
   },
   {
    "duration": 8,
    "start_time": "2024-02-22T05:06:18.039Z"
   },
   {
    "duration": 10,
    "start_time": "2024-02-22T05:06:18.048Z"
   },
   {
    "duration": 14,
    "start_time": "2024-02-22T05:06:18.059Z"
   },
   {
    "duration": 44,
    "start_time": "2024-02-22T05:06:18.075Z"
   },
   {
    "duration": 11,
    "start_time": "2024-02-22T05:06:18.120Z"
   },
   {
    "duration": 6,
    "start_time": "2024-02-22T05:06:18.132Z"
   },
   {
    "duration": 8,
    "start_time": "2024-02-22T05:06:18.140Z"
   },
   {
    "duration": 20,
    "start_time": "2024-02-22T05:06:18.149Z"
   },
   {
    "duration": 10,
    "start_time": "2024-02-22T05:06:18.170Z"
   },
   {
    "duration": 39,
    "start_time": "2024-02-22T05:06:18.181Z"
   },
   {
    "duration": 15,
    "start_time": "2024-02-22T05:06:18.221Z"
   },
   {
    "duration": 15,
    "start_time": "2024-02-22T05:06:18.237Z"
   },
   {
    "duration": 12,
    "start_time": "2024-02-22T05:06:18.253Z"
   },
   {
    "duration": 11,
    "start_time": "2024-02-22T05:06:18.266Z"
   },
   {
    "duration": 4,
    "start_time": "2024-02-22T05:06:18.278Z"
   },
   {
    "duration": 16,
    "start_time": "2024-02-22T05:06:18.318Z"
   },
   {
    "duration": 11,
    "start_time": "2024-02-22T05:06:18.336Z"
   },
   {
    "duration": 10,
    "start_time": "2024-02-22T05:06:18.348Z"
   },
   {
    "duration": 14,
    "start_time": "2024-02-22T05:06:18.360Z"
   },
   {
    "duration": 16,
    "start_time": "2024-02-22T05:06:18.375Z"
   },
   {
    "duration": 18,
    "start_time": "2024-02-22T05:06:18.418Z"
   },
   {
    "duration": 13,
    "start_time": "2024-02-22T05:06:18.437Z"
   },
   {
    "duration": 10,
    "start_time": "2024-02-22T05:06:18.451Z"
   },
   {
    "duration": 13,
    "start_time": "2024-02-22T05:06:18.462Z"
   },
   {
    "duration": 8,
    "start_time": "2024-02-22T05:06:18.477Z"
   },
   {
    "duration": 44,
    "start_time": "2024-02-22T05:06:18.486Z"
   },
   {
    "duration": 4,
    "start_time": "2024-02-22T05:22:45.401Z"
   },
   {
    "duration": 5,
    "start_time": "2024-02-22T05:22:53.603Z"
   },
   {
    "duration": 4,
    "start_time": "2024-02-22T05:23:01.490Z"
   },
   {
    "duration": 10,
    "start_time": "2024-02-22T05:23:05.863Z"
   },
   {
    "duration": 1239,
    "start_time": "2024-02-24T04:14:11.844Z"
   },
   {
    "duration": 63,
    "start_time": "2024-02-24T04:14:13.084Z"
   },
   {
    "duration": 154,
    "start_time": "2024-02-24T04:14:13.148Z"
   },
   {
    "duration": 3,
    "start_time": "2024-02-24T04:14:13.313Z"
   },
   {
    "duration": 6,
    "start_time": "2024-02-24T04:14:13.317Z"
   },
   {
    "duration": 14,
    "start_time": "2024-02-24T04:14:13.325Z"
   },
   {
    "duration": 15,
    "start_time": "2024-02-24T04:14:13.340Z"
   },
   {
    "duration": 17,
    "start_time": "2024-02-24T04:14:13.357Z"
   },
   {
    "duration": 4,
    "start_time": "2024-02-24T04:14:13.376Z"
   },
   {
    "duration": 49,
    "start_time": "2024-02-24T04:14:13.382Z"
   },
   {
    "duration": 5,
    "start_time": "2024-02-24T04:14:13.433Z"
   },
   {
    "duration": 12,
    "start_time": "2024-02-24T04:14:13.439Z"
   },
   {
    "duration": 30,
    "start_time": "2024-02-24T04:14:13.452Z"
   },
   {
    "duration": 6,
    "start_time": "2024-02-24T04:14:13.484Z"
   },
   {
    "duration": 78,
    "start_time": "2024-02-24T04:14:13.491Z"
   },
   {
    "duration": 8,
    "start_time": "2024-02-24T04:14:13.571Z"
   },
   {
    "duration": 5,
    "start_time": "2024-02-24T04:14:13.580Z"
   },
   {
    "duration": 7,
    "start_time": "2024-02-24T04:14:13.586Z"
   },
   {
    "duration": 62,
    "start_time": "2024-02-24T04:14:13.595Z"
   },
   {
    "duration": 3,
    "start_time": "2024-02-24T04:14:13.658Z"
   },
   {
    "duration": 705,
    "start_time": "2024-02-24T04:14:13.662Z"
   },
   {
    "duration": 14,
    "start_time": "2024-02-24T04:14:14.369Z"
   },
   {
    "duration": 279,
    "start_time": "2024-02-24T04:14:14.384Z"
   },
   {
    "duration": 275,
    "start_time": "2024-02-24T04:14:14.664Z"
   },
   {
    "duration": 11,
    "start_time": "2024-02-24T04:14:14.940Z"
   },
   {
    "duration": 7,
    "start_time": "2024-02-24T04:14:14.953Z"
   },
   {
    "duration": 768,
    "start_time": "2024-02-24T04:14:14.962Z"
   },
   {
    "duration": 24,
    "start_time": "2024-02-24T04:14:15.734Z"
   },
   {
    "duration": 2,
    "start_time": "2024-02-24T04:14:15.759Z"
   },
   {
    "duration": 27,
    "start_time": "2024-02-24T04:14:15.763Z"
   },
   {
    "duration": 27,
    "start_time": "2024-02-24T04:14:15.791Z"
   },
   {
    "duration": 14,
    "start_time": "2024-02-24T04:14:15.820Z"
   },
   {
    "duration": 97,
    "start_time": "2024-02-24T04:14:15.835Z"
   },
   {
    "duration": 28,
    "start_time": "2024-02-24T04:14:15.933Z"
   },
   {
    "duration": 19,
    "start_time": "2024-02-24T04:14:15.962Z"
   },
   {
    "duration": 35,
    "start_time": "2024-02-24T04:14:15.982Z"
   },
   {
    "duration": 21,
    "start_time": "2024-02-24T04:14:16.018Z"
   },
   {
    "duration": 35,
    "start_time": "2024-02-24T04:14:16.041Z"
   },
   {
    "duration": 41,
    "start_time": "2024-02-24T04:14:16.078Z"
   },
   {
    "duration": 17,
    "start_time": "2024-02-24T04:14:16.121Z"
   },
   {
    "duration": 508,
    "start_time": "2024-02-24T04:14:16.140Z"
   },
   {
    "duration": 14,
    "start_time": "2024-02-24T04:14:16.649Z"
   },
   {
    "duration": 18,
    "start_time": "2024-02-24T04:14:16.664Z"
   },
   {
    "duration": 43,
    "start_time": "2024-02-24T04:14:16.684Z"
   },
   {
    "duration": 17,
    "start_time": "2024-02-24T04:14:16.729Z"
   },
   {
    "duration": 77,
    "start_time": "2024-02-24T04:14:16.747Z"
   },
   {
    "duration": 20,
    "start_time": "2024-02-24T04:14:16.826Z"
   },
   {
    "duration": 18,
    "start_time": "2024-02-24T04:14:16.847Z"
   },
   {
    "duration": 53,
    "start_time": "2024-02-24T04:14:16.866Z"
   },
   {
    "duration": 8,
    "start_time": "2024-02-24T04:14:16.921Z"
   },
   {
    "duration": 19,
    "start_time": "2024-02-24T04:14:16.934Z"
   },
   {
    "duration": 73,
    "start_time": "2024-02-24T04:14:16.955Z"
   },
   {
    "duration": 30,
    "start_time": "2024-02-24T04:14:17.030Z"
   },
   {
    "duration": 116,
    "start_time": "2024-02-24T04:14:17.061Z"
   },
   {
    "duration": 16,
    "start_time": "2024-02-24T04:14:17.179Z"
   },
   {
    "duration": 15,
    "start_time": "2024-02-24T04:14:17.196Z"
   },
   {
    "duration": 213,
    "start_time": "2024-02-24T04:14:17.213Z"
   },
   {
    "duration": 5,
    "start_time": "2024-02-24T04:14:17.428Z"
   },
   {
    "duration": 433,
    "start_time": "2024-02-24T04:14:17.435Z"
   },
   {
    "duration": 24,
    "start_time": "2024-02-24T04:14:17.869Z"
   },
   {
    "duration": 19,
    "start_time": "2024-02-24T04:14:17.894Z"
   },
   {
    "duration": 18,
    "start_time": "2024-02-24T04:14:17.916Z"
   },
   {
    "duration": 14,
    "start_time": "2024-02-24T04:14:17.935Z"
   },
   {
    "duration": 12,
    "start_time": "2024-02-24T04:14:17.950Z"
   },
   {
    "duration": 10,
    "start_time": "2024-02-24T04:14:17.963Z"
   },
   {
    "duration": 47,
    "start_time": "2024-02-24T04:14:17.974Z"
   },
   {
    "duration": 12,
    "start_time": "2024-02-24T04:14:18.023Z"
   },
   {
    "duration": 18,
    "start_time": "2024-02-24T04:14:18.037Z"
   },
   {
    "duration": 9,
    "start_time": "2024-02-24T04:14:18.056Z"
   },
   {
    "duration": 8,
    "start_time": "2024-02-24T04:14:18.067Z"
   },
   {
    "duration": 15,
    "start_time": "2024-02-24T04:14:18.076Z"
   },
   {
    "duration": 33,
    "start_time": "2024-02-24T04:14:18.092Z"
   },
   {
    "duration": 15,
    "start_time": "2024-02-24T04:14:18.126Z"
   },
   {
    "duration": 13,
    "start_time": "2024-02-24T04:14:18.142Z"
   },
   {
    "duration": 12,
    "start_time": "2024-02-24T04:14:18.156Z"
   },
   {
    "duration": 11,
    "start_time": "2024-02-24T04:14:18.170Z"
   },
   {
    "duration": 31,
    "start_time": "2024-02-24T04:14:18.182Z"
   },
   {
    "duration": 20,
    "start_time": "2024-02-24T04:14:18.215Z"
   },
   {
    "duration": 8,
    "start_time": "2024-02-24T04:14:18.236Z"
   },
   {
    "duration": 15,
    "start_time": "2024-02-24T04:14:18.245Z"
   },
   {
    "duration": 24,
    "start_time": "2024-02-24T04:14:18.261Z"
   },
   {
    "duration": 17,
    "start_time": "2024-02-24T04:14:18.290Z"
   },
   {
    "duration": 24,
    "start_time": "2024-02-24T04:14:18.308Z"
   },
   {
    "duration": 15,
    "start_time": "2024-02-24T04:14:18.333Z"
   },
   {
    "duration": 14,
    "start_time": "2024-02-24T04:14:18.349Z"
   },
   {
    "duration": 20,
    "start_time": "2024-02-24T04:14:18.364Z"
   },
   {
    "duration": 35,
    "start_time": "2024-02-24T04:14:18.385Z"
   },
   {
    "duration": 8,
    "start_time": "2024-02-24T04:14:18.422Z"
   },
   {
    "duration": 16,
    "start_time": "2024-02-24T04:14:18.432Z"
   },
   {
    "duration": 1409,
    "start_time": "2024-02-24T07:57:37.119Z"
   },
   {
    "duration": 61,
    "start_time": "2024-02-24T07:57:38.530Z"
   },
   {
    "duration": 277,
    "start_time": "2024-02-24T07:57:38.592Z"
   },
   {
    "duration": 3,
    "start_time": "2024-02-24T07:57:38.870Z"
   },
   {
    "duration": 7,
    "start_time": "2024-02-24T07:57:38.876Z"
   },
   {
    "duration": 11,
    "start_time": "2024-02-24T07:57:38.884Z"
   },
   {
    "duration": 22,
    "start_time": "2024-02-24T07:57:38.896Z"
   },
   {
    "duration": 26,
    "start_time": "2024-02-24T07:57:38.920Z"
   },
   {
    "duration": 7,
    "start_time": "2024-02-24T07:57:38.947Z"
   },
   {
    "duration": 46,
    "start_time": "2024-02-24T07:57:38.955Z"
   },
   {
    "duration": 5,
    "start_time": "2024-02-24T07:57:39.003Z"
   },
   {
    "duration": 12,
    "start_time": "2024-02-24T07:57:39.010Z"
   },
   {
    "duration": 10,
    "start_time": "2024-02-24T07:57:39.024Z"
   },
   {
    "duration": 2,
    "start_time": "2024-02-24T07:57:39.038Z"
   },
   {
    "duration": 71,
    "start_time": "2024-02-24T07:57:39.042Z"
   },
   {
    "duration": 14,
    "start_time": "2024-02-24T07:57:39.114Z"
   },
   {
    "duration": 6,
    "start_time": "2024-02-24T07:57:39.129Z"
   },
   {
    "duration": 11,
    "start_time": "2024-02-24T07:57:39.136Z"
   },
   {
    "duration": 67,
    "start_time": "2024-02-24T07:57:39.149Z"
   },
   {
    "duration": 3,
    "start_time": "2024-02-24T07:57:39.217Z"
   },
   {
    "duration": 790,
    "start_time": "2024-02-24T07:57:39.222Z"
   },
   {
    "duration": 16,
    "start_time": "2024-02-24T07:57:40.013Z"
   },
   {
    "duration": 305,
    "start_time": "2024-02-24T07:57:40.031Z"
   },
   {
    "duration": 279,
    "start_time": "2024-02-24T07:57:40.338Z"
   },
   {
    "duration": 11,
    "start_time": "2024-02-24T07:57:40.619Z"
   },
   {
    "duration": 5,
    "start_time": "2024-02-24T07:57:40.632Z"
   },
   {
    "duration": 826,
    "start_time": "2024-02-24T07:57:40.638Z"
   },
   {
    "duration": 33,
    "start_time": "2024-02-24T07:57:41.465Z"
   },
   {
    "duration": 3,
    "start_time": "2024-02-24T07:57:41.499Z"
   },
   {
    "duration": 31,
    "start_time": "2024-02-24T07:57:41.503Z"
   },
   {
    "duration": 12,
    "start_time": "2024-02-24T07:57:41.536Z"
   },
   {
    "duration": 3,
    "start_time": "2024-02-24T07:57:41.549Z"
   },
   {
    "duration": 92,
    "start_time": "2024-02-24T07:57:41.553Z"
   },
   {
    "duration": 35,
    "start_time": "2024-02-24T07:57:41.647Z"
   },
   {
    "duration": 17,
    "start_time": "2024-02-24T07:57:41.685Z"
   },
   {
    "duration": 11,
    "start_time": "2024-02-24T07:57:41.703Z"
   },
   {
    "duration": 15,
    "start_time": "2024-02-24T07:57:41.716Z"
   },
   {
    "duration": 12,
    "start_time": "2024-02-24T07:57:41.732Z"
   },
   {
    "duration": 22,
    "start_time": "2024-02-24T07:57:41.745Z"
   },
   {
    "duration": 9,
    "start_time": "2024-02-24T07:57:41.782Z"
   },
   {
    "duration": 188,
    "start_time": "2024-02-24T07:57:41.795Z"
   },
   {
    "duration": 18,
    "start_time": "2024-02-24T07:57:41.984Z"
   },
   {
    "duration": 20,
    "start_time": "2024-02-24T07:57:42.003Z"
   },
   {
    "duration": 74,
    "start_time": "2024-02-24T07:57:42.024Z"
   },
   {
    "duration": 21,
    "start_time": "2024-02-24T07:57:42.099Z"
   },
   {
    "duration": 74,
    "start_time": "2024-02-24T07:57:42.122Z"
   },
   {
    "duration": 20,
    "start_time": "2024-02-24T07:57:42.197Z"
   },
   {
    "duration": 63,
    "start_time": "2024-02-24T07:57:42.219Z"
   },
   {
    "duration": 18,
    "start_time": "2024-02-24T07:57:42.284Z"
   },
   {
    "duration": 7,
    "start_time": "2024-02-24T07:57:42.303Z"
   },
   {
    "duration": 24,
    "start_time": "2024-02-24T07:57:42.311Z"
   },
   {
    "duration": 63,
    "start_time": "2024-02-24T07:57:42.342Z"
   },
   {
    "duration": 9,
    "start_time": "2024-02-24T07:57:42.407Z"
   },
   {
    "duration": 5,
    "start_time": "2024-02-24T07:57:42.418Z"
   },
   {
    "duration": 22,
    "start_time": "2024-02-24T07:57:42.425Z"
   },
   {
    "duration": 3,
    "start_time": "2024-02-24T07:57:42.449Z"
   },
   {
    "duration": 368,
    "start_time": "2024-02-24T07:57:42.454Z"
   },
   {
    "duration": 5,
    "start_time": "2024-02-24T07:57:42.824Z"
   },
   {
    "duration": 490,
    "start_time": "2024-02-24T07:57:42.831Z"
   },
   {
    "duration": 25,
    "start_time": "2024-02-24T07:57:43.323Z"
   },
   {
    "duration": 9,
    "start_time": "2024-02-24T07:57:43.349Z"
   },
   {
    "duration": 11,
    "start_time": "2024-02-24T07:57:43.381Z"
   },
   {
    "duration": 16,
    "start_time": "2024-02-24T07:57:43.393Z"
   },
   {
    "duration": 16,
    "start_time": "2024-02-24T07:57:43.410Z"
   },
   {
    "duration": 10,
    "start_time": "2024-02-24T07:57:43.428Z"
   },
   {
    "duration": 19,
    "start_time": "2024-02-24T07:57:43.440Z"
   },
   {
    "duration": 29,
    "start_time": "2024-02-24T07:57:43.461Z"
   },
   {
    "duration": 18,
    "start_time": "2024-02-24T07:57:43.492Z"
   },
   {
    "duration": 24,
    "start_time": "2024-02-24T07:57:43.512Z"
   },
   {
    "duration": 10,
    "start_time": "2024-02-24T07:57:43.538Z"
   },
   {
    "duration": 38,
    "start_time": "2024-02-24T07:57:43.549Z"
   },
   {
    "duration": 17,
    "start_time": "2024-02-24T07:57:43.588Z"
   },
   {
    "duration": 12,
    "start_time": "2024-02-24T07:57:43.607Z"
   },
   {
    "duration": 15,
    "start_time": "2024-02-24T07:57:43.621Z"
   },
   {
    "duration": 13,
    "start_time": "2024-02-24T07:57:43.637Z"
   },
   {
    "duration": 39,
    "start_time": "2024-02-24T07:57:43.652Z"
   },
   {
    "duration": 19,
    "start_time": "2024-02-24T07:57:43.692Z"
   },
   {
    "duration": 19,
    "start_time": "2024-02-24T07:57:43.713Z"
   },
   {
    "duration": 13,
    "start_time": "2024-02-24T07:57:43.734Z"
   },
   {
    "duration": 48,
    "start_time": "2024-02-24T07:57:43.749Z"
   },
   {
    "duration": 22,
    "start_time": "2024-02-24T07:57:43.798Z"
   },
   {
    "duration": 14,
    "start_time": "2024-02-24T07:57:43.822Z"
   },
   {
    "duration": 18,
    "start_time": "2024-02-24T07:57:43.838Z"
   },
   {
    "duration": 22,
    "start_time": "2024-02-24T07:57:43.883Z"
   },
   {
    "duration": 9,
    "start_time": "2024-02-24T07:57:43.907Z"
   },
   {
    "duration": 14,
    "start_time": "2024-02-24T07:57:43.918Z"
   },
   {
    "duration": 16,
    "start_time": "2024-02-24T07:57:43.933Z"
   },
   {
    "duration": 35,
    "start_time": "2024-02-24T07:57:43.950Z"
   },
   {
    "duration": 12,
    "start_time": "2024-02-24T07:57:43.987Z"
   }
  ],
  "kernelspec": {
   "display_name": "Python 3 (ipykernel)",
   "language": "python",
   "name": "python3"
  },
  "language_info": {
   "codemirror_mode": {
    "name": "ipython",
    "version": 3
   },
   "file_extension": ".py",
   "mimetype": "text/x-python",
   "name": "python",
   "nbconvert_exporter": "python",
   "pygments_lexer": "ipython3",
   "version": "3.10.9"
  },
  "toc": {
   "base_numbering": 1,
   "nav_menu": {},
   "number_sections": true,
   "sideBar": true,
   "skip_h1_title": true,
   "title_cell": "Table of Contents",
   "title_sidebar": "Contents",
   "toc_cell": false,
   "toc_position": {},
   "toc_section_display": true,
   "toc_window_display": false
  }
 },
 "nbformat": 4,
 "nbformat_minor": 5
}
